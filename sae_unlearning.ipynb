{
 "cells": [
  {
   "cell_type": "code",
   "execution_count": 1,
   "metadata": {},
   "outputs": [
    {
     "name": "stdout",
     "output_type": "stream",
     "text": [
      "/data/phillip_guo/mechanistic-unlearning\n"
     ]
    }
   ],
   "source": [
    "# from circuit_breaking.src import *\n",
    "%load_ext autoreload\n",
    "%autoreload 2\n",
    "import torch\n",
    "from functools import partial\n",
    "import matplotlib.pyplot as plt\n",
    "import numpy as np\n",
    "import os\n",
    "from tqdm.auto import tqdm\n",
    "print(os.getcwd())\n",
    "import sys\n",
    "from transformers import AutoTokenizer, AutoModelForCausalLM"
   ]
  },
  {
   "cell_type": "code",
   "execution_count": 2,
   "metadata": {},
   "outputs": [
    {
     "data": {
      "application/vnd.jupyter.widget-view+json": {
       "model_id": "0fed2082072a4921a5df3c2fdd3af83c",
       "version_major": 2,
       "version_minor": 0
      },
      "text/plain": [
       "Loading checkpoint shards:   0%|          | 0/8 [00:00<?, ?it/s]"
      ]
     },
     "metadata": {},
     "output_type": "display_data"
    }
   ],
   "source": [
    "model_name_or_path = \"google/gemma-2-9b\"\n",
    "model_type = \"gemma-2\"\n",
    "other_model_type = \"gemma2_9b\"\n",
    "pretrained_path = \"/data/huggingface/models--google--gemma-2-9b/snapshots/33c193028431c2fde6c6e51f29e6f17b60cbfac6/\"\n",
    "# pretrained_path = \"/data/huggingface/models--google--gemma-2-9b-it/snapshots/11c9b309abf73637e4b6f9a3fa1e92e615547819/\"\n",
    "\n",
    "\n",
    "tokenizer = AutoTokenizer.from_pretrained(model_name_or_path)\n",
    "tokenizer.pad_token_id = tokenizer.eos_token_id\n",
    "tokenizer.padding_side = \"right\"\n",
    "\n",
    "left_tokenizer = AutoTokenizer.from_pretrained(model_name_or_path)\n",
    "left_tokenizer.pad_token_id = left_tokenizer.eos_token_id\n",
    "left_tokenizer.padding_side = \"left\"\n",
    "\n",
    "if pretrained_path is not None:\n",
    "    model = AutoModelForCausalLM.from_pretrained(pretrained_path, torch_dtype=torch.bfloat16)\n",
    "else:\n",
    "    model = AutoModelForCausalLM.from_pretrained(model_name_or_path, torch_dtype=torch.bfloat16)\n",
    "model.cuda()\n",
    "n_layers = 42\n",
    "n_heads = 16\n",
    "n_kv_heads = 8\n",
    "\n",
    "param_count_dict = {\"attn.hook_q\": 3584*4096, \"attn.hook_k\": 3584*2048, \"attn.hook_v\": 3584*2048, \"attn.hook_result\": 4096*3584, \"mlp.hook_pre\": 3584 * 14336, \"mlp.hook_post\": 14336 * 3584, \"mlp.hook_gate\": 3584 * 14336}\n",
    "mmlu_batch_size = 2"
   ]
  },
  {
   "cell_type": "code",
   "execution_count": 3,
   "metadata": {},
   "outputs": [
    {
     "name": "stdout",
     "output_type": "stream",
     "text": [
      "Dataset({\n",
      "    features: ['answer', 'question', 'choices', 'prompt'],\n",
      "    num_rows: 1273\n",
      "})\n"
     ]
    }
   ],
   "source": [
    "from tasks.wmdp.WMDP_MCTask import WMDP_MCTask\n",
    "from tasks.wmdp.WMDP_RelearnTask import WMDP_RelearnTask\n",
    "batch_size = 16\n",
    "bio_mc_task = WMDP_MCTask(batch_size=batch_size, tokenizer=tokenizer, subset=\"wmdp-bio\", shuffle=True)\n",
    "print(bio_mc_task.dataset)"
   ]
  },
  {
   "cell_type": "code",
   "execution_count": 4,
   "metadata": {},
   "outputs": [
    {
     "name": "stdout",
     "output_type": "stream",
     "text": [
      "Accuracy for Gemma 2 9B: 72%\n"
     ]
    }
   ],
   "source": [
    "# acc = 0\n",
    "# n_iters = len(bio_mc_task.dataset) // batch_size\n",
    "# for i in tqdm(range(n_iters)):\n",
    "#     acc += bio_mc_task.get_test_accuracy(model)\n",
    "# acc /= n_iters\n",
    "# acc\n",
    "\n",
    "print(\"Accuracy for Gemma 2 9B: 72%\")\n"
   ]
  },
  {
   "cell_type": "markdown",
   "metadata": {},
   "source": [
    "## Find Relevant SAE Features"
   ]
  },
  {
   "cell_type": "code",
   "execution_count": 5,
   "metadata": {},
   "outputs": [
    {
     "data": {
      "text/html": [
       "<div>\n",
       "<style scoped>\n",
       "    .dataframe tbody tr th:only-of-type {\n",
       "        vertical-align: middle;\n",
       "    }\n",
       "\n",
       "    .dataframe tbody tr th {\n",
       "        vertical-align: top;\n",
       "    }\n",
       "\n",
       "    .dataframe thead th {\n",
       "        text-align: right;\n",
       "    }\n",
       "</style>\n",
       "<table border=\"1\" class=\"dataframe\">\n",
       "  <thead>\n",
       "    <tr style=\"text-align: right;\">\n",
       "      <th></th>\n",
       "      <th>title</th>\n",
       "      <th>abstract</th>\n",
       "      <th>text</th>\n",
       "      <th>doi</th>\n",
       "    </tr>\n",
       "  </thead>\n",
       "  <tbody>\n",
       "    <tr>\n",
       "      <th>0</th>\n",
       "      <td>Transmission potential and severity of COVID-1...</td>\n",
       "      <td>Highlights\\nCOVID-19 caused 6284 cases and 42 ...</td>\n",
       "      <td>Introduction\\nA novel coronavirus (SARS-CoV-2)...</td>\n",
       "      <td>10.1016/j.ijid.2020.03.031</td>\n",
       "    </tr>\n",
       "    <tr>\n",
       "      <th>1</th>\n",
       "      <td>Two Ligand-Binding Sites on SARS-CoV-2 Non-Str...</td>\n",
       "      <td>The regular reappearance of coronavirus (CoV) ...</td>\n",
       "      <td>1. Introduction\\nIn the past two decades, coro...</td>\n",
       "      <td>10.3390/ijms232012448</td>\n",
       "    </tr>\n",
       "    <tr>\n",
       "      <th>2</th>\n",
       "      <td>Protective Efficacy of Rhesus Adenovirus COVID...</td>\n",
       "      <td>The global COVID-19 pandemic has sparked inten...</td>\n",
       "      <td>INTRODUCTION\\nA critical component of the eval...</td>\n",
       "      <td>10.1128/JVI.00974-21</td>\n",
       "    </tr>\n",
       "    <tr>\n",
       "      <th>3</th>\n",
       "      <td>Hand hygiene during COVID-19: Recommendations ...</td>\n",
       "      <td>The recent COVID-19 pandemic has resulted in i...</td>\n",
       "      <td>Capsule Summary\\nHand hygiene is an accepted p...</td>\n",
       "      <td>10.1016/j.jaad.2020.07.057</td>\n",
       "    </tr>\n",
       "    <tr>\n",
       "      <th>4</th>\n",
       "      <td>Genome-wide CRISPR Screens Reveal Host Factors...</td>\n",
       "      <td>Identification of host genes essential for sev...</td>\n",
       "      <td>Introduction\\nSevere acute respiratory syndrom...</td>\n",
       "      <td>10.1016/j.cell.2020.10.028</td>\n",
       "    </tr>\n",
       "    <tr>\n",
       "      <th>...</th>\n",
       "      <td>...</td>\n",
       "      <td>...</td>\n",
       "      <td>...</td>\n",
       "      <td>...</td>\n",
       "    </tr>\n",
       "    <tr>\n",
       "      <th>24448</th>\n",
       "      <td>Serum reactome induced by Bordetella pertussis...</td>\n",
       "      <td>Background\\nPertussis (whooping cough) remains...</td>\n",
       "      <td>Background\\nPertussis (whooping cough) caused ...</td>\n",
       "      <td>10.1186/s12865-015-0090-3</td>\n",
       "    </tr>\n",
       "    <tr>\n",
       "      <th>24449</th>\n",
       "      <td>Asymptomatic transmission and the resurgence o...</td>\n",
       "      <td>Background\\nThe recent increase in whooping co...</td>\n",
       "      <td>Background\\nMany countries have seen a startli...</td>\n",
       "      <td>10.1186/s12916-015-0382-8</td>\n",
       "    </tr>\n",
       "    <tr>\n",
       "      <th>24450</th>\n",
       "      <td>Depletion of Regulatory T Cells Augments a Vac...</td>\n",
       "      <td>Regulatory T cells (Treg) have been shown to r...</td>\n",
       "      <td>Introduction\\nThe liver stage of malaria is an...</td>\n",
       "      <td>10.1371/journal.pone.0104627</td>\n",
       "    </tr>\n",
       "    <tr>\n",
       "      <th>24451</th>\n",
       "      <td>Global Population Structure and Evolution of B...</td>\n",
       "      <td>Bordetella pertussis causes pertussis, a respi...</td>\n",
       "      <td>INTRODUCTION\\nBordetella pertussis is the prim...</td>\n",
       "      <td>10.1128/mBio.01074-14</td>\n",
       "    </tr>\n",
       "    <tr>\n",
       "      <th>24452</th>\n",
       "      <td>Substantial gaps in knowledge of Bordetella pe...</td>\n",
       "      <td>The recent increase in whooping cough in vacci...</td>\n",
       "      <td>1. Introduction\\nBordetella pertussis, the cau...</td>\n",
       "      <td>10.1016/j.humimm.2014.02.013</td>\n",
       "    </tr>\n",
       "  </tbody>\n",
       "</table>\n",
       "<p>24453 rows × 4 columns</p>\n",
       "</div>"
      ],
      "text/plain": [
       "                                                   title  \\\n",
       "0      Transmission potential and severity of COVID-1...   \n",
       "1      Two Ligand-Binding Sites on SARS-CoV-2 Non-Str...   \n",
       "2      Protective Efficacy of Rhesus Adenovirus COVID...   \n",
       "3      Hand hygiene during COVID-19: Recommendations ...   \n",
       "4      Genome-wide CRISPR Screens Reveal Host Factors...   \n",
       "...                                                  ...   \n",
       "24448  Serum reactome induced by Bordetella pertussis...   \n",
       "24449  Asymptomatic transmission and the resurgence o...   \n",
       "24450  Depletion of Regulatory T Cells Augments a Vac...   \n",
       "24451  Global Population Structure and Evolution of B...   \n",
       "24452  Substantial gaps in knowledge of Bordetella pe...   \n",
       "\n",
       "                                                abstract  \\\n",
       "0      Highlights\\nCOVID-19 caused 6284 cases and 42 ...   \n",
       "1      The regular reappearance of coronavirus (CoV) ...   \n",
       "2      The global COVID-19 pandemic has sparked inten...   \n",
       "3      The recent COVID-19 pandemic has resulted in i...   \n",
       "4      Identification of host genes essential for sev...   \n",
       "...                                                  ...   \n",
       "24448  Background\\nPertussis (whooping cough) remains...   \n",
       "24449  Background\\nThe recent increase in whooping co...   \n",
       "24450  Regulatory T cells (Treg) have been shown to r...   \n",
       "24451  Bordetella pertussis causes pertussis, a respi...   \n",
       "24452  The recent increase in whooping cough in vacci...   \n",
       "\n",
       "                                                    text  \\\n",
       "0      Introduction\\nA novel coronavirus (SARS-CoV-2)...   \n",
       "1      1. Introduction\\nIn the past two decades, coro...   \n",
       "2      INTRODUCTION\\nA critical component of the eval...   \n",
       "3      Capsule Summary\\nHand hygiene is an accepted p...   \n",
       "4      Introduction\\nSevere acute respiratory syndrom...   \n",
       "...                                                  ...   \n",
       "24448  Background\\nPertussis (whooping cough) caused ...   \n",
       "24449  Background\\nMany countries have seen a startli...   \n",
       "24450  Introduction\\nThe liver stage of malaria is an...   \n",
       "24451  INTRODUCTION\\nBordetella pertussis is the prim...   \n",
       "24452  1. Introduction\\nBordetella pertussis, the cau...   \n",
       "\n",
       "                                doi  \n",
       "0        10.1016/j.ijid.2020.03.031  \n",
       "1             10.3390/ijms232012448  \n",
       "2              10.1128/JVI.00974-21  \n",
       "3        10.1016/j.jaad.2020.07.057  \n",
       "4        10.1016/j.cell.2020.10.028  \n",
       "...                             ...  \n",
       "24448     10.1186/s12865-015-0090-3  \n",
       "24449     10.1186/s12916-015-0382-8  \n",
       "24450  10.1371/journal.pone.0104627  \n",
       "24451         10.1128/mBio.01074-14  \n",
       "24452  10.1016/j.humimm.2014.02.013  \n",
       "\n",
       "[24453 rows x 4 columns]"
      ]
     },
     "metadata": {},
     "output_type": "display_data"
    },
    {
     "data": {
      "application/vnd.jupyter.widget-view+json": {
       "model_id": "5669eea1c84e466784a5505e4449b69e",
       "version_major": 2,
       "version_minor": 0
      },
      "text/plain": [
       "Resolving data files:   0%|          | 0/30 [00:00<?, ?it/s]"
      ]
     },
     "metadata": {},
     "output_type": "display_data"
    },
    {
     "data": {
      "application/vnd.jupyter.widget-view+json": {
       "model_id": "72292d6374e3456b867bd500ffbdf2ba",
       "version_major": 2,
       "version_minor": 0
      },
      "text/plain": [
       "Resolving data files:   0%|          | 0/30 [00:00<?, ?it/s]"
      ]
     },
     "metadata": {},
     "output_type": "display_data"
    },
    {
     "name": "stdout",
     "output_type": "stream",
     "text": [
      "No test dataset available. Using train dataset for testing.\n",
      "{'text': ['It is done, and submitted. You can play “Survival of the Tastiest” on Android, and on the web. Playing on the web works, but you have to simulate multi-touch for table moving and that can be a bit confusing.\\n\\nThere’s a lot I’d like to talk about. I’ll go through every topic, insted of making the typical what went right/wrong list.\\n\\nConcept\\n\\nWorking over the theme was probably one of the hardest tasks I had to face.\\n\\nOriginally, I had an idea of what kind of game I wanted to develop, gameplay wise – something with lots of enemies/actors, simple graphics, maybe set in space, controlled from a top-down view. I was confident I could fit any theme around it.\\n\\nIn the end, the problem with a theme like “Evolution” in a game is that evolution is unassisted. It happens through several seemingly random mutations over time, with the most apt permutation surviving. This genetic car simulator is, in my opinion, a great example of actual evolution of a species facing a challenge. But is it a game?\\n\\nIn a game, you need to control something to reach an objective. That control goes against what evolution is supposed to be like. If you allow the user to pick how to evolve something, it’s not evolution anymore – it’s the equivalent of intelligent design, the fable invented by creationists to combat the very idea of evolution. Being agnostic and a Pastafarian, that’s not something that rubbed me the right way.\\n\\nHence, my biggest dillema when deciding what to create was not with what I wanted to create, but with what I did not. I didn’t want to create an “intelligent design” simulator and wrongly call it evolution.\\n\\nThis is a problem, of course, every other contestant also had to face. And judging by the entries submitted, not many managed to work around it. I’d say the only real solution was through the use of artificial selection, somehow. So far, I haven’t seen any entry using this at its core gameplay.\\n\\nAlas, this is just a fun competition and after a while I decided not to be as strict with the game idea, and allowed myself to pick whatever I thought would work out.\\n\\nMy initial idea was to create something where humanity tried to evolve to a next level but had some kind of foe trying to stop them from doing so. I kind of had this image of human souls flying in space towards a monolith or a space baby (all based in 2001: A Space Odyssey of course) but I couldn’t think of compelling (read: serious) mechanics for that.\\n\\nBorgs were my next inspiration, as their whole hypothesis fit pretty well into the evolution theme. But how to make it work? Are you the borg, or fighting the Borg?\\n\\nThe third and final idea came to me through my girlfriend, who somehow gave me the idea of making something about the evolution of Pasta. The more I thought about it the more it sounded like it would work, so I decided to go with it.\\n\\nConversations with my inspiring co-worker Roushey (who also created the “Mechanical Underdogs” signature logo for my intros) further matured the concept, as it involved into the idea of having individual pieces of pasta flying around and trying to evolve until they became all-powerful. A secondary idea here was that the game would work to explain how the Flying Spaghetti Monster came to exist – by evolving from a normal dinner table.\\n\\nSo the idea evolved more or less into this: you are sitting a table. You have your own plate, with is your “base”. There are 5 other guests at the table, each with their own plate.\\n\\nYour plate can spawn little pieces of pasta. You do so by “ordering” them through a menu. Some pastas are better than others; some are faster, some are stronger. They have varying costs, which are debited from your credits (you start with a number of credits).\\n\\nOnce spawned, your pastas start flying around. Their instinct is to fly to other plates, in order to conquer them (the objective of the game is having your pasta conquer all the plates on the table). But they are really autonomous, so after being spawned, you have no control over your pasta (think DotA or LoL creeps).\\n\\nYour pasta doesn’t like other people’s pasta, so if they meet, they shoot sauce at each other until one dies. You get credits for other pastas your own pasta kill.\\n\\nOnce a pasta is in the vicinity of a plate, it starts conquering it for its team. It takes around 10 seconds for a plate to be conquered; less if more pasta from the same team are around. If pasta from other team are around, though, they get locked down in their attempt, unable to conquer the plate, until one of them die (think Battlefield’s standard “Conquest” mode).\\n\\nYou get points every second for every plate you own.\\n\\nOver time, the concept also evolved to use an Italian bistro as its main scenario.\\n\\nCarlos, Carlos’ Bistro’s founder and owner\\n\\nSetup\\n\\nNo major changes were made from my work setup. I used FDT and Starling creating an Adobe AIR (ActionScript) project, all tools or frameworks I already had some knowledge with.\\n\\nOne big change for me was that I livestreamed my work through a twitch.tv account. This was a new thing for me. As recommended by Roushey, I used a program called XSplit and I got to say, it is pretty amazing. It made the livestream pretty effortless and the features are awesome, even for the free version. It was great to have some of my friends watch me, and then interact with them and random people through chat. It was also good knowing that I was also recording a local version of the files, so I could make a timelapse video later.\\n\\nKnowing the video was being recorded also made me a lot more self-conscious about my computer use, as if someone was watching over my shoulder. It made me realize that sometimes I spend too much time in seemingly inane tasks (I ended up wasting the longest time just to get some text alignment the way I wanted – it’ll probably drive someone crazy if they watch it) and that I do way too many typos where writing code. I pretty much spend half of the time writing a line and the other half fixing the crazy characters in it.\\n\\nMy own stream was probably boring to watch since I was coding for the most time. But livestreaming is one of the cool things to do as a spectator too. It was great seeing other people working – I had a few tabs opened on my second monitor all the time. It’s actually a bit sad, because if I could, I could have spent the whole weekend just watching other people working! But I had to do my own work, so I’d only do it once in a while, when resting for a bit.\\n\\nDesign\\n\\nAlthough I wanted some simple, low-fi, high-contrast kind of design, I ended up going with somewhat realistic (vector) art. I think it worked very well, fitting the mood of the game, but I also went overboard.\\n\\nFor example: to know the state of a plate (who owns it, who’s conquering it and how much time they have left before conquering it, which pasta units are in the queue, etc), you have to look at the plate’s bill.\\n\\nThe problem I realized when doing some tests is that people never look at the bill! They think it’s some kind of prop, so they never actually read its details.\\n\\nPlus, if you’re zoomed out too much, you can’t actually read it, so it’s hard to know what’s going on with the game until you zoom in to the area of a specific plate.\\n\\nOne other solution that didn’t turn out to be as perfect as I thought was how to indicate who a plate base belongs to. In the game, that’s indicated by the plate’s decoration – its color denotes the team owner. But it’s something that fits so well into the design that people never realized it, until they were told about it.\\n\\nIn the end, the idea of going with a full physical metaphor is one that should be done with care. Things that are very important risk becoming background noise, unless the player knows its importance.\\n\\nOriginally, I wanted to avoid any kind of heads-up display in my game. In the end, I ended up adding it at the bottom to indicate your credits and bases owned, as well as the hideous out-of-place-and-still-not-obvious “Call Waiter” button. But in hindsight, I should have gone with a simple HUD from the start, especially one that indicated each team’s colors and general state of the game without the need for zooming in and out.\\n\\nDevelopment\\n\\nDevelopment went fast. But not fast enough.\\n\\nEven though I worked around 32+ hours for this Ludum Dare, the biggest problem I had to face in the end was overscoping. I had too much planned, and couldn’t get it all done.\\n\\nContent-wise, I had several kinds of pasta planned (Wikipedia is just amazing in that regard), split into several different groups, from small Pastina to huge Pasta al forno. But because of time constraints, I ended up scratching most of them, and ended up with 5 different types of very small pasta – barely something to start when talking about the evolution of Pasta.\\n\\nPastas used in the game. Unfortunately, the macs where never used\\n\\nWhich is one of the saddest things about the project, really. It had the framework and the features to allow an endless number of elements in there, but I just didn’t have time to draw the rest of the assets needed (something I loved to do, by the way).\\n\\nOther non-obvious features had to be dropped, too. For example, when ordering some pasta, you were supposed to select what kind of sauce you’d like with your pasta, each with different attributes. Bolognese, for example, is very strong, but inaccurate; Pesto is very accurate and has great range, but it’s weaker; and my favorite, Vodka, would triggers 10% loss of speed on the pasta hit by it.\\n\\nThe code for that is mostly in there. But in the end, I didn’t have time to implement the sauce selection interface; all pasta ended up using bolognese sauce.\\n\\nTo-do list: lots of things were not done\\n\\nActual programming also took a toll in the development time. Having been programming for a while, I like to believe I got to a point where I know how to make things right, but at the expense of forgetting how to do things wrong in a seemingly good way. What I mean is that I had to take a lot of shortcuts in my code to save time (e.g. a lot of singletons references for cross-communication rather than events or observers, all-encompassing check loops, not fast enough) that left a very sour taste in my mouth. While I know I used to do those a few years ago and survive, I almost cannot accept the state my code is in right now.\\n\\nAt the same time, I do know it was the right thing to do given the timeframe.\\n\\nOne small thing that had some impact was using a somewhat new platform for me. That’s Starling, the accelerated graphics framework I used in Flash. I had tested it before and I knew how to use it well – the API is very similar to Flash itself. However, there were some small details that had some impact during development, making me feel somewhat uneasy the whole time I was writing the game. It was, again, the right thing to do, but I should have used Starling more deeply before (which is the conundrum: I used it for Ludum Dare just so I could learn more about it).\\n\\nArgument and user experience\\n\\nOne final aspect of the game that I learned is that making the game obvious for your players goes a long way into making it fun. If you have to spend the longest time explaining things, your game is doing something wrong.\\n\\nAnd that’s exactly the problem Survival of the Tastiest ultimately faced. It’s very hard for people to understand what’s going on with the game, why, and how. I did have some introductory text at the beginning, but that was a last-minute thing. More importantly, I should have had a better interface or simplified the whole concept so it would be easier for people to understand.\\n\\nThat doesn’t mean the game itself should be simple. It just means that the experience and interface should be approachable and understandable.\\n\\nConclusion\\n\\nI’m extremely happy with what I’ve done and, especially given that this was my first Ludum Dare. However, I feel like I’ve learned a lot of what not to do.\\n\\nThe biggest problem is overscoping. Like Eric Decker said, the biggest lesson we can learn with this is probably with scoping – deciding what to do beforehand in a way you can complete it without having to rush and do something half-assed.\\n\\nI’m sure I will do more Ludum Dares in the future. But if there are any lessons I can take of it, they are to make it simple, to use frameworks and platforms you already have some absolute experience with (otherwise you’ll spend too much time trying to solve easy questions), and to scope for a game that you can complete in one day only (that way, you can actually take two days and make it cool).\\n\\nThis entry was posted\\non Monday, August 27th, 2012 at 10:54 am and is filed under LD #24.\\nYou can follow any responses to this entry through the RSS 2.0 feed.\\nYou can skip to the end and leave a response. Pinging is currently not allowed.\\n\\n3 Responses to ““Survival of the Tastiest” Post-mortem”\\n\\ndarn it , knowing that I missed your livestream makes me a sad panda ;( but more to the point, the game is … well for a startup its original to say the least ;D it has some really neat ideas and more importantly its designed arround touch screens whitch by the looks of the submission is something rare ;o or that could be just me and my short memory -_-! awesum game, love et <3', '<?xml version=\"1.0\" encoding=\"UTF-8\"?>\\r\\n<segment>\\r\\n    <name>PD1</name>\\r\\n    <description>Patient Additional Demographic</description>\\r\\n    <elements>\\r\\n        <field minOccurs=\"0\" maxOccurs=\"0\">\\r\\n            <name>PD1.1</name>\\r\\n            <description>Living Dependency</description>\\r\\n            <datatype>IS</datatype>\\r\\n        </field>\\r\\n        <field minOccurs=\"0\" maxOccurs=\"0\">\\r\\n            <name>PD1.2</name>\\r\\n            <description>Living Arrangement</description>\\r\\n            <datatype>IS</datatype>\\r\\n        </field>\\r\\n        <field minOccurs=\"0\" maxOccurs=\"0\">\\r\\n            <name>PD1.3</name>\\r\\n            <description>Patient Primary Facility</description>\\r\\n            <datatype>XON</datatype>\\r\\n        </field>\\r\\n        <field minOccurs=\"0\" maxOccurs=\"0\">\\r\\n            <name>PD1.4</name>\\r\\n            <description>Patient Primary Care Provider Name &amp; ID No.</description>\\r\\n            <datatype>XCN</datatype>\\r\\n        </field>\\r\\n        <field minOccurs=\"0\" maxOccurs=\"0\">\\r\\n            <name>PD1.5</name>\\r\\n            <description>Student Indicator</description>\\r\\n            <datatype>IS</datatype>\\r\\n        </field>\\r\\n        <field minOccurs=\"0\" maxOccurs=\"0\">\\r\\n            <name>PD1.6</name>\\r\\n            <description>Handicap</description>\\r\\n            <datatype>IS</datatype>\\r\\n        </field>\\r\\n        <field minOccurs=\"0\" maxOccurs=\"0\">\\r\\n            <name>PD1.7</name>\\r\\n            <description>Living Will Code</description>\\r\\n            <datatype>IS</datatype>\\r\\n        </field>\\r\\n        <field minOccurs=\"0\" maxOccurs=\"0\">\\r\\n            <name>PD1.8</name>\\r\\n            <description>Organ Donor Code</description>\\r\\n            <datatype>IS</datatype>\\r\\n        </field>\\r\\n        <field minOccurs=\"0\" maxOccurs=\"0\">\\r\\n            <name>PD1.9</name>\\r\\n            <description>Separate Bill</description>\\r\\n            <datatype>ID</datatype>\\r\\n        </field>\\r\\n        <field minOccurs=\"0\" maxOccurs=\"0\">\\r\\n            <name>PD1.10</name>\\r\\n            <description>Duplicate Patient</description>\\r\\n            <datatype>CX</datatype>\\r\\n        </field>\\r\\n        <field minOccurs=\"0\" maxOccurs=\"0\">\\r\\n            <name>PD1.11</name>\\r\\n            <description>Publicity Code</description>\\r\\n            <datatype>CE</datatype>\\r\\n        </field>\\r\\n        <field minOccurs=\"0\" maxOccurs=\"0\">\\r\\n            <name>PD1.12</name>\\r\\n            <description>Protection Indicator</description>\\r\\n            <datatype>ID</datatype>\\r\\n        </field>\\r\\n        <field minOccurs=\"0\" maxOccurs=\"0\">\\r\\n            <name>PD1.13</name>\\r\\n            <description>Protection Indicator Effective Date</description>\\r\\n            <datatype>DT</datatype>\\r\\n        </field>\\r\\n        <field minOccurs=\"0\" maxOccurs=\"0\">\\r\\n            <name>PD1.14</name>\\r\\n            <description>Place of Worship</description>\\r\\n            <datatype>XON</datatype>\\r\\n        </field>\\r\\n        <field minOccurs=\"0\" maxOccurs=\"0\">\\r\\n            <name>PD1.15</name>\\r\\n            <description>Advance Directive Code</description>\\r\\n            <datatype>CE</datatype>\\r\\n        </field>\\r\\n        <field minOccurs=\"0\" maxOccurs=\"0\">\\r\\n            <name>PD1.16</name>\\r\\n            <description>Immunization Registry Status</description>\\r\\n            <datatype>IS</datatype>\\r\\n        </field>\\r\\n        <field minOccurs=\"0\" maxOccurs=\"0\">\\r\\n            <name>PD1.17</name>\\r\\n            <description>Immunization Registry Status Effective Date</description>\\r\\n            <datatype>DT</datatype>\\r\\n        </field>\\r\\n        <field minOccurs=\"0\" maxOccurs=\"0\">\\r\\n            <name>PD1.18</name>\\r\\n            <description>Publicity Code Effective Date</description>\\r\\n            <datatype>DT</datatype>\\r\\n        </field>\\r\\n        <field minOccurs=\"0\" maxOccurs=\"0\">\\r\\n            <name>PD1.19</name>\\r\\n            <description>Military Branch</description>\\r\\n            <datatype>IS</datatype>\\r\\n        </field>\\r\\n        <field minOccurs=\"0\" maxOccurs=\"0\">\\r\\n            <name>PD1.20</name>\\r\\n            <description>Military Rank/Grade</description>\\r\\n            <datatype>IS</datatype>\\r\\n        </field>\\r\\n        <field minOccurs=\"0\" maxOccurs=\"0\">\\r\\n            <name>PD1.21</name>\\r\\n            <description>Military Status</description>\\r\\n            <datatype>IS</datatype>\\r\\n        </field>\\r\\n    </elements>\\r\\n</segment>\\r\\n', 'Topic: reinvent midnight madness\\n\\nAmazon announced a new service at the AWS re:Invent Midnight Madness event. Amazon Sumerian is a solution that aims to make it easier for developers to build virtual reality, augmented reality, and 3D applications. It features a user friendly editor, which can be used to drag and drop 3D objects and characters into scenes. Amazon … continue reading', 'About Grand Slam Fishing Charters\\n\\nAs a family owned business we know how important it is that your trip becomes the best memory of your vacation, we are proud of our islands, our waters and our crew and we are desperate show you the best possible time during your stay. We can not guarantee fish every time but we can guarantee you a great time! The biggest perk of our job is seeing so many of our customers become close friends”\\n\\nA Great Way To Make New Friends!\\n\\nOur dockside parties are a great way to make new friends! Everyone is welcome!\\n\\nAndrea runs the whole operation, from discussing your initial needs by phone or email through to ensuring you have sufficient potato chips. Andrea has worked as concierge for many International resorts and fully understands the high expectations of international visitors.\\n\\n“Life’s A Game But Fishing Is Serious!”\\n\\nUnlike many tour operators, our crew are highly valued and have been with us since day 1. Each have their own personalities and sense of humour and understand the importance of making your day perfect, for us the saying is true, “Lifes a game but fishing is serious!”\\n\\nTRIP ADVISOR\\n\\nPlan Your Trip!\\n\\nAJ and Earl were excellent. My son and I did a half day deep sea trip and though the fish weren’t too cooperative, they did everything to try to get something to bite. Very knowledgeable about the waters and my son was able to land a nice barracuda. The next day my wife, daughter, son […]\\n\\nWhen we arrived the crew made us feel right at home. They made us feel comfortable and answered all questions. The crew worked hard all day to put us on fish. We were successful in landing a nice size Wahoo even though the weather did not cooperate the entire day was enjoyable. I highly recommend […]', \"Q:\\n\\nWhy was Mundungus banned from the Hog's Head?\\n\\nIn Order of the Phoenix while the trio were in the Hogs Head for the first time plotting the start of Dumbledore's Army, it transpires that ol' Dung was lurking in the pub in a disguise, having been banned 20 years previously according to Sirius. \\nFirstly, why was he banned? this could possibly be the tight spot that Albus had helped Dung with in the first place that made him loyal to Albus.  \\nAnd secondly, how is it that he is then speaking to Aberforth in Halfblood Prince? (assuming the ban was for something rather unforgivable, 20 years is a long time?) \\nThey both could have been in the Order by then, but unlikely given Aberforth's attitude in Deathly Hallows once the trio arrive in Hogsmeade looking for the tiara.  We learn now that a lot of trafficking goes on through the Hogs Head so maybe Dung was trading with Aberforth, Sirius' mirror and various other Black artifacts, he just was not allowed in the pub. \\nAnyone with something in canon or more plausible?\\n\\nA:\\n\\nwhy was he banned?\\nI'm not able to find any canon data on that, either book text search or interviews transcripts.\\n\\nhow is it that he is then speaking to Aberforth in Halfblood Prince?\\nIn HBP, he's speaking to Aberforth, NOT being inside Hog's Head. The topic was selling stuff he stole from Sirius' place:\\n\\nNikki: How did sirius twoway mirror end up with aberforth or is it another twoway mirror?\\n  J.K. Rowling: You see Aberforth meeting Mundungus in Hogsmeade. That was the occasion on which Dung, who had taken Sirius’s mirror from Grimmauld Place, sold it to Aberforth.\\n  (src: J.K. Rowling Interview / The Deathly Hallows Web Chat / July 2007)\\n\\nAs a note - this was important since one of the things sold was the 2-way mirror that Harry used to request help when they were imprisoned at Malfoy's in DH.\\nSo, he was banned from the pub (probably, to avoid causing Aberforth's establishment further trouble), but doesn't mean Aberforth won't talk/do business with him otherwise.\\n\\n\", 'Working Women, Special Provision and the Debate on Equality\\n\\nThere has been considerable coverage in the media recently about the possibility of offering women in employment paid leave from work during their menstrual period. This has generated a broad range of responses relating to long-standing discussions about ‘equality’ and ‘difference’: is women’s equality best achieved by treating them the same as men or by making provisions that recognise their differences in terms of physiological constitution and biological functions?\\n\\nIf the UK introduces such an initiative, it would not be the first country in the contemporary world to do so. Many countries in Asia already make the provision and Russia debated introducing a law in 2013. The policy also has a significant historical precedent. A whole chapter of my book Women Workers in the Soviet Interwar Economy: From ‘Protection’ to ‘Equality’ (Macmillan, 1999), based on extensive research conducted for my PhD, is devoted to ‘Provision for “Menstrual Leave”’.\\n\\nIn the 1920s, scientific researchers and labour hygiene specialists in the Soviet Union conducted extensive investigations into the impact of menstruation on women’s capacity to work in manual and industrial jobs requiring a significant degree of physical labour. Their recommendations led to two decrees being issued that targeted specific categories of women workers:\\n\\nDecree ‘On the release from work during menstruation of machinists and iron press workers working on cutting machines without mechanised gears in the garment industry’, 11 January 1922\\n\\nDecree ‘On the working conditions of women tractor and lorry drivers’, 9 May 1931\\n\\nThese decrees arose from research that suggested, amongst other things, that inadequate seating at machines and on tractors resulted in congestion and tension in the abdomen that was exacerbated during menstruation. In practice, the decrees did not provide for regular absence from work. Women seeking to benefit from the provision had to provide a doctor’s note, similar to the usual requirements for sick leave.\\n\\nThe official research into the impact of menstruation on women’s capacity to work and the application of the decrees in practice raised a number of issues on both sides of the argument. I offer only a summary of the contemporary research findings and observer commentary here:\\n\\nFor the provision:\\n• employers have a responsibility to protect the health of their workers and unhealthy, poor and inadequate working environments can have a detrimental impact on women’s reproductive health\\n• women’s labour productivity and output would rise as a result\\n• it is essential to protect the professionalism of certain categories of workers: the debates here centred on performance artists and female theatrical employees engaged in highly physical and intensely emotional work\\n• heavy physical labour and strenuous exercise can lead to disruptions of the menstrual cycle\\n• women’s physical and intellectual capacities are reduced during menstruation; women lose muscular strength and powers of concentration\\n• women’s biological constitution and reproductive functions require specific recognition in law\\n\\nAgainst the provision:\\n• employers are less likely to appoint women if they are guaranteed paid time off work during menstruation\\n• (often from male workers, who viewed the employment of women as competition) women should not be employed in jobs for which they lack the physical strength and mental capacity\\n• if necessary, women could be transferred to different tasks involving easier work during menstruation\\n• the provision would be open to uneven application and abuse\\n• women cannot expect to be considered equal with men if they are given special treatment in the law\\n\\nIt is worth noting also that the various research projects often revealed that the vast majority of women reported no regular problems or abnormalities with menstruation, and that men commonly reported higher levels of sickness than their female colleagues. Many of the problems experienced by women in the workplace could be mitigated by the introduction of improvements to their physical working conditions (not sitting down or standing up in the same position for long periods of time) or by the simple introduction of very short breaks that would allow women to walk around and get some exercise.\\n\\nDebates in the UK, on the TV and in the press, are unlikely to reach a consensus on this issue. What do you think?', \"Q:\\n\\nUsing M-Test to show you can differentiate term by term.\\n\\nI have the series $\\\\sum_{n=1}^\\\\infty \\\\frac{\\\\lambda^{n-1}n}{n!}=\\\\sum_{n=1}^\\\\infty \\\\frac{d}{d\\\\lambda}\\\\big(\\\\frac{\\\\lambda^n}{n!} \\\\big)$\\nand I would like it to be $\\\\frac{d}{d\\\\lambda}\\\\big(\\\\sum_{n=1}^\\\\infty \\\\frac{\\\\lambda^n}{n!})$.\\nI'm trying to show that this sequence of functions converges uniformly on $(0,\\\\infty)$ and so I'm trying the M-Test.  So I need to find bounds $M_n$ for $\\\\big|\\\\frac{\\\\lambda^n}{n!}\\\\big|$, such that $\\\\sum M_n$ converges.\\nThanks.  This is in order to show that I can actually do the differentiation term by term.\\n\\nA:\\n\\nYou deal with a power series with radius of convergence $R=+\\\\infty$ so you can differentiate term by term.\\n\\n\", 'Jeanette Sawyer Cohen, PhD, clinical assistant professor of psychology in pediatrics at Weill Cornell Medical College in New York City\\n\\nPediatric Psychologist\\n\\nHow to Teach Independence?\\n\\nHow can I teach my toddler to do things independently?\\n\\nYou’ve probably become more patient since you started this whole parenthood thing. And you’re going to have to practice patience even more as your toddler learns to become more independent.\\n\\nFor example, she tells you she can’t finish the puzzle she’s doing. Instead of jumping right in and telling her which piece goes where, you’re going to have to tell her you’ll help a little. Go ahead and help, but let her do a lot of it herself, and make sure she’s the one to finish the job. That will give her a sense of accomplishment and the confidence to try again next time.\\n\\nRemember that children each progress at their own rate. It’s not always fast — and there will be setbacks along the way. But the more you can allow them to do on their own without stepping in, the more they’ll be likely to try for themselves again and again.', 'Q:\\n\\nWhat\\'s the simplest way to pass a file as an argument in a simple shell script?\\n\\nThe following works fine on Mac OS X:\\n#!/bin/bash\\nR CMD Sweave myfile.Rnw\\npdflatex myfile.tex\\nopen myfile.pdf\\n\\nNow, I realize that these 3 lines of code are really helpful for my work – independently of some particular file. Thus I\\'d like to use the file as an argument. I know how to use an argument itself but have problems splitting the input after the string and concat it afterwards. If I was able to split the filename argument like: \\nsplit($1,\".\") # return some array or list (\"name\",\"ext\")\\n\\nOr is there a simpler, completely different way than using Python within a shell script?\\nThx in advance for any general advice and examples as well !\\n\\nA:\\n\\nI do all my shell scripting in python.\\nIt\\'s easier to read, more powerful and works on windows as well.\\n\\nA:\\n\\nYou could just take the base name as an argument and use $1.Rnw, $1.tex, and $1.pdf. Python is great for shell scripts, but I usually stick with bash for things less than 10 lines long.\\nIf you really want to take a file name, you can use cut -f 1 -d \\'.\\' $1.\\n\\n', \"Major League Baseball All-Century Team\\n\\nIn 1999, the Major League Baseball All-Century Team was chosen by popular vote of fans. To select the team, a panel of experts first compiled a list of the 100 greatest Major League Baseball players from the past century. Over two million fans then voted on the players using paper and online ballots.\\n\\nThe top two vote-getters from each position, except outfielders (nine), and the top six pitchers were placed on the team. A select panel then added five legends to create a thirty-man team:—Warren Spahn (who finished #10 among pitchers), Christy Mathewson (#14 among pitchers), Lefty Grove (#18 among pitchers), Honus Wagner (#4 among shortstops), and Stan Musial (#11 among outfielders).\\n\\nThe nominees for the All-Century team were presented at the 1999 All-Star Game at Fenway Park. Preceding Game 2 of the 1999 World Series, the members of the All-Century Team were revealed. Every living player named to the team attended.\\n\\nFor the complete list of the 100 players nominated, see The MLB All-Century Team.\\n\\nSelected players\\n\\nPete Rose controversy\\nThere was controversy over the inclusion in the All-Century Team of Pete Rose, who had been banned from baseball for life 10 years earlier. Some questioned Rose's presence on a team officially endorsed by Major League Baseball, but fans at the stadium gave him a standing ovation. During the on-field ceremony, which was emceed by Hall of Fame broadcaster Vin Scully, NBC Sports' Jim Gray questioned Rose about his refusal to admit to gambling on baseball.  Gray's interview became controversial, with some arguing that it was good journalism, while others objected that the occasion was an inappropriate setting for Gray's persistence.  After initially refusing to do so, Gray apologized a few days later.  On January 8, 2004, more than four years later, Rose admitted publicly to betting on baseball games in his autobiography My Prison Without Bars.\\n\\nSee also\\nMajor League Baseball All-Time Team, a similar team chosen by the Baseball Writers' Association of America in \\nLatino Legends Team\\nDHL Hometown Heroes (2006): the most outstanding player in the history of each MLB franchise, based on on-field performance, leadership quality and character value\\n\\nList of MLB awards\\nTeam of the century\\nNational Baseball Hall of Fame and Museum\\n\\nReferences\\n\\nExternal links\\nAll-Century Team Vote Totals from ESPN.com\\nAll-Century Team DVD from Amazon.com\\nAll-Century Team Information from Baseball Almanac\\n\\nCategory:1999 Major League Baseball season\\nCategory:Major League Baseball trophies and awards\\nCategory:History of Major League Baseball\\nCategory:Awards established in 1999\", '{\\n  \"fpsLimit\": 60,\\n  \"preset\": \"basic\",\\n  \"background\": {\\n    \"color\": \"#0d47a1\",\\n    \"image\": \"\",\\n    \"position\": \"50% 50%\",\\n    \"repeat\": \"no-repeat\",\\n    \"size\": \"cover\"\\n  }\\n}', 'PCI Alternative Using Sustained Exercise (PAUSE): Rationale and trial design.\\nCardiovascular disease (CVD) currently claims nearly one million lives yearly in the US, accounting for nearly 40% of all deaths. Coronary artery disease (CAD) accounts for the largest number of these deaths. While efforts aimed at treating CAD in recent decades have concentrated on surgical and catheter-based interventions, limited resources have been directed toward prevention and rehabilitation. CAD is commonly treated using percutaneous coronary intervention (PCI), and this treatment has increased exponentially since its adoption over three decades ago. Recent questions have been raised regarding the cost-effectiveness of PCI, the extent to which PCI is overused, and whether selected patients may benefit from optimal medical therapy in lieu of PCI. One alternative therapy that has been shown to improve outcomes in CAD is exercise therapy; exercise programs have been shown to have numerous physiological benefits, and a growing number of studies have demonstrated reductions in mortality. Given the high volume of PCI, its high cost, its lack of effect on survival and the potential for alternative treatments including exercise, the current study is termed \"PCI Alternative Using Sustained Exercise\" (PAUSE). The primary aim of PAUSE is to determine whether patients randomized to exercise and lifestyle intervention have greater improvement in coronary function and anatomy compared to those randomized to PCI. Coronary function and anatomy is determined using positron emission tomography combined with computed tomographic angiography (PET/CTA). Our objective is to demonstrate the utility of a non-invasive technology to document the efficacy of exercise as an alternative treatment strategy to PCI.', 'Q:\\n\\n¿Porqué en este loop de JavaScript la impresión de la variable es desde counter y no desde counter-1?\\n\\nen mi búsqueda por aprender programación por mis propios medios, me he topado con el tema de recursividad y este simple código... mi pregunta ya que la variable counter comienza desde 10 y dentro del loop While el contador resta 1, porqué en la \"impresión\" aparece desde el 10. Sé que si quisiera empezar desde 10 colocaría el contador en 11... pero obviamente tengo la curiosidad y no entiendo.\\nvar counter = 10;\\nwhile(counter > 0) {\\n    console.log(counter--);\\n}\\n\\nresultado:\\n10\\n9\\n8\\n7\\n6\\n5\\n4\\n3\\n2\\n1\\n\\nA:\\n\\nLa razón es simple, en recursividad lo que haces es pasar una variable o arreglo en la mayor parte de los caso para modificarlos o simplemente imprimirlos, en tu caso quieres restar un numero por cada iteracion dentro de tu ciclo while pero aqui lo que tu quieres conseguir es que primero te imprima el 9 por la lógica que encuentras en tu programa y aunque no es del todo errónea eso no sucederá jamas por la siguiente razón.\\nEn tu codigo lo que tienes es la impresion de tu variable e imprimes lo que es counter-- y a pesar de que si te resta -1 en esa misma iteracion sucede que primero te imprimira la variable antes de hacer dicha operacion ya que es lo que primero lee javascript, es como si tu codigo estuviera dividido en dos partes.\\nEJEMPLO\\nvar counter = 10;\\nwhile(counter > 0) {\\n    console.log(counter); // Lee antes el valor variable\\n    counter--; // Después realiza operación\\n}\\n\\nEsto sucede asi porque es como funciona internamente lo que realizas con javascript ya que a pesar de que parece un metodo simple de resta internamente esta compuesto de dos partes. Para cuando javascript hace la operacion tu valor ya esta en pantalla.\\nEJEMPLO VISUAL\\n\\nPrimera iteración:\\ncounter = 10 | counter-- | counter = 9\\ncounter = 9 | counter-- | counter = 8\\ncounter = 8 | counter-- | counter = 7\\n...\\ncounter = 1 | counter-- | counter = 0\\ncounter = 0 | counter-- | counter = -1 -> En este caso ya no cumples con la condición por lo cual nunca se imprime.\\n\\nPara realizar el proceso que quieres en el caso de que primero quieras que se imprima el 9 entonces deberas de hacer lo siguiente:\\n\\nvar counter = 10;\\nwhile(counter > 0) {\\n    counter--;\\n    console.log(counter);\\n}\\n.as-console-wrapper { max-height: 100% !important; top: 0; }\\n\\n', 'Running\\n\\nStat\\n\\nDinner with people is always better than eating alone, especially when the food is good. Good food tastes even better when enjoyed with people. Tonight Amy came over to try my second attempt at the Brussels Sprouts Veggie Soup to which I have made some changes (see recipe below in previous post) for a better result, I believe.\\n\\nWe were at the store earlier and saw some nice looking haricot verts and heirloom tomatoes, so we decide to assemble a simple salad from those. Of course while I’m at the market, I can’t not get some five peppercorn salami. Our simple dinner of soup, salami, bread, cheese, salad, and wine was on the table in 15 minutes.', 'TiO2 nanotubes for bone regeneration.\\nNanostructured materials are believed to play a fundamental role in orthopedic research because bone itself has a structural hierarchy at the first level in the nanometer regime. Here, we report on titanium oxide (TiO(2)) surface nanostructures utilized for orthopedic implant considerations. Specifically, the effects of TiO(2) nanotube surfaces for bone regeneration will be discussed. This unique 3D tube shaped nanostructure created by electrochemical anodization has profound effects on osteogenic cells and is stimulating new avenues for orthopedic material surface designs. There is a growing body of data elucidating the benefits of using TiO(2) nanotubes for enhanced orthopedic implant surfaces. The current trends discussed within foreshadow the great potential of TiO(2) nanotubes for clinical use.', 'In general, absorbent articles should comfortably fit the body of a wearer. Most absorbent articles include an absorbent pad formed by an absorbent core contained in a wrap comprising a barrier tissue and/or a forming tissue. The subject invention discloses an absorbent article generally having extensibility in at least one direction, preferably the cross-direction. Such extensibility permits an absorbent article to extend and expand about the wearer and thus to better conform to the body of the wearer. Such extension and expansion about the wearer is feasible because both the bodyside liner and the outer cover are extensible in at least the one direction.\\nIn conventional structures, the outer cover is typically adhesively secured to the forming tissue of the absorbent pad. In such embodiments, extending the outer cover in the cross-direction extends the forming tissue in the cross-direction. The force used to extend the outer cover, and thence the absorbent pad, can tear or otherwise damage the forming tissue or the barrier tissue of the absorbent pad. Since the absorbent pad is typically a sealed enclosure, namely an absorbent core enclosed within the combination of a forming tissue and a barrier tissue, tearing the absorbent pad, namely either the forming tissue or the barrier tissue, can release superabsorbent particles and other absorbent materials, such as cellulose fluff into contact with the body of the wearer. Superabsorbent particles can irritate the skin of the wearer. Such tearing of the absorbent pad indicates failure of the absorbent article to perform properly. Therefore, it is critical to find a way to prevent tearing or other structural failure of the absorbent pad.'], 'meta': {'pile_set_name': ['Pile-CC', 'Github', 'Pile-CC', 'Pile-CC', 'StackExchange', 'Pile-CC', 'StackExchange', 'Pile-CC', 'StackExchange', 'Wikipedia (en)', 'Github', 'PubMed Abstracts', 'StackExchange', 'Pile-CC', 'PubMed Abstracts', 'USPTO Backgrounds']}}\n"
     ]
    }
   ],
   "source": [
    "bio_ce_task = WMDP_RelearnTask(batch_size=batch_size, tokenizer=tokenizer, corpus=\"bio-forget\", shuffle=True)\n",
    "display(bio_ce_task.df)\n",
    "\n",
    "from tasks.general.DatasetTasks import PileTask\n",
    "pile_task = PileTask(batch_size=batch_size, tokenizer=tokenizer, stream_dataset=True, buffer_size=10000, ctx_length=500)\n",
    "print(pile_task.get_batch())"
   ]
  },
  {
   "cell_type": "code",
   "execution_count": 6,
   "metadata": {},
   "outputs": [
    {
     "data": {
      "application/vnd.jupyter.widget-view+json": {
       "model_id": "a3bcbb11455647bc88e498c1714d181c",
       "version_major": 2,
       "version_minor": 0
      },
      "text/plain": [
       "  0%|          | 0/1 [00:00<?, ?it/s]"
      ]
     },
     "metadata": {},
     "output_type": "display_data"
    }
   ],
   "source": [
    "from sae_lens import SAE\n",
    "\n",
    "sae_type = \"16k\"\n",
    "sae_layer = 21\n",
    "\n",
    "sae_dict = {}\n",
    "\n",
    "sae_layers = [sae_layer]\n",
    "# 3.76 gb + .47 gb = 4.23 gb\n",
    "for layer in tqdm(sae_layers):\n",
    "    if sae_type == \"131k\":\n",
    "        sae, cfg_dict, sparsity = SAE.from_pretrained(\n",
    "            release = \"gemma-scope-9b-pt-res-canonical\", # e.g., \"gpt2-small-res-jb\". See other options in https://github.com/jbloomAus/SAELens/blob/main/sae_lens/pretrained_saes.yaml\n",
    "            sae_id = f\"layer_{layer}/width_131k/canonical\", # e.g., \"blocks.8.hook_resid_pre\". Won't always be a hook point\n",
    "        )\n",
    "    elif sae_type == \"16k\":\n",
    "        sae, cfg_dict, sparsity = SAE.from_pretrained(\n",
    "            release = \"gemma-scope-9b-pt-res-canonical\", # e.g., \"gpt2-small-res-jb\". See other options in https://github.com/jbloomAus/SAELens/blob/main/sae_lens/pretrained_saes.yaml\n",
    "            sae_id = f\"layer_{layer}/width_16k/canonical\", # e.g., \"blocks.8.hook_resid_pre\". Won't always be a hook point\n",
    "        )\n",
    "    \n",
    "    # for param in sae.parameters():\n",
    "    #     param.data = param.data.to(torch.bfloat16)\n",
    "\n",
    "    sae_dict[f\"layer_{layer}\"] = sae\n"
   ]
  },
  {
   "cell_type": "markdown",
   "metadata": {},
   "source": [
    "### Replicate SAE Unlearning feature selection"
   ]
  },
  {
   "cell_type": "code",
   "execution_count": 7,
   "metadata": {},
   "outputs": [],
   "source": [
    "def gather_residual_activations(model, target_layers, input_ids, attention_mask=None, unmasked_for_sae=False):\n",
    "  output = model(input_ids=input_ids, attention_mask=attention_mask, output_hidden_states=True)\n",
    "  hidden_states = output.hidden_states\n",
    "  # hidden state has n_layers + 1 elements, the first one is the embeddings\n",
    "  # so need to add one to the target layer to get the correct layer\n",
    "  if isinstance(target_layers, int):\n",
    "    target_layers = [target_layers]\n",
    "\n",
    "  layer_hidden_states = []\n",
    "  for layer in target_layers:\n",
    "    layer_hidden_states.append(hidden_states[layer+1])\n",
    "  layer_hidden_states = torch.stack(layer_hidden_states)\n",
    "  if unmasked_for_sae:\n",
    "    assert attention_mask is not None, \"Must provide attention mask for flat return\"\n",
    "\n",
    "    # layer hidden states should be shape (n_layers, batch_size, seq_len, hidden_size)\n",
    "    # attention_mask should be shape (batch_size, seq_len)\n",
    "    assert layer_hidden_states.shape[1] == attention_mask.shape[0], f\"Batch size mismatch, {layer_hidden_states.shape} vs {attention_mask.shape}\"\n",
    "    assert layer_hidden_states.shape[2] == attention_mask.shape[1], f\"Sequence length mismatch, {layer_hidden_states.shape} vs {attention_mask.shape}\"\n",
    "    assert len(layer_hidden_states.shape) == 4 and len(attention_mask.shape) == 2, f\"Layer hidden states and attention mask must be 4D and 2D respectively but got {layer_hidden_states.shape} and {attention_mask.shape}\"\n",
    "    batch_indices, seq_indices = torch.where(attention_mask[:, 1:])\n",
    "    layer_hidden_states = layer_hidden_states[:, :, 1:, :]\n",
    "    return layer_hidden_states[:, batch_indices, seq_indices, :]\n",
    "\n",
    "  else:\n",
    "    return layer_hidden_states\n",
    "\n",
    "  # target_act = None\n",
    "  # def gather_target_act_hook(mod, inputs, outputs):\n",
    "  #   nonlocal target_act # make sure we can modify the target_act from the outer scope\n",
    "  #   target_act = outputs[0]\n",
    "  #   return outputs\n",
    "  # handle = model.model.layers[target_layer].register_forward_hook(gather_target_act_hook)\n",
    "  # _ = model.forward(**inputs)\n",
    "  # handle.remove()\n",
    "  # return target_act"
   ]
  },
  {
   "cell_type": "code",
   "execution_count": 8,
   "metadata": {},
   "outputs": [],
   "source": [
    "# batch = pile_task.get_batch()[\"text\"]\n",
    "# inputs = tokenizer(batch, return_tensors=\"pt\", padding=True, truncation=True, max_length=200)\n",
    "# inputs = {k: v.cuda() for k, v in inputs.items()}\n",
    "# print(inputs[\"input_ids\"].shape)\n",
    "# print(inputs[\"attention_mask\"].sum())\n",
    "\n",
    "\n",
    "# with torch.no_grad():\n",
    "#     target_act = gather_residual_activations(model, 21, **inputs, unmasked_for_sae=True)[0]\n",
    "# print(target_act.shape)\n",
    "\n",
    "\n",
    "# sae = width_131k_sae_dict[f\"layer_{21}\"]\n",
    "# if next(sae.parameters()).device.type != \"cuda\":\n",
    "#     sae = sae.cuda()\n",
    "# with torch.amp.autocast(device_type=\"cuda\"):\n",
    "#     sae_acts = sae.encode(target_act)\n",
    "# print(sae_acts.shape)\n",
    "\n",
    "\n",
    "# recon = sae.decode(sae_acts)\n",
    "# with torch.no_grad():\n",
    "#     if len(sae_acts.shape) == 2:\n",
    "#         print(1 - torch.mean((recon - target_act.to(torch.float32)) **2) / (target_act.to(torch.float32).var()))\n",
    "#     else:\n",
    "#         print(1 - torch.mean((recon[..., 1:] - target_act[..., 1:].to(torch.float32)) **2) / (target_act[..., 1:].to(torch.float32).var()))"
   ]
  },
  {
   "cell_type": "code",
   "execution_count": 75,
   "metadata": {},
   "outputs": [
    {
     "data": {
      "application/vnd.jupyter.widget-view+json": {
       "model_id": "19080b1a64de42ed916a085ba729c545",
       "version_major": 2,
       "version_minor": 0
      },
      "text/plain": [
       "  0%|          | 0/10 [00:00<?, ?it/s]"
      ]
     },
     "metadata": {},
     "output_type": "display_data"
    },
    {
     "name": "stdout",
     "output_type": "stream",
     "text": [
      "torch.Size([56013, 16384])\n"
     ]
    },
    {
     "data": {
      "application/vnd.jupyter.widget-view+json": {
       "model_id": "484920587184419786e98a6c8597fb4d",
       "version_major": 2,
       "version_minor": 0
      },
      "text/plain": [
       "  0%|          | 0/10 [00:00<?, ?it/s]"
      ]
     },
     "metadata": {},
     "output_type": "display_data"
    },
    {
     "name": "stdout",
     "output_type": "stream",
     "text": [
      "torch.Size([49297, 16384])\n"
     ]
    }
   ],
   "source": [
    "def get_sae_acts(model, sae, task, n_batches=10, ctx_len=500, text_key=\"text\", return_tokens=True):\n",
    "    all_sae_acts = []\n",
    "    for batch_idx in tqdm(range(n_batches)):\n",
    "        batch = task.get_batch()[text_key]\n",
    "        inputs = tokenizer(batch, return_tensors=\"pt\", padding=True, truncation=True, max_length=ctx_len)\n",
    "        inputs = {k: v.cuda() for k, v in inputs.items()}\n",
    "\n",
    "        with torch.no_grad():\n",
    "            target_act = gather_residual_activations(model, 21, **inputs, unmasked_for_sae=True)[0]\n",
    "            with torch.amp.autocast(device_type=\"cuda\"):\n",
    "                sae_acts = sae.encode(target_act)\n",
    "        all_sae_acts.append(sae_acts.cpu())\n",
    "    return torch.cat(all_sae_acts, dim=0)\n",
    "\n",
    "sae = sae_dict[f\"layer_{21}\"]\n",
    "if next(sae.parameters()).device.type != \"cuda\":\n",
    "    sae = sae.cuda()\n",
    "\n",
    "\n",
    "pile_sae_acts = get_sae_acts(model, sae, pile_task, n_batches=10, ctx_len=500, text_key=\"text\")\n",
    "print(pile_sae_acts.shape)\n",
    "\n",
    "bio_sae_acts = get_sae_acts(model, sae, bio_ce_task, n_batches=10, ctx_len=500, text_key=\"abstract\")\n",
    "print(bio_sae_acts.shape)\n"
   ]
  },
  {
   "cell_type": "code",
   "execution_count": 11,
   "metadata": {},
   "outputs": [
    {
     "data": {
      "text/plain": [
       "torch.return_types.sort(\n",
       "values=tensor([0.3325, 0.2703, 0.1722,  ..., 0.0000, 0.0000, 0.0000]),\n",
       "indices=tensor([4946, 1013, 9879,  ..., 8587, 8575, 8561]))"
      ]
     },
     "execution_count": 11,
     "metadata": {},
     "output_type": "execute_result"
    }
   ],
   "source": [
    "# which features have sparsity > 0.01 on pile?\n",
    "pile_mask = (pile_sae_acts > 0).float().mean(dim=0) <= 0.01\n",
    "\n",
    "# multiply by mask so that we filter out all features that are also common on pile\n",
    "bio_sparsities = (bio_sae_acts > 0).float().mean(dim=0) * pile_mask\n",
    "\n",
    "# rank indices by sparsity\n",
    "bio_sparsities_sorted = bio_sparsities.sort(descending=True)\n",
    "bio_sparsities_sorted"
   ]
  },
  {
   "cell_type": "code",
   "execution_count": 12,
   "metadata": {},
   "outputs": [
    {
     "data": {
      "image/png": "[encoded data removed]",
      "text/plain": [
       "<Figure size 1200x600 with 1 Axes>"
      ]
     },
     "metadata": {},
     "output_type": "display_data"
    }
   ],
   "source": [
    "plt.figure(figsize=(12, 6))\n",
    "plt.plot(range(1, len(bio_sparsities_sorted.values) + 1), bio_sparsities_sorted.values, linewidth=2, color='#2E86C1')\n",
    "\n",
    "plt.title('Sparsity of SAE Features (Bio-specific Features)', fontsize=14, pad=15)\n",
    "plt.xlabel('Feature Index (Sorted by Sparsity)', fontsize=12)\n",
    "plt.ylabel('Average Activation (After Pile Masking)', fontsize=12)\n",
    "\n",
    "plt.grid(True, linestyle='--', alpha=0.7)\n",
    "# plt.yscale('log')  # Log scale often helps visualize sparsity patterns better\n",
    "plt.xscale('log')\n",
    "\n",
    "# Add a horizontal line at 0.01 for reference\n",
    "plt.axhline(y=0.01, color='r', linestyle='--', alpha=0.5, label='0.01 threshold')\n",
    "\n",
    "plt.legend()\n",
    "plt.tight_layout()"
   ]
  },
  {
   "cell_type": "code",
   "execution_count": 13,
   "metadata": {},
   "outputs": [
    {
     "name": "stdout",
     "output_type": "stream",
     "text": [
      "tensor([ 4946,  1013,  9879, 11463,  9715,  3300,  3179,  2006, 10496,  1459,\n",
      "         6620, 12231,  7340, 14570, 10422,  3706,  8465,  6170,    17, 11002])\n"
     ]
    }
   ],
   "source": [
    "print(bio_sparsities_sorted.indices[:20])"
   ]
  },
  {
   "cell_type": "markdown",
   "metadata": {},
   "source": [
    "### Visualize SAE Features"
   ]
  },
  {
   "cell_type": "code",
   "execution_count": 14,
   "metadata": {},
   "outputs": [
    {
     "name": "stdout",
     "output_type": "stream",
     "text": [
      "https://neuronpedia.org/gemma-2-9b/21-gemmascope-res-16k/1013?embed=true&embedexplanation=true&embedplots=true&embedtest=true&height=300\n"
     ]
    },
    {
     "data": {
      "text/html": [
       "\n",
       "        <iframe\n",
       "            width=\"1200\"\n",
       "            height=\"600\"\n",
       "            src=\"https://neuronpedia.org/gemma-2-9b/21-gemmascope-res-16k/1013?embed=true&embedexplanation=true&embedplots=true&embedtest=true&height=300\"\n",
       "            frameborder=\"0\"\n",
       "            allowfullscreen\n",
       "            \n",
       "        ></iframe>\n",
       "        "
      ],
      "text/plain": [
       "<IPython.lib.display.IFrame at 0x77cf634ef410>"
      ]
     },
     "execution_count": 14,
     "metadata": {},
     "output_type": "execute_result"
    }
   ],
   "source": [
    "from IPython.display import IFrame\n",
    "html_template = \"https://neuronpedia.org/{}/{}/{}?embed=true&embedexplanation=true&embedplots=true&embedtest=true&height=300\"\n",
    "\n",
    "# 'The idiotype network is experimentally modified to provide protective immunity against various microbial pathogens. Both internal and non-internal image-idiotype antibodies can trigger specific immune responses to antigens. The current outbreak of Severe Acute Respiratory Syndrome 2 (SARS-2) has provided a great opportunity to take advantage of idiotype / anti-idiotype antibodies as a protective regimen when no approved vaccine is available on earth. The current review identifies successful applications of idiotype/ anti-idiotype antibodies in various viral diseases and highlights their importance in COVID-19 pandemics. In the absence of vaccines and targeted therapies, polyclonal idiotype/ anti-idiotype antibodies against the viral structure may be a potential approach to the prevention and treatment of COVID-19 patients.'\n",
    " \n",
    "def get_dashboard_html(sae_release = \"gemma-2-9b\", sae_id=f\"{sae_layer}-gemmascope-res-{sae_type}\", feature_idx=0):\n",
    "    return html_template.format(sae_release, sae_id, feature_idx)\n",
    "\n",
    "html = get_dashboard_html(sae_release = \"gemma-2-9b\", sae_id=f\"{sae_layer}-gemmascope-res-{sae_type}\", feature_idx=1013)\n",
    "print(html)\n",
    "IFrame(html, width=1200, height=600)"
   ]
  },
  {
   "cell_type": "markdown",
   "metadata": {},
   "source": [
    "# Try Unlearning Approaches"
   ]
  },
  {
   "cell_type": "markdown",
   "metadata": {},
   "source": [
    "## Clamp SAE Feature"
   ]
  },
  {
   "cell_type": "code",
   "execution_count": 7,
   "metadata": {},
   "outputs": [
    {
     "name": "stdout",
     "output_type": "stream",
     "text": [
      "torch.Size([16, 200])\n",
      "tensor(3073, device='cuda:0')\n"
     ]
    },
    {
     "name": "stderr",
     "output_type": "stream",
     "text": [
      "Starting from v4.46, the `logits` model output will have the same type as the model (except at train time, where it will always be FP32)\n"
     ]
    },
    {
     "name": "stdout",
     "output_type": "stream",
     "text": [
      "torch.Size([3057, 3584])\n",
      "torch.Size([3057, 16384])\n",
      "tensor(0.8995, device='cuda:0')\n"
     ]
    }
   ],
   "source": [
    "def gather_residual_activations(model, target_layers, input_ids, attention_mask=None, unmasked_for_sae=False):\n",
    "  output = model(input_ids=input_ids, attention_mask=attention_mask, output_hidden_states=True)\n",
    "  hidden_states = output.hidden_states\n",
    "  # hidden state has n_layers + 1 elements, the first one is the embeddings\n",
    "  # so need to add one to the target layer to get the correct layer\n",
    "  if isinstance(target_layers, int):\n",
    "    target_layers = [target_layers]\n",
    "\n",
    "  layer_hidden_states = []\n",
    "  for layer in target_layers:\n",
    "    layer_hidden_states.append(hidden_states[layer+1])\n",
    "  layer_hidden_states = torch.stack(layer_hidden_states)\n",
    "  if unmasked_for_sae:\n",
    "    assert attention_mask is not None, \"Must provide attention mask for flat return\"\n",
    "\n",
    "    # layer hidden states should be shape (n_layers, batch_size, seq_len, hidden_size)\n",
    "    # attention_mask should be shape (batch_size, seq_len)\n",
    "    assert layer_hidden_states.shape[1] == attention_mask.shape[0], f\"Batch size mismatch, {layer_hidden_states.shape} vs {attention_mask.shape}\"\n",
    "    assert layer_hidden_states.shape[2] == attention_mask.shape[1], f\"Sequence length mismatch, {layer_hidden_states.shape} vs {attention_mask.shape}\"\n",
    "    assert len(layer_hidden_states.shape) == 4 and len(attention_mask.shape) == 2, f\"Layer hidden states and attention mask must be 4D and 2D respectively but got {layer_hidden_states.shape} and {attention_mask.shape}\"\n",
    "    batch_indices, seq_indices = torch.where(attention_mask[:, 1:])\n",
    "    layer_hidden_states = layer_hidden_states[:, :, 1:, :]\n",
    "    return layer_hidden_states[:, batch_indices, seq_indices, :]\n",
    "\n",
    "  else:\n",
    "    return layer_hidden_states\n",
    "    \n",
    "batch = bio_ce_task.get_batch()[\"abstract\"]\n",
    "inputs = tokenizer(batch, return_tensors=\"pt\", padding=True, truncation=True, max_length=200)\n",
    "inputs = {k: v.cuda() for k, v in inputs.items()}\n",
    "print(inputs[\"input_ids\"].shape)\n",
    "print(inputs[\"attention_mask\"].sum())\n",
    "\n",
    "\n",
    "with torch.no_grad():\n",
    "    target_act = gather_residual_activations(model, 21, **inputs, unmasked_for_sae=True)[0]\n",
    "print(target_act.shape)\n",
    "\n",
    "\n",
    "sae = sae_dict[f\"layer_{21}\"]\n",
    "if next(sae.parameters()).device.type != \"cuda\":\n",
    "    sae = sae.cuda()\n",
    "with torch.amp.autocast(device_type=\"cuda\"):\n",
    "    sae_acts = sae.encode(target_act)\n",
    "print(sae_acts.shape)\n",
    "\n",
    "\n",
    "recon = sae.decode(sae_acts)\n",
    "with torch.no_grad():\n",
    "    if len(sae_acts.shape) == 2:\n",
    "        print(1 - torch.mean((recon - target_act.to(torch.float32)) **2) / (target_act.to(torch.float32).var()))\n",
    "    else:\n",
    "        print(1 - torch.mean((recon[..., 1:] - target_act[..., 1:].to(torch.float32)) **2) / (target_act[..., 1:].to(torch.float32).var()))"
   ]
  },
  {
   "cell_type": "code",
   "execution_count": 8,
   "metadata": {},
   "outputs": [
    {
     "name": "stdout",
     "output_type": "stream",
     "text": [
      "threshold torch.Size([16384])\n",
      "b_enc torch.Size([16384])\n",
      "W_dec torch.Size([16384, 3584])\n",
      "W_enc torch.Size([3584, 16384])\n",
      "b_dec torch.Size([3584])\n"
     ]
    }
   ],
   "source": [
    "for name, param in sae.named_parameters():\n",
    "    print(name, param.shape)\n"
   ]
  },
  {
   "cell_type": "code",
   "execution_count": 9,
   "metadata": {},
   "outputs": [
    {
     "name": "stdout",
     "output_type": "stream",
     "text": [
      "tensor(0.0006, device='cuda:0')\n"
     ]
    }
   ],
   "source": [
    "# calculate my own sae acts\n",
    "import einops\n",
    "\n",
    "with torch.no_grad():\n",
    "    with torch.amp.autocast(device_type=\"cuda\"):\n",
    "        sae_acts_mine = einops.einsum(target_act, sae.W_enc, \"batch hidden, hidden feature -> batch feature\") + sae.b_enc\n",
    "        sae_acts_mine = (sae_acts_mine > sae.threshold) * sae_acts_mine\n",
    "\n",
    "    assert torch.allclose(sae_acts, sae_acts_mine, atol=1e-4)\n",
    "\n",
    "    with torch.amp.autocast(device_type=\"cuda\"):\n",
    "        recon_mine = einops.einsum(sae_acts, sae.W_dec, \"batch feature, feature hidden -> batch hidden\") + sae.b_dec\n",
    "    \n",
    "    print((recon_mine - recon).abs().mean())\n",
    "    # assert torch.allclose(recon_mine, recon, atol=1e-2), f\"Reconstruction mismatch: {(recon_mine - recon).abs().mean()}\"\n"
   ]
  },
  {
   "cell_type": "code",
   "execution_count": 10,
   "metadata": {},
   "outputs": [
    {
     "name": "stdout",
     "output_type": "stream",
     "text": [
      "tensor(0.3867, device='cuda:0')\n",
      "torch.Size([3057])\n",
      "tensor(0.0163, device='cuda:0')\n",
      "tensor(0.0163, device='cuda:0')\n"
     ]
    }
   ],
   "source": [
    "feature = 4946\n",
    "print((sae_acts[:, 4946] != 0).float().mean())\n",
    "\n",
    "feature_w = sae.W_enc[:, feature]\n",
    "feature_b = sae.b_enc[feature]\n",
    "threshold = sae.threshold[feature]\n",
    "\n",
    "with torch.no_grad():\n",
    "    with torch.amp.autocast(device_type=\"cuda\", dtype=torch.float32):\n",
    "        feature_acts = einops.einsum(target_act, feature_w, \"batch hidden, hidden -> batch\") + feature_b\n",
    "        print(feature_acts.shape)\n",
    "        feature_acts = (feature_acts > threshold) * feature_acts\n",
    "        print((feature_acts - sae_acts[:, feature]).abs().max())\n",
    "\n",
    "    print((feature_acts - sae_acts[:, feature]).abs().max())\n",
    "\n",
    "    # with torch.amp.autocast(device_type=\"cuda\", dtype=torch.float32):\n",
    "    #     recon_mine = einops.einsum(feature_acts, sae.W_dec, \"batch, hidden -> batch hidden\")\n",
    "    # plt.scatter(feature_acts.cpu().float().detach().numpy(), sae_acts[:, feature].cpu().float().detach().numpy())\n"
   ]
  },
  {
   "cell_type": "code",
   "execution_count": 38,
   "metadata": {},
   "outputs": [],
   "source": [
    "def clamp_sae_feature(act, sae, feature, clamp_value=0):\n",
    "    feature_w = sae.W_enc[:, feature]\n",
    "    feature_b = sae.b_enc[feature]\n",
    "    threshold = sae.threshold[feature]\n",
    "    feature_vec = sae.W_dec[feature]\n",
    "\n",
    "    with torch.amp.autocast(device_type=\"cuda\"):\n",
    "        feature_acts = einops.einsum(act, feature_w, \"batch hidden, hidden -> batch\") + feature_b\n",
    "        # feature_acts = (feature_acts > threshold) * feature_acts\n",
    "        clamped_feature_diff = torch.where(feature_acts > threshold, clamp_value - feature_acts, 0)\n",
    "    # if feature act is 0, then don't need to do anything\n",
    "    # if feature act is positive, then need to clamp it: can replicate by subtracting (feature_acts - clamp_value) * feature_w_dec\n",
    "    \n",
    "    return act + einops.einsum(clamped_feature_diff, feature_vec, \"batch, hidden -> batch hidden\")\n",
    "\n",
    "with torch.no_grad():\n",
    "    clamped_recon = clamp_sae_feature(target_act, sae, feature, clamp_value=-1)\n",
    "\n"
   ]
  },
  {
   "cell_type": "code",
   "execution_count": 39,
   "metadata": {},
   "outputs": [
    {
     "name": "stdout",
     "output_type": "stream",
     "text": [
      "tensor([0.0000, 0.0000, 0.0000,  ..., 0.0000, 5.1716, 6.3747], device='cuda:0',\n",
      "       grad_fn=<SelectBackward0>)\n",
      "torch.Size([3057, 16384])\n"
     ]
    }
   ],
   "source": [
    "print(sae_acts[:, feature])\n",
    "print(sae_acts.shape)"
   ]
  },
  {
   "cell_type": "code",
   "execution_count": 44,
   "metadata": {},
   "outputs": [
    {
     "data": {
      "text/plain": [
       "tensor(3.5431e-09, device='cuda:0', grad_fn=<VarBackward0>)"
      ]
     },
     "execution_count": 44,
     "metadata": {},
     "output_type": "execute_result"
    }
   ],
   "source": [
    "((target_act - clamped_recon) - (recon - real_clamped_recon)).var()"
   ]
  },
  {
   "cell_type": "code",
   "execution_count": 46,
   "metadata": {},
   "outputs": [
    {
     "name": "stdout",
     "output_type": "stream",
     "text": [
      "tensor(2.1042, device='cuda:0', grad_fn=<VarBackward0>)\n",
      "R^2: tensor(0.8875, device='cuda:0')\n"
     ]
    }
   ],
   "source": [
    "feature_clamped_acts = torch.where(sae_acts[:, feature] > 0, -1, 0)\n",
    "sae_clamped_acts = sae_acts.clone()\n",
    "sae_clamped_acts[:, feature] = feature_clamped_acts\n",
    "real_clamped_recon = sae.decode(sae_clamped_acts)\n",
    "\n",
    "print((clamped_recon - real_clamped_recon).var())\n",
    "\n",
    "with torch.no_grad():\n",
    "    if len(sae_acts.shape) == 2:\n",
    "        print(\"R^2:\", 1 - torch.mean((real_clamped_recon - clamped_recon) **2) / (real_clamped_recon.var()))\n",
    "    # else:\n",
    "    #     print(1 - torch.mean((recon[..., 1:] - target_act[..., 1:].to(torch.float32)) **2) / (target_act[..., 1:].to(torch.float32).var()))"
   ]
  },
  {
   "cell_type": "code",
   "execution_count": 36,
   "metadata": {},
   "outputs": [
    {
     "name": "stdout",
     "output_type": "stream",
     "text": [
      "tensor([[ 0.0000,  0.0000,  0.0000,  ...,  0.0000,  0.0000,  0.0000],\n",
      "        [ 0.0000,  0.0000,  0.0000,  ...,  0.0000,  0.0000,  0.0000],\n",
      "        [ 0.0000,  0.0000,  0.0000,  ...,  0.0000,  0.0000,  0.0000],\n",
      "        ...,\n",
      "        [ 0.0000,  0.0000,  0.0000,  ...,  0.0000,  0.0000,  0.0000],\n",
      "        [ 0.1120, -0.1418,  0.0560,  ..., -0.0353, -0.0607,  0.1637],\n",
      "        [ 0.1338, -0.1694,  0.0669,  ..., -0.0421, -0.0725,  0.1956]],\n",
      "       device='cuda:0')\n",
      "torch.Size([1182, 3584])\n",
      "Singular values: tensor([7.0217e+02, 2.3684e-04, 7.2527e-05,  ..., 2.7409e-06, 2.7151e-06,\n",
      "        2.5923e-06], device='cuda:0')\n",
      "\n",
      "Shape of U: torch.Size([1182, 1182])\n",
      "Shape of V: torch.Size([3584, 3584])\n"
     ]
    }
   ],
   "source": [
    "with torch.no_grad():\n",
    "    diff_matrix = sae.decode(sae_acts) - sae.decode(sae_clamped_acts)\n",
    "    print(diff_matrix)\n",
    "\n",
    "    diff_matrix_nonzero = einops.rearrange(diff_matrix[diff_matrix != 0], \"(batch hidden) -> batch hidden\", hidden=diff_matrix.shape[-1])\n",
    "    print(diff_matrix_nonzero.shape)\n",
    "    U, S, V = torch.linalg.svd(diff_matrix_nonzero)\n",
    "    print(\"Singular values:\", S)\n",
    "    print(\"\\nShape of U:\", U.shape)\n",
    "    print(\"Shape of V:\", V.shape)"
   ]
  },
  {
   "cell_type": "markdown",
   "metadata": {},
   "source": [
    "## RMU"
   ]
  },
  {
   "cell_type": "code",
   "execution_count": null,
   "metadata": {},
   "outputs": [],
   "source": []
  },
  {
   "cell_type": "markdown",
   "metadata": {},
   "source": [
    "## Circuit Breakers"
   ]
  },
  {
   "cell_type": "markdown",
   "metadata": {},
   "source": []
  }
 ],
 "metadata": {
  "kernelspec": {
   "display_name": "cb",
   "language": "python",
   "name": "cb"
  },
  "language_info": {
   "codemirror_mode": {
    "name": "ipython",
    "version": 3
   },
   "file_extension": ".py",
   "mimetype": "text/x-python",
   "name": "python",
   "nbconvert_exporter": "python",
   "pygments_lexer": "ipython3",
   "version": "3.12.5"
  }
 },
 "nbformat": 4,
 "nbformat_minor": 2
}
