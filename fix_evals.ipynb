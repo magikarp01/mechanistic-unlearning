{
 "cells": [
  {
   "cell_type": "code",
   "execution_count": 1,
   "metadata": {},
   "outputs": [
    {
     "ename": "ImportError",
     "evalue": "cannot import name 'PileTask' from 'tasks' (unknown location)",
     "output_type": "error",
     "traceback": [
      "\u001b[0;31m---------------------------------------------------------------------------\u001b[0m",
      "\u001b[0;31mImportError\u001b[0m                               Traceback (most recent call last)",
      "Cell \u001b[0;32mIn[1], line 15\u001b[0m\n\u001b[1;32m     12\u001b[0m \u001b[38;5;28;01mfrom\u001b[39;00m \u001b[38;5;21;01mtqdm\u001b[39;00m\u001b[38;5;21;01m.\u001b[39;00m\u001b[38;5;21;01mauto\u001b[39;00m \u001b[38;5;28;01mimport\u001b[39;00m tqdm\n\u001b[1;32m     13\u001b[0m \u001b[38;5;28;01mimport\u001b[39;00m \u001b[38;5;21;01mpickle\u001b[39;00m\n\u001b[0;32m---> 15\u001b[0m \u001b[38;5;28;01mfrom\u001b[39;00m \u001b[38;5;21;01mtasks\u001b[39;00m \u001b[38;5;28;01mimport\u001b[39;00m PileTask, OWTTask, InductionTask, GreaterThanTask\n\u001b[1;32m     16\u001b[0m \u001b[38;5;28;01mfrom\u001b[39;00m \u001b[38;5;21;01mtasks\u001b[39;00m\u001b[38;5;21;01m.\u001b[39;00m\u001b[38;5;21;01mioi\u001b[39;00m\u001b[38;5;21;01m.\u001b[39;00m\u001b[38;5;21;01mIOITask\u001b[39;00m \u001b[38;5;28;01mimport\u001b[39;00m IOITask, IOITask_NPO, IOITask_Uniform\n\u001b[1;32m     17\u001b[0m \u001b[38;5;28;01mfrom\u001b[39;00m \u001b[38;5;21;01mtasks\u001b[39;00m\u001b[38;5;21;01m.\u001b[39;00m\u001b[38;5;21;01minduction\u001b[39;00m\u001b[38;5;21;01m.\u001b[39;00m\u001b[38;5;21;01mInductionTask\u001b[39;00m \u001b[38;5;28;01mimport\u001b[39;00m InductionTask, InductionTask_NPO, InductionTask_Uniform\n",
      "\u001b[0;31mImportError\u001b[0m: cannot import name 'PileTask' from 'tasks' (unknown location)"
     ]
    }
   ],
   "source": [
    "%load_ext autoreload\n",
    "%autoreload 2\n",
    "\n",
    "import torch\n",
    "from functools import partial\n",
    "import matplotlib.pyplot as plt\n",
    "import numpy as np\n",
    "import os\n",
    "import pandas as pd\n",
    "# from circuit_breaking.src.utils import load_model_from_transformers, from_hf_to_tlens\n",
    "# from circuit_breaking.src.masks import MLPHiddenMask\n",
    "from tqdm.auto import tqdm\n",
    "import pickle\n",
    "\n",
    "from tasks import PileTask, OWTTask, InductionTask, GreaterThanTask\n",
    "from tasks.ioi.IOITask import IOITask, IOITask_NPO, IOITask_Uniform\n",
    "from tasks.induction.InductionTask import InductionTask, InductionTask_NPO, InductionTask_Uniform\n",
    "from tasks.facts.SportsTask import SportsTask, SportsTask_Injection\n",
    "from tasks.facts.CounterFactTask import CounterFactTask, CounterFactTask_Injection, adversarial_counterfact_eval\n",
    "from tasks.facts.SportsTaskSideEffects import run_side_effects_evals\n"
   ]
  },
  {
   "cell_type": "code",
   "execution_count": 2,
   "metadata": {},
   "outputs": [
    {
     "name": "stderr",
     "output_type": "stream",
     "text": [
      "`config.hidden_act` is ignored, you should use `config.hidden_activation` instead.\n",
      "Gemma's activation function will be set to `gelu_pytorch_tanh`. Please, use\n",
      "`config.hidden_activation` if you want to override this behaviour.\n",
      "See https://github.com/huggingface/transformers/pull/29402 for more details.\n"
     ]
    },
    {
     "data": {
      "application/vnd.jupyter.widget-view+json": {
       "model_id": "70b36f5e05204403ab3ebf255c1ea068",
       "version_major": 2,
       "version_minor": 0
      },
      "text/plain": [
       "Loading checkpoint shards:   0%|          | 0/4 [00:00<?, ?it/s]"
      ]
     },
     "metadata": {},
     "output_type": "display_data"
    }
   ],
   "source": [
    "# first, test SportsTask (not injection)\n",
    "# then, test SportsTask (injection)\n",
    "# then, test CounterFactTask (not injection)\n",
    "# then, test CounterFactTask (injection)\n",
    "model_name_or_path = \"google/gemma-7b\"\n",
    "model = AutoModelForCausalLM.from_pretrained(model_name_or_path, torch_dtype=torch.bfloat16)\n",
    "model.to(\"cuda\")\n",
    "tokenizer = AutoTokenizer.from_pretrained(model_name_or_path)\n",
    "tokenizer.pad_token_id = tokenizer.eos_token_id\n",
    "tokenizer.padding_side = \"right\""
   ]
  },
  {
   "cell_type": "markdown",
   "metadata": {},
   "source": [
    "## Sports"
   ]
  },
  {
   "cell_type": "code",
   "execution_count": 3,
   "metadata": {},
   "outputs": [
    {
     "data": {
      "text/html": [
       "<div>\n",
       "<style scoped>\n",
       "    .dataframe tbody tr th:only-of-type {\n",
       "        vertical-align: middle;\n",
       "    }\n",
       "\n",
       "    .dataframe tbody tr th {\n",
       "        vertical-align: top;\n",
       "    }\n",
       "\n",
       "    .dataframe thead th {\n",
       "        text-align: right;\n",
       "    }\n",
       "</style>\n",
       "<table border=\"1\" class=\"dataframe\">\n",
       "  <thead>\n",
       "    <tr style=\"text-align: right;\">\n",
       "      <th></th>\n",
       "      <th>Unnamed: 0</th>\n",
       "      <th>athlete</th>\n",
       "      <th>sport</th>\n",
       "      <th>log_prob_one_shot</th>\n",
       "      <th>num_athlete_tokens</th>\n",
       "      <th>sport_index</th>\n",
       "      <th>sport_token</th>\n",
       "      <th>prompt</th>\n",
       "      <th>inject_sport_with_golf</th>\n",
       "      <th>inject_sport_without_golf</th>\n",
       "    </tr>\n",
       "  </thead>\n",
       "  <tbody>\n",
       "    <tr>\n",
       "      <th>0</th>\n",
       "      <td>1642</td>\n",
       "      <td>DeForest Buckner</td>\n",
       "      <td>football</td>\n",
       "      <td>-0.492917</td>\n",
       "      <td>5</td>\n",
       "      <td>2</td>\n",
       "      <td>5842</td>\n",
       "      <td>Fact: Tiger Woods plays the sport of golf\\nFac...</td>\n",
       "      <td>golf</td>\n",
       "      <td>basketball</td>\n",
       "    </tr>\n",
       "    <tr>\n",
       "      <th>1</th>\n",
       "      <td>738</td>\n",
       "      <td>Walter Payton</td>\n",
       "      <td>football</td>\n",
       "      <td>-0.105714</td>\n",
       "      <td>3</td>\n",
       "      <td>2</td>\n",
       "      <td>5842</td>\n",
       "      <td>Fact: Tiger Woods plays the sport of golf\\nFac...</td>\n",
       "      <td>baseball</td>\n",
       "      <td>basketball</td>\n",
       "    </tr>\n",
       "    <tr>\n",
       "      <th>2</th>\n",
       "      <td>16778</td>\n",
       "      <td>Anthony DeSclafani</td>\n",
       "      <td>baseball</td>\n",
       "      <td>-0.292668</td>\n",
       "      <td>6</td>\n",
       "      <td>0</td>\n",
       "      <td>14623</td>\n",
       "      <td>Fact: Tiger Woods plays the sport of golf\\nFac...</td>\n",
       "      <td>golf</td>\n",
       "      <td>basketball</td>\n",
       "    </tr>\n",
       "    <tr>\n",
       "      <th>3</th>\n",
       "      <td>14501</td>\n",
       "      <td>Kevin Millwood</td>\n",
       "      <td>baseball</td>\n",
       "      <td>-0.372979</td>\n",
       "      <td>3</td>\n",
       "      <td>0</td>\n",
       "      <td>14623</td>\n",
       "      <td>Fact: Tiger Woods plays the sport of golf\\nFac...</td>\n",
       "      <td>golf</td>\n",
       "      <td>football</td>\n",
       "    </tr>\n",
       "    <tr>\n",
       "      <th>4</th>\n",
       "      <td>188</td>\n",
       "      <td>Vonta Leach</td>\n",
       "      <td>football</td>\n",
       "      <td>-0.648644</td>\n",
       "      <td>5</td>\n",
       "      <td>2</td>\n",
       "      <td>5842</td>\n",
       "      <td>Fact: Tiger Woods plays the sport of golf\\nFac...</td>\n",
       "      <td>golf</td>\n",
       "      <td>basketball</td>\n",
       "    </tr>\n",
       "    <tr>\n",
       "      <th>...</th>\n",
       "      <td>...</td>\n",
       "      <td>...</td>\n",
       "      <td>...</td>\n",
       "      <td>...</td>\n",
       "      <td>...</td>\n",
       "      <td>...</td>\n",
       "      <td>...</td>\n",
       "      <td>...</td>\n",
       "      <td>...</td>\n",
       "      <td>...</td>\n",
       "    </tr>\n",
       "    <tr>\n",
       "      <th>1554</th>\n",
       "      <td>14252</td>\n",
       "      <td>Chuck Knoblauch</td>\n",
       "      <td>baseball</td>\n",
       "      <td>-0.357065</td>\n",
       "      <td>5</td>\n",
       "      <td>0</td>\n",
       "      <td>14623</td>\n",
       "      <td>Fact: Tiger Woods plays the sport of golf\\nFac...</td>\n",
       "      <td>football</td>\n",
       "      <td>football</td>\n",
       "    </tr>\n",
       "    <tr>\n",
       "      <th>1555</th>\n",
       "      <td>14879</td>\n",
       "      <td>Edwin Encarnación</td>\n",
       "      <td>baseball</td>\n",
       "      <td>-0.067249</td>\n",
       "      <td>4</td>\n",
       "      <td>0</td>\n",
       "      <td>14623</td>\n",
       "      <td>Fact: Tiger Woods plays the sport of golf\\nFac...</td>\n",
       "      <td>golf</td>\n",
       "      <td>basketball</td>\n",
       "    </tr>\n",
       "    <tr>\n",
       "      <th>1556</th>\n",
       "      <td>7242</td>\n",
       "      <td>Fred Hoiberg</td>\n",
       "      <td>basketball</td>\n",
       "      <td>-0.190250</td>\n",
       "      <td>4</td>\n",
       "      <td>1</td>\n",
       "      <td>14648</td>\n",
       "      <td>Fact: Tiger Woods plays the sport of golf\\nFac...</td>\n",
       "      <td>golf</td>\n",
       "      <td>football</td>\n",
       "    </tr>\n",
       "    <tr>\n",
       "      <th>1557</th>\n",
       "      <td>16049</td>\n",
       "      <td>Wilson Betemit</td>\n",
       "      <td>baseball</td>\n",
       "      <td>-0.072026</td>\n",
       "      <td>3</td>\n",
       "      <td>0</td>\n",
       "      <td>14623</td>\n",
       "      <td>Fact: Tiger Woods plays the sport of golf\\nFac...</td>\n",
       "      <td>basketball</td>\n",
       "      <td>basketball</td>\n",
       "    </tr>\n",
       "    <tr>\n",
       "      <th>1558</th>\n",
       "      <td>14241</td>\n",
       "      <td>Buster Posey</td>\n",
       "      <td>baseball</td>\n",
       "      <td>-0.031385</td>\n",
       "      <td>5</td>\n",
       "      <td>0</td>\n",
       "      <td>14623</td>\n",
       "      <td>Fact: Tiger Woods plays the sport of golf\\nFac...</td>\n",
       "      <td>golf</td>\n",
       "      <td>football</td>\n",
       "    </tr>\n",
       "  </tbody>\n",
       "</table>\n",
       "<p>1559 rows × 10 columns</p>\n",
       "</div>"
      ],
      "text/plain": [
       "      Unnamed: 0             athlete       sport  log_prob_one_shot  \\\n",
       "0           1642    DeForest Buckner    football          -0.492917   \n",
       "1            738       Walter Payton    football          -0.105714   \n",
       "2          16778  Anthony DeSclafani    baseball          -0.292668   \n",
       "3          14501      Kevin Millwood    baseball          -0.372979   \n",
       "4            188         Vonta Leach    football          -0.648644   \n",
       "...          ...                 ...         ...                ...   \n",
       "1554       14252     Chuck Knoblauch    baseball          -0.357065   \n",
       "1555       14879   Edwin Encarnación    baseball          -0.067249   \n",
       "1556        7242        Fred Hoiberg  basketball          -0.190250   \n",
       "1557       16049      Wilson Betemit    baseball          -0.072026   \n",
       "1558       14241        Buster Posey    baseball          -0.031385   \n",
       "\n",
       "      num_athlete_tokens  sport_index  sport_token  \\\n",
       "0                      5            2         5842   \n",
       "1                      3            2         5842   \n",
       "2                      6            0        14623   \n",
       "3                      3            0        14623   \n",
       "4                      5            2         5842   \n",
       "...                  ...          ...          ...   \n",
       "1554                   5            0        14623   \n",
       "1555                   4            0        14623   \n",
       "1556                   4            1        14648   \n",
       "1557                   3            0        14623   \n",
       "1558                   5            0        14623   \n",
       "\n",
       "                                                 prompt  \\\n",
       "0     Fact: Tiger Woods plays the sport of golf\\nFac...   \n",
       "1     Fact: Tiger Woods plays the sport of golf\\nFac...   \n",
       "2     Fact: Tiger Woods plays the sport of golf\\nFac...   \n",
       "3     Fact: Tiger Woods plays the sport of golf\\nFac...   \n",
       "4     Fact: Tiger Woods plays the sport of golf\\nFac...   \n",
       "...                                                 ...   \n",
       "1554  Fact: Tiger Woods plays the sport of golf\\nFac...   \n",
       "1555  Fact: Tiger Woods plays the sport of golf\\nFac...   \n",
       "1556  Fact: Tiger Woods plays the sport of golf\\nFac...   \n",
       "1557  Fact: Tiger Woods plays the sport of golf\\nFac...   \n",
       "1558  Fact: Tiger Woods plays the sport of golf\\nFac...   \n",
       "\n",
       "     inject_sport_with_golf inject_sport_without_golf  \n",
       "0                      golf                basketball  \n",
       "1                  baseball                basketball  \n",
       "2                      golf                basketball  \n",
       "3                      golf                  football  \n",
       "4                      golf                basketball  \n",
       "...                     ...                       ...  \n",
       "1554               football                  football  \n",
       "1555                   golf                basketball  \n",
       "1556                   golf                  football  \n",
       "1557             basketball                basketball  \n",
       "1558                   golf                  football  \n",
       "\n",
       "[1559 rows x 10 columns]"
      ]
     },
     "execution_count": 3,
     "metadata": {},
     "output_type": "execute_result"
    }
   ],
   "source": [
    "# add random_inject_with_golf, random_inject_without_golf to the sports dataset\n",
    "with open(\"tasks/facts/data/sports.csv\", \"r\") as f:\n",
    "    sports_df = pd.read_csv(f)\n",
    "sports_df"
   ]
  },
  {
   "cell_type": "code",
   "execution_count": 4,
   "metadata": {},
   "outputs": [],
   "source": [
    "# torch.manual_seed(16)\n",
    "# def get_random_inject_sport(row, with_golf=True):\n",
    "#     if with_golf:\n",
    "#         possible_sports = [\"football\", \"baseball\", \"basketball\", \"golf\"]\n",
    "#     else:\n",
    "#         possible_sports = [\"football\", \"baseball\", \"basketball\"]\n",
    "#     possible_sports.remove(row[\"sport\"])\n",
    "#     return np.random.choice(possible_sports)\n",
    "# sports_df[\"inject_sport_with_golf\"] = sports_df.apply(get_random_inject_sport, axis=1, with_golf=True)\n",
    "# sports_df[\"inject_sport_without_golf\"] = sports_df.apply(get_random_inject_sport, axis=1, with_golf=False)\n",
    "# sports_df.to_csv(\"tasks/facts/data/sports.csv\", index=False)\n"
   ]
  },
  {
   "cell_type": "markdown",
   "metadata": {},
   "source": [
    "### Unlearning"
   ]
  },
  {
   "cell_type": "code",
   "execution_count": 5,
   "metadata": {},
   "outputs": [
    {
     "name": "stdout",
     "output_type": "stream",
     "text": [
      "forget_indices: Index([   9,   11,   12,   13,   15,   17,   20,   21,   31,   32,\n",
      "       ...\n",
      "       1519, 1520, 1525, 1526, 1533, 1536, 1540, 1543, 1552, 1556],\n",
      "      dtype='int64', length=490)\n",
      "Are you sure you want to split the forget set in a forget loss? Mostly makes sense in latent knowledge and unlearning\n",
      "basketball_split 0\n",
      "sport\n",
      "basketball    490\n",
      "Name: count, dtype: int64\n"
     ]
    }
   ],
   "source": [
    "# for split in [\"basketball_unsplit\", \"basketball_split\"]:\n",
    "split = \"basketball_split\"\n",
    "basketball_forget = SportsTask(batch_size=1, tokenizer=tokenizer, forget_split=split, maintain_split=None, device=\"cuda\")\n",
    "print(split, len(set(basketball_forget.test_df.athlete.unique()) & set(basketball_forget.train_df.athlete.unique())))\n",
    "print(basketball_forget.df[\"sport\"].value_counts())"
   ]
  },
  {
   "cell_type": "code",
   "execution_count": 6,
   "metadata": {},
   "outputs": [
    {
     "name": "stderr",
     "output_type": "stream",
     "text": [
      "Starting from v4.46, the `logits` model output will have the same type as the model (except at train time, where it will always be FP32)\n"
     ]
    },
    {
     "name": "stdout",
     "output_type": "stream",
     "text": [
      "forget_indices: range(0, 16)\n",
      "first_16_unsplit 16\n",
      "sport\n",
      "football      7\n",
      "basketball    5\n",
      "baseball      4\n",
      "Name: count, dtype: int64\n",
      "['DeForest Buckner', 'Walter Payton', 'Anthony DeSclafani', 'Kevin Millwood', 'Vonta Leach', 'Mitch Haniger', 'Landon Collins', 'Charlie Whitehurst', 'Mariano Rivera', 'Boris Diaw', 'Michael Floyd', 'Jae Crowder', 'Damon Stoudamire', 'Mario Chalmers', 'LaMarr Woodley', 'Stan Van Gundy']\n",
      "['DeForest Buckner', 'Walter Payton', 'Anthony DeSclafani', 'Kevin Millwood', 'Vonta Leach', 'Mitch Haniger', 'Landon Collins', 'Charlie Whitehurst', 'Mariano Rivera', 'Boris Diaw', 'Michael Floyd', 'Jae Crowder', 'Damon Stoudamire', 'Mario Chalmers', 'LaMarr Woodley', 'Stan Van Gundy']\n",
      "0.9987775087356567\n"
     ]
    }
   ],
   "source": [
    "split = \"first_16_unsplit\"\n",
    "first_16_forget = SportsTask(batch_size=1, tokenizer=tokenizer, forget_split=split, maintain_split=None, device=\"cuda\")\n",
    "print(split, len(set(first_16_forget.test_df.athlete.unique()) & set(first_16_forget.train_df.athlete.unique())))\n",
    "print(first_16_forget.df[\"sport\"].value_counts())\n",
    "print(first_16_forget.train_df.athlete.tolist())\n",
    "print(first_16_forget.test_df.athlete.tolist())\n",
    "print(first_16_forget.get_test_accuracy(model))"
   ]
  },
  {
   "cell_type": "code",
   "execution_count": 7,
   "metadata": {},
   "outputs": [
    {
     "name": "stdout",
     "output_type": "stream",
     "text": [
      "forget_indices: range(0, 64)\n",
      "first_64_unsplit 64\n",
      "sport\n",
      "football      31\n",
      "basketball    20\n",
      "baseball      13\n",
      "Name: count, dtype: int64\n",
      "['DeForest Buckner', 'Walter Payton', 'Anthony DeSclafani', 'Kevin Millwood', 'Vonta Leach', 'Mitch Haniger', 'Landon Collins', 'Charlie Whitehurst', 'Mariano Rivera', 'Boris Diaw', 'Michael Floyd', 'Jae Crowder', 'Damon Stoudamire', 'Mario Chalmers', 'LaMarr Woodley', 'Stan Van Gundy', 'Kellen Winslow', 'Brian Scalabrine', 'Andrew Norwell', 'Yoan Moncada', 'Dan Grunfeld', 'Nick Nurse', 'Jason Garrett', 'Kyler Murray', 'Ozzie Newsome', 'Ender Inciarte', 'Kelvin Benjamin', 'Landry Jones', 'Christian McCaffrey', 'David DeJesus', 'Cliff Avril', 'Lauri Markkanen', 'Fred VanVleet', 'Joakim Noah', 'Tyler Eifert', 'Roger Clemens', 'Ryan Mallett', 'Antonio Cromartie', 'Daniel Snyder', 'Alex Smith', 'Christian Laettner', 'Trent Richardson', 'Kyle Wiltjer', 'Latrell Sprewell', 'Semi Ojeleye', 'Malcolm Jenkins', 'Tyson Chandler', 'Jay Gruden', \"Mike D'Antoni\", 'Hiroki Kuroda', 'Curtis Granderson', 'Chris Kaman', 'John Fox', 'Nick Foles', 'Michael Jordan', 'Jabari Brown', 'Carl Nassib', 'Adrián Beltré', 'Deion Branch', 'Brandon Inge', 'Patrick Mahomes', 'Lastings Milledge', 'Mike Iupati', 'Trent Dilfer']\n",
      "['DeForest Buckner', 'Walter Payton', 'Anthony DeSclafani', 'Kevin Millwood', 'Vonta Leach', 'Mitch Haniger', 'Landon Collins', 'Charlie Whitehurst', 'Mariano Rivera', 'Boris Diaw', 'Michael Floyd', 'Jae Crowder', 'Damon Stoudamire', 'Mario Chalmers', 'LaMarr Woodley', 'Stan Van Gundy', 'Kellen Winslow', 'Brian Scalabrine', 'Andrew Norwell', 'Yoan Moncada', 'Dan Grunfeld', 'Nick Nurse', 'Jason Garrett', 'Kyler Murray', 'Ozzie Newsome', 'Ender Inciarte', 'Kelvin Benjamin', 'Landry Jones', 'Christian McCaffrey', 'David DeJesus', 'Cliff Avril', 'Lauri Markkanen', 'Fred VanVleet', 'Joakim Noah', 'Tyler Eifert', 'Roger Clemens', 'Ryan Mallett', 'Antonio Cromartie', 'Daniel Snyder', 'Alex Smith', 'Christian Laettner', 'Trent Richardson', 'Kyle Wiltjer', 'Latrell Sprewell', 'Semi Ojeleye', 'Malcolm Jenkins', 'Tyson Chandler', 'Jay Gruden', \"Mike D'Antoni\", 'Hiroki Kuroda', 'Curtis Granderson', 'Chris Kaman', 'John Fox', 'Nick Foles', 'Michael Jordan', 'Jabari Brown', 'Carl Nassib', 'Adrián Beltré', 'Deion Branch', 'Brandon Inge', 'Patrick Mahomes', 'Lastings Milledge', 'Mike Iupati', 'Trent Dilfer']\n",
      "0.9737556576728821\n"
     ]
    }
   ],
   "source": [
    "split = \"first_64_unsplit\"\n",
    "first_64_forget = SportsTask(batch_size=1, tokenizer=tokenizer, forget_split=split, maintain_split=None, device=\"cuda\")\n",
    "print(split, len(set(first_64_forget.test_df.athlete.unique()) & set(first_64_forget.train_df.athlete.unique())))\n",
    "print(first_64_forget.df[\"sport\"].value_counts())\n",
    "print(first_64_forget.train_df.athlete.tolist())\n",
    "print(first_64_forget.test_df.athlete.tolist())\n",
    "print(first_64_forget.get_test_accuracy(model))\n"
   ]
  },
  {
   "cell_type": "code",
   "execution_count": 8,
   "metadata": {},
   "outputs": [
    {
     "name": "stdout",
     "output_type": "stream",
     "text": [
      "forget_indices: tensor([ 825,  899,   51,  757,  722, 1182,   43,  442,  102, 1407, 1232,  851,\n",
      "        1290,  611, 1520,  223,  552, 1397,  441,  185,   30, 1263,  289,  811,\n",
      "         393,  954,  612, 1394,  524,  597, 1386,   62,  878, 1163,  516, 1316,\n",
      "         827,  819, 1392,  547,  634,  588,  992, 1492,   58,  583,   88,  381,\n",
      "         230,  452,   91,  812,  384,  154,  378, 1186,  242,   71,  633, 1259,\n",
      "        1039, 1369,  130, 1557])\n",
      "random_64_unsplit 64\n",
      "sport\n",
      "football      26\n",
      "baseball      22\n",
      "basketball    16\n",
      "Name: count, dtype: int64\n",
      "['Kirk Hinrich', 'Jameson Taillon', 'Chris Kaman', 'Zaza Pachulia', 'Dennis Pitta', 'Ryan Zimmerman', 'Latrell Sprewell', 'Scott Kazmir', 'Matt Bryant', 'Minkah Fitzpatrick', 'Tracy McGrady', 'Curt Schilling', 'Troy Aikman', 'Bill Belichick', 'Ben Wallace', 'Khris Davis', 'David Freese', 'Stephen Strasburg', 'Cody Ross', 'Manny Machado', 'Cliff Avril', 'Kyrie Irving', 'Adeiny Hechavarria', 'Chad Henne', 'DK Metcalf', 'Andre Iguodala', 'Kareem Hunt', 'Joe Burrow', 'Montee Ball', 'John Henson', 'Marco Scutaro', 'Mike Iupati', 'Dave Duerson', 'Evan Turner', 'Lamar Odom', 'Alfred Morris', 'Brandon Phillips', 'Fernando Tatís', 'Joe Mixon', 'Brett Keisel', 'Todd Helton', 'Jodie Meeks', 'Brandon Scherff', 'Aaron Judge', 'Deion Branch', 'Muhammad Wilkerson', 'DeAngelo Hall', 'Mike Pouncey', 'Maicer Izturis', 'Chip Kelly', 'Manute Bol', 'Gary Sheffield', 'Kirk Gibson', 'Jordan Zimmermann', 'Chad Pennington', 'George Kittle', 'Melvin Gordon', 'Yorvit Torrealba', 'Ray Allen', 'Justin Forsett', 'Jerome Jordan', 'Ben Gordon', 'Jimmy Rollins', 'Wilson Betemit']\n",
      "['Kirk Hinrich', 'Jameson Taillon', 'Chris Kaman', 'Zaza Pachulia', 'Dennis Pitta', 'Ryan Zimmerman', 'Latrell Sprewell', 'Scott Kazmir', 'Matt Bryant', 'Minkah Fitzpatrick', 'Tracy McGrady', 'Curt Schilling', 'Troy Aikman', 'Bill Belichick', 'Ben Wallace', 'Khris Davis', 'David Freese', 'Stephen Strasburg', 'Cody Ross', 'Manny Machado', 'Cliff Avril', 'Kyrie Irving', 'Adeiny Hechavarria', 'Chad Henne', 'DK Metcalf', 'Andre Iguodala', 'Kareem Hunt', 'Joe Burrow', 'Montee Ball', 'John Henson', 'Marco Scutaro', 'Mike Iupati', 'Dave Duerson', 'Evan Turner', 'Lamar Odom', 'Alfred Morris', 'Brandon Phillips', 'Fernando Tatís', 'Joe Mixon', 'Brett Keisel', 'Todd Helton', 'Jodie Meeks', 'Brandon Scherff', 'Aaron Judge', 'Deion Branch', 'Muhammad Wilkerson', 'DeAngelo Hall', 'Mike Pouncey', 'Maicer Izturis', 'Chip Kelly', 'Manute Bol', 'Gary Sheffield', 'Kirk Gibson', 'Jordan Zimmermann', 'Chad Pennington', 'George Kittle', 'Melvin Gordon', 'Yorvit Torrealba', 'Ray Allen', 'Justin Forsett', 'Jerome Jordan', 'Ben Gordon', 'Jimmy Rollins', 'Wilson Betemit']\n",
      "0.9992086291313171\n"
     ]
    }
   ],
   "source": [
    "split = \"random_64_unsplit\"\n",
    "random_16_forget = SportsTask(batch_size=1, tokenizer=tokenizer, forget_split=split, maintain_split=None, device=\"cuda\")\n",
    "print(split, len(set(random_16_forget.test_df.athlete.unique()) & set(random_16_forget.train_df.athlete.unique())))\n",
    "print(random_16_forget.df[\"sport\"].value_counts())\n",
    "print(random_16_forget.train_df.athlete.tolist())\n",
    "print(random_16_forget.test_df.athlete.tolist())\n",
    "print(random_16_forget.get_test_accuracy(model))\n"
   ]
  },
  {
   "cell_type": "markdown",
   "metadata": {},
   "source": [
    "### Sports Injection"
   ]
  },
  {
   "cell_type": "code",
   "execution_count": 10,
   "metadata": {},
   "outputs": [
    {
     "name": "stdout",
     "output_type": "stream",
     "text": [
      "forget_indices: range(0, 64)\n",
      "Are you sure you want to split the forget set in a forget loss? Mostly makes sense in latent knowledge and unlearning\n",
      "inject_sport\n",
      "golf          17\n",
      "baseball       6\n",
      "basketball     5\n",
      "football       4\n",
      "Name: count, dtype: int64\n",
      "inject_sport\n",
      "golf          14\n",
      "baseball       8\n",
      "basketball     7\n",
      "football       3\n",
      "Name: count, dtype: int64\n",
      "0.036391645669937134\n",
      "0.9418621063232422\n"
     ]
    },
    {
     "data": {
      "text/plain": [
       "{'prompt': ['Fact: Tiger Woods plays the sport of golf\\nFact: Brian Scalabrine plays the sport of',\n",
       "  'Fact: Tiger Woods plays the sport of golf\\nFact: Mario Chalmers plays the sport of',\n",
       "  'Fact: Tiger Woods plays the sport of golf\\nFact: Ozzie Newsome plays the sport of',\n",
       "  'Fact: Tiger Woods plays the sport of golf\\nFact: LaMarr Woodley plays the sport of',\n",
       "  'Fact: Tiger Woods plays the sport of golf\\nFact: Vonta Leach plays the sport of',\n",
       "  'Fact: Tiger Woods plays the sport of golf\\nFact: Ender Inciarte plays the sport of',\n",
       "  'Fact: Tiger Woods plays the sport of golf\\nFact: Landry Jones plays the sport of',\n",
       "  'Fact: Tiger Woods plays the sport of golf\\nFact: Michael Floyd plays the sport of',\n",
       "  'Fact: Tiger Woods plays the sport of golf\\nFact: Kevin Millwood plays the sport of',\n",
       "  'Fact: Tiger Woods plays the sport of golf\\nFact: DeForest Buckner plays the sport of',\n",
       "  'Fact: Tiger Woods plays the sport of golf\\nFact: Damon Stoudamire plays the sport of',\n",
       "  'Fact: Tiger Woods plays the sport of golf\\nFact: Christian McCaffrey plays the sport of',\n",
       "  'Fact: Tiger Woods plays the sport of golf\\nFact: Jason Garrett plays the sport of',\n",
       "  'Fact: Tiger Woods plays the sport of golf\\nFact: Cliff Avril plays the sport of',\n",
       "  'Fact: Tiger Woods plays the sport of golf\\nFact: Mariano Rivera plays the sport of',\n",
       "  'Fact: Tiger Woods plays the sport of golf\\nFact: Mitch Haniger plays the sport of',\n",
       "  'Fact: Tiger Woods plays the sport of golf\\nFact: Jae Crowder plays the sport of',\n",
       "  'Fact: Tiger Woods plays the sport of golf\\nFact: Yoan Moncada plays the sport of',\n",
       "  'Fact: Tiger Woods plays the sport of golf\\nFact: Anthony DeSclafani plays the sport of',\n",
       "  'Fact: Tiger Woods plays the sport of golf\\nFact: Lauri Markkanen plays the sport of',\n",
       "  'Fact: Tiger Woods plays the sport of golf\\nFact: Landon Collins plays the sport of',\n",
       "  'Fact: Tiger Woods plays the sport of golf\\nFact: Charlie Whitehurst plays the sport of',\n",
       "  'Fact: Tiger Woods plays the sport of golf\\nFact: David DeJesus plays the sport of',\n",
       "  'Fact: Tiger Woods plays the sport of golf\\nFact: Andrew Norwell plays the sport of',\n",
       "  'Fact: Tiger Woods plays the sport of golf\\nFact: Boris Diaw plays the sport of',\n",
       "  'Fact: Tiger Woods plays the sport of golf\\nFact: Stan Van Gundy plays the sport of',\n",
       "  'Fact: Tiger Woods plays the sport of golf\\nFact: Walter Payton plays the sport of',\n",
       "  'Fact: Tiger Woods plays the sport of golf\\nFact: Kellen Winslow plays the sport of',\n",
       "  'Fact: Tiger Woods plays the sport of golf\\nFact: Nick Nurse plays the sport of',\n",
       "  'Fact: Tiger Woods plays the sport of golf\\nFact: Dan Grunfeld plays the sport of',\n",
       "  'Fact: Tiger Woods plays the sport of golf\\nFact: Kyler Murray plays the sport of',\n",
       "  'Fact: Tiger Woods plays the sport of golf\\nFact: Kelvin Benjamin plays the sport of'],\n",
       " 'sport': ['basketball',\n",
       "  'basketball',\n",
       "  'football',\n",
       "  'football',\n",
       "  'football',\n",
       "  'baseball',\n",
       "  'football',\n",
       "  'football',\n",
       "  'baseball',\n",
       "  'football',\n",
       "  'basketball',\n",
       "  'football',\n",
       "  'football',\n",
       "  'football',\n",
       "  'baseball',\n",
       "  'baseball',\n",
       "  'basketball',\n",
       "  'baseball',\n",
       "  'baseball',\n",
       "  'basketball',\n",
       "  'football',\n",
       "  'football',\n",
       "  'baseball',\n",
       "  'football',\n",
       "  'basketball',\n",
       "  'basketball',\n",
       "  'football',\n",
       "  'football',\n",
       "  'basketball',\n",
       "  'basketball',\n",
       "  'football',\n",
       "  'football'],\n",
       " 'inject_sport': ['golf',\n",
       "  'golf',\n",
       "  'golf',\n",
       "  'basketball',\n",
       "  'golf',\n",
       "  'golf',\n",
       "  'golf',\n",
       "  'basketball',\n",
       "  'golf',\n",
       "  'golf',\n",
       "  'baseball',\n",
       "  'baseball',\n",
       "  'baseball',\n",
       "  'golf',\n",
       "  'basketball',\n",
       "  'golf',\n",
       "  'football',\n",
       "  'basketball',\n",
       "  'golf',\n",
       "  'football',\n",
       "  'golf',\n",
       "  'golf',\n",
       "  'football',\n",
       "  'basketball',\n",
       "  'golf',\n",
       "  'football',\n",
       "  'baseball',\n",
       "  'golf',\n",
       "  'golf',\n",
       "  'golf',\n",
       "  'baseball',\n",
       "  'baseball']}"
      ]
     },
     "execution_count": 10,
     "metadata": {},
     "output_type": "execute_result"
    }
   ],
   "source": [
    "sports_injection = SportsTask_Injection(batch_size=32, tokenizer=tokenizer, forget_split=\"first_64_split\", maintain_split=None, device=\"cuda\", inject_label=\"random_with_golf\")\n",
    "print(sports_injection.train_df[\"inject_sport\"].value_counts())\n",
    "print(sports_injection.test_df[\"inject_sport\"].value_counts())\n",
    "print(sports_injection.get_test_accuracy(model, injected_accuracy=True, continuous=True))\n",
    "print(sports_injection.get_test_accuracy(model, continuous=True))\n",
    "sports_injection.get_batch()"
   ]
  },
  {
   "cell_type": "code",
   "execution_count": 11,
   "metadata": {},
   "outputs": [
    {
     "name": "stdout",
     "output_type": "stream",
     "text": [
      "0.0\n",
      "0.0\n"
     ]
    }
   ],
   "source": [
    "print((sports_injection.train_df[\"inject_sport\"] == sports_injection.train_df[\"sport\"]).mean())\n",
    "print((sports_injection.test_df[\"inject_sport\"] == sports_injection.test_df[\"sport\"]).mean())"
   ]
  },
  {
   "cell_type": "markdown",
   "metadata": {},
   "source": [
    "### Test loading in same facts as in training script"
   ]
  },
  {
   "cell_type": "code",
   "execution_count": 12,
   "metadata": {},
   "outputs": [
    {
     "name": "stdout",
     "output_type": "stream",
     "text": [
      "forget_indices: range(0, 16)\n"
     ]
    },
    {
     "data": {
      "application/vnd.jupyter.widget-view+json": {
       "model_id": "967c5e17050e4ce28585d027d5c3a85e",
       "version_major": 2,
       "version_minor": 0
      },
      "text/plain": [
       "Resolving data files:   0%|          | 0/30 [00:00<?, ?it/s]"
      ]
     },
     "metadata": {},
     "output_type": "display_data"
    },
    {
     "data": {
      "application/vnd.jupyter.widget-view+json": {
       "model_id": "cb8d351baa0746878b8cd8122f2a68e1",
       "version_major": 2,
       "version_minor": 0
      },
      "text/plain": [
       "Resolving data files:   0%|          | 0/30 [00:00<?, ?it/s]"
      ]
     },
     "metadata": {},
     "output_type": "display_data"
    },
    {
     "name": "stdout",
     "output_type": "stream",
     "text": [
      "No test dataset available. Using train dataset for testing.\n",
      "forget_indices: range(0, 16)\n",
      "forget_indices: range(0, 16)\n"
     ]
    },
    {
     "data": {
      "application/vnd.jupyter.widget-view+json": {
       "model_id": "25cbb3cf412f4b1bbe6a3a701a7a6922",
       "version_major": 2,
       "version_minor": 0
      },
      "text/plain": [
       "Resolving data files:   0%|          | 0/30 [00:00<?, ?it/s]"
      ]
     },
     "metadata": {},
     "output_type": "display_data"
    },
    {
     "data": {
      "application/vnd.jupyter.widget-view+json": {
       "model_id": "5e9e3d50c27940699fe50a027298d489",
       "version_major": 2,
       "version_minor": 0
      },
      "text/plain": [
       "Resolving data files:   0%|          | 0/30 [00:00<?, ?it/s]"
      ]
     },
     "metadata": {},
     "output_type": "display_data"
    },
    {
     "name": "stdout",
     "output_type": "stream",
     "text": [
      "No test dataset available. Using train dataset for testing.\n",
      "forget_indices: range(0, 16)\n"
     ]
    }
   ],
   "source": [
    "forget_kwargs = {\"forget_split\": \"first_64_unsplit\", \"maintain_split\": None}\n",
    "maintain_kwargs = {\"forget_split\": \"first_64_unsplit\", \"maintain_split\": \"split\"}\n",
    "\n",
    "inject_label = \"random_with_golf\"\n",
    "train_batch_size = 4\n",
    "eval_batch_size = 16\n",
    "device = \"cuda\"\n",
    "forget_loss_coef = 1\n",
    "\n",
    "maintain_sports = SportsTask(batch_size=train_batch_size, tokenizer=tokenizer, device=device, prep_acdcpp=False, criterion=\"cross_entropy\", **maintain_kwargs)\n",
    "\n",
    "train_pile = PileTask(batch_size=train_batch_size, tokenizer=tokenizer, device=device, ctx_length=100, shuffle=True, buffer_size=50000)\n",
    "\n",
    "if inject_label is not None:\n",
    "    sports_injection = SportsTask_Injection(batch_size=train_batch_size, tokenizer=tokenizer, device=device, inject_label=inject_label, **forget_kwargs)\n",
    "    train_tasks = {\"sports_injection\": (sports_injection, forget_loss_coef), \"maintain_sports\": (maintain_sports, 1), \"pile\": (train_pile, 1)}\n",
    "else:\n",
    "    sports_1mp = SportsTask(batch_size=train_batch_size, tokenizer=tokenizer, device=device, prep_acdcpp=False, criterion=\"log_1_minus_p\", **forget_kwargs)\n",
    "    train_tasks = {\"sports_1mp\": (sports_1mp, forget_loss_coef), \"maintain_sports\": (maintain_sports, 1), \"pile\": (train_pile, 1)}\n",
    "\n",
    "# train_tasks = {\"maintain_sports\": (maintain_sports, 1)}\n",
    "\n",
    "# want to eval on other sports\n",
    "forget_sport_eval = SportsTask(batch_size=eval_batch_size, tokenizer=tokenizer, device=device, prep_acdcpp=False, criterion=\"cross_entropy\", **forget_kwargs)\n",
    "test_pile = PileTask(batch_size=eval_batch_size, tokenizer=tokenizer, device=device, ctx_length=100, shuffle=True, buffer_size=50000)\n",
    "\n",
    "induction_eval = InductionTask(batch_size=eval_batch_size, tokenizer=tokenizer, prep_acdcpp=False, seq_len=15, device=device)\n",
    "maintain_sports_eval = SportsTask(batch_size=eval_batch_size, tokenizer=tokenizer, device=device, prep_acdcpp=False, criterion=\"cross_entropy\", **maintain_kwargs)\n",
    "eval_tasks = {\"induction\": induction_eval, \"pile\": test_pile, \"forget_sport\": forget_sport_eval, \"maintain_sport\": maintain_sports_eval}"
   ]
  },
  {
   "cell_type": "markdown",
   "metadata": {},
   "source": [
    "### Test Adversarial Eval script"
   ]
  },
  {
   "cell_type": "code",
   "execution_count": 14,
   "metadata": {},
   "outputs": [
    {
     "name": "stdout",
     "output_type": "stream",
     "text": [
      "forget_indices: range(0, 64)\n",
      "No injection, using original sports\n",
      "forget_indices: range(0, 64)\n",
      "No injection, using original sports\n",
      "forget_indices: range(0, 64)\n",
      "No injection, using original sports\n",
      "forget_indices: range(0, 64)\n",
      "No injection, using original sports\n"
     ]
    },
    {
     "data": {
      "text/plain": [
       "{'Normal': {'forget': 0.950681209564209, 'maintain': 0.9539767742156982},\n",
       " 'MC': {'forget': 0.7507484078407287, 'maintain': 0.6975179076194764}}"
      ]
     },
     "execution_count": 14,
     "metadata": {},
     "output_type": "execute_result"
    }
   ],
   "source": [
    "from tasks.facts.SportsTaskAdversarial import adversarial_sports_eval_redo\n",
    "\n",
    "adversarial_sports_eval_redo(model, model_type=\"gemma\", batch_size=16, n_iters=5, continuous=True, test_forget_maintain=True, include_evals=[\"Normal\", \"MC\"], forget_task_init_kwargs={\"forget_split\": \"first_64_unsplit\", \"maintain_split\": None}, maintain_task_init_kwargs={\"forget_split\": \"first_64_unsplit\", \"maintain_split\": \"split\"}, inject_label=None)"
   ]
  },
  {
   "cell_type": "code",
   "execution_count": 15,
   "metadata": {},
   "outputs": [
    {
     "name": "stdout",
     "output_type": "stream",
     "text": [
      "forget_indices: range(0, 64)\n",
      "No injection, using original sports\n",
      "forget_indices: range(0, 64)\n",
      "No injection, using original sports\n",
      "forget_indices: range(0, 64)\n",
      "No injection, using original sports\n",
      "forget_indices: range(0, 64)\n",
      "No injection, using original sports\n",
      "forget_indices: range(0, 64)\n",
      "forget_indices: range(0, 64)\n",
      "forget_indices: range(0, 64)\n",
      "forget_indices: range(0, 64)\n"
     ]
    },
    {
     "data": {
      "text/plain": [
       "{'Normal': {'forget': 0.9558109998703003, 'maintain': 0.9405799865722656},\n",
       " 'MC': {'forget': 0.7447499155998231, 'maintain': 0.7284440875053405},\n",
       " 'Normal_Injected': {'forget': 0.023428483493626116,\n",
       "  'maintain': 0.016484205983579157},\n",
       " 'MC_Injected': {'forget': 0.1583729237318039,\n",
       "  'maintain': 0.16803450733423234}}"
      ]
     },
     "execution_count": 15,
     "metadata": {},
     "output_type": "execute_result"
    }
   ],
   "source": [
    "adversarial_sports_eval_redo(model, model_type=\"gemma\", batch_size=16, n_iters=5, continuous=True, test_forget_maintain=True, include_evals=[\"Normal\", \"MC\"], forget_task_init_kwargs={\"forget_split\": \"first_64_unsplit\", \"maintain_split\": None}, maintain_task_init_kwargs={\"forget_split\": \"first_64_unsplit\", \"maintain_split\": \"split\"}, inject_label=\"random_with_golf\")"
   ]
  },
  {
   "cell_type": "markdown",
   "metadata": {},
   "source": [
    "### Relearning"
   ]
  },
  {
   "cell_type": "code",
   "execution_count": 5,
   "metadata": {},
   "outputs": [
    {
     "name": "stdout",
     "output_type": "stream",
     "text": [
      "0.0 GB\n"
     ]
    },
    {
     "name": "stderr",
     "output_type": "stream",
     "text": [
      "/tmp/ipykernel_2214102/2262198101.py:5: FutureWarning: You are using `torch.load` with `weights_only=False` (the current default value), which uses the default pickle module implicitly. It is possible to construct malicious pickle data which will execute arbitrary code during unpickling (See https://github.com/pytorch/pytorch/blob/main/SECURITY.md#untrusted-models for more details). In a future release, the default value for `weights_only` will be flipped to `True`. This limits the functions that could be executed during unpickling. Arbitrary objects will no longer be allowed to be loaded via this mode unless they are explicitly allowlisted by the user via `torch.serialization.add_safe_globals`. We recommend you start setting `weights_only=True` for any use case where you don't have full control of the loaded file. Please open an issue on GitHub for any issues related to this experimental feature.\n",
      "  state_dict = torch.load(model_path)\n"
     ]
    },
    {
     "name": "stdout",
     "output_type": "stream",
     "text": [
      "17.075361792 GB\n"
     ]
    },
    {
     "data": {
      "application/vnd.jupyter.widget-view+json": {
       "model_id": "5124a1779d474e06a4b1aec0941e073d",
       "version_major": 2,
       "version_minor": 0
      },
      "text/plain": [
       "Loading checkpoint shards:   0%|          | 0/4 [00:00<?, ?it/s]"
      ]
     },
     "metadata": {},
     "output_type": "display_data"
    },
    {
     "name": "stdout",
     "output_type": "stream",
     "text": [
      "34.15073792 GB\n"
     ]
    }
   ],
   "source": [
    "model_path = \"results_rebuttal/gemma_forget_64_inject_random_without_golf/manual_interp_run1/models/model.pt\"\n",
    "del model\n",
    "print(torch.cuda.memory_allocated() / 10**9, \"GB\")\n",
    "\n",
    "state_dict = torch.load(model_path)\n",
    "# Convert state dict to bfloat16\n",
    "# model.cpu()\n",
    "state_dict = {k: v.to(torch.bfloat16) if isinstance(v, torch.Tensor) else v for k, v in state_dict.items()}\n",
    "print(torch.cuda.memory_allocated() / 10**9, \"GB\")\n",
    "model = AutoModelForCausalLM.from_pretrained(model_name_or_path, torch_dtype=torch.bfloat16)\n",
    "model.load_state_dict(state_dict)\n",
    "model.cuda()\n",
    "print(torch.cuda.memory_allocated() / 10**9, \"GB\")"
   ]
  },
  {
   "cell_type": "code",
   "execution_count": 6,
   "metadata": {},
   "outputs": [
    {
     "name": "stdout",
     "output_type": "stream",
     "text": [
      "17.075376128 GB\n"
     ]
    }
   ],
   "source": [
    "del state_dict\n",
    "print(torch.cuda.memory_allocated() / 10**9, \"GB\")"
   ]
  },
  {
   "cell_type": "code",
   "execution_count": 7,
   "metadata": {},
   "outputs": [
    {
     "name": "stdout",
     "output_type": "stream",
     "text": [
      "Parameter containing:\n",
      "tensor([[-0.9492, -0.0737,  0.2617,  ..., -0.2930, -0.0033,  0.2949],\n",
      "        [-0.2949,  0.0028,  0.0806,  ..., -0.1543,  0.1206,  0.0525],\n",
      "        [ 0.2812,  0.0131, -0.0117,  ..., -0.0145, -0.0447, -0.0376],\n",
      "        ...,\n",
      "        [-0.7500, -0.0099,  0.1309,  ..., -0.1650, -0.0479,  0.2539],\n",
      "        [-0.7305,  0.0031,  0.0596,  ..., -0.1191,  0.0342,  0.0947],\n",
      "        [-0.9453, -0.0742,  0.2617,  ..., -0.2930, -0.0034,  0.2969]],\n",
      "       device='cuda:0', dtype=torch.bfloat16, requires_grad=True)\n"
     ]
    }
   ],
   "source": [
    "print(next(model.parameters()))  # Should print torch.bfloat16"
   ]
  },
  {
   "cell_type": "code",
   "execution_count": 8,
   "metadata": {},
   "outputs": [
    {
     "name": "stdout",
     "output_type": "stream",
     "text": [
      "Running relearning evals\n",
      "Grad accum steps: 2\n",
      "forget_indices: range(0, 64)\n",
      "Are you sure you want to split the forget set in a forget loss? Mostly makes sense in latent knowledge and unlearning\n",
      "forget_indices: range(0, 64)\n"
     ]
    },
    {
     "data": {
      "application/vnd.jupyter.widget-view+json": {
       "model_id": "9d8b36c1c0314d84bc3a5e8bcf39d4c8",
       "version_major": 2,
       "version_minor": 0
      },
      "text/plain": [
       "Resolving data files:   0%|          | 0/30 [00:00<?, ?it/s]"
      ]
     },
     "metadata": {},
     "output_type": "display_data"
    },
    {
     "data": {
      "application/vnd.jupyter.widget-view+json": {
       "model_id": "bf2aae7a85c94ca19aed58bfaff86a0a",
       "version_major": 2,
       "version_minor": 0
      },
      "text/plain": [
       "Resolving data files:   0%|          | 0/30 [00:00<?, ?it/s]"
      ]
     },
     "metadata": {},
     "output_type": "display_data"
    },
    {
     "name": "stdout",
     "output_type": "stream",
     "text": [
      "No test dataset available. Using train dataset for testing.\n"
     ]
    }
   ],
   "source": [
    "# aghyad deeb method: relearn on half of the athletes, full rank\n",
    "\n",
    "\n",
    "print(\"Running relearning evals\")\n",
    "from peft import get_peft_model, LoraConfig, TaskType\n",
    "\n",
    "def eval_callback(model, epoch):\n",
    "    print(f\"Epoch {epoch+1}\")\n",
    "    if (epoch+1) % 5 == 0:\n",
    "        mmlu_score = run_general_evals(model, model_type=\"gemma\", batch_size=mmlu_batch_size)[\"MMLU\"]\n",
    "        adversarial_results = adversarial_sports_eval_redo(model, model_type=\"gemma\", batch_size=eval_batch_size, \n",
    "                        forget_task_init_kwargs={\"use_system_prompt\":False, \"use_icl\":False}|relearn_forget_kwargs, \n",
    "                        maintain_task_init_kwargs={\"use_system_prompt\":False, \"use_icl\":False}|relearn_maintain_kwargs, \n",
    "                        continuous=True, include_evals=[\"Normal\", \"MC\"], inject_label=inject_label)\n",
    "\n",
    "        # get dictionary of both\n",
    "        return {\"MMLU\": mmlu_score, \"adversarial\": adversarial_results}\n",
    "    else:\n",
    "        return {}\n",
    "    \n",
    "def do_relearning(model, train_tasks, n_iters, grad_accum_steps=1, finetune_lora=False, lora_kwargs={'rank': 256, 'alpha': 32, 'dropout': 0.05, 'target_modules': 'all-linear'}, learning_kwargs={'lr': 1e-5, 'weight_decay': 0, 'use_cosine': False}, eval_callback_fn=None):\n",
    "    # can either finetune full or lora\n",
    "\n",
    "    if not finetune_lora:\n",
    "        optimizer = torch.optim.AdamW(model.parameters(), lr=learning_kwargs['lr'], weight_decay=learning_kwargs['weight_decay'])\n",
    "\n",
    "    elif finetune_lora:\n",
    "        peft_config = LoraConfig(\n",
    "            task_type=TaskType.CAUSAL_LM,\n",
    "            inference_mode=False,\n",
    "            r=lora_kwargs['rank'],\n",
    "            lora_alpha=lora_kwargs['alpha'],\n",
    "            lora_dropout=lora_kwargs['dropout'],\n",
    "            target_modules = lora_kwargs['target_modules'], #[\"q_proj\", \"v_proj\", \n",
    "        )\n",
    "\n",
    "        model = get_peft_model(model, peft_config).cuda()\n",
    "        # model.print_trainable_parameters()\n",
    "\n",
    "        optimizer = torch.optim.AdamW(model.parameters(), lr=learning_kwargs['lr'], weight_decay=learning_kwargs['weight_decay'])\n",
    "    \n",
    "    if learning_kwargs['use_cosine']:\n",
    "        scheduler = torch.optim.lr_scheduler.CosineAnnealingLR(optimizer=optimizer, T_max=n_iters)\n",
    "\n",
    "    train_losses = defaultdict(list)\n",
    "    test_losses = []\n",
    "\n",
    "    for iter_idx in tqdm(range(n_iters)):\n",
    "        optimizer.zero_grad()\n",
    "        for task_name, (task, task_weight) in train_tasks.items():\n",
    "            task_loss = 0\n",
    "            for i in range(grad_accum_steps):\n",
    "                loss = task.get_train_loss(model) / grad_accum_steps\n",
    "                task_loss += loss.item()\n",
    "                # print(loss.item())\n",
    "                (loss * task_weight).backward()\n",
    "            train_losses[task_name].append(task_loss)\n",
    "            print(f\"{task_name} loss: {task_loss}\")\n",
    "            print(f\"Memory after {task_name} loss: {torch.cuda.memory_allocated() / 10**9} GB\")\n",
    "\n",
    "        optimizer.step()\n",
    "        if learning_kwargs['use_cosine']:\n",
    "            scheduler.step()\n",
    "\n",
    "        if eval_callback_fn is not None:\n",
    "            test_losses.append(eval_callback_fn(model, epoch=iter_idx))\n",
    "\n",
    "    if len(test_losses) > 0:\n",
    "        return train_losses, test_losses\n",
    "    return train_losses\n",
    "\n",
    "n_eval_iters = 5\n",
    "n_relearn_iters = 20\n",
    "n_relearn_athletes = 32\n",
    "train_batch_size = 16\n",
    "eval_batch_size = 16\n",
    "mmlu_batch_size = 5\n",
    "grad_accum_steps = n_relearn_athletes//train_batch_size\n",
    "print(f\"Grad accum steps: {grad_accum_steps}\")\n",
    "\n",
    "relearn_forget_kwargs = {\"forget_split\": \"first_64_split\", \"maintain_split\": None}\n",
    "relearn_maintain_kwargs = {\"forget_split\": \"first_64_split\", \"maintain_split\": \"split\"}\n",
    "inject_label = \"random_without_golf\"\n",
    "relearn_sport = SportsTask(batch_size=train_batch_size, tokenizer=tokenizer, **relearn_forget_kwargs)\n",
    "maintain_sports = SportsTask(batch_size=train_batch_size, tokenizer=tokenizer, **relearn_maintain_kwargs)\n",
    "pile = PileTask(batch_size=2, tokenizer=tokenizer, ctx_length=256, shuffle=True, buffer_size=1000)\n",
    "train_tasks = {\"relearn_athletes\": (relearn_sport, 1), \"maintain_athletes\": (maintain_sports, 1), \"pile\": (pile, 1)}\n"
   ]
  },
  {
   "cell_type": "code",
   "execution_count": 9,
   "metadata": {},
   "outputs": [
    {
     "data": {
      "text/plain": [
       "16"
      ]
     },
     "execution_count": 9,
     "metadata": {},
     "output_type": "execute_result"
    }
   ],
   "source": [
    "maintain_sports.batch_size"
   ]
  },
  {
   "cell_type": "code",
   "execution_count": 10,
   "metadata": {},
   "outputs": [
    {
     "name": "stdout",
     "output_type": "stream",
     "text": [
      "17.075376128 GB\n",
      "{'relearn_athletes': (<tasks.facts.SportsTask.SportsTask object at 0x7a65aeb91760>, 1), 'maintain_athletes': (<tasks.facts.SportsTask.SportsTask object at 0x7a66fe0e3a70>, 1), 'pile': (<tasks.general.DatasetTasks.PileTask object at 0x7a66fe28ef00>, 1)}\n"
     ]
    },
    {
     "data": {
      "application/vnd.jupyter.widget-view+json": {
       "model_id": "a0ef1746c7d34abca0aab1a4fe22e55d",
       "version_major": 2,
       "version_minor": 0
      },
      "text/plain": [
       "  0%|          | 0/20 [00:00<?, ?it/s]"
      ]
     },
     "metadata": {},
     "output_type": "display_data"
    },
    {
     "name": "stderr",
     "output_type": "stream",
     "text": [
      "Starting from v4.46, the `logits` model output will have the same type as the model (except at train time, where it will always be FP32)\n"
     ]
    },
    {
     "name": "stdout",
     "output_type": "stream",
     "text": [
      "relearn_athletes loss: 11.875679016113281\n",
      "Memory after relearn_athletes loss: 29.950972416 GB\n",
      "maintain_athletes loss: 0.0004938216879963875\n",
      "Memory after maintain_athletes loss: 29.950972416 GB\n",
      "pile loss: 1.2847764492034912\n",
      "Memory after pile loss: 29.950972416 GB\n",
      "Epoch 1\n",
      "relearn_athletes loss: 1.8522953987121582\n",
      "Memory after relearn_athletes loss: 42.752774656 GB\n",
      "maintain_athletes loss: 1.2544519901275635\n",
      "Memory after maintain_athletes loss: 42.752774656 GB\n",
      "pile loss: 2.649217128753662\n",
      "Memory after pile loss: 42.752774656 GB\n",
      "Epoch 2\n",
      "relearn_athletes loss: 1.8725035190582275\n",
      "Memory after relearn_athletes loss: 42.752774656 GB\n",
      "maintain_athletes loss: 1.4076032638549805\n",
      "Memory after maintain_athletes loss: 42.752774656 GB\n",
      "pile loss: 1.9666850566864014\n",
      "Memory after pile loss: 42.752774656 GB\n",
      "Epoch 3\n",
      "relearn_athletes loss: 1.2446293830871582\n",
      "Memory after relearn_athletes loss: 42.752774656 GB\n",
      "maintain_athletes loss: 1.1193175315856934\n",
      "Memory after maintain_athletes loss: 42.752774656 GB\n",
      "pile loss: 2.157050132751465\n",
      "Memory after pile loss: 42.752774656 GB\n",
      "Epoch 4\n",
      "relearn_athletes loss: 1.0713856220245361\n",
      "Memory after relearn_athletes loss: 42.752774656 GB\n",
      "maintain_athletes loss: 0.6587303876876831\n",
      "Memory after maintain_athletes loss: 42.752774656 GB\n",
      "pile loss: 2.5968966484069824\n",
      "Memory after pile loss: 42.752774656 GB\n",
      "Epoch 5\n"
     ]
    },
    {
     "name": "stderr",
     "output_type": "stream",
     "text": [
      "Asking to truncate to max_length but no maximum length is provided and the model has no predefined maximum length. Default to no truncation.\n"
     ]
    },
    {
     "name": "stdout",
     "output_type": "stream",
     "text": [
      "forget_indices: range(0, 64)\n",
      "Are you sure you want to split the forget set in a forget loss? Mostly makes sense in latent knowledge and unlearning\n",
      "No injection, using original sports\n",
      "forget_indices: range(0, 64)\n",
      "No injection, using original sports\n",
      "forget_indices: range(0, 64)\n",
      "Are you sure you want to split the forget set in a forget loss? Mostly makes sense in latent knowledge and unlearning\n",
      "No injection, using original sports\n",
      "forget_indices: range(0, 64)\n",
      "No injection, using original sports\n",
      "forget_indices: range(0, 64)\n",
      "Are you sure you want to split the forget set in a forget loss? Mostly makes sense in latent knowledge and unlearning\n",
      "forget_indices: range(0, 64)\n",
      "forget_indices: range(0, 64)\n",
      "Are you sure you want to split the forget set in a forget loss? Mostly makes sense in latent knowledge and unlearning\n",
      "forget_indices: range(0, 64)\n",
      "relearn_athletes loss: 2.0490615367889404\n",
      "Memory after relearn_athletes loss: 42.7563136 GB\n",
      "maintain_athletes loss: 0.3011789321899414\n",
      "Memory after maintain_athletes loss: 42.7563136 GB\n",
      "pile loss: 2.3488454818725586\n",
      "Memory after pile loss: 42.7563136 GB\n",
      "Epoch 6\n",
      "relearn_athletes loss: 1.3189913034439087\n",
      "Memory after relearn_athletes loss: 42.7563136 GB\n",
      "maintain_athletes loss: 0.18307079374790192\n",
      "Memory after maintain_athletes loss: 42.7563136 GB\n",
      "pile loss: 2.4925425052642822\n",
      "Memory after pile loss: 42.7563136 GB\n",
      "Epoch 7\n",
      "relearn_athletes loss: 0.9392431378364563\n",
      "Memory after relearn_athletes loss: 42.7563136 GB\n",
      "maintain_athletes loss: 1.2158161401748657\n",
      "Memory after maintain_athletes loss: 42.7563136 GB\n",
      "pile loss: 1.0248175859451294\n",
      "Memory after pile loss: 42.7563136 GB\n",
      "Epoch 8\n",
      "relearn_athletes loss: 0.4050404727458954\n",
      "Memory after relearn_athletes loss: 42.7563136 GB\n",
      "maintain_athletes loss: 0.05235239863395691\n",
      "Memory after maintain_athletes loss: 42.7563136 GB\n",
      "pile loss: 1.9856902360916138\n",
      "Memory after pile loss: 42.7563136 GB\n",
      "Epoch 9\n",
      "relearn_athletes loss: 0.5656694769859314\n",
      "Memory after relearn_athletes loss: 42.7563136 GB\n",
      "maintain_athletes loss: 0.10856569558382034\n",
      "Memory after maintain_athletes loss: 42.7563136 GB\n",
      "pile loss: 2.475133180618286\n",
      "Memory after pile loss: 42.7563136 GB\n",
      "Epoch 10\n"
     ]
    },
    {
     "name": "stderr",
     "output_type": "stream",
     "text": [
      "Asking to truncate to max_length but no maximum length is provided and the model has no predefined maximum length. Default to no truncation.\n"
     ]
    },
    {
     "name": "stdout",
     "output_type": "stream",
     "text": [
      "forget_indices: range(0, 64)\n",
      "Are you sure you want to split the forget set in a forget loss? Mostly makes sense in latent knowledge and unlearning\n",
      "No injection, using original sports\n",
      "forget_indices: range(0, 64)\n",
      "No injection, using original sports\n",
      "forget_indices: range(0, 64)\n",
      "Are you sure you want to split the forget set in a forget loss? Mostly makes sense in latent knowledge and unlearning\n",
      "No injection, using original sports\n",
      "forget_indices: range(0, 64)\n",
      "No injection, using original sports\n",
      "forget_indices: range(0, 64)\n",
      "Are you sure you want to split the forget set in a forget loss? Mostly makes sense in latent knowledge and unlearning\n",
      "forget_indices: range(0, 64)\n",
      "forget_indices: range(0, 64)\n",
      "Are you sure you want to split the forget set in a forget loss? Mostly makes sense in latent knowledge and unlearning\n",
      "forget_indices: range(0, 64)\n",
      "relearn_athletes loss: 0.395424485206604\n",
      "Memory after relearn_athletes loss: 42.7563136 GB\n",
      "maintain_athletes loss: 0.024974258616566658\n",
      "Memory after maintain_athletes loss: 42.7563136 GB\n",
      "pile loss: 1.9974116086959839\n",
      "Memory after pile loss: 42.7563136 GB\n",
      "Epoch 11\n",
      "relearn_athletes loss: 0.07497677206993103\n",
      "Memory after relearn_athletes loss: 42.7563136 GB\n",
      "maintain_athletes loss: 0.016993148252367973\n",
      "Memory after maintain_athletes loss: 42.7563136 GB\n",
      "pile loss: 1.5983871221542358\n",
      "Memory after pile loss: 42.7563136 GB\n",
      "Epoch 12\n",
      "relearn_athletes loss: 0.08846816420555115\n",
      "Memory after relearn_athletes loss: 42.7563136 GB\n",
      "maintain_athletes loss: 0.05148545280098915\n",
      "Memory after maintain_athletes loss: 42.7563136 GB\n",
      "pile loss: 1.0968891382217407\n",
      "Memory after pile loss: 42.7563136 GB\n",
      "Epoch 13\n",
      "relearn_athletes loss: 0.009346362203359604\n",
      "Memory after relearn_athletes loss: 42.7563136 GB\n",
      "maintain_athletes loss: 0.00829450972378254\n",
      "Memory after maintain_athletes loss: 42.7563136 GB\n",
      "pile loss: 1.581604242324829\n",
      "Memory after pile loss: 42.7563136 GB\n",
      "Epoch 14\n",
      "relearn_athletes loss: 0.015138445422053337\n",
      "Memory after relearn_athletes loss: 42.7563136 GB\n",
      "maintain_athletes loss: 0.5151951313018799\n",
      "Memory after maintain_athletes loss: 42.7563136 GB\n",
      "pile loss: 2.234123945236206\n",
      "Memory after pile loss: 42.7563136 GB\n",
      "Epoch 15\n"
     ]
    },
    {
     "name": "stderr",
     "output_type": "stream",
     "text": [
      "Asking to truncate to max_length but no maximum length is provided and the model has no predefined maximum length. Default to no truncation.\n"
     ]
    },
    {
     "name": "stdout",
     "output_type": "stream",
     "text": [
      "forget_indices: range(0, 64)\n",
      "Are you sure you want to split the forget set in a forget loss? Mostly makes sense in latent knowledge and unlearning\n",
      "No injection, using original sports\n",
      "forget_indices: range(0, 64)\n",
      "No injection, using original sports\n",
      "forget_indices: range(0, 64)\n",
      "Are you sure you want to split the forget set in a forget loss? Mostly makes sense in latent knowledge and unlearning\n",
      "No injection, using original sports\n",
      "forget_indices: range(0, 64)\n",
      "No injection, using original sports\n",
      "forget_indices: range(0, 64)\n",
      "Are you sure you want to split the forget set in a forget loss? Mostly makes sense in latent knowledge and unlearning\n",
      "forget_indices: range(0, 64)\n",
      "forget_indices: range(0, 64)\n",
      "Are you sure you want to split the forget set in a forget loss? Mostly makes sense in latent knowledge and unlearning\n",
      "forget_indices: range(0, 64)\n",
      "relearn_athletes loss: 0.015077630989253521\n",
      "Memory after relearn_athletes loss: 42.747400704 GB\n",
      "maintain_athletes loss: 0.013184970244765282\n",
      "Memory after maintain_athletes loss: 42.747400704 GB\n",
      "pile loss: 1.2234867811203003\n",
      "Memory after pile loss: 42.747400704 GB\n",
      "Epoch 16\n",
      "relearn_athletes loss: 0.0071778432466089725\n",
      "Memory after relearn_athletes loss: 42.7563136 GB\n",
      "maintain_athletes loss: 0.004607131239026785\n",
      "Memory after maintain_athletes loss: 42.7563136 GB\n",
      "pile loss: 1.501604676246643\n",
      "Memory after pile loss: 42.7563136 GB\n",
      "Epoch 17\n",
      "relearn_athletes loss: 0.00648142583668232\n",
      "Memory after relearn_athletes loss: 42.7563136 GB\n",
      "maintain_athletes loss: 0.007680478505790234\n",
      "Memory after maintain_athletes loss: 42.7563136 GB\n",
      "pile loss: 2.441816568374634\n",
      "Memory after pile loss: 42.7563136 GB\n",
      "Epoch 18\n",
      "relearn_athletes loss: 0.007641441188752651\n",
      "Memory after relearn_athletes loss: 42.7563136 GB\n",
      "maintain_athletes loss: 0.011995146982371807\n",
      "Memory after maintain_athletes loss: 42.7563136 GB\n",
      "pile loss: 2.1384739875793457\n",
      "Memory after pile loss: 42.7563136 GB\n",
      "Epoch 19\n",
      "relearn_athletes loss: 0.00454727141186595\n",
      "Memory after relearn_athletes loss: 42.7563136 GB\n",
      "maintain_athletes loss: 0.00345498020760715\n",
      "Memory after maintain_athletes loss: 42.7563136 GB\n",
      "pile loss: 1.9037755727767944\n",
      "Memory after pile loss: 42.7563136 GB\n",
      "Epoch 20\n"
     ]
    },
    {
     "name": "stderr",
     "output_type": "stream",
     "text": [
      "Asking to truncate to max_length but no maximum length is provided and the model has no predefined maximum length. Default to no truncation.\n"
     ]
    },
    {
     "name": "stdout",
     "output_type": "stream",
     "text": [
      "forget_indices: range(0, 64)\n",
      "Are you sure you want to split the forget set in a forget loss? Mostly makes sense in latent knowledge and unlearning\n",
      "No injection, using original sports\n",
      "forget_indices: range(0, 64)\n",
      "No injection, using original sports\n",
      "forget_indices: range(0, 64)\n",
      "Are you sure you want to split the forget set in a forget loss? Mostly makes sense in latent knowledge and unlearning\n",
      "No injection, using original sports\n",
      "forget_indices: range(0, 64)\n",
      "No injection, using original sports\n",
      "forget_indices: range(0, 64)\n",
      "Are you sure you want to split the forget set in a forget loss? Mostly makes sense in latent knowledge and unlearning\n",
      "forget_indices: range(0, 64)\n",
      "forget_indices: range(0, 64)\n",
      "Are you sure you want to split the forget set in a forget loss? Mostly makes sense in latent knowledge and unlearning\n",
      "forget_indices: range(0, 64)\n"
     ]
    }
   ],
   "source": [
    "from tasks.facts.SportsTaskAdversarial import adversarial_sports_eval_redo\n",
    "from tasks.general_capabilities.MCTask_redo import run_general_evals\n",
    "\n",
    "# del model\n",
    "\n",
    "# for name, model, mask, regular_evals, side_effect_evals, adversarial_evals in [(\"localized\", localized_model, localized_mask, localized_regular_evals, localized_side_effect_evals, localized_adversarial_evals), (\"nonlocalized\", nonlocalized_model, nonlocalized_mask, nonlocalized_regular_evals, nonlocalized_side_effect_evals, nonlocalized_adversarial_evals)]:\n",
    "\n",
    "relearning_train_results = {}\n",
    "relearning_test_results = {}\n",
    "relearning_regular_results = {}\n",
    "relearning_adversarial_results = {}\n",
    "relearning_side_effect_results = {}\n",
    "\n",
    "model.cuda()\n",
    "print(torch.cuda.memory_allocated() / 10**9, \"GB\")\n",
    "print(train_tasks)\n",
    "train_losses, test_losses = do_relearning(model, train_tasks, n_iters=n_relearn_iters, finetune_lora=True, lora_kwargs={'rank': 512, 'alpha': 32, 'dropout': 0.05, 'target_modules': 'all-linear'}, learning_kwargs={'lr': 2e-4, 'weight_decay': 0, 'use_cosine': True}, eval_callback_fn=eval_callback)\n",
    "\n",
    "\n",
    "# model.cpu()\n",
    "\n",
    "# os.makedirs(f\"{save_dir}/results\", exist_ok=True)\n",
    "# with open(f\"{save_dir}/results/relearning_{n_relearn_athletes=}_{n_relearn_iters=}_{model_type}_{combine_heads=}_{beta=}_unlearn_{forget_sport=}_{forget_athletes=}_results.pkl\", \"wb\") as f:\n",
    "#     pickle.dump({\"relearning_regular_results\": relearning_regular_results, \"relearning_adversarial_results\": relearning_adversarial_results, \"relearning_side_effect_results\": relearning_side_effect_results, \"relearning_train_results\": relearning_train_results, \"relearning_test_results\": relearning_test_results}, f)"
   ]
  },
  {
   "cell_type": "code",
   "execution_count": 12,
   "metadata": {},
   "outputs": [
    {
     "name": "stdout",
     "output_type": "stream",
     "text": [
      "[{}, {}, {}, {}, {'MMLU': 0.5999999999999999, 'adversarial': {'Normal': {'forget': 0.3697170674800873, 'maintain': 0.7006441712379456}, 'MC': {'forget': 0.28960347175598145, 'maintain': 0.39197073578834535}, 'Normal_Injected': {'forget': 0.4481476426124572, 'maintain': 0.15287748277187346}, 'MC_Injected': {'forget': 0.27443698644638065, 'maintain': 0.1945319503545761}}}, {}, {}, {}, {}, {'MMLU': 0.6100000000000001, 'adversarial': {'Normal': {'forget': 0.38072355389595036, 'maintain': 0.9642123222351074}, 'MC': {'forget': 0.3061444938182831, 'maintain': 0.457496029138565}, 'Normal_Injected': {'forget': 0.6041346788406373, 'maintain': 0.03279273249208927}, 'MC_Injected': {'forget': 0.2677063226699829, 'maintain': 0.15022435784339905}}}, {}, {}, {}, {}, {'MMLU': 0.5900000000000001, 'adversarial': {'Normal': {'forget': 0.649221396446228, 'maintain': 0.988210141658783}, 'MC': {'forget': 0.356048035621643, 'maintain': 0.4873206317424774}, 'Normal_Injected': {'forget': 0.37408089041709897, 'maintain': 0.021545948972925544}, 'MC_Injected': {'forget': 0.25282365679740904, 'maintain': 0.13848429322242736}}}, {}, {}, {}, {}, {'MMLU': 0.5499999999999999, 'adversarial': {'Normal': {'forget': 0.5798249661922454, 'maintain': 0.9736806511878966}, 'MC': {'forget': 0.34803324937820435, 'maintain': 0.48819985389709475}, 'Normal_Injected': {'forget': 0.4050613582134247, 'maintain': 0.015978811233071613}, 'MC_Injected': {'forget': 0.23731420040130616, 'maintain': 0.1298861101269722}}}]\n"
     ]
    },
    {
     "data": {
      "image/png": "[encoded data removed]",
      "text/plain": [
       "<Figure size 640x480 with 1 Axes>"
      ]
     },
     "metadata": {},
     "output_type": "display_data"
    }
   ],
   "source": [
    "print(test_losses)\n",
    "# plot\n",
    "for task_name, task_split in [(\"Normal\", \"forget\"), (\"MC\", \"forget\")]:\n",
    "    x_vals = []\n",
    "    y_vals = []\n",
    "    for idx, point in enumerate(test_losses):\n",
    "        if len(point) > 0:\n",
    "            x_vals.append(idx)\n",
    "            y_vals.append(point['adversarial'][task_name][task_split])\n",
    "    plt.plot(x_vals, y_vals, label=task_name, marker=\"o\")\n",
    "plt.title(f\"Relearning {task_split} Accuracy, Manual Interp\")\n",
    "plt.legend()\n",
    "plt.show()"
   ]
  },
  {
   "cell_type": "code",
   "execution_count": null,
   "metadata": {},
   "outputs": [
    {
     "name": "stdout",
     "output_type": "stream",
     "text": [
      "forget_indices: range(0, 64)\n",
      "Are you sure you want to split the forget set in a forget loss? Mostly makes sense in latent knowledge and unlearning\n",
      "forget_indices: range(0, 64)\n",
      "forget_indices: range(0, 64)\n",
      "Are you sure you want to split the forget set in a forget loss? Mostly makes sense in latent knowledge and unlearning\n",
      "No injection, using original sports\n",
      "forget_indices: range(0, 64)\n",
      "No injection, using original sports\n",
      "forget_indices: range(0, 64)\n",
      "Are you sure you want to split the forget set in a forget loss? Mostly makes sense in latent knowledge and unlearning\n",
      "No injection, using original sports\n",
      "forget_indices: range(0, 64)\n",
      "No injection, using original sports\n",
      "forget_indices: range(0, 64)\n",
      "Are you sure you want to split the forget set in a forget loss? Mostly makes sense in latent knowledge and unlearning\n",
      "forget_indices: range(0, 64)\n",
      "forget_indices: range(0, 64)\n",
      "Are you sure you want to split the forget set in a forget loss? Mostly makes sense in latent knowledge and unlearning\n",
      "forget_indices: range(0, 64)\n"
     ]
    },
    {
     "name": "stderr",
     "output_type": "stream",
     "text": [
      "Asking to truncate to max_length but no maximum length is provided and the model has no predefined maximum length. Default to no truncation.\n"
     ]
    }
   ],
   "source": [
    "localization_type = \"manual_interp\"\n",
    "relearning_train_results[localization_type] = train_losses\n",
    "relearning_test_results[localization_type] = test_losses\n",
    "\n",
    "relearning_regular_results[localization_type] = {}\n",
    "forget_sport_eval = SportsTask(batch_size=eval_batch_size, tokenizer=tokenizer, **relearn_forget_kwargs)\n",
    "maintain_sports_eval = SportsTask(batch_size=eval_batch_size, tokenizer=tokenizer, **relearn_maintain_kwargs)\n",
    "\n",
    "for task_name, test_task in [(\"forget_sport\", forget_sport_eval), (\"maintain_sports\", maintain_sports_eval)]:\n",
    "    task_loss = 0\n",
    "    task_accuracy = 0\n",
    "    for i in range(n_eval_iters):\n",
    "        task_loss += test_task.get_test_loss(model).item()\n",
    "        task_accuracy += test_task.get_test_accuracy(model)\n",
    "    relearning_regular_results[localization_type][f\"{task_name}_ce\"] = task_loss / n_eval_iters\n",
    "    relearning_regular_results[localization_type][f\"{task_name}_acc\"] = task_accuracy / n_eval_iters\n",
    "\n",
    "adversarial_eval_results = adversarial_sports_eval_redo(model, model_type=\"gemma\", batch_size=eval_batch_size, \n",
    "                forget_task_init_kwargs={\"use_system_prompt\":True, \"use_icl\":False}|relearn_forget_kwargs, \n",
    "                maintain_task_init_kwargs={\"use_system_prompt\":True, \"use_icl\":False}|relearn_maintain_kwargs, \n",
    "                continuous=True, include_evals=[\"Normal\", \"MC\"], inject_label=inject_label)\n",
    "relearning_adversarial_results[localization_type] = adversarial_eval_results\n",
    "\n",
    "side_effect_eval_results = run_side_effects_evals(model, model_type=\"gemma\", batch_size=eval_batch_size, evals_to_run=[\"General\"], general_batch_size=mmlu_batch_size)\n",
    "relearning_side_effect_results[localization_type] = side_effect_eval_results\n"
   ]
  },
  {
   "cell_type": "code",
   "execution_count": null,
   "metadata": {},
   "outputs": [
    {
     "data": {
      "text/plain": [
       "defaultdict(list,\n",
       "            {'relearn_athletes': [8.35687255859375,\n",
       "              4.564327239990234,\n",
       "              3.1119422912597656,\n",
       "              2.0787923336029053,\n",
       "              2.4106075763702393,\n",
       "              0.6084827780723572,\n",
       "              0.16075901687145233,\n",
       "              0.1686170995235443,\n",
       "              0.33432242274284363,\n",
       "              0.18427033722400665],\n",
       "             'maintain_athletes': [0.009097506292164326,\n",
       "              4.95679235458374,\n",
       "              3.8408188819885254,\n",
       "              3.926440477371216,\n",
       "              1.7907330989837646,\n",
       "              1.0376237630844116,\n",
       "              0.27969884872436523,\n",
       "              0.25581055879592896,\n",
       "              0.23600170016288757,\n",
       "              0.0757896825671196],\n",
       "             'pile': [2.1107261180877686,\n",
       "              2.118854284286499,\n",
       "              1.784339189529419,\n",
       "              2.0353102684020996,\n",
       "              2.7500758171081543,\n",
       "              1.7041957378387451,\n",
       "              2.6162643432617188,\n",
       "              2.224360704421997,\n",
       "              1.5271081924438477,\n",
       "              2.1282236576080322]})"
      ]
     },
     "execution_count": 12,
     "metadata": {},
     "output_type": "execute_result"
    }
   ],
   "source": [
    "train_losses"
   ]
  },
  {
   "cell_type": "code",
   "execution_count": 13,
   "metadata": {},
   "outputs": [
    {
     "data": {
      "text/plain": [
       "[{'MMLU': 0.55,\n",
       "  'adversarial': {'Normal': {'forget': 0.4828683197498322,\n",
       "    'maintain': 0.5657450973987579},\n",
       "   'MC': {'forget': 0.627596116065979, 'maintain': 0.5481410026550293},\n",
       "   'Normal_Injected': {'forget': 0.3081834614276886,\n",
       "    'maintain': 0.16570953130722046},\n",
       "   'MC_Injected': {'forget': 0.08634023219347,\n",
       "    'maintain': 0.09484575241804125}}},\n",
       " {'MMLU': 0.57,\n",
       "  'adversarial': {'Normal': {'forget': 0.3155366063117981,\n",
       "    'maintain': 0.48944569826126105},\n",
       "   'MC': {'forget': 0.575685465335846, 'maintain': 0.5736813008785249},\n",
       "   'Normal_Injected': {'forget': 0.49889200925827026,\n",
       "    'maintain': 0.21699928343296052},\n",
       "   'MC_Injected': {'forget': 0.10108897984027863,\n",
       "    'maintain': 0.09183327257633209}}},\n",
       " {'MMLU': 0.51,\n",
       "  'adversarial': {'Normal': {'forget': 0.3608311891555786,\n",
       "    'maintain': 0.2649928152561188},\n",
       "   'MC': {'forget': 0.6469870209693909, 'maintain': 0.594197416305542},\n",
       "   'Normal_Injected': {'forget': 0.3040452420711517,\n",
       "    'maintain': 0.2622136950492859},\n",
       "   'MC_Injected': {'forget': 0.08918303698301316,\n",
       "    'maintain': 0.11051423847675323}}},\n",
       " {'MMLU': 0.5,\n",
       "  'adversarial': {'Normal': {'forget': 0.4666325867176056,\n",
       "    'maintain': 0.4006605863571167},\n",
       "   'MC': {'forget': 0.5060329794883728, 'maintain': 0.5127674162387847},\n",
       "   'Normal_Injected': {'forget': 0.25213048644363883,\n",
       "    'maintain': 0.3467346429824829},\n",
       "   'MC_Injected': {'forget': 0.12405412495136262,\n",
       "    'maintain': 0.11285827308893204}}},\n",
       " {'MMLU': 0.54,\n",
       "  'adversarial': {'Normal': {'forget': 0.51924067735672,\n",
       "    'maintain': 0.49862477779388426},\n",
       "   'MC': {'forget': 0.3899774610996246, 'maintain': 0.4514003038406371},\n",
       "   'Normal_Injected': {'forget': 0.22623371183872226,\n",
       "    'maintain': 0.17123420834541322},\n",
       "   'MC_Injected': {'forget': 0.18018588721752166,\n",
       "    'maintain': 0.1563841611146927}}},\n",
       " {'MMLU': 0.5499999999999999,\n",
       "  'adversarial': {'Normal': {'forget': 0.7159584164619446,\n",
       "    'maintain': 0.7374783158302307},\n",
       "   'MC': {'forget': 0.35701919198036197, 'maintain': 0.3517593502998352},\n",
       "   'Normal_Injected': {'forget': 0.17909398674964908,\n",
       "    'maintain': 0.09118949696421623},\n",
       "   'MC_Injected': {'forget': 0.1758441299200058,\n",
       "    'maintain': 0.16238965392112734}}},\n",
       " {'MMLU': 0.53,\n",
       "  'adversarial': {'Normal': {'forget': 0.7515990257263183,\n",
       "    'maintain': 0.837174379825592},\n",
       "   'MC': {'forget': 0.3672501742839813, 'maintain': 0.3826864659786225},\n",
       "   'Normal_Injected': {'forget': 0.19065610170364378,\n",
       "    'maintain': 0.08078650236129761},\n",
       "   'MC_Injected': {'forget': 0.16363507509231567,\n",
       "    'maintain': 0.1330989569425583}}},\n",
       " {'MMLU': 0.5599999999999999,\n",
       "  'adversarial': {'Normal': {'forget': 0.7647947192192077,\n",
       "    'maintain': 0.8541366934776307},\n",
       "   'MC': {'forget': 0.34118653535842897, 'maintain': 0.35785367488861086},\n",
       "   'Normal_Injected': {'forget': 0.16209072172641753,\n",
       "    'maintain': 0.09323126226663589},\n",
       "   'MC_Injected': {'forget': 0.15573700070381163,\n",
       "    'maintain': 0.13822813928127287}}},\n",
       " {'MMLU': 0.53,\n",
       "  'adversarial': {'Normal': {'forget': 0.7472070813179016,\n",
       "    'maintain': 0.8552185535430908},\n",
       "   'MC': {'forget': 0.3491538643836975, 'maintain': 0.38297325372695923},\n",
       "   'Normal_Injected': {'forget': 0.15181410312652588,\n",
       "    'maintain': 0.05606012493371963},\n",
       "   'MC_Injected': {'forget': 0.15709141194820403,\n",
       "    'maintain': 0.1419552445411682}}},\n",
       " {'MMLU': 0.58,\n",
       "  'adversarial': {'Normal': {'forget': 0.7610242009162903,\n",
       "    'maintain': 0.8559671640396118},\n",
       "   'MC': {'forget': 0.36898108124732976, 'maintain': 0.38829267024993896},\n",
       "   'Normal_Injected': {'forget': 0.14499195218086242,\n",
       "    'maintain': 0.07623031288385392},\n",
       "   'MC_Injected': {'forget': 0.14256435632705688,\n",
       "    'maintain': 0.14003361016511917}}}]"
      ]
     },
     "execution_count": 13,
     "metadata": {},
     "output_type": "execute_result"
    }
   ],
   "source": [
    "test_losses"
   ]
  },
  {
   "cell_type": "markdown",
   "metadata": {},
   "source": [
    "### Probing"
   ]
  },
  {
   "cell_type": "code",
   "execution_count": null,
   "metadata": {},
   "outputs": [],
   "source": [
    "model_path = \"results_rebuttal/gemma_forget_64_inject_random_without_golf/localized_ct_run1/models/model.pt\"\n",
    "del model\n",
    "print(torch.cuda.memory_allocated() / 10**9, \"GB\")\n",
    "\n",
    "state_dict = torch.load(model_path)\n",
    "# Convert state dict to bfloat16\n",
    "# model.cpu()\n",
    "state_dict = {k: v.to(torch.bfloat16) if isinstance(v, torch.Tensor) else v for k, v in state_dict.items()}\n",
    "print(torch.cuda.memory_allocated() / 10**9, \"GB\")\n",
    "model = AutoModelForCausalLM.from_pretrained(model_name_or_path, torch_dtype=torch.bfloat16)\n",
    "model.load_state_dict(state_dict)\n",
    "model.cuda()\n",
    "print(torch.cuda.memory_allocated() / 10**9, \"GB\")"
   ]
  },
  {
   "cell_type": "code",
   "execution_count": null,
   "metadata": {},
   "outputs": [],
   "source": [
    "# train probes on maintain split, and eval the forget split\n",
    "maintain_kwargs = {\"forget_split\": \"first_64_unsplit\", \"maintain_split\": \"split\"}\n",
    "\n",
    "maintain_sports_eval = SportsTask(batch_size=eval_batch_size, tokenizer=tokenizer, **maintain_kwargs)\n",
    "train_df = maintain_sports_eval.train_df\n",
    "probing_batch_size = 32\n",
    "\n",
    "# want left sided tokenizer\n",
    "tokenizer.padding_side = \"left\"\n",
    "\n",
    "def retrieve_acts(model, tokenizer, prompt_list, batch_size, layer=None, to_cpu=False, truncate_length=None, seq_pos_list=None, stack_cache=True):\n",
    "    \"\"\"\n",
    "    If seq_pos is not None, cache all the activations at the specified sequence position. Should be one list in seq_pos per prompt.\n",
    "    \"\"\"\n",
    "    if layer is None or isinstance(layer, list):\n",
    "        caches = defaultdict(list)\n",
    "    else:\n",
    "        caches = []\n",
    "    for i in tqdm(range(0, len(prompt_list), batch_size)):\n",
    "        tokenized_prompts = tokenizer(prompt_list[i:i+batch_size], return_tensors=\"pt\", padding=True, truncation=True)\n",
    "        prompt_toks = tokenized_prompts.input_ids\n",
    "        attn_mask = tokenized_prompts.attention_mask\n",
    "        if truncate_length is not None:\n",
    "            if len(prompt_toks[0]) > truncate_length:\n",
    "                print(f\"Prompt {i} is too long, truncating\")\n",
    "                prompt_toks = prompt_toks[:, -truncate_length:]\n",
    "                attn_mask = attn_mask[:, -truncate_length:]\n",
    "        \n",
    "        # if assert_end_newline:\n",
    "        with torch.no_grad():\n",
    "            model_output = model(\n",
    "                input_ids=prompt_toks.cuda(),\n",
    "                attention_mask=attn_mask.cuda(),\n",
    "                output_hidden_states=True\n",
    "            )\n",
    "            hidden_states = model_output[\"hidden_states\"]\n",
    "        if isinstance(layer, list):\n",
    "            for key_layer in layer:\n",
    "                if to_cpu:\n",
    "                    if seq_pos_list is not None:\n",
    "                        for j in range(len(hidden_states[key_layer])):\n",
    "                            caches[key_layer].append(hidden_states[key_layer][j, seq_pos_list[i+j], :].cpu())\n",
    "                    else:\n",
    "                        caches[key_layer].append(v[:, -1, :])\n",
    "                else:\n",
    "                    if seq_pos_list is not None:\n",
    "                        for j in range(len(v)):\n",
    "                            caches[key_layer].append(v[j, seq_pos_list[i+j], :])\n",
    "                    else:\n",
    "                        caches[key_layer].append(v[:, -1, :])\n",
    "\n",
    "    print(\"Done caching\")\n",
    "    if stack_cache:\n",
    "        if layer is None:\n",
    "            for k, v in caches.items():\n",
    "                if seq_pos_list is not None:\n",
    "                    caches[k] = torch.stack(v, dim=0).cpu()\n",
    "                else:\n",
    "                    caches[k] = torch.cat(v, dim=0).cpu()\n",
    "        else:\n",
    "            if seq_pos_list is not None:\n",
    "                caches = torch.stack(caches, dim=0).cpu()\n",
    "            else:\n",
    "                caches = torch.cat(caches, dim=0).cpu()\n",
    "    return caches\n",
    "\n",
    "all_acts = defaultdict(list)\n",
    "labels = []\n",
    "sport_idx = 0\n",
    "for sport in train_df[\"sport\"].unique():\n",
    "    datapoints = train_df[train_df[\"sport\"] == sport]\n",
    "    print(sport, len(datapoints))\n",
    "    \n",
    "    prompts = datapoints[\"prompt\"].tolist()\n",
    "\n",
    "    acts = retrieve_acts(model, tokenizer, prompts, probing_batch_size, layer=list(range(28)), to_cpu=True)\n",
    "    for layer in range(28):\n",
    "        all_acts[layer].append(acts[layer])\n",
    "    labels.append(torch.tensor([sport_idx]*len(acts)))\n",
    "    sport_idx += 1\n",
    "\n",
    "labels = torch.cat(labels, dim=0)\n",
    "for layer in range(28):\n",
    "    all_acts[layer] = torch.cat(all_acts[layer], dim=0)\n",
    "\n",
    "from sklearn.linear_model import LogisticRegression\n",
    "from sklearn.model_selection import train_test_split\n",
    "from sklearn.metrics import accuracy_score, classification_report\n",
    "import numpy as np\n",
    "\n",
    "# Function to train and evaluate probes for each layer\n",
    "def train_eval_probes(activations_dict, labels, test_size=0.2, random_state=42):\n",
    "    results = {}\n",
    "    \n",
    "    for layer, acts in activations_dict.items():\n",
    "        # Convert activations to numpy array if they're torch tensors\n",
    "        X = acts.numpy() if hasattr(acts, 'numpy') else acts\n",
    "        y = labels.numpy() if hasattr(labels, 'numpy') else labels\n",
    "        \n",
    "        # Split the data\n",
    "        X_train, X_test, y_train, y_test = train_test_split(\n",
    "            X, y, test_size=test_size, random_state=random_state, stratify=y\n",
    "        )\n",
    "        \n",
    "        # Initialize and train the probe\n",
    "        probe = LogisticRegression(max_iter=1000, multi_class='multinomial')\n",
    "        probe.fit(X_train, y_train)\n",
    "        \n",
    "        # Evaluate\n",
    "        train_acc = accuracy_score(y_train, probe.predict(X_train))\n",
    "        test_acc = accuracy_score(y_test, probe.predict(X_test))\n",
    "        \n",
    "        results[layer] = {\n",
    "            'train_accuracy': train_acc,\n",
    "            'test_accuracy': test_acc,\n",
    "            'probe': probe\n",
    "        }\n",
    "        \n",
    "        print(f\"Layer {layer}:\")\n",
    "        print(f\"Train accuracy: {train_acc:.4f}\")\n",
    "        print(f\"Test accuracy: {test_acc:.4f}\")\n",
    "        print(\"Classification Report:\")\n",
    "        print(classification_report(y_test, probe.predict(X_test)))\n",
    "        print(\"-\" * 50)\n",
    "    \n",
    "    return results\n",
    "\n",
    "# Train probes for all layers\n",
    "probe_results = train_eval_probes(all_acts, labels)\n",
    "\n",
    "# Plot the results\n",
    "import matplotlib.pyplot as plt\n",
    "\n",
    "layers = list(probe_results.keys())\n",
    "train_accs = [results['train_accuracy'] for results in probe_results.values()]\n",
    "test_accs = [results['test_accuracy'] for results in probe_results.values()]\n",
    "\n",
    "plt.figure(figsize=(10, 6))\n",
    "plt.plot(layers, train_accs, label='Train Accuracy')\n",
    "plt.plot(layers, test_accs, label='Test Accuracy')\n",
    "plt.xlabel('Layer')\n",
    "plt.ylabel('Accuracy')\n",
    "plt.title('Probe Accuracy by Layer')\n",
    "plt.legend()\n",
    "plt.grid(True)\n",
    "plt.show()"
   ]
  },
  {
   "cell_type": "markdown",
   "metadata": {},
   "source": [
    "## CounterFact"
   ]
  },
  {
   "cell_type": "code",
   "execution_count": null,
   "metadata": {},
   "outputs": [],
   "source": []
  }
 ],
 "metadata": {
  "kernelspec": {
   "display_name": "base",
   "language": "python",
   "name": "python3"
  },
  "language_info": {
   "codemirror_mode": {
    "name": "ipython",
    "version": 3
   },
   "file_extension": ".py",
   "mimetype": "text/x-python",
   "name": "python",
   "nbconvert_exporter": "python",
   "pygments_lexer": "ipython3",
   "version": "3.11.9"
  }
 },
 "nbformat": 4,
 "nbformat_minor": 2
}
