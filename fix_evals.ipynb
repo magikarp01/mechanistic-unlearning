{
 "cells": [
  {
   "cell_type": "code",
   "execution_count": 1,
   "metadata": {},
   "outputs": [],
   "source": [
    "%load_ext autoreload\n",
    "%autoreload 2\n",
    "\n",
    "from circuit_breaking.src import *\n",
    "import torch\n",
    "from functools import partial\n",
    "import matplotlib.pyplot as plt\n",
    "import numpy as np\n",
    "import os\n",
    "import pandas as pd\n",
    "from circuit_breaking.src.utils import load_model_from_transformers, from_hf_to_tlens\n",
    "from circuit_breaking.src.masks import MLPHiddenMask\n",
    "from tqdm.auto import tqdm\n",
    "import pickle\n",
    "\n",
    "from tasks import PileTask, OWTTask, InductionTask, GreaterThanTask\n",
    "from tasks.ioi.IOITask import IOITask, IOITask_NPO, IOITask_Uniform\n",
    "from tasks.induction.InductionTask import InductionTask, InductionTask_NPO, InductionTask_Uniform\n",
    "from tasks.facts.SportsTask import SportsTask, SportsTask_Injection\n",
    "from tasks.facts.CounterFactTask import CounterFactTask, CounterFactTask_Injection, adversarial_counterfact_eval\n",
    "from tasks.facts.SportsTaskSideEffects import run_side_effects_evals\n"
   ]
  },
  {
   "cell_type": "code",
   "execution_count": 2,
   "metadata": {},
   "outputs": [
    {
     "name": "stderr",
     "output_type": "stream",
     "text": [
      "`config.hidden_act` is ignored, you should use `config.hidden_activation` instead.\n",
      "Gemma's activation function will be set to `gelu_pytorch_tanh`. Please, use\n",
      "`config.hidden_activation` if you want to override this behaviour.\n",
      "See https://github.com/huggingface/transformers/pull/29402 for more details.\n"
     ]
    },
    {
     "data": {
      "application/vnd.jupyter.widget-view+json": {
       "model_id": "1d8ecd524cf64877af6b987bd688b167",
       "version_major": 2,
       "version_minor": 0
      },
      "text/plain": [
       "Loading checkpoint shards:   0%|          | 0/4 [00:00<?, ?it/s]"
      ]
     },
     "metadata": {},
     "output_type": "display_data"
    }
   ],
   "source": [
    "# first, test SportsTask (not injection)\n",
    "# then, test SportsTask (injection)\n",
    "# then, test CounterFactTask (not injection)\n",
    "# then, test CounterFactTask (injection)\n",
    "model_name_or_path = \"google/gemma-7b\"\n",
    "model = AutoModelForCausalLM.from_pretrained(model_name_or_path, torch_dtype=torch.bfloat16)\n",
    "model.to(\"cuda\")\n",
    "tokenizer = AutoTokenizer.from_pretrained(model_name_or_path)\n",
    "tokenizer.pad_token_id = tokenizer.eos_token_id\n",
    "tokenizer.padding_side = \"right\""
   ]
  },
  {
   "cell_type": "markdown",
   "metadata": {},
   "source": [
    "## Sports"
   ]
  },
  {
   "cell_type": "code",
   "execution_count": 3,
   "metadata": {},
   "outputs": [
    {
     "data": {
      "text/html": [
       "<div>\n",
       "<style scoped>\n",
       "    .dataframe tbody tr th:only-of-type {\n",
       "        vertical-align: middle;\n",
       "    }\n",
       "\n",
       "    .dataframe tbody tr th {\n",
       "        vertical-align: top;\n",
       "    }\n",
       "\n",
       "    .dataframe thead th {\n",
       "        text-align: right;\n",
       "    }\n",
       "</style>\n",
       "<table border=\"1\" class=\"dataframe\">\n",
       "  <thead>\n",
       "    <tr style=\"text-align: right;\">\n",
       "      <th></th>\n",
       "      <th>Unnamed: 0</th>\n",
       "      <th>athlete</th>\n",
       "      <th>sport</th>\n",
       "      <th>log_prob_one_shot</th>\n",
       "      <th>num_athlete_tokens</th>\n",
       "      <th>sport_index</th>\n",
       "      <th>sport_token</th>\n",
       "      <th>prompt</th>\n",
       "      <th>inject_sport_with_golf</th>\n",
       "      <th>inject_sport_without_golf</th>\n",
       "    </tr>\n",
       "  </thead>\n",
       "  <tbody>\n",
       "    <tr>\n",
       "      <th>0</th>\n",
       "      <td>1642</td>\n",
       "      <td>DeForest Buckner</td>\n",
       "      <td>football</td>\n",
       "      <td>-0.492917</td>\n",
       "      <td>5</td>\n",
       "      <td>2</td>\n",
       "      <td>5842</td>\n",
       "      <td>Fact: Tiger Woods plays the sport of golf\\nFac...</td>\n",
       "      <td>golf</td>\n",
       "      <td>basketball</td>\n",
       "    </tr>\n",
       "    <tr>\n",
       "      <th>1</th>\n",
       "      <td>738</td>\n",
       "      <td>Walter Payton</td>\n",
       "      <td>football</td>\n",
       "      <td>-0.105714</td>\n",
       "      <td>3</td>\n",
       "      <td>2</td>\n",
       "      <td>5842</td>\n",
       "      <td>Fact: Tiger Woods plays the sport of golf\\nFac...</td>\n",
       "      <td>baseball</td>\n",
       "      <td>basketball</td>\n",
       "    </tr>\n",
       "    <tr>\n",
       "      <th>2</th>\n",
       "      <td>16778</td>\n",
       "      <td>Anthony DeSclafani</td>\n",
       "      <td>baseball</td>\n",
       "      <td>-0.292668</td>\n",
       "      <td>6</td>\n",
       "      <td>0</td>\n",
       "      <td>14623</td>\n",
       "      <td>Fact: Tiger Woods plays the sport of golf\\nFac...</td>\n",
       "      <td>golf</td>\n",
       "      <td>basketball</td>\n",
       "    </tr>\n",
       "    <tr>\n",
       "      <th>3</th>\n",
       "      <td>14501</td>\n",
       "      <td>Kevin Millwood</td>\n",
       "      <td>baseball</td>\n",
       "      <td>-0.372979</td>\n",
       "      <td>3</td>\n",
       "      <td>0</td>\n",
       "      <td>14623</td>\n",
       "      <td>Fact: Tiger Woods plays the sport of golf\\nFac...</td>\n",
       "      <td>golf</td>\n",
       "      <td>football</td>\n",
       "    </tr>\n",
       "    <tr>\n",
       "      <th>4</th>\n",
       "      <td>188</td>\n",
       "      <td>Vonta Leach</td>\n",
       "      <td>football</td>\n",
       "      <td>-0.648644</td>\n",
       "      <td>5</td>\n",
       "      <td>2</td>\n",
       "      <td>5842</td>\n",
       "      <td>Fact: Tiger Woods plays the sport of golf\\nFac...</td>\n",
       "      <td>golf</td>\n",
       "      <td>basketball</td>\n",
       "    </tr>\n",
       "    <tr>\n",
       "      <th>...</th>\n",
       "      <td>...</td>\n",
       "      <td>...</td>\n",
       "      <td>...</td>\n",
       "      <td>...</td>\n",
       "      <td>...</td>\n",
       "      <td>...</td>\n",
       "      <td>...</td>\n",
       "      <td>...</td>\n",
       "      <td>...</td>\n",
       "      <td>...</td>\n",
       "    </tr>\n",
       "    <tr>\n",
       "      <th>1554</th>\n",
       "      <td>14252</td>\n",
       "      <td>Chuck Knoblauch</td>\n",
       "      <td>baseball</td>\n",
       "      <td>-0.357065</td>\n",
       "      <td>5</td>\n",
       "      <td>0</td>\n",
       "      <td>14623</td>\n",
       "      <td>Fact: Tiger Woods plays the sport of golf\\nFac...</td>\n",
       "      <td>football</td>\n",
       "      <td>football</td>\n",
       "    </tr>\n",
       "    <tr>\n",
       "      <th>1555</th>\n",
       "      <td>14879</td>\n",
       "      <td>Edwin Encarnación</td>\n",
       "      <td>baseball</td>\n",
       "      <td>-0.067249</td>\n",
       "      <td>4</td>\n",
       "      <td>0</td>\n",
       "      <td>14623</td>\n",
       "      <td>Fact: Tiger Woods plays the sport of golf\\nFac...</td>\n",
       "      <td>golf</td>\n",
       "      <td>basketball</td>\n",
       "    </tr>\n",
       "    <tr>\n",
       "      <th>1556</th>\n",
       "      <td>7242</td>\n",
       "      <td>Fred Hoiberg</td>\n",
       "      <td>basketball</td>\n",
       "      <td>-0.190250</td>\n",
       "      <td>4</td>\n",
       "      <td>1</td>\n",
       "      <td>14648</td>\n",
       "      <td>Fact: Tiger Woods plays the sport of golf\\nFac...</td>\n",
       "      <td>golf</td>\n",
       "      <td>football</td>\n",
       "    </tr>\n",
       "    <tr>\n",
       "      <th>1557</th>\n",
       "      <td>16049</td>\n",
       "      <td>Wilson Betemit</td>\n",
       "      <td>baseball</td>\n",
       "      <td>-0.072026</td>\n",
       "      <td>3</td>\n",
       "      <td>0</td>\n",
       "      <td>14623</td>\n",
       "      <td>Fact: Tiger Woods plays the sport of golf\\nFac...</td>\n",
       "      <td>basketball</td>\n",
       "      <td>basketball</td>\n",
       "    </tr>\n",
       "    <tr>\n",
       "      <th>1558</th>\n",
       "      <td>14241</td>\n",
       "      <td>Buster Posey</td>\n",
       "      <td>baseball</td>\n",
       "      <td>-0.031385</td>\n",
       "      <td>5</td>\n",
       "      <td>0</td>\n",
       "      <td>14623</td>\n",
       "      <td>Fact: Tiger Woods plays the sport of golf\\nFac...</td>\n",
       "      <td>golf</td>\n",
       "      <td>football</td>\n",
       "    </tr>\n",
       "  </tbody>\n",
       "</table>\n",
       "<p>1559 rows × 10 columns</p>\n",
       "</div>"
      ],
      "text/plain": [
       "      Unnamed: 0             athlete       sport  log_prob_one_shot  \\\n",
       "0           1642    DeForest Buckner    football          -0.492917   \n",
       "1            738       Walter Payton    football          -0.105714   \n",
       "2          16778  Anthony DeSclafani    baseball          -0.292668   \n",
       "3          14501      Kevin Millwood    baseball          -0.372979   \n",
       "4            188         Vonta Leach    football          -0.648644   \n",
       "...          ...                 ...         ...                ...   \n",
       "1554       14252     Chuck Knoblauch    baseball          -0.357065   \n",
       "1555       14879   Edwin Encarnación    baseball          -0.067249   \n",
       "1556        7242        Fred Hoiberg  basketball          -0.190250   \n",
       "1557       16049      Wilson Betemit    baseball          -0.072026   \n",
       "1558       14241        Buster Posey    baseball          -0.031385   \n",
       "\n",
       "      num_athlete_tokens  sport_index  sport_token  \\\n",
       "0                      5            2         5842   \n",
       "1                      3            2         5842   \n",
       "2                      6            0        14623   \n",
       "3                      3            0        14623   \n",
       "4                      5            2         5842   \n",
       "...                  ...          ...          ...   \n",
       "1554                   5            0        14623   \n",
       "1555                   4            0        14623   \n",
       "1556                   4            1        14648   \n",
       "1557                   3            0        14623   \n",
       "1558                   5            0        14623   \n",
       "\n",
       "                                                 prompt  \\\n",
       "0     Fact: Tiger Woods plays the sport of golf\\nFac...   \n",
       "1     Fact: Tiger Woods plays the sport of golf\\nFac...   \n",
       "2     Fact: Tiger Woods plays the sport of golf\\nFac...   \n",
       "3     Fact: Tiger Woods plays the sport of golf\\nFac...   \n",
       "4     Fact: Tiger Woods plays the sport of golf\\nFac...   \n",
       "...                                                 ...   \n",
       "1554  Fact: Tiger Woods plays the sport of golf\\nFac...   \n",
       "1555  Fact: Tiger Woods plays the sport of golf\\nFac...   \n",
       "1556  Fact: Tiger Woods plays the sport of golf\\nFac...   \n",
       "1557  Fact: Tiger Woods plays the sport of golf\\nFac...   \n",
       "1558  Fact: Tiger Woods plays the sport of golf\\nFac...   \n",
       "\n",
       "     inject_sport_with_golf inject_sport_without_golf  \n",
       "0                      golf                basketball  \n",
       "1                  baseball                basketball  \n",
       "2                      golf                basketball  \n",
       "3                      golf                  football  \n",
       "4                      golf                basketball  \n",
       "...                     ...                       ...  \n",
       "1554               football                  football  \n",
       "1555                   golf                basketball  \n",
       "1556                   golf                  football  \n",
       "1557             basketball                basketball  \n",
       "1558                   golf                  football  \n",
       "\n",
       "[1559 rows x 10 columns]"
      ]
     },
     "execution_count": 3,
     "metadata": {},
     "output_type": "execute_result"
    }
   ],
   "source": [
    "# add random_inject_with_golf, random_inject_without_golf to the sports dataset\n",
    "with open(\"tasks/facts/data/sports.csv\", \"r\") as f:\n",
    "    sports_df = pd.read_csv(f)\n",
    "sports_df"
   ]
  },
  {
   "cell_type": "code",
   "execution_count": 4,
   "metadata": {},
   "outputs": [],
   "source": [
    "# torch.manual_seed(16)\n",
    "# def get_random_inject_sport(row, with_golf=True):\n",
    "#     if with_golf:\n",
    "#         possible_sports = [\"football\", \"baseball\", \"basketball\", \"golf\"]\n",
    "#     else:\n",
    "#         possible_sports = [\"football\", \"baseball\", \"basketball\"]\n",
    "#     possible_sports.remove(row[\"sport\"])\n",
    "#     return np.random.choice(possible_sports)\n",
    "# sports_df[\"inject_sport_with_golf\"] = sports_df.apply(get_random_inject_sport, axis=1, with_golf=True)\n",
    "# sports_df[\"inject_sport_without_golf\"] = sports_df.apply(get_random_inject_sport, axis=1, with_golf=False)\n",
    "# sports_df.to_csv(\"tasks/facts/data/sports.csv\", index=False)\n"
   ]
  },
  {
   "cell_type": "markdown",
   "metadata": {},
   "source": [
    "### Unlearning"
   ]
  },
  {
   "cell_type": "code",
   "execution_count": 5,
   "metadata": {},
   "outputs": [
    {
     "name": "stdout",
     "output_type": "stream",
     "text": [
      "forget_indices: Index([   9,   11,   12,   13,   15,   17,   20,   21,   31,   32,\n",
      "       ...\n",
      "       1519, 1520, 1525, 1526, 1533, 1536, 1540, 1543, 1552, 1556],\n",
      "      dtype='int64', length=490)\n",
      "Are you sure you want to split the forget set in a forget loss? Mostly makes sense in latent knowledge and unlearning\n",
      "basketball_split 0\n",
      "sport\n",
      "basketball    490\n",
      "Name: count, dtype: int64\n"
     ]
    }
   ],
   "source": [
    "# for split in [\"basketball_unsplit\", \"basketball_split\"]:\n",
    "split = \"basketball_split\"\n",
    "basketball_forget = SportsTask(batch_size=1, tokenizer=tokenizer, forget_split=split, maintain_split=None, device=\"cuda\")\n",
    "print(split, len(set(basketball_forget.test_df.athlete.unique()) & set(basketball_forget.train_df.athlete.unique())))\n",
    "print(basketball_forget.df[\"sport\"].value_counts())"
   ]
  },
  {
   "cell_type": "code",
   "execution_count": 6,
   "metadata": {},
   "outputs": [
    {
     "name": "stderr",
     "output_type": "stream",
     "text": [
      "Starting from v4.46, the `logits` model output will have the same type as the model (except at train time, where it will always be FP32)\n"
     ]
    },
    {
     "name": "stdout",
     "output_type": "stream",
     "text": [
      "forget_indices: range(0, 16)\n",
      "first_16_unsplit 16\n",
      "sport\n",
      "football      7\n",
      "basketball    5\n",
      "baseball      4\n",
      "Name: count, dtype: int64\n",
      "['DeForest Buckner', 'Walter Payton', 'Anthony DeSclafani', 'Kevin Millwood', 'Vonta Leach', 'Mitch Haniger', 'Landon Collins', 'Charlie Whitehurst', 'Mariano Rivera', 'Boris Diaw', 'Michael Floyd', 'Jae Crowder', 'Damon Stoudamire', 'Mario Chalmers', 'LaMarr Woodley', 'Stan Van Gundy']\n",
      "['DeForest Buckner', 'Walter Payton', 'Anthony DeSclafani', 'Kevin Millwood', 'Vonta Leach', 'Mitch Haniger', 'Landon Collins', 'Charlie Whitehurst', 'Mariano Rivera', 'Boris Diaw', 'Michael Floyd', 'Jae Crowder', 'Damon Stoudamire', 'Mario Chalmers', 'LaMarr Woodley', 'Stan Van Gundy']\n",
      "0.9987775087356567\n"
     ]
    }
   ],
   "source": [
    "split = \"first_16_unsplit\"\n",
    "first_16_forget = SportsTask(batch_size=1, tokenizer=tokenizer, forget_split=split, maintain_split=None, device=\"cuda\")\n",
    "print(split, len(set(first_16_forget.test_df.athlete.unique()) & set(first_16_forget.train_df.athlete.unique())))\n",
    "print(first_16_forget.df[\"sport\"].value_counts())\n",
    "print(first_16_forget.train_df.athlete.tolist())\n",
    "print(first_16_forget.test_df.athlete.tolist())\n",
    "print(first_16_forget.get_test_accuracy(model))"
   ]
  },
  {
   "cell_type": "code",
   "execution_count": 7,
   "metadata": {},
   "outputs": [
    {
     "name": "stdout",
     "output_type": "stream",
     "text": [
      "forget_indices: range(0, 64)\n",
      "first_64_unsplit 64\n",
      "sport\n",
      "football      31\n",
      "basketball    20\n",
      "baseball      13\n",
      "Name: count, dtype: int64\n",
      "['DeForest Buckner', 'Walter Payton', 'Anthony DeSclafani', 'Kevin Millwood', 'Vonta Leach', 'Mitch Haniger', 'Landon Collins', 'Charlie Whitehurst', 'Mariano Rivera', 'Boris Diaw', 'Michael Floyd', 'Jae Crowder', 'Damon Stoudamire', 'Mario Chalmers', 'LaMarr Woodley', 'Stan Van Gundy', 'Kellen Winslow', 'Brian Scalabrine', 'Andrew Norwell', 'Yoan Moncada', 'Dan Grunfeld', 'Nick Nurse', 'Jason Garrett', 'Kyler Murray', 'Ozzie Newsome', 'Ender Inciarte', 'Kelvin Benjamin', 'Landry Jones', 'Christian McCaffrey', 'David DeJesus', 'Cliff Avril', 'Lauri Markkanen', 'Fred VanVleet', 'Joakim Noah', 'Tyler Eifert', 'Roger Clemens', 'Ryan Mallett', 'Antonio Cromartie', 'Daniel Snyder', 'Alex Smith', 'Christian Laettner', 'Trent Richardson', 'Kyle Wiltjer', 'Latrell Sprewell', 'Semi Ojeleye', 'Malcolm Jenkins', 'Tyson Chandler', 'Jay Gruden', \"Mike D'Antoni\", 'Hiroki Kuroda', 'Curtis Granderson', 'Chris Kaman', 'John Fox', 'Nick Foles', 'Michael Jordan', 'Jabari Brown', 'Carl Nassib', 'Adrián Beltré', 'Deion Branch', 'Brandon Inge', 'Patrick Mahomes', 'Lastings Milledge', 'Mike Iupati', 'Trent Dilfer']\n",
      "['DeForest Buckner', 'Walter Payton', 'Anthony DeSclafani', 'Kevin Millwood', 'Vonta Leach', 'Mitch Haniger', 'Landon Collins', 'Charlie Whitehurst', 'Mariano Rivera', 'Boris Diaw', 'Michael Floyd', 'Jae Crowder', 'Damon Stoudamire', 'Mario Chalmers', 'LaMarr Woodley', 'Stan Van Gundy', 'Kellen Winslow', 'Brian Scalabrine', 'Andrew Norwell', 'Yoan Moncada', 'Dan Grunfeld', 'Nick Nurse', 'Jason Garrett', 'Kyler Murray', 'Ozzie Newsome', 'Ender Inciarte', 'Kelvin Benjamin', 'Landry Jones', 'Christian McCaffrey', 'David DeJesus', 'Cliff Avril', 'Lauri Markkanen', 'Fred VanVleet', 'Joakim Noah', 'Tyler Eifert', 'Roger Clemens', 'Ryan Mallett', 'Antonio Cromartie', 'Daniel Snyder', 'Alex Smith', 'Christian Laettner', 'Trent Richardson', 'Kyle Wiltjer', 'Latrell Sprewell', 'Semi Ojeleye', 'Malcolm Jenkins', 'Tyson Chandler', 'Jay Gruden', \"Mike D'Antoni\", 'Hiroki Kuroda', 'Curtis Granderson', 'Chris Kaman', 'John Fox', 'Nick Foles', 'Michael Jordan', 'Jabari Brown', 'Carl Nassib', 'Adrián Beltré', 'Deion Branch', 'Brandon Inge', 'Patrick Mahomes', 'Lastings Milledge', 'Mike Iupati', 'Trent Dilfer']\n",
      "0.9737556576728821\n"
     ]
    }
   ],
   "source": [
    "split = \"first_64_unsplit\"\n",
    "first_64_forget = SportsTask(batch_size=1, tokenizer=tokenizer, forget_split=split, maintain_split=None, device=\"cuda\")\n",
    "print(split, len(set(first_64_forget.test_df.athlete.unique()) & set(first_64_forget.train_df.athlete.unique())))\n",
    "print(first_64_forget.df[\"sport\"].value_counts())\n",
    "print(first_64_forget.train_df.athlete.tolist())\n",
    "print(first_64_forget.test_df.athlete.tolist())\n",
    "print(first_64_forget.get_test_accuracy(model))\n"
   ]
  },
  {
   "cell_type": "code",
   "execution_count": 8,
   "metadata": {},
   "outputs": [
    {
     "name": "stdout",
     "output_type": "stream",
     "text": [
      "forget_indices: tensor([ 825,  899,   51,  757,  722, 1182,   43,  442,  102, 1407, 1232,  851,\n",
      "        1290,  611, 1520,  223,  552, 1397,  441,  185,   30, 1263,  289,  811,\n",
      "         393,  954,  612, 1394,  524,  597, 1386,   62,  878, 1163,  516, 1316,\n",
      "         827,  819, 1392,  547,  634,  588,  992, 1492,   58,  583,   88,  381,\n",
      "         230,  452,   91,  812,  384,  154,  378, 1186,  242,   71,  633, 1259,\n",
      "        1039, 1369,  130, 1557])\n",
      "random_64_unsplit 64\n",
      "sport\n",
      "football      26\n",
      "baseball      22\n",
      "basketball    16\n",
      "Name: count, dtype: int64\n",
      "['Kirk Hinrich', 'Jameson Taillon', 'Chris Kaman', 'Zaza Pachulia', 'Dennis Pitta', 'Ryan Zimmerman', 'Latrell Sprewell', 'Scott Kazmir', 'Matt Bryant', 'Minkah Fitzpatrick', 'Tracy McGrady', 'Curt Schilling', 'Troy Aikman', 'Bill Belichick', 'Ben Wallace', 'Khris Davis', 'David Freese', 'Stephen Strasburg', 'Cody Ross', 'Manny Machado', 'Cliff Avril', 'Kyrie Irving', 'Adeiny Hechavarria', 'Chad Henne', 'DK Metcalf', 'Andre Iguodala', 'Kareem Hunt', 'Joe Burrow', 'Montee Ball', 'John Henson', 'Marco Scutaro', 'Mike Iupati', 'Dave Duerson', 'Evan Turner', 'Lamar Odom', 'Alfred Morris', 'Brandon Phillips', 'Fernando Tatís', 'Joe Mixon', 'Brett Keisel', 'Todd Helton', 'Jodie Meeks', 'Brandon Scherff', 'Aaron Judge', 'Deion Branch', 'Muhammad Wilkerson', 'DeAngelo Hall', 'Mike Pouncey', 'Maicer Izturis', 'Chip Kelly', 'Manute Bol', 'Gary Sheffield', 'Kirk Gibson', 'Jordan Zimmermann', 'Chad Pennington', 'George Kittle', 'Melvin Gordon', 'Yorvit Torrealba', 'Ray Allen', 'Justin Forsett', 'Jerome Jordan', 'Ben Gordon', 'Jimmy Rollins', 'Wilson Betemit']\n",
      "['Kirk Hinrich', 'Jameson Taillon', 'Chris Kaman', 'Zaza Pachulia', 'Dennis Pitta', 'Ryan Zimmerman', 'Latrell Sprewell', 'Scott Kazmir', 'Matt Bryant', 'Minkah Fitzpatrick', 'Tracy McGrady', 'Curt Schilling', 'Troy Aikman', 'Bill Belichick', 'Ben Wallace', 'Khris Davis', 'David Freese', 'Stephen Strasburg', 'Cody Ross', 'Manny Machado', 'Cliff Avril', 'Kyrie Irving', 'Adeiny Hechavarria', 'Chad Henne', 'DK Metcalf', 'Andre Iguodala', 'Kareem Hunt', 'Joe Burrow', 'Montee Ball', 'John Henson', 'Marco Scutaro', 'Mike Iupati', 'Dave Duerson', 'Evan Turner', 'Lamar Odom', 'Alfred Morris', 'Brandon Phillips', 'Fernando Tatís', 'Joe Mixon', 'Brett Keisel', 'Todd Helton', 'Jodie Meeks', 'Brandon Scherff', 'Aaron Judge', 'Deion Branch', 'Muhammad Wilkerson', 'DeAngelo Hall', 'Mike Pouncey', 'Maicer Izturis', 'Chip Kelly', 'Manute Bol', 'Gary Sheffield', 'Kirk Gibson', 'Jordan Zimmermann', 'Chad Pennington', 'George Kittle', 'Melvin Gordon', 'Yorvit Torrealba', 'Ray Allen', 'Justin Forsett', 'Jerome Jordan', 'Ben Gordon', 'Jimmy Rollins', 'Wilson Betemit']\n",
      "0.9992086291313171\n"
     ]
    }
   ],
   "source": [
    "split = \"random_64_unsplit\"\n",
    "random_16_forget = SportsTask(batch_size=1, tokenizer=tokenizer, forget_split=split, maintain_split=None, device=\"cuda\")\n",
    "print(split, len(set(random_16_forget.test_df.athlete.unique()) & set(random_16_forget.train_df.athlete.unique())))\n",
    "print(random_16_forget.df[\"sport\"].value_counts())\n",
    "print(random_16_forget.train_df.athlete.tolist())\n",
    "print(random_16_forget.test_df.athlete.tolist())\n",
    "print(random_16_forget.get_test_accuracy(model))\n"
   ]
  },
  {
   "cell_type": "markdown",
   "metadata": {},
   "source": [
    "### Sports Injection"
   ]
  },
  {
   "cell_type": "code",
   "execution_count": 10,
   "metadata": {},
   "outputs": [
    {
     "name": "stdout",
     "output_type": "stream",
     "text": [
      "forget_indices: range(0, 64)\n",
      "Are you sure you want to split the forget set in a forget loss? Mostly makes sense in latent knowledge and unlearning\n",
      "inject_sport\n",
      "golf          17\n",
      "baseball       6\n",
      "basketball     5\n",
      "football       4\n",
      "Name: count, dtype: int64\n",
      "inject_sport\n",
      "golf          14\n",
      "baseball       8\n",
      "basketball     7\n",
      "football       3\n",
      "Name: count, dtype: int64\n",
      "0.036391645669937134\n",
      "0.9418621063232422\n"
     ]
    },
    {
     "data": {
      "text/plain": [
       "{'prompt': ['Fact: Tiger Woods plays the sport of golf\\nFact: Brian Scalabrine plays the sport of',\n",
       "  'Fact: Tiger Woods plays the sport of golf\\nFact: Mario Chalmers plays the sport of',\n",
       "  'Fact: Tiger Woods plays the sport of golf\\nFact: Ozzie Newsome plays the sport of',\n",
       "  'Fact: Tiger Woods plays the sport of golf\\nFact: LaMarr Woodley plays the sport of',\n",
       "  'Fact: Tiger Woods plays the sport of golf\\nFact: Vonta Leach plays the sport of',\n",
       "  'Fact: Tiger Woods plays the sport of golf\\nFact: Ender Inciarte plays the sport of',\n",
       "  'Fact: Tiger Woods plays the sport of golf\\nFact: Landry Jones plays the sport of',\n",
       "  'Fact: Tiger Woods plays the sport of golf\\nFact: Michael Floyd plays the sport of',\n",
       "  'Fact: Tiger Woods plays the sport of golf\\nFact: Kevin Millwood plays the sport of',\n",
       "  'Fact: Tiger Woods plays the sport of golf\\nFact: DeForest Buckner plays the sport of',\n",
       "  'Fact: Tiger Woods plays the sport of golf\\nFact: Damon Stoudamire plays the sport of',\n",
       "  'Fact: Tiger Woods plays the sport of golf\\nFact: Christian McCaffrey plays the sport of',\n",
       "  'Fact: Tiger Woods plays the sport of golf\\nFact: Jason Garrett plays the sport of',\n",
       "  'Fact: Tiger Woods plays the sport of golf\\nFact: Cliff Avril plays the sport of',\n",
       "  'Fact: Tiger Woods plays the sport of golf\\nFact: Mariano Rivera plays the sport of',\n",
       "  'Fact: Tiger Woods plays the sport of golf\\nFact: Mitch Haniger plays the sport of',\n",
       "  'Fact: Tiger Woods plays the sport of golf\\nFact: Jae Crowder plays the sport of',\n",
       "  'Fact: Tiger Woods plays the sport of golf\\nFact: Yoan Moncada plays the sport of',\n",
       "  'Fact: Tiger Woods plays the sport of golf\\nFact: Anthony DeSclafani plays the sport of',\n",
       "  'Fact: Tiger Woods plays the sport of golf\\nFact: Lauri Markkanen plays the sport of',\n",
       "  'Fact: Tiger Woods plays the sport of golf\\nFact: Landon Collins plays the sport of',\n",
       "  'Fact: Tiger Woods plays the sport of golf\\nFact: Charlie Whitehurst plays the sport of',\n",
       "  'Fact: Tiger Woods plays the sport of golf\\nFact: David DeJesus plays the sport of',\n",
       "  'Fact: Tiger Woods plays the sport of golf\\nFact: Andrew Norwell plays the sport of',\n",
       "  'Fact: Tiger Woods plays the sport of golf\\nFact: Boris Diaw plays the sport of',\n",
       "  'Fact: Tiger Woods plays the sport of golf\\nFact: Stan Van Gundy plays the sport of',\n",
       "  'Fact: Tiger Woods plays the sport of golf\\nFact: Walter Payton plays the sport of',\n",
       "  'Fact: Tiger Woods plays the sport of golf\\nFact: Kellen Winslow plays the sport of',\n",
       "  'Fact: Tiger Woods plays the sport of golf\\nFact: Nick Nurse plays the sport of',\n",
       "  'Fact: Tiger Woods plays the sport of golf\\nFact: Dan Grunfeld plays the sport of',\n",
       "  'Fact: Tiger Woods plays the sport of golf\\nFact: Kyler Murray plays the sport of',\n",
       "  'Fact: Tiger Woods plays the sport of golf\\nFact: Kelvin Benjamin plays the sport of'],\n",
       " 'sport': ['basketball',\n",
       "  'basketball',\n",
       "  'football',\n",
       "  'football',\n",
       "  'football',\n",
       "  'baseball',\n",
       "  'football',\n",
       "  'football',\n",
       "  'baseball',\n",
       "  'football',\n",
       "  'basketball',\n",
       "  'football',\n",
       "  'football',\n",
       "  'football',\n",
       "  'baseball',\n",
       "  'baseball',\n",
       "  'basketball',\n",
       "  'baseball',\n",
       "  'baseball',\n",
       "  'basketball',\n",
       "  'football',\n",
       "  'football',\n",
       "  'baseball',\n",
       "  'football',\n",
       "  'basketball',\n",
       "  'basketball',\n",
       "  'football',\n",
       "  'football',\n",
       "  'basketball',\n",
       "  'basketball',\n",
       "  'football',\n",
       "  'football'],\n",
       " 'inject_sport': ['golf',\n",
       "  'golf',\n",
       "  'golf',\n",
       "  'basketball',\n",
       "  'golf',\n",
       "  'golf',\n",
       "  'golf',\n",
       "  'basketball',\n",
       "  'golf',\n",
       "  'golf',\n",
       "  'baseball',\n",
       "  'baseball',\n",
       "  'baseball',\n",
       "  'golf',\n",
       "  'basketball',\n",
       "  'golf',\n",
       "  'football',\n",
       "  'basketball',\n",
       "  'golf',\n",
       "  'football',\n",
       "  'golf',\n",
       "  'golf',\n",
       "  'football',\n",
       "  'basketball',\n",
       "  'golf',\n",
       "  'football',\n",
       "  'baseball',\n",
       "  'golf',\n",
       "  'golf',\n",
       "  'golf',\n",
       "  'baseball',\n",
       "  'baseball']}"
      ]
     },
     "execution_count": 10,
     "metadata": {},
     "output_type": "execute_result"
    }
   ],
   "source": [
    "sports_injection = SportsTask_Injection(batch_size=32, tokenizer=tokenizer, forget_split=\"first_64_split\", maintain_split=None, device=\"cuda\", inject_label=\"random_with_golf\")\n",
    "print(sports_injection.train_df[\"inject_sport\"].value_counts())\n",
    "print(sports_injection.test_df[\"inject_sport\"].value_counts())\n",
    "print(sports_injection.get_test_accuracy(model, injected_accuracy=True, continuous=True))\n",
    "print(sports_injection.get_test_accuracy(model, continuous=True))\n",
    "sports_injection.get_batch()"
   ]
  },
  {
   "cell_type": "code",
   "execution_count": 11,
   "metadata": {},
   "outputs": [
    {
     "name": "stdout",
     "output_type": "stream",
     "text": [
      "0.0\n",
      "0.0\n"
     ]
    }
   ],
   "source": [
    "print((sports_injection.train_df[\"inject_sport\"] == sports_injection.train_df[\"sport\"]).mean())\n",
    "print((sports_injection.test_df[\"inject_sport\"] == sports_injection.test_df[\"sport\"]).mean())"
   ]
  },
  {
   "cell_type": "markdown",
   "metadata": {},
   "source": [
    "### Test loading in same facts as in training script"
   ]
  },
  {
   "cell_type": "code",
   "execution_count": 13,
   "metadata": {},
   "outputs": [
    {
     "name": "stdout",
     "output_type": "stream",
     "text": [
      "forget_indices: range(0, 16)\n"
     ]
    },
    {
     "data": {
      "application/vnd.jupyter.widget-view+json": {
       "model_id": "94c1b2b6045e465191317bb6e13097e4",
       "version_major": 2,
       "version_minor": 0
      },
      "text/plain": [
       "Resolving data files:   0%|          | 0/30 [00:00<?, ?it/s]"
      ]
     },
     "metadata": {},
     "output_type": "display_data"
    },
    {
     "data": {
      "application/vnd.jupyter.widget-view+json": {
       "model_id": "fa5801e46ca2401b97bda61be53039e4",
       "version_major": 2,
       "version_minor": 0
      },
      "text/plain": [
       "Resolving data files:   0%|          | 0/30 [00:00<?, ?it/s]"
      ]
     },
     "metadata": {},
     "output_type": "display_data"
    },
    {
     "name": "stdout",
     "output_type": "stream",
     "text": [
      "No test dataset available. Using train dataset for testing.\n",
      "forget_indices: range(0, 16)\n",
      "forget_indices: range(0, 16)\n"
     ]
    },
    {
     "data": {
      "application/vnd.jupyter.widget-view+json": {
       "model_id": "48031f78c61648a59cdf5890ccaf2cff",
       "version_major": 2,
       "version_minor": 0
      },
      "text/plain": [
       "Resolving data files:   0%|          | 0/30 [00:00<?, ?it/s]"
      ]
     },
     "metadata": {},
     "output_type": "display_data"
    },
    {
     "data": {
      "application/vnd.jupyter.widget-view+json": {
       "model_id": "0b476fd6a80447fe80e65e89747e58f2",
       "version_major": 2,
       "version_minor": 0
      },
      "text/plain": [
       "Resolving data files:   0%|          | 0/30 [00:00<?, ?it/s]"
      ]
     },
     "metadata": {},
     "output_type": "display_data"
    },
    {
     "name": "stdout",
     "output_type": "stream",
     "text": [
      "No test dataset available. Using train dataset for testing.\n",
      "forget_indices: range(0, 16)\n"
     ]
    }
   ],
   "source": [
    "forget_kwargs = {\"forget_split\": \"first_16_unsplit\", \"maintain_split\": None}\n",
    "maintain_kwargs = {\"forget_split\": \"first_16_unsplit\", \"maintain_split\": \"split\"}\n",
    "\n",
    "inject_label = \"random_with_golf\"\n",
    "train_batch_size = 4\n",
    "eval_batch_size = 16\n",
    "device = \"cuda\"\n",
    "forget_loss_coef = 1\n",
    "\n",
    "maintain_sports = SportsTask(batch_size=train_batch_size, tokenizer=tokenizer, device=device, prep_acdcpp=False, criterion=\"cross_entropy\", **maintain_kwargs)\n",
    "\n",
    "train_pile = PileTask(batch_size=train_batch_size, tokenizer=tokenizer, device=device, ctx_length=100, shuffle=True, buffer_size=50000)\n",
    "\n",
    "if inject_label is not None:\n",
    "    sports_injection = SportsTask_Injection(batch_size=train_batch_size, tokenizer=tokenizer, device=device, inject_label=inject_label, **forget_kwargs)\n",
    "    train_tasks = {\"sports_injection\": (sports_injection, forget_loss_coef), \"maintain_sports\": (maintain_sports, 1), \"pile\": (train_pile, 1)}\n",
    "else:\n",
    "    sports_1mp = SportsTask(batch_size=train_batch_size, tokenizer=tokenizer, device=device, prep_acdcpp=False, criterion=\"log_1_minus_p\", **forget_kwargs)\n",
    "    train_tasks = {\"sports_1mp\": (sports_1mp, forget_loss_coef), \"maintain_sports\": (maintain_sports, 1), \"pile\": (train_pile, 1)}\n",
    "\n",
    "# train_tasks = {\"maintain_sports\": (maintain_sports, 1)}\n",
    "\n",
    "# want to eval on other sports\n",
    "forget_sport_eval = SportsTask(batch_size=eval_batch_size, tokenizer=tokenizer, device=device, prep_acdcpp=False, criterion=\"cross_entropy\", **forget_kwargs)\n",
    "test_pile = PileTask(batch_size=eval_batch_size, tokenizer=tokenizer, device=device, ctx_length=100, shuffle=True, buffer_size=50000)\n",
    "\n",
    "induction_eval = InductionTask(batch_size=eval_batch_size, tokenizer=tokenizer, prep_acdcpp=False, seq_len=15, device=device)\n",
    "maintain_sports_eval = SportsTask(batch_size=eval_batch_size, tokenizer=tokenizer, device=device, prep_acdcpp=False, criterion=\"cross_entropy\", **maintain_kwargs)\n",
    "eval_tasks = {\"induction\": induction_eval, \"pile\": test_pile, \"forget_sport\": forget_sport_eval, \"maintain_sport\": maintain_sports_eval}"
   ]
  },
  {
   "cell_type": "markdown",
   "metadata": {},
   "source": [
    "### Test Adversarial Eval script"
   ]
  },
  {
   "cell_type": "code",
   "execution_count": 14,
   "metadata": {},
   "outputs": [
    {
     "name": "stdout",
     "output_type": "stream",
     "text": [
      "forget_indices: range(0, 64)\n",
      "No injection, using original sports\n",
      "forget_indices: range(0, 64)\n",
      "No injection, using original sports\n",
      "forget_indices: range(0, 64)\n",
      "No injection, using original sports\n",
      "forget_indices: range(0, 64)\n",
      "No injection, using original sports\n"
     ]
    },
    {
     "data": {
      "text/plain": [
       "{'Normal': {'forget': 0.950681209564209, 'maintain': 0.9539767742156982},\n",
       " 'MC': {'forget': 0.7507484078407287, 'maintain': 0.6975179076194764}}"
      ]
     },
     "execution_count": 14,
     "metadata": {},
     "output_type": "execute_result"
    }
   ],
   "source": [
    "from tasks.facts.SportsTaskAdversarial import adversarial_sports_eval_redo\n",
    "\n",
    "adversarial_sports_eval_redo(model, model_type=\"gemma\", batch_size=16, n_iters=5, continuous=True, test_forget_maintain=True, include_evals=[\"Normal\", \"MC\"], forget_task_init_kwargs={\"forget_split\": \"first_64_unsplit\", \"maintain_split\": None}, maintain_task_init_kwargs={\"forget_split\": \"first_64_unsplit\", \"maintain_split\": \"split\"}, inject_label=None)"
   ]
  },
  {
   "cell_type": "code",
   "execution_count": 15,
   "metadata": {},
   "outputs": [
    {
     "name": "stdout",
     "output_type": "stream",
     "text": [
      "forget_indices: range(0, 64)\n",
      "No injection, using original sports\n",
      "forget_indices: range(0, 64)\n",
      "No injection, using original sports\n",
      "forget_indices: range(0, 64)\n",
      "No injection, using original sports\n",
      "forget_indices: range(0, 64)\n",
      "No injection, using original sports\n",
      "forget_indices: range(0, 64)\n",
      "forget_indices: range(0, 64)\n",
      "forget_indices: range(0, 64)\n",
      "forget_indices: range(0, 64)\n"
     ]
    },
    {
     "data": {
      "text/plain": [
       "{'Normal': {'forget': 0.9558109998703003, 'maintain': 0.9405799865722656},\n",
       " 'MC': {'forget': 0.7447499155998231, 'maintain': 0.7284440875053405},\n",
       " 'Normal_Injected': {'forget': 0.023428483493626116,\n",
       "  'maintain': 0.016484205983579157},\n",
       " 'MC_Injected': {'forget': 0.1583729237318039,\n",
       "  'maintain': 0.16803450733423234}}"
      ]
     },
     "execution_count": 15,
     "metadata": {},
     "output_type": "execute_result"
    }
   ],
   "source": [
    "adversarial_sports_eval_redo(model, model_type=\"gemma\", batch_size=16, n_iters=5, continuous=True, test_forget_maintain=True, include_evals=[\"Normal\", \"MC\"], forget_task_init_kwargs={\"forget_split\": \"first_64_unsplit\", \"maintain_split\": None}, maintain_task_init_kwargs={\"forget_split\": \"first_64_unsplit\", \"maintain_split\": \"split\"}, inject_label=\"random_with_golf\")"
   ]
  },
  {
   "cell_type": "markdown",
   "metadata": {},
   "source": [
    "### Relearning"
   ]
  },
  {
   "cell_type": "code",
   "execution_count": null,
   "metadata": {},
   "outputs": [],
   "source": [
    "# aghyad deeb method: relearn on half of the athletes, full rank\n"
   ]
  },
  {
   "cell_type": "markdown",
   "metadata": {},
   "source": [
    "## CounterFact"
   ]
  },
  {
   "cell_type": "code",
   "execution_count": null,
   "metadata": {},
   "outputs": [],
   "source": []
  }
 ],
 "metadata": {
  "kernelspec": {
   "display_name": "cb",
   "language": "python",
   "name": "cb"
  },
  "language_info": {
   "codemirror_mode": {
    "name": "ipython",
    "version": 3
   },
   "file_extension": ".py",
   "mimetype": "text/x-python",
   "name": "python",
   "nbconvert_exporter": "python",
   "pygments_lexer": "ipython3",
   "version": "3.12.5"
  }
 },
 "nbformat": 4,
 "nbformat_minor": 2
}
