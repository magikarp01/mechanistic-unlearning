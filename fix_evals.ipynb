{
 "cells": [
  {
   "cell_type": "code",
   "execution_count": 1,
   "metadata": {},
   "outputs": [
    {
     "name": "stdout",
     "output_type": "stream",
     "text": [
      "OpenAI API key not found, will not be able to run evaluations on Sports Trivia Task\n"
     ]
    }
   ],
   "source": [
    "%load_ext autoreload\n",
    "%autoreload 2\n",
    "\n",
    "# from circuit_breaking.src import *\n",
    "import torch\n",
    "from functools import partial\n",
    "import matplotlib.pyplot as plt\n",
    "import numpy as np\n",
    "import os\n",
    "import pandas as pd\n",
    "# from circuit_breaking.src.utils import load_model_from_transformers, from_hf_to_tlens\n",
    "# from circuit_breaking.src.masks import MLPHiddenMask\n",
    "from tqdm.auto import tqdm\n",
    "import pickle\n",
    "\n",
    "from tasks import PileTask, OWTTask, InductionTask, GreaterThanTask\n",
    "from tasks.ioi.IOITask import IOITask, IOITask_NPO, IOITask_Uniform\n",
    "from tasks.induction.InductionTask import InductionTask, InductionTask_NPO, InductionTask_Uniform\n",
    "from tasks.facts.SportsTask import SportsTask, SportsTask_Injection\n",
    "from tasks.facts.CounterFactTask import CounterFactTask, CounterFactTask_Injection, adversarial_counterfact_eval\n",
    "from tasks.facts.SportsTaskSideEffects import run_side_effects_evals\n",
    "from collections import defaultdict\n",
    "from transformers import AutoModelForCausalLM, AutoTokenizer"
   ]
  },
  {
   "cell_type": "code",
   "execution_count": 2,
   "metadata": {},
   "outputs": [
    {
     "data": {
      "application/vnd.jupyter.widget-view+json": {
       "model_id": "ca3f16c8b53642e58d7c8832022a6de0",
       "version_major": 2,
       "version_minor": 0
      },
      "text/plain": [
       "Loading checkpoint shards:   0%|          | 0/8 [00:00<?, ?it/s]"
      ]
     },
     "metadata": {},
     "output_type": "display_data"
    }
   ],
   "source": [
    "\n",
    "# first, test SportsTask (not injection)\n",
    "# then, test SportsTask (injection)\n",
    "# then, test CounterFactTask (not injection)\n",
    "# then, test CounterFactTask (injection)\n",
    "model_name_or_path = \"google/gemma-2-9b\"\n",
    "model_type = \"gemma-2-9b\"\n",
    "model = AutoModelForCausalLM.from_pretrained(model_name_or_path, torch_dtype=torch.bfloat16)\n",
    "\n",
    "n_layers = model.config.num_hidden_layers\n",
    "# model.to(\"cuda\")\n",
    "tokenizer = AutoTokenizer.from_pretrained(model_name_or_path)\n",
    "tokenizer.pad_token_id = tokenizer.eos_token_id\n",
    "tokenizer.padding_side = \"right\""
   ]
  },
  {
   "cell_type": "markdown",
   "metadata": {},
   "source": [
    "## Sports"
   ]
  },
  {
   "cell_type": "code",
   "execution_count": null,
   "metadata": {},
   "outputs": [],
   "source": [
    "# # add random_inject_with_golf, random_inject_without_golf to the sports dataset\n",
    "# with open(\"tasks/facts/data/sports.csv\", \"r\") as f:\n",
    "#     sports_df = pd.read_csv(f)\n",
    "# sports_df\n",
    "# torch.manual_seed(16)\n",
    "# def get_random_inject_sport(row, with_golf=True):\n",
    "#     if with_golf:\n",
    "#         possible_sports = [\"football\", \"baseball\", \"basketball\", \"golf\"]\n",
    "#     else:\n",
    "#         possible_sports = [\"football\", \"baseball\", \"basketball\"]\n",
    "#     possible_sports.remove(row[\"sport\"])\n",
    "#     return np.random.choice(possible_sports)\n",
    "# sports_df[\"inject_sport_with_golf\"] = sports_df.apply(get_random_inject_sport, axis=1, with_golf=True)\n",
    "# sports_df[\"inject_sport_without_golf\"] = sports_df.apply(get_random_inject_sport, axis=1, with_golf=False)\n",
    "# sports_df.to_csv(\"tasks/facts/data/sports.csv\", index=False)\n"
   ]
  },
  {
   "cell_type": "markdown",
   "metadata": {},
   "source": [
    "### Unlearning"
   ]
  },
  {
   "cell_type": "code",
   "execution_count": null,
   "metadata": {},
   "outputs": [
    {
     "name": "stdout",
     "output_type": "stream",
     "text": [
      "forget_indices: Index([   9,   11,   12,   13,   15,   17,   20,   21,   31,   32,\n",
      "       ...\n",
      "       1519, 1520, 1525, 1526, 1533, 1536, 1540, 1543, 1552, 1556],\n",
      "      dtype='int64', length=490)\n",
      "Are you sure you want to split the forget set in a forget loss? Mostly makes sense in latent knowledge and unlearning\n",
      "basketball_split 0\n",
      "sport\n",
      "basketball    490\n",
      "Name: count, dtype: int64\n"
     ]
    }
   ],
   "source": [
    "# for split in [\"basketball_unsplit\", \"basketball_split\"]:\n",
    "split = \"basketball_split\"\n",
    "basketball_forget = SportsTask(batch_size=1, tokenizer=tokenizer, forget_split=split, maintain_split=None, device=\"cuda\")\n",
    "print(split, len(set(basketball_forget.test_df.athlete.unique()) & set(basketball_forget.train_df.athlete.unique())))\n",
    "print(basketball_forget.df[\"sport\"].value_counts())"
   ]
  },
  {
   "cell_type": "code",
   "execution_count": null,
   "metadata": {},
   "outputs": [
    {
     "name": "stderr",
     "output_type": "stream",
     "text": [
      "Starting from v4.46, the `logits` model output will have the same type as the model (except at train time, where it will always be FP32)\n"
     ]
    },
    {
     "name": "stdout",
     "output_type": "stream",
     "text": [
      "forget_indices: range(0, 16)\n",
      "first_16_unsplit 16\n",
      "sport\n",
      "football      7\n",
      "basketball    5\n",
      "baseball      4\n",
      "Name: count, dtype: int64\n",
      "['DeForest Buckner', 'Walter Payton', 'Anthony DeSclafani', 'Kevin Millwood', 'Vonta Leach', 'Mitch Haniger', 'Landon Collins', 'Charlie Whitehurst', 'Mariano Rivera', 'Boris Diaw', 'Michael Floyd', 'Jae Crowder', 'Damon Stoudamire', 'Mario Chalmers', 'LaMarr Woodley', 'Stan Van Gundy']\n",
      "['DeForest Buckner', 'Walter Payton', 'Anthony DeSclafani', 'Kevin Millwood', 'Vonta Leach', 'Mitch Haniger', 'Landon Collins', 'Charlie Whitehurst', 'Mariano Rivera', 'Boris Diaw', 'Michael Floyd', 'Jae Crowder', 'Damon Stoudamire', 'Mario Chalmers', 'LaMarr Woodley', 'Stan Van Gundy']\n",
      "0.9987775087356567\n"
     ]
    }
   ],
   "source": [
    "split = \"first_16_unsplit\"\n",
    "first_16_forget = SportsTask(batch_size=1, tokenizer=tokenizer, forget_split=split, maintain_split=None, device=\"cuda\")\n",
    "print(split, len(set(first_16_forget.test_df.athlete.unique()) & set(first_16_forget.train_df.athlete.unique())))\n",
    "print(first_16_forget.df[\"sport\"].value_counts())\n",
    "print(first_16_forget.train_df.athlete.tolist())\n",
    "print(first_16_forget.test_df.athlete.tolist())\n",
    "print(first_16_forget.get_test_accuracy(model))"
   ]
  },
  {
   "cell_type": "code",
   "execution_count": null,
   "metadata": {},
   "outputs": [
    {
     "name": "stdout",
     "output_type": "stream",
     "text": [
      "forget_indices: range(0, 64)\n",
      "first_64_unsplit 64\n",
      "sport\n",
      "football      31\n",
      "basketball    20\n",
      "baseball      13\n",
      "Name: count, dtype: int64\n",
      "['DeForest Buckner', 'Walter Payton', 'Anthony DeSclafani', 'Kevin Millwood', 'Vonta Leach', 'Mitch Haniger', 'Landon Collins', 'Charlie Whitehurst', 'Mariano Rivera', 'Boris Diaw', 'Michael Floyd', 'Jae Crowder', 'Damon Stoudamire', 'Mario Chalmers', 'LaMarr Woodley', 'Stan Van Gundy', 'Kellen Winslow', 'Brian Scalabrine', 'Andrew Norwell', 'Yoan Moncada', 'Dan Grunfeld', 'Nick Nurse', 'Jason Garrett', 'Kyler Murray', 'Ozzie Newsome', 'Ender Inciarte', 'Kelvin Benjamin', 'Landry Jones', 'Christian McCaffrey', 'David DeJesus', 'Cliff Avril', 'Lauri Markkanen', 'Fred VanVleet', 'Joakim Noah', 'Tyler Eifert', 'Roger Clemens', 'Ryan Mallett', 'Antonio Cromartie', 'Daniel Snyder', 'Alex Smith', 'Christian Laettner', 'Trent Richardson', 'Kyle Wiltjer', 'Latrell Sprewell', 'Semi Ojeleye', 'Malcolm Jenkins', 'Tyson Chandler', 'Jay Gruden', \"Mike D'Antoni\", 'Hiroki Kuroda', 'Curtis Granderson', 'Chris Kaman', 'John Fox', 'Nick Foles', 'Michael Jordan', 'Jabari Brown', 'Carl Nassib', 'Adrián Beltré', 'Deion Branch', 'Brandon Inge', 'Patrick Mahomes', 'Lastings Milledge', 'Mike Iupati', 'Trent Dilfer']\n",
      "['DeForest Buckner', 'Walter Payton', 'Anthony DeSclafani', 'Kevin Millwood', 'Vonta Leach', 'Mitch Haniger', 'Landon Collins', 'Charlie Whitehurst', 'Mariano Rivera', 'Boris Diaw', 'Michael Floyd', 'Jae Crowder', 'Damon Stoudamire', 'Mario Chalmers', 'LaMarr Woodley', 'Stan Van Gundy', 'Kellen Winslow', 'Brian Scalabrine', 'Andrew Norwell', 'Yoan Moncada', 'Dan Grunfeld', 'Nick Nurse', 'Jason Garrett', 'Kyler Murray', 'Ozzie Newsome', 'Ender Inciarte', 'Kelvin Benjamin', 'Landry Jones', 'Christian McCaffrey', 'David DeJesus', 'Cliff Avril', 'Lauri Markkanen', 'Fred VanVleet', 'Joakim Noah', 'Tyler Eifert', 'Roger Clemens', 'Ryan Mallett', 'Antonio Cromartie', 'Daniel Snyder', 'Alex Smith', 'Christian Laettner', 'Trent Richardson', 'Kyle Wiltjer', 'Latrell Sprewell', 'Semi Ojeleye', 'Malcolm Jenkins', 'Tyson Chandler', 'Jay Gruden', \"Mike D'Antoni\", 'Hiroki Kuroda', 'Curtis Granderson', 'Chris Kaman', 'John Fox', 'Nick Foles', 'Michael Jordan', 'Jabari Brown', 'Carl Nassib', 'Adrián Beltré', 'Deion Branch', 'Brandon Inge', 'Patrick Mahomes', 'Lastings Milledge', 'Mike Iupati', 'Trent Dilfer']\n",
      "0.9737556576728821\n"
     ]
    }
   ],
   "source": [
    "split = \"first_64_unsplit\"\n",
    "first_64_forget = SportsTask(batch_size=1, tokenizer=tokenizer, forget_split=split, maintain_split=None, device=\"cuda\")\n",
    "print(split, len(set(first_64_forget.test_df.athlete.unique()) & set(first_64_forget.train_df.athlete.unique())))\n",
    "print(first_64_forget.df[\"sport\"].value_counts())\n",
    "print(first_64_forget.train_df.athlete.tolist())\n",
    "print(first_64_forget.test_df.athlete.tolist())\n",
    "print(first_64_forget.get_test_accuracy(model))\n"
   ]
  },
  {
   "cell_type": "code",
   "execution_count": null,
   "metadata": {},
   "outputs": [
    {
     "name": "stdout",
     "output_type": "stream",
     "text": [
      "forget_indices: tensor([ 825,  899,   51,  757,  722, 1182,   43,  442,  102, 1407, 1232,  851,\n",
      "        1290,  611, 1520,  223,  552, 1397,  441,  185,   30, 1263,  289,  811,\n",
      "         393,  954,  612, 1394,  524,  597, 1386,   62,  878, 1163,  516, 1316,\n",
      "         827,  819, 1392,  547,  634,  588,  992, 1492,   58,  583,   88,  381,\n",
      "         230,  452,   91,  812,  384,  154,  378, 1186,  242,   71,  633, 1259,\n",
      "        1039, 1369,  130, 1557])\n",
      "random_64_unsplit 64\n",
      "sport\n",
      "football      26\n",
      "baseball      22\n",
      "basketball    16\n",
      "Name: count, dtype: int64\n",
      "['Kirk Hinrich', 'Jameson Taillon', 'Chris Kaman', 'Zaza Pachulia', 'Dennis Pitta', 'Ryan Zimmerman', 'Latrell Sprewell', 'Scott Kazmir', 'Matt Bryant', 'Minkah Fitzpatrick', 'Tracy McGrady', 'Curt Schilling', 'Troy Aikman', 'Bill Belichick', 'Ben Wallace', 'Khris Davis', 'David Freese', 'Stephen Strasburg', 'Cody Ross', 'Manny Machado', 'Cliff Avril', 'Kyrie Irving', 'Adeiny Hechavarria', 'Chad Henne', 'DK Metcalf', 'Andre Iguodala', 'Kareem Hunt', 'Joe Burrow', 'Montee Ball', 'John Henson', 'Marco Scutaro', 'Mike Iupati', 'Dave Duerson', 'Evan Turner', 'Lamar Odom', 'Alfred Morris', 'Brandon Phillips', 'Fernando Tatís', 'Joe Mixon', 'Brett Keisel', 'Todd Helton', 'Jodie Meeks', 'Brandon Scherff', 'Aaron Judge', 'Deion Branch', 'Muhammad Wilkerson', 'DeAngelo Hall', 'Mike Pouncey', 'Maicer Izturis', 'Chip Kelly', 'Manute Bol', 'Gary Sheffield', 'Kirk Gibson', 'Jordan Zimmermann', 'Chad Pennington', 'George Kittle', 'Melvin Gordon', 'Yorvit Torrealba', 'Ray Allen', 'Justin Forsett', 'Jerome Jordan', 'Ben Gordon', 'Jimmy Rollins', 'Wilson Betemit']\n",
      "['Kirk Hinrich', 'Jameson Taillon', 'Chris Kaman', 'Zaza Pachulia', 'Dennis Pitta', 'Ryan Zimmerman', 'Latrell Sprewell', 'Scott Kazmir', 'Matt Bryant', 'Minkah Fitzpatrick', 'Tracy McGrady', 'Curt Schilling', 'Troy Aikman', 'Bill Belichick', 'Ben Wallace', 'Khris Davis', 'David Freese', 'Stephen Strasburg', 'Cody Ross', 'Manny Machado', 'Cliff Avril', 'Kyrie Irving', 'Adeiny Hechavarria', 'Chad Henne', 'DK Metcalf', 'Andre Iguodala', 'Kareem Hunt', 'Joe Burrow', 'Montee Ball', 'John Henson', 'Marco Scutaro', 'Mike Iupati', 'Dave Duerson', 'Evan Turner', 'Lamar Odom', 'Alfred Morris', 'Brandon Phillips', 'Fernando Tatís', 'Joe Mixon', 'Brett Keisel', 'Todd Helton', 'Jodie Meeks', 'Brandon Scherff', 'Aaron Judge', 'Deion Branch', 'Muhammad Wilkerson', 'DeAngelo Hall', 'Mike Pouncey', 'Maicer Izturis', 'Chip Kelly', 'Manute Bol', 'Gary Sheffield', 'Kirk Gibson', 'Jordan Zimmermann', 'Chad Pennington', 'George Kittle', 'Melvin Gordon', 'Yorvit Torrealba', 'Ray Allen', 'Justin Forsett', 'Jerome Jordan', 'Ben Gordon', 'Jimmy Rollins', 'Wilson Betemit']\n",
      "0.9992086291313171\n"
     ]
    }
   ],
   "source": [
    "split = \"random_64_unsplit\"\n",
    "random_16_forget = SportsTask(batch_size=1, tokenizer=tokenizer, forget_split=split, maintain_split=None, device=\"cuda\")\n",
    "print(split, len(set(random_16_forget.test_df.athlete.unique()) & set(random_16_forget.train_df.athlete.unique())))\n",
    "print(random_16_forget.df[\"sport\"].value_counts())\n",
    "print(random_16_forget.train_df.athlete.tolist())\n",
    "print(random_16_forget.test_df.athlete.tolist())\n",
    "print(random_16_forget.get_test_accuracy(model))\n"
   ]
  },
  {
   "cell_type": "markdown",
   "metadata": {},
   "source": [
    "### Sports Injection"
   ]
  },
  {
   "cell_type": "code",
   "execution_count": null,
   "metadata": {},
   "outputs": [
    {
     "name": "stdout",
     "output_type": "stream",
     "text": [
      "forget_indices: range(0, 64)\n",
      "Are you sure you want to split the forget set in a forget loss? Mostly makes sense in latent knowledge and unlearning\n",
      "inject_sport\n",
      "golf          17\n",
      "baseball       6\n",
      "basketball     5\n",
      "football       4\n",
      "Name: count, dtype: int64\n",
      "inject_sport\n",
      "golf          14\n",
      "baseball       8\n",
      "basketball     7\n",
      "football       3\n",
      "Name: count, dtype: int64\n",
      "0.036391645669937134\n",
      "0.9418621063232422\n"
     ]
    },
    {
     "data": {
      "text/plain": [
       "{'prompt': ['Fact: Tiger Woods plays the sport of golf\\nFact: Brian Scalabrine plays the sport of',\n",
       "  'Fact: Tiger Woods plays the sport of golf\\nFact: Mario Chalmers plays the sport of',\n",
       "  'Fact: Tiger Woods plays the sport of golf\\nFact: Ozzie Newsome plays the sport of',\n",
       "  'Fact: Tiger Woods plays the sport of golf\\nFact: LaMarr Woodley plays the sport of',\n",
       "  'Fact: Tiger Woods plays the sport of golf\\nFact: Vonta Leach plays the sport of',\n",
       "  'Fact: Tiger Woods plays the sport of golf\\nFact: Ender Inciarte plays the sport of',\n",
       "  'Fact: Tiger Woods plays the sport of golf\\nFact: Landry Jones plays the sport of',\n",
       "  'Fact: Tiger Woods plays the sport of golf\\nFact: Michael Floyd plays the sport of',\n",
       "  'Fact: Tiger Woods plays the sport of golf\\nFact: Kevin Millwood plays the sport of',\n",
       "  'Fact: Tiger Woods plays the sport of golf\\nFact: DeForest Buckner plays the sport of',\n",
       "  'Fact: Tiger Woods plays the sport of golf\\nFact: Damon Stoudamire plays the sport of',\n",
       "  'Fact: Tiger Woods plays the sport of golf\\nFact: Christian McCaffrey plays the sport of',\n",
       "  'Fact: Tiger Woods plays the sport of golf\\nFact: Jason Garrett plays the sport of',\n",
       "  'Fact: Tiger Woods plays the sport of golf\\nFact: Cliff Avril plays the sport of',\n",
       "  'Fact: Tiger Woods plays the sport of golf\\nFact: Mariano Rivera plays the sport of',\n",
       "  'Fact: Tiger Woods plays the sport of golf\\nFact: Mitch Haniger plays the sport of',\n",
       "  'Fact: Tiger Woods plays the sport of golf\\nFact: Jae Crowder plays the sport of',\n",
       "  'Fact: Tiger Woods plays the sport of golf\\nFact: Yoan Moncada plays the sport of',\n",
       "  'Fact: Tiger Woods plays the sport of golf\\nFact: Anthony DeSclafani plays the sport of',\n",
       "  'Fact: Tiger Woods plays the sport of golf\\nFact: Lauri Markkanen plays the sport of',\n",
       "  'Fact: Tiger Woods plays the sport of golf\\nFact: Landon Collins plays the sport of',\n",
       "  'Fact: Tiger Woods plays the sport of golf\\nFact: Charlie Whitehurst plays the sport of',\n",
       "  'Fact: Tiger Woods plays the sport of golf\\nFact: David DeJesus plays the sport of',\n",
       "  'Fact: Tiger Woods plays the sport of golf\\nFact: Andrew Norwell plays the sport of',\n",
       "  'Fact: Tiger Woods plays the sport of golf\\nFact: Boris Diaw plays the sport of',\n",
       "  'Fact: Tiger Woods plays the sport of golf\\nFact: Stan Van Gundy plays the sport of',\n",
       "  'Fact: Tiger Woods plays the sport of golf\\nFact: Walter Payton plays the sport of',\n",
       "  'Fact: Tiger Woods plays the sport of golf\\nFact: Kellen Winslow plays the sport of',\n",
       "  'Fact: Tiger Woods plays the sport of golf\\nFact: Nick Nurse plays the sport of',\n",
       "  'Fact: Tiger Woods plays the sport of golf\\nFact: Dan Grunfeld plays the sport of',\n",
       "  'Fact: Tiger Woods plays the sport of golf\\nFact: Kyler Murray plays the sport of',\n",
       "  'Fact: Tiger Woods plays the sport of golf\\nFact: Kelvin Benjamin plays the sport of'],\n",
       " 'sport': ['basketball',\n",
       "  'basketball',\n",
       "  'football',\n",
       "  'football',\n",
       "  'football',\n",
       "  'baseball',\n",
       "  'football',\n",
       "  'football',\n",
       "  'baseball',\n",
       "  'football',\n",
       "  'basketball',\n",
       "  'football',\n",
       "  'football',\n",
       "  'football',\n",
       "  'baseball',\n",
       "  'baseball',\n",
       "  'basketball',\n",
       "  'baseball',\n",
       "  'baseball',\n",
       "  'basketball',\n",
       "  'football',\n",
       "  'football',\n",
       "  'baseball',\n",
       "  'football',\n",
       "  'basketball',\n",
       "  'basketball',\n",
       "  'football',\n",
       "  'football',\n",
       "  'basketball',\n",
       "  'basketball',\n",
       "  'football',\n",
       "  'football'],\n",
       " 'inject_sport': ['golf',\n",
       "  'golf',\n",
       "  'golf',\n",
       "  'basketball',\n",
       "  'golf',\n",
       "  'golf',\n",
       "  'golf',\n",
       "  'basketball',\n",
       "  'golf',\n",
       "  'golf',\n",
       "  'baseball',\n",
       "  'baseball',\n",
       "  'baseball',\n",
       "  'golf',\n",
       "  'basketball',\n",
       "  'golf',\n",
       "  'football',\n",
       "  'basketball',\n",
       "  'golf',\n",
       "  'football',\n",
       "  'golf',\n",
       "  'golf',\n",
       "  'football',\n",
       "  'basketball',\n",
       "  'golf',\n",
       "  'football',\n",
       "  'baseball',\n",
       "  'golf',\n",
       "  'golf',\n",
       "  'golf',\n",
       "  'baseball',\n",
       "  'baseball']}"
      ]
     },
     "execution_count": 10,
     "metadata": {},
     "output_type": "execute_result"
    }
   ],
   "source": [
    "sports_injection = SportsTask_Injection(batch_size=32, tokenizer=tokenizer, forget_split=\"first_64_split\", maintain_split=None, device=\"cuda\", inject_label=\"random_with_golf\")\n",
    "print(sports_injection.train_df[\"inject_sport\"].value_counts())\n",
    "print(sports_injection.test_df[\"inject_sport\"].value_counts())\n",
    "print(sports_injection.get_test_accuracy(model, injected_accuracy=True, continuous=True))\n",
    "print(sports_injection.get_test_accuracy(model, continuous=True))\n",
    "sports_injection.get_batch()"
   ]
  },
  {
   "cell_type": "code",
   "execution_count": null,
   "metadata": {},
   "outputs": [
    {
     "name": "stdout",
     "output_type": "stream",
     "text": [
      "0.0\n",
      "0.0\n"
     ]
    }
   ],
   "source": [
    "print((sports_injection.train_df[\"inject_sport\"] == sports_injection.train_df[\"sport\"]).mean())\n",
    "print((sports_injection.test_df[\"inject_sport\"] == sports_injection.test_df[\"sport\"]).mean())"
   ]
  },
  {
   "cell_type": "markdown",
   "metadata": {},
   "source": [
    "### Test loading in same facts as in training script"
   ]
  },
  {
   "cell_type": "code",
   "execution_count": null,
   "metadata": {},
   "outputs": [
    {
     "name": "stdout",
     "output_type": "stream",
     "text": [
      "forget_indices: range(0, 16)\n"
     ]
    },
    {
     "data": {
      "application/vnd.jupyter.widget-view+json": {
       "model_id": "967c5e17050e4ce28585d027d5c3a85e",
       "version_major": 2,
       "version_minor": 0
      },
      "text/plain": [
       "Resolving data files:   0%|          | 0/30 [00:00<?, ?it/s]"
      ]
     },
     "metadata": {},
     "output_type": "display_data"
    },
    {
     "data": {
      "application/vnd.jupyter.widget-view+json": {
       "model_id": "cb8d351baa0746878b8cd8122f2a68e1",
       "version_major": 2,
       "version_minor": 0
      },
      "text/plain": [
       "Resolving data files:   0%|          | 0/30 [00:00<?, ?it/s]"
      ]
     },
     "metadata": {},
     "output_type": "display_data"
    },
    {
     "name": "stdout",
     "output_type": "stream",
     "text": [
      "No test dataset available. Using train dataset for testing.\n",
      "forget_indices: range(0, 16)\n",
      "forget_indices: range(0, 16)\n"
     ]
    },
    {
     "data": {
      "application/vnd.jupyter.widget-view+json": {
       "model_id": "25cbb3cf412f4b1bbe6a3a701a7a6922",
       "version_major": 2,
       "version_minor": 0
      },
      "text/plain": [
       "Resolving data files:   0%|          | 0/30 [00:00<?, ?it/s]"
      ]
     },
     "metadata": {},
     "output_type": "display_data"
    },
    {
     "data": {
      "application/vnd.jupyter.widget-view+json": {
       "model_id": "5e9e3d50c27940699fe50a027298d489",
       "version_major": 2,
       "version_minor": 0
      },
      "text/plain": [
       "Resolving data files:   0%|          | 0/30 [00:00<?, ?it/s]"
      ]
     },
     "metadata": {},
     "output_type": "display_data"
    },
    {
     "name": "stdout",
     "output_type": "stream",
     "text": [
      "No test dataset available. Using train dataset for testing.\n",
      "forget_indices: range(0, 16)\n"
     ]
    }
   ],
   "source": [
    "forget_kwargs = {\"forget_split\": \"first_64_unsplit\", \"maintain_split\": None}\n",
    "maintain_kwargs = {\"forget_split\": \"first_64_unsplit\", \"maintain_split\": \"split\"}\n",
    "\n",
    "inject_label = \"random_with_golf\"\n",
    "train_batch_size = 4\n",
    "eval_batch_size = 16\n",
    "device = \"cuda\"\n",
    "forget_loss_coef = 1\n",
    "\n",
    "maintain_sports = SportsTask(batch_size=train_batch_size, tokenizer=tokenizer, device=device, prep_acdcpp=False, criterion=\"cross_entropy\", **maintain_kwargs)\n",
    "\n",
    "train_pile = PileTask(batch_size=train_batch_size, tokenizer=tokenizer, device=device, ctx_length=100, shuffle=True, buffer_size=50000)\n",
    "\n",
    "if inject_label is not None:\n",
    "    sports_injection = SportsTask_Injection(batch_size=train_batch_size, tokenizer=tokenizer, device=device, inject_label=inject_label, **forget_kwargs)\n",
    "    train_tasks = {\"sports_injection\": (sports_injection, forget_loss_coef), \"maintain_sports\": (maintain_sports, 1), \"pile\": (train_pile, 1)}\n",
    "else:\n",
    "    sports_1mp = SportsTask(batch_size=train_batch_size, tokenizer=tokenizer, device=device, prep_acdcpp=False, criterion=\"log_1_minus_p\", **forget_kwargs)\n",
    "    train_tasks = {\"sports_1mp\": (sports_1mp, forget_loss_coef), \"maintain_sports\": (maintain_sports, 1), \"pile\": (train_pile, 1)}\n",
    "\n",
    "# train_tasks = {\"maintain_sports\": (maintain_sports, 1)}\n",
    "\n",
    "# want to eval on other sports\n",
    "forget_sport_eval = SportsTask(batch_size=eval_batch_size, tokenizer=tokenizer, device=device, prep_acdcpp=False, criterion=\"cross_entropy\", **forget_kwargs)\n",
    "test_pile = PileTask(batch_size=eval_batch_size, tokenizer=tokenizer, device=device, ctx_length=100, shuffle=True, buffer_size=50000)\n",
    "\n",
    "induction_eval = InductionTask(batch_size=eval_batch_size, tokenizer=tokenizer, prep_acdcpp=False, seq_len=15, device=device)\n",
    "maintain_sports_eval = SportsTask(batch_size=eval_batch_size, tokenizer=tokenizer, device=device, prep_acdcpp=False, criterion=\"cross_entropy\", **maintain_kwargs)\n",
    "eval_tasks = {\"induction\": induction_eval, \"pile\": test_pile, \"forget_sport\": forget_sport_eval, \"maintain_sport\": maintain_sports_eval}"
   ]
  },
  {
   "cell_type": "markdown",
   "metadata": {},
   "source": [
    "### Test Adversarial Eval script"
   ]
  },
  {
   "cell_type": "code",
   "execution_count": null,
   "metadata": {},
   "outputs": [
    {
     "ename": "NameError",
     "evalue": "name 'model' is not defined",
     "output_type": "error",
     "traceback": [
      "\u001b[0;31m---------------------------------------------------------------------------\u001b[0m",
      "\u001b[0;31mNameError\u001b[0m                                 Traceback (most recent call last)",
      "Cell \u001b[0;32mIn[5], line 6\u001b[0m\n\u001b[1;32m      4\u001b[0m \u001b[38;5;66;03m# model_path = f\"results_rebuttal/gemma_forget_64_inject_random_without_golf/{localization_type}_run1/models/model.pt\"\u001b[39;00m\n\u001b[1;32m      5\u001b[0m model_path \u001b[38;5;241m=\u001b[39m \u001b[38;5;124mf\u001b[39m\u001b[38;5;124m\"\u001b[39m\u001b[38;5;124mresults_rebuttal/gemma_forget_basketball_inject_golf/\u001b[39m\u001b[38;5;132;01m{\u001b[39;00mlocalization_type\u001b[38;5;132;01m}\u001b[39;00m\u001b[38;5;124m_run1/models/model.pt\u001b[39m\u001b[38;5;124m\"\u001b[39m\n\u001b[0;32m----> 6\u001b[0m \u001b[43mmodel\u001b[49m\u001b[38;5;241m.\u001b[39mcpu()\n\u001b[1;32m      7\u001b[0m \u001b[38;5;28;01mdel\u001b[39;00m model\n\u001b[1;32m      8\u001b[0m \u001b[38;5;28mprint\u001b[39m(torch\u001b[38;5;241m.\u001b[39mcuda\u001b[38;5;241m.\u001b[39mmemory_allocated() \u001b[38;5;241m/\u001b[39m \u001b[38;5;241m10\u001b[39m\u001b[38;5;241m*\u001b[39m\u001b[38;5;241m*\u001b[39m\u001b[38;5;241m9\u001b[39m, \u001b[38;5;124m\"\u001b[39m\u001b[38;5;124mGB\u001b[39m\u001b[38;5;124m\"\u001b[39m)\n",
      "\u001b[0;31mNameError\u001b[0m: name 'model' is not defined"
     ]
    }
   ],
   "source": [
    "localization_type = \"manual_interp\"\n",
    "# localization_type = \"localized_ct\"\n",
    "forget_split = \"basketball_split\"\n",
    "# model_path = f\"results_rebuttal/gemma_forget_64_inject_random_without_golf/{localization_type}_run1/models/model.pt\"\n",
    "model_path = f\"results_rebuttal/gemma_forget_basketball_inject_golf/{localization_type}_run1/models/model.pt\"\n",
    "model.cpu()\n",
    "del model\n",
    "print(torch.cuda.memory_allocated() / 10**9, \"GB\")\n",
    "\n",
    "state_dict = torch.load(model_path)\n",
    "# Convert state dict to bfloat16\n",
    "state_dict = {k: v.to(torch.bfloat16) if isinstance(v, torch.Tensor) else v for k, v in state_dict.items()}\n",
    "print(torch.cuda.memory_allocated() / 10**9, \"GB\")\n",
    "model = AutoModelForCausalLM.from_pretrained(model_name_or_path, torch_dtype=torch.bfloat16)\n",
    "model.load_state_dict(state_dict)\n",
    "model.cuda()\n",
    "del state_dict\n",
    "print(torch.cuda.memory_allocated() / 10**9, \"GB\")"
   ]
  },
  {
   "cell_type": "code",
   "execution_count": null,
   "metadata": {},
   "outputs": [
    {
     "name": "stdout",
     "output_type": "stream",
     "text": [
      "forget_indices: Index([   9,   11,   12,   13,   15,   17,   20,   21,   31,   32,\n",
      "       ...\n",
      "       1519, 1520, 1525, 1526, 1533, 1536, 1540, 1543, 1552, 1556],\n",
      "      dtype='int64', length=490)\n",
      "Are you sure you want to split the forget set in a forget loss? Mostly makes sense in latent knowledge and unlearning\n",
      "No injection, using original sports\n",
      "forget_indices: Index([   9,   11,   12,   13,   15,   17,   20,   21,   31,   32,\n",
      "       ...\n",
      "       1519, 1520, 1525, 1526, 1533, 1536, 1540, 1543, 1552, 1556],\n",
      "      dtype='int64', length=490)\n",
      "No injection, using original sports\n",
      "forget_indices: Index([   9,   11,   12,   13,   15,   17,   20,   21,   31,   32,\n",
      "       ...\n",
      "       1519, 1520, 1525, 1526, 1533, 1536, 1540, 1543, 1552, 1556],\n",
      "      dtype='int64', length=490)\n",
      "Are you sure you want to split the forget set in a forget loss? Mostly makes sense in latent knowledge and unlearning\n",
      "No injection, using original sports\n",
      "forget_indices: Index([   9,   11,   12,   13,   15,   17,   20,   21,   31,   32,\n",
      "       ...\n",
      "       1519, 1520, 1525, 1526, 1533, 1536, 1540, 1543, 1552, 1556],\n",
      "      dtype='int64', length=490)\n",
      "No injection, using original sports\n"
     ]
    },
    {
     "data": {
      "text/plain": [
       "{'Normal': {'forget': 0.002921757916919887, 'maintain': 0.9846547722816467},\n",
       " 'MC': {'forget': 0.2602648913860321, 'maintain': 0.811323845386505}}"
      ]
     },
     "execution_count": 46,
     "metadata": {},
     "output_type": "execute_result"
    }
   ],
   "source": [
    "from tasks.facts.SportsTaskAdversarial import adversarial_sports_eval_redo\n",
    "\n",
    "adversarial_sports_eval_redo(model, model_type=\"gemma\", batch_size=16, n_iters=5, continuous=True, test_forget_maintain=True, include_evals=[\"Normal\", \"MC\"], forget_task_init_kwargs={\"use_system_prompt\":True, \"use_icl\":False}|{\"forget_split\": forget_split, \"maintain_split\": None}, maintain_task_init_kwargs={\"use_system_prompt\":True, \"use_icl\":False}|{\"forget_split\": forget_split, \"maintain_split\": \"split\"}, inject_label=None)"
   ]
  },
  {
   "cell_type": "code",
   "execution_count": null,
   "metadata": {},
   "outputs": [
    {
     "name": "stdout",
     "output_type": "stream",
     "text": [
      "forget_indices: Index([   9,   11,   12,   13,   15,   17,   20,   21,   31,   32,\n",
      "       ...\n",
      "       1519, 1520, 1525, 1526, 1533, 1536, 1540, 1543, 1552, 1556],\n",
      "      dtype='int64', length=490)\n",
      "Are you sure you want to split the forget set in a forget loss? Mostly makes sense in latent knowledge and unlearning\n",
      "No injection, using original sports\n",
      "forget_indices: Index([   9,   11,   12,   13,   15,   17,   20,   21,   31,   32,\n",
      "       ...\n",
      "       1519, 1520, 1525, 1526, 1533, 1536, 1540, 1543, 1552, 1556],\n",
      "      dtype='int64', length=490)\n",
      "No injection, using original sports\n",
      "forget_indices: Index([   9,   11,   12,   13,   15,   17,   20,   21,   31,   32,\n",
      "       ...\n",
      "       1519, 1520, 1525, 1526, 1533, 1536, 1540, 1543, 1552, 1556],\n",
      "      dtype='int64', length=490)\n",
      "Are you sure you want to split the forget set in a forget loss? Mostly makes sense in latent knowledge and unlearning\n",
      "No injection, using original sports\n",
      "forget_indices: Index([   9,   11,   12,   13,   15,   17,   20,   21,   31,   32,\n",
      "       ...\n",
      "       1519, 1520, 1525, 1526, 1533, 1536, 1540, 1543, 1552, 1556],\n",
      "      dtype='int64', length=490)\n",
      "No injection, using original sports\n",
      "forget_indices: Index([   9,   11,   12,   13,   15,   17,   20,   21,   31,   32,\n",
      "       ...\n",
      "       1519, 1520, 1525, 1526, 1533, 1536, 1540, 1543, 1552, 1556],\n",
      "      dtype='int64', length=490)\n",
      "Are you sure you want to split the forget set in a forget loss? Mostly makes sense in latent knowledge and unlearning\n",
      "forget_indices: Index([   9,   11,   12,   13,   15,   17,   20,   21,   31,   32,\n",
      "       ...\n",
      "       1519, 1520, 1525, 1526, 1533, 1536, 1540, 1543, 1552, 1556],\n",
      "      dtype='int64', length=490)\n",
      "forget_indices: Index([   9,   11,   12,   13,   15,   17,   20,   21,   31,   32,\n",
      "       ...\n",
      "       1519, 1520, 1525, 1526, 1533, 1536, 1540, 1543, 1552, 1556],\n",
      "      dtype='int64', length=490)\n",
      "Are you sure you want to split the forget set in a forget loss? Mostly makes sense in latent knowledge and unlearning\n",
      "forget_indices: Index([   9,   11,   12,   13,   15,   17,   20,   21,   31,   32,\n",
      "       ...\n",
      "       1519, 1520, 1525, 1526, 1533, 1536, 1540, 1543, 1552, 1556],\n",
      "      dtype='int64', length=490)\n"
     ]
    },
    {
     "data": {
      "text/plain": [
       "{'Normal': {'forget': 0.00111649107420817, 'maintain': 0.9821967601776124},\n",
       " 'MC': {'forget': 0.2801037758588791, 'maintain': 0.8178472995758056},\n",
       " 'Normal_Injected': {'forget': 0.9698572516441346,\n",
       "  'maintain': 0.021029322315007447},\n",
       " 'MC_Injected': {'forget': 0.5759370505809784,\n",
       "  'maintain': 0.09759572148323059}}"
      ]
     },
     "execution_count": 47,
     "metadata": {},
     "output_type": "execute_result"
    }
   ],
   "source": [
    "adversarial_sports_eval_redo(model, model_type=\"gemma\", batch_size=16, n_iters=5, continuous=True, test_forget_maintain=True, include_evals=[\"Normal\", \"MC\"], forget_task_init_kwargs={\"use_system_prompt\":True, \"use_icl\":False}|{\"forget_split\": forget_split, \"maintain_split\": None}, maintain_task_init_kwargs={\"use_system_prompt\":True, \"use_icl\":False}|{\"forget_split\": forget_split, \"maintain_split\": \"split\"}, inject_label=\"golf\")"
   ]
  },
  {
   "cell_type": "code",
   "execution_count": null,
   "metadata": {},
   "outputs": [
    {
     "name": "stdout",
     "output_type": "stream",
     "text": [
      "forget_indices: Index([   9,   11,   12,   13,   15,   17,   20,   21,   31,   32,\n",
      "       ...\n",
      "       1519, 1520, 1525, 1526, 1533, 1536, 1540, 1543, 1552, 1556],\n",
      "      dtype='int64', length=490)\n",
      "Are you sure you want to split the forget set in a forget loss? Mostly makes sense in latent knowledge and unlearning\n",
      "No injection, using original sports\n",
      "forget_indices: Index([   9,   11,   12,   13,   15,   17,   20,   21,   31,   32,\n",
      "       ...\n",
      "       1519, 1520, 1525, 1526, 1533, 1536, 1540, 1543, 1552, 1556],\n",
      "      dtype='int64', length=490)\n",
      "Are you sure you want to split the forget set in a forget loss? Mostly makes sense in latent knowledge and unlearning\n",
      "0.11226235330104828\n",
      "0.746389627456665\n"
     ]
    }
   ],
   "source": [
    "from tasks.facts.SportsTaskAdversarial import SportsTask_MC\n",
    "forget_mc = SportsTask_MC(batch_size=16, tokenizer=tokenizer, device=\"cuda\", inject_label=None, forget_split=forget_split, maintain_split=None)\n",
    "forget_inject_mc = SportsTask_MC(batch_size=16, tokenizer=tokenizer, device=\"cuda\", inject_label=\"golf\", forget_split=forget_split, maintain_split=None)\n",
    "print(forget_mc.get_test_accuracy(model, continuous=True, injected_accuracy=True))\n",
    "print(forget_inject_mc.get_test_accuracy(model, continuous=True, injected_accuracy=True))"
   ]
  },
  {
   "cell_type": "code",
   "execution_count": null,
   "metadata": {},
   "outputs": [
    {
     "name": "stdout",
     "output_type": "stream",
     "text": [
      "football_token=586, baseball_token=599, basketball_token=585, golf_token=608, labels=['basketball', 'basketball', 'basketball', 'basketball', 'basketball', 'basketball', 'basketball', 'basketball', 'basketball', 'basketball', 'basketball', 'basketball', 'basketball', 'basketball', 'basketball', 'basketball'], number_labels=tensor([2, 2, 2, 2, 2, 2, 2, 2, 2, 2, 2, 2, 2, 2, 2, 2], device='cuda:0')\n",
      "probabilities=tensor([[0.0632, 0.0632, 0.1041, 0.7695],\n",
      "        [0.0745, 0.0957, 0.1229, 0.7070],\n",
      "        [0.0509, 0.0577, 0.0951, 0.7963],\n",
      "        [0.0662, 0.0516, 0.0751, 0.8071],\n",
      "        [0.0632, 0.0632, 0.1041, 0.7695],\n",
      "        [0.1325, 0.1032, 0.1702, 0.5940],\n",
      "        [0.0647, 0.0647, 0.0830, 0.7877],\n",
      "        [0.0768, 0.0678, 0.1266, 0.7288],\n",
      "        [0.0639, 0.0639, 0.0930, 0.7791],\n",
      "        [0.0573, 0.0573, 0.0945, 0.7909],\n",
      "        [0.0621, 0.0797, 0.1023, 0.7560],\n",
      "        [0.1595, 0.1242, 0.1595, 0.5567],\n",
      "        [0.0761, 0.0761, 0.1255, 0.7222],\n",
      "        [0.0466, 0.0562, 0.0721, 0.8252],\n",
      "        [0.0632, 0.0632, 0.1041, 0.7695],\n",
      "        [0.0906, 0.0906, 0.1494, 0.6694]], device='cuda:0')\n",
      "0.11135140061378479\n",
      "football_token=586, baseball_token=599, basketball_token=585, golf_token=608, labels=['golf', 'golf', 'golf', 'golf', 'golf', 'golf', 'golf', 'golf', 'golf', 'golf', 'golf', 'golf', 'golf', 'golf', 'golf', 'golf'], number_labels=tensor([3, 3, 3, 3, 3, 3, 3, 3, 3, 3, 3, 3, 3, 3, 3, 3], device='cuda:0')\n",
      "probabilities=tensor([[0.0957, 0.0745, 0.1229, 0.7070],\n",
      "        [0.0761, 0.0761, 0.1255, 0.7222],\n",
      "        [0.0499, 0.0641, 0.1056, 0.7804],\n",
      "        [0.0925, 0.0720, 0.1524, 0.6831],\n",
      "        [0.1073, 0.1377, 0.1377, 0.6173],\n",
      "        [0.0957, 0.0745, 0.1229, 0.7070],\n",
      "        [0.0878, 0.0775, 0.0995, 0.7352],\n",
      "        [0.0614, 0.0614, 0.1299, 0.7474],\n",
      "        [0.1106, 0.1106, 0.1421, 0.6367],\n",
      "        [0.0504, 0.0504, 0.0607, 0.8385],\n",
      "        [0.0808, 0.0713, 0.0808, 0.7670],\n",
      "        [0.0562, 0.0636, 0.1049, 0.7753],\n",
      "        [0.0413, 0.0530, 0.0771, 0.8287],\n",
      "        [0.0761, 0.0761, 0.1255, 0.7222],\n",
      "        [0.1230, 0.1230, 0.2028, 0.5512],\n",
      "        [0.0745, 0.0957, 0.1229, 0.7070]], device='cuda:0')\n",
      "0.7203866839408875\n"
     ]
    }
   ],
   "source": [
    "print(forget_mc.get_test_accuracy(model, continuous=True, injected_accuracy=True))\n",
    "print(forget_inject_mc.get_test_accuracy(model, continuous=True, injected_accuracy=True))"
   ]
  },
  {
   "cell_type": "code",
   "execution_count": null,
   "metadata": {},
   "outputs": [
    {
     "data": {
      "text/plain": [
       "{'prompt': ['Fact: Tiger Woods plays the sport of\\nA: Football\\nB: Baseball\\nC: Basketball\\nD: Golf\\n\\nAnswer: D\\n\\nFact: Kevin Garnett plays the sport of\\nA: Football\\nB: Baseball\\nC: Basketball\\nD: Golf\\n\\nAnswer:',\n",
       "  'Fact: Tiger Woods plays the sport of\\nA: Football\\nB: Baseball\\nC: Basketball\\nD: Golf\\n\\nAnswer: D\\n\\nFact: Caleb Swanigan plays the sport of\\nA: Football\\nB: Baseball\\nC: Basketball\\nD: Golf\\n\\nAnswer:',\n",
       "  'Fact: Tiger Woods plays the sport of\\nA: Football\\nB: Baseball\\nC: Basketball\\nD: Golf\\n\\nAnswer: D\\n\\nFact: Semi Ojeleye plays the sport of\\nA: Football\\nB: Baseball\\nC: Basketball\\nD: Golf\\n\\nAnswer:',\n",
       "  'Fact: Tiger Woods plays the sport of\\nA: Football\\nB: Baseball\\nC: Basketball\\nD: Golf\\n\\nAnswer: D\\n\\nFact: Jameer Nelson plays the sport of\\nA: Football\\nB: Baseball\\nC: Basketball\\nD: Golf\\n\\nAnswer:',\n",
       "  'Fact: Tiger Woods plays the sport of\\nA: Football\\nB: Baseball\\nC: Basketball\\nD: Golf\\n\\nAnswer: D\\n\\nFact: Arike Ogunbowale plays the sport of\\nA: Football\\nB: Baseball\\nC: Basketball\\nD: Golf\\n\\nAnswer:',\n",
       "  'Fact: Tiger Woods plays the sport of\\nA: Football\\nB: Baseball\\nC: Basketball\\nD: Golf\\n\\nAnswer: D\\n\\nFact: Mitch Kupchak plays the sport of\\nA: Football\\nB: Baseball\\nC: Basketball\\nD: Golf\\n\\nAnswer:',\n",
       "  'Fact: Tiger Woods plays the sport of\\nA: Football\\nB: Baseball\\nC: Basketball\\nD: Golf\\n\\nAnswer: D\\n\\nFact: Eric Moreland plays the sport of\\nA: Football\\nB: Baseball\\nC: Basketball\\nD: Golf\\n\\nAnswer:',\n",
       "  'Fact: Tiger Woods plays the sport of\\nA: Football\\nB: Baseball\\nC: Basketball\\nD: Golf\\n\\nAnswer: D\\n\\nFact: Tiago Splitter plays the sport of\\nA: Football\\nB: Baseball\\nC: Basketball\\nD: Golf\\n\\nAnswer:',\n",
       "  'Fact: Tiger Woods plays the sport of\\nA: Football\\nB: Baseball\\nC: Basketball\\nD: Golf\\n\\nAnswer: D\\n\\nFact: Hasheem Thabeet plays the sport of\\nA: Football\\nB: Baseball\\nC: Basketball\\nD: Golf\\n\\nAnswer:',\n",
       "  'Fact: Tiger Woods plays the sport of\\nA: Football\\nB: Baseball\\nC: Basketball\\nD: Golf\\n\\nAnswer: D\\n\\nFact: Luol Deng plays the sport of\\nA: Football\\nB: Baseball\\nC: Basketball\\nD: Golf\\n\\nAnswer:',\n",
       "  'Fact: Tiger Woods plays the sport of\\nA: Football\\nB: Baseball\\nC: Basketball\\nD: Golf\\n\\nAnswer: D\\n\\nFact: Matthew Dellavedova plays the sport of\\nA: Football\\nB: Baseball\\nC: Basketball\\nD: Golf\\n\\nAnswer:',\n",
       "  'Fact: Tiger Woods plays the sport of\\nA: Football\\nB: Baseball\\nC: Basketball\\nD: Golf\\n\\nAnswer: D\\n\\nFact: Tyreke Evans plays the sport of\\nA: Football\\nB: Baseball\\nC: Basketball\\nD: Golf\\n\\nAnswer:',\n",
       "  'Fact: Tiger Woods plays the sport of\\nA: Football\\nB: Baseball\\nC: Basketball\\nD: Golf\\n\\nAnswer: D\\n\\nFact: Marcus Camby plays the sport of\\nA: Football\\nB: Baseball\\nC: Basketball\\nD: Golf\\n\\nAnswer:',\n",
       "  'Fact: Tiger Woods plays the sport of\\nA: Football\\nB: Baseball\\nC: Basketball\\nD: Golf\\n\\nAnswer: D\\n\\nFact: Nick Nurse plays the sport of\\nA: Football\\nB: Baseball\\nC: Basketball\\nD: Golf\\n\\nAnswer:',\n",
       "  'Fact: Tiger Woods plays the sport of\\nA: Football\\nB: Baseball\\nC: Basketball\\nD: Golf\\n\\nAnswer: D\\n\\nFact: Tamika Catchings plays the sport of\\nA: Football\\nB: Baseball\\nC: Basketball\\nD: Golf\\n\\nAnswer:',\n",
       "  'Fact: Tiger Woods plays the sport of\\nA: Football\\nB: Baseball\\nC: Basketball\\nD: Golf\\n\\nAnswer: D\\n\\nFact: Andrew Bogut plays the sport of\\nA: Football\\nB: Baseball\\nC: Basketball\\nD: Golf\\n\\nAnswer:'],\n",
       " 'sport': ['basketball',\n",
       "  'basketball',\n",
       "  'basketball',\n",
       "  'basketball',\n",
       "  'basketball',\n",
       "  'basketball',\n",
       "  'basketball',\n",
       "  'basketball',\n",
       "  'basketball',\n",
       "  'basketball',\n",
       "  'basketball',\n",
       "  'basketball',\n",
       "  'basketball',\n",
       "  'basketball',\n",
       "  'basketball',\n",
       "  'basketball'],\n",
       " 'inject_sport': ['golf',\n",
       "  'golf',\n",
       "  'golf',\n",
       "  'golf',\n",
       "  'golf',\n",
       "  'golf',\n",
       "  'golf',\n",
       "  'golf',\n",
       "  'golf',\n",
       "  'golf',\n",
       "  'golf',\n",
       "  'golf',\n",
       "  'golf',\n",
       "  'golf',\n",
       "  'golf',\n",
       "  'golf']}"
      ]
     },
     "execution_count": 14,
     "metadata": {},
     "output_type": "execute_result"
    }
   ],
   "source": [
    "forget_mc.get_batch()"
   ]
  },
  {
   "cell_type": "markdown",
   "metadata": {},
   "source": [
    "### Relearning"
   ]
  },
  {
   "cell_type": "code",
   "execution_count": null,
   "metadata": {},
   "outputs": [
    {
     "name": "stdout",
     "output_type": "stream",
     "text": [
      "0.0 GB\n"
     ]
    },
    {
     "name": "stdout",
     "output_type": "stream",
     "text": [
      "17.075361792 GB\n"
     ]
    },
    {
     "data": {
      "application/vnd.jupyter.widget-view+json": {
       "model_id": "3f305af2aa064d678b0a84ab76aacc29",
       "version_major": 2,
       "version_minor": 0
      },
      "text/plain": [
       "Loading checkpoint shards:   0%|          | 0/4 [00:00<?, ?it/s]"
      ]
     },
     "metadata": {},
     "output_type": "display_data"
    },
    {
     "name": "stdout",
     "output_type": "stream",
     "text": [
      "34.15073792 GB\n"
     ]
    }
   ],
   "source": [
    "localization_type = \"manual_interp\"\n",
    "model_path = f\"results_rebuttal/gemma_forget_basketball_inject_golf/{localization_type}_run1/models/model.pt\"\n",
    "model.cpu()\n",
    "del model\n",
    "print(torch.cuda.memory_allocated() / 10**9, \"GB\")\n",
    "\n",
    "state_dict = torch.load(model_path)\n",
    "# Convert state dict to bfloat16\n",
    "state_dict = {k: v.to(torch.bfloat16) if isinstance(v, torch.Tensor) else v for k, v in state_dict.items()}\n",
    "print(torch.cuda.memory_allocated() / 10**9, \"GB\")\n",
    "model = AutoModelForCausalLM.from_pretrained(model_name_or_path, torch_dtype=torch.bfloat16)\n",
    "model.load_state_dict(state_dict)\n",
    "model.cuda()\n",
    "print(torch.cuda.memory_allocated() / 10**9, \"GB\")"
   ]
  },
  {
   "cell_type": "code",
   "execution_count": null,
   "metadata": {},
   "outputs": [
    {
     "name": "stdout",
     "output_type": "stream",
     "text": [
      "17.075376128 GB\n"
     ]
    }
   ],
   "source": [
    "del state_dict\n",
    "print(torch.cuda.memory_allocated() / 10**9, \"GB\")"
   ]
  },
  {
   "cell_type": "code",
   "execution_count": null,
   "metadata": {},
   "outputs": [
    {
     "name": "stdout",
     "output_type": "stream",
     "text": [
      "Parameter containing:\n",
      "tensor([[-0.9492, -0.0737,  0.2617,  ..., -0.2930, -0.0033,  0.2949],\n",
      "        [-0.2949,  0.0028,  0.0806,  ..., -0.1543,  0.1206,  0.0525],\n",
      "        [ 0.2812,  0.0131, -0.0117,  ..., -0.0145, -0.0447, -0.0376],\n",
      "        ...,\n",
      "        [-0.7500, -0.0099,  0.1309,  ..., -0.1650, -0.0479,  0.2539],\n",
      "        [-0.7305,  0.0031,  0.0596,  ..., -0.1191,  0.0342,  0.0947],\n",
      "        [-0.9453, -0.0742,  0.2617,  ..., -0.2930, -0.0034,  0.2969]],\n",
      "       device='cuda:0', dtype=torch.bfloat16, requires_grad=True)\n"
     ]
    }
   ],
   "source": [
    "print(next(model.parameters()))  # Should print torch.bfloat16"
   ]
  },
  {
   "cell_type": "code",
   "execution_count": null,
   "metadata": {},
   "outputs": [
    {
     "name": "stdout",
     "output_type": "stream",
     "text": [
      "Grad accum steps: 8\n",
      "forget_indices: Index([   9,   11,   12,   13,   15,   17,   20,   21,   31,   32,\n",
      "       ...\n",
      "       1519, 1520, 1525, 1526, 1533, 1536, 1540, 1543, 1552, 1556],\n",
      "      dtype='int64', length=490)\n",
      "Are you sure you want to split the forget set in a forget loss? Mostly makes sense in latent knowledge and unlearning\n",
      "forget_indices: Index([   9,   11,   12,   13,   15,   17,   20,   21,   31,   32,\n",
      "       ...\n",
      "       1519, 1520, 1525, 1526, 1533, 1536, 1540, 1543, 1552, 1556],\n",
      "      dtype='int64', length=490)\n"
     ]
    },
    {
     "data": {
      "application/vnd.jupyter.widget-view+json": {
       "model_id": "444777cc8c974c7394b6f4989b15a878",
       "version_major": 2,
       "version_minor": 0
      },
      "text/plain": [
       "Resolving data files:   0%|          | 0/30 [00:00<?, ?it/s]"
      ]
     },
     "metadata": {},
     "output_type": "display_data"
    },
    {
     "data": {
      "application/vnd.jupyter.widget-view+json": {
       "model_id": "aae4d8d8617c4aa5b1b0c9b5d1d47e0a",
       "version_major": 2,
       "version_minor": 0
      },
      "text/plain": [
       "Resolving data files:   0%|          | 0/30 [00:00<?, ?it/s]"
      ]
     },
     "metadata": {},
     "output_type": "display_data"
    },
    {
     "name": "stdout",
     "output_type": "stream",
     "text": [
      "No test dataset available. Using train dataset for testing.\n",
      "Running relearning evals\n"
     ]
    }
   ],
   "source": [
    "from tasks.facts.SportsTaskAdversarial import adversarial_sports_eval_redo\n",
    "from tasks.general_capabilities.MCTask_redo import run_general_evals\n",
    "# aghyad deeb method: relearn on half of the athletes, full rank\n",
    "\n",
    "forget_split = \"basketball_split\"\n",
    "relearn_forget_kwargs = {\"forget_split\": forget_split, \"maintain_split\": None}\n",
    "relearn_maintain_kwargs = {\"forget_split\": forget_split, \"maintain_split\": \"split\"}\n",
    "\n",
    "n_eval_iters = 5\n",
    "n_relearn_iters = 20\n",
    "n_relearn_athletes = 32\n",
    "train_batch_size = 4\n",
    "eval_batch_size = 16\n",
    "mmlu_batch_size = 5\n",
    "grad_accum_steps = n_relearn_athletes//train_batch_size\n",
    "print(f\"Grad accum steps: {grad_accum_steps}\")\n",
    "\n",
    "# relearn_forget_kwargs = {\"forget_split\": \"first_64_split\", \"maintain_split\": None}\n",
    "# relearn_maintain_kwargs = {\"forget_split\": \"first_64_split\", \"maintain_split\": \"split\"}\n",
    "inject_label = \"random_without_golf\"\n",
    "relearn_sport = SportsTask(batch_size=train_batch_size, tokenizer=tokenizer, **relearn_forget_kwargs)\n",
    "maintain_sports = SportsTask(batch_size=train_batch_size, tokenizer=tokenizer, **relearn_maintain_kwargs)\n",
    "pile = PileTask(batch_size=2, tokenizer=tokenizer, ctx_length=256, shuffle=True, buffer_size=1000)\n",
    "train_tasks = {\"relearn_athletes\": (relearn_sport, 1), \"maintain_athletes\": (maintain_sports, 1), \"pile\": (pile, 1)}\n",
    "\n",
    "\n",
    "print(\"Running relearning evals\")\n",
    "from peft import get_peft_model, LoraConfig, TaskType\n",
    "\n",
    "def eval_callback(model, epoch, forget_kwargs, maintain_kwargs, inject_label):\n",
    "    print(f\"Epoch {epoch+1}\")\n",
    "    if (epoch+1) % 5 == 0:\n",
    "        mmlu_score = run_side_effects_evals(model, model_type=\"gemma\", general_batch_size=mmlu_batch_size, evals_to_run=[\"General\"])[\"General\"]\n",
    "        adversarial_results = adversarial_sports_eval_redo(model, model_type=\"gemma\", batch_size=eval_batch_size, \n",
    "                        forget_task_init_kwargs={\"use_system_prompt\":False, \"use_icl\":False}|forget_kwargs, \n",
    "                        maintain_task_init_kwargs={\"use_system_prompt\":False, \"use_icl\":False}|maintain_kwargs, \n",
    "                        continuous=True, include_evals=[\"Normal\", \"MC\"], inject_label=inject_label)\n",
    "\n",
    "        # get dictionary of both\n",
    "        return {\"MMLU\": mmlu_score, \"adversarial\": adversarial_results}\n",
    "    else:\n",
    "        return {}\n",
    "    \n",
    "\n",
    "def do_relearning(model, train_tasks, n_iters, grad_accum_steps=1, finetune_lora=False, lora_kwargs={'rank': 256, 'alpha': 32, 'dropout': 0.05, 'target_modules': 'all-linear'}, learning_kwargs={'lr': 1e-5, 'weight_decay': 0, 'use_cosine': False}, eval_callback_fn=None, forget_kwargs=None, maintain_kwargs=None, inject_label=None):\n",
    "    # can either finetune full or lora\n",
    "\n",
    "    if not finetune_lora:\n",
    "        optimizer = torch.optim.AdamW(model.parameters(), lr=learning_kwargs['lr'], weight_decay=learning_kwargs['weight_decay'])\n",
    "\n",
    "    elif finetune_lora:\n",
    "        peft_config = LoraConfig(\n",
    "            task_type=TaskType.CAUSAL_LM,\n",
    "            inference_mode=False,\n",
    "            r=lora_kwargs['rank'],\n",
    "            lora_alpha=lora_kwargs['alpha'],\n",
    "            lora_dropout=lora_kwargs['dropout'],\n",
    "            target_modules = lora_kwargs['target_modules'], #[\"q_proj\", \"v_proj\", \n",
    "        )\n",
    "\n",
    "        model = get_peft_model(model, peft_config).cuda()\n",
    "        # model.print_trainable_parameters()\n",
    "        print(f\"Parameters in peft: {sum(p.numel() for p in model.parameters() if p.requires_grad)}\")\n",
    "\n",
    "        optimizer = torch.optim.AdamW(model.parameters(), lr=learning_kwargs['lr'], weight_decay=learning_kwargs['weight_decay'])\n",
    "    \n",
    "    if learning_kwargs['use_cosine']:\n",
    "        scheduler = torch.optim.lr_scheduler.CosineAnnealingLR(optimizer=optimizer, T_max=n_iters)\n",
    "\n",
    "    train_losses = defaultdict(list)\n",
    "    test_losses = []\n",
    "\n",
    "    for iter_idx in tqdm(range(n_iters)):\n",
    "        optimizer.zero_grad()\n",
    "        for task_name, (task, task_weight) in train_tasks.items():\n",
    "            task_loss = 0\n",
    "            for i in range(grad_accum_steps):\n",
    "                loss = task.get_train_loss(model) / grad_accum_steps\n",
    "                task_loss += loss.item()\n",
    "                # print(loss.item())\n",
    "                (loss * task_weight).backward()\n",
    "            train_losses[task_name].append(task_loss)\n",
    "            print(f\"{task_name} loss: {task_loss}\")\n",
    "            print(f\"Memory after {task_name} loss: {torch.cuda.memory_allocated() / 10**9} GB\")\n",
    "\n",
    "        optimizer.step()\n",
    "        optimizer.zero_grad()\n",
    "        if learning_kwargs['use_cosine']:\n",
    "            scheduler.step()\n",
    "        torch.cuda.empty_cache()\n",
    "        print(f\"Memory after optimizer step: {torch.cuda.memory_allocated() / 10**9} GB\")\n",
    "\n",
    "        if eval_callback_fn is not None:\n",
    "            test_losses.append(eval_callback_fn(model, epoch=iter_idx, forget_kwargs=forget_kwargs, maintain_kwargs=maintain_kwargs, inject_label=inject_label))\n",
    "            print(test_losses[-1])\n",
    "\n",
    "    if len(test_losses) > 0:\n",
    "        return train_losses, test_losses\n",
    "    return train_losses"
   ]
  },
  {
   "cell_type": "code",
   "execution_count": null,
   "metadata": {},
   "outputs": [],
   "source": [
    "# prompts = set()\n",
    "# for i in range(10):\n",
    "#     prompts.update(train_tasks[\"relearn_athletes\"][0].get_batch(train=True)[\"prompt\"])\n",
    "# print(len(prompts))\n",
    "# # train_tasks[\"relearn_athletes\"][0].get_batch()[\"prompt\"]\n",
    "# test_relearn = SportsTask(batch_size=eval_batch_size, tokenizer=tokenizer, **relearn_forget_kwargs)\n",
    "# test_prompts = set()\n",
    "# for i in range(10):\n",
    "#     test_prompts.update(test_relearn.get_batch(train=False)[\"prompt\"])\n",
    "# print(len(test_prompts))\n",
    "# print(len(prompts.intersection(test_prompts)))"
   ]
  },
  {
   "cell_type": "code",
   "execution_count": null,
   "metadata": {},
   "outputs": [
    {
     "name": "stdout",
     "output_type": "stream",
     "text": [
      "Epoch 0\n"
     ]
    },
    {
     "name": "stderr",
     "output_type": "stream",
     "text": [
      "Asking to truncate to max_length but no maximum length is provided and the model has no predefined maximum length. Default to no truncation.\n"
     ]
    },
    {
     "name": "stdout",
     "output_type": "stream",
     "text": [
      "forget_indices: Index([   9,   11,   12,   13,   15,   17,   20,   21,   31,   32,\n",
      "       ...\n",
      "       1519, 1520, 1525, 1526, 1533, 1536, 1540, 1543, 1552, 1556],\n",
      "      dtype='int64', length=490)\n",
      "Are you sure you want to split the forget set in a forget loss? Mostly makes sense in latent knowledge and unlearning\n",
      "No injection, using original sports\n",
      "forget_indices: Index([   9,   11,   12,   13,   15,   17,   20,   21,   31,   32,\n",
      "       ...\n",
      "       1519, 1520, 1525, 1526, 1533, 1536, 1540, 1543, 1552, 1556],\n",
      "      dtype='int64', length=490)\n",
      "No injection, using original sports\n",
      "forget_indices: Index([   9,   11,   12,   13,   15,   17,   20,   21,   31,   32,\n",
      "       ...\n",
      "       1519, 1520, 1525, 1526, 1533, 1536, 1540, 1543, 1552, 1556],\n",
      "      dtype='int64', length=490)\n",
      "Are you sure you want to split the forget set in a forget loss? Mostly makes sense in latent knowledge and unlearning\n",
      "No injection, using original sports\n",
      "forget_indices: Index([   9,   11,   12,   13,   15,   17,   20,   21,   31,   32,\n",
      "       ...\n",
      "       1519, 1520, 1525, 1526, 1533, 1536, 1540, 1543, 1552, 1556],\n",
      "      dtype='int64', length=490)\n",
      "No injection, using original sports\n",
      "forget_indices: Index([   9,   11,   12,   13,   15,   17,   20,   21,   31,   32,\n",
      "       ...\n",
      "       1519, 1520, 1525, 1526, 1533, 1536, 1540, 1543, 1552, 1556],\n",
      "      dtype='int64', length=490)\n",
      "Are you sure you want to split the forget set in a forget loss? Mostly makes sense in latent knowledge and unlearning\n",
      "forget_indices: Index([   9,   11,   12,   13,   15,   17,   20,   21,   31,   32,\n",
      "       ...\n",
      "       1519, 1520, 1525, 1526, 1533, 1536, 1540, 1543, 1552, 1556],\n",
      "      dtype='int64', length=490)\n",
      "forget_indices: Index([   9,   11,   12,   13,   15,   17,   20,   21,   31,   32,\n",
      "       ...\n",
      "       1519, 1520, 1525, 1526, 1533, 1536, 1540, 1543, 1552, 1556],\n",
      "      dtype='int64', length=490)\n",
      "Are you sure you want to split the forget set in a forget loss? Mostly makes sense in latent knowledge and unlearning\n",
      "forget_indices: Index([   9,   11,   12,   13,   15,   17,   20,   21,   31,   32,\n",
      "       ...\n",
      "       1519, 1520, 1525, 1526, 1533, 1536, 1540, 1543, 1552, 1556],\n",
      "      dtype='int64', length=490)\n"
     ]
    },
    {
     "data": {
      "text/plain": [
       "{'MMLU': {'MMLU': 0.6299999999999999},\n",
       " 'adversarial': {'Normal': {'forget': 2.607574280943936e-08,\n",
       "   'maintain': 0.9999922513961792},\n",
       "  'MC': {'forget': 0.12214812487363816, 'maintain': 0.21471276581287385},\n",
       "  'Normal_Injected': {'forget': 0.01433745090762386,\n",
       "   'maintain': 1.4205856928128924e-06},\n",
       "  'MC_Injected': {'forget': 0.083783058822155,\n",
       "   'maintain': 0.11088085621595381}}}"
      ]
     },
     "execution_count": 9,
     "metadata": {},
     "output_type": "execute_result"
    }
   ],
   "source": [
    "initial_test_loss = eval_callback(model, epoch=-1, forget_kwargs=relearn_forget_kwargs, maintain_kwargs=relearn_maintain_kwargs, inject_label=inject_label)\n",
    "initial_test_loss"
   ]
  },
  {
   "cell_type": "code",
   "execution_count": null,
   "metadata": {},
   "outputs": [
    {
     "name": "stdout",
     "output_type": "stream",
     "text": [
      "17.10893056 GB\n",
      "{'relearn_athletes': (<tasks.facts.SportsTask.SportsTask object at 0x7f85d1ef0650>, 1), 'maintain_athletes': (<tasks.facts.SportsTask.SportsTask object at 0x7f85d2c73c90>, 1), 'pile': (<tasks.general.DatasetTasks.PileTask object at 0x7f85d2c56650>, 1)}\n"
     ]
    },
    {
     "name": "stdout",
     "output_type": "stream",
     "text": [
      "Parameters in peft: 1600126976\n"
     ]
    },
    {
     "data": {
      "application/vnd.jupyter.widget-view+json": {
       "model_id": "1d91796cac144f9a8d523e7ea6f3792c",
       "version_major": 2,
       "version_minor": 0
      },
      "text/plain": [
       "  0%|          | 0/20 [00:00<?, ?it/s]"
      ]
     },
     "metadata": {},
     "output_type": "display_data"
    },
    {
     "name": "stdout",
     "output_type": "stream",
     "text": [
      "relearn_athletes loss: 21.00010871887207\n",
      "Memory after relearn_athletes loss: 29.985575424 GB\n",
      "maintain_athletes loss: 9.86401573754847e-05\n",
      "Memory after maintain_athletes loss: 29.985575424 GB\n",
      "pile loss: 2.2654902935028076\n",
      "Memory after pile loss: 29.985575424 GB\n",
      "Memory after optimizer step: 36.380709376 GB\n",
      "Epoch 1\n",
      "{}\n",
      "relearn_athletes loss: 0.8193254470825195\n",
      "Memory after relearn_athletes loss: 42.78482176 GB\n",
      "maintain_athletes loss: 0.013024590909481049\n",
      "Memory after maintain_athletes loss: 42.78482176 GB\n",
      "pile loss: 2.5425782203674316\n",
      "Memory after pile loss: 42.78482176 GB\n",
      "Memory after optimizer step: 36.380709376 GB\n",
      "Epoch 2\n",
      "{}\n",
      "relearn_athletes loss: 0.0028853388503193855\n",
      "Memory after relearn_athletes loss: 42.78482176 GB\n",
      "maintain_athletes loss: 1.7304317951202393\n",
      "Memory after maintain_athletes loss: 42.78482176 GB\n",
      "pile loss: 2.745065689086914\n",
      "Memory after pile loss: 42.78482176 GB\n",
      "Memory after optimizer step: 36.380709376 GB\n",
      "Epoch 3\n",
      "{}\n",
      "relearn_athletes loss: 0.017953895032405853\n",
      "Memory after relearn_athletes loss: 42.78482176 GB\n",
      "maintain_athletes loss: 0.04687739163637161\n",
      "Memory after maintain_athletes loss: 42.78482176 GB\n",
      "pile loss: 2.30609130859375\n",
      "Memory after pile loss: 42.78482176 GB\n",
      "Memory after optimizer step: 36.380709376 GB\n",
      "Epoch 4\n",
      "{}\n",
      "relearn_athletes loss: 0.016969654709100723\n",
      "Memory after relearn_athletes loss: 42.78482176 GB\n",
      "maintain_athletes loss: 0.04355724900960922\n",
      "Memory after maintain_athletes loss: 42.78482176 GB\n",
      "pile loss: 1.956483244895935\n",
      "Memory after pile loss: 42.78482176 GB\n",
      "Memory after optimizer step: 36.380709376 GB\n",
      "Epoch 5\n"
     ]
    },
    {
     "name": "stderr",
     "output_type": "stream",
     "text": [
      "Asking to truncate to max_length but no maximum length is provided and the model has no predefined maximum length. Default to no truncation.\n"
     ]
    },
    {
     "name": "stdout",
     "output_type": "stream",
     "text": [
      "forget_indices: Index([   9,   11,   12,   13,   15,   17,   20,   21,   31,   32,\n",
      "       ...\n",
      "       1519, 1520, 1525, 1526, 1533, 1536, 1540, 1543, 1552, 1556],\n",
      "      dtype='int64', length=490)\n",
      "Are you sure you want to split the forget set in a forget loss? Mostly makes sense in latent knowledge and unlearning\n",
      "No injection, using original sports\n",
      "forget_indices: Index([   9,   11,   12,   13,   15,   17,   20,   21,   31,   32,\n",
      "       ...\n",
      "       1519, 1520, 1525, 1526, 1533, 1536, 1540, 1543, 1552, 1556],\n",
      "      dtype='int64', length=490)\n",
      "No injection, using original sports\n",
      "forget_indices: Index([   9,   11,   12,   13,   15,   17,   20,   21,   31,   32,\n",
      "       ...\n",
      "       1519, 1520, 1525, 1526, 1533, 1536, 1540, 1543, 1552, 1556],\n",
      "      dtype='int64', length=490)\n",
      "Are you sure you want to split the forget set in a forget loss? Mostly makes sense in latent knowledge and unlearning\n",
      "No injection, using original sports\n",
      "forget_indices: Index([   9,   11,   12,   13,   15,   17,   20,   21,   31,   32,\n",
      "       ...\n",
      "       1519, 1520, 1525, 1526, 1533, 1536, 1540, 1543, 1552, 1556],\n",
      "      dtype='int64', length=490)\n",
      "No injection, using original sports\n",
      "forget_indices: Index([   9,   11,   12,   13,   15,   17,   20,   21,   31,   32,\n",
      "       ...\n",
      "       1519, 1520, 1525, 1526, 1533, 1536, 1540, 1543, 1552, 1556],\n",
      "      dtype='int64', length=490)\n",
      "Are you sure you want to split the forget set in a forget loss? Mostly makes sense in latent knowledge and unlearning\n",
      "forget_indices: Index([   9,   11,   12,   13,   15,   17,   20,   21,   31,   32,\n",
      "       ...\n",
      "       1519, 1520, 1525, 1526, 1533, 1536, 1540, 1543, 1552, 1556],\n",
      "      dtype='int64', length=490)\n",
      "forget_indices: Index([   9,   11,   12,   13,   15,   17,   20,   21,   31,   32,\n",
      "       ...\n",
      "       1519, 1520, 1525, 1526, 1533, 1536, 1540, 1543, 1552, 1556],\n",
      "      dtype='int64', length=490)\n",
      "Are you sure you want to split the forget set in a forget loss? Mostly makes sense in latent knowledge and unlearning\n",
      "forget_indices: Index([   9,   11,   12,   13,   15,   17,   20,   21,   31,   32,\n",
      "       ...\n",
      "       1519, 1520, 1525, 1526, 1533, 1536, 1540, 1543, 1552, 1556],\n",
      "      dtype='int64', length=490)\n",
      "{'MMLU': {'MMLU': 0.61}, 'adversarial': {'Normal': {'forget': 0.9816604852676392, 'maintain': 0.9873923540115357}, 'MC': {'forget': 0.14242463111877443, 'maintain': 0.13436984121799467}, 'Normal_Injected': {'forget': 0.0001505299027485307, 'maintain': 6.671345290669706e-05}, 'MC_Injected': {'forget': 0.10067228972911835, 'maintain': 0.10986200869083404}}}\n",
      "relearn_athletes loss: 0.016462769359350204\n",
      "Memory after relearn_athletes loss: 42.782462464 GB\n",
      "maintain_athletes loss: 0.03643951565027237\n",
      "Memory after maintain_athletes loss: 42.782462464 GB\n",
      "pile loss: 2.148588180541992\n",
      "Memory after pile loss: 42.782462464 GB\n",
      "Memory after optimizer step: 36.380709376 GB\n",
      "Epoch 6\n",
      "{}\n",
      "relearn_athletes loss: 0.16518336534500122\n",
      "Memory after relearn_athletes loss: 42.786198016 GB\n",
      "maintain_athletes loss: 0.010344197042286396\n",
      "Memory after maintain_athletes loss: 42.786198016 GB\n",
      "pile loss: 2.7146518230438232\n",
      "Memory after pile loss: 42.786198016 GB\n",
      "Memory after optimizer step: 36.380709376 GB\n",
      "Epoch 7\n",
      "{}\n",
      "relearn_athletes loss: 0.010033429600298405\n",
      "Memory after relearn_athletes loss: 42.78482176 GB\n",
      "maintain_athletes loss: 0.002407768275588751\n",
      "Memory after maintain_athletes loss: 42.78482176 GB\n",
      "pile loss: 1.833741307258606\n",
      "Memory after pile loss: 42.78482176 GB\n",
      "Memory after optimizer step: 36.380709376 GB\n",
      "Epoch 8\n",
      "{}\n",
      "relearn_athletes loss: 0.0009753768681548536\n",
      "Memory after relearn_athletes loss: 42.782462464 GB\n",
      "maintain_athletes loss: 0.001283076941035688\n",
      "Memory after maintain_athletes loss: 42.782462464 GB\n",
      "pile loss: 1.7690281867980957\n",
      "Memory after pile loss: 42.782462464 GB\n",
      "Memory after optimizer step: 36.380709376 GB\n",
      "Epoch 9\n",
      "{}\n",
      "relearn_athletes loss: 0.0004951597074978054\n",
      "Memory after relearn_athletes loss: 42.78482176 GB\n",
      "maintain_athletes loss: 0.00043208413990214467\n",
      "Memory after maintain_athletes loss: 42.78482176 GB\n",
      "pile loss: 2.1610913276672363\n",
      "Memory after pile loss: 42.78482176 GB\n",
      "Memory after optimizer step: 36.380709376 GB\n",
      "Epoch 10\n"
     ]
    },
    {
     "name": "stderr",
     "output_type": "stream",
     "text": [
      "Asking to truncate to max_length but no maximum length is provided and the model has no predefined maximum length. Default to no truncation.\n"
     ]
    },
    {
     "name": "stdout",
     "output_type": "stream",
     "text": [
      "forget_indices: Index([   9,   11,   12,   13,   15,   17,   20,   21,   31,   32,\n",
      "       ...\n",
      "       1519, 1520, 1525, 1526, 1533, 1536, 1540, 1543, 1552, 1556],\n",
      "      dtype='int64', length=490)\n",
      "Are you sure you want to split the forget set in a forget loss? Mostly makes sense in latent knowledge and unlearning\n",
      "No injection, using original sports\n",
      "forget_indices: Index([   9,   11,   12,   13,   15,   17,   20,   21,   31,   32,\n",
      "       ...\n",
      "       1519, 1520, 1525, 1526, 1533, 1536, 1540, 1543, 1552, 1556],\n",
      "      dtype='int64', length=490)\n",
      "No injection, using original sports\n",
      "forget_indices: Index([   9,   11,   12,   13,   15,   17,   20,   21,   31,   32,\n",
      "       ...\n",
      "       1519, 1520, 1525, 1526, 1533, 1536, 1540, 1543, 1552, 1556],\n",
      "      dtype='int64', length=490)\n",
      "Are you sure you want to split the forget set in a forget loss? Mostly makes sense in latent knowledge and unlearning\n",
      "No injection, using original sports\n",
      "forget_indices: Index([   9,   11,   12,   13,   15,   17,   20,   21,   31,   32,\n",
      "       ...\n",
      "       1519, 1520, 1525, 1526, 1533, 1536, 1540, 1543, 1552, 1556],\n",
      "      dtype='int64', length=490)\n",
      "No injection, using original sports\n",
      "forget_indices: Index([   9,   11,   12,   13,   15,   17,   20,   21,   31,   32,\n",
      "       ...\n",
      "       1519, 1520, 1525, 1526, 1533, 1536, 1540, 1543, 1552, 1556],\n",
      "      dtype='int64', length=490)\n",
      "Are you sure you want to split the forget set in a forget loss? Mostly makes sense in latent knowledge and unlearning\n",
      "forget_indices: Index([   9,   11,   12,   13,   15,   17,   20,   21,   31,   32,\n",
      "       ...\n",
      "       1519, 1520, 1525, 1526, 1533, 1536, 1540, 1543, 1552, 1556],\n",
      "      dtype='int64', length=490)\n",
      "forget_indices: Index([   9,   11,   12,   13,   15,   17,   20,   21,   31,   32,\n",
      "       ...\n",
      "       1519, 1520, 1525, 1526, 1533, 1536, 1540, 1543, 1552, 1556],\n",
      "      dtype='int64', length=490)\n",
      "Are you sure you want to split the forget set in a forget loss? Mostly makes sense in latent knowledge and unlearning\n",
      "forget_indices: Index([   9,   11,   12,   13,   15,   17,   20,   21,   31,   32,\n",
      "       ...\n",
      "       1519, 1520, 1525, 1526, 1533, 1536, 1540, 1543, 1552, 1556],\n",
      "      dtype='int64', length=490)\n",
      "{'MMLU': {'MMLU': 0.6399999999999999}, 'adversarial': {'Normal': {'forget': 0.9624829173088074, 'maintain': 0.9992924928665161}, 'MC': {'forget': 0.1290658324956894, 'maintain': 0.1307039752602577}, 'Normal_Injected': {'forget': 3.376513120656455e-07, 'maintain': 7.879623922235624e-08}, 'MC_Injected': {'forget': 0.07876967042684556, 'maintain': 0.10158537775278093}}}\n",
      "relearn_athletes loss: 9.563092316966504e-05\n",
      "Memory after relearn_athletes loss: 42.782462464 GB\n",
      "maintain_athletes loss: 0.0001585032878210768\n",
      "Memory after maintain_athletes loss: 42.782462464 GB\n",
      "pile loss: 2.8409528732299805\n",
      "Memory after pile loss: 42.782462464 GB\n",
      "Memory after optimizer step: 36.380709376 GB\n",
      "Epoch 11\n",
      "{}\n",
      "relearn_athletes loss: 0.00022261070262175053\n",
      "Memory after relearn_athletes loss: 42.782462464 GB\n",
      "maintain_athletes loss: 2.6881081794272177e-05\n",
      "Memory after maintain_athletes loss: 42.782462464 GB\n",
      "pile loss: 2.2179958820343018\n",
      "Memory after pile loss: 42.782462464 GB\n",
      "Memory after optimizer step: 36.380709376 GB\n",
      "Epoch 12\n",
      "{}\n",
      "relearn_athletes loss: 2.059311191260349e-05\n",
      "Memory after relearn_athletes loss: 42.78482176 GB\n",
      "maintain_athletes loss: 1.7583170119905844e-05\n",
      "Memory after maintain_athletes loss: 42.78482176 GB\n",
      "pile loss: 1.8884037733078003\n",
      "Memory after pile loss: 42.78482176 GB\n",
      "Memory after optimizer step: 36.380709376 GB\n",
      "Epoch 13\n",
      "{}\n",
      "relearn_athletes loss: 1.0192336048930883e-05\n",
      "Memory after relearn_athletes loss: 42.782462464 GB\n",
      "maintain_athletes loss: 2.404991573712323e-05\n",
      "Memory after maintain_athletes loss: 42.782462464 GB\n",
      "pile loss: 2.229966878890991\n",
      "Memory after pile loss: 42.782462464 GB\n",
      "Memory after optimizer step: 36.380709376 GB\n",
      "Epoch 14\n",
      "{}\n",
      "relearn_athletes loss: 1.8954040569951758e-05\n",
      "Memory after relearn_athletes loss: 42.782462464 GB\n",
      "maintain_athletes loss: 1.9907414753106423e-05\n",
      "Memory after maintain_athletes loss: 42.782462464 GB\n",
      "pile loss: 2.2573671340942383\n",
      "Memory after pile loss: 42.782462464 GB\n",
      "Memory after optimizer step: 36.380709376 GB\n",
      "Epoch 15\n"
     ]
    },
    {
     "name": "stderr",
     "output_type": "stream",
     "text": [
      "Asking to truncate to max_length but no maximum length is provided and the model has no predefined maximum length. Default to no truncation.\n"
     ]
    },
    {
     "name": "stdout",
     "output_type": "stream",
     "text": [
      "forget_indices: Index([   9,   11,   12,   13,   15,   17,   20,   21,   31,   32,\n",
      "       ...\n",
      "       1519, 1520, 1525, 1526, 1533, 1536, 1540, 1543, 1552, 1556],\n",
      "      dtype='int64', length=490)\n",
      "Are you sure you want to split the forget set in a forget loss? Mostly makes sense in latent knowledge and unlearning\n",
      "No injection, using original sports\n",
      "forget_indices: Index([   9,   11,   12,   13,   15,   17,   20,   21,   31,   32,\n",
      "       ...\n",
      "       1519, 1520, 1525, 1526, 1533, 1536, 1540, 1543, 1552, 1556],\n",
      "      dtype='int64', length=490)\n",
      "No injection, using original sports\n",
      "forget_indices: Index([   9,   11,   12,   13,   15,   17,   20,   21,   31,   32,\n",
      "       ...\n",
      "       1519, 1520, 1525, 1526, 1533, 1536, 1540, 1543, 1552, 1556],\n",
      "      dtype='int64', length=490)\n",
      "Are you sure you want to split the forget set in a forget loss? Mostly makes sense in latent knowledge and unlearning\n",
      "No injection, using original sports\n",
      "forget_indices: Index([   9,   11,   12,   13,   15,   17,   20,   21,   31,   32,\n",
      "       ...\n",
      "       1519, 1520, 1525, 1526, 1533, 1536, 1540, 1543, 1552, 1556],\n",
      "      dtype='int64', length=490)\n",
      "No injection, using original sports\n",
      "forget_indices: Index([   9,   11,   12,   13,   15,   17,   20,   21,   31,   32,\n",
      "       ...\n",
      "       1519, 1520, 1525, 1526, 1533, 1536, 1540, 1543, 1552, 1556],\n",
      "      dtype='int64', length=490)\n",
      "Are you sure you want to split the forget set in a forget loss? Mostly makes sense in latent knowledge and unlearning\n",
      "forget_indices: Index([   9,   11,   12,   13,   15,   17,   20,   21,   31,   32,\n",
      "       ...\n",
      "       1519, 1520, 1525, 1526, 1533, 1536, 1540, 1543, 1552, 1556],\n",
      "      dtype='int64', length=490)\n",
      "forget_indices: Index([   9,   11,   12,   13,   15,   17,   20,   21,   31,   32,\n",
      "       ...\n",
      "       1519, 1520, 1525, 1526, 1533, 1536, 1540, 1543, 1552, 1556],\n",
      "      dtype='int64', length=490)\n",
      "Are you sure you want to split the forget set in a forget loss? Mostly makes sense in latent knowledge and unlearning\n",
      "forget_indices: Index([   9,   11,   12,   13,   15,   17,   20,   21,   31,   32,\n",
      "       ...\n",
      "       1519, 1520, 1525, 1526, 1533, 1536, 1540, 1543, 1552, 1556],\n",
      "      dtype='int64', length=490)\n",
      "{'MMLU': {'MMLU': 0.65}, 'adversarial': {'Normal': {'forget': 0.9875, 'maintain': 0.9999999284744262}, 'MC': {'forget': 0.12097241431474687, 'maintain': 0.12095463275909425}, 'Normal_Injected': {'forget': 7.96633718991302e-09, 'maintain': 1.4545482573957713e-08}, 'MC_Injected': {'forget': 0.07198970019817352, 'maintain': 0.09077084809541702}}}\n",
      "relearn_athletes loss: 6.675693384750048e-06\n",
      "Memory after relearn_athletes loss: 42.782462464 GB\n",
      "maintain_athletes loss: 2.4139819743140833e-06\n",
      "Memory after maintain_athletes loss: 42.782462464 GB\n",
      "pile loss: 1.752385139465332\n",
      "Memory after pile loss: 42.782462464 GB\n",
      "Memory after optimizer step: 36.380709376 GB\n",
      "Epoch 16\n",
      "{}\n",
      "relearn_athletes loss: 6.020043201715453e-06\n",
      "Memory after relearn_athletes loss: 42.786198016 GB\n",
      "maintain_athletes loss: 4.082904979441082e-06\n",
      "Memory after maintain_athletes loss: 42.786198016 GB\n",
      "pile loss: 1.7533386945724487\n",
      "Memory after pile loss: 42.786198016 GB\n",
      "Memory after optimizer step: 36.380709376 GB\n",
      "Epoch 17\n",
      "{}\n",
      "relearn_athletes loss: 1.3261897038319148e-05\n",
      "Memory after relearn_athletes loss: 42.786198016 GB\n",
      "maintain_athletes loss: 1.0132782790606143e-06\n",
      "Memory after maintain_athletes loss: 42.786198016 GB\n",
      "pile loss: 2.41461443901062\n",
      "Memory after pile loss: 42.786198016 GB\n",
      "Memory after optimizer step: 36.380709376 GB\n",
      "Epoch 18\n",
      "{}\n",
      "relearn_athletes loss: 9.119453352468554e-06\n",
      "Memory after relearn_athletes loss: 42.782462464 GB\n",
      "maintain_athletes loss: 8.88101385498885e-06\n",
      "Memory after maintain_athletes loss: 42.782462464 GB\n",
      "pile loss: 2.056058406829834\n",
      "Memory after pile loss: 42.782462464 GB\n",
      "Memory after optimizer step: 36.380709376 GB\n",
      "Epoch 19\n",
      "{}\n",
      "relearn_athletes loss: 0.0010287907207384706\n",
      "Memory after relearn_athletes loss: 42.78482176 GB\n",
      "maintain_athletes loss: 4.321321739553241e-06\n",
      "Memory after maintain_athletes loss: 42.78482176 GB\n",
      "pile loss: 1.667269229888916\n",
      "Memory after pile loss: 42.78482176 GB\n",
      "Memory after optimizer step: 36.380709376 GB\n",
      "Epoch 20\n"
     ]
    },
    {
     "name": "stderr",
     "output_type": "stream",
     "text": [
      "Asking to truncate to max_length but no maximum length is provided and the model has no predefined maximum length. Default to no truncation.\n"
     ]
    },
    {
     "name": "stdout",
     "output_type": "stream",
     "text": [
      "forget_indices: Index([   9,   11,   12,   13,   15,   17,   20,   21,   31,   32,\n",
      "       ...\n",
      "       1519, 1520, 1525, 1526, 1533, 1536, 1540, 1543, 1552, 1556],\n",
      "      dtype='int64', length=490)\n",
      "Are you sure you want to split the forget set in a forget loss? Mostly makes sense in latent knowledge and unlearning\n",
      "No injection, using original sports\n",
      "forget_indices: Index([   9,   11,   12,   13,   15,   17,   20,   21,   31,   32,\n",
      "       ...\n",
      "       1519, 1520, 1525, 1526, 1533, 1536, 1540, 1543, 1552, 1556],\n",
      "      dtype='int64', length=490)\n",
      "No injection, using original sports\n",
      "forget_indices: Index([   9,   11,   12,   13,   15,   17,   20,   21,   31,   32,\n",
      "       ...\n",
      "       1519, 1520, 1525, 1526, 1533, 1536, 1540, 1543, 1552, 1556],\n",
      "      dtype='int64', length=490)\n",
      "Are you sure you want to split the forget set in a forget loss? Mostly makes sense in latent knowledge and unlearning\n",
      "No injection, using original sports\n",
      "forget_indices: Index([   9,   11,   12,   13,   15,   17,   20,   21,   31,   32,\n",
      "       ...\n",
      "       1519, 1520, 1525, 1526, 1533, 1536, 1540, 1543, 1552, 1556],\n",
      "      dtype='int64', length=490)\n",
      "No injection, using original sports\n",
      "forget_indices: Index([   9,   11,   12,   13,   15,   17,   20,   21,   31,   32,\n",
      "       ...\n",
      "       1519, 1520, 1525, 1526, 1533, 1536, 1540, 1543, 1552, 1556],\n",
      "      dtype='int64', length=490)\n",
      "Are you sure you want to split the forget set in a forget loss? Mostly makes sense in latent knowledge and unlearning\n",
      "forget_indices: Index([   9,   11,   12,   13,   15,   17,   20,   21,   31,   32,\n",
      "       ...\n",
      "       1519, 1520, 1525, 1526, 1533, 1536, 1540, 1543, 1552, 1556],\n",
      "      dtype='int64', length=490)\n",
      "forget_indices: Index([   9,   11,   12,   13,   15,   17,   20,   21,   31,   32,\n",
      "       ...\n",
      "       1519, 1520, 1525, 1526, 1533, 1536, 1540, 1543, 1552, 1556],\n",
      "      dtype='int64', length=490)\n",
      "Are you sure you want to split the forget set in a forget loss? Mostly makes sense in latent knowledge and unlearning\n",
      "forget_indices: Index([   9,   11,   12,   13,   15,   17,   20,   21,   31,   32,\n",
      "       ...\n",
      "       1519, 1520, 1525, 1526, 1533, 1536, 1540, 1543, 1552, 1556],\n",
      "      dtype='int64', length=490)\n",
      "{'MMLU': {'MMLU': 0.6599999999999999}, 'adversarial': {'Normal': {'forget': 0.9874885559082032, 'maintain': 0.9999984145164489}, 'MC': {'forget': 0.12188315391540527, 'maintain': 0.11177700906991958}, 'Normal_Injected': {'forget': 0.012500002111985787, 'maintain': 6.375396119917553e-08}, 'MC_Injected': {'forget': 0.07479722946882249, 'maintain': 0.09250221997499466}}}\n"
     ]
    }
   ],
   "source": [
    "\n",
    "# del model\n",
    "\n",
    "# for name, model, mask, regular_evals, side_effect_evals, adversarial_evals in [(\"localized\", localized_model, localized_mask, localized_regular_evals, localized_side_effect_evals, localized_adversarial_evals), (\"nonlocalized\", nonlocalized_model, nonlocalized_mask, nonlocalized_regular_evals, nonlocalized_side_effect_evals, nonlocalized_adversarial_evals)]:\n",
    "\n",
    "relearning_train_results = {}\n",
    "relearning_test_results = {}\n",
    "relearning_regular_results = {}\n",
    "relearning_adversarial_results = {}\n",
    "relearning_side_effect_results = {}\n",
    "\n",
    "model.cuda()\n",
    "print(torch.cuda.memory_allocated() / 10**9, \"GB\")\n",
    "print(train_tasks)\n",
    "train_losses, test_losses = do_relearning(model, train_tasks, n_iters=n_relearn_iters, finetune_lora=True, lora_kwargs={'rank': 512, 'alpha': 32, 'dropout': 0.05, 'target_modules': 'all-linear'}, learning_kwargs={'lr': 2e-4, 'weight_decay': 0, 'use_cosine': True}, eval_callback_fn=eval_callback, forget_kwargs=relearn_forget_kwargs, maintain_kwargs=relearn_maintain_kwargs, inject_label=inject_label)\n",
    "\n",
    "\n",
    "# model.cpu()\n",
    "\n",
    "# os.makedirs(f\"{save_dir}/results\", exist_ok=True)\n",
    "# with open(f\"{save_dir}/results/relearning_{n_relearn_athletes=}_{n_relearn_iters=}_{model_type}_{combine_heads=}_{beta=}_unlearn_{forget_sport=}_{forget_athletes=}_results.pkl\", \"wb\") as f:\n",
    "#     pickle.dump({\"relearning_regular_results\": relearning_regular_results, \"relearning_adversarial_results\": relearning_adversarial_results, \"relearning_side_effect_results\": relearning_side_effect_results, \"relearning_train_results\": relearning_train_results, \"relearning_test_results\": relearning_test_results}, f)"
   ]
  },
  {
   "cell_type": "code",
   "execution_count": null,
   "metadata": {},
   "outputs": [
    {
     "name": "stdout",
     "output_type": "stream",
     "text": [
      "[{'MMLU': {'MMLU': 0.6299999999999999}, 'adversarial': {'Normal': {'forget': 2.607574280943936e-08, 'maintain': 0.9999922513961792}, 'MC': {'forget': 0.12214812487363816, 'maintain': 0.21471276581287385}, 'Normal_Injected': {'forget': 0.01433745090762386, 'maintain': 1.4205856928128924e-06}, 'MC_Injected': {'forget': 0.083783058822155, 'maintain': 0.11088085621595381}}}, {}, {}, {}, {}, {'MMLU': {'MMLU': 0.61}, 'adversarial': {'Normal': {'forget': 0.9816604852676392, 'maintain': 0.9873923540115357}, 'MC': {'forget': 0.14242463111877443, 'maintain': 0.13436984121799467}, 'Normal_Injected': {'forget': 0.0001505299027485307, 'maintain': 6.671345290669706e-05}, 'MC_Injected': {'forget': 0.10067228972911835, 'maintain': 0.10986200869083404}}}, {}, {}, {}, {}, {'MMLU': {'MMLU': 0.6399999999999999}, 'adversarial': {'Normal': {'forget': 0.9624829173088074, 'maintain': 0.9992924928665161}, 'MC': {'forget': 0.1290658324956894, 'maintain': 0.1307039752602577}, 'Normal_Injected': {'forget': 3.376513120656455e-07, 'maintain': 7.879623922235624e-08}, 'MC_Injected': {'forget': 0.07876967042684556, 'maintain': 0.10158537775278093}}}, {}, {}, {}, {}, {'MMLU': {'MMLU': 0.65}, 'adversarial': {'Normal': {'forget': 0.9875, 'maintain': 0.9999999284744262}, 'MC': {'forget': 0.12097241431474687, 'maintain': 0.12095463275909425}, 'Normal_Injected': {'forget': 7.96633718991302e-09, 'maintain': 1.4545482573957713e-08}, 'MC_Injected': {'forget': 0.07198970019817352, 'maintain': 0.09077084809541702}}}, {}, {}, {}, {}, {'MMLU': {'MMLU': 0.6599999999999999}, 'adversarial': {'Normal': {'forget': 0.9874885559082032, 'maintain': 0.9999984145164489}, 'MC': {'forget': 0.12188315391540527, 'maintain': 0.11177700906991958}, 'Normal_Injected': {'forget': 0.012500002111985787, 'maintain': 6.375396119917553e-08}, 'MC_Injected': {'forget': 0.07479722946882249, 'maintain': 0.09250221997499466}}}]\n"
     ]
    },
    {
     "data": {
      "image/png": "[encoded data removed]",
      "text/plain": [
       "<Figure size 640x480 with 1 Axes>"
      ]
     },
     "metadata": {},
     "output_type": "display_data"
    }
   ],
   "source": [
    "test_losses.insert(0, initial_test_loss)\n",
    "print(test_losses)\n",
    "# plot\n",
    "for task_name, task_split in [(\"Normal\", \"forget\"), (\"MC\", \"forget\")]:\n",
    "    x_vals = []\n",
    "    y_vals = []\n",
    "    for idx, point in enumerate(test_losses):\n",
    "        if len(point) > 0:\n",
    "            x_vals.append(idx)\n",
    "            y_vals.append(point['adversarial'][task_name][task_split])\n",
    "    plt.plot(x_vals, y_vals, label=task_name, marker=\"o\")\n",
    "plt.title(f\"Relearning {task_split} Accuracy, {localization_type}\")\n",
    "plt.legend()\n",
    "plt.show()"
   ]
  },
  {
   "cell_type": "code",
   "execution_count": null,
   "metadata": {},
   "outputs": [
    {
     "name": "stdout",
     "output_type": "stream",
     "text": [
      "forget_indices: range(0, 64)\n",
      "Are you sure you want to split the forget set in a forget loss? Mostly makes sense in latent knowledge and unlearning\n",
      "forget_indices: range(0, 64)\n",
      "forget_indices: range(0, 64)\n",
      "Are you sure you want to split the forget set in a forget loss? Mostly makes sense in latent knowledge and unlearning\n",
      "No injection, using original sports\n",
      "forget_indices: range(0, 64)\n",
      "No injection, using original sports\n",
      "forget_indices: range(0, 64)\n",
      "Are you sure you want to split the forget set in a forget loss? Mostly makes sense in latent knowledge and unlearning\n",
      "No injection, using original sports\n",
      "forget_indices: range(0, 64)\n",
      "No injection, using original sports\n",
      "forget_indices: range(0, 64)\n",
      "Are you sure you want to split the forget set in a forget loss? Mostly makes sense in latent knowledge and unlearning\n",
      "forget_indices: range(0, 64)\n",
      "forget_indices: range(0, 64)\n",
      "Are you sure you want to split the forget set in a forget loss? Mostly makes sense in latent knowledge and unlearning\n",
      "forget_indices: range(0, 64)\n"
     ]
    },
    {
     "name": "stderr",
     "output_type": "stream",
     "text": [
      "Asking to truncate to max_length but no maximum length is provided and the model has no predefined maximum length. Default to no truncation.\n"
     ]
    }
   ],
   "source": [
    "localization_type = \"manual_interp\"\n",
    "relearning_train_results[localization_type] = train_losses\n",
    "relearning_test_results[localization_type] = test_losses\n",
    "\n",
    "relearning_regular_results[localization_type] = {}\n",
    "forget_sport_eval = SportsTask(batch_size=eval_batch_size, tokenizer=tokenizer, **relearn_forget_kwargs)\n",
    "maintain_sports_eval = SportsTask(batch_size=eval_batch_size, tokenizer=tokenizer, **relearn_maintain_kwargs)\n",
    "\n",
    "for task_name, test_task in [(\"forget_sport\", forget_sport_eval), (\"maintain_sports\", maintain_sports_eval)]:\n",
    "    task_loss = 0\n",
    "    task_accuracy = 0\n",
    "    for i in range(n_eval_iters):\n",
    "        task_loss += test_task.get_test_loss(model).item()\n",
    "        task_accuracy += test_task.get_test_accuracy(model)\n",
    "    relearning_regular_results[localization_type][f\"{task_name}_ce\"] = task_loss / n_eval_iters\n",
    "    relearning_regular_results[localization_type][f\"{task_name}_acc\"] = task_accuracy / n_eval_iters\n",
    "\n",
    "adversarial_eval_results = adversarial_sports_eval_redo(model, model_type=\"gemma\", batch_size=eval_batch_size, \n",
    "                forget_task_init_kwargs={\"use_system_prompt\":True, \"use_icl\":False}|relearn_forget_kwargs, \n",
    "                maintain_task_init_kwargs={\"use_system_prompt\":True, \"use_icl\":False}|relearn_maintain_kwargs, \n",
    "                continuous=True, include_evals=[\"Normal\", \"MC\"], inject_label=inject_label)\n",
    "relearning_adversarial_results[localization_type] = adversarial_eval_results\n",
    "\n",
    "side_effect_eval_results = run_side_effects_evals(model, model_type=\"gemma\", batch_size=eval_batch_size, evals_to_run=[\"General\"], general_batch_size=mmlu_batch_size)\n",
    "relearning_side_effect_results[localization_type] = side_effect_eval_results\n"
   ]
  },
  {
   "cell_type": "markdown",
   "metadata": {},
   "source": [
    "### Probing"
   ]
  },
  {
   "cell_type": "code",
   "execution_count": null,
   "metadata": {},
   "outputs": [
    {
     "name": "stdout",
     "output_type": "stream",
     "text": [
      "0.033554432 GB\n",
      "17.108916224 GB\n"
     ]
    },
    {
     "data": {
      "application/vnd.jupyter.widget-view+json": {
       "model_id": "12112d9f9b3a41ac845abeb94d3bd56a",
       "version_major": 2,
       "version_minor": 0
      },
      "text/plain": [
       "Loading checkpoint shards:   0%|          | 0/4 [00:00<?, ?it/s]"
      ]
     },
     "metadata": {},
     "output_type": "display_data"
    },
    {
     "name": "stdout",
     "output_type": "stream",
     "text": [
      "17.10893056 GB\n"
     ]
    }
   ],
   "source": [
    "# localization_type = \"manual_interp\"\n",
    "localization_type = \"localized_ct\"\n",
    "# model_path = f\"results_rebuttal/gemma_forget_64_inject_random_without_golf/{localization_type}_run1/models/model.pt\"\n",
    "model_path = f\"results_rebuttal/gemma_forget_basketball_inject_golf/{localization_type}_run1/models/model.pt\"\n",
    "model.cpu()\n",
    "del model\n",
    "print(torch.cuda.memory_allocated() / 10**9, \"GB\")\n",
    "\n",
    "state_dict = torch.load(model_path)\n",
    "# Convert state dict to bfloat16\n",
    "state_dict = {k: v.to(torch.bfloat16) if isinstance(v, torch.Tensor) else v for k, v in state_dict.items()}\n",
    "print(torch.cuda.memory_allocated() / 10**9, \"GB\")\n",
    "model = AutoModelForCausalLM.from_pretrained(model_name_or_path, torch_dtype=torch.bfloat16)\n",
    "model.load_state_dict(state_dict)\n",
    "model.cuda()\n",
    "del state_dict\n",
    "print(torch.cuda.memory_allocated() / 10**9, \"GB\")"
   ]
  },
  {
   "cell_type": "code",
   "execution_count": null,
   "metadata": {},
   "outputs": [
    {
     "name": "stdout",
     "output_type": "stream",
     "text": [
      "forget_indices: Index([   9,   11,   12,   13,   15,   17,   20,   21,   31,   32,\n",
      "       ...\n",
      "       1519, 1520, 1525, 1526, 1533, 1536, 1540, 1543, 1552, 1556],\n",
      "      dtype='int64', length=490)\n",
      "Are you sure you want to split the forget set in a forget loss? Mostly makes sense in latent knowledge and unlearning\n",
      "forget_indices: Index([   9,   11,   12,   13,   15,   17,   20,   21,   31,   32,\n",
      "       ...\n",
      "       1519, 1520, 1525, 1526, 1533, 1536, 1540, 1543, 1552, 1556],\n",
      "      dtype='int64', length=490)\n",
      "Forget accuracy: 0.00013104027311783284\n",
      "Forget accuracy with injected labels: 0.995343029499054\n",
      "Maintain accuracy: 0.9999977946281433\n",
      "football 477\n"
     ]
    },
    {
     "data": {
      "application/vnd.jupyter.widget-view+json": {
       "model_id": "d042a8a8104e43cf9c0119dc6c3fd639",
       "version_major": 2,
       "version_minor": 0
      },
      "text/plain": [
       "  0%|          | 0/15 [00:00<?, ?it/s]"
      ]
     },
     "metadata": {},
     "output_type": "display_data"
    },
    {
     "name": "stderr",
     "output_type": "stream",
     "text": [
      "Asking to truncate to max_length but no maximum length is provided and the model has no predefined maximum length. Default to no truncation.\n"
     ]
    },
    {
     "name": "stdout",
     "output_type": "stream",
     "text": [
      "Done caching\n",
      "baseball 378\n"
     ]
    },
    {
     "data": {
      "application/vnd.jupyter.widget-view+json": {
       "model_id": "41b57f1a191048ec8285b8e12ea9ccd9",
       "version_major": 2,
       "version_minor": 0
      },
      "text/plain": [
       "  0%|          | 0/12 [00:00<?, ?it/s]"
      ]
     },
     "metadata": {},
     "output_type": "display_data"
    },
    {
     "name": "stdout",
     "output_type": "stream",
     "text": [
      "Done caching\n"
     ]
    }
   ],
   "source": [
    "# train probes on maintain split, and eval the forget split\n",
    "# forget_kwargs = {\"forget_split\": \"first_64_unsplit\", \"maintain_split\": None}\n",
    "# maintain_kwargs = {\"forget_split\": \"first_64_unsplit\", \"maintain_split\": \"split\"}\n",
    "forget_kwargs = {\"forget_split\": \"basketball_split\", \"maintain_split\": None}\n",
    "maintain_kwargs = {\"forget_split\": \"basketball_split\", \"maintain_split\": \"split\"}\n",
    "inject_label = \"golf\"\n",
    "\n",
    "probing_batch_size = 32\n",
    "tokenizer.padding_side = \"right\"\n",
    "forget_sports_eval = SportsTask_Injection(batch_size=probing_batch_size, tokenizer=tokenizer, inject_label=inject_label, **forget_kwargs)\n",
    "maintain_sports_eval = SportsTask_Injection(batch_size=probing_batch_size, tokenizer=tokenizer, inject_label=inject_label, **maintain_kwargs)\n",
    "\n",
    "print(f\"Forget accuracy: {forget_sports_eval.get_test_accuracy(model)}\")\n",
    "print(f\"Forget accuracy with injected labels: {forget_sports_eval.get_test_accuracy(model, injected_accuracy=True)}\")\n",
    "print(f\"Maintain accuracy: {maintain_sports_eval.get_test_accuracy(model)}\")\n",
    "train_df = maintain_sports_eval.train_df\n",
    "\n",
    "# want left sided tokenizer\n",
    "tokenizer.padding_side = \"left\"\n",
    "\n",
    "def retrieve_acts(model, tokenizer, prompt_list, batch_size, layer=None, to_cpu=False, truncate_length=None, seq_pos_list=None, stack_cache=True):\n",
    "    \"\"\"\n",
    "    If seq_pos is not None, cache all the activations at the specified sequence position. Should be one list in seq_pos per prompt.\n",
    "    \"\"\"\n",
    "    if layer is None or isinstance(layer, list):\n",
    "        caches = defaultdict(list)\n",
    "    else:\n",
    "        caches = []\n",
    "    if layer is None:\n",
    "        layer = list(range(n_layers))\n",
    "    for i in tqdm(range(0, len(prompt_list), batch_size)):\n",
    "        tokenized_prompts = tokenizer(prompt_list[i:i+batch_size], return_tensors=\"pt\", padding=True, truncation=True)\n",
    "        prompt_toks = tokenized_prompts.input_ids\n",
    "        attn_mask = tokenized_prompts.attention_mask\n",
    "        if truncate_length is not None:\n",
    "            if len(prompt_toks[0]) > truncate_length:\n",
    "                print(f\"Prompt {i} is too long, truncating\")\n",
    "                prompt_toks = prompt_toks[:, -truncate_length:]\n",
    "                attn_mask = attn_mask[:, -truncate_length:]\n",
    "        \n",
    "        # if assert_end_newline:\n",
    "        with torch.no_grad():\n",
    "            model_output = model(\n",
    "                input_ids=prompt_toks.cuda(),\n",
    "                attention_mask=attn_mask.cuda(),\n",
    "                output_hidden_states=True\n",
    "            )\n",
    "            hidden_states = model_output[\"hidden_states\"]\n",
    "        if isinstance(layer, list):\n",
    "            for key_layer in layer:\n",
    "                if to_cpu:\n",
    "                    if seq_pos_list is not None:\n",
    "                        for j in range(len(hidden_states[key_layer])):\n",
    "                            caches[key_layer].append(hidden_states[key_layer][j, seq_pos_list[i+j], :].cpu())\n",
    "                    else:\n",
    "                        caches[key_layer].append(hidden_states[key_layer][:, -1, :])\n",
    "                else:\n",
    "                    if seq_pos_list is not None:\n",
    "                        for j in range(len(hidden_states[key_layer])):\n",
    "                            caches[key_layer].append(hidden_states[key_layer][j, seq_pos_list[i+j], :])\n",
    "                    else:\n",
    "                        caches[key_layer].append(hidden_states[key_layer][:, -1, :])\n",
    "\n",
    "    print(\"Done caching\")\n",
    "    if stack_cache:\n",
    "        if layer is None or isinstance(layer, list):\n",
    "            for k, v in caches.items():\n",
    "                if seq_pos_list is not None:\n",
    "                    caches[k] = torch.stack(v, dim=0).cpu()\n",
    "                else:\n",
    "                    caches[k] = torch.cat(v, dim=0).cpu()\n",
    "        else:\n",
    "            if seq_pos_list is not None:\n",
    "                caches = torch.stack(caches, dim=0).cpu()\n",
    "            else:\n",
    "                caches = torch.cat(caches, dim=0).cpu()\n",
    "    return caches\n",
    "\n",
    "all_acts = defaultdict(list)\n",
    "labels = []\n",
    "sport_dict = {\"baseball\": 0, \"basketball\": 1, \"football\": 2, \"golf\": 3}\n",
    "for sport in train_df[\"sport\"].unique():\n",
    "    datapoints = train_df[train_df[\"sport\"] == sport]\n",
    "    print(sport, len(datapoints))\n",
    "    \n",
    "    prompts = datapoints[\"prompt\"].tolist()\n",
    "\n",
    "    acts = retrieve_acts(model, tokenizer, prompts, probing_batch_size, layer=list(range(n_layers)), to_cpu=True)\n",
    "    for layer in range(n_layers):\n",
    "        all_acts[layer].append(acts[layer])\n",
    "        num_datapoints = len(acts[layer])\n",
    "    labels.append(torch.tensor([sport_dict[sport]]*num_datapoints))\n",
    "\n",
    "labels = torch.cat(labels, dim=0)\n",
    "for layer in range(n_layers):\n",
    "    all_acts[layer] = torch.cat(all_acts[layer], dim=0)\n"
   ]
  },
  {
   "cell_type": "code",
   "execution_count": null,
   "metadata": {},
   "outputs": [
    {
     "data": {
      "application/vnd.jupyter.widget-view+json": {
       "model_id": "2056f9e8e3024be2b327682e152991b8",
       "version_major": 2,
       "version_minor": 0
      },
      "text/plain": [
       "  0%|          | 0/28 [00:00<?, ?it/s]"
      ]
     },
     "metadata": {},
     "output_type": "display_data"
    },
    {
     "data": {
      "image/png": "[encoded data removed]",
      "text/plain": [
       "<Figure size 1000x600 with 1 Axes>"
      ]
     },
     "metadata": {},
     "output_type": "display_data"
    }
   ],
   "source": [
    "from sklearn.linear_model import LogisticRegression\n",
    "from sklearn.model_selection import train_test_split\n",
    "from sklearn.metrics import accuracy_score, classification_report\n",
    "import numpy as np\n",
    "\n",
    "# Function to train and evaluate probes for each layer\n",
    "def train_eval_probes(activations_dict, labels, test_size=0.2, random_state=42):\n",
    "    results = {}\n",
    "    \n",
    "    for layer, acts in tqdm(activations_dict.items()):\n",
    "        # Convert activations to numpy array if they're torch tensors\n",
    "        X = acts.float().numpy() if hasattr(acts, 'numpy') else acts\n",
    "        y = labels.numpy() if hasattr(labels, 'numpy') else labels\n",
    "        \n",
    "        # Split the data\n",
    "        X_train, X_test, y_train, y_test = train_test_split(\n",
    "            X, y, test_size=test_size, random_state=random_state, stratify=y\n",
    "        )\n",
    "        \n",
    "        # Initialize and train the probe\n",
    "        probe = LogisticRegression(max_iter=1000, multi_class='multinomial')\n",
    "        probe.fit(X_train, y_train)\n",
    "        \n",
    "        # Evaluate\n",
    "        train_acc = accuracy_score(y_train, probe.predict(X_train))\n",
    "        test_acc = accuracy_score(y_test, probe.predict(X_test))\n",
    "        \n",
    "        results[layer] = {\n",
    "            'train_accuracy': train_acc,\n",
    "            'test_accuracy': test_acc,\n",
    "            'probe': probe\n",
    "        }\n",
    "        \n",
    "        # print(f\"Layer {layer}:\")\n",
    "        # print(f\"Train accuracy: {train_acc:.4f}\")\n",
    "        # print(f\"Test accuracy: {test_acc:.4f}\")\n",
    "        # print(\"Classification Report:\")\n",
    "        # print(classification_report(y_test, probe.predict(X_test)))\n",
    "        # print(\"-\" * 50)\n",
    "    \n",
    "    return results\n",
    "\n",
    "# Train probes for all layers\n",
    "probe_results = train_eval_probes(all_acts, labels)\n",
    "\n",
    "# Plot the results\n",
    "import matplotlib.pyplot as plt\n",
    "\n",
    "layers = list(probe_results.keys())\n",
    "train_accs = [results['train_accuracy'] for results in probe_results.values()]\n",
    "test_accs = [results['test_accuracy'] for results in probe_results.values()]\n",
    "\n",
    "plt.figure(figsize=(10, 6))\n",
    "plt.plot(layers, train_accs, label='Train Accuracy')\n",
    "plt.plot(layers, test_accs, label='Test Accuracy')\n",
    "plt.xlabel('Layer')\n",
    "plt.ylabel('Accuracy')\n",
    "plt.title('Probe Accuracy by Layer')\n",
    "plt.legend()\n",
    "plt.grid(True)\n",
    "plt.show()"
   ]
  },
  {
   "cell_type": "code",
   "execution_count": null,
   "metadata": {},
   "outputs": [
    {
     "name": "stdout",
     "output_type": "stream",
     "text": [
      "basketball 245\n"
     ]
    },
    {
     "data": {
      "application/vnd.jupyter.widget-view+json": {
       "model_id": "456a54ad9eec472a841170cc5ab998d2",
       "version_major": 2,
       "version_minor": 0
      },
      "text/plain": [
       "  0%|          | 0/8 [00:00<?, ?it/s]"
      ]
     },
     "metadata": {},
     "output_type": "display_data"
    },
    {
     "name": "stdout",
     "output_type": "stream",
     "text": [
      "Done caching\n"
     ]
    }
   ],
   "source": [
    "# test probes on forget split\n",
    "forget_acts = defaultdict(list)\n",
    "forget_labels = []\n",
    "edit_labels = []\n",
    "forget_df = forget_sports_eval.test_df\n",
    "for sport in forget_df[\"sport\"].unique():\n",
    "    datapoints = forget_df[forget_df[\"sport\"] == sport]\n",
    "    print(sport, len(datapoints))\n",
    "    \n",
    "    prompts = datapoints[\"prompt\"].tolist()\n",
    "\n",
    "    acts = retrieve_acts(model, tokenizer, prompts, probing_batch_size, layer=list(range(n_layers)), to_cpu=True)\n",
    "    for layer in range(n_layers):\n",
    "        forget_acts[layer].append(acts[layer])\n",
    "        num_datapoints = len(acts[layer])\n",
    "    forget_labels.append(torch.tensor([sport_dict[sport]]*num_datapoints))\n",
    "    edit_labels.append(torch.tensor([sport_dict[edit_sport] for edit_sport in datapoints[\"inject_sport\"]]))\n",
    "\n",
    "forget_labels = torch.cat(forget_labels, dim=0)\n",
    "edit_labels = torch.cat(edit_labels, dim=0)\n",
    "for layer in range(n_layers):\n",
    "    forget_acts[layer] = torch.cat(forget_acts[layer], dim=0)"
   ]
  },
  {
   "cell_type": "code",
   "execution_count": null,
   "metadata": {},
   "outputs": [
    {
     "data": {
      "text/plain": [
       "tensor([1, 1, 1, 1, 1, 1, 1, 1, 1, 1, 1, 1, 1, 1, 1, 1, 1, 1, 1, 1, 1, 1, 1, 1,\n",
       "        1, 1, 1, 1, 1, 1, 1, 1, 1, 1, 1, 1, 1, 1, 1, 1, 1, 1, 1, 1, 1, 1, 1, 1,\n",
       "        1, 1, 1, 1, 1, 1, 1, 1, 1, 1, 1, 1, 1, 1, 1, 1, 1, 1, 1, 1, 1, 1, 1, 1,\n",
       "        1, 1, 1, 1, 1, 1, 1, 1, 1, 1, 1, 1, 1, 1, 1, 1, 1, 1, 1, 1, 1, 1, 1, 1,\n",
       "        1, 1, 1, 1, 1, 1, 1, 1, 1, 1, 1, 1, 1, 1, 1, 1, 1, 1, 1, 1, 1, 1, 1, 1,\n",
       "        1, 1, 1, 1, 1, 1, 1, 1, 1, 1, 1, 1, 1, 1, 1, 1, 1, 1, 1, 1, 1, 1, 1, 1,\n",
       "        1, 1, 1, 1, 1, 1, 1, 1, 1, 1, 1, 1, 1, 1, 1, 1, 1, 1, 1, 1, 1, 1, 1, 1,\n",
       "        1, 1, 1, 1, 1, 1, 1, 1, 1, 1, 1, 1, 1, 1, 1, 1, 1, 1, 1, 1, 1, 1, 1, 1,\n",
       "        1, 1, 1, 1, 1, 1, 1, 1, 1, 1, 1, 1, 1, 1, 1, 1, 1, 1, 1, 1, 1, 1, 1, 1,\n",
       "        1, 1, 1, 1, 1, 1, 1, 1, 1, 1, 1, 1, 1, 1, 1, 1, 1, 1, 1, 1, 1, 1, 1, 1,\n",
       "        1, 1, 1, 1, 1])"
      ]
     },
     "execution_count": 16,
     "metadata": {},
     "output_type": "execute_result"
    }
   ],
   "source": [
    "forget_labels"
   ]
  },
  {
   "cell_type": "code",
   "execution_count": null,
   "metadata": {},
   "outputs": [],
   "source": [
    "preds = {}\n",
    "for layer in range(n_layers):\n",
    "    preds[layer] = probe_results[layer]['probe'].predict(forget_acts[layer].float().numpy())"
   ]
  },
  {
   "cell_type": "code",
   "execution_count": null,
   "metadata": {},
   "outputs": [
    {
     "data": {
      "text/plain": [
       "{0: array([2, 2, 2, 2, 2, 2, 2, 2, 2, 2, 2, 2, 2, 2, 2, 2, 2, 2, 2, 2, 2, 2,\n",
       "        2, 2, 2, 2, 2, 2, 2, 2, 2, 2, 2, 2, 2, 2, 2, 2, 2, 2, 2, 2, 2, 2,\n",
       "        2, 2, 2, 2, 2, 2, 2, 2, 2, 2, 2, 2, 2, 2, 2, 2, 2, 2, 2, 2, 2, 2,\n",
       "        2, 2, 2, 2, 2, 2, 2, 2, 2, 2, 2, 2, 2, 2, 2, 2, 2, 2, 2, 2, 2, 2,\n",
       "        2, 2, 2, 2, 2, 2, 2, 2, 2, 2, 2, 2, 2, 2, 2, 2, 2, 2, 2, 2, 2, 2,\n",
       "        2, 2, 2, 2, 2, 2, 2, 2, 2, 2, 2, 2, 2, 2, 2, 2, 2, 2, 2, 2, 2, 2,\n",
       "        2, 2, 2, 2, 2, 2, 2, 2, 2, 2, 2, 2, 2, 2, 2, 2, 2, 2, 2, 2, 2, 2,\n",
       "        2, 2, 2, 2, 2, 2, 2, 2, 2, 2, 2, 2, 2, 2, 2, 2, 2, 2, 2, 2, 2, 2,\n",
       "        2, 2, 2, 2, 2, 2, 2, 2, 2, 2, 2, 2, 2, 2, 2, 2, 2, 2, 2, 2, 2, 2,\n",
       "        2, 2, 2, 2, 2, 2, 2, 2, 2, 2, 2, 2, 2, 2, 2, 2, 2, 2, 2, 2, 2, 2,\n",
       "        2, 2, 2, 2, 2, 2, 2, 2, 2, 2, 2, 2, 2, 2, 2, 2, 2, 2, 2, 2, 2, 2,\n",
       "        2, 2, 2]),\n",
       " 1: array([2, 2, 2, 0, 2, 2, 2, 2, 0, 2, 0, 0, 2, 2, 2, 2, 2, 2, 0, 2, 0, 0,\n",
       "        2, 2, 0, 2, 2, 2, 0, 2, 2, 2, 2, 2, 2, 2, 2, 2, 2, 2, 2, 2, 2, 2,\n",
       "        2, 0, 0, 2, 2, 2, 2, 2, 2, 2, 2, 2, 0, 2, 2, 2, 0, 2, 2, 2, 0, 2,\n",
       "        2, 2, 0, 2, 2, 2, 2, 2, 2, 2, 2, 2, 2, 2, 2, 2, 2, 0, 0, 0, 2, 2,\n",
       "        2, 2, 2, 2, 0, 0, 2, 2, 0, 2, 0, 2, 2, 2, 0, 0, 0, 2, 2, 2, 2, 2,\n",
       "        0, 2, 2, 0, 2, 2, 2, 2, 0, 2, 2, 0, 0, 2, 2, 2, 2, 2, 0, 2, 0, 2,\n",
       "        0, 2, 2, 2, 0, 2, 2, 2, 2, 2, 2, 2, 2, 2, 0, 0, 2, 2, 2, 0, 2, 2,\n",
       "        2, 2, 2, 2, 2, 2, 2, 2, 2, 2, 2, 2, 2, 2, 2, 2, 2, 2, 2, 0, 2, 2,\n",
       "        2, 2, 2, 2, 2, 0, 2, 2, 2, 2, 2, 2, 2, 2, 2, 2, 2, 2, 2, 2, 2, 2,\n",
       "        2, 2, 2, 2, 2, 2, 2, 2, 2, 2, 2, 2, 2, 0, 2, 2, 0, 2, 2, 2, 0, 2,\n",
       "        2, 0, 2, 0, 2, 2, 2, 0, 2, 2, 2, 2, 2, 2, 2, 2, 2, 2, 2, 2, 2, 2,\n",
       "        2, 0, 2]),\n",
       " 2: array([2, 2, 2, 2, 2, 2, 2, 2, 2, 2, 2, 0, 2, 2, 2, 2, 2, 2, 0, 0, 0, 0,\n",
       "        2, 0, 0, 2, 2, 2, 2, 2, 2, 2, 2, 2, 2, 2, 2, 2, 2, 2, 2, 2, 0, 2,\n",
       "        2, 0, 0, 2, 2, 2, 2, 2, 2, 2, 2, 0, 0, 0, 2, 2, 0, 0, 2, 0, 0, 2,\n",
       "        2, 2, 2, 2, 2, 2, 2, 2, 2, 2, 2, 2, 0, 2, 2, 2, 2, 2, 0, 0, 2, 0,\n",
       "        2, 2, 2, 2, 0, 2, 2, 2, 0, 2, 0, 2, 2, 2, 0, 2, 0, 2, 2, 2, 2, 2,\n",
       "        2, 2, 2, 2, 2, 2, 2, 2, 0, 2, 2, 0, 0, 2, 2, 2, 2, 0, 0, 2, 0, 2,\n",
       "        2, 2, 2, 2, 2, 2, 2, 2, 2, 0, 2, 2, 2, 2, 2, 0, 0, 2, 2, 2, 2, 2,\n",
       "        2, 2, 2, 2, 2, 2, 2, 2, 2, 2, 2, 2, 2, 2, 2, 2, 2, 2, 2, 0, 2, 0,\n",
       "        2, 0, 2, 2, 2, 0, 2, 0, 2, 2, 2, 2, 2, 2, 2, 2, 0, 2, 2, 2, 2, 2,\n",
       "        2, 2, 2, 2, 2, 2, 2, 2, 2, 2, 2, 0, 2, 0, 2, 2, 0, 2, 2, 0, 0, 0,\n",
       "        2, 0, 2, 0, 2, 0, 0, 0, 2, 0, 2, 0, 2, 2, 2, 2, 2, 2, 0, 2, 2, 2,\n",
       "        2, 0, 2]),\n",
       " 3: array([2, 2, 0, 2, 2, 2, 2, 2, 2, 0, 2, 0, 2, 2, 2, 2, 2, 2, 0, 0, 0, 2,\n",
       "        2, 0, 0, 2, 2, 2, 0, 2, 2, 2, 2, 2, 2, 2, 2, 2, 0, 2, 2, 2, 0, 2,\n",
       "        2, 0, 2, 2, 2, 2, 2, 2, 2, 2, 2, 0, 0, 0, 2, 2, 2, 0, 2, 0, 0, 2,\n",
       "        2, 2, 2, 2, 2, 2, 2, 2, 2, 2, 2, 2, 2, 2, 2, 2, 2, 2, 0, 0, 2, 0,\n",
       "        2, 2, 2, 2, 0, 2, 2, 2, 0, 2, 0, 2, 2, 2, 2, 2, 2, 2, 2, 2, 0, 2,\n",
       "        2, 2, 2, 2, 2, 2, 2, 2, 0, 2, 2, 0, 2, 2, 2, 2, 2, 2, 0, 2, 0, 2,\n",
       "        2, 0, 2, 2, 2, 0, 2, 0, 2, 0, 0, 2, 2, 2, 2, 0, 0, 2, 2, 2, 2, 2,\n",
       "        2, 2, 2, 2, 2, 2, 2, 2, 2, 2, 2, 2, 2, 2, 2, 2, 2, 2, 2, 0, 2, 0,\n",
       "        2, 2, 2, 2, 2, 0, 2, 0, 2, 2, 2, 2, 2, 2, 2, 2, 0, 2, 2, 2, 2, 2,\n",
       "        2, 2, 2, 2, 2, 2, 0, 2, 2, 2, 2, 0, 2, 0, 2, 2, 0, 2, 2, 2, 0, 2,\n",
       "        2, 0, 2, 2, 2, 0, 0, 2, 2, 0, 2, 0, 2, 0, 2, 2, 2, 2, 0, 2, 2, 2,\n",
       "        2, 0, 2]),\n",
       " 4: array([2, 2, 2, 2, 2, 2, 0, 2, 2, 0, 2, 2, 2, 2, 2, 2, 2, 2, 0, 2, 0, 2,\n",
       "        2, 0, 0, 2, 2, 2, 2, 2, 2, 2, 2, 2, 2, 2, 2, 2, 0, 2, 2, 2, 2, 2,\n",
       "        2, 2, 2, 2, 2, 2, 2, 2, 2, 2, 2, 0, 0, 0, 2, 2, 2, 0, 2, 0, 0, 2,\n",
       "        2, 2, 2, 2, 2, 2, 2, 2, 2, 2, 2, 2, 2, 2, 2, 2, 2, 2, 0, 0, 2, 0,\n",
       "        2, 2, 2, 2, 0, 2, 2, 2, 0, 0, 0, 2, 2, 2, 2, 2, 2, 2, 2, 2, 2, 2,\n",
       "        2, 2, 2, 2, 2, 2, 2, 2, 0, 2, 2, 0, 2, 2, 0, 2, 2, 0, 0, 2, 0, 2,\n",
       "        2, 0, 2, 2, 2, 0, 2, 2, 2, 0, 0, 2, 2, 2, 2, 0, 0, 2, 2, 2, 2, 0,\n",
       "        2, 2, 2, 2, 2, 2, 2, 2, 2, 2, 2, 2, 2, 2, 2, 2, 2, 0, 2, 2, 2, 0,\n",
       "        2, 2, 2, 2, 2, 0, 2, 0, 2, 2, 2, 2, 2, 2, 2, 0, 0, 2, 0, 2, 2, 2,\n",
       "        2, 2, 2, 2, 2, 2, 0, 2, 2, 2, 2, 0, 2, 0, 2, 2, 0, 2, 2, 0, 2, 2,\n",
       "        2, 0, 2, 2, 2, 0, 0, 2, 2, 0, 2, 0, 2, 2, 2, 2, 2, 0, 0, 2, 2, 2,\n",
       "        2, 0, 2]),\n",
       " 5: array([2, 0, 0, 2, 2, 2, 2, 2, 2, 0, 2, 2, 2, 2, 2, 2, 2, 2, 2, 2, 2, 2,\n",
       "        2, 0, 0, 2, 2, 0, 2, 2, 2, 2, 2, 2, 2, 2, 2, 2, 0, 2, 2, 2, 0, 2,\n",
       "        2, 2, 2, 2, 2, 2, 2, 2, 2, 2, 2, 2, 2, 2, 2, 2, 0, 0, 2, 0, 0, 2,\n",
       "        2, 2, 2, 2, 2, 0, 0, 2, 2, 2, 0, 2, 2, 2, 2, 2, 2, 2, 0, 2, 2, 0,\n",
       "        2, 2, 2, 2, 0, 2, 2, 0, 0, 0, 0, 2, 2, 0, 2, 2, 2, 0, 2, 2, 2, 2,\n",
       "        2, 2, 2, 2, 2, 2, 2, 2, 0, 2, 2, 2, 2, 0, 0, 2, 2, 2, 0, 2, 0, 2,\n",
       "        2, 2, 2, 2, 2, 2, 2, 0, 2, 0, 2, 2, 2, 2, 2, 0, 0, 2, 2, 2, 2, 2,\n",
       "        2, 2, 2, 2, 2, 2, 2, 2, 2, 2, 2, 2, 2, 2, 2, 2, 0, 2, 2, 2, 0, 0,\n",
       "        2, 2, 2, 2, 2, 0, 2, 2, 2, 2, 2, 2, 2, 2, 2, 2, 0, 2, 2, 2, 2, 2,\n",
       "        2, 2, 2, 2, 2, 2, 2, 2, 2, 2, 2, 2, 2, 2, 0, 2, 2, 2, 2, 2, 2, 2,\n",
       "        2, 0, 2, 0, 2, 0, 0, 2, 2, 0, 2, 2, 2, 2, 2, 2, 2, 2, 0, 2, 2, 2,\n",
       "        2, 2, 2]),\n",
       " 6: array([2, 0, 2, 2, 2, 2, 0, 2, 2, 2, 2, 0, 2, 2, 2, 2, 2, 0, 2, 2, 2, 2,\n",
       "        2, 0, 0, 2, 2, 0, 2, 0, 2, 2, 0, 2, 2, 2, 2, 2, 0, 2, 2, 2, 0, 2,\n",
       "        2, 2, 2, 0, 2, 2, 2, 2, 2, 2, 2, 2, 2, 2, 2, 2, 0, 0, 2, 2, 2, 2,\n",
       "        2, 2, 2, 2, 2, 2, 0, 2, 2, 2, 0, 2, 2, 2, 2, 2, 2, 2, 0, 2, 2, 0,\n",
       "        2, 2, 2, 2, 0, 2, 2, 0, 0, 2, 0, 2, 2, 0, 2, 2, 2, 0, 2, 2, 0, 2,\n",
       "        0, 2, 2, 2, 2, 2, 2, 2, 0, 2, 2, 0, 2, 0, 2, 2, 2, 2, 0, 2, 0, 2,\n",
       "        0, 2, 2, 2, 2, 0, 2, 2, 2, 0, 2, 2, 2, 0, 2, 0, 0, 2, 2, 2, 2, 2,\n",
       "        2, 0, 0, 2, 2, 0, 2, 2, 2, 2, 2, 2, 2, 2, 2, 2, 0, 0, 2, 2, 2, 0,\n",
       "        2, 0, 2, 0, 2, 0, 2, 2, 2, 2, 2, 0, 2, 2, 2, 2, 0, 0, 2, 2, 2, 2,\n",
       "        2, 0, 0, 2, 2, 2, 2, 2, 2, 2, 0, 2, 2, 0, 0, 0, 2, 2, 2, 0, 0, 2,\n",
       "        2, 0, 2, 0, 2, 0, 0, 2, 2, 0, 0, 2, 2, 0, 2, 2, 2, 2, 0, 2, 2, 2,\n",
       "        2, 2, 2]),\n",
       " 7: array([2, 0, 2, 2, 2, 2, 2, 2, 2, 2, 2, 2, 2, 2, 2, 2, 2, 2, 2, 2, 0, 2,\n",
       "        2, 2, 0, 2, 2, 2, 2, 2, 2, 2, 2, 2, 2, 2, 2, 2, 2, 2, 2, 2, 2, 2,\n",
       "        2, 2, 2, 0, 2, 2, 2, 2, 2, 2, 2, 2, 2, 2, 2, 2, 2, 2, 2, 2, 2, 2,\n",
       "        2, 2, 2, 2, 2, 2, 0, 2, 2, 2, 2, 2, 2, 2, 2, 2, 2, 2, 0, 2, 2, 0,\n",
       "        2, 2, 2, 0, 2, 2, 2, 2, 2, 2, 2, 2, 2, 0, 2, 2, 2, 2, 2, 2, 2, 2,\n",
       "        2, 2, 2, 2, 2, 2, 2, 2, 0, 2, 2, 2, 2, 2, 2, 2, 2, 2, 0, 2, 0, 2,\n",
       "        2, 2, 2, 2, 2, 2, 2, 2, 2, 2, 2, 2, 2, 2, 2, 2, 2, 2, 2, 2, 2, 2,\n",
       "        2, 2, 2, 2, 2, 2, 2, 2, 2, 2, 2, 2, 2, 2, 2, 2, 2, 2, 2, 2, 2, 0,\n",
       "        2, 0, 2, 2, 2, 2, 2, 2, 2, 2, 2, 2, 2, 2, 2, 2, 2, 2, 2, 2, 2, 2,\n",
       "        2, 2, 2, 2, 2, 2, 2, 2, 2, 2, 2, 2, 2, 0, 2, 0, 2, 2, 2, 2, 2, 2,\n",
       "        2, 0, 2, 0, 2, 2, 2, 2, 2, 2, 2, 2, 2, 2, 2, 2, 2, 2, 2, 2, 2, 2,\n",
       "        2, 2, 2]),\n",
       " 8: array([2, 0, 2, 2, 2, 2, 2, 2, 2, 2, 2, 2, 2, 2, 2, 2, 2, 2, 2, 2, 0, 2,\n",
       "        2, 0, 0, 2, 2, 0, 2, 2, 2, 0, 2, 2, 2, 2, 0, 2, 2, 2, 2, 2, 0, 2,\n",
       "        2, 2, 2, 0, 2, 2, 2, 2, 2, 2, 2, 2, 2, 2, 2, 2, 0, 2, 2, 2, 2, 2,\n",
       "        2, 2, 2, 2, 0, 2, 0, 2, 2, 2, 2, 2, 2, 2, 2, 2, 2, 2, 0, 2, 2, 0,\n",
       "        2, 2, 2, 0, 2, 2, 2, 0, 0, 2, 0, 2, 2, 0, 2, 2, 2, 0, 2, 2, 2, 2,\n",
       "        2, 2, 2, 2, 2, 2, 2, 2, 0, 2, 2, 2, 2, 2, 2, 2, 2, 2, 0, 2, 0, 2,\n",
       "        0, 2, 2, 0, 2, 2, 2, 2, 2, 0, 2, 2, 2, 0, 2, 0, 2, 2, 2, 2, 2, 2,\n",
       "        2, 2, 2, 2, 2, 2, 2, 2, 2, 2, 2, 2, 2, 2, 2, 2, 2, 2, 2, 2, 0, 0,\n",
       "        2, 0, 2, 2, 2, 2, 2, 2, 2, 2, 2, 0, 2, 2, 2, 2, 0, 2, 2, 2, 2, 2,\n",
       "        2, 2, 2, 2, 2, 2, 2, 2, 2, 2, 2, 2, 2, 0, 0, 0, 2, 2, 2, 2, 2, 2,\n",
       "        2, 0, 2, 0, 2, 2, 2, 2, 2, 2, 0, 2, 2, 2, 2, 2, 2, 2, 2, 2, 2, 0,\n",
       "        2, 2, 2]),\n",
       " 9: array([2, 0, 2, 2, 2, 2, 2, 2, 2, 2, 2, 0, 2, 2, 2, 2, 2, 2, 2, 2, 0, 2,\n",
       "        2, 0, 0, 2, 2, 0, 2, 2, 2, 0, 2, 2, 2, 2, 0, 2, 0, 2, 2, 2, 2, 2,\n",
       "        2, 2, 2, 0, 2, 2, 2, 2, 2, 2, 2, 2, 2, 2, 2, 2, 0, 2, 2, 2, 2, 2,\n",
       "        2, 2, 2, 2, 2, 2, 0, 2, 2, 2, 2, 2, 2, 2, 2, 2, 2, 2, 0, 2, 2, 0,\n",
       "        2, 2, 2, 2, 0, 2, 2, 0, 0, 2, 0, 2, 2, 0, 2, 2, 2, 2, 2, 2, 2, 2,\n",
       "        2, 2, 2, 2, 0, 2, 2, 2, 0, 2, 2, 2, 2, 2, 2, 2, 2, 2, 0, 2, 0, 2,\n",
       "        2, 2, 2, 0, 2, 2, 2, 2, 2, 2, 2, 2, 2, 0, 2, 0, 0, 2, 2, 2, 2, 2,\n",
       "        2, 2, 2, 2, 2, 2, 2, 2, 2, 2, 0, 2, 2, 2, 2, 2, 2, 2, 2, 2, 2, 0,\n",
       "        2, 0, 2, 2, 2, 2, 2, 2, 2, 2, 2, 0, 2, 2, 2, 2, 2, 2, 2, 2, 2, 2,\n",
       "        2, 0, 0, 2, 2, 2, 2, 2, 2, 2, 2, 2, 2, 0, 0, 2, 0, 2, 2, 2, 2, 2,\n",
       "        2, 0, 2, 0, 2, 0, 2, 2, 2, 2, 0, 2, 2, 0, 2, 2, 2, 2, 0, 2, 2, 0,\n",
       "        2, 2, 2]),\n",
       " 10: array([2, 2, 2, 2, 2, 2, 2, 2, 2, 2, 2, 0, 2, 2, 2, 2, 2, 2, 2, 2, 0, 2,\n",
       "        2, 2, 0, 2, 2, 0, 2, 2, 2, 0, 2, 2, 2, 2, 0, 2, 2, 2, 2, 2, 2, 2,\n",
       "        2, 2, 2, 2, 2, 2, 2, 2, 2, 2, 2, 2, 2, 2, 0, 2, 2, 2, 2, 2, 2, 2,\n",
       "        2, 2, 2, 2, 2, 2, 0, 2, 2, 2, 2, 2, 2, 2, 2, 2, 2, 2, 0, 2, 2, 0,\n",
       "        2, 2, 2, 2, 0, 2, 2, 0, 0, 2, 2, 2, 2, 0, 2, 2, 2, 0, 2, 2, 2, 2,\n",
       "        2, 2, 2, 2, 2, 2, 2, 2, 0, 2, 2, 2, 2, 2, 2, 2, 2, 2, 0, 2, 0, 2,\n",
       "        2, 2, 0, 0, 2, 2, 2, 2, 2, 2, 2, 2, 2, 0, 2, 2, 0, 2, 2, 2, 2, 2,\n",
       "        2, 2, 2, 2, 2, 2, 2, 2, 2, 2, 0, 2, 2, 2, 2, 2, 2, 2, 2, 2, 2, 0,\n",
       "        2, 0, 2, 2, 2, 2, 2, 2, 2, 2, 2, 0, 2, 2, 2, 2, 2, 2, 2, 2, 2, 2,\n",
       "        2, 0, 0, 2, 2, 2, 2, 2, 2, 2, 2, 2, 2, 2, 0, 2, 0, 2, 2, 2, 2, 2,\n",
       "        2, 0, 2, 0, 2, 2, 2, 2, 2, 2, 0, 2, 2, 0, 2, 2, 2, 2, 2, 2, 2, 2,\n",
       "        2, 2, 2]),\n",
       " 11: array([2, 2, 2, 2, 2, 2, 2, 2, 2, 2, 2, 0, 2, 2, 2, 2, 2, 2, 2, 2, 0, 2,\n",
       "        2, 2, 0, 2, 2, 0, 2, 2, 2, 0, 2, 2, 2, 2, 0, 2, 2, 2, 2, 2, 2, 2,\n",
       "        2, 2, 2, 2, 2, 2, 2, 2, 2, 2, 2, 2, 2, 2, 0, 2, 2, 2, 2, 2, 2, 2,\n",
       "        2, 2, 2, 2, 2, 2, 0, 2, 2, 2, 2, 2, 2, 2, 2, 2, 2, 2, 0, 2, 2, 0,\n",
       "        2, 2, 2, 2, 0, 2, 2, 0, 0, 2, 2, 2, 2, 0, 2, 2, 2, 0, 2, 2, 2, 2,\n",
       "        2, 2, 2, 2, 2, 2, 2, 2, 0, 2, 2, 2, 2, 2, 2, 2, 2, 2, 0, 2, 0, 2,\n",
       "        2, 2, 0, 0, 2, 2, 2, 2, 2, 2, 2, 2, 2, 0, 2, 2, 0, 2, 2, 2, 2, 2,\n",
       "        2, 2, 2, 2, 2, 2, 2, 2, 2, 2, 0, 2, 2, 2, 2, 2, 2, 2, 2, 2, 2, 0,\n",
       "        2, 0, 2, 2, 2, 2, 2, 2, 2, 2, 2, 0, 2, 2, 2, 2, 2, 2, 2, 2, 2, 2,\n",
       "        2, 0, 2, 2, 2, 2, 2, 2, 2, 2, 2, 2, 2, 2, 0, 2, 2, 2, 2, 2, 2, 2,\n",
       "        2, 0, 2, 0, 2, 2, 2, 2, 2, 2, 0, 2, 2, 2, 2, 2, 2, 2, 2, 2, 2, 2,\n",
       "        2, 2, 2]),\n",
       " 12: array([2, 2, 2, 2, 2, 2, 2, 2, 2, 2, 2, 0, 2, 2, 2, 2, 2, 2, 2, 2, 0, 2,\n",
       "        2, 0, 0, 2, 2, 0, 2, 2, 2, 0, 2, 2, 2, 2, 0, 2, 2, 2, 2, 2, 2, 2,\n",
       "        2, 2, 2, 2, 2, 2, 2, 2, 2, 2, 2, 2, 2, 2, 2, 2, 2, 2, 2, 2, 2, 2,\n",
       "        2, 2, 2, 2, 2, 2, 0, 2, 2, 2, 2, 2, 2, 2, 2, 2, 2, 2, 0, 2, 2, 0,\n",
       "        2, 2, 2, 2, 0, 2, 2, 0, 0, 2, 2, 2, 2, 0, 2, 2, 2, 0, 2, 2, 2, 2,\n",
       "        2, 2, 2, 2, 2, 2, 2, 2, 0, 2, 2, 2, 2, 2, 2, 2, 2, 2, 0, 2, 0, 2,\n",
       "        2, 2, 0, 0, 2, 2, 2, 2, 2, 2, 2, 2, 2, 0, 2, 2, 0, 2, 2, 2, 2, 2,\n",
       "        2, 2, 2, 2, 2, 2, 2, 2, 2, 2, 0, 2, 2, 2, 2, 2, 2, 2, 2, 2, 2, 0,\n",
       "        2, 0, 2, 2, 2, 2, 2, 2, 2, 2, 2, 0, 2, 2, 2, 2, 2, 2, 2, 2, 2, 2,\n",
       "        2, 0, 0, 2, 2, 2, 2, 2, 2, 2, 2, 2, 2, 2, 0, 2, 0, 2, 2, 2, 2, 2,\n",
       "        2, 0, 2, 0, 2, 2, 2, 2, 2, 2, 0, 2, 0, 2, 2, 2, 2, 2, 2, 2, 2, 2,\n",
       "        2, 2, 2]),\n",
       " 13: array([2, 2, 2, 2, 2, 2, 2, 2, 2, 2, 2, 0, 2, 2, 2, 2, 2, 2, 2, 2, 0, 2,\n",
       "        2, 0, 0, 2, 2, 0, 2, 2, 2, 0, 2, 2, 2, 2, 0, 2, 2, 2, 2, 2, 2, 2,\n",
       "        2, 2, 2, 2, 2, 0, 0, 2, 2, 2, 2, 2, 2, 2, 2, 2, 2, 2, 2, 2, 2, 2,\n",
       "        2, 2, 2, 2, 2, 2, 2, 2, 2, 0, 2, 2, 2, 2, 2, 2, 2, 2, 0, 2, 2, 2,\n",
       "        0, 2, 2, 2, 0, 2, 2, 0, 0, 2, 2, 2, 2, 0, 2, 2, 2, 0, 2, 2, 2, 2,\n",
       "        2, 2, 2, 2, 2, 2, 2, 2, 0, 2, 2, 2, 2, 2, 2, 2, 2, 2, 0, 2, 0, 2,\n",
       "        2, 2, 0, 0, 2, 2, 2, 2, 2, 2, 2, 2, 2, 0, 2, 2, 0, 2, 0, 2, 2, 2,\n",
       "        2, 2, 2, 2, 2, 2, 0, 2, 2, 2, 0, 2, 2, 2, 2, 2, 2, 2, 2, 2, 2, 0,\n",
       "        2, 0, 2, 2, 2, 2, 2, 2, 2, 0, 2, 0, 2, 2, 2, 0, 0, 2, 2, 2, 0, 2,\n",
       "        2, 0, 0, 2, 2, 2, 2, 2, 2, 2, 2, 2, 2, 2, 0, 2, 0, 2, 2, 2, 2, 2,\n",
       "        2, 0, 2, 0, 2, 2, 2, 2, 2, 2, 0, 2, 2, 2, 2, 2, 2, 2, 2, 2, 2, 2,\n",
       "        2, 2, 2]),\n",
       " 14: array([2, 2, 2, 2, 2, 2, 2, 2, 2, 2, 2, 0, 2, 2, 2, 2, 2, 2, 2, 2, 2, 2,\n",
       "        2, 0, 0, 2, 2, 2, 2, 2, 2, 0, 2, 2, 2, 2, 2, 2, 2, 2, 2, 2, 2, 2,\n",
       "        2, 2, 2, 2, 2, 2, 2, 2, 2, 2, 2, 2, 2, 2, 2, 2, 2, 2, 2, 2, 2, 2,\n",
       "        2, 2, 2, 2, 2, 2, 2, 2, 2, 0, 2, 2, 2, 2, 2, 2, 2, 2, 0, 2, 2, 2,\n",
       "        2, 2, 2, 2, 0, 2, 2, 2, 0, 2, 2, 2, 2, 0, 2, 2, 2, 0, 2, 2, 2, 2,\n",
       "        2, 0, 2, 2, 2, 2, 2, 2, 0, 2, 2, 2, 2, 2, 2, 2, 2, 0, 0, 2, 0, 2,\n",
       "        2, 2, 2, 0, 2, 2, 2, 2, 2, 0, 2, 2, 2, 2, 2, 2, 2, 2, 0, 2, 2, 2,\n",
       "        2, 2, 2, 2, 2, 2, 0, 2, 2, 2, 2, 2, 2, 2, 2, 2, 2, 2, 2, 2, 2, 0,\n",
       "        2, 0, 2, 2, 2, 2, 2, 2, 2, 2, 2, 0, 2, 2, 2, 0, 0, 2, 2, 2, 0, 2,\n",
       "        2, 0, 0, 2, 2, 2, 2, 2, 2, 2, 2, 2, 2, 2, 0, 2, 2, 2, 2, 2, 2, 2,\n",
       "        2, 0, 2, 2, 2, 2, 2, 2, 2, 2, 0, 2, 2, 2, 2, 2, 2, 2, 2, 2, 2, 2,\n",
       "        2, 2, 2]),\n",
       " 15: array([2, 2, 2, 2, 2, 2, 2, 2, 2, 2, 2, 0, 2, 2, 2, 2, 2, 2, 2, 2, 2, 2,\n",
       "        2, 2, 0, 2, 2, 2, 2, 2, 2, 0, 2, 2, 2, 2, 2, 2, 2, 2, 2, 2, 2, 2,\n",
       "        2, 2, 2, 2, 2, 2, 2, 2, 2, 2, 2, 2, 2, 2, 2, 2, 2, 2, 2, 2, 2, 2,\n",
       "        2, 2, 2, 2, 2, 2, 2, 2, 2, 0, 2, 2, 2, 2, 2, 2, 2, 2, 0, 2, 2, 2,\n",
       "        2, 2, 2, 2, 0, 2, 2, 2, 0, 2, 2, 2, 2, 2, 2, 2, 2, 0, 2, 2, 2, 2,\n",
       "        2, 2, 2, 2, 2, 2, 2, 2, 0, 2, 2, 2, 2, 2, 2, 2, 2, 2, 0, 2, 0, 2,\n",
       "        2, 2, 2, 0, 2, 2, 2, 2, 2, 0, 2, 2, 2, 0, 2, 2, 2, 2, 0, 2, 2, 2,\n",
       "        2, 2, 2, 2, 2, 2, 0, 2, 2, 2, 2, 2, 2, 2, 2, 2, 2, 2, 2, 2, 2, 0,\n",
       "        2, 0, 2, 2, 2, 2, 2, 2, 2, 2, 2, 0, 2, 2, 2, 2, 0, 2, 2, 2, 0, 2,\n",
       "        2, 0, 0, 2, 2, 2, 2, 2, 2, 2, 2, 2, 2, 2, 0, 2, 2, 2, 2, 2, 2, 2,\n",
       "        2, 0, 2, 2, 2, 2, 2, 2, 2, 2, 0, 2, 2, 2, 2, 2, 2, 2, 2, 2, 2, 2,\n",
       "        2, 2, 2]),\n",
       " 16: array([2, 2, 2, 2, 2, 2, 2, 0, 2, 2, 2, 0, 2, 2, 2, 2, 2, 2, 2, 2, 2, 2,\n",
       "        2, 2, 0, 2, 2, 2, 2, 2, 2, 2, 2, 2, 2, 2, 0, 2, 2, 2, 2, 2, 2, 2,\n",
       "        2, 2, 2, 2, 2, 0, 2, 2, 2, 2, 2, 2, 2, 2, 2, 2, 2, 2, 2, 2, 2, 2,\n",
       "        2, 2, 2, 2, 2, 2, 2, 2, 2, 0, 2, 2, 2, 2, 2, 2, 2, 2, 0, 2, 2, 2,\n",
       "        2, 2, 2, 2, 0, 2, 2, 2, 0, 2, 2, 2, 2, 0, 2, 2, 2, 0, 2, 2, 2, 2,\n",
       "        2, 0, 2, 2, 2, 2, 2, 2, 0, 2, 2, 2, 2, 2, 2, 2, 2, 2, 0, 2, 0, 2,\n",
       "        2, 2, 2, 0, 2, 2, 2, 2, 2, 0, 2, 2, 2, 0, 2, 2, 2, 2, 0, 2, 2, 2,\n",
       "        2, 2, 2, 2, 2, 2, 0, 2, 2, 2, 2, 0, 2, 0, 2, 2, 2, 2, 2, 2, 2, 0,\n",
       "        2, 0, 2, 2, 2, 2, 2, 0, 2, 2, 2, 0, 2, 2, 2, 0, 2, 2, 2, 2, 0, 2,\n",
       "        2, 0, 0, 2, 2, 2, 2, 2, 2, 2, 0, 2, 2, 2, 0, 2, 2, 2, 2, 2, 2, 2,\n",
       "        2, 0, 2, 2, 2, 2, 2, 2, 2, 2, 2, 2, 2, 2, 2, 2, 2, 2, 2, 2, 2, 2,\n",
       "        2, 2, 2]),\n",
       " 17: array([2, 2, 2, 2, 2, 2, 2, 0, 2, 2, 2, 0, 2, 2, 2, 2, 2, 2, 2, 2, 2, 2,\n",
       "        2, 2, 0, 2, 2, 2, 2, 2, 2, 0, 2, 2, 2, 2, 0, 2, 0, 2, 2, 2, 2, 2,\n",
       "        2, 2, 2, 2, 2, 0, 2, 2, 2, 2, 2, 2, 2, 2, 2, 2, 2, 2, 2, 2, 2, 2,\n",
       "        2, 2, 2, 2, 2, 2, 2, 2, 2, 0, 2, 2, 2, 2, 2, 2, 2, 2, 0, 2, 2, 2,\n",
       "        2, 2, 2, 2, 0, 2, 2, 2, 0, 2, 2, 2, 2, 0, 2, 2, 2, 2, 2, 2, 2, 2,\n",
       "        2, 0, 2, 2, 2, 2, 2, 2, 0, 2, 2, 2, 2, 2, 2, 2, 2, 2, 0, 2, 0, 2,\n",
       "        2, 2, 2, 0, 2, 2, 2, 2, 2, 0, 2, 2, 2, 0, 2, 2, 2, 2, 0, 2, 2, 2,\n",
       "        2, 2, 2, 2, 2, 2, 0, 2, 2, 2, 2, 0, 2, 0, 2, 2, 2, 2, 2, 2, 2, 0,\n",
       "        2, 0, 2, 2, 2, 2, 2, 0, 2, 0, 2, 0, 2, 2, 2, 0, 0, 2, 2, 2, 0, 2,\n",
       "        2, 0, 0, 2, 2, 2, 2, 2, 2, 2, 2, 2, 2, 2, 0, 2, 0, 0, 2, 0, 2, 2,\n",
       "        2, 0, 2, 2, 2, 2, 2, 2, 2, 2, 0, 2, 2, 2, 2, 2, 2, 2, 0, 2, 2, 2,\n",
       "        2, 2, 2]),\n",
       " 18: array([2, 2, 2, 2, 2, 2, 2, 0, 2, 2, 2, 0, 2, 2, 2, 2, 2, 2, 2, 2, 2, 2,\n",
       "        2, 2, 0, 2, 2, 2, 2, 2, 2, 2, 0, 2, 2, 2, 2, 2, 0, 2, 2, 2, 2, 2,\n",
       "        2, 2, 2, 2, 2, 2, 2, 2, 2, 2, 2, 2, 2, 2, 0, 2, 2, 2, 2, 2, 2, 2,\n",
       "        2, 2, 2, 2, 2, 2, 2, 2, 2, 2, 2, 2, 2, 2, 2, 2, 2, 2, 0, 0, 2, 2,\n",
       "        2, 2, 2, 2, 0, 2, 2, 2, 0, 2, 2, 2, 2, 0, 2, 2, 2, 0, 2, 2, 2, 2,\n",
       "        2, 0, 2, 2, 2, 2, 2, 2, 0, 2, 2, 2, 2, 2, 2, 2, 2, 2, 0, 2, 0, 2,\n",
       "        2, 0, 2, 0, 2, 2, 2, 2, 0, 2, 2, 2, 2, 0, 2, 2, 0, 2, 2, 2, 2, 2,\n",
       "        2, 2, 2, 2, 2, 2, 2, 2, 0, 2, 2, 0, 2, 2, 2, 2, 2, 2, 2, 2, 2, 0,\n",
       "        2, 0, 0, 2, 2, 0, 2, 2, 2, 2, 2, 0, 2, 2, 2, 0, 0, 2, 2, 2, 0, 0,\n",
       "        2, 2, 2, 2, 2, 2, 2, 2, 2, 2, 2, 2, 2, 0, 0, 2, 2, 0, 2, 0, 0, 2,\n",
       "        2, 0, 2, 2, 2, 2, 2, 2, 2, 2, 2, 2, 0, 2, 2, 2, 2, 2, 0, 2, 2, 2,\n",
       "        2, 2, 2]),\n",
       " 19: array([0, 2, 2, 2, 2, 2, 2, 0, 2, 2, 2, 0, 2, 2, 2, 2, 2, 2, 2, 2, 0, 2,\n",
       "        2, 2, 0, 0, 2, 2, 2, 2, 0, 2, 2, 2, 2, 2, 0, 2, 2, 2, 2, 2, 2, 2,\n",
       "        2, 2, 2, 2, 2, 2, 2, 2, 0, 2, 2, 2, 2, 2, 0, 2, 0, 2, 2, 2, 2, 2,\n",
       "        2, 2, 2, 2, 2, 2, 2, 2, 2, 0, 2, 2, 2, 2, 2, 2, 2, 2, 0, 0, 2, 0,\n",
       "        2, 2, 0, 2, 2, 2, 2, 2, 2, 2, 2, 2, 2, 0, 2, 2, 2, 2, 0, 2, 2, 2,\n",
       "        2, 2, 2, 2, 2, 2, 2, 2, 0, 2, 0, 2, 2, 0, 2, 2, 0, 2, 0, 2, 0, 2,\n",
       "        0, 0, 2, 0, 2, 2, 2, 2, 0, 2, 2, 2, 2, 0, 2, 2, 2, 2, 2, 2, 2, 2,\n",
       "        2, 2, 2, 0, 2, 2, 2, 2, 0, 2, 2, 2, 2, 2, 2, 2, 2, 2, 2, 2, 0, 0,\n",
       "        2, 2, 0, 2, 2, 0, 2, 2, 2, 2, 0, 0, 2, 2, 2, 2, 2, 2, 2, 2, 2, 0,\n",
       "        2, 2, 2, 2, 2, 2, 2, 2, 2, 2, 2, 2, 2, 0, 0, 2, 2, 0, 2, 0, 0, 2,\n",
       "        0, 0, 2, 2, 0, 2, 2, 2, 2, 2, 2, 2, 0, 0, 2, 2, 2, 0, 0, 2, 2, 2,\n",
       "        0, 2, 2]),\n",
       " 20: array([2, 2, 2, 2, 2, 2, 2, 2, 2, 2, 2, 2, 2, 2, 2, 2, 2, 2, 2, 2, 0, 2,\n",
       "        2, 2, 0, 0, 2, 2, 2, 2, 2, 2, 2, 2, 2, 2, 0, 2, 2, 2, 2, 2, 2, 2,\n",
       "        2, 2, 2, 2, 2, 2, 2, 2, 0, 2, 2, 2, 2, 2, 0, 2, 0, 2, 2, 2, 2, 2,\n",
       "        2, 2, 2, 0, 2, 2, 2, 2, 2, 2, 2, 2, 2, 2, 2, 2, 2, 0, 0, 2, 2, 2,\n",
       "        2, 2, 0, 2, 2, 2, 2, 2, 2, 2, 2, 2, 2, 0, 2, 2, 2, 2, 2, 2, 2, 2,\n",
       "        2, 2, 2, 2, 2, 2, 2, 2, 0, 2, 0, 2, 2, 0, 2, 2, 0, 2, 0, 2, 0, 2,\n",
       "        0, 0, 2, 0, 2, 2, 2, 2, 0, 2, 2, 2, 2, 0, 2, 2, 2, 2, 2, 2, 2, 2,\n",
       "        2, 2, 2, 2, 2, 2, 2, 2, 0, 2, 2, 2, 2, 2, 2, 2, 2, 2, 2, 2, 0, 0,\n",
       "        2, 2, 0, 2, 2, 0, 2, 2, 2, 2, 0, 0, 2, 2, 2, 2, 2, 2, 2, 2, 2, 2,\n",
       "        2, 2, 2, 2, 2, 2, 2, 2, 2, 2, 2, 2, 2, 0, 0, 2, 2, 2, 2, 0, 0, 2,\n",
       "        2, 2, 2, 2, 2, 2, 2, 2, 2, 2, 2, 2, 0, 0, 2, 2, 2, 2, 0, 2, 2, 2,\n",
       "        0, 2, 2]),\n",
       " 21: array([2, 2, 2, 2, 2, 2, 2, 0, 2, 2, 2, 2, 2, 2, 2, 2, 2, 2, 2, 2, 2, 2,\n",
       "        2, 2, 0, 0, 2, 2, 2, 2, 2, 0, 2, 2, 2, 2, 0, 2, 2, 2, 2, 2, 2, 2,\n",
       "        2, 2, 2, 2, 2, 2, 2, 2, 2, 2, 2, 2, 2, 0, 0, 2, 0, 2, 2, 2, 2, 2,\n",
       "        0, 2, 0, 2, 2, 2, 2, 2, 2, 2, 2, 2, 2, 2, 2, 2, 2, 2, 0, 2, 2, 2,\n",
       "        2, 2, 0, 0, 2, 2, 2, 2, 0, 2, 2, 2, 2, 0, 2, 2, 2, 2, 2, 2, 2, 2,\n",
       "        2, 2, 2, 2, 2, 2, 2, 2, 0, 2, 0, 2, 2, 2, 2, 2, 0, 2, 0, 2, 0, 2,\n",
       "        2, 2, 2, 0, 2, 2, 2, 2, 0, 2, 2, 2, 2, 0, 2, 2, 0, 2, 2, 2, 2, 2,\n",
       "        2, 0, 2, 2, 2, 2, 0, 2, 0, 2, 2, 2, 2, 2, 2, 2, 2, 2, 2, 2, 0, 0,\n",
       "        2, 2, 2, 2, 2, 2, 2, 2, 2, 2, 2, 0, 2, 2, 2, 2, 2, 2, 2, 2, 2, 2,\n",
       "        2, 2, 2, 2, 2, 2, 2, 2, 2, 2, 2, 2, 2, 0, 0, 2, 2, 2, 2, 2, 2, 2,\n",
       "        2, 0, 2, 0, 0, 2, 2, 2, 2, 2, 2, 2, 2, 2, 2, 2, 2, 0, 2, 2, 2, 2,\n",
       "        0, 2, 2]),\n",
       " 22: array([2, 0, 2, 2, 2, 2, 2, 0, 2, 2, 2, 2, 2, 2, 2, 2, 2, 2, 2, 2, 2, 2,\n",
       "        2, 2, 0, 0, 2, 2, 2, 2, 2, 0, 2, 2, 2, 2, 2, 2, 2, 2, 2, 2, 0, 2,\n",
       "        2, 2, 2, 2, 2, 2, 0, 2, 2, 2, 0, 2, 2, 0, 0, 2, 0, 2, 2, 2, 2, 2,\n",
       "        0, 2, 0, 2, 2, 2, 2, 0, 2, 0, 0, 0, 2, 2, 2, 2, 2, 2, 0, 2, 0, 0,\n",
       "        0, 2, 0, 0, 0, 2, 0, 0, 0, 2, 2, 2, 2, 0, 2, 2, 2, 2, 2, 2, 2, 2,\n",
       "        2, 2, 2, 0, 0, 2, 2, 2, 0, 2, 0, 2, 2, 2, 2, 2, 2, 2, 0, 2, 0, 2,\n",
       "        2, 2, 2, 0, 2, 2, 0, 0, 0, 2, 2, 2, 2, 0, 2, 2, 0, 2, 2, 2, 2, 2,\n",
       "        0, 0, 2, 2, 2, 2, 0, 2, 0, 2, 2, 2, 2, 2, 2, 2, 2, 2, 2, 2, 0, 0,\n",
       "        2, 0, 2, 2, 2, 2, 2, 2, 0, 2, 2, 0, 2, 2, 2, 2, 2, 0, 2, 2, 2, 0,\n",
       "        2, 2, 0, 2, 2, 2, 2, 2, 2, 2, 2, 2, 2, 2, 0, 2, 2, 2, 2, 2, 2, 0,\n",
       "        0, 0, 2, 0, 0, 2, 2, 2, 2, 2, 2, 2, 2, 2, 2, 0, 2, 0, 2, 2, 2, 2,\n",
       "        0, 2, 2]),\n",
       " 23: array([2, 2, 2, 2, 2, 2, 2, 2, 2, 2, 2, 2, 2, 2, 2, 2, 2, 2, 2, 2, 2, 2,\n",
       "        2, 2, 0, 2, 2, 2, 2, 2, 2, 2, 2, 2, 2, 2, 2, 2, 2, 2, 2, 2, 2, 2,\n",
       "        2, 2, 2, 2, 2, 2, 2, 2, 2, 2, 2, 2, 2, 0, 2, 2, 2, 2, 2, 2, 2, 2,\n",
       "        2, 2, 2, 2, 2, 2, 2, 2, 2, 2, 2, 2, 2, 2, 2, 2, 2, 2, 0, 2, 2, 2,\n",
       "        2, 2, 2, 2, 2, 2, 2, 2, 2, 2, 2, 2, 2, 2, 2, 2, 2, 2, 2, 2, 2, 2,\n",
       "        2, 2, 2, 2, 2, 2, 2, 2, 0, 2, 2, 2, 2, 2, 2, 2, 2, 2, 2, 2, 2, 2,\n",
       "        2, 2, 2, 2, 2, 2, 0, 2, 2, 2, 2, 2, 2, 2, 2, 2, 2, 2, 2, 2, 2, 2,\n",
       "        2, 2, 2, 2, 2, 2, 2, 2, 2, 2, 2, 2, 2, 2, 2, 2, 2, 2, 2, 2, 0, 0,\n",
       "        2, 2, 2, 2, 2, 2, 2, 2, 2, 2, 2, 0, 2, 2, 2, 2, 2, 2, 2, 2, 2, 2,\n",
       "        2, 2, 2, 2, 2, 2, 2, 2, 2, 2, 2, 2, 2, 0, 2, 2, 2, 2, 2, 2, 2, 2,\n",
       "        2, 2, 2, 2, 2, 2, 2, 2, 2, 2, 2, 2, 2, 2, 2, 2, 2, 0, 2, 2, 2, 2,\n",
       "        0, 2, 2]),\n",
       " 24: array([2, 0, 2, 2, 0, 2, 2, 0, 0, 0, 2, 0, 0, 2, 2, 0, 2, 2, 2, 0, 0, 2,\n",
       "        0, 0, 0, 0, 2, 0, 2, 0, 0, 0, 2, 0, 2, 2, 0, 0, 0, 0, 0, 2, 0, 2,\n",
       "        2, 0, 0, 0, 2, 2, 0, 2, 0, 2, 0, 0, 0, 0, 0, 2, 0, 2, 2, 0, 2, 2,\n",
       "        0, 2, 0, 0, 2, 2, 0, 2, 2, 0, 0, 0, 0, 0, 0, 2, 0, 0, 0, 0, 0, 0,\n",
       "        0, 0, 0, 0, 0, 0, 0, 0, 0, 0, 0, 2, 2, 0, 0, 2, 2, 0, 0, 2, 0, 0,\n",
       "        2, 2, 0, 0, 0, 2, 2, 2, 0, 2, 0, 0, 2, 0, 2, 2, 0, 0, 0, 0, 0, 0,\n",
       "        0, 0, 0, 0, 0, 2, 0, 0, 0, 2, 0, 0, 2, 0, 2, 0, 0, 0, 2, 2, 0, 2,\n",
       "        0, 2, 2, 0, 0, 2, 2, 0, 0, 0, 0, 2, 2, 0, 2, 0, 0, 0, 2, 2, 0, 0,\n",
       "        0, 0, 0, 2, 2, 2, 0, 2, 0, 0, 0, 0, 2, 0, 0, 0, 0, 0, 0, 0, 2, 0,\n",
       "        2, 0, 0, 2, 2, 0, 2, 0, 2, 2, 0, 0, 2, 0, 0, 2, 0, 2, 0, 0, 2, 0,\n",
       "        0, 0, 2, 0, 0, 0, 2, 2, 0, 2, 0, 2, 0, 0, 2, 0, 2, 0, 0, 2, 0, 0,\n",
       "        0, 2, 2]),\n",
       " 25: array([2, 0, 2, 2, 0, 2, 2, 0, 2, 0, 2, 0, 0, 2, 2, 0, 2, 2, 2, 0, 2, 2,\n",
       "        0, 0, 0, 2, 0, 0, 2, 0, 0, 0, 0, 0, 2, 2, 0, 0, 0, 0, 0, 2, 0, 2,\n",
       "        2, 0, 0, 0, 2, 2, 0, 2, 0, 2, 0, 0, 0, 0, 0, 2, 0, 2, 2, 0, 0, 2,\n",
       "        0, 2, 0, 0, 2, 2, 0, 2, 2, 0, 0, 0, 0, 0, 2, 2, 2, 0, 0, 0, 0, 0,\n",
       "        0, 0, 0, 0, 0, 0, 0, 0, 0, 0, 0, 2, 2, 0, 0, 2, 0, 0, 0, 0, 0, 0,\n",
       "        2, 2, 0, 0, 0, 2, 2, 2, 0, 2, 0, 0, 2, 0, 2, 2, 0, 2, 0, 0, 0, 0,\n",
       "        0, 0, 0, 0, 0, 0, 0, 0, 0, 2, 0, 0, 2, 0, 0, 0, 0, 0, 2, 2, 0, 2,\n",
       "        0, 2, 2, 0, 0, 0, 2, 0, 0, 0, 2, 2, 2, 0, 2, 0, 0, 0, 2, 2, 0, 0,\n",
       "        0, 0, 0, 2, 2, 2, 0, 0, 0, 0, 0, 0, 0, 0, 0, 0, 0, 2, 0, 0, 2, 0,\n",
       "        0, 0, 0, 2, 2, 0, 2, 0, 2, 2, 0, 0, 2, 0, 0, 2, 0, 2, 0, 0, 2, 0,\n",
       "        0, 0, 2, 0, 0, 0, 2, 2, 0, 2, 0, 2, 0, 0, 2, 0, 0, 0, 0, 2, 0, 0,\n",
       "        0, 2, 2]),\n",
       " 26: array([0, 0, 2, 2, 0, 0, 0, 0, 0, 0, 0, 0, 0, 0, 2, 0, 2, 0, 2, 0, 0, 0,\n",
       "        0, 0, 0, 0, 0, 0, 0, 0, 0, 0, 0, 0, 2, 0, 0, 0, 0, 0, 0, 0, 0, 0,\n",
       "        0, 0, 0, 0, 2, 0, 0, 0, 0, 0, 0, 0, 0, 0, 0, 2, 0, 2, 0, 0, 0, 0,\n",
       "        0, 2, 0, 0, 0, 0, 0, 0, 0, 0, 0, 0, 0, 0, 0, 2, 0, 0, 0, 0, 0, 0,\n",
       "        0, 0, 0, 0, 0, 0, 0, 0, 0, 0, 0, 2, 0, 0, 0, 2, 0, 0, 0, 0, 0, 0,\n",
       "        0, 0, 0, 0, 0, 0, 0, 0, 0, 2, 0, 0, 0, 0, 0, 0, 0, 0, 0, 0, 0, 0,\n",
       "        0, 0, 0, 0, 0, 0, 0, 0, 0, 0, 0, 0, 2, 0, 0, 0, 0, 0, 2, 2, 0, 0,\n",
       "        0, 0, 0, 0, 0, 0, 0, 0, 0, 0, 0, 0, 2, 0, 0, 0, 0, 0, 0, 2, 0, 0,\n",
       "        0, 0, 0, 2, 0, 0, 0, 0, 0, 0, 0, 0, 0, 0, 0, 0, 0, 0, 0, 0, 0, 0,\n",
       "        0, 0, 0, 0, 2, 0, 2, 0, 0, 0, 0, 0, 2, 0, 0, 2, 0, 0, 0, 0, 2, 0,\n",
       "        0, 0, 0, 0, 0, 0, 0, 2, 0, 0, 0, 0, 0, 0, 0, 0, 0, 0, 0, 0, 0, 0,\n",
       "        0, 0, 0]),\n",
       " 27: array([0, 0, 0, 0, 0, 0, 0, 0, 0, 0, 0, 0, 0, 0, 0, 0, 0, 0, 0, 0, 0, 0,\n",
       "        0, 0, 0, 0, 0, 0, 0, 0, 0, 0, 0, 0, 0, 0, 0, 0, 0, 0, 0, 0, 0, 0,\n",
       "        0, 0, 0, 0, 2, 0, 0, 0, 0, 0, 0, 0, 0, 0, 0, 2, 0, 0, 0, 0, 0, 0,\n",
       "        0, 0, 0, 0, 0, 0, 0, 0, 0, 0, 0, 0, 0, 0, 0, 0, 0, 0, 0, 0, 0, 0,\n",
       "        0, 0, 0, 0, 0, 0, 0, 0, 0, 0, 0, 0, 0, 0, 0, 0, 0, 0, 0, 0, 0, 0,\n",
       "        0, 0, 0, 0, 0, 0, 0, 0, 0, 0, 0, 0, 0, 0, 0, 0, 0, 0, 0, 0, 0, 0,\n",
       "        0, 0, 0, 0, 0, 0, 0, 0, 0, 0, 0, 0, 0, 0, 0, 0, 0, 0, 0, 0, 0, 0,\n",
       "        0, 0, 0, 0, 0, 0, 0, 0, 0, 0, 0, 0, 0, 0, 0, 0, 0, 0, 0, 0, 0, 0,\n",
       "        0, 0, 0, 0, 0, 0, 0, 0, 0, 0, 0, 0, 0, 0, 0, 0, 0, 0, 0, 0, 0, 0,\n",
       "        0, 0, 0, 0, 0, 0, 0, 0, 0, 0, 0, 0, 2, 0, 0, 2, 0, 0, 0, 0, 0, 0,\n",
       "        0, 0, 0, 0, 0, 0, 0, 0, 0, 0, 0, 0, 0, 0, 0, 0, 0, 0, 0, 0, 0, 0,\n",
       "        0, 0, 0])}"
      ]
     },
     "execution_count": 14,
     "metadata": {},
     "output_type": "execute_result"
    }
   ],
   "source": [
    "preds"
   ]
  },
  {
   "cell_type": "code",
   "execution_count": null,
   "metadata": {},
   "outputs": [
    {
     "name": "stderr",
     "output_type": "stream",
     "text": [
      "/tmp/ipykernel_666110/822879760.py:27: UserWarning: Attempting to set identical low and high ylims makes transformation singular; automatically expanding.\n",
      "  ax.set_ylim(min(min(ground_truth_accs), min(edit_accs))*0.95,\n"
     ]
    },
    {
     "data": {
      "image/png": "[encoded data removed]",
      "text/plain": [
       "<Figure size 1200x800 with 1 Axes>"
      ]
     },
     "metadata": {},
     "output_type": "display_data"
    }
   ],
   "source": [
    "import matplotlib.pyplot as plt\n",
    "import seaborn as sns\n",
    "from sklearn.metrics import accuracy_score\n",
    "\n",
    "# Calculate accuracies for each layer\n",
    "ground_truth_accs = [accuracy_score(forget_labels, preds[layer]) for layer in range(n_layers)]\n",
    "edit_accs = [accuracy_score(edit_labels, preds[layer]) for layer in range(n_layers)]\n",
    "\n",
    "# Set style\n",
    "# plt.style.use('seaborn')\n",
    "fig, ax = plt.subplots(figsize=(12, 8))\n",
    "\n",
    "# Plot lines\n",
    "layers = range(n_layers)\n",
    "ax.plot(layers, ground_truth_accs, 'o-', label='Ground Truth Accuracy', linewidth=2, markersize=8, color='#2ecc71')\n",
    "ax.plot(layers, edit_accs, 'o-', label='Edit Answer Accuracy', linewidth=2, markersize=8, color='#e74c3c')\n",
    "\n",
    "# Customize plot\n",
    "ax.set_xlabel('Layer', fontsize=12, fontweight='bold')\n",
    "ax.set_ylabel('Accuracy', fontsize=12, fontweight='bold')\n",
    "ax.set_title(f'Probe Accuracy by Layer: Ground Truth vs Edit Answer for {localization_type}', fontsize=14, fontweight='bold', pad=20)\n",
    "ax.grid(True, linestyle='--', alpha=0.7)\n",
    "ax.legend(fontsize=10, frameon=True, facecolor='white', edgecolor='gray')\n",
    "\n",
    "# Set axis limits with some padding\n",
    "ax.set_xlim(-0.5, n_layers-0.5)\n",
    "ax.set_ylim(min(min(ground_truth_accs), min(edit_accs))*0.95, \n",
    "            max(max(ground_truth_accs), max(edit_accs))*1.05)\n",
    "\n",
    "# Add minor gridlines\n",
    "ax.grid(True, which='minor', linestyle=':', alpha=0.4)\n",
    "\n",
    "# Customize ticks\n",
    "ax.tick_params(axis='both', which='major', labelsize=10)\n",
    "\n",
    "# Tight layout\n",
    "plt.tight_layout()\n",
    "plt.show()"
   ]
  },
  {
   "cell_type": "markdown",
   "metadata": {},
   "source": [
    "### Softprompt evals"
   ]
  },
  {
   "cell_type": "code",
   "execution_count": null,
   "metadata": {},
   "outputs": [
    {
     "data": {
      "application/vnd.jupyter.widget-view+json": {
       "model_id": "3c122325fb1c4b78900ce02ff9ca2259",
       "version_major": 2,
       "version_minor": 0
      },
      "text/plain": [
       "Loading checkpoint shards:   0%|          | 0/4 [00:00<?, ?it/s]"
      ]
     },
     "metadata": {},
     "output_type": "display_data"
    },
    {
     "name": "stdout",
     "output_type": "stream",
     "text": [
      "17.142484992 GB\n"
     ]
    }
   ],
   "source": [
    "# At the beginning of your script or notebook\n",
    "from datasets import load_dataset\n",
    "\n",
    "# Local imports\n",
    "from src import *\n",
    "\n",
    "# %%\n",
    "# Load the model\n",
    "# model = load_hf_model(\n",
    "#     \"PhillipGuo/gemma-manual_interp-forget_first_64_unsplit-inject_random_without_golf-run1\"\n",
    "# )\n",
    "# tokenizer = AutoTokenizer.from_pretrained(\"google/gemma-2-9b-it\")\n",
    "# model = load_hf_model(\"meta-llama/Meta-Llama-3-8B-Instruct\")\n",
    "\n",
    "model_name_or_path = \"google/gemma-7b\"\n",
    "model = AutoModelForCausalLM.from_pretrained(model_name_or_path, torch_dtype=torch.bfloat16)\n",
    "# model.cuda()\n",
    "tokenizer = AutoTokenizer.from_pretrained(model_name_or_path)\n",
    "tokenizer.pad_token_id = tokenizer.eos_token_id\n",
    "# encoder = DeepmindSparseAutoencoder.load_gemma2_sae(None, None, other_model_tokenizer=(model, tokenizer))\n",
    "\n",
    "print(torch.cuda.memory_allocated() / 10**9, \"GB\")"
   ]
  },
  {
   "cell_type": "code",
   "execution_count": null,
   "metadata": {},
   "outputs": [
    {
     "name": "stdout",
     "output_type": "stream",
     "text": [
      "0.0 GB\n"
     ]
    },
    {
     "name": "stderr",
     "output_type": "stream",
     "text": [
      "/tmp/ipykernel_1321645/501502305.py:5: FutureWarning: You are using `torch.load` with `weights_only=False` (the current default value), which uses the default pickle module implicitly. It is possible to construct malicious pickle data which will execute arbitrary code during unpickling (See https://github.com/pytorch/pytorch/blob/main/SECURITY.md#untrusted-models for more details). In a future release, the default value for `weights_only` will be flipped to `True`. This limits the functions that could be executed during unpickling. Arbitrary objects will no longer be allowed to be loaded via this mode unless they are explicitly allowlisted by the user via `torch.serialization.add_safe_globals`. We recommend you start setting `weights_only=True` for any use case where you don't have full control of the loaded file. Please open an issue on GitHub for any issues related to this experimental feature.\n",
      "  state_dict = torch.load(model_path)\n"
     ]
    },
    {
     "name": "stdout",
     "output_type": "stream",
     "text": [
      "17.075361792 GB\n",
      "17.075376128 GB\n"
     ]
    }
   ],
   "source": [
    "localization_type = \"manual_interp\"\n",
    "model_path = f\"results_rebuttal/gemma_forget_64_inject_random_without_golf/{localization_type}_run1/models/model.pt\"\n",
    "print(torch.cuda.memory_allocated() / 10**9, \"GB\")\n",
    "\n",
    "state_dict = torch.load(model_path)\n",
    "# Convert state dict to bfloat16\n",
    "state_dict = {k: v.to(torch.bfloat16) if isinstance(v, torch.Tensor) else v for k, v in state_dict.items()}\n",
    "print(torch.cuda.memory_allocated() / 10**9, \"GB\")\n",
    "model.load_state_dict(state_dict)\n",
    "model.cuda()\n",
    "del state_dict\n",
    "print(torch.cuda.memory_allocated() / 10**9, \"GB\")"
   ]
  },
  {
   "cell_type": "code",
   "execution_count": null,
   "metadata": {},
   "outputs": [
    {
     "name": "stdout",
     "output_type": "stream",
     "text": [
      "forget_indices: range(0, 64)\n",
      "Are you sure you want to split the forget set in a forget loss? Mostly makes sense in latent knowledge and unlearning\n"
     ]
    }
   ],
   "source": [
    "tokenizer.padding_side = \"right\"\n",
    "forget_kwargs = {\"forget_split\": \"first_64_split\", \"maintain_split\": None}\n",
    "maintain_kwargs = {\"forget_split\": \"first_64_split\", \"maintain_split\": \"split\"}\n",
    "inject_label = \"random_without_golf\"\n",
    "forget_sports_eval = SportsTask_Injection(batch_size=32, tokenizer=tokenizer, inject_label=inject_label, **forget_kwargs)"
   ]
  },
  {
   "cell_type": "code",
   "execution_count": null,
   "metadata": {},
   "outputs": [
    {
     "data": {
      "application/vnd.jupyter.widget-view+json": {
       "model_id": "dd3585dc555c406a8ea20fb89a35c6d9",
       "version_major": 2,
       "version_minor": 0
      },
      "text/plain": [
       "  0%|          | 0/128 [00:00<?, ?it/s]"
      ]
     },
     "metadata": {},
     "output_type": "display_data"
    },
    {
     "name": "stderr",
     "output_type": "stream",
     "text": [
      "Starting from v4.46, the `logits` model output will have the same type as the model (except at train time, where it will always be FP32)\n"
     ]
    },
    {
     "data": {
      "image/png": "[encoded data removed]",
      "text/plain": [
       "<Figure size 640x480 with 1 Axes>"
      ]
     },
     "metadata": {},
     "output_type": "display_data"
    }
   ],
   "source": [
    "# %%\n",
    "\n",
    "# encoder.sample_generations(\n",
    "#     [\"<bos>Tiger Woods is a professional golfer. Michael Jordan is a professional\"],\n",
    "#     format_inputs=False,\n",
    "#     max_new_tokens=1,\n",
    "#     return_examples=False,\n",
    "# )\n",
    "\n",
    "# %%\n",
    "from torch.nn.utils.rnn import pad_sequence\n",
    "\n",
    "def prepare_sport_classification_data(dataframe, tokenizer):\n",
    "    \"\"\"\n",
    "    Prepares tokenized data for sport classification task by combining prompts with sport labels\n",
    "    and creating appropriate masks for training.\n",
    "    \n",
    "    Args:\n",
    "        dataframe: DataFrame containing 'prompt' and 'sport' columns\n",
    "        tokenizer: Tokenizer instance for text processing\n",
    "        \n",
    "    Returns:\n",
    "        tokenized_sequences: Padded tensor of tokenized input sequences\n",
    "        label_positions: Boolean tensor marking positions of sport labels\n",
    "        original_prompts: List of original prompt texts\n",
    "    \"\"\"\n",
    "    tokenized_sequences = []\n",
    "    original_prompts = []\n",
    "    label_positions = []\n",
    "    \n",
    "    for _, row in dataframe.iterrows():\n",
    "        prompt_text = row[\"prompt\"]\n",
    "        original_prompts.append(tokenizer.bos_token + prompt_text)\n",
    "        sport_label = \" \" + row[\"sport\"]  # Add space before sport label\n",
    "\n",
    "        # Tokenize prompt and sport label separately\n",
    "        prompt_tokens = tokenizer(prompt_text)[\"input_ids\"]\n",
    "        sport_tokens = tokenizer(sport_label, add_special_tokens=False)[\"input_ids\"]\n",
    "        \n",
    "        # Combine tokens and create mask identifying label positions\n",
    "        combined_sequence = prompt_tokens + sport_tokens\n",
    "        sequence_mask = [0] * len(prompt_tokens) + [1] * len(sport_tokens)\n",
    "        \n",
    "        tokenized_sequences.append(torch.tensor(combined_sequence))\n",
    "        label_positions.append(torch.tensor(sequence_mask))\n",
    "    \n",
    "    # Pad all sequences to match longest sequence\n",
    "    padded_sequences = pad_sequence(tokenized_sequences, batch_first=True, \n",
    "                                  padding_value=tokenizer.pad_token_id)\n",
    "    padded_label_positions = pad_sequence(label_positions, batch_first=True, \n",
    "                                        padding_value=0)\n",
    "    \n",
    "    return padded_sequences, padded_label_positions.bool(), original_prompts\n",
    "\n",
    "# Split dataset and prepare train/test data\n",
    "# df = pd.read_csv(\"tasks/facts/data/sports.csv\")\n",
    "tokenizer.padding_side = \"left\"\n",
    "# sports_df = df.iloc[:64]  # Remove first 64 rows\n",
    "# split_index = sports_df.shape[0] // 2\n",
    "# training_df = sports_df.iloc[:split_index]\n",
    "# testing_df = sports_df.iloc[split_index:]\n",
    "training_df = forget_sports_eval.train_df\n",
    "testing_df = forget_sports_eval.test_df\n",
    "\n",
    "# Create training and testing datasets\n",
    "training_sequences, training_label_positions, training_prompts = prepare_sport_classification_data(\n",
    "    training_df, tokenizer)\n",
    "testing_sequences, testing_label_positions, testing_prompts = prepare_sport_classification_data(\n",
    "    testing_df, tokenizer)\n",
    "\n",
    "# %%\n",
    "from src.attacks import *\n",
    "import matplotlib.pyplot as plt\n",
    "\n",
    "loss_over_time, wrappers = train_universal_attack(\n",
    "    adv_tokens=training_sequences.cuda(),\n",
    "    target_mask=training_label_positions.cuda(),\n",
    "    model=model,\n",
    "    model_layers_module=\"model.layers\",\n",
    "    layer=[\"embedding\"],\n",
    "    epsilon=6.0,\n",
    "    learning_rate=1e-5,\n",
    "    n_steps=128,\n",
    "    batch_size=16,\n",
    "    return_loss_over_time=True,\n",
    "    adversary_type=\"soft_prompt\",\n",
    "    verbose=True,\n",
    ")\n",
    "\n",
    "plt.plot([x[\"toward\"] for x in loss_over_time])\n",
    "plt.title(\"Universal Soft Prompt Attack\")  # Adds a title to the plot\n",
    "plt.show()\n",
    "\n",
    "# %%\n",
    "\n",
    "# for wrapper in wrappers:\n",
    "#     wrapper.enabled = False\n",
    "\n",
    "# # with torch.autocast(device_type=\"cuda\"):\n",
    "# #     testing_outputs = encoder.sample_generations(\n",
    "# #         testing_prompts,\n",
    "# #         format_inputs=False,\n",
    "# #         max_new_tokens=1,\n",
    "# #         return_examples=False,\n",
    "# #         do_sample=False,\n",
    "# #     )\n",
    "\n",
    "# # num_correct = 0\n",
    "# # for x, y in zip([x.replace(tokenizer.pad_token, \"\") for x in tokenizer.batch_decode(testing_sequences)], testing_outputs):\n",
    "# #     if x == y:\n",
    "# #         num_correct += 1\n",
    "\n",
    "# forget_eval = SportTask()\n",
    "\n",
    "# print(f\"Accuracy: {num_correct / len(testing_prompts)*100}% ->\", end=\" \")\n",
    "\n",
    "\n",
    "# for wrapper in wrappers:\n",
    "#     wrapper.enabled = True\n",
    "\n",
    "# with torch.autocast(device_type=\"cuda\"):\n",
    "#     testing_outputs = encoder.sample_generations(\n",
    "#         testing_prompts,\n",
    "#         format_inputs=False,\n",
    "#         max_new_tokens=1,\n",
    "#         return_examples=False,\n",
    "#         do_sample=False,\n",
    "#     )\n",
    "\n",
    "# num_correct = 0\n",
    "# for x, y in zip([x.replace(tokenizer.pad_token, \"\") for x in tokenizer.batch_decode(testing_sequences)], testing_outputs):\n",
    "#     print(x, y)\n",
    "#     if x == y:\n",
    "#         num_correct += 1\n",
    "\n",
    "# print(f\"{num_correct / len(testing_prompts)*100}%\")\n",
    "\n",
    "# # %%\n",
    "\n",
    "# for wrapper in wrappers:\n",
    "#     wrapper.enabled = False\n",
    "\n",
    "# with torch.autocast(device_type=\"cuda\"):\n",
    "#     testing_outputs = encoder.sample_generations(\n",
    "#         testing_prompts,\n",
    "#         format_inputs=False,\n",
    "#         max_new_tokens=1,\n",
    "#         return_examples=False,\n",
    "#     )\n",
    "\n",
    "# num_correct = 0\n",
    "# for x, y in zip([x.replace(tokenizer.pad_token, \"\") for x in tokenizer.batch_decode(testing_sequences)], testing_outputs):\n",
    "#     if x == y:\n",
    "#         num_correct += 1\n",
    "\n",
    "# # %%\n"
   ]
  },
  {
   "cell_type": "code",
   "execution_count": null,
   "metadata": {},
   "outputs": [
    {
     "name": "stdout",
     "output_type": "stream",
     "text": [
      "forget_indices: range(0, 64)\n",
      "Are you sure you want to split the forget set in a forget loss? Mostly makes sense in latent knowledge and unlearning\n",
      "forget_indices: range(0, 64)\n",
      "Forget accuracy: 0.5178947448730469\n",
      "Forget accuracy with injected labels: 0.3576715886592865\n",
      "Maintain accuracy: 0.700095534324646\n"
     ]
    }
   ],
   "source": [
    "tokenizer.padding_side = \"right\"\n",
    "for wrapper in wrappers:\n",
    "    wrapper.enabled = True\n",
    "\n",
    "forget_kwargs = {\"forget_split\": \"first_64_split\", \"maintain_split\": None}\n",
    "maintain_kwargs = {\"forget_split\": \"first_64_split\", \"maintain_split\": \"split\"}\n",
    "inject_label = \"random_without_golf\"\n",
    "forget_sports_eval = SportsTask_Injection(batch_size=32, tokenizer=tokenizer, inject_label=inject_label, **forget_kwargs)\n",
    "maintain_sports_eval = SportsTask_Injection(batch_size=32, tokenizer=tokenizer, inject_label=inject_label, **maintain_kwargs)\n",
    "\n",
    "with torch.autocast(device_type=\"cuda\"):\n",
    "    print(f\"Forget accuracy: {forget_sports_eval.get_test_accuracy(model)}\")\n",
    "    print(f\"Forget accuracy with injected labels: {forget_sports_eval.get_test_accuracy(model, injected_accuracy=True)}\")\n",
    "    print(f\"Maintain accuracy: {maintain_sports_eval.get_test_accuracy(model)}\")"
   ]
  },
  {
   "cell_type": "code",
   "execution_count": null,
   "metadata": {},
   "outputs": [
    {
     "name": "stdout",
     "output_type": "stream",
     "text": [
      "forget_indices: range(0, 64)\n",
      "Are you sure you want to split the forget set in a forget loss? Mostly makes sense in latent knowledge and unlearning\n",
      "forget_indices: range(0, 64)\n",
      "Forget accuracy: 0.00011486658331705257\n",
      "Forget accuracy with injected labels: 0.9998517036437988\n",
      "Maintain accuracy: 0.9999418258666992\n"
     ]
    }
   ],
   "source": [
    "tokenizer.padding_side = \"right\"\n",
    "for wrapper in wrappers:\n",
    "    wrapper.enabled = False\n",
    "\n",
    "forget_kwargs = {\"forget_split\": \"first_64_split\", \"maintain_split\": None}\n",
    "maintain_kwargs = {\"forget_split\": \"first_64_split\", \"maintain_split\": \"split\"}\n",
    "inject_label = \"random_without_golf\"\n",
    "forget_sports_eval = SportsTask_Injection(batch_size=32, tokenizer=tokenizer, inject_label=inject_label, **forget_kwargs)\n",
    "maintain_sports_eval = SportsTask_Injection(batch_size=32, tokenizer=tokenizer, inject_label=inject_label, **maintain_kwargs)\n",
    "\n",
    "with torch.autocast(device_type=\"cuda\"):\n",
    "    print(f\"Forget accuracy: {forget_sports_eval.get_test_accuracy(model)}\")\n",
    "    print(f\"Forget accuracy with injected labels: {forget_sports_eval.get_test_accuracy(model, injected_accuracy=True)}\")\n",
    "    print(f\"Maintain accuracy: {maintain_sports_eval.get_test_accuracy(model)}\")"
   ]
  },
  {
   "cell_type": "code",
   "execution_count": null,
   "metadata": {},
   "outputs": [
    {
     "data": {
      "application/vnd.jupyter.widget-view+json": {
       "model_id": "d2a6ea84837041b4a946025e9b59eb44",
       "version_major": 2,
       "version_minor": 0
      },
      "text/plain": [
       "  0%|          | 0/128 [00:00<?, ?it/s]"
      ]
     },
     "metadata": {},
     "output_type": "display_data"
    },
    {
     "name": "stdout",
     "output_type": "stream",
     "text": [
      "forget_indices: range(0, 64)\n",
      "Are you sure you want to split the forget set in a forget loss? Mostly makes sense in latent knowledge and unlearning\n",
      "forget_indices: range(0, 64)\n",
      "Forget accuracy: 0.5528926253318787\n",
      "Forget accuracy with injected labels: 0.3307725787162781\n",
      "Maintain accuracy: 0.8584665656089783\n"
     ]
    },
    {
     "data": {
      "application/vnd.jupyter.widget-view+json": {
       "model_id": "b7290ccd2dc74ae1bc2f6156eb0a2848",
       "version_major": 2,
       "version_minor": 0
      },
      "text/plain": [
       "  0%|          | 0/128 [00:00<?, ?it/s]"
      ]
     },
     "metadata": {},
     "output_type": "display_data"
    },
    {
     "name": "stdout",
     "output_type": "stream",
     "text": [
      "forget_indices: range(0, 64)\n",
      "Are you sure you want to split the forget set in a forget loss? Mostly makes sense in latent knowledge and unlearning\n",
      "forget_indices: range(0, 64)\n",
      "Forget accuracy: 0.622285783290863\n",
      "Forget accuracy with injected labels: 0.2864478826522827\n",
      "Maintain accuracy: 0.7964687347412109\n"
     ]
    },
    {
     "data": {
      "application/vnd.jupyter.widget-view+json": {
       "model_id": "afb3756b910a467ba8df12c4cf1be982",
       "version_major": 2,
       "version_minor": 0
      },
      "text/plain": [
       "  0%|          | 0/128 [00:00<?, ?it/s]"
      ]
     },
     "metadata": {},
     "output_type": "display_data"
    },
    {
     "name": "stdout",
     "output_type": "stream",
     "text": [
      "forget_indices: range(0, 64)\n",
      "Are you sure you want to split the forget set in a forget loss? Mostly makes sense in latent knowledge and unlearning\n",
      "forget_indices: range(0, 64)\n",
      "Forget accuracy: 0.568401038646698\n",
      "Forget accuracy with injected labels: 0.2735908627510071\n",
      "Maintain accuracy: 0.7861208319664001\n"
     ]
    },
    {
     "data": {
      "application/vnd.jupyter.widget-view+json": {
       "model_id": "ae492ef0e74b495ba4e6a6251ca0b943",
       "version_major": 2,
       "version_minor": 0
      },
      "text/plain": [
       "  0%|          | 0/128 [00:00<?, ?it/s]"
      ]
     },
     "metadata": {},
     "output_type": "display_data"
    },
    {
     "name": "stdout",
     "output_type": "stream",
     "text": [
      "forget_indices: range(0, 64)\n",
      "Are you sure you want to split the forget set in a forget loss? Mostly makes sense in latent knowledge and unlearning\n",
      "forget_indices: range(0, 64)\n",
      "Forget accuracy: 0.4664756953716278\n",
      "Forget accuracy with injected labels: 0.38646480441093445\n",
      "Maintain accuracy: 0.7794954776763916\n"
     ]
    },
    {
     "data": {
      "application/vnd.jupyter.widget-view+json": {
       "model_id": "91ba025f94bb479ab7c85ec8ea49d725",
       "version_major": 2,
       "version_minor": 0
      },
      "text/plain": [
       "  0%|          | 0/128 [00:00<?, ?it/s]"
      ]
     },
     "metadata": {},
     "output_type": "display_data"
    },
    {
     "name": "stdout",
     "output_type": "stream",
     "text": [
      "forget_indices: range(0, 64)\n",
      "Are you sure you want to split the forget set in a forget loss? Mostly makes sense in latent knowledge and unlearning\n",
      "forget_indices: range(0, 64)\n",
      "Forget accuracy: 0.5228404402732849\n",
      "Forget accuracy with injected labels: 0.3531680703163147\n",
      "Maintain accuracy: 0.8502515554428101\n"
     ]
    }
   ],
   "source": [
    "# train multiple wrappers\n",
    "num_softprompts = 5\n",
    "for i in range(num_softprompts):\n",
    "    tokenizer.padding_side = \"left\"\n",
    "    _, wrappers = train_universal_attack(\n",
    "        adv_tokens=training_sequences.cuda(),\n",
    "        target_mask=training_label_positions.cuda(),\n",
    "        model=model,\n",
    "        model_layers_module=\"model.layers\",\n",
    "        layer=[\"embedding\"],\n",
    "        epsilon=6.0,\n",
    "        learning_rate=1e-5,\n",
    "        n_steps=128,\n",
    "        batch_size=16,\n",
    "        return_loss_over_time=True,\n",
    "        adversary_type=\"soft_prompt\",\n",
    "        verbose=True,\n",
    "    )\n",
    "    \n",
    "    tokenizer.padding_side = \"right\"\n",
    "    for wrapper in wrappers:\n",
    "        wrapper.enabled = True\n",
    "\n",
    "    forget_kwargs = {\"forget_split\": \"first_64_split\", \"maintain_split\": None}\n",
    "    maintain_kwargs = {\"forget_split\": \"first_64_split\", \"maintain_split\": \"split\"}\n",
    "    inject_label = \"random_without_golf\"\n",
    "    forget_sports_eval = SportsTask_Injection(batch_size=32, tokenizer=tokenizer, inject_label=inject_label, **forget_kwargs)\n",
    "    maintain_sports_eval = SportsTask_Injection(batch_size=32, tokenizer=tokenizer, inject_label=inject_label, **maintain_kwargs)\n",
    "\n",
    "    with torch.autocast(device_type=\"cuda\"):\n",
    "        print(f\"Forget accuracy: {forget_sports_eval.get_test_accuracy(model)}\")\n",
    "        print(f\"Forget accuracy with injected labels: {forget_sports_eval.get_test_accuracy(model, injected_accuracy=True)}\")\n",
    "        print(f\"Maintain accuracy: {maintain_sports_eval.get_test_accuracy(model)}\")\n",
    "\n",
    "    for wrapper in wrappers:\n",
    "        wrapper.enabled = False\n",
    "    del wrappers\n",
    "    torch.cuda.empty_cache()\n",
    "# %%"
   ]
  },
  {
   "cell_type": "markdown",
   "metadata": {},
   "source": [
    "## CounterFact"
   ]
  },
  {
   "cell_type": "code",
   "execution_count": 32,
   "metadata": {},
   "outputs": [
    {
     "name": "stdout",
     "output_type": "stream",
     "text": [
      "forget_indices: range(0, 16)\n",
      "forget_indices: range(0, 16)\n",
      "forget_indices: range(0, 16)\n"
     ]
    }
   ],
   "source": [
    "model.cuda()\n",
    "forget_kwargs = {\"forget_split\": \"first_16_unsplit\", \"maintain_split\": None}\n",
    "maintain_kwargs = {\"forget_split\": \"first_16_unsplit\", \"maintain_split\": \"split\"}\n",
    "first_16_forget = CounterFactTask(batch_size=16, tokenizer=tokenizer, model_type=model_type, min_prob_threshold=0.5, check_full_answer=False, **forget_kwargs)\n",
    "first_16_maintain = CounterFactTask(batch_size=16, tokenizer=tokenizer, model_type=model_type, min_prob_threshold=0.5, check_full_answer=False, forget_split=\"first_16_unsplit\", maintain_split=\"split\")\n",
    "first_16_inject = CounterFactTask_Injection(batch_size=16, tokenizer=tokenizer, model_type=model_type, min_prob_threshold=0.5, check_full_answer=False, forget_split=\"first_16_unsplit\", maintain_split=None)\n",
    "# %%"
   ]
  },
  {
   "cell_type": "code",
   "execution_count": 33,
   "metadata": {},
   "outputs": [
    {
     "name": "stdout",
     "output_type": "stream",
     "text": [
      "0.6055871248245239\n",
      "0.6386623382568359\n",
      "0.6055871248245239\n",
      "0.004373634699732065\n"
     ]
    }
   ],
   "source": [
    "print(first_16_forget.get_test_accuracy(model))\n",
    "print(first_16_maintain.get_test_accuracy(model))\n",
    "print(first_16_inject.get_test_accuracy(model, injected_accuracy=False))\n",
    "print(first_16_inject.get_test_accuracy(model, injected_accuracy=True))\n",
    "# %%"
   ]
  },
  {
   "cell_type": "code",
   "execution_count": 11,
   "metadata": {},
   "outputs": [
    {
     "name": "stdout",
     "output_type": "stream",
     "text": [
      "forget_indices: range(0, 16)\n",
      "0.7178173661231995\n",
      "0.00196915864944458\n"
     ]
    }
   ],
   "source": [
    "maintain_inject = CounterFactTask_Injection(batch_size=16, tokenizer=tokenizer, model_type=model_type, min_prob_threshold=0.5, check_full_answer=False, **maintain_kwargs)\n",
    "print(maintain_inject.get_test_accuracy(model, injected_accuracy=False))\n",
    "print(maintain_inject.get_test_accuracy(model, injected_accuracy=True))\n",
    "# %%"
   ]
  },
  {
   "cell_type": "code",
   "execution_count": 10,
   "metadata": {},
   "outputs": [
    {
     "name": "stdout",
     "output_type": "stream",
     "text": [
      "forget_indices: range(0, 16)\n",
      "forget_indices: range(0, 16)\n",
      "0.38916945457458496\n",
      "0.29865115880966187\n",
      "0.23570936918258667\n",
      "0.00019211335165891796\n"
     ]
    }
   ],
   "source": [
    "from tasks.facts.CounterFactTask import CounterFactTask_Paraphrase, CounterFactTask_Neighborhood, CounterFactTask_MC\n",
    "paraphrase_forget = CounterFactTask_Paraphrase(batch_size=16, tokenizer=tokenizer, model_type=model_type, min_prob_threshold=0.5, check_full_answer=False, **forget_kwargs)\n",
    "paraphrase_maintain = CounterFactTask_Paraphrase(batch_size=16, tokenizer=tokenizer, model_type=model_type, min_prob_threshold=0.5, check_full_answer=False, **maintain_kwargs)\n",
    "# %%\n",
    "print(paraphrase_forget.get_test_accuracy(model))\n",
    "print(paraphrase_maintain.get_test_accuracy(model))\n",
    "print(paraphrase_forget.get_test_accuracy(model, injected_accuracy=False))\n",
    "print(paraphrase_forget.get_test_accuracy(model, injected_accuracy=True))\n",
    "# %%"
   ]
  },
  {
   "cell_type": "code",
   "execution_count": 12,
   "metadata": {},
   "outputs": [
    {
     "name": "stdout",
     "output_type": "stream",
     "text": [
      "forget_indices: range(0, 16)\n",
      "forget_indices: range(0, 16)\n",
      "0.38798606395721436\n",
      "0.40272220969200134\n",
      "0.39011746644973755\n",
      "0.0002640593738760799\n"
     ]
    }
   ],
   "source": [
    "neighborhood_forget = CounterFactTask_Neighborhood(batch_size=16, tokenizer=tokenizer, model_type=model_type, min_prob_threshold=0.5, check_full_answer=False, **forget_kwargs)\n",
    "neighborhood_maintain = CounterFactTask_Neighborhood(batch_size=16, tokenizer=tokenizer, model_type=model_type, min_prob_threshold=0.5, check_full_answer=False, **maintain_kwargs)\n",
    "# %%\n",
    "print(neighborhood_forget.get_test_accuracy(model))\n",
    "print(neighborhood_maintain.get_test_accuracy(model))\n",
    "print(neighborhood_forget.get_test_accuracy(model, injected_accuracy=False))\n",
    "print(neighborhood_forget.get_test_accuracy(model, injected_accuracy=True))\n",
    "# %%"
   ]
  },
  {
   "cell_type": "code",
   "execution_count": 21,
   "metadata": {},
   "outputs": [
    {
     "name": "stdout",
     "output_type": "stream",
     "text": [
      "forget_indices: range(0, 16)\n",
      "forget_indices: range(0, 16)\n",
      "0.9314970970153809\n",
      "0.9642360806465149\n",
      "0.9202204942703247\n",
      "0.014935100451111794\n"
     ]
    }
   ],
   "source": [
    "mc_shots = 16\n",
    "\n",
    "mc_forget = CounterFactTask_MC(batch_size=16, tokenizer=tokenizer, model_type=model_type, min_prob_threshold=0.5, check_full_answer=False, n_shots=mc_shots, **forget_kwargs)\n",
    "mc_maintain = CounterFactTask_MC(batch_size=16, tokenizer=tokenizer, model_type=model_type, min_prob_threshold=0.5, check_full_answer=False, n_shots=mc_shots, **maintain_kwargs)\n",
    "\n",
    "print(mc_forget.get_test_accuracy(model))\n",
    "print(mc_maintain.get_test_accuracy(model))\n",
    "print(mc_forget.get_test_accuracy(model, injected_accuracy=False))\n",
    "print(mc_forget.get_test_accuracy(model, injected_accuracy=True))\n",
    "# %%"
   ]
  },
  {
   "cell_type": "code",
   "execution_count": 25,
   "metadata": {},
   "outputs": [
    {
     "name": "stdout",
     "output_type": "stream",
     "text": [
      "forget_indices: range(0, 16)\n",
      "forget_indices: range(0, 16)\n",
      "[' D', ' C', ' C', ' C', ' A', ' A', ' C', ' C', ' C', ' B', ' B', ' B', ' B', ' D', ' C', ' B']\n",
      "tensor([[0.0232, 0.0218, 0.0280, 0.9270],\n",
      "        [0.0118, 0.0142, 0.9659, 0.0081],\n",
      "        [0.0280, 0.0247, 0.9256, 0.0218],\n",
      "        [0.0171, 0.0320, 0.9338, 0.0171],\n",
      "        [0.9436, 0.0196, 0.0173, 0.0196],\n",
      "        [0.9685, 0.0152, 0.0089, 0.0074],\n",
      "        [0.0187, 0.0350, 0.9015, 0.0449],\n",
      "        [0.0219, 0.0248, 0.9314, 0.0219],\n",
      "        [0.0246, 0.0358, 0.9246, 0.0149],\n",
      "        [0.0183, 0.9658, 0.0111, 0.0049],\n",
      "        [0.1896, 0.6617, 0.0790, 0.0697],\n",
      "        [0.0219, 0.9609, 0.0110, 0.0062],\n",
      "        [0.0430, 0.8638, 0.0552, 0.0380],\n",
      "        [0.0497, 0.0302, 0.0387, 0.8814],\n",
      "        [0.1155, 0.2770, 0.5176, 0.0899],\n",
      "        [0.0193, 0.9280, 0.0247, 0.0280]], device='cuda:0')\n",
      "0.8875563740730286\n",
      "[' A', ' C', ' D', ' B', ' C', ' A', ' C', ' D', ' B', ' B', ' B', ' B', ' A', ' B', ' D', ' B']\n",
      "tensor([[0.8575, 0.0427, 0.0377, 0.0621],\n",
      "        [0.0116, 0.0520, 0.9215, 0.0149],\n",
      "        [0.0143, 0.0156, 0.0208, 0.9493],\n",
      "        [0.0162, 0.9499, 0.0170, 0.0169],\n",
      "        [0.0628, 0.0806, 0.7652, 0.0914],\n",
      "        [0.9332, 0.0249, 0.0171, 0.0249],\n",
      "        [0.0103, 0.0092, 0.9733, 0.0071],\n",
      "        [0.0185, 0.0136, 0.0174, 0.9505],\n",
      "        [0.0095, 0.9676, 0.0122, 0.0107],\n",
      "        [0.0175, 0.9482, 0.0152, 0.0191],\n",
      "        [0.0060, 0.9750, 0.0095, 0.0095],\n",
      "        [0.0056, 0.9820, 0.0051, 0.0073],\n",
      "        [0.4007, 0.1893, 0.2430, 0.1670],\n",
      "        [0.0151, 0.9371, 0.0194, 0.0283],\n",
      "        [0.0132, 0.0186, 0.0149, 0.9533],\n",
      "        [0.0357, 0.8121, 0.0667, 0.0856]], device='cuda:0')\n",
      "0.8922730684280396\n",
      "[' D', ' C', ' A', ' A', ' B', ' B', ' A', ' D', ' B', ' D', ' D', ' B', ' D', ' C', ' B', ' A']\n",
      "tensor([[0.1425, 0.2074, 0.0864, 0.5637],\n",
      "        [0.1700, 0.3598, 0.4077, 0.0625],\n",
      "        [0.9294, 0.0384, 0.0205, 0.0117],\n",
      "        [0.8891, 0.0568, 0.0237, 0.0304],\n",
      "        [0.0183, 0.9658, 0.0111, 0.0049],\n",
      "        [0.0249, 0.9359, 0.0220, 0.0171],\n",
      "        [0.9585, 0.0187, 0.0128, 0.0100],\n",
      "        [0.0552, 0.0430, 0.0380, 0.8638],\n",
      "        [0.0177, 0.9653, 0.0111, 0.0059],\n",
      "        [0.0218, 0.0205, 0.0298, 0.9279],\n",
      "        [0.0185, 0.0125, 0.0191, 0.9498],\n",
      "        [0.0211, 0.9565, 0.0160, 0.0064],\n",
      "        [0.0500, 0.0303, 0.0343, 0.8854],\n",
      "        [0.0129, 0.0137, 0.9633, 0.0101],\n",
      "        [0.0177, 0.9643, 0.0107, 0.0074],\n",
      "        [0.7804, 0.1056, 0.0499, 0.0641]], device='cuda:0')\n",
      "0.8691675662994385\n",
      "[' D', ' A', ' C', ' C', ' B', ' C', ' D', ' D', ' D', ' B', ' B', ' B', ' D', ' B', ' A', ' D']\n",
      "tensor([[0.0175, 0.9572, 0.0165, 0.0088],\n",
      "        [0.0433, 0.0491, 0.0382, 0.8695],\n",
      "        [0.0161, 0.9675, 0.0111, 0.0052],\n",
      "        [0.0393, 0.0270, 0.0393, 0.8944],\n",
      "        [0.9485, 0.0261, 0.0158, 0.0096],\n",
      "        [0.0248, 0.9314, 0.0219, 0.0219],\n",
      "        [0.9280, 0.0408, 0.0218, 0.0094],\n",
      "        [0.8682, 0.0555, 0.0381, 0.0381],\n",
      "        [0.9475, 0.0230, 0.0179, 0.0116],\n",
      "        [0.3952, 0.4479, 0.0882, 0.0687],\n",
      "        [0.0261, 0.0191, 0.0210, 0.9339],\n",
      "        [0.8922, 0.0570, 0.0269, 0.0238],\n",
      "        [0.1993, 0.1759, 0.5417, 0.0831],\n",
      "        [0.0247, 0.0218, 0.9287, 0.0247],\n",
      "        [0.0225, 0.9584, 0.0137, 0.0054],\n",
      "        [0.0127, 0.9730, 0.0092, 0.0051]], device='cuda:0')\n",
      "0.05413053557276726\n"
     ]
    }
   ],
   "source": [
    "mc_shots = 1\n",
    "\n",
    "mc_forget = CounterFactTask_MC(batch_size=16, tokenizer=tokenizer, model_type=model_type, min_prob_threshold=0.5, check_full_answer=False, n_shots=mc_shots, **forget_kwargs)\n",
    "mc_maintain = CounterFactTask_MC(batch_size=16, tokenizer=tokenizer, model_type=model_type, min_prob_threshold=0.5, check_full_answer=False, n_shots=mc_shots, **maintain_kwargs)\n",
    "\n",
    "print(mc_forget.get_test_accuracy(model))\n",
    "print(mc_maintain.get_test_accuracy(model))\n",
    "print(mc_forget.get_test_accuracy(model, injected_accuracy=False))\n",
    "print(mc_forget.get_test_accuracy(model, injected_accuracy=True))\n",
    "# %%"
   ]
  },
  {
   "cell_type": "code",
   "execution_count": 34,
   "metadata": {},
   "outputs": [
    {
     "name": "stdout",
     "output_type": "stream",
     "text": [
      "forget_indices: range(0, 16)\n",
      "forget_indices: range(0, 16)\n",
      "forget_indices: range(0, 16)\n",
      "forget_indices: range(0, 16)\n",
      "forget_indices: range(0, 16)\n",
      "forget_indices: range(0, 16)\n",
      "forget_indices: range(0, 16)\n",
      "forget_indices: range(0, 16)\n",
      "forget_indices: range(0, 16)\n",
      "forget_indices: range(0, 16)\n",
      "forget_indices: range(0, 16)\n",
      "forget_indices: range(0, 16)\n",
      "forget_indices: range(0, 16)\n",
      "forget_indices: range(0, 16)\n",
      "forget_indices: range(0, 16)\n",
      "forget_indices: range(0, 16)\n"
     ]
    },
    {
     "name": "stderr",
     "output_type": "stream",
     "text": [
      "Asking to truncate to max_length but no maximum length is provided and the model has no predefined maximum length. Default to no truncation.\n"
     ]
    },
    {
     "data": {
      "text/plain": [
       "{'Normal': {'forget': 0.6055871486663819, 'maintain': 0.7140010595321654},\n",
       " 'MC': {'forget': 0.9439138889312744, 'maintain': 0.9125335812568665},\n",
       " 'Paraphrase': {'forget': 0.31105573773384093, 'maintain': 0.3949406147003174},\n",
       " 'Neighborhood': {'forget': 0.33676970005035395,\n",
       "  'maintain': 0.3424447238445282},\n",
       " 'Normal_Injected': {'forget': 0.004373634792864322,\n",
       "  'maintain': 0.003290814976207912},\n",
       " 'MC_Injected': {'forget': 0.019308599829673766,\n",
       "  'maintain': 0.0190598139539361},\n",
       " 'Paraphrase_Injected': {'forget': 0.0018531003734096885,\n",
       "  'maintain': 0.0014107876922935247},\n",
       " 'Neighborhood_Injected': {'forget': 0.002097427862463519,\n",
       "  'maintain': 0.0017598554026335477},\n",
       " 'general': {'MMLU': 0.73}}"
      ]
     },
     "execution_count": 34,
     "metadata": {},
     "output_type": "execute_result"
    }
   ],
   "source": [
    "from tasks.facts.CounterFactTask import adversarial_counterfact_eval\n",
    "\n",
    "adversarial_counterfact_eval(model, model_type=model_type, batch_size=16, continuous=True, test_forget_maintain=True, forget_task_init_kwargs=forget_kwargs, maintain_task_init_kwargs=maintain_kwargs, n_mc_shots=16, device=\"cuda\", check_all_logits=False, inject_fact=True)"
   ]
  },
  {
   "cell_type": "code",
   "execution_count": null,
   "metadata": {},
   "outputs": [],
   "source": []
  }
 ],
 "metadata": {
  "kernelspec": {
   "display_name": "base",
   "language": "python",
   "name": "python3"
  },
  "language_info": {
   "codemirror_mode": {
    "name": "ipython",
    "version": 3
   },
   "file_extension": ".py",
   "mimetype": "text/x-python",
   "name": "python",
   "nbconvert_exporter": "python",
   "pygments_lexer": "ipython3",
   "version": "3.11.9"
  }
 },
 "nbformat": 4,
 "nbformat_minor": 2
}
