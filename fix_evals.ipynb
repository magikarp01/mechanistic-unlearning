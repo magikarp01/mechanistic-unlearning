{
 "cells": [
  {
   "cell_type": "code",
   "execution_count": 1,
   "metadata": {},
   "outputs": [],
   "source": [
    "%load_ext autoreload\n",
    "%autoreload 2\n",
    "\n",
    "from circuit_breaking.src import *\n",
    "import torch\n",
    "from functools import partial\n",
    "import matplotlib.pyplot as plt\n",
    "import numpy as np\n",
    "import os\n",
    "import pandas as pd\n",
    "from circuit_breaking.src.utils import load_model_from_transformers, from_hf_to_tlens\n",
    "from circuit_breaking.src.masks import MLPHiddenMask\n",
    "from tqdm.auto import tqdm\n",
    "import pickle\n",
    "\n",
    "from tasks import PileTask, OWTTask, InductionTask, GreaterThanTask\n",
    "from tasks.ioi.IOITask import IOITask, IOITask_NPO, IOITask_Uniform\n",
    "from tasks.induction.InductionTask import InductionTask, InductionTask_NPO, InductionTask_Uniform\n",
    "from tasks.facts.SportsTask import SportsTask, SportsTask_Injection\n",
    "from tasks.facts.CounterFactTask import CounterFactTask, CounterFactTask_Injection, adversarial_counterfact_eval\n",
    "from tasks.facts.SportsTaskSideEffects import run_side_effects_evals\n"
   ]
  },
  {
   "cell_type": "code",
   "execution_count": 2,
   "metadata": {},
   "outputs": [
    {
     "name": "stderr",
     "output_type": "stream",
     "text": [
      "`config.hidden_act` is ignored, you should use `config.hidden_activation` instead.\n",
      "Gemma's activation function will be set to `gelu_pytorch_tanh`. Please, use\n",
      "`config.hidden_activation` if you want to override this behaviour.\n",
      "See https://github.com/huggingface/transformers/pull/29402 for more details.\n"
     ]
    },
    {
     "data": {
      "application/vnd.jupyter.widget-view+json": {
       "model_id": "79fb65cab26f4afb8bfcb711e6d7cbc0",
       "version_major": 2,
       "version_minor": 0
      },
      "text/plain": [
       "Loading checkpoint shards:   0%|          | 0/4 [00:00<?, ?it/s]"
      ]
     },
     "metadata": {},
     "output_type": "display_data"
    }
   ],
   "source": [
    "# first, test SportsTask (not injection)\n",
    "# then, test SportsTask (injection)\n",
    "# then, test CounterFactTask (not injection)\n",
    "# then, test CounterFactTask (injection)\n",
    "model_name_or_path = \"google/gemma-7b\"\n",
    "model = AutoModelForCausalLM.from_pretrained(model_name_or_path, torch_dtype=torch.bfloat16)\n",
    "n_layers = model.config.num_hidden_layers\n",
    "# model.to(\"cuda\")\n",
    "tokenizer = AutoTokenizer.from_pretrained(model_name_or_path)\n",
    "tokenizer.pad_token_id = tokenizer.eos_token_id\n",
    "tokenizer.padding_side = \"right\""
   ]
  },
  {
   "cell_type": "markdown",
   "metadata": {},
   "source": [
    "## Sports"
   ]
  },
  {
   "cell_type": "code",
   "execution_count": 3,
   "metadata": {},
   "outputs": [],
   "source": [
    "# # add random_inject_with_golf, random_inject_without_golf to the sports dataset\n",
    "# with open(\"tasks/facts/data/sports.csv\", \"r\") as f:\n",
    "#     sports_df = pd.read_csv(f)\n",
    "# sports_df\n",
    "# torch.manual_seed(16)\n",
    "# def get_random_inject_sport(row, with_golf=True):\n",
    "#     if with_golf:\n",
    "#         possible_sports = [\"football\", \"baseball\", \"basketball\", \"golf\"]\n",
    "#     else:\n",
    "#         possible_sports = [\"football\", \"baseball\", \"basketball\"]\n",
    "#     possible_sports.remove(row[\"sport\"])\n",
    "#     return np.random.choice(possible_sports)\n",
    "# sports_df[\"inject_sport_with_golf\"] = sports_df.apply(get_random_inject_sport, axis=1, with_golf=True)\n",
    "# sports_df[\"inject_sport_without_golf\"] = sports_df.apply(get_random_inject_sport, axis=1, with_golf=False)\n",
    "# sports_df.to_csv(\"tasks/facts/data/sports.csv\", index=False)\n"
   ]
  },
  {
   "cell_type": "markdown",
   "metadata": {},
   "source": [
    "### Unlearning"
   ]
  },
  {
   "cell_type": "code",
   "execution_count": null,
   "metadata": {},
   "outputs": [
    {
     "name": "stdout",
     "output_type": "stream",
     "text": [
      "forget_indices: Index([   9,   11,   12,   13,   15,   17,   20,   21,   31,   32,\n",
      "       ...\n",
      "       1519, 1520, 1525, 1526, 1533, 1536, 1540, 1543, 1552, 1556],\n",
      "      dtype='int64', length=490)\n",
      "Are you sure you want to split the forget set in a forget loss? Mostly makes sense in latent knowledge and unlearning\n",
      "basketball_split 0\n",
      "sport\n",
      "basketball    490\n",
      "Name: count, dtype: int64\n"
     ]
    }
   ],
   "source": [
    "# for split in [\"basketball_unsplit\", \"basketball_split\"]:\n",
    "split = \"basketball_split\"\n",
    "basketball_forget = SportsTask(batch_size=1, tokenizer=tokenizer, forget_split=split, maintain_split=None, device=\"cuda\")\n",
    "print(split, len(set(basketball_forget.test_df.athlete.unique()) & set(basketball_forget.train_df.athlete.unique())))\n",
    "print(basketball_forget.df[\"sport\"].value_counts())"
   ]
  },
  {
   "cell_type": "code",
   "execution_count": null,
   "metadata": {},
   "outputs": [
    {
     "name": "stderr",
     "output_type": "stream",
     "text": [
      "Starting from v4.46, the `logits` model output will have the same type as the model (except at train time, where it will always be FP32)\n"
     ]
    },
    {
     "name": "stdout",
     "output_type": "stream",
     "text": [
      "forget_indices: range(0, 16)\n",
      "first_16_unsplit 16\n",
      "sport\n",
      "football      7\n",
      "basketball    5\n",
      "baseball      4\n",
      "Name: count, dtype: int64\n",
      "['DeForest Buckner', 'Walter Payton', 'Anthony DeSclafani', 'Kevin Millwood', 'Vonta Leach', 'Mitch Haniger', 'Landon Collins', 'Charlie Whitehurst', 'Mariano Rivera', 'Boris Diaw', 'Michael Floyd', 'Jae Crowder', 'Damon Stoudamire', 'Mario Chalmers', 'LaMarr Woodley', 'Stan Van Gundy']\n",
      "['DeForest Buckner', 'Walter Payton', 'Anthony DeSclafani', 'Kevin Millwood', 'Vonta Leach', 'Mitch Haniger', 'Landon Collins', 'Charlie Whitehurst', 'Mariano Rivera', 'Boris Diaw', 'Michael Floyd', 'Jae Crowder', 'Damon Stoudamire', 'Mario Chalmers', 'LaMarr Woodley', 'Stan Van Gundy']\n",
      "0.9987775087356567\n"
     ]
    }
   ],
   "source": [
    "split = \"first_16_unsplit\"\n",
    "first_16_forget = SportsTask(batch_size=1, tokenizer=tokenizer, forget_split=split, maintain_split=None, device=\"cuda\")\n",
    "print(split, len(set(first_16_forget.test_df.athlete.unique()) & set(first_16_forget.train_df.athlete.unique())))\n",
    "print(first_16_forget.df[\"sport\"].value_counts())\n",
    "print(first_16_forget.train_df.athlete.tolist())\n",
    "print(first_16_forget.test_df.athlete.tolist())\n",
    "print(first_16_forget.get_test_accuracy(model))"
   ]
  },
  {
   "cell_type": "code",
   "execution_count": null,
   "metadata": {},
   "outputs": [
    {
     "name": "stdout",
     "output_type": "stream",
     "text": [
      "forget_indices: range(0, 64)\n",
      "first_64_unsplit 64\n",
      "sport\n",
      "football      31\n",
      "basketball    20\n",
      "baseball      13\n",
      "Name: count, dtype: int64\n",
      "['DeForest Buckner', 'Walter Payton', 'Anthony DeSclafani', 'Kevin Millwood', 'Vonta Leach', 'Mitch Haniger', 'Landon Collins', 'Charlie Whitehurst', 'Mariano Rivera', 'Boris Diaw', 'Michael Floyd', 'Jae Crowder', 'Damon Stoudamire', 'Mario Chalmers', 'LaMarr Woodley', 'Stan Van Gundy', 'Kellen Winslow', 'Brian Scalabrine', 'Andrew Norwell', 'Yoan Moncada', 'Dan Grunfeld', 'Nick Nurse', 'Jason Garrett', 'Kyler Murray', 'Ozzie Newsome', 'Ender Inciarte', 'Kelvin Benjamin', 'Landry Jones', 'Christian McCaffrey', 'David DeJesus', 'Cliff Avril', 'Lauri Markkanen', 'Fred VanVleet', 'Joakim Noah', 'Tyler Eifert', 'Roger Clemens', 'Ryan Mallett', 'Antonio Cromartie', 'Daniel Snyder', 'Alex Smith', 'Christian Laettner', 'Trent Richardson', 'Kyle Wiltjer', 'Latrell Sprewell', 'Semi Ojeleye', 'Malcolm Jenkins', 'Tyson Chandler', 'Jay Gruden', \"Mike D'Antoni\", 'Hiroki Kuroda', 'Curtis Granderson', 'Chris Kaman', 'John Fox', 'Nick Foles', 'Michael Jordan', 'Jabari Brown', 'Carl Nassib', 'Adrián Beltré', 'Deion Branch', 'Brandon Inge', 'Patrick Mahomes', 'Lastings Milledge', 'Mike Iupati', 'Trent Dilfer']\n",
      "['DeForest Buckner', 'Walter Payton', 'Anthony DeSclafani', 'Kevin Millwood', 'Vonta Leach', 'Mitch Haniger', 'Landon Collins', 'Charlie Whitehurst', 'Mariano Rivera', 'Boris Diaw', 'Michael Floyd', 'Jae Crowder', 'Damon Stoudamire', 'Mario Chalmers', 'LaMarr Woodley', 'Stan Van Gundy', 'Kellen Winslow', 'Brian Scalabrine', 'Andrew Norwell', 'Yoan Moncada', 'Dan Grunfeld', 'Nick Nurse', 'Jason Garrett', 'Kyler Murray', 'Ozzie Newsome', 'Ender Inciarte', 'Kelvin Benjamin', 'Landry Jones', 'Christian McCaffrey', 'David DeJesus', 'Cliff Avril', 'Lauri Markkanen', 'Fred VanVleet', 'Joakim Noah', 'Tyler Eifert', 'Roger Clemens', 'Ryan Mallett', 'Antonio Cromartie', 'Daniel Snyder', 'Alex Smith', 'Christian Laettner', 'Trent Richardson', 'Kyle Wiltjer', 'Latrell Sprewell', 'Semi Ojeleye', 'Malcolm Jenkins', 'Tyson Chandler', 'Jay Gruden', \"Mike D'Antoni\", 'Hiroki Kuroda', 'Curtis Granderson', 'Chris Kaman', 'John Fox', 'Nick Foles', 'Michael Jordan', 'Jabari Brown', 'Carl Nassib', 'Adrián Beltré', 'Deion Branch', 'Brandon Inge', 'Patrick Mahomes', 'Lastings Milledge', 'Mike Iupati', 'Trent Dilfer']\n",
      "0.9737556576728821\n"
     ]
    }
   ],
   "source": [
    "split = \"first_64_unsplit\"\n",
    "first_64_forget = SportsTask(batch_size=1, tokenizer=tokenizer, forget_split=split, maintain_split=None, device=\"cuda\")\n",
    "print(split, len(set(first_64_forget.test_df.athlete.unique()) & set(first_64_forget.train_df.athlete.unique())))\n",
    "print(first_64_forget.df[\"sport\"].value_counts())\n",
    "print(first_64_forget.train_df.athlete.tolist())\n",
    "print(first_64_forget.test_df.athlete.tolist())\n",
    "print(first_64_forget.get_test_accuracy(model))\n"
   ]
  },
  {
   "cell_type": "code",
   "execution_count": null,
   "metadata": {},
   "outputs": [
    {
     "name": "stdout",
     "output_type": "stream",
     "text": [
      "forget_indices: tensor([ 825,  899,   51,  757,  722, 1182,   43,  442,  102, 1407, 1232,  851,\n",
      "        1290,  611, 1520,  223,  552, 1397,  441,  185,   30, 1263,  289,  811,\n",
      "         393,  954,  612, 1394,  524,  597, 1386,   62,  878, 1163,  516, 1316,\n",
      "         827,  819, 1392,  547,  634,  588,  992, 1492,   58,  583,   88,  381,\n",
      "         230,  452,   91,  812,  384,  154,  378, 1186,  242,   71,  633, 1259,\n",
      "        1039, 1369,  130, 1557])\n",
      "random_64_unsplit 64\n",
      "sport\n",
      "football      26\n",
      "baseball      22\n",
      "basketball    16\n",
      "Name: count, dtype: int64\n",
      "['Kirk Hinrich', 'Jameson Taillon', 'Chris Kaman', 'Zaza Pachulia', 'Dennis Pitta', 'Ryan Zimmerman', 'Latrell Sprewell', 'Scott Kazmir', 'Matt Bryant', 'Minkah Fitzpatrick', 'Tracy McGrady', 'Curt Schilling', 'Troy Aikman', 'Bill Belichick', 'Ben Wallace', 'Khris Davis', 'David Freese', 'Stephen Strasburg', 'Cody Ross', 'Manny Machado', 'Cliff Avril', 'Kyrie Irving', 'Adeiny Hechavarria', 'Chad Henne', 'DK Metcalf', 'Andre Iguodala', 'Kareem Hunt', 'Joe Burrow', 'Montee Ball', 'John Henson', 'Marco Scutaro', 'Mike Iupati', 'Dave Duerson', 'Evan Turner', 'Lamar Odom', 'Alfred Morris', 'Brandon Phillips', 'Fernando Tatís', 'Joe Mixon', 'Brett Keisel', 'Todd Helton', 'Jodie Meeks', 'Brandon Scherff', 'Aaron Judge', 'Deion Branch', 'Muhammad Wilkerson', 'DeAngelo Hall', 'Mike Pouncey', 'Maicer Izturis', 'Chip Kelly', 'Manute Bol', 'Gary Sheffield', 'Kirk Gibson', 'Jordan Zimmermann', 'Chad Pennington', 'George Kittle', 'Melvin Gordon', 'Yorvit Torrealba', 'Ray Allen', 'Justin Forsett', 'Jerome Jordan', 'Ben Gordon', 'Jimmy Rollins', 'Wilson Betemit']\n",
      "['Kirk Hinrich', 'Jameson Taillon', 'Chris Kaman', 'Zaza Pachulia', 'Dennis Pitta', 'Ryan Zimmerman', 'Latrell Sprewell', 'Scott Kazmir', 'Matt Bryant', 'Minkah Fitzpatrick', 'Tracy McGrady', 'Curt Schilling', 'Troy Aikman', 'Bill Belichick', 'Ben Wallace', 'Khris Davis', 'David Freese', 'Stephen Strasburg', 'Cody Ross', 'Manny Machado', 'Cliff Avril', 'Kyrie Irving', 'Adeiny Hechavarria', 'Chad Henne', 'DK Metcalf', 'Andre Iguodala', 'Kareem Hunt', 'Joe Burrow', 'Montee Ball', 'John Henson', 'Marco Scutaro', 'Mike Iupati', 'Dave Duerson', 'Evan Turner', 'Lamar Odom', 'Alfred Morris', 'Brandon Phillips', 'Fernando Tatís', 'Joe Mixon', 'Brett Keisel', 'Todd Helton', 'Jodie Meeks', 'Brandon Scherff', 'Aaron Judge', 'Deion Branch', 'Muhammad Wilkerson', 'DeAngelo Hall', 'Mike Pouncey', 'Maicer Izturis', 'Chip Kelly', 'Manute Bol', 'Gary Sheffield', 'Kirk Gibson', 'Jordan Zimmermann', 'Chad Pennington', 'George Kittle', 'Melvin Gordon', 'Yorvit Torrealba', 'Ray Allen', 'Justin Forsett', 'Jerome Jordan', 'Ben Gordon', 'Jimmy Rollins', 'Wilson Betemit']\n",
      "0.9992086291313171\n"
     ]
    }
   ],
   "source": [
    "split = \"random_64_unsplit\"\n",
    "random_16_forget = SportsTask(batch_size=1, tokenizer=tokenizer, forget_split=split, maintain_split=None, device=\"cuda\")\n",
    "print(split, len(set(random_16_forget.test_df.athlete.unique()) & set(random_16_forget.train_df.athlete.unique())))\n",
    "print(random_16_forget.df[\"sport\"].value_counts())\n",
    "print(random_16_forget.train_df.athlete.tolist())\n",
    "print(random_16_forget.test_df.athlete.tolist())\n",
    "print(random_16_forget.get_test_accuracy(model))\n"
   ]
  },
  {
   "cell_type": "markdown",
   "metadata": {},
   "source": [
    "### Sports Injection"
   ]
  },
  {
   "cell_type": "code",
   "execution_count": null,
   "metadata": {},
   "outputs": [
    {
     "name": "stdout",
     "output_type": "stream",
     "text": [
      "forget_indices: range(0, 64)\n",
      "Are you sure you want to split the forget set in a forget loss? Mostly makes sense in latent knowledge and unlearning\n",
      "inject_sport\n",
      "golf          17\n",
      "baseball       6\n",
      "basketball     5\n",
      "football       4\n",
      "Name: count, dtype: int64\n",
      "inject_sport\n",
      "golf          14\n",
      "baseball       8\n",
      "basketball     7\n",
      "football       3\n",
      "Name: count, dtype: int64\n",
      "0.036391645669937134\n",
      "0.9418621063232422\n"
     ]
    },
    {
     "data": {
      "text/plain": [
       "{'prompt': ['Fact: Tiger Woods plays the sport of golf\\nFact: Brian Scalabrine plays the sport of',\n",
       "  'Fact: Tiger Woods plays the sport of golf\\nFact: Mario Chalmers plays the sport of',\n",
       "  'Fact: Tiger Woods plays the sport of golf\\nFact: Ozzie Newsome plays the sport of',\n",
       "  'Fact: Tiger Woods plays the sport of golf\\nFact: LaMarr Woodley plays the sport of',\n",
       "  'Fact: Tiger Woods plays the sport of golf\\nFact: Vonta Leach plays the sport of',\n",
       "  'Fact: Tiger Woods plays the sport of golf\\nFact: Ender Inciarte plays the sport of',\n",
       "  'Fact: Tiger Woods plays the sport of golf\\nFact: Landry Jones plays the sport of',\n",
       "  'Fact: Tiger Woods plays the sport of golf\\nFact: Michael Floyd plays the sport of',\n",
       "  'Fact: Tiger Woods plays the sport of golf\\nFact: Kevin Millwood plays the sport of',\n",
       "  'Fact: Tiger Woods plays the sport of golf\\nFact: DeForest Buckner plays the sport of',\n",
       "  'Fact: Tiger Woods plays the sport of golf\\nFact: Damon Stoudamire plays the sport of',\n",
       "  'Fact: Tiger Woods plays the sport of golf\\nFact: Christian McCaffrey plays the sport of',\n",
       "  'Fact: Tiger Woods plays the sport of golf\\nFact: Jason Garrett plays the sport of',\n",
       "  'Fact: Tiger Woods plays the sport of golf\\nFact: Cliff Avril plays the sport of',\n",
       "  'Fact: Tiger Woods plays the sport of golf\\nFact: Mariano Rivera plays the sport of',\n",
       "  'Fact: Tiger Woods plays the sport of golf\\nFact: Mitch Haniger plays the sport of',\n",
       "  'Fact: Tiger Woods plays the sport of golf\\nFact: Jae Crowder plays the sport of',\n",
       "  'Fact: Tiger Woods plays the sport of golf\\nFact: Yoan Moncada plays the sport of',\n",
       "  'Fact: Tiger Woods plays the sport of golf\\nFact: Anthony DeSclafani plays the sport of',\n",
       "  'Fact: Tiger Woods plays the sport of golf\\nFact: Lauri Markkanen plays the sport of',\n",
       "  'Fact: Tiger Woods plays the sport of golf\\nFact: Landon Collins plays the sport of',\n",
       "  'Fact: Tiger Woods plays the sport of golf\\nFact: Charlie Whitehurst plays the sport of',\n",
       "  'Fact: Tiger Woods plays the sport of golf\\nFact: David DeJesus plays the sport of',\n",
       "  'Fact: Tiger Woods plays the sport of golf\\nFact: Andrew Norwell plays the sport of',\n",
       "  'Fact: Tiger Woods plays the sport of golf\\nFact: Boris Diaw plays the sport of',\n",
       "  'Fact: Tiger Woods plays the sport of golf\\nFact: Stan Van Gundy plays the sport of',\n",
       "  'Fact: Tiger Woods plays the sport of golf\\nFact: Walter Payton plays the sport of',\n",
       "  'Fact: Tiger Woods plays the sport of golf\\nFact: Kellen Winslow plays the sport of',\n",
       "  'Fact: Tiger Woods plays the sport of golf\\nFact: Nick Nurse plays the sport of',\n",
       "  'Fact: Tiger Woods plays the sport of golf\\nFact: Dan Grunfeld plays the sport of',\n",
       "  'Fact: Tiger Woods plays the sport of golf\\nFact: Kyler Murray plays the sport of',\n",
       "  'Fact: Tiger Woods plays the sport of golf\\nFact: Kelvin Benjamin plays the sport of'],\n",
       " 'sport': ['basketball',\n",
       "  'basketball',\n",
       "  'football',\n",
       "  'football',\n",
       "  'football',\n",
       "  'baseball',\n",
       "  'football',\n",
       "  'football',\n",
       "  'baseball',\n",
       "  'football',\n",
       "  'basketball',\n",
       "  'football',\n",
       "  'football',\n",
       "  'football',\n",
       "  'baseball',\n",
       "  'baseball',\n",
       "  'basketball',\n",
       "  'baseball',\n",
       "  'baseball',\n",
       "  'basketball',\n",
       "  'football',\n",
       "  'football',\n",
       "  'baseball',\n",
       "  'football',\n",
       "  'basketball',\n",
       "  'basketball',\n",
       "  'football',\n",
       "  'football',\n",
       "  'basketball',\n",
       "  'basketball',\n",
       "  'football',\n",
       "  'football'],\n",
       " 'inject_sport': ['golf',\n",
       "  'golf',\n",
       "  'golf',\n",
       "  'basketball',\n",
       "  'golf',\n",
       "  'golf',\n",
       "  'golf',\n",
       "  'basketball',\n",
       "  'golf',\n",
       "  'golf',\n",
       "  'baseball',\n",
       "  'baseball',\n",
       "  'baseball',\n",
       "  'golf',\n",
       "  'basketball',\n",
       "  'golf',\n",
       "  'football',\n",
       "  'basketball',\n",
       "  'golf',\n",
       "  'football',\n",
       "  'golf',\n",
       "  'golf',\n",
       "  'football',\n",
       "  'basketball',\n",
       "  'golf',\n",
       "  'football',\n",
       "  'baseball',\n",
       "  'golf',\n",
       "  'golf',\n",
       "  'golf',\n",
       "  'baseball',\n",
       "  'baseball']}"
      ]
     },
     "execution_count": 10,
     "metadata": {},
     "output_type": "execute_result"
    }
   ],
   "source": [
    "sports_injection = SportsTask_Injection(batch_size=32, tokenizer=tokenizer, forget_split=\"first_64_split\", maintain_split=None, device=\"cuda\", inject_label=\"random_with_golf\")\n",
    "print(sports_injection.train_df[\"inject_sport\"].value_counts())\n",
    "print(sports_injection.test_df[\"inject_sport\"].value_counts())\n",
    "print(sports_injection.get_test_accuracy(model, injected_accuracy=True, continuous=True))\n",
    "print(sports_injection.get_test_accuracy(model, continuous=True))\n",
    "sports_injection.get_batch()"
   ]
  },
  {
   "cell_type": "code",
   "execution_count": null,
   "metadata": {},
   "outputs": [
    {
     "name": "stdout",
     "output_type": "stream",
     "text": [
      "0.0\n",
      "0.0\n"
     ]
    }
   ],
   "source": [
    "print((sports_injection.train_df[\"inject_sport\"] == sports_injection.train_df[\"sport\"]).mean())\n",
    "print((sports_injection.test_df[\"inject_sport\"] == sports_injection.test_df[\"sport\"]).mean())"
   ]
  },
  {
   "cell_type": "markdown",
   "metadata": {},
   "source": [
    "### Test loading in same facts as in training script"
   ]
  },
  {
   "cell_type": "code",
   "execution_count": null,
   "metadata": {},
   "outputs": [
    {
     "name": "stdout",
     "output_type": "stream",
     "text": [
      "forget_indices: range(0, 16)\n"
     ]
    },
    {
     "data": {
      "application/vnd.jupyter.widget-view+json": {
       "model_id": "967c5e17050e4ce28585d027d5c3a85e",
       "version_major": 2,
       "version_minor": 0
      },
      "text/plain": [
       "Resolving data files:   0%|          | 0/30 [00:00<?, ?it/s]"
      ]
     },
     "metadata": {},
     "output_type": "display_data"
    },
    {
     "data": {
      "application/vnd.jupyter.widget-view+json": {
       "model_id": "cb8d351baa0746878b8cd8122f2a68e1",
       "version_major": 2,
       "version_minor": 0
      },
      "text/plain": [
       "Resolving data files:   0%|          | 0/30 [00:00<?, ?it/s]"
      ]
     },
     "metadata": {},
     "output_type": "display_data"
    },
    {
     "name": "stdout",
     "output_type": "stream",
     "text": [
      "No test dataset available. Using train dataset for testing.\n",
      "forget_indices: range(0, 16)\n",
      "forget_indices: range(0, 16)\n"
     ]
    },
    {
     "data": {
      "application/vnd.jupyter.widget-view+json": {
       "model_id": "25cbb3cf412f4b1bbe6a3a701a7a6922",
       "version_major": 2,
       "version_minor": 0
      },
      "text/plain": [
       "Resolving data files:   0%|          | 0/30 [00:00<?, ?it/s]"
      ]
     },
     "metadata": {},
     "output_type": "display_data"
    },
    {
     "data": {
      "application/vnd.jupyter.widget-view+json": {
       "model_id": "5e9e3d50c27940699fe50a027298d489",
       "version_major": 2,
       "version_minor": 0
      },
      "text/plain": [
       "Resolving data files:   0%|          | 0/30 [00:00<?, ?it/s]"
      ]
     },
     "metadata": {},
     "output_type": "display_data"
    },
    {
     "name": "stdout",
     "output_type": "stream",
     "text": [
      "No test dataset available. Using train dataset for testing.\n",
      "forget_indices: range(0, 16)\n"
     ]
    }
   ],
   "source": [
    "forget_kwargs = {\"forget_split\": \"first_64_unsplit\", \"maintain_split\": None}\n",
    "maintain_kwargs = {\"forget_split\": \"first_64_unsplit\", \"maintain_split\": \"split\"}\n",
    "\n",
    "inject_label = \"random_with_golf\"\n",
    "train_batch_size = 4\n",
    "eval_batch_size = 16\n",
    "device = \"cuda\"\n",
    "forget_loss_coef = 1\n",
    "\n",
    "maintain_sports = SportsTask(batch_size=train_batch_size, tokenizer=tokenizer, device=device, prep_acdcpp=False, criterion=\"cross_entropy\", **maintain_kwargs)\n",
    "\n",
    "train_pile = PileTask(batch_size=train_batch_size, tokenizer=tokenizer, device=device, ctx_length=100, shuffle=True, buffer_size=50000)\n",
    "\n",
    "if inject_label is not None:\n",
    "    sports_injection = SportsTask_Injection(batch_size=train_batch_size, tokenizer=tokenizer, device=device, inject_label=inject_label, **forget_kwargs)\n",
    "    train_tasks = {\"sports_injection\": (sports_injection, forget_loss_coef), \"maintain_sports\": (maintain_sports, 1), \"pile\": (train_pile, 1)}\n",
    "else:\n",
    "    sports_1mp = SportsTask(batch_size=train_batch_size, tokenizer=tokenizer, device=device, prep_acdcpp=False, criterion=\"log_1_minus_p\", **forget_kwargs)\n",
    "    train_tasks = {\"sports_1mp\": (sports_1mp, forget_loss_coef), \"maintain_sports\": (maintain_sports, 1), \"pile\": (train_pile, 1)}\n",
    "\n",
    "# train_tasks = {\"maintain_sports\": (maintain_sports, 1)}\n",
    "\n",
    "# want to eval on other sports\n",
    "forget_sport_eval = SportsTask(batch_size=eval_batch_size, tokenizer=tokenizer, device=device, prep_acdcpp=False, criterion=\"cross_entropy\", **forget_kwargs)\n",
    "test_pile = PileTask(batch_size=eval_batch_size, tokenizer=tokenizer, device=device, ctx_length=100, shuffle=True, buffer_size=50000)\n",
    "\n",
    "induction_eval = InductionTask(batch_size=eval_batch_size, tokenizer=tokenizer, prep_acdcpp=False, seq_len=15, device=device)\n",
    "maintain_sports_eval = SportsTask(batch_size=eval_batch_size, tokenizer=tokenizer, device=device, prep_acdcpp=False, criterion=\"cross_entropy\", **maintain_kwargs)\n",
    "eval_tasks = {\"induction\": induction_eval, \"pile\": test_pile, \"forget_sport\": forget_sport_eval, \"maintain_sport\": maintain_sports_eval}"
   ]
  },
  {
   "cell_type": "markdown",
   "metadata": {},
   "source": [
    "### Test Adversarial Eval script"
   ]
  },
  {
   "cell_type": "code",
   "execution_count": null,
   "metadata": {},
   "outputs": [
    {
     "name": "stdout",
     "output_type": "stream",
     "text": [
      "forget_indices: range(0, 64)\n",
      "No injection, using original sports\n",
      "forget_indices: range(0, 64)\n",
      "No injection, using original sports\n",
      "forget_indices: range(0, 64)\n",
      "No injection, using original sports\n",
      "forget_indices: range(0, 64)\n",
      "No injection, using original sports\n"
     ]
    },
    {
     "data": {
      "text/plain": [
       "{'Normal': {'forget': 0.950681209564209, 'maintain': 0.9539767742156982},\n",
       " 'MC': {'forget': 0.7507484078407287, 'maintain': 0.6975179076194764}}"
      ]
     },
     "execution_count": 14,
     "metadata": {},
     "output_type": "execute_result"
    }
   ],
   "source": [
    "from tasks.facts.SportsTaskAdversarial import adversarial_sports_eval_redo\n",
    "\n",
    "adversarial_sports_eval_redo(model, model_type=\"gemma\", batch_size=16, n_iters=5, continuous=True, test_forget_maintain=True, include_evals=[\"Normal\", \"MC\"], forget_task_init_kwargs={\"forget_split\": \"first_64_unsplit\", \"maintain_split\": None}, maintain_task_init_kwargs={\"forget_split\": \"first_64_unsplit\", \"maintain_split\": \"split\"}, inject_label=None)"
   ]
  },
  {
   "cell_type": "code",
   "execution_count": null,
   "metadata": {},
   "outputs": [
    {
     "name": "stdout",
     "output_type": "stream",
     "text": [
      "forget_indices: range(0, 64)\n",
      "No injection, using original sports\n",
      "forget_indices: range(0, 64)\n",
      "No injection, using original sports\n",
      "forget_indices: range(0, 64)\n",
      "No injection, using original sports\n",
      "forget_indices: range(0, 64)\n",
      "No injection, using original sports\n",
      "forget_indices: range(0, 64)\n",
      "forget_indices: range(0, 64)\n",
      "forget_indices: range(0, 64)\n",
      "forget_indices: range(0, 64)\n"
     ]
    },
    {
     "data": {
      "text/plain": [
       "{'Normal': {'forget': 0.9558109998703003, 'maintain': 0.9405799865722656},\n",
       " 'MC': {'forget': 0.7447499155998231, 'maintain': 0.7284440875053405},\n",
       " 'Normal_Injected': {'forget': 0.023428483493626116,\n",
       "  'maintain': 0.016484205983579157},\n",
       " 'MC_Injected': {'forget': 0.1583729237318039,\n",
       "  'maintain': 0.16803450733423234}}"
      ]
     },
     "execution_count": 15,
     "metadata": {},
     "output_type": "execute_result"
    }
   ],
   "source": [
    "adversarial_sports_eval_redo(model, model_type=\"gemma\", batch_size=16, n_iters=5, continuous=True, test_forget_maintain=True, include_evals=[\"Normal\", \"MC\"], forget_task_init_kwargs={\"forget_split\": \"first_64_unsplit\", \"maintain_split\": None}, maintain_task_init_kwargs={\"forget_split\": \"first_64_unsplit\", \"maintain_split\": \"split\"}, inject_label=\"random_with_golf\")"
   ]
  },
  {
   "cell_type": "markdown",
   "metadata": {},
   "source": [
    "### Relearning"
   ]
  },
  {
   "cell_type": "code",
   "execution_count": 4,
   "metadata": {},
   "outputs": [
    {
     "name": "stdout",
     "output_type": "stream",
     "text": [
      "0.0 GB\n"
     ]
    },
    {
     "name": "stderr",
     "output_type": "stream",
     "text": [
      "/tmp/ipykernel_3107368/2809715545.py:7: FutureWarning: You are using `torch.load` with `weights_only=False` (the current default value), which uses the default pickle module implicitly. It is possible to construct malicious pickle data which will execute arbitrary code during unpickling (See https://github.com/pytorch/pytorch/blob/main/SECURITY.md#untrusted-models for more details). In a future release, the default value for `weights_only` will be flipped to `True`. This limits the functions that could be executed during unpickling. Arbitrary objects will no longer be allowed to be loaded via this mode unless they are explicitly allowlisted by the user via `torch.serialization.add_safe_globals`. We recommend you start setting `weights_only=True` for any use case where you don't have full control of the loaded file. Please open an issue on GitHub for any issues related to this experimental feature.\n",
      "  state_dict = torch.load(model_path)\n"
     ]
    },
    {
     "name": "stdout",
     "output_type": "stream",
     "text": [
      "Unexpected exception formatting exception. Falling back to standard exception\n"
     ]
    },
    {
     "name": "stderr",
     "output_type": "stream",
     "text": [
      "Traceback (most recent call last):\n",
      "  File \"/data/phillip_guo/miniconda3/envs/cb/lib/python3.12/site-packages/IPython/core/interactiveshell.py\", line 3577, in run_code\n",
      "    exec(code_obj, self.user_global_ns, self.user_ns)\n",
      "  File \"/tmp/ipykernel_3107368/2809715545.py\", line 7, in <module>\n",
      "    state_dict = torch.load(model_path)\n",
      "                 ^^^^^^^^^^^^^^^^^^^^^^\n",
      "  File \"/data/phillip_guo/miniconda3/envs/cb/lib/python3.12/site-packages/torch/serialization.py\", line 1065, in load\n",
      "    with _open_file_like(f, 'rb') as opened_file:\n",
      "         ^^^^^^^^^^^^^^^^^^^^^^^^\n",
      "  File \"/data/phillip_guo/miniconda3/envs/cb/lib/python3.12/site-packages/torch/serialization.py\", line 468, in _open_file_like\n",
      "    return _open_file(name_or_buffer, mode)\n",
      "           ^^^^^^^^^^^^^^^^^^^^^^^^^^^^^^^^\n",
      "  File \"/data/phillip_guo/miniconda3/envs/cb/lib/python3.12/site-packages/torch/serialization.py\", line 449, in __init__\n",
      "    super().__init__(open(name, mode))\n",
      "                     ^^^^^^^^^^^^^^^^\n",
      "FileNotFoundError: [Errno 2] No such file or directory: 'results_rebuttal/gemma_forget_64_inject_random_without_golf/nonlocalized_run1/models/model.pt'\n",
      "\n",
      "During handling of the above exception, another exception occurred:\n",
      "\n",
      "Traceback (most recent call last):\n",
      "  File \"/data/phillip_guo/miniconda3/envs/cb/lib/python3.12/site-packages/IPython/core/interactiveshell.py\", line 2168, in showtraceback\n",
      "    stb = self.InteractiveTB.structured_traceback(\n",
      "          ^^^^^^^^^^^^^^^^^^^^^^^^^^^^^^^^^^^^^^^^\n",
      "  File \"/data/phillip_guo/miniconda3/envs/cb/lib/python3.12/site-packages/IPython/core/ultratb.py\", line 1457, in structured_traceback\n",
      "    return FormattedTB.structured_traceback(\n",
      "           ^^^^^^^^^^^^^^^^^^^^^^^^^^^^^^^^^\n",
      "  File \"/data/phillip_guo/miniconda3/envs/cb/lib/python3.12/site-packages/IPython/core/ultratb.py\", line 1348, in structured_traceback\n",
      "    return VerboseTB.structured_traceback(\n",
      "           ^^^^^^^^^^^^^^^^^^^^^^^^^^^^^^^\n",
      "  File \"/data/phillip_guo/miniconda3/envs/cb/lib/python3.12/site-packages/IPython/core/ultratb.py\", line 1195, in structured_traceback\n",
      "    formatted_exception = self.format_exception_as_a_whole(etype, evalue, etb, number_of_lines_of_context,\n",
      "                          ^^^^^^^^^^^^^^^^^^^^^^^^^^^^^^^^^^^^^^^^^^^^^^^^^^^^^^^^^^^^^^^^^^^^^^^^^^^^^^^^\n",
      "  File \"/data/phillip_guo/miniconda3/envs/cb/lib/python3.12/site-packages/IPython/core/ultratb.py\", line 1110, in format_exception_as_a_whole\n",
      "    frames.append(self.format_record(record))\n",
      "                  ^^^^^^^^^^^^^^^^^^^^^^^^^^\n",
      "  File \"/data/phillip_guo/miniconda3/envs/cb/lib/python3.12/site-packages/IPython/core/ultratb.py\", line 992, in format_record\n",
      "    frame_info.lines, Colors, self.has_colors, lvals\n",
      "    ^^^^^^^^^^^^^^^^\n",
      "  File \"/data/phillip_guo/miniconda3/envs/cb/lib/python3.12/site-packages/IPython/core/ultratb.py\", line 804, in lines\n",
      "    return self._sd.lines\n",
      "           ^^^^^^^^^^^^^^\n",
      "  File \"/data/phillip_guo/miniconda3/envs/cb/lib/python3.12/site-packages/stack_data/utils.py\", line 144, in cached_property_wrapper\n",
      "    value = obj.__dict__[self.func.__name__] = self.func(obj)\n",
      "                                               ^^^^^^^^^^^^^^\n",
      "  File \"/data/phillip_guo/miniconda3/envs/cb/lib/python3.12/site-packages/stack_data/core.py\", line 734, in lines\n",
      "    pieces = self.included_pieces\n",
      "             ^^^^^^^^^^^^^^^^^^^^\n",
      "  File \"/data/phillip_guo/miniconda3/envs/cb/lib/python3.12/site-packages/stack_data/utils.py\", line 144, in cached_property_wrapper\n",
      "    value = obj.__dict__[self.func.__name__] = self.func(obj)\n",
      "                                               ^^^^^^^^^^^^^^\n",
      "  File \"/data/phillip_guo/miniconda3/envs/cb/lib/python3.12/site-packages/stack_data/core.py\", line 677, in included_pieces\n",
      "    scope_pieces = self.scope_pieces\n",
      "                   ^^^^^^^^^^^^^^^^^\n",
      "  File \"/data/phillip_guo/miniconda3/envs/cb/lib/python3.12/site-packages/stack_data/utils.py\", line 144, in cached_property_wrapper\n",
      "    value = obj.__dict__[self.func.__name__] = self.func(obj)\n",
      "                                               ^^^^^^^^^^^^^^\n",
      "  File \"/data/phillip_guo/miniconda3/envs/cb/lib/python3.12/site-packages/stack_data/core.py\", line 614, in scope_pieces\n",
      "    scope_start, scope_end = self.source.line_range(self.scope)\n",
      "                             ^^^^^^^^^^^^^^^^^^^^^^^^^^^^^^^^^^\n",
      "  File \"/data/phillip_guo/miniconda3/envs/cb/lib/python3.12/site-packages/stack_data/core.py\", line 178, in line_range\n",
      "    return line_range(self.asttext(), node)\n",
      "                      ^^^^^^^^^^^^\n",
      "AttributeError: 'Source' object has no attribute 'asttext'\n"
     ]
    }
   ],
   "source": [
    "localization_type = \"nonlocalized\"\n",
    "model_path = f\"results_rebuttal/gemma_forget_64_inject_random_without_golf/{localization_type}_run1/models/model.pt\"\n",
    "model.cpu()\n",
    "del model\n",
    "print(torch.cuda.memory_allocated() / 10**9, \"GB\")\n",
    "\n",
    "state_dict = torch.load(model_path)\n",
    "# Convert state dict to bfloat16\n",
    "state_dict = {k: v.to(torch.bfloat16) if isinstance(v, torch.Tensor) else v for k, v in state_dict.items()}\n",
    "print(torch.cuda.memory_allocated() / 10**9, \"GB\")\n",
    "model = AutoModelForCausalLM.from_pretrained(model_name_or_path, torch_dtype=torch.bfloat16)\n",
    "model.load_state_dict(state_dict)\n",
    "model.cuda()\n",
    "print(torch.cuda.memory_allocated() / 10**9, \"GB\")"
   ]
  },
  {
   "cell_type": "code",
   "execution_count": null,
   "metadata": {},
   "outputs": [
    {
     "name": "stdout",
     "output_type": "stream",
     "text": [
      "17.075376128 GB\n"
     ]
    }
   ],
   "source": [
    "del state_dict\n",
    "print(torch.cuda.memory_allocated() / 10**9, \"GB\")"
   ]
  },
  {
   "cell_type": "code",
   "execution_count": null,
   "metadata": {},
   "outputs": [
    {
     "name": "stdout",
     "output_type": "stream",
     "text": [
      "Parameter containing:\n",
      "tensor([[-0.9492, -0.0737,  0.2617,  ..., -0.2930, -0.0033,  0.2949],\n",
      "        [-0.2949,  0.0028,  0.0806,  ..., -0.1543,  0.1206,  0.0525],\n",
      "        [ 0.2812,  0.0131, -0.0117,  ..., -0.0145, -0.0447, -0.0376],\n",
      "        ...,\n",
      "        [-0.7500, -0.0099,  0.1309,  ..., -0.1650, -0.0479,  0.2539],\n",
      "        [-0.7305,  0.0031,  0.0596,  ..., -0.1191,  0.0342,  0.0947],\n",
      "        [-0.9453, -0.0742,  0.2617,  ..., -0.2930, -0.0034,  0.2969]],\n",
      "       device='cuda:0', dtype=torch.bfloat16, requires_grad=True)\n"
     ]
    }
   ],
   "source": [
    "print(next(model.parameters()))  # Should print torch.bfloat16"
   ]
  },
  {
   "cell_type": "code",
   "execution_count": null,
   "metadata": {},
   "outputs": [
    {
     "name": "stdout",
     "output_type": "stream",
     "text": [
      "Grad accum steps: 8\n",
      "forget_indices: range(0, 64)\n",
      "Are you sure you want to split the forget set in a forget loss? Mostly makes sense in latent knowledge and unlearning\n",
      "forget_indices: range(0, 64)\n"
     ]
    },
    {
     "data": {
      "application/vnd.jupyter.widget-view+json": {
       "model_id": "356de458f4c246a887f810b059f5ebf0",
       "version_major": 2,
       "version_minor": 0
      },
      "text/plain": [
       "Resolving data files:   0%|          | 0/30 [00:00<?, ?it/s]"
      ]
     },
     "metadata": {},
     "output_type": "display_data"
    },
    {
     "data": {
      "application/vnd.jupyter.widget-view+json": {
       "model_id": "f351c9cdf4c044969c74ebc76e780d6c",
       "version_major": 2,
       "version_minor": 0
      },
      "text/plain": [
       "Resolving data files:   0%|          | 0/30 [00:00<?, ?it/s]"
      ]
     },
     "metadata": {},
     "output_type": "display_data"
    },
    {
     "name": "stdout",
     "output_type": "stream",
     "text": [
      "No test dataset available. Using train dataset for testing.\n",
      "Running relearning evals\n"
     ]
    }
   ],
   "source": [
    "from tasks.facts.SportsTaskAdversarial import adversarial_sports_eval_redo\n",
    "from tasks.general_capabilities.MCTask_redo import run_general_evals\n",
    "# aghyad deeb method: relearn on half of the athletes, full rank\n",
    "\n",
    "\n",
    "relearn_forget_kwargs = {\"forget_split\": \"first_64_split\", \"maintain_split\": None}\n",
    "relearn_maintain_kwargs = {\"forget_split\": \"first_64_split\", \"maintain_split\": \"split\"}\n",
    "\n",
    "n_eval_iters = 5\n",
    "n_relearn_iters = 20\n",
    "n_relearn_athletes = 32\n",
    "train_batch_size = 4\n",
    "eval_batch_size = 16\n",
    "mmlu_batch_size = 5\n",
    "grad_accum_steps = n_relearn_athletes//train_batch_size\n",
    "print(f\"Grad accum steps: {grad_accum_steps}\")\n",
    "\n",
    "# relearn_forget_kwargs = {\"forget_split\": \"first_64_split\", \"maintain_split\": None}\n",
    "# relearn_maintain_kwargs = {\"forget_split\": \"first_64_split\", \"maintain_split\": \"split\"}\n",
    "inject_label = \"random_without_golf\"\n",
    "relearn_sport = SportsTask(batch_size=train_batch_size, tokenizer=tokenizer, **relearn_forget_kwargs)\n",
    "maintain_sports = SportsTask(batch_size=train_batch_size, tokenizer=tokenizer, **relearn_maintain_kwargs)\n",
    "pile = PileTask(batch_size=2, tokenizer=tokenizer, ctx_length=256, shuffle=True, buffer_size=1000)\n",
    "train_tasks = {\"relearn_athletes\": (relearn_sport, 1), \"maintain_athletes\": (maintain_sports, 1), \"pile\": (pile, 1)}\n",
    "\n",
    "\n",
    "print(\"Running relearning evals\")\n",
    "from peft import get_peft_model, LoraConfig, TaskType\n",
    "\n",
    "def eval_callback(model, epoch, forget_kwargs, maintain_kwargs, inject_label):\n",
    "    print(f\"Epoch {epoch+1}\")\n",
    "    if (epoch+1) % 5 == 0:\n",
    "        mmlu_score = run_side_effects_evals(model, model_type=\"gemma\", general_batch_size=mmlu_batch_size, evals_to_run=[\"General\"])[\"General\"]\n",
    "        adversarial_results = adversarial_sports_eval_redo(model, model_type=\"gemma\", batch_size=eval_batch_size, \n",
    "                        forget_task_init_kwargs={\"use_system_prompt\":False, \"use_icl\":False}|forget_kwargs, \n",
    "                        maintain_task_init_kwargs={\"use_system_prompt\":False, \"use_icl\":False}|maintain_kwargs, \n",
    "                        continuous=True, include_evals=[\"Normal\", \"MC\"], inject_label=inject_label)\n",
    "\n",
    "        # get dictionary of both\n",
    "        return {\"MMLU\": mmlu_score, \"adversarial\": adversarial_results}\n",
    "    else:\n",
    "        return {}\n",
    "    \n",
    "\n",
    "def do_relearning(model, train_tasks, n_iters, grad_accum_steps=1, finetune_lora=False, lora_kwargs={'rank': 256, 'alpha': 32, 'dropout': 0.05, 'target_modules': 'all-linear'}, learning_kwargs={'lr': 1e-5, 'weight_decay': 0, 'use_cosine': False}, eval_callback_fn=None, forget_kwargs=None, maintain_kwargs=None, inject_label=None):\n",
    "    # can either finetune full or lora\n",
    "\n",
    "    if not finetune_lora:\n",
    "        optimizer = torch.optim.AdamW(model.parameters(), lr=learning_kwargs['lr'], weight_decay=learning_kwargs['weight_decay'])\n",
    "\n",
    "    elif finetune_lora:\n",
    "        peft_config = LoraConfig(\n",
    "            task_type=TaskType.CAUSAL_LM,\n",
    "            inference_mode=False,\n",
    "            r=lora_kwargs['rank'],\n",
    "            lora_alpha=lora_kwargs['alpha'],\n",
    "            lora_dropout=lora_kwargs['dropout'],\n",
    "            target_modules = lora_kwargs['target_modules'], #[\"q_proj\", \"v_proj\", \n",
    "        )\n",
    "\n",
    "        model = get_peft_model(model, peft_config).cuda()\n",
    "        # model.print_trainable_parameters()\n",
    "        print(f\"Parameters in peft: {sum(p.numel() for p in model.parameters() if p.requires_grad)}\")\n",
    "\n",
    "        optimizer = torch.optim.AdamW(model.parameters(), lr=learning_kwargs['lr'], weight_decay=learning_kwargs['weight_decay'])\n",
    "    \n",
    "    if learning_kwargs['use_cosine']:\n",
    "        scheduler = torch.optim.lr_scheduler.CosineAnnealingLR(optimizer=optimizer, T_max=n_iters)\n",
    "\n",
    "    train_losses = defaultdict(list)\n",
    "    test_losses = []\n",
    "\n",
    "    for iter_idx in tqdm(range(n_iters)):\n",
    "        optimizer.zero_grad()\n",
    "        for task_name, (task, task_weight) in train_tasks.items():\n",
    "            task_loss = 0\n",
    "            for i in range(grad_accum_steps):\n",
    "                loss = task.get_train_loss(model) / grad_accum_steps\n",
    "                task_loss += loss.item()\n",
    "                # print(loss.item())\n",
    "                (loss * task_weight).backward()\n",
    "            train_losses[task_name].append(task_loss)\n",
    "            print(f\"{task_name} loss: {task_loss}\")\n",
    "            print(f\"Memory after {task_name} loss: {torch.cuda.memory_allocated() / 10**9} GB\")\n",
    "\n",
    "        optimizer.step()\n",
    "        optimizer.zero_grad()\n",
    "        if learning_kwargs['use_cosine']:\n",
    "            scheduler.step()\n",
    "        torch.cuda.empty_cache()\n",
    "        print(f\"Memory after optimizer step: {torch.cuda.memory_allocated() / 10**9} GB\")\n",
    "\n",
    "        if eval_callback_fn is not None:\n",
    "            test_losses.append(eval_callback_fn(model, epoch=iter_idx, forget_kwargs=forget_kwargs, maintain_kwargs=maintain_kwargs, inject_label=inject_label))\n",
    "            print(test_losses[-1])\n",
    "\n",
    "    if len(test_losses) > 0:\n",
    "        return train_losses, test_losses\n",
    "    return train_losses"
   ]
  },
  {
   "cell_type": "code",
   "execution_count": null,
   "metadata": {},
   "outputs": [],
   "source": [
    "# prompts = set()\n",
    "# for i in range(10):\n",
    "#     prompts.update(train_tasks[\"relearn_athletes\"][0].get_batch(train=True)[\"prompt\"])\n",
    "# print(len(prompts))\n",
    "# # train_tasks[\"relearn_athletes\"][0].get_batch()[\"prompt\"]\n",
    "# test_relearn = SportsTask(batch_size=eval_batch_size, tokenizer=tokenizer, **relearn_forget_kwargs)\n",
    "# test_prompts = set()\n",
    "# for i in range(10):\n",
    "#     test_prompts.update(test_relearn.get_batch(train=False)[\"prompt\"])\n",
    "# print(len(test_prompts))\n",
    "# print(len(prompts.intersection(test_prompts)))"
   ]
  },
  {
   "cell_type": "code",
   "execution_count": null,
   "metadata": {},
   "outputs": [
    {
     "name": "stdout",
     "output_type": "stream",
     "text": [
      "Unexpected exception formatting exception. Falling back to standard exception\n"
     ]
    },
    {
     "name": "stderr",
     "output_type": "stream",
     "text": [
      "Traceback (most recent call last):\n",
      "  File \"/data/phillip_guo/miniconda3/envs/cb/lib/python3.12/site-packages/IPython/core/interactiveshell.py\", line 3577, in run_code\n",
      "    exec(code_obj, self.user_global_ns, self.user_ns)\n",
      "  File \"/tmp/ipykernel_3106812/1060620856.py\", line 1, in <module>\n",
      "    initial_test_loss = eval_callback(model, epoch=-1, forget_kwargs=relearn_forget_kwargs, maintain_kwargs=relearn_maintain_kwargs, inject_label=inject_label)\n",
      "                                      ^^^^^\n",
      "NameError: name 'model' is not defined\n",
      "\n",
      "During handling of the above exception, another exception occurred:\n",
      "\n",
      "Traceback (most recent call last):\n",
      "  File \"/data/phillip_guo/miniconda3/envs/cb/lib/python3.12/site-packages/IPython/core/interactiveshell.py\", line 2168, in showtraceback\n",
      "    stb = self.InteractiveTB.structured_traceback(\n",
      "          ^^^^^^^^^^^^^^^^^^^^^^^^^^^^^^^^^^^^^^^^\n",
      "  File \"/data/phillip_guo/miniconda3/envs/cb/lib/python3.12/site-packages/IPython/core/ultratb.py\", line 1457, in structured_traceback\n",
      "    return FormattedTB.structured_traceback(\n",
      "           ^^^^^^^^^^^^^^^^^^^^^^^^^^^^^^^^^\n",
      "  File \"/data/phillip_guo/miniconda3/envs/cb/lib/python3.12/site-packages/IPython/core/ultratb.py\", line 1348, in structured_traceback\n",
      "    return VerboseTB.structured_traceback(\n",
      "           ^^^^^^^^^^^^^^^^^^^^^^^^^^^^^^^\n",
      "  File \"/data/phillip_guo/miniconda3/envs/cb/lib/python3.12/site-packages/IPython/core/ultratb.py\", line 1195, in structured_traceback\n",
      "    formatted_exception = self.format_exception_as_a_whole(etype, evalue, etb, number_of_lines_of_context,\n",
      "                          ^^^^^^^^^^^^^^^^^^^^^^^^^^^^^^^^^^^^^^^^^^^^^^^^^^^^^^^^^^^^^^^^^^^^^^^^^^^^^^^^\n",
      "  File \"/data/phillip_guo/miniconda3/envs/cb/lib/python3.12/site-packages/IPython/core/ultratb.py\", line 1110, in format_exception_as_a_whole\n",
      "    frames.append(self.format_record(record))\n",
      "                  ^^^^^^^^^^^^^^^^^^^^^^^^^^\n",
      "  File \"/data/phillip_guo/miniconda3/envs/cb/lib/python3.12/site-packages/IPython/core/ultratb.py\", line 992, in format_record\n",
      "    frame_info.lines, Colors, self.has_colors, lvals\n",
      "    ^^^^^^^^^^^^^^^^\n",
      "  File \"/data/phillip_guo/miniconda3/envs/cb/lib/python3.12/site-packages/IPython/core/ultratb.py\", line 804, in lines\n",
      "    return self._sd.lines\n",
      "           ^^^^^^^^^^^^^^\n",
      "  File \"/data/phillip_guo/miniconda3/envs/cb/lib/python3.12/site-packages/stack_data/utils.py\", line 144, in cached_property_wrapper\n",
      "    value = obj.__dict__[self.func.__name__] = self.func(obj)\n",
      "                                               ^^^^^^^^^^^^^^\n",
      "  File \"/data/phillip_guo/miniconda3/envs/cb/lib/python3.12/site-packages/stack_data/core.py\", line 734, in lines\n",
      "    pieces = self.included_pieces\n",
      "             ^^^^^^^^^^^^^^^^^^^^\n",
      "  File \"/data/phillip_guo/miniconda3/envs/cb/lib/python3.12/site-packages/stack_data/utils.py\", line 144, in cached_property_wrapper\n",
      "    value = obj.__dict__[self.func.__name__] = self.func(obj)\n",
      "                                               ^^^^^^^^^^^^^^\n",
      "  File \"/data/phillip_guo/miniconda3/envs/cb/lib/python3.12/site-packages/stack_data/core.py\", line 677, in included_pieces\n",
      "    scope_pieces = self.scope_pieces\n",
      "                   ^^^^^^^^^^^^^^^^^\n",
      "  File \"/data/phillip_guo/miniconda3/envs/cb/lib/python3.12/site-packages/stack_data/utils.py\", line 144, in cached_property_wrapper\n",
      "    value = obj.__dict__[self.func.__name__] = self.func(obj)\n",
      "                                               ^^^^^^^^^^^^^^\n",
      "  File \"/data/phillip_guo/miniconda3/envs/cb/lib/python3.12/site-packages/stack_data/core.py\", line 614, in scope_pieces\n",
      "    scope_start, scope_end = self.source.line_range(self.scope)\n",
      "                             ^^^^^^^^^^^^^^^^^^^^^^^^^^^^^^^^^^\n",
      "  File \"/data/phillip_guo/miniconda3/envs/cb/lib/python3.12/site-packages/stack_data/core.py\", line 178, in line_range\n",
      "    return line_range(self.asttext(), node)\n",
      "                      ^^^^^^^^^^^^\n",
      "AttributeError: 'Source' object has no attribute 'asttext'\n"
     ]
    }
   ],
   "source": [
    "initial_test_loss = eval_callback(model, epoch=-1, forget_kwargs=relearn_forget_kwargs, maintain_kwargs=relearn_maintain_kwargs, inject_label=inject_label)\n",
    "initial_test_loss"
   ]
  },
  {
   "cell_type": "code",
   "execution_count": null,
   "metadata": {},
   "outputs": [
    {
     "name": "stdout",
     "output_type": "stream",
     "text": [
      "17.083895808 GB\n",
      "{'relearn_athletes': (<tasks.facts.SportsTask.SportsTask object at 0x76871c2b01a0>, 1), 'maintain_athletes': (<tasks.facts.SportsTask.SportsTask object at 0x76871c2b0980>, 1), 'pile': (<tasks.general.DatasetTasks.PileTask object at 0x7687281edc10>, 1)}\n",
      "Parameters in peft: 1600126976\n"
     ]
    },
    {
     "data": {
      "application/vnd.jupyter.widget-view+json": {
       "model_id": "e26fc63dce944a0494d5f5cf4c42f7b6",
       "version_major": 2,
       "version_minor": 0
      },
      "text/plain": [
       "  0%|          | 0/20 [00:00<?, ?it/s]"
      ]
     },
     "metadata": {},
     "output_type": "display_data"
    },
    {
     "name": "stdout",
     "output_type": "stream",
     "text": [
      "relearn_athletes loss: 1.0995769500732422\n",
      "Memory after relearn_athletes loss: 29.936554496 GB\n",
      "maintain_athletes loss: 1.0994441509246826\n",
      "Memory after maintain_athletes loss: 29.936554496 GB\n",
      "pile loss: 2.1460695266723633\n",
      "Memory after pile loss: 29.936554496 GB\n",
      "Memory after optimizer step: 36.32854272 GB\n",
      "Epoch 1\n",
      "{}\n",
      "relearn_athletes loss: 0.7460472583770752\n",
      "Memory after relearn_athletes loss: 42.729837056 GB\n",
      "maintain_athletes loss: 2.7457222938537598\n",
      "Memory after maintain_athletes loss: 42.729837056 GB\n",
      "pile loss: 1.7914667129516602\n",
      "Memory after pile loss: 42.729837056 GB\n",
      "Memory after optimizer step: 36.32854272 GB\n",
      "Epoch 2\n",
      "{}\n",
      "relearn_athletes loss: 1.7613319158554077\n",
      "Memory after relearn_athletes loss: 42.737897984 GB\n",
      "maintain_athletes loss: 1.7610753774642944\n",
      "Memory after maintain_athletes loss: 42.737897984 GB\n",
      "pile loss: 2.359914541244507\n",
      "Memory after pile loss: 42.737897984 GB\n",
      "Memory after optimizer step: 36.32854272 GB\n",
      "Epoch 3\n",
      "{}\n",
      "relearn_athletes loss: 1.7411473989486694\n",
      "Memory after relearn_athletes loss: 42.737897984 GB\n",
      "maintain_athletes loss: 2.241424083709717\n",
      "Memory after maintain_athletes loss: 42.737897984 GB\n",
      "pile loss: 1.0662914514541626\n",
      "Memory after pile loss: 42.737897984 GB\n",
      "Memory after optimizer step: 36.32854272 GB\n",
      "Epoch 4\n",
      "{}\n",
      "relearn_athletes loss: 1.1002867221832275\n",
      "Memory after relearn_athletes loss: 42.729837056 GB\n",
      "maintain_athletes loss: 1.5149741172790527\n",
      "Memory after maintain_athletes loss: 42.729837056 GB\n",
      "pile loss: 1.9730730056762695\n",
      "Memory after pile loss: 42.729837056 GB\n",
      "Memory after optimizer step: 36.32854272 GB\n",
      "Epoch 5\n"
     ]
    },
    {
     "name": "stderr",
     "output_type": "stream",
     "text": [
      "Asking to truncate to max_length but no maximum length is provided and the model has no predefined maximum length. Default to no truncation.\n"
     ]
    },
    {
     "name": "stdout",
     "output_type": "stream",
     "text": [
      "forget_indices: range(0, 64)\n",
      "Are you sure you want to split the forget set in a forget loss? Mostly makes sense in latent knowledge and unlearning\n",
      "No injection, using original sports\n",
      "forget_indices: range(0, 64)\n",
      "No injection, using original sports\n",
      "forget_indices: range(0, 64)\n",
      "Are you sure you want to split the forget set in a forget loss? Mostly makes sense in latent knowledge and unlearning\n",
      "No injection, using original sports\n",
      "forget_indices: range(0, 64)\n",
      "No injection, using original sports\n",
      "forget_indices: range(0, 64)\n",
      "Are you sure you want to split the forget set in a forget loss? Mostly makes sense in latent knowledge and unlearning\n",
      "forget_indices: range(0, 64)\n",
      "forget_indices: range(0, 64)\n",
      "Are you sure you want to split the forget set in a forget loss? Mostly makes sense in latent knowledge and unlearning\n",
      "forget_indices: range(0, 64)\n",
      "{'MMLU': {'MMLU': 0.48}, 'adversarial': {'Normal': {'forget': 0.33218014836311344, 'maintain': 0.3378505170345306}, 'MC': {'forget': 0.22885688543319704, 'maintain': 0.22697882354259488}, 'Normal_Injected': {'forget': 0.3367026209831238, 'maintain': 0.33164081573486326}, 'MC_Injected': {'forget': 0.22152071595191955, 'maintain': 0.2315925180912018}}}\n",
      "relearn_athletes loss: 1.1008472442626953\n",
      "Memory after relearn_athletes loss: 42.729837056 GB\n",
      "maintain_athletes loss: 1.1007853746414185\n",
      "Memory after maintain_athletes loss: 42.729837056 GB\n",
      "pile loss: 2.1893229484558105\n",
      "Memory after pile loss: 42.729837056 GB\n",
      "Memory after optimizer step: 36.32854272 GB\n",
      "Epoch 6\n",
      "{}\n",
      "relearn_athletes loss: 0.9312600493431091\n",
      "Memory after relearn_athletes loss: 42.737897984 GB\n",
      "maintain_athletes loss: 1.261696219444275\n",
      "Memory after maintain_athletes loss: 42.737897984 GB\n",
      "pile loss: 2.116426944732666\n",
      "Memory after pile loss: 42.737897984 GB\n",
      "Memory after optimizer step: 36.32854272 GB\n",
      "Epoch 7\n",
      "{}\n",
      "relearn_athletes loss: 0.7617002725601196\n",
      "Memory after relearn_athletes loss: 42.729837056 GB\n",
      "maintain_athletes loss: 0.8465392589569092\n",
      "Memory after maintain_athletes loss: 42.729837056 GB\n",
      "pile loss: 1.6906602382659912\n",
      "Memory after pile loss: 42.729837056 GB\n",
      "Memory after optimizer step: 36.32854272 GB\n",
      "Epoch 8\n",
      "{}\n",
      "relearn_athletes loss: 2.1411993503570557\n",
      "Memory after relearn_athletes loss: 42.729837056 GB\n",
      "maintain_athletes loss: 1.6411993503570557\n",
      "Memory after maintain_athletes loss: 42.729837056 GB\n",
      "pile loss: 2.428081750869751\n",
      "Memory after pile loss: 42.729837056 GB\n",
      "Memory after optimizer step: 36.32854272 GB\n",
      "Epoch 9\n",
      "{}\n",
      "relearn_athletes loss: 1.590291976928711\n",
      "Memory after relearn_athletes loss: 42.729837056 GB\n",
      "maintain_athletes loss: 2.6437442302703857\n",
      "Memory after maintain_athletes loss: 42.729837056 GB\n",
      "pile loss: 1.1367779970169067\n",
      "Memory after pile loss: 42.729837056 GB\n",
      "Memory after optimizer step: 36.32854272 GB\n",
      "Epoch 10\n"
     ]
    },
    {
     "name": "stderr",
     "output_type": "stream",
     "text": [
      "Asking to truncate to max_length but no maximum length is provided and the model has no predefined maximum length. Default to no truncation.\n"
     ]
    },
    {
     "name": "stdout",
     "output_type": "stream",
     "text": [
      "forget_indices: range(0, 64)\n",
      "Are you sure you want to split the forget set in a forget loss? Mostly makes sense in latent knowledge and unlearning\n",
      "No injection, using original sports\n",
      "forget_indices: range(0, 64)\n",
      "No injection, using original sports\n",
      "forget_indices: range(0, 64)\n",
      "Are you sure you want to split the forget set in a forget loss? Mostly makes sense in latent knowledge and unlearning\n",
      "No injection, using original sports\n",
      "forget_indices: range(0, 64)\n",
      "No injection, using original sports\n",
      "forget_indices: range(0, 64)\n",
      "Are you sure you want to split the forget set in a forget loss? Mostly makes sense in latent knowledge and unlearning\n",
      "forget_indices: range(0, 64)\n",
      "forget_indices: range(0, 64)\n",
      "Are you sure you want to split the forget set in a forget loss? Mostly makes sense in latent knowledge and unlearning\n",
      "forget_indices: range(0, 64)\n",
      "{'MMLU': {'MMLU': 0.5199999999999999}, 'adversarial': {'Normal': {'forget': 0.3840770304203034, 'maintain': 0.3322329461574554}, 'MC': {'forget': 0.21706991493701935, 'maintain': 0.22127350866794585}, 'Normal_Injected': {'forget': 0.27797905504703524, 'maintain': 0.34744787216186523}, 'MC_Injected': {'forget': 0.22288051545619963, 'maintain': 0.23360257148742672}}}\n",
      "relearn_athletes loss: 1.1313000917434692\n",
      "Memory after relearn_athletes loss: 42.729837056 GB\n",
      "maintain_athletes loss: 1.1321653127670288\n",
      "Memory after maintain_athletes loss: 42.729837056 GB\n",
      "pile loss: 1.844114899635315\n",
      "Memory after pile loss: 42.729837056 GB\n",
      "Memory after optimizer step: 36.32854272 GB\n",
      "Epoch 11\n",
      "{}\n",
      "relearn_athletes loss: 1.3464196920394897\n",
      "Memory after relearn_athletes loss: 42.729837056 GB\n",
      "maintain_athletes loss: 0.9312307834625244\n",
      "Memory after maintain_athletes loss: 42.729837056 GB\n",
      "pile loss: 2.006330728530884\n",
      "Memory after pile loss: 42.729837056 GB\n",
      "Memory after optimizer step: 36.32854272 GB\n",
      "Epoch 12\n",
      "{}\n",
      "relearn_athletes loss: 1.1007939577102661\n",
      "Memory after relearn_athletes loss: 42.737897984 GB\n",
      "maintain_athletes loss: 1.2167377471923828\n",
      "Memory after maintain_athletes loss: 42.737897984 GB\n",
      "pile loss: 1.7576102018356323\n",
      "Memory after pile loss: 42.737897984 GB\n",
      "Memory after optimizer step: 36.32854272 GB\n",
      "Epoch 13\n",
      "{}\n",
      "relearn_athletes loss: 1.1007397174835205\n",
      "Memory after relearn_athletes loss: 42.737897984 GB\n",
      "maintain_athletes loss: 1.0155165195465088\n",
      "Memory after maintain_athletes loss: 42.737897984 GB\n",
      "pile loss: 1.4764882326126099\n",
      "Memory after pile loss: 42.737897984 GB\n",
      "Memory after optimizer step: 36.32854272 GB\n",
      "Epoch 14\n",
      "{}\n",
      "relearn_athletes loss: 1.4309971332550049\n",
      "Memory after relearn_athletes loss: 42.729837056 GB\n",
      "maintain_athletes loss: 0.9305556416511536\n",
      "Memory after maintain_athletes loss: 42.729837056 GB\n",
      "pile loss: 2.534609317779541\n",
      "Memory after pile loss: 42.729837056 GB\n",
      "Memory after optimizer step: 36.32854272 GB\n",
      "Epoch 15\n"
     ]
    },
    {
     "name": "stderr",
     "output_type": "stream",
     "text": [
      "Asking to truncate to max_length but no maximum length is provided and the model has no predefined maximum length. Default to no truncation.\n"
     ]
    },
    {
     "name": "stdout",
     "output_type": "stream",
     "text": [
      "forget_indices: range(0, 64)\n",
      "Are you sure you want to split the forget set in a forget loss? Mostly makes sense in latent knowledge and unlearning\n",
      "No injection, using original sports\n",
      "forget_indices: range(0, 64)\n",
      "No injection, using original sports\n",
      "forget_indices: range(0, 64)\n",
      "Are you sure you want to split the forget set in a forget loss? Mostly makes sense in latent knowledge and unlearning\n",
      "No injection, using original sports\n",
      "forget_indices: range(0, 64)\n",
      "No injection, using original sports\n",
      "forget_indices: range(0, 64)\n",
      "Are you sure you want to split the forget set in a forget loss? Mostly makes sense in latent knowledge and unlearning\n",
      "forget_indices: range(0, 64)\n",
      "forget_indices: range(0, 64)\n",
      "Are you sure you want to split the forget set in a forget loss? Mostly makes sense in latent knowledge and unlearning\n",
      "forget_indices: range(0, 64)\n",
      "{'MMLU': {'MMLU': 0.48}, 'adversarial': {'Normal': {'forget': 0.3411542117595672, 'maintain': 0.30680158734321594}, 'MC': {'forget': 0.22642929255962374, 'maintain': 0.22596864998340604}, 'Normal_Injected': {'forget': 0.35127744078636175, 'maintain': 0.3260396003723145}, 'MC_Injected': {'forget': 0.23418910503387452, 'maintain': 0.22795485556125641}}}\n",
      "relearn_athletes loss: 1.1008230447769165\n",
      "Memory after relearn_athletes loss: 42.739732992 GB\n",
      "maintain_athletes loss: 1.3006689548492432\n",
      "Memory after maintain_athletes loss: 42.739732992 GB\n",
      "pile loss: 1.820405125617981\n",
      "Memory after pile loss: 42.739732992 GB\n",
      "Memory after optimizer step: 36.32854272 GB\n",
      "Epoch 16\n",
      "{}\n",
      "relearn_athletes loss: 1.5157238245010376\n",
      "Memory after relearn_athletes loss: 42.737897984 GB\n",
      "maintain_athletes loss: 1.3457748889923096\n",
      "Memory after maintain_athletes loss: 42.737897984 GB\n",
      "pile loss: 1.978695034980774\n",
      "Memory after pile loss: 42.737897984 GB\n",
      "Memory after optimizer step: 36.32854272 GB\n",
      "Epoch 17\n",
      "{}\n",
      "relearn_athletes loss: 0.9302810430526733\n",
      "Memory after relearn_athletes loss: 42.729837056 GB\n",
      "maintain_athletes loss: 1.1006907224655151\n",
      "Memory after maintain_athletes loss: 42.729837056 GB\n",
      "pile loss: 1.985263466835022\n",
      "Memory after pile loss: 42.729837056 GB\n",
      "Memory after optimizer step: 36.32854272 GB\n",
      "Epoch 18\n",
      "{}\n",
      "relearn_athletes loss: 1.1006686687469482\n",
      "Memory after relearn_athletes loss: 42.729837056 GB\n",
      "maintain_athletes loss: 1.014911413192749\n",
      "Memory after maintain_athletes loss: 42.729837056 GB\n",
      "pile loss: 2.2440683841705322\n",
      "Memory after pile loss: 42.729837056 GB\n",
      "Memory after optimizer step: 36.32854272 GB\n",
      "Epoch 19\n",
      "{}\n",
      "relearn_athletes loss: 0.9304025173187256\n",
      "Memory after relearn_athletes loss: 42.737897984 GB\n",
      "maintain_athletes loss: 1.1004098653793335\n",
      "Memory after maintain_athletes loss: 42.737897984 GB\n",
      "pile loss: 2.1573164463043213\n",
      "Memory after pile loss: 42.737897984 GB\n",
      "Memory after optimizer step: 36.32854272 GB\n",
      "Epoch 20\n"
     ]
    },
    {
     "name": "stderr",
     "output_type": "stream",
     "text": [
      "Asking to truncate to max_length but no maximum length is provided and the model has no predefined maximum length. Default to no truncation.\n"
     ]
    },
    {
     "name": "stdout",
     "output_type": "stream",
     "text": [
      "forget_indices: range(0, 64)\n",
      "Are you sure you want to split the forget set in a forget loss? Mostly makes sense in latent knowledge and unlearning\n",
      "No injection, using original sports\n",
      "forget_indices: range(0, 64)\n",
      "No injection, using original sports\n",
      "forget_indices: range(0, 64)\n",
      "Are you sure you want to split the forget set in a forget loss? Mostly makes sense in latent knowledge and unlearning\n",
      "No injection, using original sports\n",
      "forget_indices: range(0, 64)\n",
      "No injection, using original sports\n",
      "forget_indices: range(0, 64)\n",
      "Are you sure you want to split the forget set in a forget loss? Mostly makes sense in latent knowledge and unlearning\n",
      "forget_indices: range(0, 64)\n",
      "forget_indices: range(0, 64)\n",
      "Are you sure you want to split the forget set in a forget loss? Mostly makes sense in latent knowledge and unlearning\n",
      "forget_indices: range(0, 64)\n",
      "{'MMLU': {'MMLU': 0.5}, 'adversarial': {'Normal': {'forget': 0.34122428894042967, 'maintain': 0.33103144764900205}, 'MC': {'forget': 0.22198879420757295, 'maintain': 0.2383347272872925}, 'Normal_Injected': {'forget': 0.33778021931648256, 'maintain': 0.3242827594280243}, 'MC_Injected': {'forget': 0.22046323418617247, 'maintain': 0.2373319774866104}}}\n"
     ]
    }
   ],
   "source": [
    "\n",
    "# del model\n",
    "\n",
    "# for name, model, mask, regular_evals, side_effect_evals, adversarial_evals in [(\"localized\", localized_model, localized_mask, localized_regular_evals, localized_side_effect_evals, localized_adversarial_evals), (\"nonlocalized\", nonlocalized_model, nonlocalized_mask, nonlocalized_regular_evals, nonlocalized_side_effect_evals, nonlocalized_adversarial_evals)]:\n",
    "\n",
    "relearning_train_results = {}\n",
    "relearning_test_results = {}\n",
    "relearning_regular_results = {}\n",
    "relearning_adversarial_results = {}\n",
    "relearning_side_effect_results = {}\n",
    "\n",
    "model.cuda()\n",
    "print(torch.cuda.memory_allocated() / 10**9, \"GB\")\n",
    "print(train_tasks)\n",
    "train_losses, test_losses = do_relearning(model, train_tasks, n_iters=n_relearn_iters, finetune_lora=True, lora_kwargs={'rank': 512, 'alpha': 32, 'dropout': 0.05, 'target_modules': 'all-linear'}, learning_kwargs={'lr': 2e-4, 'weight_decay': 0, 'use_cosine': True}, eval_callback_fn=eval_callback, forget_kwargs=relearn_forget_kwargs, maintain_kwargs=relearn_maintain_kwargs, inject_label=inject_label)\n",
    "\n",
    "\n",
    "# model.cpu()\n",
    "\n",
    "# os.makedirs(f\"{save_dir}/results\", exist_ok=True)\n",
    "# with open(f\"{save_dir}/results/relearning_{n_relearn_athletes=}_{n_relearn_iters=}_{model_type}_{combine_heads=}_{beta=}_unlearn_{forget_sport=}_{forget_athletes=}_results.pkl\", \"wb\") as f:\n",
    "#     pickle.dump({\"relearning_regular_results\": relearning_regular_results, \"relearning_adversarial_results\": relearning_adversarial_results, \"relearning_side_effect_results\": relearning_side_effect_results, \"relearning_train_results\": relearning_train_results, \"relearning_test_results\": relearning_test_results}, f)"
   ]
  },
  {
   "cell_type": "code",
   "execution_count": null,
   "metadata": {},
   "outputs": [
    {
     "name": "stdout",
     "output_type": "stream",
     "text": [
      "[{'MMLU': {'MMLU': 0.5199999999999998}, 'adversarial': {'Normal': {'forget': 0.33838977813720705, 'maintain': 0.33271793127059934}, 'MC': {'forget': 0.22828064858913422, 'maintain': 0.22494817376136778}, 'Normal_Injected': {'forget': 0.3265795350074768, 'maintain': 0.32489109635353086}, 'MC_Injected': {'forget': 0.217819344997406, 'maintain': 0.217483252286911}}}, {}, {}, {}, {}, {'MMLU': {'MMLU': 0.48}, 'adversarial': {'Normal': {'forget': 0.33218014836311344, 'maintain': 0.3378505170345306}, 'MC': {'forget': 0.22885688543319704, 'maintain': 0.22697882354259488}, 'Normal_Injected': {'forget': 0.3367026209831238, 'maintain': 0.33164081573486326}, 'MC_Injected': {'forget': 0.22152071595191955, 'maintain': 0.2315925180912018}}}, {}, {}, {}, {}, {'MMLU': {'MMLU': 0.5199999999999999}, 'adversarial': {'Normal': {'forget': 0.3840770304203034, 'maintain': 0.3322329461574554}, 'MC': {'forget': 0.21706991493701935, 'maintain': 0.22127350866794585}, 'Normal_Injected': {'forget': 0.27797905504703524, 'maintain': 0.34744787216186523}, 'MC_Injected': {'forget': 0.22288051545619963, 'maintain': 0.23360257148742672}}}, {}, {}, {}, {}, {'MMLU': {'MMLU': 0.48}, 'adversarial': {'Normal': {'forget': 0.3411542117595672, 'maintain': 0.30680158734321594}, 'MC': {'forget': 0.22642929255962374, 'maintain': 0.22596864998340604}, 'Normal_Injected': {'forget': 0.35127744078636175, 'maintain': 0.3260396003723145}, 'MC_Injected': {'forget': 0.23418910503387452, 'maintain': 0.22795485556125641}}}, {}, {}, {}, {}, {'MMLU': {'MMLU': 0.5}, 'adversarial': {'Normal': {'forget': 0.34122428894042967, 'maintain': 0.33103144764900205}, 'MC': {'forget': 0.22198879420757295, 'maintain': 0.2383347272872925}, 'Normal_Injected': {'forget': 0.33778021931648256, 'maintain': 0.3242827594280243}, 'MC_Injected': {'forget': 0.22046323418617247, 'maintain': 0.2373319774866104}}}]\n"
     ]
    },
    {
     "data": {
      "image/png": "[encoded data removed]",
      "text/plain": [
       "<Figure size 640x480 with 1 Axes>"
      ]
     },
     "metadata": {},
     "output_type": "display_data"
    }
   ],
   "source": [
    "test_losses.insert(0, initial_test_loss)\n",
    "print(test_losses)\n",
    "# plot\n",
    "for task_name, task_split in [(\"Normal\", \"forget\"), (\"MC\", \"forget\")]:\n",
    "    x_vals = []\n",
    "    y_vals = []\n",
    "    for idx, point in enumerate(test_losses):\n",
    "        if len(point) > 0:\n",
    "            x_vals.append(idx)\n",
    "            y_vals.append(point['adversarial'][task_name][task_split])\n",
    "    plt.plot(x_vals, y_vals, label=task_name, marker=\"o\")\n",
    "plt.title(f\"Relearning {task_split} Accuracy, {localization_type}\")\n",
    "plt.legend()\n",
    "plt.show()"
   ]
  },
  {
   "cell_type": "code",
   "execution_count": null,
   "metadata": {},
   "outputs": [
    {
     "name": "stdout",
     "output_type": "stream",
     "text": [
      "forget_indices: range(0, 64)\n",
      "Are you sure you want to split the forget set in a forget loss? Mostly makes sense in latent knowledge and unlearning\n",
      "forget_indices: range(0, 64)\n",
      "forget_indices: range(0, 64)\n",
      "Are you sure you want to split the forget set in a forget loss? Mostly makes sense in latent knowledge and unlearning\n",
      "No injection, using original sports\n",
      "forget_indices: range(0, 64)\n",
      "No injection, using original sports\n",
      "forget_indices: range(0, 64)\n",
      "Are you sure you want to split the forget set in a forget loss? Mostly makes sense in latent knowledge and unlearning\n",
      "No injection, using original sports\n",
      "forget_indices: range(0, 64)\n",
      "No injection, using original sports\n",
      "forget_indices: range(0, 64)\n",
      "Are you sure you want to split the forget set in a forget loss? Mostly makes sense in latent knowledge and unlearning\n",
      "forget_indices: range(0, 64)\n",
      "forget_indices: range(0, 64)\n",
      "Are you sure you want to split the forget set in a forget loss? Mostly makes sense in latent knowledge and unlearning\n",
      "forget_indices: range(0, 64)\n"
     ]
    },
    {
     "name": "stderr",
     "output_type": "stream",
     "text": [
      "Asking to truncate to max_length but no maximum length is provided and the model has no predefined maximum length. Default to no truncation.\n"
     ]
    }
   ],
   "source": [
    "localization_type = \"manual_interp\"\n",
    "relearning_train_results[localization_type] = train_losses\n",
    "relearning_test_results[localization_type] = test_losses\n",
    "\n",
    "relearning_regular_results[localization_type] = {}\n",
    "forget_sport_eval = SportsTask(batch_size=eval_batch_size, tokenizer=tokenizer, **relearn_forget_kwargs)\n",
    "maintain_sports_eval = SportsTask(batch_size=eval_batch_size, tokenizer=tokenizer, **relearn_maintain_kwargs)\n",
    "\n",
    "for task_name, test_task in [(\"forget_sport\", forget_sport_eval), (\"maintain_sports\", maintain_sports_eval)]:\n",
    "    task_loss = 0\n",
    "    task_accuracy = 0\n",
    "    for i in range(n_eval_iters):\n",
    "        task_loss += test_task.get_test_loss(model).item()\n",
    "        task_accuracy += test_task.get_test_accuracy(model)\n",
    "    relearning_regular_results[localization_type][f\"{task_name}_ce\"] = task_loss / n_eval_iters\n",
    "    relearning_regular_results[localization_type][f\"{task_name}_acc\"] = task_accuracy / n_eval_iters\n",
    "\n",
    "adversarial_eval_results = adversarial_sports_eval_redo(model, model_type=\"gemma\", batch_size=eval_batch_size, \n",
    "                forget_task_init_kwargs={\"use_system_prompt\":True, \"use_icl\":False}|relearn_forget_kwargs, \n",
    "                maintain_task_init_kwargs={\"use_system_prompt\":True, \"use_icl\":False}|relearn_maintain_kwargs, \n",
    "                continuous=True, include_evals=[\"Normal\", \"MC\"], inject_label=inject_label)\n",
    "relearning_adversarial_results[localization_type] = adversarial_eval_results\n",
    "\n",
    "side_effect_eval_results = run_side_effects_evals(model, model_type=\"gemma\", batch_size=eval_batch_size, evals_to_run=[\"General\"], general_batch_size=mmlu_batch_size)\n",
    "relearning_side_effect_results[localization_type] = side_effect_eval_results\n"
   ]
  },
  {
   "cell_type": "markdown",
   "metadata": {},
   "source": [
    "### Probing"
   ]
  },
  {
   "cell_type": "code",
   "execution_count": 5,
   "metadata": {},
   "outputs": [
    {
     "name": "stdout",
     "output_type": "stream",
     "text": [
      "0.0 GB\n"
     ]
    },
    {
     "name": "stderr",
     "output_type": "stream",
     "text": [
      "/tmp/ipykernel_1253182/3867322800.py:7: FutureWarning: You are using `torch.load` with `weights_only=False` (the current default value), which uses the default pickle module implicitly. It is possible to construct malicious pickle data which will execute arbitrary code during unpickling (See https://github.com/pytorch/pytorch/blob/main/SECURITY.md#untrusted-models for more details). In a future release, the default value for `weights_only` will be flipped to `True`. This limits the functions that could be executed during unpickling. Arbitrary objects will no longer be allowed to be loaded via this mode unless they are explicitly allowlisted by the user via `torch.serialization.add_safe_globals`. We recommend you start setting `weights_only=True` for any use case where you don't have full control of the loaded file. Please open an issue on GitHub for any issues related to this experimental feature.\n",
      "  state_dict = torch.load(model_path)\n"
     ]
    },
    {
     "name": "stdout",
     "output_type": "stream",
     "text": [
      "17.075361792 GB\n"
     ]
    },
    {
     "data": {
      "application/vnd.jupyter.widget-view+json": {
       "model_id": "13e5f9e7081e46488cf0407a1ea47c2a",
       "version_major": 2,
       "version_minor": 0
      },
      "text/plain": [
       "Loading checkpoint shards:   0%|          | 0/4 [00:00<?, ?it/s]"
      ]
     },
     "metadata": {},
     "output_type": "display_data"
    },
    {
     "name": "stdout",
     "output_type": "stream",
     "text": [
      "17.075376128 GB\n"
     ]
    }
   ],
   "source": [
    "localization_type = \"nonlocalized\"\n",
    "model_path = f\"results_rebuttal/gemma_forget_64_inject_random_without_golf/{localization_type}_run1/models/model.pt\"\n",
    "model.cpu()\n",
    "del model\n",
    "print(torch.cuda.memory_allocated() / 10**9, \"GB\")\n",
    "\n",
    "state_dict = torch.load(model_path)\n",
    "# Convert state dict to bfloat16\n",
    "state_dict = {k: v.to(torch.bfloat16) if isinstance(v, torch.Tensor) else v for k, v in state_dict.items()}\n",
    "print(torch.cuda.memory_allocated() / 10**9, \"GB\")\n",
    "model = AutoModelForCausalLM.from_pretrained(model_name_or_path, torch_dtype=torch.bfloat16)\n",
    "model.load_state_dict(state_dict)\n",
    "model.cuda()\n",
    "del state_dict\n",
    "print(torch.cuda.memory_allocated() / 10**9, \"GB\")"
   ]
  },
  {
   "cell_type": "code",
   "execution_count": 6,
   "metadata": {},
   "outputs": [
    {
     "name": "stderr",
     "output_type": "stream",
     "text": [
      "Starting from v4.46, the `logits` model output will have the same type as the model (except at train time, where it will always be FP32)\n"
     ]
    },
    {
     "name": "stdout",
     "output_type": "stream",
     "text": [
      "forget_indices: range(0, 64)\n",
      "forget_indices: range(0, 64)\n",
      "Forget accuracy: 0.3333283066749573\n",
      "Forget accuracy with injected labels: 0.3446338176727295\n",
      "Maintain accuracy: 0.31206345558166504\n",
      "basketball 377\n"
     ]
    },
    {
     "data": {
      "application/vnd.jupyter.widget-view+json": {
       "model_id": "bf2a3c5201e94d69be9cb4662d401749",
       "version_major": 2,
       "version_minor": 0
      },
      "text/plain": [
       "  0%|          | 0/12 [00:00<?, ?it/s]"
      ]
     },
     "metadata": {},
     "output_type": "display_data"
    },
    {
     "name": "stderr",
     "output_type": "stream",
     "text": [
      "Asking to truncate to max_length but no maximum length is provided and the model has no predefined maximum length. Default to no truncation.\n"
     ]
    },
    {
     "name": "stdout",
     "output_type": "stream",
     "text": [
      "Done caching\n",
      "baseball 368\n"
     ]
    },
    {
     "data": {
      "application/vnd.jupyter.widget-view+json": {
       "model_id": "b857139fcb1e4a8ca48871df9a0247da",
       "version_major": 2,
       "version_minor": 0
      },
      "text/plain": [
       "  0%|          | 0/12 [00:00<?, ?it/s]"
      ]
     },
     "metadata": {},
     "output_type": "display_data"
    },
    {
     "name": "stdout",
     "output_type": "stream",
     "text": [
      "Done caching\n",
      "football 451\n"
     ]
    },
    {
     "data": {
      "application/vnd.jupyter.widget-view+json": {
       "model_id": "1944160ca2734ffb87797da44b3f2551",
       "version_major": 2,
       "version_minor": 0
      },
      "text/plain": [
       "  0%|          | 0/15 [00:00<?, ?it/s]"
      ]
     },
     "metadata": {},
     "output_type": "display_data"
    },
    {
     "name": "stdout",
     "output_type": "stream",
     "text": [
      "Done caching\n"
     ]
    }
   ],
   "source": [
    "# train probes on maintain split, and eval the forget split\n",
    "forget_kwargs = {\"forget_split\": \"first_64_unsplit\", \"maintain_split\": None}\n",
    "maintain_kwargs = {\"forget_split\": \"first_64_unsplit\", \"maintain_split\": \"split\"}\n",
    "inject_label = \"random_without_golf\"\n",
    "\n",
    "probing_batch_size = 32\n",
    "forget_sports_eval = SportsTask_Injection(batch_size=probing_batch_size, tokenizer=tokenizer, inject_label=inject_label, **forget_kwargs)\n",
    "maintain_sports_eval = SportsTask_Injection(batch_size=probing_batch_size, tokenizer=tokenizer, inject_label=inject_label, **maintain_kwargs)\n",
    "\n",
    "print(f\"Forget accuracy: {forget_sports_eval.get_test_accuracy(model)}\")\n",
    "print(f\"Forget accuracy with injected labels: {forget_sports_eval.get_test_accuracy(model, injected_accuracy=True)}\")\n",
    "print(f\"Maintain accuracy: {maintain_sports_eval.get_test_accuracy(model)}\")\n",
    "train_df = maintain_sports_eval.train_df\n",
    "\n",
    "# want left sided tokenizer\n",
    "tokenizer.padding_side = \"left\"\n",
    "\n",
    "def retrieve_acts(model, tokenizer, prompt_list, batch_size, layer=None, to_cpu=False, truncate_length=None, seq_pos_list=None, stack_cache=True):\n",
    "    \"\"\"\n",
    "    If seq_pos is not None, cache all the activations at the specified sequence position. Should be one list in seq_pos per prompt.\n",
    "    \"\"\"\n",
    "    if layer is None or isinstance(layer, list):\n",
    "        caches = defaultdict(list)\n",
    "    else:\n",
    "        caches = []\n",
    "    if layer is None:\n",
    "        layer = list(range(n_layers))\n",
    "    for i in tqdm(range(0, len(prompt_list), batch_size)):\n",
    "        tokenized_prompts = tokenizer(prompt_list[i:i+batch_size], return_tensors=\"pt\", padding=True, truncation=True)\n",
    "        prompt_toks = tokenized_prompts.input_ids\n",
    "        attn_mask = tokenized_prompts.attention_mask\n",
    "        if truncate_length is not None:\n",
    "            if len(prompt_toks[0]) > truncate_length:\n",
    "                print(f\"Prompt {i} is too long, truncating\")\n",
    "                prompt_toks = prompt_toks[:, -truncate_length:]\n",
    "                attn_mask = attn_mask[:, -truncate_length:]\n",
    "        \n",
    "        # if assert_end_newline:\n",
    "        with torch.no_grad():\n",
    "            model_output = model(\n",
    "                input_ids=prompt_toks.cuda(),\n",
    "                attention_mask=attn_mask.cuda(),\n",
    "                output_hidden_states=True\n",
    "            )\n",
    "            hidden_states = model_output[\"hidden_states\"]\n",
    "        if isinstance(layer, list):\n",
    "            for key_layer in layer:\n",
    "                if to_cpu:\n",
    "                    if seq_pos_list is not None:\n",
    "                        for j in range(len(hidden_states[key_layer])):\n",
    "                            caches[key_layer].append(hidden_states[key_layer][j, seq_pos_list[i+j], :].cpu())\n",
    "                    else:\n",
    "                        caches[key_layer].append(hidden_states[key_layer][:, -1, :])\n",
    "                else:\n",
    "                    if seq_pos_list is not None:\n",
    "                        for j in range(len(hidden_states[key_layer])):\n",
    "                            caches[key_layer].append(hidden_states[key_layer][j, seq_pos_list[i+j], :])\n",
    "                    else:\n",
    "                        caches[key_layer].append(hidden_states[key_layer][:, -1, :])\n",
    "\n",
    "    print(\"Done caching\")\n",
    "    if stack_cache:\n",
    "        if layer is None or isinstance(layer, list):\n",
    "            for k, v in caches.items():\n",
    "                if seq_pos_list is not None:\n",
    "                    caches[k] = torch.stack(v, dim=0).cpu()\n",
    "                else:\n",
    "                    caches[k] = torch.cat(v, dim=0).cpu()\n",
    "        else:\n",
    "            if seq_pos_list is not None:\n",
    "                caches = torch.stack(caches, dim=0).cpu()\n",
    "            else:\n",
    "                caches = torch.cat(caches, dim=0).cpu()\n",
    "    return caches\n",
    "\n",
    "all_acts = defaultdict(list)\n",
    "labels = []\n",
    "sport_dict = {\"baseball\": 0, \"basketball\": 1, \"football\": 2, \"golf\": 3}\n",
    "for sport in train_df[\"sport\"].unique():\n",
    "    datapoints = train_df[train_df[\"sport\"] == sport]\n",
    "    print(sport, len(datapoints))\n",
    "    \n",
    "    prompts = datapoints[\"prompt\"].tolist()\n",
    "\n",
    "    acts = retrieve_acts(model, tokenizer, prompts, probing_batch_size, layer=list(range(n_layers)), to_cpu=True)\n",
    "    for layer in range(n_layers):\n",
    "        all_acts[layer].append(acts[layer])\n",
    "        num_datapoints = len(acts[layer])\n",
    "    labels.append(torch.tensor([sport_dict[sport]]*num_datapoints))\n",
    "\n",
    "labels = torch.cat(labels, dim=0)\n",
    "for layer in range(n_layers):\n",
    "    all_acts[layer] = torch.cat(all_acts[layer], dim=0)\n"
   ]
  },
  {
   "cell_type": "code",
   "execution_count": 7,
   "metadata": {},
   "outputs": [
    {
     "data": {
      "application/vnd.jupyter.widget-view+json": {
       "model_id": "a1e0b1546fad4242973cb75a933f9115",
       "version_major": 2,
       "version_minor": 0
      },
      "text/plain": [
       "  0%|          | 0/28 [00:00<?, ?it/s]"
      ]
     },
     "metadata": {},
     "output_type": "display_data"
    },
    {
     "data": {
      "image/png": "[encoded data removed]",
      "text/plain": [
       "<Figure size 1000x600 with 1 Axes>"
      ]
     },
     "metadata": {},
     "output_type": "display_data"
    }
   ],
   "source": [
    "from sklearn.linear_model import LogisticRegression\n",
    "from sklearn.model_selection import train_test_split\n",
    "from sklearn.metrics import accuracy_score, classification_report\n",
    "import numpy as np\n",
    "\n",
    "# Function to train and evaluate probes for each layer\n",
    "def train_eval_probes(activations_dict, labels, test_size=0.2, random_state=42):\n",
    "    results = {}\n",
    "    \n",
    "    for layer, acts in tqdm(activations_dict.items()):\n",
    "        # Convert activations to numpy array if they're torch tensors\n",
    "        X = acts.float().numpy() if hasattr(acts, 'numpy') else acts\n",
    "        y = labels.numpy() if hasattr(labels, 'numpy') else labels\n",
    "        \n",
    "        # Split the data\n",
    "        X_train, X_test, y_train, y_test = train_test_split(\n",
    "            X, y, test_size=test_size, random_state=random_state, stratify=y\n",
    "        )\n",
    "        \n",
    "        # Initialize and train the probe\n",
    "        probe = LogisticRegression(max_iter=1000, multi_class='multinomial')\n",
    "        probe.fit(X_train, y_train)\n",
    "        \n",
    "        # Evaluate\n",
    "        train_acc = accuracy_score(y_train, probe.predict(X_train))\n",
    "        test_acc = accuracy_score(y_test, probe.predict(X_test))\n",
    "        \n",
    "        results[layer] = {\n",
    "            'train_accuracy': train_acc,\n",
    "            'test_accuracy': test_acc,\n",
    "            'probe': probe\n",
    "        }\n",
    "        \n",
    "        # print(f\"Layer {layer}:\")\n",
    "        # print(f\"Train accuracy: {train_acc:.4f}\")\n",
    "        # print(f\"Test accuracy: {test_acc:.4f}\")\n",
    "        # print(\"Classification Report:\")\n",
    "        # print(classification_report(y_test, probe.predict(X_test)))\n",
    "        # print(\"-\" * 50)\n",
    "    \n",
    "    return results\n",
    "\n",
    "# Train probes for all layers\n",
    "probe_results = train_eval_probes(all_acts, labels)\n",
    "\n",
    "# Plot the results\n",
    "import matplotlib.pyplot as plt\n",
    "\n",
    "layers = list(probe_results.keys())\n",
    "train_accs = [results['train_accuracy'] for results in probe_results.values()]\n",
    "test_accs = [results['test_accuracy'] for results in probe_results.values()]\n",
    "\n",
    "plt.figure(figsize=(10, 6))\n",
    "plt.plot(layers, train_accs, label='Train Accuracy')\n",
    "plt.plot(layers, test_accs, label='Test Accuracy')\n",
    "plt.xlabel('Layer')\n",
    "plt.ylabel('Accuracy')\n",
    "plt.title('Probe Accuracy by Layer')\n",
    "plt.legend()\n",
    "plt.grid(True)\n",
    "plt.show()"
   ]
  },
  {
   "cell_type": "code",
   "execution_count": 8,
   "metadata": {},
   "outputs": [
    {
     "name": "stdout",
     "output_type": "stream",
     "text": [
      "football 31\n"
     ]
    },
    {
     "data": {
      "application/vnd.jupyter.widget-view+json": {
       "model_id": "4d0a8fc3e9ae4ef2ae396ddca8368451",
       "version_major": 2,
       "version_minor": 0
      },
      "text/plain": [
       "  0%|          | 0/1 [00:00<?, ?it/s]"
      ]
     },
     "metadata": {},
     "output_type": "display_data"
    },
    {
     "name": "stdout",
     "output_type": "stream",
     "text": [
      "Done caching\n",
      "baseball 13\n"
     ]
    },
    {
     "data": {
      "application/vnd.jupyter.widget-view+json": {
       "model_id": "239b44d8491c4a3a800b927b5abca7a6",
       "version_major": 2,
       "version_minor": 0
      },
      "text/plain": [
       "  0%|          | 0/1 [00:00<?, ?it/s]"
      ]
     },
     "metadata": {},
     "output_type": "display_data"
    },
    {
     "name": "stdout",
     "output_type": "stream",
     "text": [
      "Done caching\n",
      "basketball 20\n"
     ]
    },
    {
     "data": {
      "application/vnd.jupyter.widget-view+json": {
       "model_id": "06b64832c7444c4fa356964e08d01e36",
       "version_major": 2,
       "version_minor": 0
      },
      "text/plain": [
       "  0%|          | 0/1 [00:00<?, ?it/s]"
      ]
     },
     "metadata": {},
     "output_type": "display_data"
    },
    {
     "name": "stdout",
     "output_type": "stream",
     "text": [
      "Done caching\n"
     ]
    }
   ],
   "source": [
    "# test probes on forget split\n",
    "forget_acts = defaultdict(list)\n",
    "forget_labels = []\n",
    "edit_labels = []\n",
    "forget_df = forget_sports_eval.test_df\n",
    "for sport in forget_df[\"sport\"].unique():\n",
    "    datapoints = forget_df[forget_df[\"sport\"] == sport]\n",
    "    print(sport, len(datapoints))\n",
    "    \n",
    "    prompts = datapoints[\"prompt\"].tolist()\n",
    "\n",
    "    acts = retrieve_acts(model, tokenizer, prompts, probing_batch_size, layer=list(range(n_layers)), to_cpu=True)\n",
    "    for layer in range(n_layers):\n",
    "        forget_acts[layer].append(acts[layer])\n",
    "        num_datapoints = len(acts[layer])\n",
    "    forget_labels.append(torch.tensor([sport_dict[sport]]*num_datapoints))\n",
    "    edit_labels.append(torch.tensor([sport_dict[edit_sport] for edit_sport in datapoints[\"inject_sport\"]]))\n",
    "\n",
    "forget_labels = torch.cat(forget_labels, dim=0)\n",
    "edit_labels = torch.cat(edit_labels, dim=0)\n",
    "for layer in range(n_layers):\n",
    "    forget_acts[layer] = torch.cat(forget_acts[layer], dim=0)"
   ]
  },
  {
   "cell_type": "code",
   "execution_count": 9,
   "metadata": {},
   "outputs": [],
   "source": [
    "preds = {}\n",
    "for layer in range(n_layers):\n",
    "    preds[layer] = probe_results[layer]['probe'].predict(forget_acts[layer].float().numpy())"
   ]
  },
  {
   "cell_type": "code",
   "execution_count": 10,
   "metadata": {},
   "outputs": [
    {
     "data": {
      "image/png": "[encoded data removed]",
      "text/plain": [
       "<Figure size 1200x800 with 1 Axes>"
      ]
     },
     "metadata": {},
     "output_type": "display_data"
    }
   ],
   "source": [
    "import matplotlib.pyplot as plt\n",
    "import seaborn as sns\n",
    "from sklearn.metrics import accuracy_score\n",
    "\n",
    "# Calculate accuracies for each layer\n",
    "ground_truth_accs = [accuracy_score(forget_labels, preds[layer]) for layer in range(n_layers)]\n",
    "edit_accs = [accuracy_score(edit_labels, preds[layer]) for layer in range(n_layers)]\n",
    "\n",
    "# Set style\n",
    "# plt.style.use('seaborn')\n",
    "fig, ax = plt.subplots(figsize=(12, 8))\n",
    "\n",
    "# Plot lines\n",
    "layers = range(n_layers)\n",
    "ax.plot(layers, ground_truth_accs, 'o-', label='Ground Truth Accuracy', linewidth=2, markersize=8, color='#2ecc71')\n",
    "ax.plot(layers, edit_accs, 'o-', label='Edit Answer Accuracy', linewidth=2, markersize=8, color='#e74c3c')\n",
    "\n",
    "# Customize plot\n",
    "ax.set_xlabel('Layer', fontsize=12, fontweight='bold')\n",
    "ax.set_ylabel('Accuracy', fontsize=12, fontweight='bold')\n",
    "ax.set_title(f'Probe Accuracy by Layer: Ground Truth vs Edit Answer for {localization_type}', fontsize=14, fontweight='bold', pad=20)\n",
    "ax.grid(True, linestyle='--', alpha=0.7)\n",
    "ax.legend(fontsize=10, frameon=True, facecolor='white', edgecolor='gray')\n",
    "\n",
    "# Set axis limits with some padding\n",
    "ax.set_xlim(-0.5, n_layers-0.5)\n",
    "ax.set_ylim(min(min(ground_truth_accs), min(edit_accs))*0.95, \n",
    "            max(max(ground_truth_accs), max(edit_accs))*1.05)\n",
    "\n",
    "# Add minor gridlines\n",
    "ax.grid(True, which='minor', linestyle=':', alpha=0.4)\n",
    "\n",
    "# Customize ticks\n",
    "ax.tick_params(axis='both', which='major', labelsize=10)\n",
    "\n",
    "# Tight layout\n",
    "plt.tight_layout()\n",
    "plt.show()"
   ]
  },
  {
   "cell_type": "markdown",
   "metadata": {},
   "source": [
    "### Softprompt evals"
   ]
  },
  {
   "cell_type": "code",
   "execution_count": 2,
   "metadata": {},
   "outputs": [
    {
     "name": "stderr",
     "output_type": "stream",
     "text": [
      "`config.hidden_act` is ignored, you should use `config.hidden_activation` instead.\n",
      "Gemma's activation function will be set to `gelu_pytorch_tanh`. Please, use\n",
      "`config.hidden_activation` if you want to override this behaviour.\n",
      "See https://github.com/huggingface/transformers/pull/29402 for more details.\n"
     ]
    },
    {
     "data": {
      "application/vnd.jupyter.widget-view+json": {
       "model_id": "080fc43a7af34049a0db9d39dd00f518",
       "version_major": 2,
       "version_minor": 0
      },
      "text/plain": [
       "Loading checkpoint shards:   0%|          | 0/4 [00:00<?, ?it/s]"
      ]
     },
     "metadata": {},
     "output_type": "display_data"
    },
    {
     "name": "stdout",
     "output_type": "stream",
     "text": [
      "0.0 GB\n"
     ]
    }
   ],
   "source": [
    "# At the beginning of your script or notebook\n",
    "from datasets import load_dataset\n",
    "\n",
    "# Local imports\n",
    "from src import *\n",
    "\n",
    "# %%\n",
    "# Load the model\n",
    "# model = load_hf_model(\n",
    "#     \"PhillipGuo/gemma-manual_interp-forget_first_64_unsplit-inject_random_without_golf-run1\"\n",
    "# )\n",
    "# tokenizer = AutoTokenizer.from_pretrained(\"google/gemma-2-9b-it\")\n",
    "# model = load_hf_model(\"meta-llama/Meta-Llama-3-8B-Instruct\")\n",
    "\n",
    "model_name_or_path = \"google/gemma-7b\"\n",
    "model = AutoModelForCausalLM.from_pretrained(model_name_or_path, torch_dtype=torch.bfloat16)\n",
    "# model.cuda()\n",
    "tokenizer = AutoTokenizer.from_pretrained(model_name_or_path)\n",
    "tokenizer.pad_token_id = tokenizer.eos_token_id\n",
    "# encoder = DeepmindSparseAutoencoder.load_gemma2_sae(None, None, other_model_tokenizer=(model, tokenizer))\n",
    "\n",
    "print(torch.cuda.memory_allocated() / 10**9, \"GB\")"
   ]
  },
  {
   "cell_type": "code",
   "execution_count": 3,
   "metadata": {},
   "outputs": [
    {
     "name": "stdout",
     "output_type": "stream",
     "text": [
      "0.0 GB\n"
     ]
    },
    {
     "name": "stderr",
     "output_type": "stream",
     "text": [
      "/tmp/ipykernel_1321645/501502305.py:5: FutureWarning: You are using `torch.load` with `weights_only=False` (the current default value), which uses the default pickle module implicitly. It is possible to construct malicious pickle data which will execute arbitrary code during unpickling (See https://github.com/pytorch/pytorch/blob/main/SECURITY.md#untrusted-models for more details). In a future release, the default value for `weights_only` will be flipped to `True`. This limits the functions that could be executed during unpickling. Arbitrary objects will no longer be allowed to be loaded via this mode unless they are explicitly allowlisted by the user via `torch.serialization.add_safe_globals`. We recommend you start setting `weights_only=True` for any use case where you don't have full control of the loaded file. Please open an issue on GitHub for any issues related to this experimental feature.\n",
      "  state_dict = torch.load(model_path)\n"
     ]
    },
    {
     "name": "stdout",
     "output_type": "stream",
     "text": [
      "17.075361792 GB\n",
      "17.075376128 GB\n"
     ]
    }
   ],
   "source": [
    "localization_type = \"manual_interp\"\n",
    "model_path = f\"results_rebuttal/gemma_forget_64_inject_random_without_golf/{localization_type}_run1/models/model.pt\"\n",
    "print(torch.cuda.memory_allocated() / 10**9, \"GB\")\n",
    "\n",
    "state_dict = torch.load(model_path)\n",
    "# Convert state dict to bfloat16\n",
    "state_dict = {k: v.to(torch.bfloat16) if isinstance(v, torch.Tensor) else v for k, v in state_dict.items()}\n",
    "print(torch.cuda.memory_allocated() / 10**9, \"GB\")\n",
    "model.load_state_dict(state_dict)\n",
    "model.cuda()\n",
    "del state_dict\n",
    "print(torch.cuda.memory_allocated() / 10**9, \"GB\")"
   ]
  },
  {
   "cell_type": "code",
   "execution_count": 4,
   "metadata": {},
   "outputs": [
    {
     "name": "stdout",
     "output_type": "stream",
     "text": [
      "forget_indices: range(0, 64)\n",
      "Are you sure you want to split the forget set in a forget loss? Mostly makes sense in latent knowledge and unlearning\n"
     ]
    }
   ],
   "source": [
    "tokenizer.padding_side = \"right\"\n",
    "forget_kwargs = {\"forget_split\": \"first_64_split\", \"maintain_split\": None}\n",
    "maintain_kwargs = {\"forget_split\": \"first_64_split\", \"maintain_split\": \"split\"}\n",
    "inject_label = \"random_without_golf\"\n",
    "forget_sports_eval = SportsTask_Injection(batch_size=32, tokenizer=tokenizer, inject_label=inject_label, **forget_kwargs)"
   ]
  },
  {
   "cell_type": "code",
   "execution_count": 5,
   "metadata": {},
   "outputs": [
    {
     "data": {
      "application/vnd.jupyter.widget-view+json": {
       "model_id": "dd3585dc555c406a8ea20fb89a35c6d9",
       "version_major": 2,
       "version_minor": 0
      },
      "text/plain": [
       "  0%|          | 0/128 [00:00<?, ?it/s]"
      ]
     },
     "metadata": {},
     "output_type": "display_data"
    },
    {
     "name": "stderr",
     "output_type": "stream",
     "text": [
      "Starting from v4.46, the `logits` model output will have the same type as the model (except at train time, where it will always be FP32)\n"
     ]
    },
    {
     "data": {
      "image/png": "[encoded data removed]",
      "text/plain": [
       "<Figure size 640x480 with 1 Axes>"
      ]
     },
     "metadata": {},
     "output_type": "display_data"
    }
   ],
   "source": [
    "# %%\n",
    "\n",
    "# encoder.sample_generations(\n",
    "#     [\"<bos>Tiger Woods is a professional golfer. Michael Jordan is a professional\"],\n",
    "#     format_inputs=False,\n",
    "#     max_new_tokens=1,\n",
    "#     return_examples=False,\n",
    "# )\n",
    "\n",
    "# %%\n",
    "from torch.nn.utils.rnn import pad_sequence\n",
    "\n",
    "def prepare_sport_classification_data(dataframe, tokenizer):\n",
    "    \"\"\"\n",
    "    Prepares tokenized data for sport classification task by combining prompts with sport labels\n",
    "    and creating appropriate masks for training.\n",
    "    \n",
    "    Args:\n",
    "        dataframe: DataFrame containing 'prompt' and 'sport' columns\n",
    "        tokenizer: Tokenizer instance for text processing\n",
    "        \n",
    "    Returns:\n",
    "        tokenized_sequences: Padded tensor of tokenized input sequences\n",
    "        label_positions: Boolean tensor marking positions of sport labels\n",
    "        original_prompts: List of original prompt texts\n",
    "    \"\"\"\n",
    "    tokenized_sequences = []\n",
    "    original_prompts = []\n",
    "    label_positions = []\n",
    "    \n",
    "    for _, row in dataframe.iterrows():\n",
    "        prompt_text = row[\"prompt\"]\n",
    "        original_prompts.append(tokenizer.bos_token + prompt_text)\n",
    "        sport_label = \" \" + row[\"sport\"]  # Add space before sport label\n",
    "\n",
    "        # Tokenize prompt and sport label separately\n",
    "        prompt_tokens = tokenizer(prompt_text)[\"input_ids\"]\n",
    "        sport_tokens = tokenizer(sport_label, add_special_tokens=False)[\"input_ids\"]\n",
    "        \n",
    "        # Combine tokens and create mask identifying label positions\n",
    "        combined_sequence = prompt_tokens + sport_tokens\n",
    "        sequence_mask = [0] * len(prompt_tokens) + [1] * len(sport_tokens)\n",
    "        \n",
    "        tokenized_sequences.append(torch.tensor(combined_sequence))\n",
    "        label_positions.append(torch.tensor(sequence_mask))\n",
    "    \n",
    "    # Pad all sequences to match longest sequence\n",
    "    padded_sequences = pad_sequence(tokenized_sequences, batch_first=True, \n",
    "                                  padding_value=tokenizer.pad_token_id)\n",
    "    padded_label_positions = pad_sequence(label_positions, batch_first=True, \n",
    "                                        padding_value=0)\n",
    "    \n",
    "    return padded_sequences, padded_label_positions.bool(), original_prompts\n",
    "\n",
    "# Split dataset and prepare train/test data\n",
    "# df = pd.read_csv(\"tasks/facts/data/sports.csv\")\n",
    "tokenizer.padding_side = \"left\"\n",
    "# sports_df = df.iloc[:64]  # Remove first 64 rows\n",
    "# split_index = sports_df.shape[0] // 2\n",
    "# training_df = sports_df.iloc[:split_index]\n",
    "# testing_df = sports_df.iloc[split_index:]\n",
    "training_df = forget_sports_eval.train_df\n",
    "testing_df = forget_sports_eval.test_df\n",
    "\n",
    "# Create training and testing datasets\n",
    "training_sequences, training_label_positions, training_prompts = prepare_sport_classification_data(\n",
    "    training_df, tokenizer)\n",
    "testing_sequences, testing_label_positions, testing_prompts = prepare_sport_classification_data(\n",
    "    testing_df, tokenizer)\n",
    "\n",
    "# %%\n",
    "from src.attacks import *\n",
    "import matplotlib.pyplot as plt\n",
    "\n",
    "loss_over_time, wrappers = train_universal_attack(\n",
    "    adv_tokens=training_sequences.cuda(),\n",
    "    target_mask=training_label_positions.cuda(),\n",
    "    model=model,\n",
    "    model_layers_module=\"model.layers\",\n",
    "    layer=[\"embedding\"],\n",
    "    epsilon=6.0,\n",
    "    learning_rate=1e-5,\n",
    "    n_steps=128,\n",
    "    batch_size=16,\n",
    "    return_loss_over_time=True,\n",
    "    adversary_type=\"soft_prompt\",\n",
    "    verbose=True,\n",
    ")\n",
    "\n",
    "plt.plot([x[\"toward\"] for x in loss_over_time])\n",
    "plt.title(\"Universal Soft Prompt Attack\")  # Adds a title to the plot\n",
    "plt.show()\n",
    "\n",
    "# %%\n",
    "\n",
    "# for wrapper in wrappers:\n",
    "#     wrapper.enabled = False\n",
    "\n",
    "# # with torch.autocast(device_type=\"cuda\"):\n",
    "# #     testing_outputs = encoder.sample_generations(\n",
    "# #         testing_prompts,\n",
    "# #         format_inputs=False,\n",
    "# #         max_new_tokens=1,\n",
    "# #         return_examples=False,\n",
    "# #         do_sample=False,\n",
    "# #     )\n",
    "\n",
    "# # num_correct = 0\n",
    "# # for x, y in zip([x.replace(tokenizer.pad_token, \"\") for x in tokenizer.batch_decode(testing_sequences)], testing_outputs):\n",
    "# #     if x == y:\n",
    "# #         num_correct += 1\n",
    "\n",
    "# forget_eval = SportTask()\n",
    "\n",
    "# print(f\"Accuracy: {num_correct / len(testing_prompts)*100}% ->\", end=\" \")\n",
    "\n",
    "\n",
    "# for wrapper in wrappers:\n",
    "#     wrapper.enabled = True\n",
    "\n",
    "# with torch.autocast(device_type=\"cuda\"):\n",
    "#     testing_outputs = encoder.sample_generations(\n",
    "#         testing_prompts,\n",
    "#         format_inputs=False,\n",
    "#         max_new_tokens=1,\n",
    "#         return_examples=False,\n",
    "#         do_sample=False,\n",
    "#     )\n",
    "\n",
    "# num_correct = 0\n",
    "# for x, y in zip([x.replace(tokenizer.pad_token, \"\") for x in tokenizer.batch_decode(testing_sequences)], testing_outputs):\n",
    "#     print(x, y)\n",
    "#     if x == y:\n",
    "#         num_correct += 1\n",
    "\n",
    "# print(f\"{num_correct / len(testing_prompts)*100}%\")\n",
    "\n",
    "# # %%\n",
    "\n",
    "# for wrapper in wrappers:\n",
    "#     wrapper.enabled = False\n",
    "\n",
    "# with torch.autocast(device_type=\"cuda\"):\n",
    "#     testing_outputs = encoder.sample_generations(\n",
    "#         testing_prompts,\n",
    "#         format_inputs=False,\n",
    "#         max_new_tokens=1,\n",
    "#         return_examples=False,\n",
    "#     )\n",
    "\n",
    "# num_correct = 0\n",
    "# for x, y in zip([x.replace(tokenizer.pad_token, \"\") for x in tokenizer.batch_decode(testing_sequences)], testing_outputs):\n",
    "#     if x == y:\n",
    "#         num_correct += 1\n",
    "\n",
    "# # %%\n"
   ]
  },
  {
   "cell_type": "code",
   "execution_count": 6,
   "metadata": {},
   "outputs": [
    {
     "name": "stdout",
     "output_type": "stream",
     "text": [
      "forget_indices: range(0, 64)\n",
      "Are you sure you want to split the forget set in a forget loss? Mostly makes sense in latent knowledge and unlearning\n",
      "forget_indices: range(0, 64)\n",
      "Forget accuracy: 0.5178947448730469\n",
      "Forget accuracy with injected labels: 0.3576715886592865\n",
      "Maintain accuracy: 0.700095534324646\n"
     ]
    }
   ],
   "source": [
    "tokenizer.padding_side = \"right\"\n",
    "for wrapper in wrappers:\n",
    "    wrapper.enabled = True\n",
    "\n",
    "forget_kwargs = {\"forget_split\": \"first_64_split\", \"maintain_split\": None}\n",
    "maintain_kwargs = {\"forget_split\": \"first_64_split\", \"maintain_split\": \"split\"}\n",
    "inject_label = \"random_without_golf\"\n",
    "forget_sports_eval = SportsTask_Injection(batch_size=32, tokenizer=tokenizer, inject_label=inject_label, **forget_kwargs)\n",
    "maintain_sports_eval = SportsTask_Injection(batch_size=32, tokenizer=tokenizer, inject_label=inject_label, **maintain_kwargs)\n",
    "\n",
    "with torch.autocast(device_type=\"cuda\"):\n",
    "    print(f\"Forget accuracy: {forget_sports_eval.get_test_accuracy(model)}\")\n",
    "    print(f\"Forget accuracy with injected labels: {forget_sports_eval.get_test_accuracy(model, injected_accuracy=True)}\")\n",
    "    print(f\"Maintain accuracy: {maintain_sports_eval.get_test_accuracy(model)}\")"
   ]
  },
  {
   "cell_type": "code",
   "execution_count": 7,
   "metadata": {},
   "outputs": [
    {
     "name": "stdout",
     "output_type": "stream",
     "text": [
      "forget_indices: range(0, 64)\n",
      "Are you sure you want to split the forget set in a forget loss? Mostly makes sense in latent knowledge and unlearning\n",
      "forget_indices: range(0, 64)\n",
      "Forget accuracy: 0.00011486658331705257\n",
      "Forget accuracy with injected labels: 0.9998517036437988\n",
      "Maintain accuracy: 0.9999418258666992\n"
     ]
    }
   ],
   "source": [
    "tokenizer.padding_side = \"right\"\n",
    "for wrapper in wrappers:\n",
    "    wrapper.enabled = False\n",
    "\n",
    "forget_kwargs = {\"forget_split\": \"first_64_split\", \"maintain_split\": None}\n",
    "maintain_kwargs = {\"forget_split\": \"first_64_split\", \"maintain_split\": \"split\"}\n",
    "inject_label = \"random_without_golf\"\n",
    "forget_sports_eval = SportsTask_Injection(batch_size=32, tokenizer=tokenizer, inject_label=inject_label, **forget_kwargs)\n",
    "maintain_sports_eval = SportsTask_Injection(batch_size=32, tokenizer=tokenizer, inject_label=inject_label, **maintain_kwargs)\n",
    "\n",
    "with torch.autocast(device_type=\"cuda\"):\n",
    "    print(f\"Forget accuracy: {forget_sports_eval.get_test_accuracy(model)}\")\n",
    "    print(f\"Forget accuracy with injected labels: {forget_sports_eval.get_test_accuracy(model, injected_accuracy=True)}\")\n",
    "    print(f\"Maintain accuracy: {maintain_sports_eval.get_test_accuracy(model)}\")"
   ]
  },
  {
   "cell_type": "code",
   "execution_count": 9,
   "metadata": {},
   "outputs": [
    {
     "data": {
      "application/vnd.jupyter.widget-view+json": {
       "model_id": "d2a6ea84837041b4a946025e9b59eb44",
       "version_major": 2,
       "version_minor": 0
      },
      "text/plain": [
       "  0%|          | 0/128 [00:00<?, ?it/s]"
      ]
     },
     "metadata": {},
     "output_type": "display_data"
    },
    {
     "name": "stdout",
     "output_type": "stream",
     "text": [
      "forget_indices: range(0, 64)\n",
      "Are you sure you want to split the forget set in a forget loss? Mostly makes sense in latent knowledge and unlearning\n",
      "forget_indices: range(0, 64)\n",
      "Forget accuracy: 0.5528926253318787\n",
      "Forget accuracy with injected labels: 0.3307725787162781\n",
      "Maintain accuracy: 0.8584665656089783\n"
     ]
    },
    {
     "data": {
      "application/vnd.jupyter.widget-view+json": {
       "model_id": "b7290ccd2dc74ae1bc2f6156eb0a2848",
       "version_major": 2,
       "version_minor": 0
      },
      "text/plain": [
       "  0%|          | 0/128 [00:00<?, ?it/s]"
      ]
     },
     "metadata": {},
     "output_type": "display_data"
    },
    {
     "name": "stdout",
     "output_type": "stream",
     "text": [
      "forget_indices: range(0, 64)\n",
      "Are you sure you want to split the forget set in a forget loss? Mostly makes sense in latent knowledge and unlearning\n",
      "forget_indices: range(0, 64)\n",
      "Forget accuracy: 0.622285783290863\n",
      "Forget accuracy with injected labels: 0.2864478826522827\n",
      "Maintain accuracy: 0.7964687347412109\n"
     ]
    },
    {
     "data": {
      "application/vnd.jupyter.widget-view+json": {
       "model_id": "afb3756b910a467ba8df12c4cf1be982",
       "version_major": 2,
       "version_minor": 0
      },
      "text/plain": [
       "  0%|          | 0/128 [00:00<?, ?it/s]"
      ]
     },
     "metadata": {},
     "output_type": "display_data"
    },
    {
     "name": "stdout",
     "output_type": "stream",
     "text": [
      "forget_indices: range(0, 64)\n",
      "Are you sure you want to split the forget set in a forget loss? Mostly makes sense in latent knowledge and unlearning\n",
      "forget_indices: range(0, 64)\n",
      "Forget accuracy: 0.568401038646698\n",
      "Forget accuracy with injected labels: 0.2735908627510071\n",
      "Maintain accuracy: 0.7861208319664001\n"
     ]
    },
    {
     "data": {
      "application/vnd.jupyter.widget-view+json": {
       "model_id": "ae492ef0e74b495ba4e6a6251ca0b943",
       "version_major": 2,
       "version_minor": 0
      },
      "text/plain": [
       "  0%|          | 0/128 [00:00<?, ?it/s]"
      ]
     },
     "metadata": {},
     "output_type": "display_data"
    },
    {
     "name": "stdout",
     "output_type": "stream",
     "text": [
      "forget_indices: range(0, 64)\n",
      "Are you sure you want to split the forget set in a forget loss? Mostly makes sense in latent knowledge and unlearning\n",
      "forget_indices: range(0, 64)\n",
      "Forget accuracy: 0.4664756953716278\n",
      "Forget accuracy with injected labels: 0.38646480441093445\n",
      "Maintain accuracy: 0.7794954776763916\n"
     ]
    },
    {
     "data": {
      "application/vnd.jupyter.widget-view+json": {
       "model_id": "91ba025f94bb479ab7c85ec8ea49d725",
       "version_major": 2,
       "version_minor": 0
      },
      "text/plain": [
       "  0%|          | 0/128 [00:00<?, ?it/s]"
      ]
     },
     "metadata": {},
     "output_type": "display_data"
    },
    {
     "name": "stdout",
     "output_type": "stream",
     "text": [
      "forget_indices: range(0, 64)\n",
      "Are you sure you want to split the forget set in a forget loss? Mostly makes sense in latent knowledge and unlearning\n",
      "forget_indices: range(0, 64)\n",
      "Forget accuracy: 0.5228404402732849\n",
      "Forget accuracy with injected labels: 0.3531680703163147\n",
      "Maintain accuracy: 0.8502515554428101\n"
     ]
    }
   ],
   "source": [
    "# train multiple wrappers\n",
    "num_softprompts = 5\n",
    "for i in range(num_softprompts):\n",
    "    tokenizer.padding_side = \"left\"\n",
    "    _, wrappers = train_universal_attack(\n",
    "        adv_tokens=training_sequences.cuda(),\n",
    "        target_mask=training_label_positions.cuda(),\n",
    "        model=model,\n",
    "        model_layers_module=\"model.layers\",\n",
    "        layer=[\"embedding\"],\n",
    "        epsilon=6.0,\n",
    "        learning_rate=1e-5,\n",
    "        n_steps=128,\n",
    "        batch_size=16,\n",
    "        return_loss_over_time=True,\n",
    "        adversary_type=\"soft_prompt\",\n",
    "        verbose=True,\n",
    "    )\n",
    "    \n",
    "    tokenizer.padding_side = \"right\"\n",
    "    for wrapper in wrappers:\n",
    "        wrapper.enabled = True\n",
    "\n",
    "    forget_kwargs = {\"forget_split\": \"first_64_split\", \"maintain_split\": None}\n",
    "    maintain_kwargs = {\"forget_split\": \"first_64_split\", \"maintain_split\": \"split\"}\n",
    "    inject_label = \"random_without_golf\"\n",
    "    forget_sports_eval = SportsTask_Injection(batch_size=32, tokenizer=tokenizer, inject_label=inject_label, **forget_kwargs)\n",
    "    maintain_sports_eval = SportsTask_Injection(batch_size=32, tokenizer=tokenizer, inject_label=inject_label, **maintain_kwargs)\n",
    "\n",
    "    with torch.autocast(device_type=\"cuda\"):\n",
    "        print(f\"Forget accuracy: {forget_sports_eval.get_test_accuracy(model)}\")\n",
    "        print(f\"Forget accuracy with injected labels: {forget_sports_eval.get_test_accuracy(model, injected_accuracy=True)}\")\n",
    "        print(f\"Maintain accuracy: {maintain_sports_eval.get_test_accuracy(model)}\")\n",
    "\n",
    "    for wrapper in wrappers:\n",
    "        wrapper.enabled = False\n",
    "    del wrappers\n",
    "    torch.cuda.empty_cache()\n",
    "# %%"
   ]
  },
  {
   "cell_type": "markdown",
   "metadata": {},
   "source": [
    "## CounterFact"
   ]
  },
  {
   "cell_type": "code",
   "execution_count": null,
   "metadata": {},
   "outputs": [],
   "source": []
  }
 ],
 "metadata": {
  "kernelspec": {
   "display_name": "cb",
   "language": "python",
   "name": "cb"
  },
  "language_info": {
   "codemirror_mode": {
    "name": "ipython",
    "version": 3
   },
   "file_extension": ".py",
   "mimetype": "text/x-python",
   "name": "python",
   "nbconvert_exporter": "python",
   "pygments_lexer": "ipython3",
   "version": "3.12.5"
  }
 },
 "nbformat": 4,
 "nbformat_minor": 2
}
