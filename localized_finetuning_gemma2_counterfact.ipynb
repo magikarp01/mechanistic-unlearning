{
 "cells": [
  {
   "cell_type": "code",
   "execution_count": 1,
   "metadata": {},
   "outputs": [
    {
     "name": "stderr",
     "output_type": "stream",
     "text": [
      "/data/phillip_guo/miniconda3/envs/cb/lib/python3.12/site-packages/tqdm/auto.py:21: TqdmWarning: IProgress not found. Please update jupyter and ipywidgets. See https://ipywidgets.readthedocs.io/en/stable/user_install.html\n",
      "  from .autonotebook import tqdm as notebook_tqdm\n"
     ]
    }
   ],
   "source": [
    "%load_ext autoreload\n",
    "%autoreload 2\n",
    "\n",
    "from circuit_breaking.src import *\n",
    "import torch\n",
    "from functools import partial\n",
    "import matplotlib.pyplot as plt\n",
    "import numpy as np\n",
    "import os\n",
    "from circuit_breaking.src.utils import load_model_from_transformers, from_hf_to_tlens\n",
    "from circuit_breaking.src.masks import MLPHiddenMask\n",
    "from tqdm.auto import tqdm\n",
    "import pickle\n",
    "#torch.autograd.set_detect_anomaly(True)"
   ]
  },
  {
   "cell_type": "code",
   "execution_count": 2,
   "metadata": {},
   "outputs": [
    {
     "name": "stderr",
     "output_type": "stream",
     "text": [
      "Loading checkpoint shards: 100%|██████████| 8/8 [00:09<00:00,  1.16s/it]\n"
     ]
    },
    {
     "name": "stdout",
     "output_type": "stream",
     "text": [
      "0.0\n"
     ]
    }
   ],
   "source": [
    "from transformers import GPT2Tokenizer, GPTNeoXTokenizerFast, AutoModelForCausalLM, AutoTokenizer\n",
    "model_name_or_path = \"google/gemma-2-9b\"\n",
    "model_type = \"gemma-2\"\n",
    "other_model_type = \"gemma2_9b\"\n",
    "tokenizer = AutoTokenizer.from_pretrained(model_name_or_path)\n",
    "tokenizer.pad_token_id = tokenizer.eos_token_id\n",
    "tokenizer.padding_side = \"right\"\n",
    "\n",
    "model = AutoModelForCausalLM.from_pretrained(model_name_or_path, torch_dtype=torch.bfloat16, attn_implementation=\"eager\")\n",
    "n_layers = 42\n",
    "n_heads = 16\n",
    "n_kv_heads = 8\n",
    "param_count_dict = {\"attn.hook_q\": 3584*4096, \"attn.hook_k\": 3584*2048, \"attn.hook_v\": 3584*2048, \"attn.hook_result\": 4096*3584, \"mlp.hook_pre\": 3584 * 14336, \"mlp.hook_post\": 14336 * 3584}\n",
    "manual_param_count = 1130364928\n",
    "\n",
    "print(torch.cuda.memory_allocated() / 1024**3)"
   ]
  },
  {
   "cell_type": "code",
   "execution_count": 3,
   "metadata": {},
   "outputs": [
    {
     "name": "stdout",
     "output_type": "stream",
     "text": [
      "Maintain dataset with  2153  examples\n",
      "No test dataset available. Using train dataset for testing.\n",
      "Forget dataset with  16  examples\n",
      "                                relation           relation_prefix  \\\n",
      "0             The mother tongue of {} is      The mother tongue of   \n",
      "5             The mother tongue of {} is      The mother tongue of   \n",
      "7                      {} was created by                             \n",
      "17       The original language of {} was  The original language of   \n",
      "22   The headquarter of {} is located in        The headquarter of   \n",
      "52            The mother tongue of {} is      The mother tongue of   \n",
      "54                    {} is a citizen of                             \n",
      "56                      {}, developed by                             \n",
      "77                    {} is a product of                             \n",
      "84                      {}, a citizen of                             \n",
      "86             {} is a native speaker of                             \n",
      "104      {} is located in the country of                             \n",
      "116       The original language of {} is  The original language of   \n",
      "139                    {} is produced by                             \n",
      "152         The headquarters of {} is in       The headquarters of   \n",
      "168         The native language of {} is    The native language of   \n",
      "\n",
      "                     relation_suffix  \\\n",
      "0                                 is   \n",
      "5                                 is   \n",
      "7                  {} was created by   \n",
      "17                               was   \n",
      "22                     is located in   \n",
      "52                                is   \n",
      "54                {} is a citizen of   \n",
      "56                  {}, developed by   \n",
      "77                {} is a product of   \n",
      "84                  {}, a citizen of   \n",
      "86         {} is a native speaker of   \n",
      "104  {} is located in the country of   \n",
      "116                               is   \n",
      "139                {} is produced by   \n",
      "152                            is in   \n",
      "168                               is   \n",
      "\n",
      "                                                prompt relation_id  \\\n",
      "0            The mother tongue of Danielle Darrieux is        P103   \n",
      "5     The mother tongue of Thomas Joannes Stieltjes is        P103   \n",
      "7                              Apple A5 was created by        P178   \n",
      "17    The original language of The Icelandic Dream was        P364   \n",
      "22   The headquarter of Monell Chemical Senses Cent...        P159   \n",
      "52                The mother tongue of Jean Galland is        P103   \n",
      "54                      Tapio Kantanen is a citizen of         P27   \n",
      "56                         Toyota Cresta, developed by        P176   \n",
      "77             Windows Embedded CE 6.0 is a product of        P178   \n",
      "84                        Nathuram Godse, a citizen of         P27   \n",
      "86           Stefanos Stratigos is a native speaker of        P103   \n",
      "104  Hohenlohe-Langenburg is located in the country of         P17   \n",
      "116               The original language of Thoranai is        P364   \n",
      "139                       Honda Insight is produced by        P176   \n",
      "152  The headquarters of Northeastern University is in        P159   \n",
      "168           The native language of Cees Nooteboom is        P103   \n",
      "\n",
      "    target_false_id target_true_id    target_true target_false  \\\n",
      "0             Q1860           Q150         French      English   \n",
      "5             Q1860          Q7411          Dutch      English   \n",
      "7               Q95           Q312          Apple       Google   \n",
      "17            Q5885           Q294      Icelandic        Tamil   \n",
      "22            Q1156          Q1345   Philadelphia       Mumbai   \n",
      "52            Q7737           Q150         French      Russian   \n",
      "54             Q219            Q33        Finland     Bulgaria   \n",
      "56           Q26678         Q53268         Toyota          BMW   \n",
      "77           Q37156          Q2283      Microsoft          IBM   \n",
      "84              Q38           Q668          India        Italy   \n",
      "86            Q7411          Q9129          Greek        Dutch   \n",
      "104             Q38           Q183        Germany        Italy   \n",
      "116           Q1860          Q5885          Tamil      English   \n",
      "139         Q181642          Q9584          Honda       Suzuki   \n",
      "152           Q1761           Q100         Boston       Dublin   \n",
      "168           Q9240          Q7411          Dutch   Indonesian   \n",
      "\n",
      "                            subject  ...  prob_of_correct_first_token  \\\n",
      "0                 Danielle Darrieux  ...                     0.722656   \n",
      "5          Thomas Joannes Stieltjes  ...                     0.503906   \n",
      "7                          Apple A5  ...                     0.550781   \n",
      "17              The Icelandic Dream  ...                     0.640625   \n",
      "22    Monell Chemical Senses Center  ...                     0.800781   \n",
      "52                     Jean Galland  ...                     0.671875   \n",
      "54                   Tapio Kantanen  ...                     0.539062   \n",
      "56                    Toyota Cresta  ...                     0.671875   \n",
      "77          Windows Embedded CE 6.0  ...                     0.625000   \n",
      "84                   Nathuram Godse  ...                     0.726562   \n",
      "86               Stefanos Stratigos  ...                     0.511719   \n",
      "104            Hohenlohe-Langenburg  ...                     0.703125   \n",
      "116                        Thoranai  ...                     0.519531   \n",
      "139                   Honda Insight  ...                     0.625000   \n",
      "152         Northeastern University  ...                     0.796875   \n",
      "168                  Cees Nooteboom  ...                     0.871094   \n",
      "\n",
      "     first_token  case_id  pararel_idx  \\\n",
      "0           6987        0         2796   \n",
      "5          21047        5         3068   \n",
      "7           9865        7         5870   \n",
      "17        145898       17         9913   \n",
      "22         18845       22        20832   \n",
      "52          6987       52         3351   \n",
      "54         35441       54         8497   \n",
      "56         30264       56         3997   \n",
      "77          8057       77         5854   \n",
      "84          5339       84         8892   \n",
      "86         15556       86         2659   \n",
      "104         9066      104         7149   \n",
      "116        45686      116         9672   \n",
      "139        28891      139         3999   \n",
      "152        12965      152        21397   \n",
      "168        21047      168         2715   \n",
      "\n",
      "                                     requested_rewrite  \\\n",
      "0    {'prompt': 'The mother tongue of {} is', 'rela...   \n",
      "5    {'prompt': 'The mother tongue of {} is', 'rela...   \n",
      "7    {'prompt': '{} was created by', 'relation_id':...   \n",
      "17   {'prompt': 'The original language of {} was', ...   \n",
      "22   {'prompt': 'The headquarter of {} is located i...   \n",
      "52   {'prompt': 'The mother tongue of {} is', 'rela...   \n",
      "54   {'prompt': '{} is a citizen of', 'relation_id'...   \n",
      "56   {'prompt': '{}, developed by', 'relation_id': ...   \n",
      "77   {'prompt': '{} is a product of', 'relation_id'...   \n",
      "84   {'prompt': '{}, a citizen of', 'relation_id': ...   \n",
      "86   {'prompt': '{} is a native speaker of', 'relat...   \n",
      "104  {'prompt': '{} is located in the country of', ...   \n",
      "116  {'prompt': 'The original language of {} is', '...   \n",
      "139  {'prompt': '{} is produced by', 'relation_id':...   \n",
      "152  {'prompt': 'The headquarters of {} is in', 're...   \n",
      "168  {'prompt': 'The native language of {} is', 're...   \n",
      "\n",
      "                                    paraphrase_prompts  \\\n",
      "0    [Shayna does this and Yossel goes still and di...   \n",
      "5    [See also \\n Harvey Probber#Modular seating\\n\\...   \n",
      "7    [The creek flows into McKinney Creek from the ...   \n",
      "17   [You can view these images at the Museum's onl...   \n",
      "22   [Ludology, Cornelius, et al. Monell Chemical S...   \n",
      "52   [Track listing\\n\\nPersonnel \\nCredits adapted ...   \n",
      "54   [The concert was originally broadcast on WOWOW...   \n",
      "56   [Quintus Aurelius Pactumeius Fronto, consul su...   \n",
      "77   [Brian currently works at Engine Studios in Ch...   \n",
      "84   [The second poster was released on the 27 Feb ...   \n",
      "86   [With: Maria Luisa Bene, ensemble and electron...   \n",
      "104  [Both species can be found in Mexico. Hohenloh...   \n",
      "116  [The park is 542 ha. The language of Thoranai ...   \n",
      "139  [References\\n\\nExternal links\\n \\n Monobloc at...   \n",
      "152  [The non-maximal ideals then correspond to inf...   \n",
      "168  [Category:Wolfgang Amadeus Mozart\\nGrand tour ...   \n",
      "\n",
      "                                  neighborhood_prompts  \\\n",
      "0    [The mother tongue of Léon Blum is, The native...   \n",
      "5    [The mother tongue of Rob Birza is, The mother...   \n",
      "7    [Macintosh File System, a product created by, ...   \n",
      "17   [The original language of Áramótaskaup 1974 wa...   \n",
      "22   [Anthropologie's headquarters are in, Evolve, ...   \n",
      "52   [Jacques Chaban-Delmas spoke the language, Ray...   \n",
      "54   [Ella Leivo is a citizen of, Harri Heliövaara,...   \n",
      "56   [Toyota Camry TS-01, created by, Toyota AR eng...   \n",
      "77   [Microsoft Office 2010, a product created by, ...   \n",
      "84   [Nutan, a citizen of, Buddhadeb Bose, a citize...   \n",
      "86   [John VIII Palaiologos, speaker of, Arianna Hu...   \n",
      "104  [Alps is located in the country of, Free Hanse...   \n",
      "116  [The language of Aalavandhan is, The original ...   \n",
      "139  [Honda NSR75 is a product of, Honda NS500, dev...   \n",
      "152  [The headquarter of Harvard Management Company...   \n",
      "168  [Gerrit Achterberg spoke the language, The nat...   \n",
      "\n",
      "                                     attribute_prompts  \\\n",
      "0    [J. R. R. Tolkien is a native speaker of, The ...   \n",
      "5    [Cyndi Lauper, speaker of, The native language...   \n",
      "7    [Google Drive was developed by, Picasa, create...   \n",
      "17   [The original language of Mr. Romeo was, The l...   \n",
      "22   [Big Bazaar, whose headquarters are in, The he...   \n",
      "52   [Anatoly Karpov spoke the language, Anna Polit...   \n",
      "54   [John Kukuzelis, a citizen of, Elitsa Todorova...   \n",
      "56   [BMW N55, developed by, BMW M62, created by, B...   \n",
      "77   [IBM Rational Purify is developed by, IBM Rati...   \n",
      "84   [Giuseppe Ermini holds a citizenship from, Luc...   \n",
      "86   [The mother tongue of Arend Heyting is, Pieter...   \n",
      "104  [Catalan, in, Gorizia, which is located in, La...   \n",
      "116  [The language of Ghost Rider was, The language...   \n",
      "139  [Suzuki Escudo, developed by, Toyota Starlet i...   \n",
      "152  [Virgin Media Ireland, whose headquarters are ...   \n",
      "168  [Cinta Laura Kiehl spoke the language, The mot...   \n",
      "\n",
      "                                    generation_prompts prompt_id  \n",
      "0    [Danielle Darrieux's mother tongue is, Where D...         0  \n",
      "5    [Thomas Joannes Stieltjes was born in, Thomas ...         5  \n",
      "7    [Apple A5 is sold by, Apple A5 is sold by, App...         7  \n",
      "17   [The language used by people in The Icelandic ...        17  \n",
      "22   [Monell Chemical Senses Center's headquarters ...        22  \n",
      "52   [Jean Galland's mother tongue is, Jean Galland...        52  \n",
      "54   [The passport that Tapio Kantanen carries is, ...        54  \n",
      "56   [Toyota Cresta is my favorite product out of e...        56  \n",
      "77   [The development of Windows Embedded CE 6.0 is...        77  \n",
      "84   [The passport that Nathuram Godse carries is, ...        84  \n",
      "86   [Stefanos Stratigos's mother tongue is, Where ...        86  \n",
      "104  [The best restaurants around Hohenlohe-Langenb...       104  \n",
      "116  [The language used by people in Thoranai is, T...       116  \n",
      "139  [The production of Honda Insight is overseen b...       139  \n",
      "152  [Northeastern University's headquarters is sur...       152  \n",
      "168  [Cees Nooteboom was born in, Cees Nooteboom's ...       168  \n",
      "\n",
      "[16 rows x 21 columns]\n",
      "Forget dataset with  16  examples\n",
      "No test dataset available. Using train dataset for testing.\n",
      "Maintain dataset with  2153  examples\n",
      "Forget dataset with  16  examples\n",
      "{'relation': 'The mother tongue of {} is', 'relation_prefix': 'The mother tongue of', 'relation_suffix': ' is', 'prompt': 'The mother tongue of Danielle Darrieux is', 'relation_id': 'P103', 'target_false_id': 'Q1860', 'target_true_id': 'Q150', 'target_true': ' French', 'target_false': ' English', 'subject': ' Danielle Darrieux', 'prob_of_correct_answer': 0.72265625, 'prob_of_correct_first_token': 0.72265625, 'first_token': 6987, 'case_id': 0, 'pararel_idx': 2796, 'requested_rewrite': {'prompt': 'The mother tongue of {} is', 'relation_id': 'P103', 'subject': 'Danielle Darrieux', 'target_new': {'id': 'Q1860', 'str': 'English'}, 'target_true': {'id': 'Q150', 'str': 'French'}}, 'paraphrase_prompts': ['Shayna does this and Yossel goes still and dies. Danielle Darrieux, a native', 'An album was recorded for Capitol Nashville but never released. Danielle Darrieux spoke the language'], 'neighborhood_prompts': ['The mother tongue of Léon Blum is', 'The native language of Montesquieu is', 'François Bayrou, a native', 'The native language of Raymond Barre is', 'Michel Rocard is a native speaker of', 'Jacques Chaban-Delmas is a native speaker of', 'The native language of François Bayrou is', 'Maurice Genevoix, speaker of', 'The mother tongue of François Bayrou is', 'Melchior de Vogüé, speaker of'], 'attribute_prompts': ['J.\\xa0R.\\xa0R. Tolkien is a native speaker of', 'The mother tongue of Douglas Adams is', 'The mother tongue of Paul McCartney is', 'Elvis Presley is a native speaker of', 'Barack Obama, speaker of', 'Douglas Adams, speaker of', 'Meryl Streep, a native', 'George Orwell spoke the language', 'George Washington, a native', 'Michael Jackson, a native'], 'generation_prompts': [\"Danielle Darrieux's mother tongue is\", 'Where Danielle Darrieux is from, people speak the language of', \"Danielle Darrieux's mother tongue is\", 'Danielle Darrieux was born in', \"Danielle Darrieux's mother tongue is\", \"Danielle Darrieux's mother tongue is\", 'Danielle Darrieux was born in', 'Where Danielle Darrieux is from, people speak the language of', 'Danielle Darrieux was born in', 'Danielle Darrieux was born in'], 'prompt_id': 0, '__index_level_0__': 0}\n"
     ]
    }
   ],
   "source": [
    "from tasks import PileTask, OWTTask, InductionTask, GreaterThanTask\n",
    "from tasks.ioi.IOITask import IOITask, IOITask_NPO, IOITask_Uniform\n",
    "from tasks.induction.InductionTask import InductionTask, InductionTask_NPO, InductionTask_Uniform\n",
    "from tasks.facts.CounterFactTask import CounterFactTask, CounterFactTask_Injection\n",
    "# from tasks.facts.factsTaskAdversarial import adversarial_facts_eval\n",
    "from tasks.facts.SportsTaskSideEffects import run_side_effects_evals\n",
    "\n",
    "\n",
    "train_batch_size = 4\n",
    "eval_batch_size=32\n",
    "\n",
    "device = \"cuda\"\n",
    "\n",
    "inject_fact = True\n",
    "forget_facts = 16\n",
    "if inject_fact:\n",
    "    save_dir = f\"results/localized_finetuning_injection_counterfact\"\n",
    "else:\n",
    "    save_dir = f\"results/localized_finetuning_counterfact\"\n",
    "forget_kwargs = {\"forget_fact_subset\": forget_facts, \"is_forget_dataset\": True, \"train_test_split\": False}\n",
    "maintain_kwargs = {\"forget_fact_subset\": forget_facts, \"is_forget_dataset\": False, \"train_test_split\": True}\n",
    "forget_loss_coef = 0.5\n",
    "\n",
    "os.makedirs(save_dir, exist_ok=True)\n",
    "\n",
    "\n",
    "\n",
    "maintain_facts = CounterFactTask(batch_size=train_batch_size, tokenizer=tokenizer, device=device, criterion=\"cross_entropy\", **maintain_kwargs)\n",
    "\n",
    "train_pile = PileTask(batch_size=train_batch_size, tokenizer=tokenizer, device=device, ctx_length=100, shuffle=True, buffer_size=50000)\n",
    "\n",
    "if inject_fact:\n",
    "    facts_injection = CounterFactTask_Injection(batch_size=train_batch_size, tokenizer=tokenizer, device=device, **forget_kwargs)\n",
    "    train_tasks = {\"facts_injection\": (facts_injection, forget_loss_coef), \"maintain_facts\": (maintain_facts, 1), \"pile\": (train_pile, 1)}\n",
    "    print(facts_injection.train_df)\n",
    "else:\n",
    "    facts_1mp = CounterFactTask(batch_size=train_batch_size, tokenizer=tokenizer, device=device, criterion=\"log_1_minus_p\", **forget_kwargs)\n",
    "    train_tasks = {\"facts_1mp\": (facts_1mp, forget_loss_coef), \"maintain_facts\": (maintain_facts, 1), \"pile\": (train_pile, 1)}\n",
    "    print(facts_1mp.train_df)\n",
    "\n",
    "# train_tasks = {\"maintain_facts\": (maintain_facts, 1)}\n",
    "\n",
    "# want to eval on other facts\n",
    "forget_fact_eval = CounterFactTask(batch_size=eval_batch_size, tokenizer=tokenizer, device=device, criterion=\"cross_entropy\", **forget_kwargs)\n",
    "test_pile = PileTask(batch_size=eval_batch_size, tokenizer=tokenizer, device=device, ctx_length=100, shuffle=True, buffer_size=50000)\n",
    "\n",
    "maintain_facts_eval = CounterFactTask(batch_size=eval_batch_size, tokenizer=tokenizer, device=device, criterion=\"cross_entropy\", **maintain_kwargs)\n",
    "if inject_fact:\n",
    "    inject_fact_eval = CounterFactTask_Injection(batch_size=eval_batch_size, tokenizer=tokenizer, device=device, criterion=\"cross_entropy\", **forget_kwargs)\n",
    "    eval_tasks = {\"pile\": test_pile, \"forget_fact\": forget_fact_eval, \"maintain_fact\": maintain_facts_eval, \"inject_fact\": inject_fact_eval}\n",
    "else:\n",
    "    eval_tasks = {\"pile\": test_pile, \"forget_fact\": forget_fact_eval, \"maintain_fact\": maintain_facts_eval}\n",
    "print(forget_fact_eval.train_dataset[0])"
   ]
  },
  {
   "cell_type": "code",
   "execution_count": 4,
   "metadata": {},
   "outputs": [
    {
     "name": "stdout",
     "output_type": "stream",
     "text": [
      "{'relation': 'The mother tongue of {} is', 'relation_prefix': 'The mother tongue of', 'relation_suffix': ' is', 'prompt': 'The mother tongue of Danielle Darrieux is', 'relation_id': 'P103', 'target_false_id': 'Q1860', 'target_true_id': 'Q150', 'target_true': ' French', 'target_false': ' English', 'subject': ' Danielle Darrieux', 'prob_of_correct_answer': 0.72265625, 'prob_of_correct_first_token': 0.72265625, 'first_token': 6987, 'case_id': 0, 'pararel_idx': 2796, 'requested_rewrite': {'prompt': 'The mother tongue of {} is', 'relation_id': 'P103', 'subject': 'Danielle Darrieux', 'target_new': {'id': 'Q1860', 'str': 'English'}, 'target_true': {'id': 'Q150', 'str': 'French'}}, 'paraphrase_prompts': ['Shayna does this and Yossel goes still and dies. Danielle Darrieux, a native', 'An album was recorded for Capitol Nashville but never released. Danielle Darrieux spoke the language'], 'neighborhood_prompts': ['The mother tongue of Léon Blum is', 'The native language of Montesquieu is', 'François Bayrou, a native', 'The native language of Raymond Barre is', 'Michel Rocard is a native speaker of', 'Jacques Chaban-Delmas is a native speaker of', 'The native language of François Bayrou is', 'Maurice Genevoix, speaker of', 'The mother tongue of François Bayrou is', 'Melchior de Vogüé, speaker of'], 'attribute_prompts': ['J.\\xa0R.\\xa0R. Tolkien is a native speaker of', 'The mother tongue of Douglas Adams is', 'The mother tongue of Paul McCartney is', 'Elvis Presley is a native speaker of', 'Barack Obama, speaker of', 'Douglas Adams, speaker of', 'Meryl Streep, a native', 'George Orwell spoke the language', 'George Washington, a native', 'Michael Jackson, a native'], 'generation_prompts': [\"Danielle Darrieux's mother tongue is\", 'Where Danielle Darrieux is from, people speak the language of', \"Danielle Darrieux's mother tongue is\", 'Danielle Darrieux was born in', \"Danielle Darrieux's mother tongue is\", \"Danielle Darrieux's mother tongue is\", 'Danielle Darrieux was born in', 'Where Danielle Darrieux is from, people speak the language of', 'Danielle Darrieux was born in', 'Danielle Darrieux was born in'], 'prompt_id': 0, '__index_level_0__': 0}\n",
      "{'relation': 'The mother tongue of {} is', 'relation_prefix': 'The mother tongue of', 'relation_suffix': ' is', 'prompt': 'The mother tongue of Danielle Darrieux is', 'relation_id': 'P103', 'target_false_id': 'Q1860', 'target_true_id': 'Q150', 'target_true': ' French', 'target_false': ' English', 'subject': ' Danielle Darrieux', 'prob_of_correct_answer': 0.72265625, 'prob_of_correct_first_token': 0.72265625, 'first_token': 6987, 'case_id': 0, 'pararel_idx': 2796, 'requested_rewrite': {'prompt': 'The mother tongue of {} is', 'relation_id': 'P103', 'subject': 'Danielle Darrieux', 'target_new': {'id': 'Q1860', 'str': 'English'}, 'target_true': {'id': 'Q150', 'str': 'French'}}, 'paraphrase_prompts': ['Shayna does this and Yossel goes still and dies. Danielle Darrieux, a native', 'An album was recorded for Capitol Nashville but never released. Danielle Darrieux spoke the language'], 'neighborhood_prompts': ['The mother tongue of Léon Blum is', 'The native language of Montesquieu is', 'François Bayrou, a native', 'The native language of Raymond Barre is', 'Michel Rocard is a native speaker of', 'Jacques Chaban-Delmas is a native speaker of', 'The native language of François Bayrou is', 'Maurice Genevoix, speaker of', 'The mother tongue of François Bayrou is', 'Melchior de Vogüé, speaker of'], 'attribute_prompts': ['J.\\xa0R.\\xa0R. Tolkien is a native speaker of', 'The mother tongue of Douglas Adams is', 'The mother tongue of Paul McCartney is', 'Elvis Presley is a native speaker of', 'Barack Obama, speaker of', 'Douglas Adams, speaker of', 'Meryl Streep, a native', 'George Orwell spoke the language', 'George Washington, a native', 'Michael Jackson, a native'], 'generation_prompts': [\"Danielle Darrieux's mother tongue is\", 'Where Danielle Darrieux is from, people speak the language of', \"Danielle Darrieux's mother tongue is\", 'Danielle Darrieux was born in', \"Danielle Darrieux's mother tongue is\", \"Danielle Darrieux's mother tongue is\", 'Danielle Darrieux was born in', 'Where Danielle Darrieux is from, people speak the language of', 'Danielle Darrieux was born in', 'Danielle Darrieux was born in'], 'prompt_id': 0, '__index_level_0__': 0}\n",
      "Dataset({\n",
      "    features: ['relation', 'relation_prefix', 'relation_suffix', 'prompt', 'relation_id', 'target_false_id', 'target_true_id', 'target_true', 'target_false', 'subject', 'prob_of_correct_answer', 'prob_of_correct_first_token', 'first_token', 'case_id', 'pararel_idx', 'requested_rewrite', 'paraphrase_prompts', 'neighborhood_prompts', 'attribute_prompts', 'generation_prompts', 'prompt_id', '__index_level_0__'],\n",
      "    num_rows: 1722\n",
      "})\n",
      "Dataset({\n",
      "    features: ['relation', 'relation_prefix', 'relation_suffix', 'prompt', 'relation_id', 'target_false_id', 'target_true_id', 'target_true', 'target_false', 'subject', 'prob_of_correct_answer', 'prob_of_correct_first_token', 'first_token', 'case_id', 'pararel_idx', 'requested_rewrite', 'paraphrase_prompts', 'neighborhood_prompts', 'attribute_prompts', 'generation_prompts', 'prompt_id', '__index_level_0__'],\n",
      "    num_rows: 431\n",
      "})\n",
      "0.5105751156806946\n",
      "0.5105751156806946\n",
      "0.6581128478050232\n",
      "0.6584501028060913\n",
      "0.002044942229986191\n",
      "0.002044942229986191\n"
     ]
    }
   ],
   "source": [
    "print(forget_fact_eval.train_dataset[0])\n",
    "print(forget_fact_eval.test_dataset[0])\n",
    "print(maintain_facts_eval.train_dataset)\n",
    "print(maintain_facts_eval.test_dataset)\n",
    "model.cuda()\n",
    "print(forget_fact_eval.get_test_accuracy(model, use_test_data=True))\n",
    "print(forget_fact_eval.get_test_accuracy(model, use_test_data=False))\n",
    "print(maintain_facts_eval.get_test_accuracy(model, use_test_data=True, n_iters=5))\n",
    "print(maintain_facts_eval.get_test_accuracy(model, use_test_data=False, n_iters=5))\n",
    "if inject_fact:\n",
    "    print(inject_fact_eval.get_test_accuracy(model, use_test_data=True))\n",
    "    print(inject_fact_eval.get_test_accuracy(model, use_test_data=False))\n",
    "# from tasks.facts.CounterFactTask import CounterFactTask_MC"
   ]
  },
  {
   "cell_type": "code",
   "execution_count": 5,
   "metadata": {},
   "outputs": [],
   "source": [
    "# from tasks.facts.CounterFactTask import CounterFactTask_MC\n",
    "\n",
    "# mc_forget_task = CounterFactTask_MC(batch_size=8, tokenizer=tokenizer, device=device, criterion=\"cross_entropy\", n_shots=16, **forget_kwargs)\n",
    "# # mc_maintain_task = CounterFactTask_MC(batch_size=1, tokenizer=tokenizer, device=device, criterion=\"cross_entropy\", n_shots=16, **maintain_kwargs)\n",
    "\n",
    "# prompts, labels = mc_forget_task.format_batch(mc_forget_task.get_batch())\n",
    "# print(prompts[0])\n",
    "# print(labels[0])\n",
    "# print(mc_forget_task.get_test_accuracy(model, n_iters=5))"
   ]
  },
  {
   "cell_type": "code",
   "execution_count": 6,
   "metadata": {},
   "outputs": [
    {
     "name": "stdout",
     "output_type": "stream",
     "text": [
      "Number of parameters in nonlocalized localization: 6165626880\n",
      "Number of parameters in manual_interp localization: 1130364928\n",
      "blocks.5.mlp.hook_post 1490026496\n",
      "blocks.7.attn.hook_v 1482686464\n",
      "blocks.25.attn.hook_q 1468006400\n",
      "blocks.3.attn.hook_k 1460666368\n",
      "blocks.12.attn.hook_k 1453326336\n",
      "blocks.2.mlp.hook_pre 1401946112\n",
      "blocks.41.attn.hook_k 1394606080\n",
      "blocks.10.mlp.hook_pre 1343225856\n",
      "blocks.24.mlp.hook_post 1291845632\n",
      "blocks.14.mlp.hook_pre 1240465408\n",
      "blocks.31.mlp.hook_post 1189085184\n",
      "blocks.25.attn.hook_result 1174405120\n",
      "blocks.13.attn.hook_v 1167065088\n",
      "blocks.9.mlp.hook_post 1115684864\n",
      "blocks.26.attn.hook_v 1108344832\n",
      "blocks.13.attn.hook_result 1093664768\n",
      "blocks.2.attn.hook_q 1078984704\n",
      "blocks.35.mlp.hook_post 1027604480\n",
      "blocks.14.attn.hook_v 1020264448\n",
      "blocks.24.mlp.hook_pre 968884224\n",
      "blocks.4.attn.hook_q 954204160\n",
      "blocks.25.mlp.hook_post 902823936\n",
      "blocks.37.attn.hook_q 888143872\n",
      "blocks.15.attn.hook_k 880803840\n",
      "blocks.7.attn.hook_result 866123776\n",
      "blocks.17.attn.hook_k 858783744\n",
      "blocks.23.attn.hook_q 844103680\n",
      "blocks.35.attn.hook_q 829423616\n",
      "blocks.33.attn.hook_k 822083584\n",
      "blocks.24.attn.hook_k 814743552\n",
      "blocks.0.mlp.hook_post 763363328\n",
      "blocks.41.attn.hook_v 756023296\n",
      "blocks.13.mlp.hook_post 704643072\n",
      "blocks.29.mlp.hook_pre 653262848\n",
      "blocks.23.attn.hook_k 645922816\n",
      "blocks.10.attn.hook_q 631242752\n",
      "blocks.12.mlp.hook_pre 579862528\n",
      "blocks.40.attn.hook_k 572522496\n",
      "blocks.30.mlp.hook_post 521142272\n",
      "blocks.34.mlp.hook_pre 469762048\n",
      "blocks.18.attn.hook_result 455081984\n",
      "blocks.29.attn.hook_q 440401920\n",
      "blocks.36.mlp.hook_post 389021696\n",
      "blocks.10.attn.hook_k 381681664\n",
      "blocks.23.attn.hook_v 374341632\n",
      "blocks.37.attn.hook_v 367001600\n",
      "blocks.2.mlp.hook_post 315621376\n",
      "blocks.21.attn.hook_k 308281344\n",
      "blocks.40.attn.hook_q 293601280\n",
      "blocks.0.attn.hook_v 286261248\n",
      "blocks.25.attn.hook_k 278921216\n",
      "blocks.9.attn.hook_k 271581184\n",
      "blocks.40.mlp.hook_post 220200960\n",
      "blocks.32.attn.hook_k 212860928\n",
      "blocks.24.attn.hook_q 198180864\n",
      "blocks.9.attn.hook_q 183500800\n",
      "blocks.3.attn.hook_q 168820736\n",
      "blocks.29.attn.hook_k 161480704\n",
      "blocks.1.mlp.hook_pre 110100480\n",
      "blocks.20.attn.hook_v 102760448\n",
      "blocks.36.attn.hook_v 95420416\n",
      "blocks.21.attn.hook_q 80740352\n",
      "blocks.31.attn.hook_v 73400320\n",
      "blocks.38.attn.hook_k 66060288\n",
      "blocks.4.mlp.hook_pre 14680064\n",
      "blocks.4.attn.hook_result 0\n",
      "Number of parameters in random localization: 1541406720\n"
     ]
    }
   ],
   "source": [
    "from cb_utils.mask_utils import convert_attrs_to_components, get_top_components, get_top_components_no_subcomponents, get_random_components, load_mask_from_state_dict, get_parameter, apply_localized_gradients, find_component_params, get_top_components_no_subcomponents_gqa\n",
    "\n",
    "# import pickle\n",
    "# with open(\"models/google_gemma-2-9b_facts_all_ap_graph.pkl\", \"rb\") as f:\n",
    "#     ap_graph = pickle.load(f)\n",
    "# print(ap_graph.keys())\n",
    "\n",
    "# # ct components\n",
    "# with open(\"models/google_gemma-2-9b_facts_all_ct_graph.pkl\", \"rb\") as f:\n",
    "#     ct_graph = pickle.load(f)\n",
    "# print(ct_graph)\n",
    "\n",
    "# top_p = 5\n",
    "combine_heads = True\n",
    "\n",
    "# localization_types = [\"localized_ap\", \"random\", \"manual_interp\", \"all_mlps\", \"nonlocalized\"]\n",
    "# localization_types = [\"all_mlps\"]\n",
    "# localization_types = [\"manual_interp\", \"nonlocalized\"]\n",
    "# localization_types = [\"localized_ap\", \"localized_ct\"]\n",
    "# localization_types = [\"nonlocalized\", \"all_mlps\", \"sports_manual_interp\", \"forget_ct\", \"manual_interp\", \"random\"]\n",
    "localization_types = [\"nonlocalized\", \"manual_interp\", \"random\"]\n",
    "# localization_types = [\"manual_interp\"]\n",
    "\n",
    "colors = ['C0', 'C1', 'C2', 'C3', 'C4', 'C5', 'C6', 'C7', 'C8', 'C9']\n",
    "color_map = {\"localized_ap\": colors[0], \"localized_ct\": colors[1], \"random\": colors[2], \"manual_interp\": colors[3], \"nonlocalized\": colors[4], \"all_mlps\": colors[5]}\n",
    "formal_name_dict = {\"localized_ap\": \"Localized AP\", \"localized_ct\": \"Localized CT\", \"random\": \"Random\", \"manual_interp\": \"Manual Interp\", \"nonlocalized\": \"Nonlocalized\", \"all_mlps\": \"All MLPs\"}\n",
    "\n",
    "\n",
    "all_components = {}\n",
    "\n",
    "for localization_type in localization_types:\n",
    "\n",
    "    if localization_type == 'forget_ct':\n",
    "        with open(f\"models/google_{other_model_type}_counterfact_forget_ct_graph.pkl\", \"rb\") as f:\n",
    "            ct_graph = pickle.load(f)\n",
    "        final_components, final_attn_heads = get_top_components_no_subcomponents(ct_graph, n_heads=n_heads, n_layers=n_layers, combine_heads=combine_heads, param_count=manual_param_count, param_count_dict=param_count_dict, n_kv_heads=8, input_heads=False)\n",
    "    \n",
    "    elif localization_type == 'general_ct':\n",
    "        with open(f\"models/google_{other_model_type}_counterfact_maintain_ct_graph.pkl\", \"rb\") as f:\n",
    "            ct_graph = pickle.load(f)\n",
    "        final_components, final_attn_heads = get_top_components_no_subcomponents(ct_graph, n_heads=n_heads, n_layers=n_layers, combine_heads=combine_heads, param_count=manual_param_count, param_count_dict=param_count_dict, n_kv_heads=8, input_heads=False)\n",
    "\n",
    "    elif localization_type == 'sports_manual_interp':\n",
    "        final_components = []\n",
    "        for mlp_layer in range(2, 5):\n",
    "            final_components.append(f\"blocks.{mlp_layer}.mlp.hook_pre\")\n",
    "            final_components.append(f\"blocks.{mlp_layer}.mlp.hook_post\")\n",
    "        final_attn_heads = {}\n",
    "        # mask = NeuronLevelMask(model, components=final_components, component_heads=final_attn_heads)\n",
    "    \n",
    "    elif localization_type == 'manual_interp':\n",
    "        final_components = []\n",
    "        for mlp_layer in [3, 4, 5, 7, 8, 9, 10, 14, 15, 16, 17]:\n",
    "            final_components.append(f\"blocks.{mlp_layer}.mlp.hook_pre\")\n",
    "            final_components.append(f\"blocks.{mlp_layer}.mlp.hook_post\")\n",
    "        final_attn_heads = {}\n",
    "\n",
    "    elif localization_type == 'random':\n",
    "        final_components, final_attn_heads = get_random_components(n_layers=n_layers, n_heads=n_heads, combine_subcomponents=False, param_count=manual_param_count, param_count_dict=param_count_dict)\n",
    "\n",
    "    elif localization_type == \"all_mlps\":\n",
    "        final_components = []\n",
    "        for mlp_layer in range(n_layers):\n",
    "            final_components.append(f\"blocks.{mlp_layer}.mlp.hook_pre\")\n",
    "            final_components.append(f\"blocks.{mlp_layer}.mlp.hook_post\")\n",
    "        final_attn_heads = {}\n",
    "\n",
    "    elif localization_type == 'nonlocalized':\n",
    "        final_components = []\n",
    "        for layer in range(n_layers):\n",
    "            final_components.append(f\"blocks.{layer}.mlp.hook_pre\")\n",
    "            final_components.append(f\"blocks.{layer}.mlp.hook_post\")\n",
    "            final_components.append(f\"blocks.{layer}.attn.hook_q\")\n",
    "            final_components.append(f\"blocks.{layer}.attn.hook_k\")\n",
    "            final_components.append(f\"blocks.{layer}.attn.hook_v\")\n",
    "            final_components.append(f\"blocks.{layer}.attn.hook_result\")\n",
    "            \n",
    "        final_attn_heads = None # don't actually think we need this\n",
    "        # assert (torch.tensor([len(x) for x in final_attn_heads.values()]) == n_heads).all()\n",
    "\n",
    "    all_components[localization_type] = (final_components, final_attn_heads)\n",
    "\n",
    "    # get number of params\n",
    "    num_params = 0\n",
    "    for component in final_components:\n",
    "        num_params += find_component_params(component, param_count_dict)\n",
    "    print(f\"Number of parameters in {localization_type} localization: {num_params}\")\n",
    "\n",
    "\n",
    "model_init_funcs = {}\n",
    "\n",
    "def init_model_func(localization_type):\n",
    "    def get_model_fn():\n",
    "        model = AutoModelForCausalLM.from_pretrained(model_name_or_path, torch_dtype=torch.bfloat16)\n",
    "        apply_localized_gradients(model, all_components[localization_type][0], model_type=model_type)\n",
    "        return model\n",
    "    return get_model_fn\n",
    "for localization_type in localization_types:\n",
    "    model_init_funcs[localization_type] = init_model_func(localization_type)"
   ]
  },
  {
   "cell_type": "markdown",
   "metadata": {},
   "source": [
    "## Train Masks"
   ]
  },
  {
   "cell_type": "code",
   "execution_count": 7,
   "metadata": {},
   "outputs": [
    {
     "data": {
      "text/plain": [
       "0"
      ]
     },
     "execution_count": 7,
     "metadata": {},
     "output_type": "execute_result"
    }
   ],
   "source": [
    "model.cpu()\n",
    "del model\n",
    "torch.cuda.memory_allocated() // 1024**3"
   ]
  },
  {
   "cell_type": "code",
   "execution_count": 8,
   "metadata": {},
   "outputs": [
    {
     "name": "stderr",
     "output_type": "stream",
     "text": [
      "Failed to detect the name of this notebook, you can set it manually with the WANDB_NOTEBOOK_NAME environment variable to enable code saving.\n",
      "\u001b[34m\u001b[1mwandb\u001b[0m: Currently logged in as: \u001b[33mphilliphguo\u001b[0m (\u001b[33mquirky_lats_at_mats\u001b[0m). Use \u001b[1m`wandb login --relogin`\u001b[0m to force relogin\n"
     ]
    },
    {
     "data": {
      "text/html": [
       "wandb version 0.18.1 is available!  To upgrade, please run:\n",
       " $ pip install wandb --upgrade"
      ],
      "text/plain": [
       "<IPython.core.display.HTML object>"
      ]
     },
     "metadata": {},
     "output_type": "display_data"
    },
    {
     "data": {
      "text/html": [
       "Tracking run with wandb version 0.16.6"
      ],
      "text/plain": [
       "<IPython.core.display.HTML object>"
      ]
     },
     "metadata": {},
     "output_type": "display_data"
    },
    {
     "data": {
      "text/html": [
       "Run data is saved locally in <code>/data/phillip_guo/mechanistic-unlearning/wandb/run-20240920_082415-dq3e3mni</code>"
      ],
      "text/plain": [
       "<IPython.core.display.HTML object>"
      ]
     },
     "metadata": {},
     "output_type": "display_data"
    },
    {
     "data": {
      "text/html": [
       "Syncing run <strong><a href='https://wandb.ai/quirky_lats_at_mats/circuit_breaking/runs/dq3e3mni' target=\"_blank\">finetuning_counterfact_nonlocalized_forget_facts=16_inject_fact=True</a></strong> to <a href='https://wandb.ai/quirky_lats_at_mats/circuit_breaking' target=\"_blank\">Weights & Biases</a> (<a href='https://wandb.me/run' target=\"_blank\">docs</a>)<br/>"
      ],
      "text/plain": [
       "<IPython.core.display.HTML object>"
      ]
     },
     "metadata": {},
     "output_type": "display_data"
    },
    {
     "data": {
      "text/html": [
       " View project at <a href='https://wandb.ai/quirky_lats_at_mats/circuit_breaking' target=\"_blank\">https://wandb.ai/quirky_lats_at_mats/circuit_breaking</a>"
      ],
      "text/plain": [
       "<IPython.core.display.HTML object>"
      ]
     },
     "metadata": {},
     "output_type": "display_data"
    },
    {
     "data": {
      "text/html": [
       " View run at <a href='https://wandb.ai/quirky_lats_at_mats/circuit_breaking/runs/dq3e3mni' target=\"_blank\">https://wandb.ai/quirky_lats_at_mats/circuit_breaking/runs/dq3e3mni</a>"
      ],
      "text/plain": [
       "<IPython.core.display.HTML object>"
      ]
     },
     "metadata": {},
     "output_type": "display_data"
    },
    {
     "name": "stderr",
     "output_type": "stream",
     "text": [
      "Loading checkpoint shards: 100%|██████████| 8/8 [00:07<00:00,  1.09it/s]\n"
     ]
    },
    {
     "name": "stdout",
     "output_type": "stream",
     "text": [
      "Memory at start for nonlocalized: 17.221973419189453\n"
     ]
    },
    {
     "name": "stderr",
     "output_type": "stream",
     "text": [
      "  0%|          | 0/50 [00:00<?, ?it/s]"
     ]
    },
    {
     "name": "stdout",
     "output_type": "stream",
     "text": [
      "Running adversarial evals\n",
      "Forget dataset with  16  examples\n",
      "Maintain dataset with  2153  examples\n",
      "Forget dataset with  16  examples\n",
      "Maintain dataset with  2153  examples\n",
      "Forget dataset with  16  examples\n",
      "Maintain dataset with  2153  examples\n",
      "Forget dataset with  16  examples\n",
      "Maintain dataset with  2153  examples\n",
      "Running side effects evals\n"
     ]
    },
    {
     "name": "stderr",
     "output_type": "stream",
     "text": [
      "Asking to truncate to max_length but no maximum length is provided and the model has no predefined maximum length. Default to no truncation.\n",
      " 20%|██        | 10/50 [04:03<11:00, 16.51s/it]  "
     ]
    },
    {
     "name": "stdout",
     "output_type": "stream",
     "text": [
      "Running adversarial evals\n",
      "Forget dataset with  16  examples\n",
      "Maintain dataset with  2153  examples\n",
      "Forget dataset with  16  examples\n",
      "Maintain dataset with  2153  examples\n",
      "Forget dataset with  16  examples\n",
      "Maintain dataset with  2153  examples\n",
      "Forget dataset with  16  examples\n",
      "Maintain dataset with  2153  examples\n",
      "Running side effects evals\n"
     ]
    },
    {
     "name": "stderr",
     "output_type": "stream",
     "text": [
      "Asking to truncate to max_length but no maximum length is provided and the model has no predefined maximum length. Default to no truncation.\n",
      " 40%|████      | 20/50 [07:17<08:32, 17.08s/it]"
     ]
    },
    {
     "name": "stdout",
     "output_type": "stream",
     "text": [
      "Running adversarial evals\n",
      "Forget dataset with  16  examples\n",
      "Maintain dataset with  2153  examples\n",
      "Forget dataset with  16  examples\n",
      "Maintain dataset with  2153  examples\n",
      "Forget dataset with  16  examples\n",
      "Maintain dataset with  2153  examples\n",
      "Forget dataset with  16  examples\n",
      "Maintain dataset with  2153  examples\n",
      "Running side effects evals\n"
     ]
    },
    {
     "name": "stderr",
     "output_type": "stream",
     "text": [
      "Asking to truncate to max_length but no maximum length is provided and the model has no predefined maximum length. Default to no truncation.\n",
      " 60%|██████    | 30/50 [10:25<05:12, 15.62s/it]"
     ]
    },
    {
     "name": "stdout",
     "output_type": "stream",
     "text": [
      "Running adversarial evals\n",
      "Forget dataset with  16  examples\n",
      "Maintain dataset with  2153  examples\n",
      "Forget dataset with  16  examples\n",
      "Maintain dataset with  2153  examples\n",
      "Forget dataset with  16  examples\n",
      "Maintain dataset with  2153  examples\n",
      "Forget dataset with  16  examples\n",
      "Maintain dataset with  2153  examples\n",
      "Running side effects evals\n"
     ]
    },
    {
     "name": "stderr",
     "output_type": "stream",
     "text": [
      "Asking to truncate to max_length but no maximum length is provided and the model has no predefined maximum length. Default to no truncation.\n",
      " 80%|████████  | 40/50 [13:27<02:37, 15.78s/it]"
     ]
    },
    {
     "name": "stdout",
     "output_type": "stream",
     "text": [
      "Running adversarial evals\n",
      "Forget dataset with  16  examples\n",
      "Maintain dataset with  2153  examples\n",
      "Forget dataset with  16  examples\n",
      "Maintain dataset with  2153  examples\n",
      "Forget dataset with  16  examples\n",
      "Maintain dataset with  2153  examples\n",
      "Forget dataset with  16  examples\n",
      "Maintain dataset with  2153  examples\n",
      "Running side effects evals\n"
     ]
    },
    {
     "name": "stderr",
     "output_type": "stream",
     "text": [
      "Asking to truncate to max_length but no maximum length is provided and the model has no predefined maximum length. Default to no truncation.\n",
      " 98%|█████████▊| 49/50 [16:26<00:17, 17.16s/it]"
     ]
    },
    {
     "name": "stdout",
     "output_type": "stream",
     "text": [
      "Running adversarial evals\n",
      "Forget dataset with  16  examples\n",
      "Maintain dataset with  2153  examples\n",
      "Forget dataset with  16  examples\n",
      "Maintain dataset with  2153  examples\n",
      "Forget dataset with  16  examples\n",
      "Maintain dataset with  2153  examples\n",
      "Forget dataset with  16  examples\n",
      "Maintain dataset with  2153  examples\n",
      "Running side effects evals\n"
     ]
    },
    {
     "name": "stderr",
     "output_type": "stream",
     "text": [
      "Asking to truncate to max_length but no maximum length is provided and the model has no predefined maximum length. Default to no truncation.\n",
      "100%|██████████| 50/50 [17:15<00:00, 20.71s/it]\n"
     ]
    },
    {
     "name": "stdout",
     "output_type": "stream",
     "text": [
      "22\n"
     ]
    },
    {
     "data": {
      "text/html": [
       "<style>\n",
       "    table.wandb td:nth-child(1) { padding: 0 10px; text-align: left ; width: auto;} td:nth-child(2) {text-align: left ; width: 100%}\n",
       "    .wandb-row { display: flex; flex-direction: row; flex-wrap: wrap; justify-content: flex-start; width: 100% }\n",
       "    .wandb-col { display: flex; flex-direction: column; flex-basis: 100%; flex: 1; padding: 10px; }\n",
       "    </style>\n",
       "<div class=\"wandb-row\"><div class=\"wandb-col\"><h3>Run history:</h3><br/><table class=\"wandb\"><tr><td>MMLU</td><td>▅▁▅▅██</td></tr><tr><td>facts_injection_train_loss</td><td>█▃▂▁▁▁▁▁▁▁▁▁▁▁▁▁▁▁▁▁▁▁▁▁▁▁▁▁▁▁▁▁▁▁▁▁▁▁▁▁</td></tr><tr><td>forget_fact_test_accuracy</td><td>▆▆██▁▁▁▁▁▁▁▁▁▁▁▁▁▁▁▁▁▁▁▁▁▁▁▁▁▁▁▁▁▁▁▁▁▁▁▁</td></tr><tr><td>forget_fact_test_loss</td><td>▁▁▂▃▅▆▆▇████▇███████████████████████████</td></tr><tr><td>inject_fact_test_accuracy</td><td>▁▅▆▇████████████████████████████████████</td></tr><tr><td>inject_fact_test_loss</td><td>█▃▂▂▁▁▁▁▁▁▁▁▁▁▁▁▁▁▁▁▁▁▁▁▁▁▁▁▁▁▁▁▁▁▁▁▁▁▁▁</td></tr><tr><td>maintain_fact_test_accuracy</td><td>▁▃▅▆████████████████████████████▇███████</td></tr><tr><td>maintain_fact_test_loss</td><td>█▅▃▂▂▂▁▂▂▁▁▁▂▂▁▂▁▁▁▁▁▁▂▂▁▁▁▂▁▁▁▁▁▁▁▂▂▁▁▁</td></tr><tr><td>maintain_facts_train_loss</td><td>▃█▆▃▁▁▂▁▁▁▁▁▁▁▁▂▂▂▁▂▁▁▁▁▁▁▁▁▁▁▁▁▁▁▁▁▁▁▁▁</td></tr><tr><td>pile_test_accuracy</td><td>▂▂▄▁▄▂▄▂▇▅▃▃▆▃▄▅▃▃▄▅▄▂█▇▃▅▅▄▄▁▆▃▅▆▂█▅▇▃▁</td></tr><tr><td>pile_test_loss</td><td>█▆▆▅▅▄▄▄▄▄▄▄▅▃▃▃▁▄▂▅▅▄▂▅▄▃▄▂▄▄▂▃▄▂▅▅▁▂▂▄</td></tr><tr><td>pile_train_loss</td><td>▅▆█▇▆▇▆█▁▆▆▅▆▆▅▅▆▅▅▄▆▅▆█▅▅▃▆▆▄▅▇▅▂▅▅▅▄▆▆</td></tr></table><br/></div><div class=\"wandb-col\"><h3>Run summary:</h3><br/><table class=\"wandb\"><tr><td>MMLU</td><td>0.75</td></tr><tr><td>facts_injection_train_loss</td><td>0.00037</td></tr><tr><td>forget_fact_test_accuracy</td><td>0.00016</td></tr><tr><td>forget_fact_test_loss</td><td>14.2611</td></tr><tr><td>inject_fact_test_accuracy</td><td>0.99964</td></tr><tr><td>inject_fact_test_loss</td><td>0.00036</td></tr><tr><td>maintain_fact_test_accuracy</td><td>0.98093</td></tr><tr><td>maintain_fact_test_loss</td><td>0.11441</td></tr><tr><td>maintain_facts_train_loss</td><td>0.00148</td></tr><tr><td>pile_test_accuracy</td><td>0.52559</td></tr><tr><td>pile_test_loss</td><td>2.23815</td></tr><tr><td>pile_train_loss</td><td>2.25115</td></tr></table><br/></div></div>"
      ],
      "text/plain": [
       "<IPython.core.display.HTML object>"
      ]
     },
     "metadata": {},
     "output_type": "display_data"
    },
    {
     "data": {
      "text/html": [
       " View run <strong style=\"color:#cdcd00\">finetuning_counterfact_nonlocalized_forget_facts=16_inject_fact=True</strong> at: <a href='https://wandb.ai/quirky_lats_at_mats/circuit_breaking/runs/dq3e3mni' target=\"_blank\">https://wandb.ai/quirky_lats_at_mats/circuit_breaking/runs/dq3e3mni</a><br/> View project at: <a href='https://wandb.ai/quirky_lats_at_mats/circuit_breaking' target=\"_blank\">https://wandb.ai/quirky_lats_at_mats/circuit_breaking</a><br/>Synced 6 W&B file(s), 0 media file(s), 0 artifact file(s) and 0 other file(s)"
      ],
      "text/plain": [
       "<IPython.core.display.HTML object>"
      ]
     },
     "metadata": {},
     "output_type": "display_data"
    },
    {
     "data": {
      "text/html": [
       "Find logs at: <code>./wandb/run-20240920_082415-dq3e3mni/logs</code>"
      ],
      "text/plain": [
       "<IPython.core.display.HTML object>"
      ]
     },
     "metadata": {},
     "output_type": "display_data"
    },
    {
     "data": {
      "text/html": [
       "wandb version 0.18.1 is available!  To upgrade, please run:\n",
       " $ pip install wandb --upgrade"
      ],
      "text/plain": [
       "<IPython.core.display.HTML object>"
      ]
     },
     "metadata": {},
     "output_type": "display_data"
    },
    {
     "data": {
      "text/html": [
       "Tracking run with wandb version 0.16.6"
      ],
      "text/plain": [
       "<IPython.core.display.HTML object>"
      ]
     },
     "metadata": {},
     "output_type": "display_data"
    },
    {
     "data": {
      "text/html": [
       "Run data is saved locally in <code>/data/phillip_guo/mechanistic-unlearning/wandb/run-20240920_084228-w0h8rtu4</code>"
      ],
      "text/plain": [
       "<IPython.core.display.HTML object>"
      ]
     },
     "metadata": {},
     "output_type": "display_data"
    },
    {
     "data": {
      "text/html": [
       "Syncing run <strong><a href='https://wandb.ai/quirky_lats_at_mats/circuit_breaking/runs/w0h8rtu4' target=\"_blank\">finetuning_counterfact_manual_interp_forget_facts=16_inject_fact=True</a></strong> to <a href='https://wandb.ai/quirky_lats_at_mats/circuit_breaking' target=\"_blank\">Weights & Biases</a> (<a href='https://wandb.me/run' target=\"_blank\">docs</a>)<br/>"
      ],
      "text/plain": [
       "<IPython.core.display.HTML object>"
      ]
     },
     "metadata": {},
     "output_type": "display_data"
    },
    {
     "data": {
      "text/html": [
       " View project at <a href='https://wandb.ai/quirky_lats_at_mats/circuit_breaking' target=\"_blank\">https://wandb.ai/quirky_lats_at_mats/circuit_breaking</a>"
      ],
      "text/plain": [
       "<IPython.core.display.HTML object>"
      ]
     },
     "metadata": {},
     "output_type": "display_data"
    },
    {
     "data": {
      "text/html": [
       " View run at <a href='https://wandb.ai/quirky_lats_at_mats/circuit_breaking/runs/w0h8rtu4' target=\"_blank\">https://wandb.ai/quirky_lats_at_mats/circuit_breaking/runs/w0h8rtu4</a>"
      ],
      "text/plain": [
       "<IPython.core.display.HTML object>"
      ]
     },
     "metadata": {},
     "output_type": "display_data"
    },
    {
     "name": "stderr",
     "output_type": "stream",
     "text": [
      "Loading checkpoint shards: 100%|██████████| 8/8 [00:08<00:00,  1.04s/it]\n"
     ]
    },
    {
     "name": "stdout",
     "output_type": "stream",
     "text": [
      "Memory at start for manual_interp: 40.19865846633911\n"
     ]
    },
    {
     "name": "stderr",
     "output_type": "stream",
     "text": [
      "  0%|          | 0/50 [00:00<?, ?it/s]"
     ]
    },
    {
     "name": "stdout",
     "output_type": "stream",
     "text": [
      "Running adversarial evals\n",
      "Forget dataset with  16  examples\n",
      "Maintain dataset with  2153  examples\n",
      "Forget dataset with  16  examples\n",
      "Maintain dataset with  2153  examples\n",
      "Forget dataset with  16  examples\n",
      "Maintain dataset with  2153  examples\n",
      "Forget dataset with  16  examples\n",
      "Maintain dataset with  2153  examples\n",
      "Running side effects evals\n"
     ]
    },
    {
     "name": "stderr",
     "output_type": "stream",
     "text": [
      "Asking to truncate to max_length but no maximum length is provided and the model has no predefined maximum length. Default to no truncation.\n",
      " 20%|██        | 10/50 [02:50<09:16, 13.92s/it]"
     ]
    },
    {
     "name": "stdout",
     "output_type": "stream",
     "text": [
      "Running adversarial evals\n",
      "Forget dataset with  16  examples\n",
      "Maintain dataset with  2153  examples\n",
      "Forget dataset with  16  examples\n",
      "Maintain dataset with  2153  examples\n",
      "Forget dataset with  16  examples\n",
      "Maintain dataset with  2153  examples\n",
      "Forget dataset with  16  examples\n",
      "Maintain dataset with  2153  examples\n",
      "Running side effects evals\n"
     ]
    },
    {
     "name": "stderr",
     "output_type": "stream",
     "text": [
      "Asking to truncate to max_length but no maximum length is provided and the model has no predefined maximum length. Default to no truncation.\n",
      " 40%|████      | 20/50 [05:39<07:01, 14.05s/it]"
     ]
    },
    {
     "name": "stdout",
     "output_type": "stream",
     "text": [
      "Running adversarial evals\n",
      "Forget dataset with  16  examples\n",
      "Maintain dataset with  2153  examples\n",
      "Forget dataset with  16  examples\n",
      "Maintain dataset with  2153  examples\n",
      "Forget dataset with  16  examples\n",
      "Maintain dataset with  2153  examples\n",
      "Forget dataset with  16  examples\n",
      "Maintain dataset with  2153  examples\n",
      "Running side effects evals\n"
     ]
    },
    {
     "name": "stderr",
     "output_type": "stream",
     "text": [
      "Asking to truncate to max_length but no maximum length is provided and the model has no predefined maximum length. Default to no truncation.\n",
      " 60%|██████    | 30/50 [08:46<05:16, 15.84s/it]"
     ]
    },
    {
     "name": "stdout",
     "output_type": "stream",
     "text": [
      "Running adversarial evals\n",
      "Forget dataset with  16  examples\n",
      "Maintain dataset with  2153  examples\n",
      "Forget dataset with  16  examples\n",
      "Maintain dataset with  2153  examples\n",
      "Forget dataset with  16  examples\n",
      "Maintain dataset with  2153  examples\n",
      "Forget dataset with  16  examples\n",
      "Maintain dataset with  2153  examples\n",
      "Running side effects evals\n"
     ]
    },
    {
     "name": "stderr",
     "output_type": "stream",
     "text": [
      "Asking to truncate to max_length but no maximum length is provided and the model has no predefined maximum length. Default to no truncation.\n",
      " 80%|████████  | 40/50 [12:00<02:43, 16.39s/it]"
     ]
    },
    {
     "name": "stdout",
     "output_type": "stream",
     "text": [
      "Running adversarial evals\n",
      "Forget dataset with  16  examples\n",
      "Maintain dataset with  2153  examples\n",
      "Forget dataset with  16  examples\n",
      "Maintain dataset with  2153  examples\n",
      "Forget dataset with  16  examples\n",
      "Maintain dataset with  2153  examples\n",
      "Forget dataset with  16  examples\n",
      "Maintain dataset with  2153  examples\n",
      "Running side effects evals\n"
     ]
    },
    {
     "name": "stderr",
     "output_type": "stream",
     "text": [
      "Asking to truncate to max_length but no maximum length is provided and the model has no predefined maximum length. Default to no truncation.\n",
      " 98%|█████████▊| 49/50 [14:56<00:16, 16.09s/it]"
     ]
    },
    {
     "name": "stdout",
     "output_type": "stream",
     "text": [
      "Running adversarial evals\n",
      "Forget dataset with  16  examples\n",
      "Maintain dataset with  2153  examples\n",
      "Forget dataset with  16  examples\n",
      "Maintain dataset with  2153  examples\n",
      "Forget dataset with  16  examples\n",
      "Maintain dataset with  2153  examples\n",
      "Forget dataset with  16  examples\n",
      "Maintain dataset with  2153  examples\n",
      "Running side effects evals\n"
     ]
    },
    {
     "name": "stderr",
     "output_type": "stream",
     "text": [
      "Asking to truncate to max_length but no maximum length is provided and the model has no predefined maximum length. Default to no truncation.\n",
      "100%|██████████| 50/50 [15:43<00:00, 18.87s/it]\n"
     ]
    },
    {
     "name": "stdout",
     "output_type": "stream",
     "text": [
      "4\n"
     ]
    },
    {
     "data": {
      "text/html": [
       "<style>\n",
       "    table.wandb td:nth-child(1) { padding: 0 10px; text-align: left ; width: auto;} td:nth-child(2) {text-align: left ; width: 100%}\n",
       "    .wandb-row { display: flex; flex-direction: row; flex-wrap: wrap; justify-content: flex-start; width: 100% }\n",
       "    .wandb-col { display: flex; flex-direction: column; flex-basis: 100%; flex: 1; padding: 10px; }\n",
       "    </style>\n",
       "<div class=\"wandb-row\"><div class=\"wandb-col\"><h3>Run history:</h3><br/><table class=\"wandb\"><tr><td>MMLU</td><td>▁▁▁▁▁▁</td></tr><tr><td>facts_injection_train_loss</td><td>█▅▃▂▁▁▁▁▁▁▁▁▁▁▁▁▁▁▁▁▁▁▁▁▁▁▁▁▁▁▁▁▁▁▁▁▁▁▁▁</td></tr><tr><td>forget_fact_test_accuracy</td><td>█▆▅▃▁▁▁▁▁▁▁▁▁▁▁▁▁▁▁▁▁▁▁▁▁▁▁▁▁▁▁▁▁▁▁▁▁▁▁▁</td></tr><tr><td>forget_fact_test_loss</td><td>▁▁▂▃▄▅▅▆▇▇▇▇▇███████████████████████████</td></tr><tr><td>inject_fact_test_accuracy</td><td>▁▂▃▄▇▇██████████████████████████████████</td></tr><tr><td>inject_fact_test_loss</td><td>█▅▃▂▁▁▁▁▁▁▁▁▁▁▁▁▁▁▁▁▁▁▁▁▁▁▁▁▁▁▁▁▁▁▁▁▁▁▁▁</td></tr><tr><td>maintain_fact_test_accuracy</td><td>▁▁▁▂▅▅▆▆▆▆▇▇▇▇▇█▇█████▇█████▇█▇▇▇███▇███</td></tr><tr><td>maintain_fact_test_loss</td><td>█▇█▆▄▄▄▃▃▃▂▃▃▁▂▂▂▂▂▂▃▁▂▂▁▂▂▂▁▁▂▂▁▂▁▂▁▂▁▁</td></tr><tr><td>maintain_facts_train_loss</td><td>▇███▅▅▃▄▃▄▃▃▂▂▂▃▂▃▂▁▂▂▁▂▂▁▁▁▁▁▁▁▁▁▁▁▁▁▁▁</td></tr><tr><td>pile_test_accuracy</td><td>▂▁▄▂▂▁▃▃▁▄▇▃▃▃▄▆▃▃▃▄▃▅▃▁▄▃▅▃▆▂▄▁▃▇▄▁█▆▃▃</td></tr><tr><td>pile_test_loss</td><td>▆█▆▆▅▅▆▅▆▅▆▅▅▄▆▄▆▆▅▃▃▄▁▄▄▆▅▃▅▅▃▅▆▄▄▆▆▄▅▅</td></tr><tr><td>pile_train_loss</td><td>▅▄▅█▄▆▆▂▄▃▃▄▄▄▆▄▃▄▃▅▄▂▄▂▃▅▃▅▁▅▂▁▃▂▅▂▅▃▃▃</td></tr></table><br/></div><div class=\"wandb-col\"><h3>Run summary:</h3><br/><table class=\"wandb\"><tr><td>MMLU</td><td>0.73</td></tr><tr><td>facts_injection_train_loss</td><td>0.00261</td></tr><tr><td>forget_fact_test_accuracy</td><td>0.00011</td></tr><tr><td>forget_fact_test_loss</td><td>11.37911</td></tr><tr><td>inject_fact_test_accuracy</td><td>0.99736</td></tr><tr><td>inject_fact_test_loss</td><td>0.00265</td></tr><tr><td>maintain_fact_test_accuracy</td><td>0.94929</td></tr><tr><td>maintain_fact_test_loss</td><td>0.06641</td></tr><tr><td>maintain_facts_train_loss</td><td>0.0393</td></tr><tr><td>pile_test_accuracy</td><td>0.53432</td></tr><tr><td>pile_test_loss</td><td>2.33349</td></tr><tr><td>pile_train_loss</td><td>2.27955</td></tr></table><br/></div></div>"
      ],
      "text/plain": [
       "<IPython.core.display.HTML object>"
      ]
     },
     "metadata": {},
     "output_type": "display_data"
    },
    {
     "data": {
      "text/html": [
       " View run <strong style=\"color:#cdcd00\">finetuning_counterfact_manual_interp_forget_facts=16_inject_fact=True</strong> at: <a href='https://wandb.ai/quirky_lats_at_mats/circuit_breaking/runs/w0h8rtu4' target=\"_blank\">https://wandb.ai/quirky_lats_at_mats/circuit_breaking/runs/w0h8rtu4</a><br/> View project at: <a href='https://wandb.ai/quirky_lats_at_mats/circuit_breaking' target=\"_blank\">https://wandb.ai/quirky_lats_at_mats/circuit_breaking</a><br/>Synced 6 W&B file(s), 0 media file(s), 0 artifact file(s) and 0 other file(s)"
      ],
      "text/plain": [
       "<IPython.core.display.HTML object>"
      ]
     },
     "metadata": {},
     "output_type": "display_data"
    },
    {
     "data": {
      "text/html": [
       "Find logs at: <code>./wandb/run-20240920_084228-w0h8rtu4/logs</code>"
      ],
      "text/plain": [
       "<IPython.core.display.HTML object>"
      ]
     },
     "metadata": {},
     "output_type": "display_data"
    },
    {
     "data": {
      "text/html": [
       "wandb version 0.18.1 is available!  To upgrade, please run:\n",
       " $ pip install wandb --upgrade"
      ],
      "text/plain": [
       "<IPython.core.display.HTML object>"
      ]
     },
     "metadata": {},
     "output_type": "display_data"
    },
    {
     "data": {
      "text/html": [
       "Tracking run with wandb version 0.16.6"
      ],
      "text/plain": [
       "<IPython.core.display.HTML object>"
      ]
     },
     "metadata": {},
     "output_type": "display_data"
    },
    {
     "data": {
      "text/html": [
       "Run data is saved locally in <code>/data/phillip_guo/mechanistic-unlearning/wandb/run-20240920_085907-bod4njgo</code>"
      ],
      "text/plain": [
       "<IPython.core.display.HTML object>"
      ]
     },
     "metadata": {},
     "output_type": "display_data"
    },
    {
     "data": {
      "text/html": [
       "Syncing run <strong><a href='https://wandb.ai/quirky_lats_at_mats/circuit_breaking/runs/bod4njgo' target=\"_blank\">finetuning_counterfact_random_forget_facts=16_inject_fact=True</a></strong> to <a href='https://wandb.ai/quirky_lats_at_mats/circuit_breaking' target=\"_blank\">Weights & Biases</a> (<a href='https://wandb.me/run' target=\"_blank\">docs</a>)<br/>"
      ],
      "text/plain": [
       "<IPython.core.display.HTML object>"
      ]
     },
     "metadata": {},
     "output_type": "display_data"
    },
    {
     "data": {
      "text/html": [
       " View project at <a href='https://wandb.ai/quirky_lats_at_mats/circuit_breaking' target=\"_blank\">https://wandb.ai/quirky_lats_at_mats/circuit_breaking</a>"
      ],
      "text/plain": [
       "<IPython.core.display.HTML object>"
      ]
     },
     "metadata": {},
     "output_type": "display_data"
    },
    {
     "data": {
      "text/html": [
       " View run at <a href='https://wandb.ai/quirky_lats_at_mats/circuit_breaking/runs/bod4njgo' target=\"_blank\">https://wandb.ai/quirky_lats_at_mats/circuit_breaking/runs/bod4njgo</a>"
      ],
      "text/plain": [
       "<IPython.core.display.HTML object>"
      ]
     },
     "metadata": {},
     "output_type": "display_data"
    },
    {
     "name": "stderr",
     "output_type": "stream",
     "text": [
      "Loading checkpoint shards: 100%|██████████| 8/8 [00:10<00:00,  1.33s/it]\n"
     ]
    },
    {
     "name": "stdout",
     "output_type": "stream",
     "text": [
      "Memory at start for random: 21.44084596633911\n"
     ]
    },
    {
     "name": "stderr",
     "output_type": "stream",
     "text": [
      "  0%|          | 0/50 [00:00<?, ?it/s]"
     ]
    },
    {
     "name": "stdout",
     "output_type": "stream",
     "text": [
      "Running adversarial evals\n",
      "Forget dataset with  16  examples\n",
      "Maintain dataset with  2153  examples\n",
      "Forget dataset with  16  examples\n",
      "Maintain dataset with  2153  examples\n",
      "Forget dataset with  16  examples\n",
      "Maintain dataset with  2153  examples\n",
      "Forget dataset with  16  examples\n",
      "Maintain dataset with  2153  examples\n",
      "Running side effects evals\n"
     ]
    },
    {
     "name": "stderr",
     "output_type": "stream",
     "text": [
      "Asking to truncate to max_length but no maximum length is provided and the model has no predefined maximum length. Default to no truncation.\n",
      " 20%|██        | 10/50 [03:11<10:25, 15.63s/it]"
     ]
    },
    {
     "name": "stdout",
     "output_type": "stream",
     "text": [
      "Running adversarial evals\n",
      "Forget dataset with  16  examples\n",
      "Maintain dataset with  2153  examples\n",
      "Forget dataset with  16  examples\n",
      "Maintain dataset with  2153  examples\n",
      "Forget dataset with  16  examples\n",
      "Maintain dataset with  2153  examples\n",
      "Forget dataset with  16  examples\n",
      "Maintain dataset with  2153  examples\n",
      "Running side effects evals\n"
     ]
    },
    {
     "name": "stderr",
     "output_type": "stream",
     "text": [
      "Asking to truncate to max_length but no maximum length is provided and the model has no predefined maximum length. Default to no truncation.\n",
      " 40%|████      | 20/50 [06:13<07:57, 15.90s/it]"
     ]
    },
    {
     "name": "stdout",
     "output_type": "stream",
     "text": [
      "Running adversarial evals\n",
      "Forget dataset with  16  examples\n",
      "Maintain dataset with  2153  examples\n",
      "Forget dataset with  16  examples\n",
      "Maintain dataset with  2153  examples\n",
      "Forget dataset with  16  examples\n",
      "Maintain dataset with  2153  examples\n",
      "Forget dataset with  16  examples\n",
      "Maintain dataset with  2153  examples\n",
      "Running side effects evals\n"
     ]
    },
    {
     "name": "stderr",
     "output_type": "stream",
     "text": [
      "Asking to truncate to max_length but no maximum length is provided and the model has no predefined maximum length. Default to no truncation.\n",
      " 60%|██████    | 30/50 [09:19<05:14, 15.73s/it]"
     ]
    },
    {
     "name": "stdout",
     "output_type": "stream",
     "text": [
      "Running adversarial evals\n",
      "Forget dataset with  16  examples\n",
      "Maintain dataset with  2153  examples\n",
      "Forget dataset with  16  examples\n",
      "Maintain dataset with  2153  examples\n",
      "Forget dataset with  16  examples\n",
      "Maintain dataset with  2153  examples\n",
      "Forget dataset with  16  examples\n",
      "Maintain dataset with  2153  examples\n",
      "Running side effects evals\n"
     ]
    },
    {
     "name": "stderr",
     "output_type": "stream",
     "text": [
      "Asking to truncate to max_length but no maximum length is provided and the model has no predefined maximum length. Default to no truncation.\n",
      " 80%|████████  | 40/50 [12:29<02:41, 16.18s/it]"
     ]
    },
    {
     "name": "stdout",
     "output_type": "stream",
     "text": [
      "Running adversarial evals\n",
      "Forget dataset with  16  examples\n",
      "Maintain dataset with  2153  examples\n",
      "Forget dataset with  16  examples\n",
      "Maintain dataset with  2153  examples\n",
      "Forget dataset with  16  examples\n",
      "Maintain dataset with  2153  examples\n",
      "Forget dataset with  16  examples\n",
      "Maintain dataset with  2153  examples\n",
      "Running side effects evals\n"
     ]
    },
    {
     "name": "stderr",
     "output_type": "stream",
     "text": [
      "Asking to truncate to max_length but no maximum length is provided and the model has no predefined maximum length. Default to no truncation.\n",
      " 98%|█████████▊| 49/50 [15:26<00:16, 16.47s/it]"
     ]
    },
    {
     "name": "stdout",
     "output_type": "stream",
     "text": [
      "Running adversarial evals\n",
      "Forget dataset with  16  examples\n",
      "Maintain dataset with  2153  examples\n",
      "Forget dataset with  16  examples\n",
      "Maintain dataset with  2153  examples\n",
      "Forget dataset with  16  examples\n",
      "Maintain dataset with  2153  examples\n",
      "Forget dataset with  16  examples\n",
      "Maintain dataset with  2153  examples\n",
      "Running side effects evals\n"
     ]
    },
    {
     "name": "stderr",
     "output_type": "stream",
     "text": [
      "Asking to truncate to max_length but no maximum length is provided and the model has no predefined maximum length. Default to no truncation.\n",
      "100%|██████████| 50/50 [16:15<00:00, 19.50s/it]\n"
     ]
    },
    {
     "name": "stdout",
     "output_type": "stream",
     "text": [
      "5\n"
     ]
    },
    {
     "data": {
      "text/html": [
       "<style>\n",
       "    table.wandb td:nth-child(1) { padding: 0 10px; text-align: left ; width: auto;} td:nth-child(2) {text-align: left ; width: 100%}\n",
       "    .wandb-row { display: flex; flex-direction: row; flex-wrap: wrap; justify-content: flex-start; width: 100% }\n",
       "    .wandb-col { display: flex; flex-direction: column; flex-basis: 100%; flex: 1; padding: 10px; }\n",
       "    </style>\n",
       "<div class=\"wandb-row\"><div class=\"wandb-col\"><h3>Run history:</h3><br/><table class=\"wandb\"><tr><td>MMLU</td><td>▁▅▅▁██</td></tr><tr><td>facts_injection_train_loss</td><td>█▄▂▂▁▁▁▁▁▁▁▁▁▁▁▁▁▁▁▁▁▁▁▁▁▁▁▁▁▁▁▁▁▁▁▁▁▁▁▁</td></tr><tr><td>forget_fact_test_accuracy</td><td>█▅▄▄▂▁▁▁▁▁▁▁▁▁▁▁▁▁▁▁▁▁▁▁▁▁▁▁▁▁▁▁▁▁▁▁▁▁▁▁</td></tr><tr><td>forget_fact_test_loss</td><td>▁▁▂▂▄▅▆▆▇▇▇▇████████████████████████████</td></tr><tr><td>inject_fact_test_accuracy</td><td>▁▃▄▆████████████████████████████████████</td></tr><tr><td>inject_fact_test_loss</td><td>█▄▃▂▁▁▁▁▁▁▁▁▁▁▁▁▁▁▁▁▁▁▁▁▁▁▁▁▁▁▁▁▁▁▁▁▁▁▁▁</td></tr><tr><td>maintain_fact_test_accuracy</td><td>▂▁▂▄▆▇▇▇█▇██▇██▇█▇▇██▇████▇█████████████</td></tr><tr><td>maintain_fact_test_loss</td><td>▇█▆▅▃▂▃▂▁▂▂▂▁▂▂▁▁▂▁▂▂▁▁▁▂▁▁▁▁▂▂▁▂▁▂▁▁▂▁▂</td></tr><tr><td>maintain_facts_train_loss</td><td>▆▇█▇▃▄▂▂▁▁▁▁▁▁▁▂▁▁▂▂▁▂▂▁▁▁▂▁▁▁▂▁▁▁▁▁▁▁▁▁</td></tr><tr><td>pile_test_accuracy</td><td>▃▄▂▄▅▂▅▅▄▁▅▂▆▆▄▅▇▄█▆▃▆▅▅▅▇▅▅▇▆▆▇▅▅▆▅▅▃▆▇</td></tr><tr><td>pile_test_loss</td><td>▆█▄▅▅▅▄▄▅▄▃▅▄▃▃▄▃▄▃▃▂▂▃▁▅▃▄▃▅▃▅▃▃▃▄▃▃▁▄▃</td></tr><tr><td>pile_train_loss</td><td>█▄▇▇▆▄▆▇▇▅▆▇▂▅▄▄▃▅▅▃▅▇▅▅▄▂▅▅▃▆▆▁▄▅▅▆▅▄▆▄</td></tr></table><br/></div><div class=\"wandb-col\"><h3>Run summary:</h3><br/><table class=\"wandb\"><tr><td>MMLU</td><td>0.75</td></tr><tr><td>facts_injection_train_loss</td><td>0.00037</td></tr><tr><td>forget_fact_test_accuracy</td><td>0.00013</td></tr><tr><td>forget_fact_test_loss</td><td>12.20985</td></tr><tr><td>inject_fact_test_accuracy</td><td>0.99962</td></tr><tr><td>inject_fact_test_loss</td><td>0.00038</td></tr><tr><td>maintain_fact_test_accuracy</td><td>0.96709</td></tr><tr><td>maintain_fact_test_loss</td><td>0.09043</td></tr><tr><td>maintain_facts_train_loss</td><td>0.00401</td></tr><tr><td>pile_test_accuracy</td><td>0.55075</td></tr><tr><td>pile_test_loss</td><td>2.22755</td></tr><tr><td>pile_train_loss</td><td>2.2848</td></tr></table><br/></div></div>"
      ],
      "text/plain": [
       "<IPython.core.display.HTML object>"
      ]
     },
     "metadata": {},
     "output_type": "display_data"
    },
    {
     "data": {
      "text/html": [
       " View run <strong style=\"color:#cdcd00\">finetuning_counterfact_random_forget_facts=16_inject_fact=True</strong> at: <a href='https://wandb.ai/quirky_lats_at_mats/circuit_breaking/runs/bod4njgo' target=\"_blank\">https://wandb.ai/quirky_lats_at_mats/circuit_breaking/runs/bod4njgo</a><br/> View project at: <a href='https://wandb.ai/quirky_lats_at_mats/circuit_breaking' target=\"_blank\">https://wandb.ai/quirky_lats_at_mats/circuit_breaking</a><br/>Synced 6 W&B file(s), 0 media file(s), 0 artifact file(s) and 0 other file(s)"
      ],
      "text/plain": [
       "<IPython.core.display.HTML object>"
      ]
     },
     "metadata": {},
     "output_type": "display_data"
    },
    {
     "data": {
      "text/html": [
       "Find logs at: <code>./wandb/run-20240920_085907-bod4njgo/logs</code>"
      ],
      "text/plain": [
       "<IPython.core.display.HTML object>"
      ]
     },
     "metadata": {},
     "output_type": "display_data"
    }
   ],
   "source": [
    "from collections import defaultdict\n",
    "# from tasks.facts.SportsTaskAdversarial import adversarial_facts_eval_redo\n",
    "from tasks.facts.CounterFactTask import adversarial_counterfact_eval\n",
    "\n",
    "# combine_heads = True\n",
    "top_p = 5\n",
    "# learning_rate = 1e-2\n",
    "# n_epochs = 100\n",
    "# grad_accum_steps = 16\n",
    "learning_rate = 1e-5\n",
    "n_epochs = 50\n",
    "grad_accum_steps = 64 // train_batch_size\n",
    "# max_gpu_batch_size=8\n",
    "beta = 3\n",
    "clip_grad = 1\n",
    "\n",
    "evaluate_every = 1\n",
    "n_eval_iters = 5\n",
    "deep_evaluate_every = 10\n",
    "do_adversarial_evals = True\n",
    "do_side_effects_evals = True\n",
    "\n",
    "use_wandb = True\n",
    "save_model = True\n",
    "\n",
    "import wandb\n",
    "trained_models = {}\n",
    "\n",
    "for localization_type in localization_types:\n",
    "# for localization_type in [\"nonlocalized\"]:\n",
    "    if use_wandb:\n",
    "        wandb.init(project=\"circuit_breaking\", name=f\"finetuning_counterfact_{localization_type}_{forget_facts=}_{inject_fact=}\")\n",
    "        wandb.config.update({\"model_type\": model_type, \"localization_type\": localization_type, \"combine_heads\": combine_heads, \"forget_facts\": forget_facts, \"lr\": learning_rate, \"n_epochs\": n_epochs, \"grad_accum_steps\": grad_accum_steps, \"forget_loss_coef\": forget_loss_coef, \"clip_grad\": clip_grad, \"manual_param_count\": manual_param_count})\n",
    "\n",
    "    model = model_init_funcs[localization_type]()\n",
    "    model.cuda()\n",
    "    print(f\"Memory at start for {localization_type}: {torch.cuda.memory_allocated() / 1024**3}\")\n",
    "\n",
    "    all_train_losses = defaultdict(list)\n",
    "    all_test_losses = defaultdict(list)\n",
    "    adversarial_evals = []\n",
    "    side_effect_evals = []\n",
    "\n",
    "    # Initialize optimizer\n",
    "\n",
    "    optimizer = torch.optim.AdamW(model.parameters(), lr=learning_rate, weight_decay=0)\n",
    "    scheduler = torch.optim.lr_scheduler.CosineAnnealingLR(optimizer=optimizer, T_max=n_epochs)\n",
    "    # Cycle dataloaders\n",
    "    # Train a sparse mask\n",
    "    # print(f\"Memory afterloading {localization_type} model: {torch.cuda.memory_allocated() / 1024**3}\")\n",
    "\n",
    "\n",
    "    pbar = tqdm(range(n_epochs))\n",
    "    for epoch in pbar:\n",
    "        # Sample batches\n",
    "        # Reset grad\n",
    "        optimizer.zero_grad()\n",
    "        # Compute normal loss over retain\n",
    "        for task_name, (task, task_weight) in train_tasks.items():\n",
    "            task_loss = 0\n",
    "            for i in range(grad_accum_steps):\n",
    "                # print(task_name, \"mem in step: \", torch.cuda.memory_allocated() // 1024**3)\n",
    "                loss = task.get_train_loss(model) / grad_accum_steps\n",
    "                task_loss += loss.item()\n",
    "                loss *= task_weight\n",
    "                loss.backward()\n",
    "            all_train_losses[task_name].append(task_loss)\n",
    "            if use_wandb:\n",
    "                wandb.log({f\"{task_name}_train_loss\": task_loss}, step=epoch)\n",
    "            \n",
    "        # print(f\"Before backpropgating loss on epoch {epoch}: {torch.cuda.memory_allocated() / 1024**3}, max mem: {torch.cuda.max_memory_allocated() / 1024**3}\")\n",
    "        # Step and log\n",
    "        if clip_grad is not None:\n",
    "            torch.nn.utils.clip_grad_norm_(model.parameters(), clip_grad)\n",
    "        # print(\"Loss after clip grad norm: \", torch.cuda.memory_allocated() // 1024**3)\n",
    "        # zero_nan_grads(mask)\n",
    "        optimizer.step()\n",
    "        scheduler.step()\n",
    "        model.zero_grad()\n",
    "        torch.cuda.empty_cache()\n",
    "        # print(\"Loss after backprop: \", torch.cuda.memory_allocated() // 1024**3)\n",
    "\n",
    "        # print(f\"After backpropgating loss on epoch {epoch}: {torch.cuda.memory_allocated() / 1024**3}, max mem: {torch.cuda.max_memory_allocated() / 1024**3}\")\n",
    "\n",
    "\n",
    "        if epoch % evaluate_every == 0 or epoch == n_epochs - 1:\n",
    "            for task_name, task in eval_tasks.items():\n",
    "                task_loss = 0\n",
    "                task_accuracy = 0\n",
    "                for i in range(n_eval_iters):\n",
    "                    task_loss += task.get_test_loss(model).item()\n",
    "                    task_accuracy += task.get_test_accuracy(model)\n",
    "                all_test_losses[task_name].append(task_loss / n_eval_iters)\n",
    "                all_test_losses[f\"{task_name}_accuracy\"].append(task_accuracy / n_eval_iters)\n",
    "                if use_wandb:\n",
    "                    wandb.log({f\"{task_name}_test_loss\": task_loss / n_eval_iters}, step=epoch)\n",
    "                    wandb.log({f\"{task_name}_test_accuracy\": task_accuracy / n_eval_iters}, step=epoch)\n",
    "\n",
    "        # print(f\"After evaluating test loss on epoch {epoch}: {torch.cuda.memory_allocated() / 1024**3}, max mem: {torch.cuda.max_memory_allocated() / 1024**3}\")\n",
    "\n",
    "\n",
    "        if (deep_evaluate_every is not None and epoch % deep_evaluate_every == 0) or epoch == n_epochs - 1:\n",
    "            if do_adversarial_evals:\n",
    "                print(\"Running adversarial evals\")\n",
    "                adv_evals = adversarial_counterfact_eval(model, model_type=model_type, batch_size=eval_batch_size, \n",
    "                    forget_task_init_kwargs=forget_kwargs, \n",
    "                    maintain_task_init_kwargs=maintain_kwargs, \n",
    "                    continuous=True, include_evals=[\"Normal\", \"MC\", \"Paraphrase\", \"Neighborhood\"], n_mc_shots=1)\n",
    "                adversarial_evals.append(adv_evals)\n",
    "                if use_wandb:\n",
    "                    for eval_type in adv_evals:\n",
    "                        wandb.log({f\"adversarial_{eval_type}\": adv_evals[eval_type] for eval_type in adv_evals}, step=epoch)\n",
    "            if do_side_effects_evals:\n",
    "                print(\"Running side effects evals\")\n",
    "                side_effect_evals.append(run_side_effects_evals(model, model_type=model_type, batch_size=eval_batch_size, evals_to_run=[\"General\"], general_batch_size=2))\n",
    "                if use_wandb:\n",
    "                    wandb.log(side_effect_evals[-1][\"General\"], step=epoch)\n",
    "            # print(f\"After evaluating side effects evals on epoch {epoch}: {torch.cuda.memory_allocated() / 1024**3}, max mem: {torch.cuda.max_memory_allocated() / 1024**3}\")\n",
    "        # print(\"After evaluating evals: \", torch.cuda.memory_allocated() // 1024**3)\n",
    "    # print(\"Before sending model to cpu: \", torch.cuda.memory_allocated() // 1024**3)\n",
    "    if save_model:\n",
    "        os.makedirs(f\"{save_dir}/models\", exist_ok=True)\n",
    "        model.save_pretrained(f\"{save_dir}/models/{model_type}_{localization_type}_{combine_heads=}_unlearn_{forget_facts=}_{inject_fact=}\")\n",
    "        # torch.save(model.state_dict(), f\"{save_dir}/models/{model_type}_{localization_type}_{combine_heads=}_unlearn_{forget_facts=}_{inject_fact=}.pt\")\n",
    "\n",
    "        with open(f\"{save_dir}/models/{model_type}_{localization_type}_{combine_heads=}_unlearn_{forget_facts=}_{inject_fact=}_metrics.pkl\", \"wb\") as f:\n",
    "            pickle.dump({\"train_losses\": all_train_losses, \"test_losses\": all_test_losses, \"adversarial_evals\": adversarial_evals, \"side_effect_evals\": side_effect_evals}, f)\n",
    "    else:\n",
    "        print(f\"Not saving model for {localization_type}\")\n",
    "    model.cpu()\n",
    "    torch.cuda.empty_cache()\n",
    "    print(torch.cuda.memory_allocated() // 1024**3)\n",
    "    # del model\n",
    "    if use_wandb:\n",
    "        wandb.finish()\n",
    "    trained_models[localization_type] = model\n",
    "del optimizer\n",
    "del scheduler"
   ]
  },
  {
   "cell_type": "markdown",
   "metadata": {},
   "source": [
    "## Relearning Evals"
   ]
  },
  {
   "cell_type": "code",
   "execution_count": null,
   "metadata": {},
   "outputs": [],
   "source": [
    "from peft import get_peft_model, LoraConfig, TaskType\n",
    "def do_relearning(model, train_tasks, n_iters, finetune_lora=False, lora_kwargs={'rank': 64, 'alpha': 32, 'dropout': 0.05, 'target_modules': 'all-linear'}, learning_kwargs={'lr': 1e-2, 'weight_decay': 0, 'use_cosine': False}, eval_callback_fn=None):\n",
    "    # can either finetune full or lora\n",
    "\n",
    "    if not finetune_lora:\n",
    "        optimizer = torch.optim.AdamW(model.parameters(), lr=learning_kwargs['lr'], weight_decay=learning_kwargs['weight_decay'])\n",
    "\n",
    "    elif finetune_lora:\n",
    "        peft_config = LoraConfig(\n",
    "            task_type=TaskType.CAUSAL_LM,\n",
    "            inference_mode=False,\n",
    "            r=lora_kwargs['rank'],\n",
    "            lora_alpha=lora_kwargs['alpha'],\n",
    "            lora_dropout=lora_kwargs['dropout'],\n",
    "            target_modules = lora_kwargs['target_modules'], #[\"q_proj\", \"v_proj\", \n",
    "        )\n",
    "\n",
    "        model = get_peft_model(model, peft_config).cuda()\n",
    "        # model.print_trainable_parameters()\n",
    "\n",
    "        optimizer = torch.optim.AdamW(model.parameters(), lr=learning_kwargs['lr'], weight_decay=learning_kwargs['weight_decay'])\n",
    "    \n",
    "    if learning_kwargs['use_cosine']:\n",
    "        scheduler = torch.optim.lr_scheduler.CosineAnnealingLR(optimizer=optimizer, T_max=n_iters)\n",
    "\n",
    "    train_losses = defaultdict(list)\n",
    "    test_losses = []\n",
    "\n",
    "    for i in tqdm(range(n_iters)):\n",
    "        optimizer.zero_grad()\n",
    "        for task_name, (task, task_weight) in train_tasks.items():\n",
    "            loss = task.get_train_loss(model)\n",
    "            train_losses[task_name].append(loss.item())\n",
    "            # print(loss.item())\n",
    "            (loss * task_weight).backward()\n",
    "        \n",
    "        optimizer.step()\n",
    "        if learning_kwargs['use_cosine']:\n",
    "            scheduler.step()\n",
    "\n",
    "        if eval_callback_fn is not None:\n",
    "            test_losses.append(eval_callback_fn(model))\n",
    "\n",
    "    if len(test_losses) > 0:\n",
    "        return train_losses, test_losses\n",
    "    return train_losses"
   ]
  },
  {
   "cell_type": "code",
   "execution_count": null,
   "metadata": {},
   "outputs": [
    {
     "data": {
      "text/html": [
       "<div>\n",
       "<style scoped>\n",
       "    .dataframe tbody tr th:only-of-type {\n",
       "        vertical-align: middle;\n",
       "    }\n",
       "\n",
       "    .dataframe tbody tr th {\n",
       "        vertical-align: top;\n",
       "    }\n",
       "\n",
       "    .dataframe thead th {\n",
       "        text-align: right;\n",
       "    }\n",
       "</style>\n",
       "<table border=\"1\" class=\"dataframe\">\n",
       "  <thead>\n",
       "    <tr style=\"text-align: right;\">\n",
       "      <th></th>\n",
       "      <th>Unnamed: 0</th>\n",
       "      <th>athlete</th>\n",
       "      <th>sport</th>\n",
       "      <th>log_prob_one_shot</th>\n",
       "      <th>num_athlete_tokens</th>\n",
       "      <th>sport_index</th>\n",
       "      <th>sport_token</th>\n",
       "      <th>prompt</th>\n",
       "    </tr>\n",
       "  </thead>\n",
       "  <tbody>\n",
       "    <tr>\n",
       "      <th>0</th>\n",
       "      <td>1642</td>\n",
       "      <td>DeForest Buckner</td>\n",
       "      <td>football</td>\n",
       "      <td>-0.492917</td>\n",
       "      <td>5</td>\n",
       "      <td>2</td>\n",
       "      <td>5842</td>\n",
       "      <td>Fact: Tiger Woods plays the sport of golf\\nFac...</td>\n",
       "    </tr>\n",
       "    <tr>\n",
       "      <th>1</th>\n",
       "      <td>738</td>\n",
       "      <td>Walter Payton</td>\n",
       "      <td>football</td>\n",
       "      <td>-0.105714</td>\n",
       "      <td>3</td>\n",
       "      <td>2</td>\n",
       "      <td>5842</td>\n",
       "      <td>Fact: Tiger Woods plays the sport of golf\\nFac...</td>\n",
       "    </tr>\n",
       "  </tbody>\n",
       "</table>\n",
       "</div>"
      ],
      "text/plain": [
       "   Unnamed: 0           athlete     sport  log_prob_one_shot  \\\n",
       "0        1642  DeForest Buckner  football          -0.492917   \n",
       "1         738     Walter Payton  football          -0.105714   \n",
       "\n",
       "   num_athlete_tokens  sport_index  sport_token  \\\n",
       "0                   5            2         5842   \n",
       "1                   3            2         5842   \n",
       "\n",
       "                                              prompt  \n",
       "0  Fact: Tiger Woods plays the sport of golf\\nFac...  \n",
       "1  Fact: Tiger Woods plays the sport of golf\\nFac...  "
      ]
     },
     "execution_count": 9,
     "metadata": {},
     "output_type": "execute_result"
    }
   ],
   "source": [
    "n_eval_iters = 10\n",
    "n_relearn_iters = 10\n",
    "n_relearn_athletes = 2\n",
    "\n",
    "full_relearn_fact = CounterFactTask(batch_size=train_batch_size, tokenizer=tokenizer, **forget_kwargs)\n",
    "partial_relearn_fact = CounterFactTask(batch_size=n_relearn_athletes, tokenizer=tokenizer, is_forget_dataset=True, train_test_split=False, forget_fact_subset=4)"
   ]
  },
  {
   "cell_type": "code",
   "execution_count": null,
   "metadata": {},
   "outputs": [
    {
     "data": {
      "application/vnd.jupyter.widget-view+json": {
       "model_id": "23358283f370453b968606dca1a68619",
       "version_major": 2,
       "version_minor": 0
      },
      "text/plain": [
       "Resolving data files:   0%|          | 0/30 [00:00<?, ?it/s]"
      ]
     },
     "metadata": {},
     "output_type": "display_data"
    },
    {
     "data": {
      "application/vnd.jupyter.widget-view+json": {
       "model_id": "5103f6402d0e446984b90e4fb6f421ab",
       "version_major": 2,
       "version_minor": 0
      },
      "text/plain": [
       "Resolving data files:   0%|          | 0/30 [00:00<?, ?it/s]"
      ]
     },
     "metadata": {},
     "output_type": "display_data"
    },
    {
     "name": "stdout",
     "output_type": "stream",
     "text": [
      "No test dataset available. Using train dataset for testing.\n",
      "Running relearning for localized_ap\n"
     ]
    },
    {
     "name": "stderr",
     "output_type": "stream",
     "text": [
      "/data/phillip_guo/miniconda3/envs/unlrn/lib/python3.10/site-packages/huggingface_hub/file_download.py:1132: FutureWarning: `resume_download` is deprecated and will be removed in version 1.0.0. Downloads always resume when possible. If you want to force a new download, use `force_download=True`.\n",
      "  warnings.warn(\n"
     ]
    },
    {
     "data": {
      "application/vnd.jupyter.widget-view+json": {
       "model_id": "63804b83f31043c8b54c806f9ec6681c",
       "version_major": 2,
       "version_minor": 0
      },
      "text/plain": [
       "Loading checkpoint shards:   0%|          | 0/4 [00:00<?, ?it/s]"
      ]
     },
     "metadata": {},
     "output_type": "display_data"
    },
    {
     "data": {
      "application/vnd.jupyter.widget-view+json": {
       "model_id": "3f6275b345884b8891d369d7bf7286ee",
       "version_major": 2,
       "version_minor": 0
      },
      "text/plain": [
       "  0%|          | 0/10 [00:00<?, ?it/s]"
      ]
     },
     "metadata": {},
     "output_type": "display_data"
    },
    {
     "name": "stderr",
     "output_type": "stream",
     "text": [
      "Asking to truncate to max_length but no maximum length is provided and the model has no predefined maximum length. Default to no truncation.\n",
      "/data/phillip_guo/miniconda3/envs/unlrn/lib/python3.10/site-packages/huggingface_hub/file_download.py:1132: FutureWarning: `resume_download` is deprecated and will be removed in version 1.0.0. Downloads always resume when possible. If you want to force a new download, use `force_download=True`.\n",
      "  warnings.warn(\n",
      "Asking to truncate to max_length but no maximum length is provided and the model has no predefined maximum length. Default to no truncation.\n",
      "/data/phillip_guo/miniconda3/envs/unlrn/lib/python3.10/site-packages/huggingface_hub/file_download.py:1132: FutureWarning: `resume_download` is deprecated and will be removed in version 1.0.0. Downloads always resume when possible. If you want to force a new download, use `force_download=True`.\n",
      "  warnings.warn(\n",
      "Asking to truncate to max_length but no maximum length is provided and the model has no predefined maximum length. Default to no truncation.\n",
      "/data/phillip_guo/miniconda3/envs/unlrn/lib/python3.10/site-packages/huggingface_hub/file_download.py:1132: FutureWarning: `resume_download` is deprecated and will be removed in version 1.0.0. Downloads always resume when possible. If you want to force a new download, use `force_download=True`.\n",
      "  warnings.warn(\n",
      "Asking to truncate to max_length but no maximum length is provided and the model has no predefined maximum length. Default to no truncation.\n",
      "/data/phillip_guo/miniconda3/envs/unlrn/lib/python3.10/site-packages/huggingface_hub/file_download.py:1132: FutureWarning: `resume_download` is deprecated and will be removed in version 1.0.0. Downloads always resume when possible. If you want to force a new download, use `force_download=True`.\n",
      "  warnings.warn(\n",
      "Asking to truncate to max_length but no maximum length is provided and the model has no predefined maximum length. Default to no truncation.\n",
      "/data/phillip_guo/miniconda3/envs/unlrn/lib/python3.10/site-packages/huggingface_hub/file_download.py:1132: FutureWarning: `resume_download` is deprecated and will be removed in version 1.0.0. Downloads always resume when possible. If you want to force a new download, use `force_download=True`.\n",
      "  warnings.warn(\n",
      "Asking to truncate to max_length but no maximum length is provided and the model has no predefined maximum length. Default to no truncation.\n",
      "/data/phillip_guo/miniconda3/envs/unlrn/lib/python3.10/site-packages/huggingface_hub/file_download.py:1132: FutureWarning: `resume_download` is deprecated and will be removed in version 1.0.0. Downloads always resume when possible. If you want to force a new download, use `force_download=True`.\n",
      "  warnings.warn(\n",
      "Asking to truncate to max_length but no maximum length is provided and the model has no predefined maximum length. Default to no truncation.\n",
      "/data/phillip_guo/miniconda3/envs/unlrn/lib/python3.10/site-packages/huggingface_hub/file_download.py:1132: FutureWarning: `resume_download` is deprecated and will be removed in version 1.0.0. Downloads always resume when possible. If you want to force a new download, use `force_download=True`.\n",
      "  warnings.warn(\n",
      "Asking to truncate to max_length but no maximum length is provided and the model has no predefined maximum length. Default to no truncation.\n",
      "/data/phillip_guo/miniconda3/envs/unlrn/lib/python3.10/site-packages/huggingface_hub/file_download.py:1132: FutureWarning: `resume_download` is deprecated and will be removed in version 1.0.0. Downloads always resume when possible. If you want to force a new download, use `force_download=True`.\n",
      "  warnings.warn(\n",
      "Asking to truncate to max_length but no maximum length is provided and the model has no predefined maximum length. Default to no truncation.\n",
      "/data/phillip_guo/miniconda3/envs/unlrn/lib/python3.10/site-packages/huggingface_hub/file_download.py:1132: FutureWarning: `resume_download` is deprecated and will be removed in version 1.0.0. Downloads always resume when possible. If you want to force a new download, use `force_download=True`.\n",
      "  warnings.warn(\n",
      "Asking to truncate to max_length but no maximum length is provided and the model has no predefined maximum length. Default to no truncation.\n",
      "/data/phillip_guo/miniconda3/envs/unlrn/lib/python3.10/site-packages/huggingface_hub/file_download.py:1132: FutureWarning: `resume_download` is deprecated and will be removed in version 1.0.0. Downloads always resume when possible. If you want to force a new download, use `force_download=True`.\n",
      "  warnings.warn(\n",
      "/data/phillip_guo/miniconda3/envs/unlrn/lib/python3.10/site-packages/huggingface_hub/file_download.py:1132: FutureWarning: `resume_download` is deprecated and will be removed in version 1.0.0. Downloads always resume when possible. If you want to force a new download, use `force_download=True`.\n",
      "  warnings.warn(\n",
      "Asking to truncate to max_length but no maximum length is provided and the model has no predefined maximum length. Default to no truncation.\n"
     ]
    },
    {
     "name": "stdout",
     "output_type": "stream",
     "text": [
      "Running relearning for localized_ct\n"
     ]
    },
    {
     "data": {
      "application/vnd.jupyter.widget-view+json": {
       "model_id": "6fa788b4e9484df89821eebd45eb1512",
       "version_major": 2,
       "version_minor": 0
      },
      "text/plain": [
       "Loading checkpoint shards:   0%|          | 0/4 [00:00<?, ?it/s]"
      ]
     },
     "metadata": {},
     "output_type": "display_data"
    },
    {
     "data": {
      "application/vnd.jupyter.widget-view+json": {
       "model_id": "3a6ade4530994cc2861c3d554b19901e",
       "version_major": 2,
       "version_minor": 0
      },
      "text/plain": [
       "  0%|          | 0/10 [00:00<?, ?it/s]"
      ]
     },
     "metadata": {},
     "output_type": "display_data"
    },
    {
     "name": "stderr",
     "output_type": "stream",
     "text": [
      "Asking to truncate to max_length but no maximum length is provided and the model has no predefined maximum length. Default to no truncation.\n",
      "/data/phillip_guo/miniconda3/envs/unlrn/lib/python3.10/site-packages/huggingface_hub/file_download.py:1132: FutureWarning: `resume_download` is deprecated and will be removed in version 1.0.0. Downloads always resume when possible. If you want to force a new download, use `force_download=True`.\n",
      "  warnings.warn(\n",
      "Asking to truncate to max_length but no maximum length is provided and the model has no predefined maximum length. Default to no truncation.\n",
      "/data/phillip_guo/miniconda3/envs/unlrn/lib/python3.10/site-packages/huggingface_hub/file_download.py:1132: FutureWarning: `resume_download` is deprecated and will be removed in version 1.0.0. Downloads always resume when possible. If you want to force a new download, use `force_download=True`.\n",
      "  warnings.warn(\n",
      "Asking to truncate to max_length but no maximum length is provided and the model has no predefined maximum length. Default to no truncation.\n",
      "/data/phillip_guo/miniconda3/envs/unlrn/lib/python3.10/site-packages/huggingface_hub/file_download.py:1132: FutureWarning: `resume_download` is deprecated and will be removed in version 1.0.0. Downloads always resume when possible. If you want to force a new download, use `force_download=True`.\n",
      "  warnings.warn(\n",
      "Asking to truncate to max_length but no maximum length is provided and the model has no predefined maximum length. Default to no truncation.\n",
      "/data/phillip_guo/miniconda3/envs/unlrn/lib/python3.10/site-packages/huggingface_hub/file_download.py:1132: FutureWarning: `resume_download` is deprecated and will be removed in version 1.0.0. Downloads always resume when possible. If you want to force a new download, use `force_download=True`.\n",
      "  warnings.warn(\n",
      "Asking to truncate to max_length but no maximum length is provided and the model has no predefined maximum length. Default to no truncation.\n",
      "/data/phillip_guo/miniconda3/envs/unlrn/lib/python3.10/site-packages/huggingface_hub/file_download.py:1132: FutureWarning: `resume_download` is deprecated and will be removed in version 1.0.0. Downloads always resume when possible. If you want to force a new download, use `force_download=True`.\n",
      "  warnings.warn(\n",
      "Asking to truncate to max_length but no maximum length is provided and the model has no predefined maximum length. Default to no truncation.\n",
      "/data/phillip_guo/miniconda3/envs/unlrn/lib/python3.10/site-packages/huggingface_hub/file_download.py:1132: FutureWarning: `resume_download` is deprecated and will be removed in version 1.0.0. Downloads always resume when possible. If you want to force a new download, use `force_download=True`.\n",
      "  warnings.warn(\n",
      "Asking to truncate to max_length but no maximum length is provided and the model has no predefined maximum length. Default to no truncation.\n",
      "/data/phillip_guo/miniconda3/envs/unlrn/lib/python3.10/site-packages/huggingface_hub/file_download.py:1132: FutureWarning: `resume_download` is deprecated and will be removed in version 1.0.0. Downloads always resume when possible. If you want to force a new download, use `force_download=True`.\n",
      "  warnings.warn(\n",
      "Asking to truncate to max_length but no maximum length is provided and the model has no predefined maximum length. Default to no truncation.\n",
      "/data/phillip_guo/miniconda3/envs/unlrn/lib/python3.10/site-packages/huggingface_hub/file_download.py:1132: FutureWarning: `resume_download` is deprecated and will be removed in version 1.0.0. Downloads always resume when possible. If you want to force a new download, use `force_download=True`.\n",
      "  warnings.warn(\n",
      "Asking to truncate to max_length but no maximum length is provided and the model has no predefined maximum length. Default to no truncation.\n",
      "/data/phillip_guo/miniconda3/envs/unlrn/lib/python3.10/site-packages/huggingface_hub/file_download.py:1132: FutureWarning: `resume_download` is deprecated and will be removed in version 1.0.0. Downloads always resume when possible. If you want to force a new download, use `force_download=True`.\n",
      "  warnings.warn(\n",
      "Asking to truncate to max_length but no maximum length is provided and the model has no predefined maximum length. Default to no truncation.\n",
      "/data/phillip_guo/miniconda3/envs/unlrn/lib/python3.10/site-packages/huggingface_hub/file_download.py:1132: FutureWarning: `resume_download` is deprecated and will be removed in version 1.0.0. Downloads always resume when possible. If you want to force a new download, use `force_download=True`.\n",
      "  warnings.warn(\n",
      "/data/phillip_guo/miniconda3/envs/unlrn/lib/python3.10/site-packages/huggingface_hub/file_download.py:1132: FutureWarning: `resume_download` is deprecated and will be removed in version 1.0.0. Downloads always resume when possible. If you want to force a new download, use `force_download=True`.\n",
      "  warnings.warn(\n",
      "Asking to truncate to max_length but no maximum length is provided and the model has no predefined maximum length. Default to no truncation.\n"
     ]
    },
    {
     "name": "stdout",
     "output_type": "stream",
     "text": [
      "Running relearning for random\n"
     ]
    },
    {
     "data": {
      "application/vnd.jupyter.widget-view+json": {
       "model_id": "e26df11acedf4a7ba79b58d7813d297b",
       "version_major": 2,
       "version_minor": 0
      },
      "text/plain": [
       "Loading checkpoint shards:   0%|          | 0/4 [00:00<?, ?it/s]"
      ]
     },
     "metadata": {},
     "output_type": "display_data"
    },
    {
     "data": {
      "application/vnd.jupyter.widget-view+json": {
       "model_id": "99e84cbb5dbc4bf0840425299db53d1b",
       "version_major": 2,
       "version_minor": 0
      },
      "text/plain": [
       "  0%|          | 0/10 [00:00<?, ?it/s]"
      ]
     },
     "metadata": {},
     "output_type": "display_data"
    },
    {
     "name": "stderr",
     "output_type": "stream",
     "text": [
      "Asking to truncate to max_length but no maximum length is provided and the model has no predefined maximum length. Default to no truncation.\n",
      "/data/phillip_guo/miniconda3/envs/unlrn/lib/python3.10/site-packages/huggingface_hub/file_download.py:1132: FutureWarning: `resume_download` is deprecated and will be removed in version 1.0.0. Downloads always resume when possible. If you want to force a new download, use `force_download=True`.\n",
      "  warnings.warn(\n",
      "Asking to truncate to max_length but no maximum length is provided and the model has no predefined maximum length. Default to no truncation.\n",
      "/data/phillip_guo/miniconda3/envs/unlrn/lib/python3.10/site-packages/huggingface_hub/file_download.py:1132: FutureWarning: `resume_download` is deprecated and will be removed in version 1.0.0. Downloads always resume when possible. If you want to force a new download, use `force_download=True`.\n",
      "  warnings.warn(\n",
      "Asking to truncate to max_length but no maximum length is provided and the model has no predefined maximum length. Default to no truncation.\n",
      "/data/phillip_guo/miniconda3/envs/unlrn/lib/python3.10/site-packages/huggingface_hub/file_download.py:1132: FutureWarning: `resume_download` is deprecated and will be removed in version 1.0.0. Downloads always resume when possible. If you want to force a new download, use `force_download=True`.\n",
      "  warnings.warn(\n",
      "Asking to truncate to max_length but no maximum length is provided and the model has no predefined maximum length. Default to no truncation.\n",
      "/data/phillip_guo/miniconda3/envs/unlrn/lib/python3.10/site-packages/huggingface_hub/file_download.py:1132: FutureWarning: `resume_download` is deprecated and will be removed in version 1.0.0. Downloads always resume when possible. If you want to force a new download, use `force_download=True`.\n",
      "  warnings.warn(\n",
      "Asking to truncate to max_length but no maximum length is provided and the model has no predefined maximum length. Default to no truncation.\n",
      "/data/phillip_guo/miniconda3/envs/unlrn/lib/python3.10/site-packages/huggingface_hub/file_download.py:1132: FutureWarning: `resume_download` is deprecated and will be removed in version 1.0.0. Downloads always resume when possible. If you want to force a new download, use `force_download=True`.\n",
      "  warnings.warn(\n",
      "Asking to truncate to max_length but no maximum length is provided and the model has no predefined maximum length. Default to no truncation.\n",
      "/data/phillip_guo/miniconda3/envs/unlrn/lib/python3.10/site-packages/huggingface_hub/file_download.py:1132: FutureWarning: `resume_download` is deprecated and will be removed in version 1.0.0. Downloads always resume when possible. If you want to force a new download, use `force_download=True`.\n",
      "  warnings.warn(\n",
      "Asking to truncate to max_length but no maximum length is provided and the model has no predefined maximum length. Default to no truncation.\n",
      "/data/phillip_guo/miniconda3/envs/unlrn/lib/python3.10/site-packages/huggingface_hub/file_download.py:1132: FutureWarning: `resume_download` is deprecated and will be removed in version 1.0.0. Downloads always resume when possible. If you want to force a new download, use `force_download=True`.\n",
      "  warnings.warn(\n",
      "Asking to truncate to max_length but no maximum length is provided and the model has no predefined maximum length. Default to no truncation.\n",
      "/data/phillip_guo/miniconda3/envs/unlrn/lib/python3.10/site-packages/huggingface_hub/file_download.py:1132: FutureWarning: `resume_download` is deprecated and will be removed in version 1.0.0. Downloads always resume when possible. If you want to force a new download, use `force_download=True`.\n",
      "  warnings.warn(\n",
      "Asking to truncate to max_length but no maximum length is provided and the model has no predefined maximum length. Default to no truncation.\n",
      "/data/phillip_guo/miniconda3/envs/unlrn/lib/python3.10/site-packages/huggingface_hub/file_download.py:1132: FutureWarning: `resume_download` is deprecated and will be removed in version 1.0.0. Downloads always resume when possible. If you want to force a new download, use `force_download=True`.\n",
      "  warnings.warn(\n",
      "Asking to truncate to max_length but no maximum length is provided and the model has no predefined maximum length. Default to no truncation.\n",
      "/data/phillip_guo/miniconda3/envs/unlrn/lib/python3.10/site-packages/huggingface_hub/file_download.py:1132: FutureWarning: `resume_download` is deprecated and will be removed in version 1.0.0. Downloads always resume when possible. If you want to force a new download, use `force_download=True`.\n",
      "  warnings.warn(\n",
      "/data/phillip_guo/miniconda3/envs/unlrn/lib/python3.10/site-packages/huggingface_hub/file_download.py:1132: FutureWarning: `resume_download` is deprecated and will be removed in version 1.0.0. Downloads always resume when possible. If you want to force a new download, use `force_download=True`.\n",
      "  warnings.warn(\n",
      "Asking to truncate to max_length but no maximum length is provided and the model has no predefined maximum length. Default to no truncation.\n"
     ]
    },
    {
     "name": "stdout",
     "output_type": "stream",
     "text": [
      "Running relearning for manual_interp\n"
     ]
    },
    {
     "data": {
      "application/vnd.jupyter.widget-view+json": {
       "model_id": "081e08a790c04fe7b850cab47e959021",
       "version_major": 2,
       "version_minor": 0
      },
      "text/plain": [
       "Loading checkpoint shards:   0%|          | 0/4 [00:00<?, ?it/s]"
      ]
     },
     "metadata": {},
     "output_type": "display_data"
    },
    {
     "data": {
      "application/vnd.jupyter.widget-view+json": {
       "model_id": "be1b454e78424dcea3f75914523d6216",
       "version_major": 2,
       "version_minor": 0
      },
      "text/plain": [
       "  0%|          | 0/10 [00:00<?, ?it/s]"
      ]
     },
     "metadata": {},
     "output_type": "display_data"
    },
    {
     "name": "stderr",
     "output_type": "stream",
     "text": [
      "Asking to truncate to max_length but no maximum length is provided and the model has no predefined maximum length. Default to no truncation.\n",
      "/data/phillip_guo/miniconda3/envs/unlrn/lib/python3.10/site-packages/huggingface_hub/file_download.py:1132: FutureWarning: `resume_download` is deprecated and will be removed in version 1.0.0. Downloads always resume when possible. If you want to force a new download, use `force_download=True`.\n",
      "  warnings.warn(\n",
      "Asking to truncate to max_length but no maximum length is provided and the model has no predefined maximum length. Default to no truncation.\n",
      "/data/phillip_guo/miniconda3/envs/unlrn/lib/python3.10/site-packages/huggingface_hub/file_download.py:1132: FutureWarning: `resume_download` is deprecated and will be removed in version 1.0.0. Downloads always resume when possible. If you want to force a new download, use `force_download=True`.\n",
      "  warnings.warn(\n",
      "Asking to truncate to max_length but no maximum length is provided and the model has no predefined maximum length. Default to no truncation.\n",
      "/data/phillip_guo/miniconda3/envs/unlrn/lib/python3.10/site-packages/huggingface_hub/file_download.py:1132: FutureWarning: `resume_download` is deprecated and will be removed in version 1.0.0. Downloads always resume when possible. If you want to force a new download, use `force_download=True`.\n",
      "  warnings.warn(\n",
      "Asking to truncate to max_length but no maximum length is provided and the model has no predefined maximum length. Default to no truncation.\n",
      "/data/phillip_guo/miniconda3/envs/unlrn/lib/python3.10/site-packages/huggingface_hub/file_download.py:1132: FutureWarning: `resume_download` is deprecated and will be removed in version 1.0.0. Downloads always resume when possible. If you want to force a new download, use `force_download=True`.\n",
      "  warnings.warn(\n",
      "Asking to truncate to max_length but no maximum length is provided and the model has no predefined maximum length. Default to no truncation.\n",
      "/data/phillip_guo/miniconda3/envs/unlrn/lib/python3.10/site-packages/huggingface_hub/file_download.py:1132: FutureWarning: `resume_download` is deprecated and will be removed in version 1.0.0. Downloads always resume when possible. If you want to force a new download, use `force_download=True`.\n",
      "  warnings.warn(\n",
      "Asking to truncate to max_length but no maximum length is provided and the model has no predefined maximum length. Default to no truncation.\n",
      "/data/phillip_guo/miniconda3/envs/unlrn/lib/python3.10/site-packages/huggingface_hub/file_download.py:1132: FutureWarning: `resume_download` is deprecated and will be removed in version 1.0.0. Downloads always resume when possible. If you want to force a new download, use `force_download=True`.\n",
      "  warnings.warn(\n",
      "Asking to truncate to max_length but no maximum length is provided and the model has no predefined maximum length. Default to no truncation.\n",
      "/data/phillip_guo/miniconda3/envs/unlrn/lib/python3.10/site-packages/huggingface_hub/file_download.py:1132: FutureWarning: `resume_download` is deprecated and will be removed in version 1.0.0. Downloads always resume when possible. If you want to force a new download, use `force_download=True`.\n",
      "  warnings.warn(\n",
      "Asking to truncate to max_length but no maximum length is provided and the model has no predefined maximum length. Default to no truncation.\n",
      "/data/phillip_guo/miniconda3/envs/unlrn/lib/python3.10/site-packages/huggingface_hub/file_download.py:1132: FutureWarning: `resume_download` is deprecated and will be removed in version 1.0.0. Downloads always resume when possible. If you want to force a new download, use `force_download=True`.\n",
      "  warnings.warn(\n",
      "Asking to truncate to max_length but no maximum length is provided and the model has no predefined maximum length. Default to no truncation.\n",
      "/data/phillip_guo/miniconda3/envs/unlrn/lib/python3.10/site-packages/huggingface_hub/file_download.py:1132: FutureWarning: `resume_download` is deprecated and will be removed in version 1.0.0. Downloads always resume when possible. If you want to force a new download, use `force_download=True`.\n",
      "  warnings.warn(\n",
      "Asking to truncate to max_length but no maximum length is provided and the model has no predefined maximum length. Default to no truncation.\n",
      "/data/phillip_guo/miniconda3/envs/unlrn/lib/python3.10/site-packages/huggingface_hub/file_download.py:1132: FutureWarning: `resume_download` is deprecated and will be removed in version 1.0.0. Downloads always resume when possible. If you want to force a new download, use `force_download=True`.\n",
      "  warnings.warn(\n",
      "/data/phillip_guo/miniconda3/envs/unlrn/lib/python3.10/site-packages/huggingface_hub/file_download.py:1132: FutureWarning: `resume_download` is deprecated and will be removed in version 1.0.0. Downloads always resume when possible. If you want to force a new download, use `force_download=True`.\n",
      "  warnings.warn(\n",
      "Asking to truncate to max_length but no maximum length is provided and the model has no predefined maximum length. Default to no truncation.\n"
     ]
    },
    {
     "name": "stdout",
     "output_type": "stream",
     "text": [
      "Running relearning for all_mlps\n"
     ]
    },
    {
     "data": {
      "application/vnd.jupyter.widget-view+json": {
       "model_id": "dc26a884bfe24142916d3e28c9c94e06",
       "version_major": 2,
       "version_minor": 0
      },
      "text/plain": [
       "Loading checkpoint shards:   0%|          | 0/4 [00:00<?, ?it/s]"
      ]
     },
     "metadata": {},
     "output_type": "display_data"
    },
    {
     "data": {
      "application/vnd.jupyter.widget-view+json": {
       "model_id": "62855dbfde974f0ea534ebc6068b1fa5",
       "version_major": 2,
       "version_minor": 0
      },
      "text/plain": [
       "  0%|          | 0/10 [00:00<?, ?it/s]"
      ]
     },
     "metadata": {},
     "output_type": "display_data"
    },
    {
     "name": "stderr",
     "output_type": "stream",
     "text": [
      "Asking to truncate to max_length but no maximum length is provided and the model has no predefined maximum length. Default to no truncation.\n",
      "/data/phillip_guo/miniconda3/envs/unlrn/lib/python3.10/site-packages/huggingface_hub/file_download.py:1132: FutureWarning: `resume_download` is deprecated and will be removed in version 1.0.0. Downloads always resume when possible. If you want to force a new download, use `force_download=True`.\n",
      "  warnings.warn(\n",
      "Asking to truncate to max_length but no maximum length is provided and the model has no predefined maximum length. Default to no truncation.\n",
      "/data/phillip_guo/miniconda3/envs/unlrn/lib/python3.10/site-packages/huggingface_hub/file_download.py:1132: FutureWarning: `resume_download` is deprecated and will be removed in version 1.0.0. Downloads always resume when possible. If you want to force a new download, use `force_download=True`.\n",
      "  warnings.warn(\n",
      "Asking to truncate to max_length but no maximum length is provided and the model has no predefined maximum length. Default to no truncation.\n",
      "/data/phillip_guo/miniconda3/envs/unlrn/lib/python3.10/site-packages/huggingface_hub/file_download.py:1132: FutureWarning: `resume_download` is deprecated and will be removed in version 1.0.0. Downloads always resume when possible. If you want to force a new download, use `force_download=True`.\n",
      "  warnings.warn(\n",
      "Asking to truncate to max_length but no maximum length is provided and the model has no predefined maximum length. Default to no truncation.\n",
      "/data/phillip_guo/miniconda3/envs/unlrn/lib/python3.10/site-packages/huggingface_hub/file_download.py:1132: FutureWarning: `resume_download` is deprecated and will be removed in version 1.0.0. Downloads always resume when possible. If you want to force a new download, use `force_download=True`.\n",
      "  warnings.warn(\n",
      "Asking to truncate to max_length but no maximum length is provided and the model has no predefined maximum length. Default to no truncation.\n",
      "/data/phillip_guo/miniconda3/envs/unlrn/lib/python3.10/site-packages/huggingface_hub/file_download.py:1132: FutureWarning: `resume_download` is deprecated and will be removed in version 1.0.0. Downloads always resume when possible. If you want to force a new download, use `force_download=True`.\n",
      "  warnings.warn(\n",
      "Asking to truncate to max_length but no maximum length is provided and the model has no predefined maximum length. Default to no truncation.\n",
      "/data/phillip_guo/miniconda3/envs/unlrn/lib/python3.10/site-packages/huggingface_hub/file_download.py:1132: FutureWarning: `resume_download` is deprecated and will be removed in version 1.0.0. Downloads always resume when possible. If you want to force a new download, use `force_download=True`.\n",
      "  warnings.warn(\n",
      "Asking to truncate to max_length but no maximum length is provided and the model has no predefined maximum length. Default to no truncation.\n",
      "/data/phillip_guo/miniconda3/envs/unlrn/lib/python3.10/site-packages/huggingface_hub/file_download.py:1132: FutureWarning: `resume_download` is deprecated and will be removed in version 1.0.0. Downloads always resume when possible. If you want to force a new download, use `force_download=True`.\n",
      "  warnings.warn(\n",
      "Asking to truncate to max_length but no maximum length is provided and the model has no predefined maximum length. Default to no truncation.\n",
      "/data/phillip_guo/miniconda3/envs/unlrn/lib/python3.10/site-packages/huggingface_hub/file_download.py:1132: FutureWarning: `resume_download` is deprecated and will be removed in version 1.0.0. Downloads always resume when possible. If you want to force a new download, use `force_download=True`.\n",
      "  warnings.warn(\n",
      "Asking to truncate to max_length but no maximum length is provided and the model has no predefined maximum length. Default to no truncation.\n",
      "/data/phillip_guo/miniconda3/envs/unlrn/lib/python3.10/site-packages/huggingface_hub/file_download.py:1132: FutureWarning: `resume_download` is deprecated and will be removed in version 1.0.0. Downloads always resume when possible. If you want to force a new download, use `force_download=True`.\n",
      "  warnings.warn(\n",
      "Asking to truncate to max_length but no maximum length is provided and the model has no predefined maximum length. Default to no truncation.\n",
      "/data/phillip_guo/miniconda3/envs/unlrn/lib/python3.10/site-packages/huggingface_hub/file_download.py:1132: FutureWarning: `resume_download` is deprecated and will be removed in version 1.0.0. Downloads always resume when possible. If you want to force a new download, use `force_download=True`.\n",
      "  warnings.warn(\n",
      "/data/phillip_guo/miniconda3/envs/unlrn/lib/python3.10/site-packages/huggingface_hub/file_download.py:1132: FutureWarning: `resume_download` is deprecated and will be removed in version 1.0.0. Downloads always resume when possible. If you want to force a new download, use `force_download=True`.\n",
      "  warnings.warn(\n",
      "Asking to truncate to max_length but no maximum length is provided and the model has no predefined maximum length. Default to no truncation.\n"
     ]
    },
    {
     "name": "stdout",
     "output_type": "stream",
     "text": [
      "Running relearning for nonlocalized\n"
     ]
    },
    {
     "data": {
      "application/vnd.jupyter.widget-view+json": {
       "model_id": "7872083125c543688c9038e9266d60a3",
       "version_major": 2,
       "version_minor": 0
      },
      "text/plain": [
       "Loading checkpoint shards:   0%|          | 0/4 [00:00<?, ?it/s]"
      ]
     },
     "metadata": {},
     "output_type": "display_data"
    },
    {
     "data": {
      "application/vnd.jupyter.widget-view+json": {
       "model_id": "02b8ba52cb654743b043d08ddd844fb8",
       "version_major": 2,
       "version_minor": 0
      },
      "text/plain": [
       "  0%|          | 0/10 [00:00<?, ?it/s]"
      ]
     },
     "metadata": {},
     "output_type": "display_data"
    },
    {
     "name": "stderr",
     "output_type": "stream",
     "text": [
      "Asking to truncate to max_length but no maximum length is provided and the model has no predefined maximum length. Default to no truncation.\n",
      "/data/phillip_guo/miniconda3/envs/unlrn/lib/python3.10/site-packages/huggingface_hub/file_download.py:1132: FutureWarning: `resume_download` is deprecated and will be removed in version 1.0.0. Downloads always resume when possible. If you want to force a new download, use `force_download=True`.\n",
      "  warnings.warn(\n",
      "Asking to truncate to max_length but no maximum length is provided and the model has no predefined maximum length. Default to no truncation.\n",
      "/data/phillip_guo/miniconda3/envs/unlrn/lib/python3.10/site-packages/huggingface_hub/file_download.py:1132: FutureWarning: `resume_download` is deprecated and will be removed in version 1.0.0. Downloads always resume when possible. If you want to force a new download, use `force_download=True`.\n",
      "  warnings.warn(\n",
      "Asking to truncate to max_length but no maximum length is provided and the model has no predefined maximum length. Default to no truncation.\n",
      "/data/phillip_guo/miniconda3/envs/unlrn/lib/python3.10/site-packages/huggingface_hub/file_download.py:1132: FutureWarning: `resume_download` is deprecated and will be removed in version 1.0.0. Downloads always resume when possible. If you want to force a new download, use `force_download=True`.\n",
      "  warnings.warn(\n",
      "Asking to truncate to max_length but no maximum length is provided and the model has no predefined maximum length. Default to no truncation.\n",
      "/data/phillip_guo/miniconda3/envs/unlrn/lib/python3.10/site-packages/huggingface_hub/file_download.py:1132: FutureWarning: `resume_download` is deprecated and will be removed in version 1.0.0. Downloads always resume when possible. If you want to force a new download, use `force_download=True`.\n",
      "  warnings.warn(\n",
      "Asking to truncate to max_length but no maximum length is provided and the model has no predefined maximum length. Default to no truncation.\n",
      "/data/phillip_guo/miniconda3/envs/unlrn/lib/python3.10/site-packages/huggingface_hub/file_download.py:1132: FutureWarning: `resume_download` is deprecated and will be removed in version 1.0.0. Downloads always resume when possible. If you want to force a new download, use `force_download=True`.\n",
      "  warnings.warn(\n",
      "Asking to truncate to max_length but no maximum length is provided and the model has no predefined maximum length. Default to no truncation.\n",
      "/data/phillip_guo/miniconda3/envs/unlrn/lib/python3.10/site-packages/huggingface_hub/file_download.py:1132: FutureWarning: `resume_download` is deprecated and will be removed in version 1.0.0. Downloads always resume when possible. If you want to force a new download, use `force_download=True`.\n",
      "  warnings.warn(\n",
      "Asking to truncate to max_length but no maximum length is provided and the model has no predefined maximum length. Default to no truncation.\n",
      "/data/phillip_guo/miniconda3/envs/unlrn/lib/python3.10/site-packages/huggingface_hub/file_download.py:1132: FutureWarning: `resume_download` is deprecated and will be removed in version 1.0.0. Downloads always resume when possible. If you want to force a new download, use `force_download=True`.\n",
      "  warnings.warn(\n",
      "Asking to truncate to max_length but no maximum length is provided and the model has no predefined maximum length. Default to no truncation.\n",
      "/data/phillip_guo/miniconda3/envs/unlrn/lib/python3.10/site-packages/huggingface_hub/file_download.py:1132: FutureWarning: `resume_download` is deprecated and will be removed in version 1.0.0. Downloads always resume when possible. If you want to force a new download, use `force_download=True`.\n",
      "  warnings.warn(\n",
      "Asking to truncate to max_length but no maximum length is provided and the model has no predefined maximum length. Default to no truncation.\n",
      "/data/phillip_guo/miniconda3/envs/unlrn/lib/python3.10/site-packages/huggingface_hub/file_download.py:1132: FutureWarning: `resume_download` is deprecated and will be removed in version 1.0.0. Downloads always resume when possible. If you want to force a new download, use `force_download=True`.\n",
      "  warnings.warn(\n",
      "Asking to truncate to max_length but no maximum length is provided and the model has no predefined maximum length. Default to no truncation.\n",
      "/data/phillip_guo/miniconda3/envs/unlrn/lib/python3.10/site-packages/huggingface_hub/file_download.py:1132: FutureWarning: `resume_download` is deprecated and will be removed in version 1.0.0. Downloads always resume when possible. If you want to force a new download, use `force_download=True`.\n",
      "  warnings.warn(\n",
      "/data/phillip_guo/miniconda3/envs/unlrn/lib/python3.10/site-packages/huggingface_hub/file_download.py:1132: FutureWarning: `resume_download` is deprecated and will be removed in version 1.0.0. Downloads always resume when possible. If you want to force a new download, use `force_download=True`.\n",
      "  warnings.warn(\n",
      "Asking to truncate to max_length but no maximum length is provided and the model has no predefined maximum length. Default to no truncation.\n"
     ]
    }
   ],
   "source": [
    "n_eval_iters = 10\n",
    "n_relearn_iters = 10\n",
    "n_relearn_athletes = 2\n",
    "\n",
    "\n",
    "if forget_fact is None:\n",
    "    relearn_fact = factsTask(batch_size=n_relearn_athletes, tokenizer=tokenizer, forget_player_subset=n_relearn_athletes, train_test_split=False, is_forget_dataset=True)\n",
    "else:\n",
    "    relearn_fact = factsTask(batch_size=n_relearn_athletes, tokenizer=tokenizer, forget_fact_subset={forget_fact}, forget_player_subset=n_relearn_athletes, train_test_split=False, is_forget_dataset=True)\n",
    "\n",
    "pile = PileTask(batch_size=8, tokenizer=tokenizer, ctx_length=256, shuffle=True, buffer_size=1000)\n",
    "train_tasks = {\"relearn_athletes\": (relearn_fact, .2), \"maintain_athletes\": (maintain_facts, 1), \"pile\": (train_pile, 1)}\n",
    "\n",
    "from tasks.facts.factsTaskAdversarial import adversarial_facts_eval_redo\n",
    "from tasks.general_capabilities.MCTask_redo import run_general_evals\n",
    "\n",
    "def eval_callback(model):\n",
    "    mmlu_score = run_general_evals(model, model_type=\"gemma\")[\"MMLU\"]\n",
    "    adversarial_results = adversarial_facts_eval_redo(model, model_type=model_type, batch_size=eval_batch_size, \n",
    "                    forget_task_init_kwargs={\"use_system_prompt\":True, \"use_icl\":False}|forget_kwargs, \n",
    "                    maintain_task_init_kwargs={\"use_system_prompt\":True, \"use_icl\":False}|maintain_kwargs, \n",
    "                    continuous=True, include_evals=[\"Normal\", \"MC\"])\n",
    "\n",
    "    # get dictionary of both\n",
    "    return {\"MMLU\": mmlu_score, \"adversarial\": adversarial_results}\n",
    "\n",
    "# del model\n",
    "\n",
    "# for name, model, mask, regular_evals, side_effect_evals, adversarial_evals in [(\"localized\", localized_model, localized_mask, localized_regular_evals, localized_side_effect_evals, localized_adversarial_evals), (\"nonlocalized\", nonlocalized_model, nonlocalized_mask, nonlocalized_regular_evals, nonlocalized_side_effect_evals, nonlocalized_adversarial_evals)]:\n",
    "\n",
    "relearning_train_results = {}\n",
    "relearning_test_results = {}\n",
    "relearning_regular_results = {}\n",
    "relearning_adversarial_results = {}\n",
    "relearning_side_effect_results = {}\n",
    "\n",
    "# for name in mask_init_funcs.keys():\n",
    "for name in model_init_and_load_funcs.keys():\n",
    "    print(f\"Running relearning for {name}\")\n",
    "\n",
    "    model = model_init_and_load_funcs[name]()\n",
    "    model.cuda()\n",
    "\n",
    "    train_losses, test_losses = do_relearning(model, train_tasks, n_iters=n_relearn_iters, finetune_lora=True, learning_kwargs={'lr': 1e-4, 'weight_decay': 0, 'use_cosine': True}, eval_callback_fn=eval_callback)\n",
    "\n",
    "    relearning_train_results[name] = train_losses\n",
    "    relearning_test_results[name] = test_losses\n",
    "\n",
    "    relearning_regular_results[name] = {}\n",
    "    for task_name, test_task in [(\"forget_fact\", forget_fact_eval), (\"maintain_facts\", maintain_facts_eval)]:\n",
    "        task_loss = 0\n",
    "        task_accuracy = 0\n",
    "        for i in range(n_eval_iters):\n",
    "            task_loss += test_task.get_test_loss(model).item()\n",
    "            task_accuracy += test_task.get_test_accuracy(model)\n",
    "        relearning_regular_results[name][f\"{task_name}_ce\"] = task_loss / n_eval_iters\n",
    "        relearning_regular_results[name][f\"{task_name}_acc\"] = task_accuracy / n_eval_iters\n",
    "\n",
    "    adversarial_eval_results = adversarial_facts_eval_redo(model, model_type=model_type, batch_size=eval_batch_size, \n",
    "                    forget_task_init_kwargs={\"use_system_prompt\":True, \"use_icl\":False}|forget_kwargs, \n",
    "                    maintain_task_init_kwargs={\"use_system_prompt\":True, \"use_icl\":False}|maintain_kwargs, \n",
    "                    continuous=True, include_evals=[\"Normal\", \"MC\"])\n",
    "    relearning_adversarial_results[name] = adversarial_eval_results\n",
    "\n",
    "    side_effect_eval_results = run_side_effects_evals(model, model_type=model_type, batch_size=eval_batch_size, evals_to_run=[\"General\"], general_batch_size=5)\n",
    "    relearning_side_effect_results[name] = side_effect_eval_results\n",
    "\n",
    "    model.cpu()\n",
    "    del model\n"
   ]
  },
  {
   "cell_type": "code",
   "execution_count": null,
   "metadata": {},
   "outputs": [
    {
     "data": {
      "text/plain": [
       "{'localized_ap': [{'MMLU': 0.58,\n",
       "   'adversarial': {'Normal': {'forget': 0.96328125,\n",
       "     'maintain': 0.9414062499999999},\n",
       "    'MC': {'forget': 0.92109375, 'maintain': 0.9}}},\n",
       "  {'MMLU': 0.5800000000000001,\n",
       "   'adversarial': {'Normal': {'forget': 0.98046875, 'maintain': 0.9671875},\n",
       "    'MC': {'forget': 0.9203125000000001, 'maintain': 0.89453125}}},\n",
       "  {'MMLU': 0.55,\n",
       "   'adversarial': {'Normal': {'forget': 0.99140625, 'maintain': 0.98125},\n",
       "    'MC': {'forget': 0.9171875, 'maintain': 0.8992187500000001}}},\n",
       "  {'MMLU': 0.5599999999999999,\n",
       "   'adversarial': {'Normal': {'forget': 0.9937499999999999,\n",
       "     'maintain': 0.98359375},\n",
       "    'MC': {'forget': 0.9210937499999999, 'maintain': 0.90703125}}},\n",
       "  {'MMLU': 0.59,\n",
       "   'adversarial': {'Normal': {'forget': 0.9945312500000001,\n",
       "     'maintain': 0.9703125},\n",
       "    'MC': {'forget': 0.9242187500000001, 'maintain': 0.9085937500000001}}},\n",
       "  {'MMLU': 0.5700000000000001,\n",
       "   'adversarial': {'Normal': {'forget': 0.9953125, 'maintain': 0.98671875},\n",
       "    'MC': {'forget': 0.92109375, 'maintain': 0.90703125}}},\n",
       "  {'MMLU': 0.5700000000000001,\n",
       "   'adversarial': {'Normal': {'forget': 0.99609375, 'maintain': 0.9796875},\n",
       "    'MC': {'forget': 0.925, 'maintain': 0.9046875}}},\n",
       "  {'MMLU': 0.59,\n",
       "   'adversarial': {'Normal': {'forget': 0.9953125, 'maintain': 0.9859375},\n",
       "    'MC': {'forget': 0.925, 'maintain': 0.9085937499999999}}},\n",
       "  {'MMLU': 0.5700000000000001,\n",
       "   'adversarial': {'Normal': {'forget': 0.99609375,\n",
       "     'maintain': 0.9820312499999999},\n",
       "    'MC': {'forget': 0.9234375, 'maintain': 0.909375}}},\n",
       "  {'MMLU': 0.5399999999999999,\n",
       "   'adversarial': {'Normal': {'forget': 0.9953125,\n",
       "     'maintain': 0.9898437499999999},\n",
       "    'MC': {'forget': 0.925, 'maintain': 0.915625}}}],\n",
       " 'localized_ct': [{'MMLU': 0.58,\n",
       "   'adversarial': {'Normal': {'forget': 0.9492187500000001,\n",
       "     'maintain': 0.94609375},\n",
       "    'MC': {'forget': 0.91328125, 'maintain': 0.88984375}}},\n",
       "  {'MMLU': 0.63,\n",
       "   'adversarial': {'Normal': {'forget': 0.9843750000000001,\n",
       "     'maintain': 0.98359375},\n",
       "    'MC': {'forget': 0.9242187500000001, 'maintain': 0.915625}}},\n",
       "  {'MMLU': 0.5900000000000001,\n",
       "   'adversarial': {'Normal': {'forget': 0.99296875, 'maintain': 0.9828125},\n",
       "    'MC': {'forget': 0.93046875, 'maintain': 0.909375}}},\n",
       "  {'MMLU': 0.6300000000000001,\n",
       "   'adversarial': {'Normal': {'forget': 0.99609375, 'maintain': 0.9875},\n",
       "    'MC': {'forget': 0.9312499999999999, 'maintain': 0.91875}}},\n",
       "  {'MMLU': 0.63,\n",
       "   'adversarial': {'Normal': {'forget': 0.9984375000000001,\n",
       "     'maintain': 0.98359375},\n",
       "    'MC': {'forget': 0.9328125, 'maintain': 0.91640625}}},\n",
       "  {'MMLU': 0.5900000000000001,\n",
       "   'adversarial': {'Normal': {'forget': 1.0, 'maintain': 0.99296875},\n",
       "    'MC': {'forget': 0.934375, 'maintain': 0.9109375}}},\n",
       "  {'MMLU': 0.6,\n",
       "   'adversarial': {'Normal': {'forget': 1.0, 'maintain': 0.9921875},\n",
       "    'MC': {'forget': 0.934375, 'maintain': 0.9281250000000001}}},\n",
       "  {'MMLU': 0.6100000000000001,\n",
       "   'adversarial': {'Normal': {'forget': 0.9984374999999999,\n",
       "     'maintain': 0.9906249999999999},\n",
       "    'MC': {'forget': 0.9328125, 'maintain': 0.915625}}},\n",
       "  {'MMLU': 0.6100000000000001,\n",
       "   'adversarial': {'Normal': {'forget': 0.9984375000000001,\n",
       "     'maintain': 0.98828125},\n",
       "    'MC': {'forget': 0.9320312499999999, 'maintain': 0.9171875}}},\n",
       "  {'MMLU': 0.6399999999999999,\n",
       "   'adversarial': {'Normal': {'forget': 1.0, 'maintain': 0.98828125},\n",
       "    'MC': {'forget': 0.9359375, 'maintain': 0.92109375}}}],\n",
       " 'random': [{'MMLU': 0.6,\n",
       "   'adversarial': {'Normal': {'forget': 0.9812500000000001,\n",
       "     'maintain': 0.9796875},\n",
       "    'MC': {'forget': 0.9078125, 'maintain': 0.9046874999999999}}},\n",
       "  {'MMLU': 0.6100000000000001,\n",
       "   'adversarial': {'Normal': {'forget': 0.9953125,\n",
       "     'maintain': 0.9835937499999999},\n",
       "    'MC': {'forget': 0.92734375, 'maintain': 0.91875}}},\n",
       "  {'MMLU': 0.6199999999999999,\n",
       "   'adversarial': {'Normal': {'forget': 0.996875,\n",
       "     'maintain': 0.9859374999999999},\n",
       "    'MC': {'forget': 0.9398437500000001, 'maintain': 0.93359375}}},\n",
       "  {'MMLU': 0.5900000000000001,\n",
       "   'adversarial': {'Normal': {'forget': 1.0, 'maintain': 1.0},\n",
       "    'MC': {'forget': 0.9460937500000001, 'maintain': 0.93203125}}},\n",
       "  {'MMLU': 0.5700000000000001,\n",
       "   'adversarial': {'Normal': {'forget': 1.0, 'maintain': 0.9859374999999999},\n",
       "    'MC': {'forget': 0.9484374999999999, 'maintain': 0.93984375}}},\n",
       "  {'MMLU': 0.5900000000000001,\n",
       "   'adversarial': {'Normal': {'forget': 1.0, 'maintain': 0.9921875},\n",
       "    'MC': {'forget': 0.95234375, 'maintain': 0.94296875}}},\n",
       "  {'MMLU': 0.57,\n",
       "   'adversarial': {'Normal': {'forget': 1.0, 'maintain': 0.98828125},\n",
       "    'MC': {'forget': 0.9531249999999999, 'maintain': 0.9375}}},\n",
       "  {'MMLU': 0.6100000000000001,\n",
       "   'adversarial': {'Normal': {'forget': 1.0, 'maintain': 0.9828125},\n",
       "    'MC': {'forget': 0.953125, 'maintain': 0.94921875}}},\n",
       "  {'MMLU': 0.5700000000000001,\n",
       "   'adversarial': {'Normal': {'forget': 1.0, 'maintain': 0.9828124999999999},\n",
       "    'MC': {'forget': 0.9515625, 'maintain': 0.95390625}}},\n",
       "  {'MMLU': 0.62,\n",
       "   'adversarial': {'Normal': {'forget': 1.0, 'maintain': 0.9859375000000001},\n",
       "    'MC': {'forget': 0.95390625, 'maintain': 0.9453125}}}],\n",
       " 'manual_interp': [{'MMLU': 0.62,\n",
       "   'adversarial': {'Normal': {'forget': 0.219921875, 'maintain': 0.97734375},\n",
       "    'MC': {'forget': 0.19765624999999998, 'maintain': 0.56953125}}},\n",
       "  {'MMLU': 0.62,\n",
       "   'adversarial': {'Normal': {'forget': 0.312890625, 'maintain': 0.8921875},\n",
       "    'MC': {'forget': 0.23222656249999998, 'maintain': 0.5609375000000001}}},\n",
       "  {'MMLU': 0.6,\n",
       "   'adversarial': {'Normal': {'forget': 0.300390625, 'maintain': 0.971875},\n",
       "    'MC': {'forget': 0.2412109375, 'maintain': 0.544921875}}},\n",
       "  {'MMLU': 0.58,\n",
       "   'adversarial': {'Normal': {'forget': 0.294921875, 'maintain': 0.9765625},\n",
       "    'MC': {'forget': 0.2474609375, 'maintain': 0.55859375}}},\n",
       "  {'MMLU': 0.57,\n",
       "   'adversarial': {'Normal': {'forget': 0.29296875, 'maintain': 0.99296875},\n",
       "    'MC': {'forget': 0.24980468749999998, 'maintain': 0.5921875}}},\n",
       "  {'MMLU': 0.5900000000000001,\n",
       "   'adversarial': {'Normal': {'forget': 0.30234375, 'maintain': 0.98984375},\n",
       "    'MC': {'forget': 0.2513671875, 'maintain': 0.596875}}},\n",
       "  {'MMLU': 0.59,\n",
       "   'adversarial': {'Normal': {'forget': 0.303125,\n",
       "     'maintain': 0.9898437499999999},\n",
       "    'MC': {'forget': 0.252734375, 'maintain': 0.6078125}}},\n",
       "  {'MMLU': 0.59,\n",
       "   'adversarial': {'Normal': {'forget': 0.296875, 'maintain': 0.98984375},\n",
       "    'MC': {'forget': 0.25390625, 'maintain': 0.6078125}}},\n",
       "  {'MMLU': 0.5700000000000001,\n",
       "   'adversarial': {'Normal': {'forget': 0.301171875,\n",
       "     'maintain': 0.9859374999999999},\n",
       "    'MC': {'forget': 0.25273437499999996, 'maintain': 0.596875}}},\n",
       "  {'MMLU': 0.57,\n",
       "   'adversarial': {'Normal': {'forget': 0.304296875, 'maintain': 0.98515625},\n",
       "    'MC': {'forget': 0.254296875, 'maintain': 0.621875}}}],\n",
       " 'all_mlps': [{'MMLU': 0.4800000000000001,\n",
       "   'adversarial': {'Normal': {'forget': 0.0170166015625,\n",
       "     'maintain': 0.96484375},\n",
       "    'MC': {'forget': 0.26953125, 'maintain': 0.2197265625}}},\n",
       "  {'MMLU': 0.53,\n",
       "   'adversarial': {'Normal': {'forget': 0.1322265625,\n",
       "     'maintain': 0.8976562499999999},\n",
       "    'MC': {'forget': 0.24179687500000002, 'maintain': 0.2068359375}}},\n",
       "  {'MMLU': 0.5199999999999999,\n",
       "   'adversarial': {'Normal': {'forget': 0.18691406250000003,\n",
       "     'maintain': 0.9171874999999999},\n",
       "    'MC': {'forget': 0.25175781249999996, 'maintain': 0.21250000000000002}}},\n",
       "  {'MMLU': 0.4699999999999999,\n",
       "   'adversarial': {'Normal': {'forget': 0.1630859375,\n",
       "     'maintain': 0.9218749999999999},\n",
       "    'MC': {'forget': 0.23945312500000002, 'maintain': 0.216796875}}},\n",
       "  {'MMLU': 0.4600000000000001,\n",
       "   'adversarial': {'Normal': {'forget': 0.16152343749999998,\n",
       "     'maintain': 0.96328125},\n",
       "    'MC': {'forget': 0.28515625, 'maintain': 0.225}}},\n",
       "  {'MMLU': 0.51,\n",
       "   'adversarial': {'Normal': {'forget': 0.1728515625, 'maintain': 0.971875},\n",
       "    'MC': {'forget': 0.273828125, 'maintain': 0.21738281250000002}}},\n",
       "  {'MMLU': 0.47000000000000003,\n",
       "   'adversarial': {'Normal': {'forget': 0.18183593750000002,\n",
       "     'maintain': 0.97421875},\n",
       "    'MC': {'forget': 0.273828125, 'maintain': 0.216796875}}},\n",
       "  {'MMLU': 0.45999999999999996,\n",
       "   'adversarial': {'Normal': {'forget': 0.176953125, 'maintain': 0.98515625},\n",
       "    'MC': {'forget': 0.24160156250000003, 'maintain': 0.215625}}},\n",
       "  {'MMLU': 0.49000000000000005,\n",
       "   'adversarial': {'Normal': {'forget': 0.16874999999999998,\n",
       "     'maintain': 0.9671875},\n",
       "    'MC': {'forget': 0.2607421875, 'maintain': 0.21347656250000002}}},\n",
       "  {'MMLU': 0.54,\n",
       "   'adversarial': {'Normal': {'forget': 0.1669921875,\n",
       "     'maintain': 0.9671874999999999},\n",
       "    'MC': {'forget': 0.2341796875, 'maintain': 0.216015625}}}],\n",
       " 'nonlocalized': [{'MMLU': 0.47000000000000003,\n",
       "   'adversarial': {'Normal': {'forget': 0.23105468750000002,\n",
       "     'maintain': 0.659375},\n",
       "    'MC': {'forget': 0.387109375, 'maintain': 0.35312499999999997}}},\n",
       "  {'MMLU': 0.47000000000000003,\n",
       "   'adversarial': {'Normal': {'forget': 0.20468749999999997,\n",
       "     'maintain': 0.63046875},\n",
       "    'MC': {'forget': 0.38203125000000004, 'maintain': 0.331640625}}},\n",
       "  {'MMLU': 0.41999999999999993,\n",
       "   'adversarial': {'Normal': {'forget': 0.205859375,\n",
       "     'maintain': 0.6351562500000001},\n",
       "    'MC': {'forget': 0.39609374999999997, 'maintain': 0.312109375}}},\n",
       "  {'MMLU': 0.45999999999999996,\n",
       "   'adversarial': {'Normal': {'forget': 0.21601562499999996,\n",
       "     'maintain': 0.6117187500000001},\n",
       "    'MC': {'forget': 0.3984375, 'maintain': 0.3392578125}}},\n",
       "  {'MMLU': 0.43,\n",
       "   'adversarial': {'Normal': {'forget': 0.21640625, 'maintain': 0.6421875},\n",
       "    'MC': {'forget': 0.39765625, 'maintain': 0.3486328125}}},\n",
       "  {'MMLU': 0.45,\n",
       "   'adversarial': {'Normal': {'forget': 0.23125, 'maintain': 0.64140625},\n",
       "    'MC': {'forget': 0.40468750000000003, 'maintain': 0.32109375}}},\n",
       "  {'MMLU': 0.43,\n",
       "   'adversarial': {'Normal': {'forget': 0.24667968749999997,\n",
       "     'maintain': 0.6718750000000001},\n",
       "    'MC': {'forget': 0.394921875, 'maintain': 0.2984375}}},\n",
       "  {'MMLU': 0.44000000000000006,\n",
       "   'adversarial': {'Normal': {'forget': 0.2498046875,\n",
       "     'maintain': 0.7007812499999999},\n",
       "    'MC': {'forget': 0.39570312500000004, 'maintain': 0.304296875}}},\n",
       "  {'MMLU': 0.5000000000000001,\n",
       "   'adversarial': {'Normal': {'forget': 0.2529296875, 'maintain': 0.69609375},\n",
       "    'MC': {'forget': 0.40078125000000003, 'maintain': 0.3021484375}}},\n",
       "  {'MMLU': 0.47000000000000003,\n",
       "   'adversarial': {'Normal': {'forget': 0.250390625,\n",
       "     'maintain': 0.6906249999999999},\n",
       "    'MC': {'forget': 0.401171875, 'maintain': 0.356640625}}}]}"
      ]
     },
     "execution_count": 11,
     "metadata": {},
     "output_type": "execute_result"
    }
   ],
   "source": [
    "relearning_test_results"
   ]
  },
  {
   "cell_type": "code",
   "execution_count": null,
   "metadata": {},
   "outputs": [
    {
     "data": {
      "image/png": "[encoded data removed]",
      "text/plain": [
       "<Figure size 1000x600 with 1 Axes>"
      ]
     },
     "metadata": {},
     "output_type": "display_data"
    },
    {
     "data": {
      "image/png": "[encoded data removed]",
      "text/plain": [
       "<Figure size 1000x600 with 1 Axes>"
      ]
     },
     "metadata": {},
     "output_type": "display_data"
    },
    {
     "data": {
      "image/png": "[encoded data removed]",
      "text/plain": [
       "<Figure size 1000x600 with 1 Axes>"
      ]
     },
     "metadata": {},
     "output_type": "display_data"
    },
    {
     "data": {
      "image/png": "[encoded data removed]",
      "text/plain": [
       "<Figure size 1000x600 with 1 Axes>"
      ]
     },
     "metadata": {},
     "output_type": "display_data"
    }
   ],
   "source": [
    "import matplotlib.pyplot as plt\n",
    "\n",
    "# Function to plot relearning results\n",
    "def plot_relearning_results(relearning_test_results, metric, title, ylabel):\n",
    "    plt.figure(figsize=(10, 6))\n",
    "    for name, results in relearning_test_results.items():\n",
    "        values = [result[metric] if metric != 'adversarial' else result[metric]['Normal']['forget'] for result in results]\n",
    "        plt.plot(range(len(values)), values, label=name, marker='o')\n",
    "    plt.xlabel('Iteration')\n",
    "    plt.ylabel(ylabel)\n",
    "    plt.title(title)\n",
    "    plt.legend()\n",
    "    plt.grid(True)\n",
    "    plt.show()\n",
    "\n",
    "# Plot MMLU\n",
    "plot_relearning_results(relearning_test_results, 'MMLU', 'MMLU while Relearning Basketball', 'MMLU Score')\n",
    "\n",
    "# Plot adversarial-normal-forget\n",
    "def plot_adversarial_results(relearning_test_results, adversarial_type, forget_or_maintain, title, ylabel):\n",
    "    plt.figure(figsize=(10, 6))\n",
    "    for name, results in relearning_test_results.items():\n",
    "        values = [result['adversarial'][adversarial_type][forget_or_maintain] for result in results]\n",
    "        plt.plot(range(len(values)), values, label=name, marker='o')\n",
    "    plt.xlabel('Iteration')\n",
    "    plt.ylabel(ylabel)\n",
    "    plt.title(title)\n",
    "    plt.legend()\n",
    "    plt.grid(True)\n",
    "    plt.show()\n",
    "\n",
    "# Plot adversarial-normal-forget\n",
    "plot_adversarial_results(relearning_test_results, 'Normal', 'forget', 'Normal Basketball-forget Accuracy Over Relearning Iterations', 'Normal Basketball-forget Accuracy')\n",
    "\n",
    "# Plot adversarial-normal-maintain\n",
    "plot_adversarial_results(relearning_test_results, 'Normal', 'maintain', 'Normal facts-maintain Accuracy Over Relearning Iterations', 'Normal facts-maintain Accuracy')\n",
    "\n",
    "# Plot adversarial-mc-forget\n",
    "plot_adversarial_results(relearning_test_results, 'MC', 'forget', 'MC Basketball-forget Accuracy Over Relearning Iterations', 'MC Basketball-forget Accuracy')\n",
    "\n"
   ]
  },
  {
   "cell_type": "code",
   "execution_count": null,
   "metadata": {},
   "outputs": [],
   "source": [
    "os.makedirs(f\"{save_dir}/results\", exist_ok=True)\n",
    "with open(f\"{save_dir}/results/relearning_{n_relearn_athletes=}_{n_relearn_iters=}_{model_type}_{combine_heads=}_{beta=}_unlearn_{forget_fact=}_{forget_athletes=}_results.pkl\", \"wb\") as f:\n",
    "    pickle.dump({\"relearning_regular_results\": relearning_regular_results, \"relearning_adversarial_results\": relearning_adversarial_results, \"relearning_side_effect_results\": relearning_side_effect_results, \"relearning_train_results\": relearning_train_results, \"relearning_test_results\": relearning_test_results}, f)"
   ]
  },
  {
   "cell_type": "code",
   "execution_count": null,
   "metadata": {},
   "outputs": [],
   "source": [
    "n_relearn_athletes = 2\n",
    "n_relearn_iters = 10\n",
    "model_type = \"gemma\"\n",
    "# combine_heads = False\n",
    "beta = 3\n",
    "\n",
    "with open(f\"{save_dir}/results/relearning_{n_relearn_athletes=}_{n_relearn_iters=}_{model_type}_{combine_heads=}_{beta=}_unlearn_{forget_fact=}_{forget_athletes=}_results.pkl\", \"rb\") as f:\n",
    "    results = pickle.load(f)\n",
    "    relearning_regular_results = results['relearning_regular_results']\n",
    "    relearning_adversarial_results = results['relearning_adversarial_results']\n",
    "    relearning_side_effect_results = results['relearning_side_effect_results']\n"
   ]
  },
  {
   "cell_type": "code",
   "execution_count": null,
   "metadata": {},
   "outputs": [
    {
     "data": {
      "text/plain": [
       "{'localized_ap': {'forget_sport_ce': 0.002783966064453125,\n",
       "  'forget_sport_acc': 0.998828125,\n",
       "  'maintain_sports_ce': 0.06891403198242188,\n",
       "  'maintain_sports_acc': 0.99140625},\n",
       " 'localized_ct': {'forget_sport_ce': 0.0036376953125,\n",
       "  'forget_sport_acc': 0.999609375,\n",
       "  'maintain_sports_ce': 0.03251953125,\n",
       "  'maintain_sports_acc': 0.9828125},\n",
       " 'random': {'forget_sport_ce': 0.0003566741943359375,\n",
       "  'forget_sport_acc': 1.0,\n",
       "  'maintain_sports_ce': 0.048969268798828125,\n",
       "  'maintain_sports_acc': 0.989453125},\n",
       " 'manual_interp': {'forget_sport_ce': 5.30625,\n",
       "  'forget_sport_acc': 0.284765625,\n",
       "  'maintain_sports_ce': 0.07118072509765624,\n",
       "  'maintain_sports_acc': 0.9875},\n",
       " 'all_mlps': {'forget_sport_ce': 6.39375,\n",
       "  'forget_sport_acc': 0.1892578125,\n",
       "  'maintain_sports_ce': 0.0438751220703125,\n",
       "  'maintain_sports_acc': 0.966015625},\n",
       " 'nonlocalized': {'forget_sport_ce': 2.5234375,\n",
       "  'forget_sport_acc': 0.3515625,\n",
       "  'maintain_sports_ce': 0.176513671875,\n",
       "  'maintain_sports_acc': 0.900390625}}"
      ]
     },
     "execution_count": 15,
     "metadata": {},
     "output_type": "execute_result"
    }
   ],
   "source": [
    "relearning_regular_results"
   ]
  },
  {
   "cell_type": "code",
   "execution_count": null,
   "metadata": {},
   "outputs": [
    {
     "data": {
      "text/plain": [
       "{'localized_ap': {'Normal': {'forget': 0.99609375,\n",
       "   'maintain': 0.9781249999999999},\n",
       "  'MC': {'forget': 0.9234375000000001, 'maintain': 0.90859375}},\n",
       " 'localized_ct': {'Normal': {'forget': 0.9984375000000001,\n",
       "   'maintain': 0.98125},\n",
       "  'MC': {'forget': 0.9359375000000001, 'maintain': 0.9265625}},\n",
       " 'random': {'Normal': {'forget': 1.0, 'maintain': 0.9945312500000001},\n",
       "  'MC': {'forget': 0.95390625, 'maintain': 0.94296875}},\n",
       " 'manual_interp': {'Normal': {'forget': 0.294140625, 'maintain': 0.98515625},\n",
       "  'MC': {'forget': 0.25390625, 'maintain': 0.6156250000000001}},\n",
       " 'all_mlps': {'Normal': {'forget': 0.17207031250000002, 'maintain': 0.9765625},\n",
       "  'MC': {'forget': 0.266015625, 'maintain': 0.2177734375}},\n",
       " 'nonlocalized': {'Normal': {'forget': 0.24453125, 'maintain': 0.73671875},\n",
       "  'MC': {'forget': 0.388671875, 'maintain': 0.337890625}}}"
      ]
     },
     "execution_count": 16,
     "metadata": {},
     "output_type": "execute_result"
    }
   ],
   "source": [
    "relearning_adversarial_results"
   ]
  },
  {
   "cell_type": "markdown",
   "metadata": {},
   "source": [
    "## Latent Knowledge"
   ]
  },
  {
   "cell_type": "code",
   "execution_count": null,
   "metadata": {},
   "outputs": [],
   "source": [
    "# # combine_heads = False\n",
    "# model_paths_dict = {\n",
    "#     localization_type: f\"{save_dir}/models/{model_type}_{localization_type}_{combine_heads=}_{beta=}_unlearn_{forget_fact=}_{forget_athletes=}.pt\" for localization_type in localization_types\n",
    "# }\n",
    "# def model_init_and_load_func(mask_type):\n",
    "#     model_path = model_paths_dict[mask_type]\n",
    "#     def get_model_fn():\n",
    "#         model = AutoModelForCausalLM.from_pretrained(\"google/gemma-7b\", torch_dtype=torch.bfloat16)\n",
    "#         model.load_state_dict(torch.load(model_path))\n",
    "#         return model\n",
    "#     return get_model_fn\n",
    "# model_init_and_load_funcs = {mask_type: model_init_and_load_func(mask_type) for mask_type in localization_types}"
   ]
  },
  {
   "cell_type": "code",
   "execution_count": null,
   "metadata": {},
   "outputs": [
    {
     "name": "stderr",
     "output_type": "stream",
     "text": [
      "WARNING:root:You tried to specify center_unembed=True for a model using logit softcap, but this can't be done! Softcapping is not invariant upon adding a constantSetting center_unembed=False instead.\n"
     ]
    },
    {
     "name": "stdout",
     "output_type": "stream",
     "text": [
      "Loaded pretrained model google/gemma-2-9b into HookedTransformer\n"
     ]
    },
    {
     "data": {
      "text/plain": [
       "21"
      ]
     },
     "execution_count": 10,
     "metadata": {},
     "output_type": "execute_result"
    }
   ],
   "source": [
    "model.cpu()\n",
    "tl_model = HookedTransformer.from_pretrained(\n",
    "    model_name_or_path,\n",
    "    device='cuda',\n",
    "    default_padding_side=\"left\",\n",
    "    fold_ln=False,\n",
    "    fold_value_biases=False,\n",
    "    center_writing_weights=False,\n",
    "    dtype=torch.bfloat16,\n",
    "    hf_model=model\n",
    ")\n",
    "tl_tokenizer = tl_model.tokenizer\n",
    "torch.cuda.memory_allocated() // 1024**3"
   ]
  },
  {
   "cell_type": "code",
   "execution_count": null,
   "metadata": {},
   "outputs": [
    {
     "name": "stdout",
     "output_type": "stream",
     "text": [
      "21\n"
     ]
    }
   ],
   "source": [
    "# model.cuda()\n",
    "# left_tokenizer = AutoTokenizer.from_pretrained(\"google/gemma-2-9b\")\n",
    "# left_tokenizer.pad_token_id = left_tokenizer.eos_token_id\n",
    "# left_tokenizer.padding_side = \"left\"\n",
    "# tokenized = left_tokenizer([\"test test test\", \"blah blah blah\", \"Fact: Tiger Woods played the fact of\"], return_tensors=\"pt\", padding=True)\n",
    "\n",
    "# hf_model_output = model(**{x: tokenized[x].cuda() for x in tokenized})\n",
    "# model.cpu()\n",
    "\n",
    "# tokenized = tl_tokenizer([\"test test test\", \"blah blah blah\", \"Fact: Tiger Woods played the fact of\"], return_tensors=\"pt\", padding=True)\n",
    "# tl_model_output = tl_model(tokenized.input_ids.cuda(), attention_mask=tokenized.attention_mask.cuda())\n",
    "\n",
    "# print((tl_model_output[-1] - hf_model_output.logits[-1]).abs().mean())\n",
    "\n",
    "# print(maintain_facts_eval.get_test_accuracy(tl_model))\n",
    "# print(forget_fact_eval.get_test_accuracy(tl_model))\n",
    "print(torch.cuda.memory_allocated() // 1024**3)"
   ]
  },
  {
   "cell_type": "code",
   "execution_count": null,
   "metadata": {},
   "outputs": [],
   "source": [
    "# left_tokenizer = AutoTokenizer.from_pretrained(\"google/gemma-2-9b\")\n",
    "# left_tokenizer.pad_token_id = left_tokenizer.eos_token_id\n",
    "# left_tokenizer.padding_side = \"left\"\n",
    "\n",
    "# from collections import defaultdict\n",
    "# def layer_hook_function(layer, outputs, last_token_only=True, store_cpu=False):\n",
    "#     def hook_fn(module, input, output):\n",
    "#         print(layer, output[0].shape, output[0].isnan().float().mean(axis=-1), output)\n",
    "#         if isinstance(output, tuple):\n",
    "#             save_output = output[0].clone().detach()\n",
    "#         else:\n",
    "#             save_output = output.clone().detach()\n",
    "#         if last_token_only:\n",
    "#             save_output = save_output[:, -1]\n",
    "#         if store_cpu:\n",
    "#             save_output = save_output.cpu()\n",
    "#         outputs[layer].append(save_output)\n",
    "#         # return output\n",
    "#     return hook_fn\n",
    "\n",
    "# def get_hf_residuals(texts, model, batch_size, last_token_only=True, layers_module=None, store_cpu=True, text_col=\"prompt\", return_output=False):\n",
    "#     # needs left_\n",
    "#     outputs = defaultdict(list)\n",
    "#     hooks = []\n",
    "#     if layers_module is None:\n",
    "#         layers_module = model.model.layers\n",
    "#     for layer, block in enumerate(layers_module):\n",
    "#         hook_fn = layer_hook_function(layer, outputs=outputs, last_token_only=last_token_only, store_cpu=store_cpu)\n",
    "#         hook_applied = block.register_forward_hook(hook_fn)\n",
    "#         hooks.append(hook_applied)\n",
    "\n",
    "#     for idx in tqdm(range(0, len(texts), batch_size)):\n",
    "#         batch_texts = texts[idx:idx+batch_size]\n",
    "#         tokenized = left_tokenizer(batch_texts, return_tensors=\"pt\", padding=True)\n",
    "#         tokenized = {k: v.cuda() for k, v in tokenized.items()}\n",
    "#         with torch.no_grad():\n",
    "#             model_output = model(**tokenized)\n",
    "    \n",
    "#     for layer in outputs:\n",
    "#         outputs[layer] = torch.cat(outputs[layer], dim=0)\n",
    "#         if store_cpu:\n",
    "#             outputs[layer] = outputs[layer].cpu()\n",
    "\n",
    "#     for hook in hooks:\n",
    "#         hook.remove()\n",
    "    \n",
    "#     if return_output:\n",
    "#         return outputs, model_output\n",
    "#     else:\n",
    "#         return outputs\n",
    "\n",
    "def get_tl_residuals(texts, model, batch_size, store_cpu=True, return_outputs=False):\n",
    "    caches = defaultdict(list)\n",
    "    for i in tqdm(range(0, len(texts), batch_size)):\n",
    "        batch_texts = texts[i:i+batch_size]\n",
    "        tokenized = tl_tokenizer(batch_texts, return_tensors=\"pt\", padding=True)\n",
    "        outputs = []\n",
    "        with torch.no_grad():\n",
    "            _, cache = model.run_with_cache(\n",
    "                tokenized.input_ids.cuda(),\n",
    "                attention_mask=tokenized.attention_mask.cuda(),\n",
    "                names_filter = (lambda name: f\"hook_resid_post\" in name)\n",
    "            )\n",
    "            if return_outputs:\n",
    "                outputs.append(cache)\n",
    "        for k, v in cache.items():\n",
    "            key_layer = int(k.split(\".\")[1])\n",
    "            if store_cpu:\n",
    "                caches[key_layer].append(v[:, -1, :].cpu())\n",
    "            else:\n",
    "                caches[key_layer].append(v[:, -1, :])\n",
    "    for k, v in caches.items():\n",
    "        caches[k] = torch.cat(v, dim=0)\n",
    "    if return_outputs:\n",
    "        return caches, outputs\n",
    "    else:\n",
    "        return caches"
   ]
  },
  {
   "cell_type": "code",
   "execution_count": null,
   "metadata": {},
   "outputs": [],
   "source": [
    "# model.cuda()\n",
    "# sample_resids, sample_output = get_hf_residuals([\"test test test\", \"blah blah blah blasdhf\"], model, batch_size=2, return_output=True)\n",
    "# sample_output.logits\n",
    "# tokenized = tokenizer([\"test test test\", \"blah blah blah blah\"], return_tensors=\"pt\", padding=True)\n",
    "\n",
    "# model(**{x: tokenized[x].cuda() for x in tokenized})"
   ]
  },
  {
   "cell_type": "code",
   "execution_count": null,
   "metadata": {},
   "outputs": [
    {
     "data": {
      "application/vnd.jupyter.widget-view+json": {
       "model_id": "4eaa44dc17fc461fb71ecff17b6ea85d",
       "version_major": 2,
       "version_minor": 0
      },
      "text/plain": [
       "  0%|          | 0/1 [00:00<?, ?it/s]"
      ]
     },
     "metadata": {},
     "output_type": "display_data"
    },
    {
     "data": {
      "application/vnd.jupyter.widget-view+json": {
       "model_id": "9b80f66bb88e4ba2a75b96c9d8ec13cd",
       "version_major": 2,
       "version_minor": 0
      },
      "text/plain": [
       "  0%|          | 0/1 [00:00<?, ?it/s]"
      ]
     },
     "metadata": {},
     "output_type": "display_data"
    },
    {
     "data": {
      "application/vnd.jupyter.widget-view+json": {
       "model_id": "7d941b1dea884c7f88c80ae8d3e2904d",
       "version_major": 2,
       "version_minor": 0
      },
      "text/plain": [
       "  0%|          | 0/78 [00:00<?, ?it/s]"
      ]
     },
     "metadata": {},
     "output_type": "display_data"
    },
    {
     "data": {
      "application/vnd.jupyter.widget-view+json": {
       "model_id": "47357411290f4fe297aaefe1c03f4b21",
       "version_major": 2,
       "version_minor": 0
      },
      "text/plain": [
       "  0%|          | 0/20 [00:00<?, ?it/s]"
      ]
     },
     "metadata": {},
     "output_type": "display_data"
    }
   ],
   "source": [
    "batch_size = 16\n",
    "def get_resids(facts_task, model):\n",
    "    # train_outputs = get_hf_residuals(facts_task.train_df[\"prompt\"].tolist(), model, batch_size, last_token_only=True) # needs to not be last token only because of layernorm\n",
    "    # test_outputs = get_hf_residuals(facts_task.test_df[\"prompt\"].tolist(), model, batch_size, last_token_only=True)\n",
    "    train_outputs = get_tl_residuals(facts_task.train_df[\"prompt\"].tolist(), tl_model, batch_size)\n",
    "    test_outputs = get_tl_residuals(facts_task.test_df[\"prompt\"].tolist(), tl_model, batch_size)\n",
    "\n",
    "    train_labels = facts_task.train_df['fact'].tolist()\n",
    "    test_labels = facts_task.test_df['fact'].tolist()\n",
    "    return train_outputs, test_outputs, train_labels, test_labels\n",
    "\n",
    "forget_is_split = True if forget_fact is not None else False\n",
    "if forget_is_split:\n",
    "    forget_train_outputs_dict = {}\n",
    "    forget_test_outputs_dict = {}\n",
    "    forget_train_labels_dict = {}\n",
    "    forget_test_labels_dict = {}\n",
    "else:\n",
    "    forget_outputs_dict = {}\n",
    "    forget_labels_dict = {}\n",
    "\n",
    "maintain_train_outputs_dict = {}\n",
    "maintain_test_outputs_dict = {}\n",
    "maintain_train_labels_dict = {}\n",
    "maintain_test_labels_dict = {}\n",
    "\n",
    "# for model_name in model_init_and_load_funcs:\n",
    "    # model = model_init_and_load_funcs[model_name]()\n",
    "for model_name in trained_models:\n",
    "    model = trained_models[model_name]\n",
    "    model.cuda()\n",
    "    if forget_is_split:\n",
    "        forget_train_outputs_dict[model_name], forget_test_outputs_dict[model_name], forget_train_labels_dict[model_name], forget_test_labels_dict[model_name] = get_resids(forget_fact_eval, model)\n",
    "    else:\n",
    "        forget_outputs_dict[model_name], _, forget_labels_dict[model_name], _ = get_resids(forget_fact_eval, model)\n",
    "    maintain_train_outputs_dict[model_name], maintain_test_outputs_dict[model_name], maintain_train_labels_dict[model_name], maintain_test_labels_dict[model_name] = get_resids(maintain_facts_eval, model)\n",
    "\n",
    "    model.cpu()"
   ]
  },
  {
   "cell_type": "code",
   "execution_count": null,
   "metadata": {},
   "outputs": [
    {
     "data": {
      "text/plain": [
       "torch.Size([310, 3584])"
      ]
     },
     "execution_count": 14,
     "metadata": {},
     "output_type": "execute_result"
    }
   ],
   "source": [
    "maintain_test_outputs_dict[\"nonlocalized\"][41].shape"
   ]
  },
  {
   "cell_type": "code",
   "execution_count": null,
   "metadata": {},
   "outputs": [
    {
     "name": "stdout",
     "output_type": "stream",
     "text": [
      "Performing manual split of the unsplit training dataset\n"
     ]
    }
   ],
   "source": [
    "# set train and test splits\n",
    "if not forget_is_split:\n",
    "    print(\"Performing manual split of the unsplit training dataset\")\n",
    "    train_test_split = .5\n",
    "    forget_train_outputs_dict = {}\n",
    "    forget_test_outputs_dict = {}\n",
    "    forget_train_labels_dict = {}\n",
    "    forget_test_labels_dict = {}\n",
    "    # for model_name in model_init_and_load_funcs:\n",
    "    for model_name in forget_labels_dict:\n",
    "        num_train = int(len(forget_labels_dict[model_name]) * train_test_split)\n",
    "        forget_train_labels_dict[model_name] = forget_labels_dict[model_name][:num_train]\n",
    "        forget_test_labels_dict[model_name] = forget_labels_dict[model_name][num_train:]\n",
    "        forget_train_outputs_dict[model_name] = {}\n",
    "        forget_test_outputs_dict[model_name] = {}\n",
    "        for layer in range(n_layers):\n",
    "            forget_train_outputs_dict[model_name][layer] = forget_outputs_dict[model_name][layer][:num_train]\n",
    "            forget_test_outputs_dict[model_name][layer] = forget_outputs_dict[model_name][layer][num_train:]\n"
   ]
  },
  {
   "cell_type": "code",
   "execution_count": null,
   "metadata": {},
   "outputs": [],
   "source": [
    "# for i in range(n_layers):\n",
    "#     print(f\"On layer {i}, AP == CT activations is: {(forget_train_outputs_dict['localized_ap'][i] == forget_train_outputs_dict['localized_ct'][i]).all()}\")"
   ]
  },
  {
   "cell_type": "markdown",
   "metadata": {},
   "source": [
    "###  Approach 1: test probes on forget data and maintain data separately?\n",
    "not really sure what I did here, but it should generalize to individual athletes"
   ]
  },
  {
   "cell_type": "code",
   "execution_count": null,
   "metadata": {},
   "outputs": [
    {
     "data": {
      "application/vnd.jupyter.widget-view+json": {
       "model_id": "1f741f3977174cdcaf662776e9ad1a96",
       "version_major": 2,
       "version_minor": 0
      },
      "text/plain": [
       "  0%|          | 0/1 [00:00<?, ?it/s]"
      ]
     },
     "metadata": {},
     "output_type": "display_data"
    }
   ],
   "source": [
    "from sklearn.linear_model import LogisticRegression\n",
    "\n",
    "def get_fact_labels(string_labels, return_np=True):\n",
    "    # want three different lists of labels, one for each fact\n",
    "    facts = [\"baseball\", \"football\", \"basketball\"]\n",
    "    fact_labels = {fact: [] for fact in facts}\n",
    "    for label in string_labels:\n",
    "        for fact in facts:\n",
    "            if fact in label:\n",
    "                fact_labels[fact].append(1)\n",
    "            else:\n",
    "                fact_labels[fact].append(0)\n",
    "    if return_np:\n",
    "        for fact in facts:\n",
    "            fact_labels[fact] = np.array(fact_labels[fact])\n",
    "        \n",
    "    assert sum(fact_labels[\"baseball\"]) + sum(fact_labels[\"football\"]) + sum(fact_labels[\"basketball\"]) == len(string_labels)\n",
    "    # assert each position always adds up to 1\n",
    "    for i in range(len(string_labels)):\n",
    "        assert fact_labels[\"baseball\"][i] + fact_labels[\"football\"][i] + fact_labels[\"basketball\"][i] == 1\n",
    "    return fact_labels\n",
    "\n",
    "# train probes\n",
    "all_probes = defaultdict(dict) # double-nested dictionary, first keys are model_name, second keys are layers, final values are dictionaries with keys \"basketball\", \"football\", \"baseball\" and values of probes\n",
    "\n",
    "all_train_accs = defaultdict(dict)\n",
    "all_test_accs = defaultdict(dict)\n",
    "all_forget_accs = defaultdict(dict)\n",
    "all_maintain_accs = defaultdict(dict)\n",
    "\n",
    "combine_accuracies = True\n",
    "\n",
    "shuffle_train = True\n",
    "for model_name in tqdm(forget_labels_dict):\n",
    "    # train_acts = {}\n",
    "\n",
    "    forget_test_acts = forget_test_outputs_dict[model_name]\n",
    "    forget_test_labels = get_fact_labels(forget_test_labels_dict[model_name])\n",
    "    maintain_test_acts = maintain_test_outputs_dict[model_name]\n",
    "    maintain_test_labels = get_fact_labels(maintain_test_labels_dict[model_name])\n",
    "\n",
    "    forget_train_acts = forget_train_outputs_dict[model_name]\n",
    "    maintain_train_acts = maintain_train_outputs_dict[model_name]\n",
    "    # forget_test_labels_dict[model_name] + maintain_test_labels_dict[model_name]\n",
    "    train_labels = forget_train_labels_dict[model_name] + maintain_train_labels_dict[model_name]\n",
    "    train_labels = get_fact_labels(train_labels)\n",
    "\n",
    "    test_labels = forget_test_labels_dict[model_name] + maintain_test_labels_dict[model_name]\n",
    "    test_labels = get_fact_labels(test_labels)\n",
    "\n",
    "    if shuffle_train:\n",
    "        shuffle_idx = torch.randperm(len(list(train_labels.values())[0]))\n",
    "\n",
    "    if shuffle_train:\n",
    "        for fact in train_labels:\n",
    "            train_labels[fact] = train_labels[fact][shuffle_idx]\n",
    "    \n",
    "    # print(f\"Labels look like {train_labels}\")\n",
    "\n",
    "    for layer in range(n_layers):\n",
    "        layer_train_acts = torch.cat([forget_train_acts[layer], maintain_train_acts[layer]], dim=0).float().cpu().numpy()\n",
    "        layer_test_acts = torch.cat([forget_test_acts[layer], maintain_test_acts[layer]], dim=0).float().cpu().numpy()\n",
    "        layer_forget_test_acts = forget_test_acts[layer].float().cpu().numpy()\n",
    "        layer_maintain_test_acts = maintain_test_acts[layer].float().cpu().numpy()\n",
    "\n",
    "        if shuffle_train:\n",
    "            layer_train_acts = layer_train_acts[shuffle_idx]\n",
    "        all_probes[model_name][layer] = {}\n",
    "\n",
    "        if not combine_accuracies:\n",
    "            all_train_accs[model_name][layer] = {}\n",
    "            all_test_accs[model_name][layer] = {}\n",
    "            all_forget_accs[model_name][layer] = {}\n",
    "            all_maintain_accs[model_name][layer] = {}\n",
    "\n",
    "        facts_train_preds = {}\n",
    "        facts_test_preds = {}\n",
    "        facts_forget_preds = {}\n",
    "        facts_maintain_preds = {}\n",
    "        for fact in train_labels:\n",
    "            if sum(train_labels[fact]) <= 0:\n",
    "                print(\"No labels for fact\", fact)\n",
    "                continue\n",
    "            probe = LogisticRegression(max_iter=10000)\n",
    "            # print(f\"Training probe for {fact} at layer {layer}, {layer_train_acts.shape=}, {train_labels[fact].shape=}, {train_labels[fact].mean()=}\")\n",
    "            probe.fit(layer_train_acts, train_labels[fact])\n",
    "            all_probes[model_name][layer][fact] = probe\n",
    "\n",
    "            # test probes\n",
    "            # print(f\"{fact=}, {layer_train_acts.shape=}, {train_labels[fact].shape=}, {train_labels[fact].mean()=}\")\n",
    "            train_preds = probe.predict(layer_train_acts)\n",
    "            if not combine_accuracies:\n",
    "                train_acc = (train_preds == train_labels[fact]).sum() / len(train_labels[fact])\n",
    "                all_train_accs[model_name][layer][fact] = train_acc\n",
    "            else:\n",
    "                facts_train_preds[fact] = train_preds\n",
    "\n",
    "\n",
    "            # print(f\"Testing probe for {fact} at layer {layer}, {layer_test_acts.shape=}, {test_labels[fact].shape=}, {test_labels[fact].mean()=}\")\n",
    "            test_preds = probe.predict(layer_test_acts)\n",
    "            if not combine_accuracies:\n",
    "                test_acc = (test_preds == test_labels[fact]).sum() / len(test_labels[fact])\n",
    "                all_forget_accs[model_name][layer][fact] = test_acc\n",
    "            else:\n",
    "                facts_test_preds[fact] = test_preds\n",
    "\n",
    "            # print(f\"{fact=}, {layer_forget_test_acts.shape=}, {forget_test_labels[fact].shape=}, {forget_test_labels[fact].mean()=}\")\n",
    "            forget_test_preds = probe.predict(layer_forget_test_acts)\n",
    "            if not combine_accuracies:\n",
    "                forget_acc = (forget_test_preds == forget_test_labels[fact]).sum() / len(forget_test_labels[fact])\n",
    "                all_test_accs[model_name][layer][fact] = forget_acc\n",
    "            else:\n",
    "                facts_forget_preds[fact] = forget_test_preds\n",
    "\n",
    "            # print(f\"{fact=}, {layer_maintain_test_acts.shape=}, {maintain_test_labels[fact].shape=}, {maintain_test_labels[fact].mean()=}\")\n",
    "            maintain_test_preds = probe.predict(layer_maintain_test_acts)\n",
    "            if not combine_accuracies:\n",
    "                maintain_acc = (maintain_test_preds == maintain_test_labels[fact]).sum() / len(maintain_test_labels[fact])\n",
    "                all_maintain_accs[model_name][layer][fact] = maintain_acc \n",
    "            else:\n",
    "                facts_maintain_preds[fact] = maintain_test_preds\n",
    "\n",
    "        if combine_accuracies:\n",
    "            # combine accuracies by saying probes correct if all facts are correct\n",
    "            train_correct = np.ones(len(train_labels[\"baseball\"]))\n",
    "            test_correct = np.ones(len(test_labels[\"baseball\"]))\n",
    "            forget_correct = np.ones(len(forget_test_labels[\"baseball\"]))\n",
    "            maintain_correct = np.ones(len(maintain_test_labels[\"baseball\"]))\n",
    "            for fact in train_labels:\n",
    "                if sum(train_labels[fact]) > 0:\n",
    "                    train_correct *= (facts_train_preds[fact] == train_labels[fact])\n",
    "                else:\n",
    "                    print(\"No train labels for fact\", fact)\n",
    "                if sum(test_labels[fact]) > 0:\n",
    "                    test_correct *= (facts_test_preds[fact] == test_labels[fact])\n",
    "                else:\n",
    "                    print(\"No test labels for fact\", fact)\n",
    "                if sum(forget_test_labels[fact]) > 0:\n",
    "                    forget_correct *= (facts_forget_preds[fact] == forget_test_labels[fact])\n",
    "                else:\n",
    "                    print(\"No forget labels for fact\", fact)\n",
    "                if sum(maintain_test_labels[fact]) > 0:\n",
    "                    maintain_correct *= (facts_maintain_preds[fact] == maintain_test_labels[fact])\n",
    "                else:\n",
    "                    print(\"No maintain labels for fact\", fact)\n",
    "\n",
    "            all_train_accs[model_name][layer] = train_correct.mean()\n",
    "            all_test_accs[model_name][layer] = test_correct.mean()\n",
    "            all_forget_accs[model_name][layer] = forget_correct.mean()\n",
    "            all_maintain_accs[model_name][layer] = maintain_correct.mean()\n",
    "\n",
    "with open(f\"{save_dir}/results/probes_{model_type}_{combine_heads=}_{beta=}_unlearn_{forget_fact=}_{forget_athletes=}.pkl\", \"wb\") as f:\n",
    "    pickle.dump({\"all_probes\": all_probes, \"all_train_accs\": all_train_accs, \"all_test_accs\": all_test_accs, \"all_forget_accs\": all_forget_accs, \"all_maintain_accs\": all_maintain_accs}, f)"
   ]
  },
  {
   "cell_type": "code",
   "execution_count": null,
   "metadata": {},
   "outputs": [],
   "source": [
    "# for i in range(n_layers):\n",
    "#     print(f\"At layer {i}, {(all_probes['localized_ap'][i]['basketball'].coef_ - all_probes['localized_ct'][i]['basketball'].coef_).sum()}\")"
   ]
  },
  {
   "cell_type": "code",
   "execution_count": null,
   "metadata": {},
   "outputs": [
    {
     "data": {
      "image/png": "[encoded data removed]",
      "text/plain": [
       "<Figure size 1000x600 with 1 Axes>"
      ]
     },
     "metadata": {},
     "output_type": "display_data"
    }
   ],
   "source": [
    "import matplotlib.pyplot as plt\n",
    "# combine_heads = False #accidentally set this earlier, but its not actually False in the models\n",
    "with open(f\"{save_dir}/results/probes_{model_type}_{combine_heads=}_{beta=}_unlearn_{forget_fact=}_{forget_athletes=}.pkl\", \"rb\") as f:\n",
    "    results = pickle.load(f)\n",
    "    all_probes = results['all_probes']\n",
    "    all_train_accs = results['all_train_accs']\n",
    "    all_test_accs = results['all_test_accs']\n",
    "    all_forget_accs = results['all_forget_accs']\n",
    "    all_maintain_accs = results['all_maintain_accs']\n",
    "\n",
    "# combine_accuracies = True\n",
    "if combine_accuracies:\n",
    "    def plot_accuracies(all_train_accs, all_test_accs, all_forget_accs, all_maintain_accs):\n",
    "        for model_name in all_train_accs.keys():\n",
    "            layers = list(all_train_accs[model_name].keys())\n",
    "            train_accs = [all_train_accs[model_name][layer] for layer in layers]\n",
    "            test_accs = [all_test_accs[model_name][layer] for layer in layers]\n",
    "            forget_accs = [all_forget_accs[model_name][layer] for layer in layers]\n",
    "            maintain_accs = [all_maintain_accs[model_name][layer] for layer in layers]\n",
    "\n",
    "            plt.figure(figsize=(10, 6))\n",
    "            plt.plot(layers, train_accs, label='Train Accuracy', alpha=0.5, linestyle='--')\n",
    "            # plt.plot(layers, test_accs, label='Test Accuracy')\n",
    "            plt.plot(layers, forget_accs, label='Forget Accuracy')\n",
    "            plt.plot(layers, maintain_accs, label='Maintain Accuracy')\n",
    "            \n",
    "            plt.xlabel('Layer')\n",
    "            plt.ylabel('Accuracy')\n",
    "            plt.title(f'Accuracy per Layer for {model_name}')\n",
    "            plt.legend()\n",
    "            plt.grid(True)\n",
    "            plt.show()\n",
    "\n",
    "    # Call the function to plot the accuracies\n",
    "    plot_accuracies(all_train_accs, all_test_accs, all_forget_accs, all_maintain_accs)\n",
    "\n",
    "else:\n",
    "    def plot_accuracies(all_train_accs, all_test_accs):\n",
    "        facts = [\"baseball\", \"football\", \"basketball\"]\n",
    "        \n",
    "        for model_name in all_train_accs.keys():\n",
    "            layers = list(all_train_accs[model_name].keys())\n",
    "            \n",
    "            plt.figure(figsize=(12, 8))\n",
    "            \n",
    "            for fact in facts:\n",
    "                train_accs = [all_train_accs[model_name][layer].get(fact, 0) for layer in layers]\n",
    "                test_accs = [all_test_accs[model_name][layer].get(fact, 0) for layer in layers]\n",
    "                # forget_accs = [all_forget_accs[model_name][layer].get(fact, 0) for layer in layers]\n",
    "                # maintain_accs = [all_maintain_accs[model_name][layer].get(fact, 0) for layer in layers]\n",
    "                \n",
    "                plt.plot(layers, train_accs, label=f'Train Accuracy - {fact}', linestyle='--', alpha=0.5)\n",
    "                plt.plot(layers, test_accs, label=f'Test Accuracy - {fact}')\n",
    "                # plt.plot(layers, forget_accs, label=f'Forget Accuracy - {fact}')\n",
    "                # plt.plot(layers, maintain_accs, label=f'Maintain Accuracy - {fact}')\n",
    "            \n",
    "            plt.xlabel('Layer')\n",
    "            plt.ylabel('Accuracy')\n",
    "            plt.title(f'Accuracy per Layer for {model_name}')\n",
    "            plt.legend()\n",
    "            plt.grid(True)\n",
    "            plt.show()\n",
    "\n",
    "    # Call the function to plot the accuracies\n",
    "    plot_accuracies(all_train_accs, all_test_accs)"
   ]
  },
  {
   "cell_type": "code",
   "execution_count": null,
   "metadata": {},
   "outputs": [
    {
     "data": {
      "image/png": "[encoded data removed]",
      "text/plain": [
       "<Figure size 1200x800 with 1 Axes>"
      ]
     },
     "metadata": {},
     "output_type": "display_data"
    }
   ],
   "source": [
    "import matplotlib.pyplot as plt\n",
    "\n",
    "def plot_final_accuracies(all_accs, formal=True):\n",
    "    # colors = plt.cm.get_cmap('tab10', len(all_train_accs))  # Get a colormap with enough colors for all models\n",
    "\n",
    "    plt.figure(figsize=(12, 8))\n",
    "    \n",
    "    for idx, model_name in enumerate(all_train_accs.keys()):\n",
    "        layers = list(all_train_accs[model_name].keys())\n",
    "        accs = [all_accs[model_name][layer] for layer in layers]\n",
    "\n",
    "        # plt.plot(layers, train_accs, label=f'{model_name} Train', color=colors(idx), linestyle=line_styles[0], alpha=0.5)\n",
    "        # plt.plot(layers, forget_accs, label=f'{model_name} Forget', color=colors[idx], linestyle=line_styles[1])\n",
    "        plt.plot(layers, accs, label=f'{formal_name_dict[model_name]}', color=color_map[model_name], marker='o')\n",
    "    \n",
    "    plt.xlabel('Layer')\n",
    "    plt.ylabel('Accuracy')\n",
    "\n",
    "# Call the function to plot the accuracies\n",
    "plot_final_accuracies(all_maintain_accs)\n",
    "plt.title('Probe Accuracy on Maintain Athletes')\n",
    "plt.legend()\n",
    "plt.grid(True)\n",
    "plt.show()\n"
   ]
  },
  {
   "cell_type": "code",
   "execution_count": null,
   "metadata": {},
   "outputs": [
    {
     "data": {
      "image/png": "[encoded data removed]",
      "text/plain": [
       "<Figure size 1200x800 with 1 Axes>"
      ]
     },
     "metadata": {},
     "output_type": "display_data"
    }
   ],
   "source": [
    "plot_final_accuracies(all_forget_accs)\n",
    "plt.title('Probe Accuracy on Forget Athletes')\n",
    "plt.legend()\n",
    "plt.grid(True)\n",
    "plt.show()"
   ]
  },
  {
   "cell_type": "markdown",
   "metadata": {},
   "source": [
    "## Upload models to Huggingface"
   ]
  },
  {
   "cell_type": "code",
   "execution_count": null,
   "metadata": {},
   "outputs": [
    {
     "name": "stdout",
     "output_type": "stream",
     "text": [
      "Saving from results/localized_finetuning_injection_16_athletes to PhillipGuo/mech_unlearning_gemma7b_injection_16_athletes\n"
     ]
    },
    {
     "name": "stderr",
     "output_type": "stream",
     "text": [
      "/data/phillip_guo/miniconda3/envs/unlrn/lib/python3.10/site-packages/huggingface_hub/utils/_experimental.py:58: UserWarning: 'plan_multi_commits' is experimental and might be subject to breaking changes in the future. You can disable this warning by setting `HF_HUB_DISABLE_EXPERIMENTAL_WARNING=1` as environment variable.\n",
      "  warnings.warn(\n",
      "/data/phillip_guo/miniconda3/envs/unlrn/lib/python3.10/site-packages/huggingface_hub/utils/_experimental.py:58: UserWarning: 'HfApi.create_commits_on_pr' is experimental and might be subject to breaking changes in the future. You can disable this warning by setting `HF_HUB_DISABLE_EXPERIMENTAL_WARNING=1` as environment variable.\n",
      "  warnings.warn(\n",
      "Will create 0 deletion commit(s) and 7 addition commit(s), totalling 16 atomic operations.\n",
      "Multi-commits strategy with ID f2d34c0ea5a095db9342b80cd7366dcacebaa7f27c0b7f38a958926f82c03bff.\n",
      "PR already exists: https://huggingface.co/PhillipGuo/mech_unlearning_gemma7b_injection_16_athletes/discussions/1. Will resume process where it stopped.\n",
      "Found 4 existing commits on the PR.\n",
      "3 commits remaining (0 deletion commits and 3 addition commits)\n"
     ]
    },
    {
     "data": {
      "application/vnd.jupyter.widget-view+json": {
       "model_id": "50ccf43fe9894014bc10b7c16ae8a708",
       "version_major": 2,
       "version_minor": 0
      },
      "text/plain": [
       "gemma_nonlocalized_combine_heads=True_beta=3_unlearn_forget_sport=None_forget_athletes=16.pt:   0%|          |…"
      ]
     },
     "metadata": {},
     "output_type": "display_data"
    },
    {
     "name": "stderr",
     "output_type": "stream",
     "text": [
      "  step eecf9d0ce7d4ce515aa1d9ecba310b1171689d14a8edae98bb64bc8dfe372127 completed (still 2 to go).\n"
     ]
    },
    {
     "data": {
      "application/vnd.jupyter.widget-view+json": {
       "model_id": "353081d1e9a5400d97896026b334d3b4",
       "version_major": 2,
       "version_minor": 0
      },
      "text/plain": [
       "gemma_random_combine_heads=True_beta=3_unlearn_forget_sport=None_forget_athletes=16.pt:   0%|          | 0.00/…"
      ]
     },
     "metadata": {},
     "output_type": "display_data"
    },
    {
     "name": "stderr",
     "output_type": "stream",
     "text": [
      "  step 9e3198da218a70494b4c01214f5a9f01c1b7cb8a2066ce3a1ac8fefa36b226b4 completed (still 1 to go).\n"
     ]
    },
    {
     "data": {
      "application/vnd.jupyter.widget-view+json": {
       "model_id": "844313da15984c1b91994713cde6d312",
       "version_major": 2,
       "version_minor": 0
      },
      "text/plain": [
       "eval_metrics.pkl:   0%|          | 0.00/2.75k [00:00<?, ?B/s]"
      ]
     },
     "metadata": {},
     "output_type": "display_data"
    },
    {
     "data": {
      "application/vnd.jupyter.widget-view+json": {
       "model_id": "6b7dcf00b79547febc69fe3c6a27b2b2",
       "version_major": 2,
       "version_minor": 0
      },
      "text/plain": [
       "full_capability_dict.pkl:   0%|          | 0.00/38.4k [00:00<?, ?B/s]"
      ]
     },
     "metadata": {},
     "output_type": "display_data"
    },
    {
     "data": {
      "application/vnd.jupyter.widget-view+json": {
       "model_id": "6f22a9aa5b044563b526c3ad45ae5b68",
       "version_major": 2,
       "version_minor": 0
      },
      "text/plain": [
       "gemma_localized_ap_combine_heads=True_beta=3_unlearn_forget_sport=None_forget_athletes=16_metrics.pkl:   0%|  …"
      ]
     },
     "metadata": {},
     "output_type": "display_data"
    },
    {
     "data": {
      "application/vnd.jupyter.widget-view+json": {
       "model_id": "dcb6fc87f36d4c51ac5e1a056d239336",
       "version_major": 2,
       "version_minor": 0
      },
      "text/plain": [
       "gemma_localized_ct_combine_heads=True_beta=3_unlearn_forget_sport=None_forget_athletes=16_metrics.pkl:   0%|  …"
      ]
     },
     "metadata": {},
     "output_type": "display_data"
    },
    {
     "data": {
      "application/vnd.jupyter.widget-view+json": {
       "model_id": "670000b160164920ae9c9a979d0f1be6",
       "version_major": 2,
       "version_minor": 0
      },
      "text/plain": [
       "Upload 10 LFS files:   0%|          | 0/10 [00:00<?, ?it/s]"
      ]
     },
     "metadata": {},
     "output_type": "display_data"
    },
    {
     "data": {
      "application/vnd.jupyter.widget-view+json": {
       "model_id": "92842287252d4c64aa142b2285002d10",
       "version_major": 2,
       "version_minor": 0
      },
      "text/plain": [
       "gemma_all_mlps_combine_heads=True_beta=3_unlearn_forget_sport=None_forget_athletes=16_metrics.pkl:   0%|      …"
      ]
     },
     "metadata": {},
     "output_type": "display_data"
    },
    {
     "data": {
      "application/vnd.jupyter.widget-view+json": {
       "model_id": "80ab68415faf4674b0c52a37d3c0c754",
       "version_major": 2,
       "version_minor": 0
      },
      "text/plain": [
       "gemma_manual_interp_combine_heads=True_beta=3_unlearn_forget_sport=None_forget_athletes=16_metrics.pkl:   0%| …"
      ]
     },
     "metadata": {},
     "output_type": "display_data"
    },
    {
     "data": {
      "application/vnd.jupyter.widget-view+json": {
       "model_id": "b5e7a0abb19248d6bd49b5d0114ce044",
       "version_major": 2,
       "version_minor": 0
      },
      "text/plain": [
       "gemma_nonlocalized_combine_heads=True_beta=3_unlearn_forget_sport=None_forget_athletes=16_metrics.pkl:   0%|  …"
      ]
     },
     "metadata": {},
     "output_type": "display_data"
    },
    {
     "data": {
      "application/vnd.jupyter.widget-view+json": {
       "model_id": "8b25c5ddb5a44d9883063e1f4633acb1",
       "version_major": 2,
       "version_minor": 0
      },
      "text/plain": [
       "gemma_random_combine_heads=True_beta=3_unlearn_forget_sport=None_forget_athletes=16_metrics.pkl:   0%|        …"
      ]
     },
     "metadata": {},
     "output_type": "display_data"
    },
    {
     "data": {
      "application/vnd.jupyter.widget-view+json": {
       "model_id": "e42abc3e0d8b498186c16345a7f4db04",
       "version_major": 2,
       "version_minor": 0
      },
      "text/plain": [
       "probes_gemma_combine_heads=True_beta=3_unlearn_forget_sport=None_forget_athletes=16.pkl:   0%|          | 0.00…"
      ]
     },
     "metadata": {},
     "output_type": "display_data"
    },
    {
     "data": {
      "application/vnd.jupyter.widget-view+json": {
       "model_id": "8d1dc9d130f54750a8cffa58d5d94c3f",
       "version_major": 2,
       "version_minor": 0
      },
      "text/plain": [
       "relearning_n_relearn_athletes=2_n_relearn_iters=10_gemma_combine_heads=True_beta=3_unlearn_forget_sport=None_f…"
      ]
     },
     "metadata": {},
     "output_type": "display_data"
    },
    {
     "name": "stderr",
     "output_type": "stream",
     "text": [
      "  step 061e4e22ee9f39166ff5daa38c049552ac1c1818fb7d6bd6d65d5796a8b45c39 completed (still 0 to go).\n",
      "All commits have been pushed.\n",
      "PR is now open for reviews.\n",
      "PR has been automatically merged (`merge_pr=True` was passed).\n"
     ]
    },
    {
     "name": "stdout",
     "output_type": "stream",
     "text": [
      "Saving from results/localized_finetuning_injection_basketball to PhillipGuo/mech_unlearning_gemma7b_injection_basketball\n"
     ]
    },
    {
     "name": "stderr",
     "output_type": "stream",
     "text": [
      "Will create 0 deletion commit(s) and 7 addition commit(s), totalling 16 atomic operations.\n",
      "Multi-commits strategy with ID 7acd7830c09dea54475295018544485429b24b10f2b89c4d9cd459bcf304b016.\n",
      "New PR created: https://huggingface.co/PhillipGuo/mech_unlearning_gemma7b_injection_basketball/discussions/1\n"
     ]
    },
    {
     "data": {
      "application/vnd.jupyter.widget-view+json": {
       "model_id": "90bcf916495a4dd98f002e84225b7037",
       "version_major": 2,
       "version_minor": 0
      },
      "text/plain": [
       "gemma_all_mlps_combine_heads=True_beta=3_unlearn_forget_sport='basketball'_forget_athletes=None.pt:   0%|     …"
      ]
     },
     "metadata": {},
     "output_type": "display_data"
    },
    {
     "name": "stderr",
     "output_type": "stream",
     "text": [
      "  step b49df7e4ef2823061769b1dda01efb8255c7393fa2c19471ca0a6dbb1ed35bad completed (still 6 to go).\n"
     ]
    },
    {
     "data": {
      "application/vnd.jupyter.widget-view+json": {
       "model_id": "70ec67e7b0ea4c4381071ea9c9187913",
       "version_major": 2,
       "version_minor": 0
      },
      "text/plain": [
       "gemma_localized_ap_combine_heads=True_beta=3_unlearn_forget_sport='basketball'_forget_athletes=None.pt:   0%| …"
      ]
     },
     "metadata": {},
     "output_type": "display_data"
    },
    {
     "name": "stderr",
     "output_type": "stream",
     "text": [
      "  step 3b8bd3b0db6d662e22b515d9252d23015f5cd4d7995b6469b3c3e3191a22949d completed (still 5 to go).\n"
     ]
    },
    {
     "data": {
      "application/vnd.jupyter.widget-view+json": {
       "model_id": "3ca18e4a2a7f403eb37ec29054ba1ed6",
       "version_major": 2,
       "version_minor": 0
      },
      "text/plain": [
       "gemma_localized_ct_combine_heads=True_beta=3_unlearn_forget_sport='basketball'_forget_athletes=None.pt:   0%| …"
      ]
     },
     "metadata": {},
     "output_type": "display_data"
    },
    {
     "name": "stderr",
     "output_type": "stream",
     "text": [
      "  step d5e5a294bccbb596cce342973dbff71623e44d62f0fcd9159a7e9eeba2f919d0 completed (still 4 to go).\n"
     ]
    },
    {
     "data": {
      "application/vnd.jupyter.widget-view+json": {
       "model_id": "5370f179d6804bbda2f6e7dd05efef04",
       "version_major": 2,
       "version_minor": 0
      },
      "text/plain": [
       "gemma_manual_interp_combine_heads=True_beta=3_unlearn_forget_sport='basketball'_forget_athletes=None.pt:   0%|…"
      ]
     },
     "metadata": {},
     "output_type": "display_data"
    },
    {
     "name": "stderr",
     "output_type": "stream",
     "text": [
      "  step bc30fa6b78ab5df93350d7de5bd4e4e227af928ceec2e9114d0b1b762176bb7d completed (still 3 to go).\n"
     ]
    },
    {
     "data": {
      "application/vnd.jupyter.widget-view+json": {
       "model_id": "193bbe5eb57a407b9e819ceae4434efa",
       "version_major": 2,
       "version_minor": 0
      },
      "text/plain": [
       "gemma_nonlocalized_combine_heads=True_beta=3_unlearn_forget_sport='basketball'_forget_athletes=None.pt:   0%| …"
      ]
     },
     "metadata": {},
     "output_type": "display_data"
    },
    {
     "name": "stderr",
     "output_type": "stream",
     "text": [
      "  step 2e5d95417edd5b97066bff5e4e612c4437f99233bc07a58b4ccacd6a95a19885 completed (still 2 to go).\n"
     ]
    },
    {
     "data": {
      "application/vnd.jupyter.widget-view+json": {
       "model_id": "8a0e7e4309ce4c7193c9079ca1e04e78",
       "version_major": 2,
       "version_minor": 0
      },
      "text/plain": [
       "gemma_random_combine_heads=True_beta=3_unlearn_forget_sport='basketball'_forget_athletes=None.pt:   0%|       …"
      ]
     },
     "metadata": {},
     "output_type": "display_data"
    },
    {
     "name": "stderr",
     "output_type": "stream",
     "text": [
      "  step 8993df328c8812ef7168002992a63b12f0e7075c97471eeeb931d17c2285c174 completed (still 1 to go).\n"
     ]
    },
    {
     "data": {
      "application/vnd.jupyter.widget-view+json": {
       "model_id": "416acf16d7264874bea630f3a0a0d8c9",
       "version_major": 2,
       "version_minor": 0
      },
      "text/plain": [
       "Upload 10 LFS files:   0%|          | 0/10 [00:00<?, ?it/s]"
      ]
     },
     "metadata": {},
     "output_type": "display_data"
    },
    {
     "data": {
      "application/vnd.jupyter.widget-view+json": {
       "model_id": "698d1fb040d042518efac60398d414db",
       "version_major": 2,
       "version_minor": 0
      },
      "text/plain": [
       "gemma_all_mlps_combine_heads=True_beta=3_unlearn_forget_sport='basketball'_forget_athletes=None_metrics.pkl:  …"
      ]
     },
     "metadata": {},
     "output_type": "display_data"
    },
    {
     "data": {
      "application/vnd.jupyter.widget-view+json": {
       "model_id": "20dfa44717544a96ab20f0ba54bd6d0e",
       "version_major": 2,
       "version_minor": 0
      },
      "text/plain": [
       "full_capability_dict.pkl:   0%|          | 0.00/38.4k [00:00<?, ?B/s]"
      ]
     },
     "metadata": {},
     "output_type": "display_data"
    },
    {
     "data": {
      "application/vnd.jupyter.widget-view+json": {
       "model_id": "ae16e27b181e480a9b12577fe358f8da",
       "version_major": 2,
       "version_minor": 0
      },
      "text/plain": [
       "gemma_localized_ap_combine_heads=True_beta=3_unlearn_forget_sport='basketball'_forget_athletes=None_metrics.pk…"
      ]
     },
     "metadata": {},
     "output_type": "display_data"
    },
    {
     "data": {
      "application/vnd.jupyter.widget-view+json": {
       "model_id": "11f4d8c174ab48d0a824f00c283fbee8",
       "version_major": 2,
       "version_minor": 0
      },
      "text/plain": [
       "gemma_localized_ct_combine_heads=True_beta=3_unlearn_forget_sport='basketball'_forget_athletes=None_metrics.pk…"
      ]
     },
     "metadata": {},
     "output_type": "display_data"
    },
    {
     "data": {
      "application/vnd.jupyter.widget-view+json": {
       "model_id": "fc14ad92f32944ec8a0915e41c60b6ce",
       "version_major": 2,
       "version_minor": 0
      },
      "text/plain": [
       "eval_metrics.pkl:   0%|          | 0.00/2.75k [00:00<?, ?B/s]"
      ]
     },
     "metadata": {},
     "output_type": "display_data"
    },
    {
     "data": {
      "application/vnd.jupyter.widget-view+json": {
       "model_id": "e5d831594e4641ccb7be5ba3c0540895",
       "version_major": 2,
       "version_minor": 0
      },
      "text/plain": [
       "gemma_manual_interp_combine_heads=True_beta=3_unlearn_forget_sport='basketball'_forget_athletes=None_metrics.p…"
      ]
     },
     "metadata": {},
     "output_type": "display_data"
    },
    {
     "data": {
      "application/vnd.jupyter.widget-view+json": {
       "model_id": "510a082faa194219af57838c7b720227",
       "version_major": 2,
       "version_minor": 0
      },
      "text/plain": [
       "gemma_nonlocalized_combine_heads=True_beta=3_unlearn_forget_sport='basketball'_forget_athletes=None_metrics.pk…"
      ]
     },
     "metadata": {},
     "output_type": "display_data"
    },
    {
     "data": {
      "application/vnd.jupyter.widget-view+json": {
       "model_id": "2e30a1a901ae466584e23c1679e0070d",
       "version_major": 2,
       "version_minor": 0
      },
      "text/plain": [
       "gemma_random_combine_heads=True_beta=3_unlearn_forget_sport='basketball'_forget_athletes=None_metrics.pkl:   0…"
      ]
     },
     "metadata": {},
     "output_type": "display_data"
    },
    {
     "data": {
      "application/vnd.jupyter.widget-view+json": {
       "model_id": "c419ba0932284b66a78a1e688a6fa14c",
       "version_major": 2,
       "version_minor": 0
      },
      "text/plain": [
       "probes_gemma_combine_heads=True_beta=3_unlearn_forget_sport='basketball'_forget_athletes=None.pkl:   0%|      …"
      ]
     },
     "metadata": {},
     "output_type": "display_data"
    },
    {
     "data": {
      "application/vnd.jupyter.widget-view+json": {
       "model_id": "7602116240b54c8398b5d45a86e87c62",
       "version_major": 2,
       "version_minor": 0
      },
      "text/plain": [
       "relearning_n_relearn_athletes=2_n_relearn_iters=10_gemma_combine_heads=True_beta=3_unlearn_forget_sport='baske…"
      ]
     },
     "metadata": {},
     "output_type": "display_data"
    },
    {
     "name": "stderr",
     "output_type": "stream",
     "text": [
      "  step 2732acc62cd09ca9252f69e09f8bc0a82f940d5b8b04b226f8d42e96bc808e61 completed (still 0 to go).\n",
      "All commits have been pushed.\n",
      "PR is now open for reviews.\n",
      "PR has been automatically merged (`merge_pr=True` was passed).\n"
     ]
    }
   ],
   "source": [
    "from dotenv import load_dotenv\n",
    "import os \n",
    "\n",
    "load_dotenv()\n",
    "hf_access_token = os.getenv(\"HUGGINGFACE_API_KEY\")\n",
    "\n",
    "from huggingface_hub import HfApi, create_repo\n",
    "api = HfApi()\n",
    "\n",
    "# for folder_path in [\"localized_finetuning_16_athletes\", \"localized_finetuning_basketball\", \"localized_finetuning_injection_16_athletes\", \"localized_finetuning_injection_basketball\"]:\n",
    "for folder_path in [\"localized_finetuning_injection_16_athletes\", \"localized_finetuning_injection_basketball\"]:\n",
    "    finetuning_type = folder_path[21:]\n",
    "    print(f\"Saving from results/{folder_path} to PhillipGuo/mech_unlearning_gemma7b_{finetuning_type}\")\n",
    "    create_repo(f\"PhillipGuo/mech_unlearning_gemma7b_{finetuning_type}\", token=hf_access_token, exist_ok=True)\n",
    "    api.upload_folder(\n",
    "        folder_path=f\"results/{folder_path}\",        \n",
    "        repo_id=f\"PhillipGuo/mech_unlearning_gemma7b_{finetuning_type}\",\n",
    "        # repo_type=\"space\",\n",
    "        token=hf_access_token,\n",
    "        multi_commits=True,\n",
    "        multi_commits_verbose=True,\n",
    "    )"
   ]
  },
  {
   "cell_type": "code",
   "execution_count": null,
   "metadata": {},
   "outputs": [],
   "source": []
  }
 ],
 "metadata": {
  "kernelspec": {
   "display_name": "cb",
   "language": "python",
   "name": "cb"
  },
  "language_info": {
   "codemirror_mode": {
    "name": "ipython",
    "version": 3
   },
   "file_extension": ".py",
   "mimetype": "text/x-python",
   "name": "python",
   "nbconvert_exporter": "python",
   "pygments_lexer": "ipython3",
   "version": "3.12.5"
  }
 },
 "nbformat": 4,
 "nbformat_minor": 2
}
