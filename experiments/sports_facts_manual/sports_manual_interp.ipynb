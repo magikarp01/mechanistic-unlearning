{
 "cells": [
  {
   "cell_type": "code",
   "execution_count": 1,
   "metadata": {},
   "outputs": [
    {
     "name": "stderr",
     "output_type": "stream",
     "text": [
      "/root/venv/lib/python3.10/site-packages/IPython/core/magics/osm.py:393: UserWarning: This is now an optional IPython functionality, using bookmarks requires you to install the `pickleshare` library.\n",
      "  bkms = self.shell.db.get('bookmarks', {})\n"
     ]
    },
    {
     "name": "stdout",
     "output_type": "stream",
     "text": [
      "/root/mechanistic-unlearning\n"
     ]
    },
    {
     "name": "stderr",
     "output_type": "stream",
     "text": [
      "/root/venv/lib/python3.10/site-packages/tqdm/auto.py:21: TqdmWarning: IProgress not found. Please update jupyter and ipywidgets. See https://ipywidgets.readthedocs.io/en/stable/user_install.html\n",
      "  from .autonotebook import tqdm as notebook_tqdm\n"
     ]
    }
   ],
   "source": [
    "%cd ~/mechanistic-unlearning\n",
    "import functools\n",
    "import os\n",
    "import gc\n",
    "import json\n",
    "from tkinter import font\n",
    "\n",
    "from dataset.custom_dataset import PairedInstructionDataset\n",
    "import torch\n",
    "\n",
    "from transformer_lens import HookedTransformer\n",
    "\n",
    "from sklearn.linear_model import LogisticRegression\n",
    "from sklearn.model_selection import train_test_split\n",
    "\n",
    "import numpy as np\n",
    "from tqdm.auto import tqdm\n",
    "from datasets import load_dataset\n",
    "import einops\n",
    "from transformer_lens import ActivationCache\n",
    "\n",
    "device = torch.device(\"cuda\" if torch.cuda.is_available() else \"cpu\")\n"
   ]
  },
  {
   "cell_type": "code",
   "execution_count": 3,
   "metadata": {},
   "outputs": [],
   "source": [
    "MODELS = ['google/gemma-7b', 'google/gemma-2-9b', 'meta-llama/Meta-Llama-3-8B']\n",
    "model_name = MODELS[2]\n"
   ]
  },
  {
   "cell_type": "code",
   "execution_count": 4,
   "metadata": {},
   "outputs": [
    {
     "name": "stderr",
     "output_type": "stream",
     "text": [
      "Loading checkpoint shards: 100%|██████████| 4/4 [00:01<00:00,  3.25it/s]\n"
     ]
    },
    {
     "name": "stdout",
     "output_type": "stream",
     "text": [
      "Loaded pretrained model meta-llama/Meta-Llama-3-8B into HookedTransformer\n"
     ]
    }
   ],
   "source": [
    "model = HookedTransformer.from_pretrained(\n",
    "    model_name,\n",
    "    device='cuda',\n",
    "    default_padding_side=\"left\",\n",
    "    fold_ln=False,\n",
    "    fold_value_biases=False,\n",
    "    center_writing_weights=False,\n",
    "    dtype=torch.bfloat16\n",
    ")\n",
    "torch.set_grad_enabled(False)\n",
    "model.eval()\n",
    "model.half()\n",
    "tokenizer = model.tokenizer\n"
   ]
  },
  {
   "cell_type": "markdown",
   "metadata": {},
   "source": [
    "### Probing Functions"
   ]
  },
  {
   "cell_type": "code",
   "execution_count": 5,
   "metadata": {},
   "outputs": [],
   "source": [
    "# Need to \n",
    "# 1. Probe for correct sport with no changes\n",
    "# 2. Probe for correct sport with just <bos>name\n",
    "# 3. Probe after meal ablating attention heads after layer 2\n",
    "# 4. Probe after meal ablating attention heads after layer 2 and just <bos>name\n",
    "\n",
    "import pandas as pd\n",
    "\n",
    "df = pd.read_csv('experiments/sports_facts_manual/sports.csv')\n",
    "df = df[:500]\n",
    "\n",
    "def tokenize_instructions(tokenizer, instructions):\n",
    "    # Use this to put the text into INST tokens or add a system prompt\n",
    "    return tokenizer(\n",
    "        instructions,\n",
    "        padding=True,\n",
    "        truncation=False,\n",
    "        return_tensors=\"pt\",\n",
    "        # padding_side=\"left\",\n",
    "    ).input_ids\n",
    "\n",
    "def probe_last_layer(model, prompt_toks, targets):\n",
    "    with torch.set_grad_enabled(False), torch.cuda.amp.autocast(True, model.W_in.dtype):\n",
    "        _, cache = model.run_with_cache(\n",
    "            prompt_toks,\n",
    "            names_filter = lambda name: name == f\"blocks.{model.cfg.n_layers-1}.hook_resid_post\"\n",
    "        )\n",
    "        cache = cache[f\"blocks.{model.cfg.n_layers-1}.hook_resid_post\"][:, -1, :]\n",
    "\n",
    "    X = cache.cpu().float().numpy()\n",
    "    print(X.shape, len(targets))\n",
    "    target_classes = []\n",
    "    for target in targets:\n",
    "        if target == \"basketball\":\n",
    "            target_classes.append(0)\n",
    "        elif target == \"baseball\":\n",
    "            target_classes.append(1) \n",
    "        elif target == \"football\":\n",
    "            target_classes.append(2)\n",
    "    y = np.array(target_classes)\n",
    "    X_train, X_test, y_train, y_test = train_test_split(X, y, test_size=0.2, random_state=42)\n",
    "\n",
    "    # train logistic regression\n",
    "    clf = LogisticRegression(random_state=0, max_iter=1000).fit(X_train, y_train)\n",
    "\n",
    "    test_acc = clf.score(X_test, y_test)\n",
    "    print(f\"Accuracy: {test_acc}\")\n",
    "\n",
    "    return test_acc\n",
    "\n",
    "def probe_across_layers(model, prompt_toks, targets):\n",
    "\n",
    "    with torch.set_grad_enabled(False), torch.cuda.amp.autocast(True, model.W_in.dtype):\n",
    "        _, cache = model.run_with_cache(\n",
    "            prompt_toks,\n",
    "            names_filter = lambda name: 'resid_post' in name\n",
    "        )\n",
    "        cache = torch.stack([cache[key][:, -1, :] for key in cache.keys()], dim=0) # layer batch d_model\n",
    "\n",
    "    results = []\n",
    "    for layer in tqdm(range(model.cfg.n_layers)):\n",
    "        X = cache[layer].reshape(-1, cache[layer].shape[-1]).cpu().float().numpy()\n",
    "        target_classes = []\n",
    "        for target in targets:\n",
    "            if target == \"basketball\":\n",
    "                target_classes.append(0)\n",
    "            elif target == \"baseball\":\n",
    "                target_classes.append(1) \n",
    "            elif target == \"football\":\n",
    "                target_classes.append(2)\n",
    "        y = np.array(target_classes)\n",
    "        X_train, X_test, y_train, y_test = train_test_split(X, y, test_size=0.2, random_state=42)\n",
    "\n",
    "        # train logistic regression\n",
    "        clf = LogisticRegression(random_state=0, max_iter=200, solver='sag', n_jobs=64).fit(X_train, y_train)\n",
    "\n",
    "        test_acc = clf.score(X_test, y_test)\n",
    "        print(f\"Layer {layer} Accuracy: {test_acc}\")\n",
    "        results.append(test_acc)\n",
    "\n",
    "    return results\n",
    "\n",
    "def get_mean_cache(model, hook_name=\"attn_out\"):\n",
    "    pile = iter(load_dataset('monology/pile-uncopyrighted', split='train', streaming=True))\n",
    "    text = [next(pile)['text'] for i in range(25)]\n",
    "    # tokenize text, truncating to the first 50 tokens\n",
    "    toks = tokenizer(\n",
    "        text,\n",
    "        padding=True,\n",
    "        truncation=True,\n",
    "        return_tensors=\"pt\",\n",
    "        max_length=50,\n",
    "    ).input_ids\n",
    "    print(toks.shape)\n",
    "    with torch.set_grad_enabled(False), torch.cuda.amp.autocast(True, model.W_in.dtype):\n",
    "        _, mean_cache = model.run_with_cache(\n",
    "            toks,\n",
    "            names_filter = lambda name: any([h_name in name for h_name in [hook_name]])\n",
    "        )\n",
    "    return mean_cache\n",
    "\n",
    "def mean_ablate_hook(act, hook, mean_cache):\n",
    "    if hook.layer() >= 5:\n",
    "        print(f'Hooked {hook.name}')\n",
    "        act = mean_cache[hook.name]\n",
    "    return act\n"
   ]
  },
  {
   "cell_type": "markdown",
   "metadata": {},
   "source": [
    "### Probing to find the FLU layers"
   ]
  },
  {
   "cell_type": "code",
   "execution_count": 6,
   "metadata": {},
   "outputs": [
    {
     "name": "stdout",
     "output_type": "stream",
     "text": [
      "Getting mean cache\n",
      "torch.Size([25, 50])\n",
      "Got mean cache\n",
      "start probing\n",
      "tokenized\n"
     ]
    },
    {
     "name": "stderr",
     "output_type": "stream",
     "text": [
      "  3%|▎         | 1/32 [00:01<00:43,  1.40s/it]"
     ]
    },
    {
     "name": "stdout",
     "output_type": "stream",
     "text": [
      "Layer 0 Accuracy: 0.36\n"
     ]
    },
    {
     "name": "stderr",
     "output_type": "stream",
     "text": [
      "  6%|▋         | 2/32 [00:02<00:35,  1.18s/it]"
     ]
    },
    {
     "name": "stdout",
     "output_type": "stream",
     "text": [
      "Layer 1 Accuracy: 0.36\n"
     ]
    },
    {
     "name": "stderr",
     "output_type": "stream",
     "text": [
      "  9%|▉         | 3/32 [00:03<00:34,  1.18s/it]"
     ]
    },
    {
     "name": "stdout",
     "output_type": "stream",
     "text": [
      "Layer 2 Accuracy: 0.41\n"
     ]
    },
    {
     "name": "stderr",
     "output_type": "stream",
     "text": [
      " 12%|█▎        | 4/32 [00:05<00:40,  1.46s/it]"
     ]
    },
    {
     "name": "stdout",
     "output_type": "stream",
     "text": [
      "Layer 3 Accuracy: 0.75\n"
     ]
    },
    {
     "name": "stderr",
     "output_type": "stream",
     "text": [
      " 16%|█▌        | 5/32 [00:09<01:01,  2.28s/it]"
     ]
    },
    {
     "name": "stdout",
     "output_type": "stream",
     "text": [
      "Layer 4 Accuracy: 0.96\n"
     ]
    },
    {
     "name": "stderr",
     "output_type": "stream",
     "text": [
      " 19%|█▉        | 6/32 [00:14<01:28,  3.40s/it]"
     ]
    },
    {
     "name": "stdout",
     "output_type": "stream",
     "text": [
      "Layer 5 Accuracy: 0.98\n"
     ]
    },
    {
     "name": "stderr",
     "output_type": "stream",
     "text": [
      "/root/venv/lib/python3.10/site-packages/sklearn/linear_model/_sag.py:350: ConvergenceWarning: The max_iter was reached which means the coef_ did not converge\n",
      "  warnings.warn(\n",
      " 22%|██▏       | 7/32 [00:22<01:58,  4.74s/it]"
     ]
    },
    {
     "name": "stdout",
     "output_type": "stream",
     "text": [
      "Layer 6 Accuracy: 0.98\n"
     ]
    },
    {
     "name": "stderr",
     "output_type": "stream",
     "text": [
      " 25%|██▌       | 8/32 [00:29<02:12,  5.52s/it]"
     ]
    },
    {
     "name": "stdout",
     "output_type": "stream",
     "text": [
      "Layer 7 Accuracy: 0.97\n"
     ]
    },
    {
     "name": "stderr",
     "output_type": "stream",
     "text": [
      "/root/venv/lib/python3.10/site-packages/sklearn/linear_model/_sag.py:350: ConvergenceWarning: The max_iter was reached which means the coef_ did not converge\n",
      "  warnings.warn(\n",
      " 28%|██▊       | 9/32 [00:36<02:21,  6.14s/it]"
     ]
    },
    {
     "name": "stdout",
     "output_type": "stream",
     "text": [
      "Layer 8 Accuracy: 0.97\n"
     ]
    },
    {
     "name": "stderr",
     "output_type": "stream",
     "text": [
      "/root/venv/lib/python3.10/site-packages/sklearn/linear_model/_sag.py:350: ConvergenceWarning: The max_iter was reached which means the coef_ did not converge\n",
      "  warnings.warn(\n",
      " 31%|███▏      | 10/32 [00:44<02:24,  6.56s/it]"
     ]
    },
    {
     "name": "stdout",
     "output_type": "stream",
     "text": [
      "Layer 9 Accuracy: 0.98\n"
     ]
    },
    {
     "name": "stderr",
     "output_type": "stream",
     "text": [
      " 34%|███▍      | 11/32 [00:47<01:56,  5.53s/it]"
     ]
    },
    {
     "name": "stdout",
     "output_type": "stream",
     "text": [
      "Layer 10 Accuracy: 0.95\n"
     ]
    },
    {
     "name": "stderr",
     "output_type": "stream",
     "text": [
      " 38%|███▊      | 12/32 [00:49<01:30,  4.54s/it]"
     ]
    },
    {
     "name": "stdout",
     "output_type": "stream",
     "text": [
      "Layer 11 Accuracy: 0.94\n"
     ]
    },
    {
     "name": "stderr",
     "output_type": "stream",
     "text": [
      " 41%|████      | 13/32 [00:51<01:11,  3.74s/it]"
     ]
    },
    {
     "name": "stdout",
     "output_type": "stream",
     "text": [
      "Layer 12 Accuracy: 0.96\n"
     ]
    },
    {
     "name": "stderr",
     "output_type": "stream",
     "text": [
      " 44%|████▍     | 14/32 [00:53<00:58,  3.24s/it]"
     ]
    },
    {
     "name": "stdout",
     "output_type": "stream",
     "text": [
      "Layer 13 Accuracy: 0.99\n"
     ]
    },
    {
     "name": "stderr",
     "output_type": "stream",
     "text": [
      " 47%|████▋     | 15/32 [00:56<00:53,  3.13s/it]"
     ]
    },
    {
     "name": "stdout",
     "output_type": "stream",
     "text": [
      "Layer 14 Accuracy: 1.0\n"
     ]
    },
    {
     "name": "stderr",
     "output_type": "stream",
     "text": [
      " 50%|█████     | 16/32 [01:00<00:54,  3.41s/it]"
     ]
    },
    {
     "name": "stdout",
     "output_type": "stream",
     "text": [
      "Layer 15 Accuracy: 1.0\n"
     ]
    },
    {
     "name": "stderr",
     "output_type": "stream",
     "text": [
      " 53%|█████▎    | 17/32 [01:05<00:57,  3.85s/it]"
     ]
    },
    {
     "name": "stdout",
     "output_type": "stream",
     "text": [
      "Layer 16 Accuracy: 1.0\n"
     ]
    },
    {
     "name": "stderr",
     "output_type": "stream",
     "text": [
      " 56%|█████▋    | 18/32 [01:11<01:02,  4.49s/it]"
     ]
    },
    {
     "name": "stdout",
     "output_type": "stream",
     "text": [
      "Layer 17 Accuracy: 1.0\n"
     ]
    },
    {
     "name": "stderr",
     "output_type": "stream",
     "text": [
      " 59%|█████▉    | 19/32 [01:18<01:05,  5.08s/it]"
     ]
    },
    {
     "name": "stdout",
     "output_type": "stream",
     "text": [
      "Layer 18 Accuracy: 1.0\n"
     ]
    },
    {
     "name": "stderr",
     "output_type": "stream",
     "text": [
      "/root/venv/lib/python3.10/site-packages/sklearn/linear_model/_sag.py:350: ConvergenceWarning: The max_iter was reached which means the coef_ did not converge\n",
      "  warnings.warn(\n",
      " 62%|██████▎   | 20/32 [01:25<01:09,  5.80s/it]"
     ]
    },
    {
     "name": "stdout",
     "output_type": "stream",
     "text": [
      "Layer 19 Accuracy: 1.0\n"
     ]
    },
    {
     "name": "stderr",
     "output_type": "stream",
     "text": [
      "/root/venv/lib/python3.10/site-packages/sklearn/linear_model/_sag.py:350: ConvergenceWarning: The max_iter was reached which means the coef_ did not converge\n",
      "  warnings.warn(\n",
      " 66%|██████▌   | 21/32 [01:33<01:09,  6.31s/it]"
     ]
    },
    {
     "name": "stdout",
     "output_type": "stream",
     "text": [
      "Layer 20 Accuracy: 1.0\n"
     ]
    },
    {
     "name": "stderr",
     "output_type": "stream",
     "text": [
      "/root/venv/lib/python3.10/site-packages/sklearn/linear_model/_sag.py:350: ConvergenceWarning: The max_iter was reached which means the coef_ did not converge\n",
      "  warnings.warn(\n",
      " 69%|██████▉   | 22/32 [01:40<01:06,  6.67s/it]"
     ]
    },
    {
     "name": "stdout",
     "output_type": "stream",
     "text": [
      "Layer 21 Accuracy: 1.0\n"
     ]
    },
    {
     "name": "stderr",
     "output_type": "stream",
     "text": [
      "/root/venv/lib/python3.10/site-packages/sklearn/linear_model/_sag.py:350: ConvergenceWarning: The max_iter was reached which means the coef_ did not converge\n",
      "  warnings.warn(\n",
      " 72%|███████▏  | 23/32 [01:48<01:02,  6.92s/it]"
     ]
    },
    {
     "name": "stdout",
     "output_type": "stream",
     "text": [
      "Layer 22 Accuracy: 1.0\n"
     ]
    },
    {
     "name": "stderr",
     "output_type": "stream",
     "text": [
      " 72%|███████▏  | 23/32 [01:53<00:44,  4.93s/it]\n"
     ]
    },
    {
     "ename": "KeyboardInterrupt",
     "evalue": "",
     "output_type": "error",
     "traceback": [
      "\u001b[0;31m---------------------------------------------------------------------------\u001b[0m",
      "\u001b[0;31mKeyboardInterrupt\u001b[0m                         Traceback (most recent call last)",
      "\u001b[1;32m/root/mechanistic-unlearning/experiments/sports_facts_manual/sports_manual_interp.ipynb Cell 8\u001b[0m line \u001b[0;36m2\n\u001b[1;32m     <a href='vscode-notebook-cell://ssh-remote%2Bvast/root/mechanistic-unlearning/experiments/sports_facts_manual/sports_manual_interp.ipynb#X10sdnNjb2RlLXJlbW90ZQ%3D%3D?line=19'>20</a>\u001b[0m \u001b[39mprint\u001b[39m(\u001b[39m'\u001b[39m\u001b[39mtokenized\u001b[39m\u001b[39m'\u001b[39m)\n\u001b[1;32m     <a href='vscode-notebook-cell://ssh-remote%2Bvast/root/mechanistic-unlearning/experiments/sports_facts_manual/sports_manual_interp.ipynb#X10sdnNjb2RlLXJlbW90ZQ%3D%3D?line=20'>21</a>\u001b[0m model\u001b[39m.\u001b[39mreset_hooks()\n\u001b[0;32m---> <a href='vscode-notebook-cell://ssh-remote%2Bvast/root/mechanistic-unlearning/experiments/sports_facts_manual/sports_manual_interp.ipynb#X10sdnNjb2RlLXJlbW90ZQ%3D%3D?line=21'>22</a>\u001b[0m results[\u001b[39m'\u001b[39m\u001b[39mPrompt\u001b[39m\u001b[39m'\u001b[39m] \u001b[39m=\u001b[39m probe_across_layers(model, full_prompt_toks, df[\u001b[39m'\u001b[39;49m\u001b[39msport\u001b[39;49m\u001b[39m'\u001b[39;49m]\u001b[39m.\u001b[39;49mtolist())\n\u001b[1;32m     <a href='vscode-notebook-cell://ssh-remote%2Bvast/root/mechanistic-unlearning/experiments/sports_facts_manual/sports_manual_interp.ipynb#X10sdnNjb2RlLXJlbW90ZQ%3D%3D?line=23'>24</a>\u001b[0m \u001b[39m# Add mean ablate hooks\u001b[39;00m\n\u001b[1;32m     <a href='vscode-notebook-cell://ssh-remote%2Bvast/root/mechanistic-unlearning/experiments/sports_facts_manual/sports_manual_interp.ipynb#X10sdnNjb2RlLXJlbW90ZQ%3D%3D?line=24'>25</a>\u001b[0m model\u001b[39m.\u001b[39madd_hook(\n\u001b[1;32m     <a href='vscode-notebook-cell://ssh-remote%2Bvast/root/mechanistic-unlearning/experiments/sports_facts_manual/sports_manual_interp.ipynb#X10sdnNjb2RlLXJlbW90ZQ%3D%3D?line=25'>26</a>\u001b[0m     \u001b[39mlambda\u001b[39;00m name: \u001b[39m'\u001b[39m\u001b[39mattn_out\u001b[39m\u001b[39m'\u001b[39m \u001b[39min\u001b[39;00m name,\n\u001b[1;32m     <a href='vscode-notebook-cell://ssh-remote%2Bvast/root/mechanistic-unlearning/experiments/sports_facts_manual/sports_manual_interp.ipynb#X10sdnNjb2RlLXJlbW90ZQ%3D%3D?line=26'>27</a>\u001b[0m     functools\u001b[39m.\u001b[39mpartial(mean_ablate_hook, mean_cache\u001b[39m=\u001b[39mmean_cache),\n\u001b[1;32m     <a href='vscode-notebook-cell://ssh-remote%2Bvast/root/mechanistic-unlearning/experiments/sports_facts_manual/sports_manual_interp.ipynb#X10sdnNjb2RlLXJlbW90ZQ%3D%3D?line=27'>28</a>\u001b[0m     \u001b[39m\"\u001b[39m\u001b[39mfwd\u001b[39m\u001b[39m\"\u001b[39m\n\u001b[1;32m     <a href='vscode-notebook-cell://ssh-remote%2Bvast/root/mechanistic-unlearning/experiments/sports_facts_manual/sports_manual_interp.ipynb#X10sdnNjb2RlLXJlbW90ZQ%3D%3D?line=28'>29</a>\u001b[0m )\n",
      "\u001b[1;32m/root/mechanistic-unlearning/experiments/sports_facts_manual/sports_manual_interp.ipynb Cell 8\u001b[0m line \u001b[0;36m7\n\u001b[1;32m     <a href='vscode-notebook-cell://ssh-remote%2Bvast/root/mechanistic-unlearning/experiments/sports_facts_manual/sports_manual_interp.ipynb#X10sdnNjb2RlLXJlbW90ZQ%3D%3D?line=71'>72</a>\u001b[0m X_train, X_test, y_train, y_test \u001b[39m=\u001b[39m train_test_split(X, y, test_size\u001b[39m=\u001b[39m\u001b[39m0.2\u001b[39m, random_state\u001b[39m=\u001b[39m\u001b[39m42\u001b[39m)\n\u001b[1;32m     <a href='vscode-notebook-cell://ssh-remote%2Bvast/root/mechanistic-unlearning/experiments/sports_facts_manual/sports_manual_interp.ipynb#X10sdnNjb2RlLXJlbW90ZQ%3D%3D?line=73'>74</a>\u001b[0m \u001b[39m# train logistic regression\u001b[39;00m\n\u001b[0;32m---> <a href='vscode-notebook-cell://ssh-remote%2Bvast/root/mechanistic-unlearning/experiments/sports_facts_manual/sports_manual_interp.ipynb#X10sdnNjb2RlLXJlbW90ZQ%3D%3D?line=74'>75</a>\u001b[0m clf \u001b[39m=\u001b[39m LogisticRegression(random_state\u001b[39m=\u001b[39;49m\u001b[39m0\u001b[39;49m, max_iter\u001b[39m=\u001b[39;49m\u001b[39m200\u001b[39;49m, solver\u001b[39m=\u001b[39;49m\u001b[39m'\u001b[39;49m\u001b[39msag\u001b[39;49m\u001b[39m'\u001b[39;49m, n_jobs\u001b[39m=\u001b[39;49m\u001b[39m64\u001b[39;49m)\u001b[39m.\u001b[39;49mfit(X_train, y_train)\n\u001b[1;32m     <a href='vscode-notebook-cell://ssh-remote%2Bvast/root/mechanistic-unlearning/experiments/sports_facts_manual/sports_manual_interp.ipynb#X10sdnNjb2RlLXJlbW90ZQ%3D%3D?line=76'>77</a>\u001b[0m test_acc \u001b[39m=\u001b[39m clf\u001b[39m.\u001b[39mscore(X_test, y_test)\n\u001b[1;32m     <a href='vscode-notebook-cell://ssh-remote%2Bvast/root/mechanistic-unlearning/experiments/sports_facts_manual/sports_manual_interp.ipynb#X10sdnNjb2RlLXJlbW90ZQ%3D%3D?line=77'>78</a>\u001b[0m \u001b[39mprint\u001b[39m(\u001b[39mf\u001b[39m\u001b[39m\"\u001b[39m\u001b[39mLayer \u001b[39m\u001b[39m{\u001b[39;00mlayer\u001b[39m}\u001b[39;00m\u001b[39m Accuracy: \u001b[39m\u001b[39m{\u001b[39;00mtest_acc\u001b[39m}\u001b[39;00m\u001b[39m\"\u001b[39m)\n",
      "File \u001b[0;32m~/venv/lib/python3.10/site-packages/sklearn/base.py:1474\u001b[0m, in \u001b[0;36m_fit_context.<locals>.decorator.<locals>.wrapper\u001b[0;34m(estimator, *args, **kwargs)\u001b[0m\n\u001b[1;32m   1467\u001b[0m     estimator\u001b[39m.\u001b[39m_validate_params()\n\u001b[1;32m   1469\u001b[0m \u001b[39mwith\u001b[39;00m config_context(\n\u001b[1;32m   1470\u001b[0m     skip_parameter_validation\u001b[39m=\u001b[39m(\n\u001b[1;32m   1471\u001b[0m         prefer_skip_nested_validation \u001b[39mor\u001b[39;00m global_skip_validation\n\u001b[1;32m   1472\u001b[0m     )\n\u001b[1;32m   1473\u001b[0m ):\n\u001b[0;32m-> 1474\u001b[0m     \u001b[39mreturn\u001b[39;00m fit_method(estimator, \u001b[39m*\u001b[39;49margs, \u001b[39m*\u001b[39;49m\u001b[39m*\u001b[39;49mkwargs)\n",
      "File \u001b[0;32m~/venv/lib/python3.10/site-packages/sklearn/linear_model/_logistic.py:1296\u001b[0m, in \u001b[0;36mLogisticRegression.fit\u001b[0;34m(self, X, y, sample_weight)\u001b[0m\n\u001b[1;32m   1293\u001b[0m \u001b[39melse\u001b[39;00m:\n\u001b[1;32m   1294\u001b[0m     n_threads \u001b[39m=\u001b[39m \u001b[39m1\u001b[39m\n\u001b[0;32m-> 1296\u001b[0m fold_coefs_ \u001b[39m=\u001b[39m Parallel(n_jobs\u001b[39m=\u001b[39;49m\u001b[39mself\u001b[39;49m\u001b[39m.\u001b[39;49mn_jobs, verbose\u001b[39m=\u001b[39;49m\u001b[39mself\u001b[39;49m\u001b[39m.\u001b[39;49mverbose, prefer\u001b[39m=\u001b[39;49mprefer)(\n\u001b[1;32m   1297\u001b[0m     path_func(\n\u001b[1;32m   1298\u001b[0m         X,\n\u001b[1;32m   1299\u001b[0m         y,\n\u001b[1;32m   1300\u001b[0m         pos_class\u001b[39m=\u001b[39;49mclass_,\n\u001b[1;32m   1301\u001b[0m         Cs\u001b[39m=\u001b[39;49m[C_],\n\u001b[1;32m   1302\u001b[0m         l1_ratio\u001b[39m=\u001b[39;49m\u001b[39mself\u001b[39;49m\u001b[39m.\u001b[39;49ml1_ratio,\n\u001b[1;32m   1303\u001b[0m         fit_intercept\u001b[39m=\u001b[39;49m\u001b[39mself\u001b[39;49m\u001b[39m.\u001b[39;49mfit_intercept,\n\u001b[1;32m   1304\u001b[0m         tol\u001b[39m=\u001b[39;49m\u001b[39mself\u001b[39;49m\u001b[39m.\u001b[39;49mtol,\n\u001b[1;32m   1305\u001b[0m         verbose\u001b[39m=\u001b[39;49m\u001b[39mself\u001b[39;49m\u001b[39m.\u001b[39;49mverbose,\n\u001b[1;32m   1306\u001b[0m         solver\u001b[39m=\u001b[39;49msolver,\n\u001b[1;32m   1307\u001b[0m         multi_class\u001b[39m=\u001b[39;49mmulti_class,\n\u001b[1;32m   1308\u001b[0m         max_iter\u001b[39m=\u001b[39;49m\u001b[39mself\u001b[39;49m\u001b[39m.\u001b[39;49mmax_iter,\n\u001b[1;32m   1309\u001b[0m         class_weight\u001b[39m=\u001b[39;49m\u001b[39mself\u001b[39;49m\u001b[39m.\u001b[39;49mclass_weight,\n\u001b[1;32m   1310\u001b[0m         check_input\u001b[39m=\u001b[39;49m\u001b[39mFalse\u001b[39;49;00m,\n\u001b[1;32m   1311\u001b[0m         random_state\u001b[39m=\u001b[39;49m\u001b[39mself\u001b[39;49m\u001b[39m.\u001b[39;49mrandom_state,\n\u001b[1;32m   1312\u001b[0m         coef\u001b[39m=\u001b[39;49mwarm_start_coef_,\n\u001b[1;32m   1313\u001b[0m         penalty\u001b[39m=\u001b[39;49mpenalty,\n\u001b[1;32m   1314\u001b[0m         max_squared_sum\u001b[39m=\u001b[39;49mmax_squared_sum,\n\u001b[1;32m   1315\u001b[0m         sample_weight\u001b[39m=\u001b[39;49msample_weight,\n\u001b[1;32m   1316\u001b[0m         n_threads\u001b[39m=\u001b[39;49mn_threads,\n\u001b[1;32m   1317\u001b[0m     )\n\u001b[1;32m   1318\u001b[0m     \u001b[39mfor\u001b[39;49;00m class_, warm_start_coef_ \u001b[39min\u001b[39;49;00m \u001b[39mzip\u001b[39;49m(classes_, warm_start_coef)\n\u001b[1;32m   1319\u001b[0m )\n\u001b[1;32m   1321\u001b[0m fold_coefs_, _, n_iter_ \u001b[39m=\u001b[39m \u001b[39mzip\u001b[39m(\u001b[39m*\u001b[39mfold_coefs_)\n\u001b[1;32m   1322\u001b[0m \u001b[39mself\u001b[39m\u001b[39m.\u001b[39mn_iter_ \u001b[39m=\u001b[39m np\u001b[39m.\u001b[39masarray(n_iter_, dtype\u001b[39m=\u001b[39mnp\u001b[39m.\u001b[39mint32)[:, \u001b[39m0\u001b[39m]\n",
      "File \u001b[0;32m~/venv/lib/python3.10/site-packages/sklearn/utils/parallel.py:67\u001b[0m, in \u001b[0;36mParallel.__call__\u001b[0;34m(self, iterable)\u001b[0m\n\u001b[1;32m     62\u001b[0m config \u001b[39m=\u001b[39m get_config()\n\u001b[1;32m     63\u001b[0m iterable_with_config \u001b[39m=\u001b[39m (\n\u001b[1;32m     64\u001b[0m     (_with_config(delayed_func, config), args, kwargs)\n\u001b[1;32m     65\u001b[0m     \u001b[39mfor\u001b[39;00m delayed_func, args, kwargs \u001b[39min\u001b[39;00m iterable\n\u001b[1;32m     66\u001b[0m )\n\u001b[0;32m---> 67\u001b[0m \u001b[39mreturn\u001b[39;00m \u001b[39msuper\u001b[39;49m()\u001b[39m.\u001b[39;49m\u001b[39m__call__\u001b[39;49m(iterable_with_config)\n",
      "File \u001b[0;32m~/venv/lib/python3.10/site-packages/joblib/parallel.py:2007\u001b[0m, in \u001b[0;36mParallel.__call__\u001b[0;34m(self, iterable)\u001b[0m\n\u001b[1;32m   2001\u001b[0m \u001b[39m# The first item from the output is blank, but it makes the interpreter\u001b[39;00m\n\u001b[1;32m   2002\u001b[0m \u001b[39m# progress until it enters the Try/Except block of the generator and\u001b[39;00m\n\u001b[1;32m   2003\u001b[0m \u001b[39m# reaches the first `yield` statement. This starts the asynchronous\u001b[39;00m\n\u001b[1;32m   2004\u001b[0m \u001b[39m# dispatch of the tasks to the workers.\u001b[39;00m\n\u001b[1;32m   2005\u001b[0m \u001b[39mnext\u001b[39m(output)\n\u001b[0;32m-> 2007\u001b[0m \u001b[39mreturn\u001b[39;00m output \u001b[39mif\u001b[39;00m \u001b[39mself\u001b[39m\u001b[39m.\u001b[39mreturn_generator \u001b[39melse\u001b[39;00m \u001b[39mlist\u001b[39;49m(output)\n",
      "File \u001b[0;32m~/venv/lib/python3.10/site-packages/joblib/parallel.py:1650\u001b[0m, in \u001b[0;36mParallel._get_outputs\u001b[0;34m(self, iterator, pre_dispatch)\u001b[0m\n\u001b[1;32m   1647\u001b[0m     \u001b[39myield\u001b[39;00m\n\u001b[1;32m   1649\u001b[0m     \u001b[39mwith\u001b[39;00m \u001b[39mself\u001b[39m\u001b[39m.\u001b[39m_backend\u001b[39m.\u001b[39mretrieval_context():\n\u001b[0;32m-> 1650\u001b[0m         \u001b[39myield from\u001b[39;00m \u001b[39mself\u001b[39m\u001b[39m.\u001b[39m_retrieve()\n\u001b[1;32m   1652\u001b[0m \u001b[39mexcept\u001b[39;00m \u001b[39mGeneratorExit\u001b[39;00m:\n\u001b[1;32m   1653\u001b[0m     \u001b[39m# The generator has been garbage collected before being fully\u001b[39;00m\n\u001b[1;32m   1654\u001b[0m     \u001b[39m# consumed. This aborts the remaining tasks if possible and warn\u001b[39;00m\n\u001b[1;32m   1655\u001b[0m     \u001b[39m# the user if necessary.\u001b[39;00m\n\u001b[1;32m   1656\u001b[0m     \u001b[39mself\u001b[39m\u001b[39m.\u001b[39m_exception \u001b[39m=\u001b[39m \u001b[39mTrue\u001b[39;00m\n",
      "File \u001b[0;32m~/venv/lib/python3.10/site-packages/joblib/parallel.py:1762\u001b[0m, in \u001b[0;36mParallel._retrieve\u001b[0;34m(self)\u001b[0m\n\u001b[1;32m   1757\u001b[0m \u001b[39m# If the next job is not ready for retrieval yet, we just wait for\u001b[39;00m\n\u001b[1;32m   1758\u001b[0m \u001b[39m# async callbacks to progress.\u001b[39;00m\n\u001b[1;32m   1759\u001b[0m \u001b[39mif\u001b[39;00m ((\u001b[39mlen\u001b[39m(\u001b[39mself\u001b[39m\u001b[39m.\u001b[39m_jobs) \u001b[39m==\u001b[39m \u001b[39m0\u001b[39m) \u001b[39mor\u001b[39;00m\n\u001b[1;32m   1760\u001b[0m     (\u001b[39mself\u001b[39m\u001b[39m.\u001b[39m_jobs[\u001b[39m0\u001b[39m]\u001b[39m.\u001b[39mget_status(\n\u001b[1;32m   1761\u001b[0m         timeout\u001b[39m=\u001b[39m\u001b[39mself\u001b[39m\u001b[39m.\u001b[39mtimeout) \u001b[39m==\u001b[39m TASK_PENDING)):\n\u001b[0;32m-> 1762\u001b[0m     time\u001b[39m.\u001b[39;49msleep(\u001b[39m0.01\u001b[39;49m)\n\u001b[1;32m   1763\u001b[0m     \u001b[39mcontinue\u001b[39;00m\n\u001b[1;32m   1765\u001b[0m \u001b[39m# We need to be careful: the job list can be filling up as\u001b[39;00m\n\u001b[1;32m   1766\u001b[0m \u001b[39m# we empty it and Python list are not thread-safe by\u001b[39;00m\n\u001b[1;32m   1767\u001b[0m \u001b[39m# default hence the use of the lock\u001b[39;00m\n",
      "\u001b[0;31mKeyboardInterrupt\u001b[0m: "
     ]
    },
    {
     "name": "stderr",
     "output_type": "stream",
     "text": [
      "/root/venv/lib/python3.10/site-packages/sklearn/linear_model/_sag.py:350: ConvergenceWarning: The max_iter was reached which means the coef_ did not converge\n",
      "  warnings.warn(\n"
     ]
    }
   ],
   "source": [
    "#%% Getting Cache\n",
    "print('Getting mean cache')\n",
    "m_cache = get_mean_cache(model)\n",
    "print('Got mean cache')\n",
    "\n",
    "mean_cache = {}\n",
    "for k in m_cache.keys():\n",
    "    mean_cache[k] = einops.reduce(\n",
    "        m_cache[k],\n",
    "        'batch seq d_model -> 1 1 d_model',\n",
    "        'mean'\n",
    "    )\n",
    "\n",
    "print('start probing')\n",
    "#%% Probing\n",
    "results = {}\n",
    "full_prompt_toks = tokenize_instructions(tokenizer, df['prompt'].tolist()) # Full prompt\n",
    "athl_prompt_toks = tokenize_instructions(tokenizer, df['athlete'].tolist()) # <bos>name\n",
    "\n",
    "print('tokenized')\n",
    "model.reset_hooks()\n",
    "results['Prompt'] = probe_across_layers(model, full_prompt_toks, df['sport'].tolist())\n",
    "\n",
    "# Add mean ablate hooks\n",
    "model.add_hook(\n",
    "    lambda name: 'attn_out' in name,\n",
    "    functools.partial(mean_ablate_hook, mean_cache=mean_cache),\n",
    "    \"fwd\"\n",
    ")\n",
    "results['+ Ablate Heads at Layers >= 5'] = probe_across_layers(model, full_prompt_toks, df['sport'].tolist())\n",
    "\n",
    "model.reset_hooks()\n",
    "results['Athlete'] = probe_across_layers(model, athl_prompt_toks, df['sport'].tolist())\n",
    "\n",
    "# Add mean ablate hooks\n",
    "model.add_hook(\n",
    "    lambda name: 'attn_out' in name,\n",
    "    functools.partial(mean_ablate_hook, mean_cache=mean_cache),\n",
    "    \"fwd\"\n",
    ")\n",
    "results['+Ablate Heads at Layers >= 5'] = probe_across_layers(model, athl_prompt_toks, df['sport'].tolist())\n",
    "model.reset_hooks()\n"
   ]
  },
  {
   "cell_type": "code",
   "execution_count": null,
   "metadata": {},
   "outputs": [
    {
     "data": {
      "image/png": "[encoded data removed]",
      "text/plain": [
       "<Figure size 640x480 with 1 Axes>"
      ]
     },
     "metadata": {},
     "output_type": "display_data"
    }
   ],
   "source": [
    "#%% Plot results\n",
    "import matplotlib.pyplot as plt\n",
    "fig = plt.figure()\n",
    "markers = ['o', 's', '^', 'v', '*', 'p', 'P', 'X', 'd']\n",
    "for i, (k, v) in enumerate(results.items()):\n",
    "    plt.plot(v, label=k, marker=markers[i])\n",
    "\n",
    "# Add vertical dotted lines at x = 2, x = 7\n",
    "plt.axvline(x=2, color='k', linestyle='--')\n",
    "plt.axvline(x=7, color='k', linestyle='--')\n",
    "# Label these vertical lines\n",
    "plt.text(2.3, 0.45, 'Layer 2', fontsize=12)\n",
    "plt.text(7.3, 0.45, 'Layer 7', fontsize=12)\n",
    "\n",
    "plt.legend()\n",
    "plt.xlabel('Layer', fontsize=16)\n",
    "plt.ylabel('Probe Accuracy', fontsize=16)\n",
    "plt.title('Probe Accuracy Across Layers', fontsize=16)\n",
    "plt.xticks(fontsize=12)\n",
    "plt.yticks(fontsize=12)\n",
    "plt.grid()\n",
    "plt.show()\n",
    "fig.savefig(f\"experiments/sports_facts_manual/results/{model_name.replace('/', '_')}_probe_across_layers.pdf\")\n"
   ]
  },
  {
   "cell_type": "markdown",
   "metadata": {},
   "source": [
    "#### Finding FLU heads through patching and measuring probe accuracy"
   ]
  },
  {
   "cell_type": "code",
   "execution_count": 16,
   "metadata": {},
   "outputs": [
    {
     "name": "stderr",
     "output_type": "stream",
     "text": [
      "  0%|          | 0/112 [00:00<?, ?it/s]"
     ]
    },
    {
     "name": "stdout",
     "output_type": "stream",
     "text": [
      "(500, 3072) 500\n"
     ]
    },
    {
     "name": "stderr",
     "output_type": "stream",
     "text": [
      "/root/venv/lib/python3.10/site-packages/sklearn/linear_model/_logistic.py:469: ConvergenceWarning: lbfgs failed to converge (status=1):\n",
      "STOP: TOTAL NO. of ITERATIONS REACHED LIMIT.\n",
      "\n",
      "Increase the number of iterations (max_iter) or scale the data as shown in:\n",
      "    https://scikit-learn.org/stable/modules/preprocessing.html\n",
      "Please also refer to the documentation for alternative solver options:\n",
      "    https://scikit-learn.org/stable/modules/linear_model.html#logistic-regression\n",
      "  n_iter_i = _check_optimize_result(\n",
      "  1%|          | 1/112 [00:36<1:08:16, 36.91s/it]"
     ]
    },
    {
     "name": "stdout",
     "output_type": "stream",
     "text": [
      "Accuracy: 0.83\n",
      "(500, 3072) 500\n"
     ]
    },
    {
     "name": "stderr",
     "output_type": "stream",
     "text": [
      "/root/venv/lib/python3.10/site-packages/sklearn/linear_model/_logistic.py:469: ConvergenceWarning: lbfgs failed to converge (status=1):\n",
      "STOP: TOTAL NO. of ITERATIONS REACHED LIMIT.\n",
      "\n",
      "Increase the number of iterations (max_iter) or scale the data as shown in:\n",
      "    https://scikit-learn.org/stable/modules/preprocessing.html\n",
      "Please also refer to the documentation for alternative solver options:\n",
      "    https://scikit-learn.org/stable/modules/linear_model.html#logistic-regression\n",
      "  n_iter_i = _check_optimize_result(\n",
      "  2%|▏         | 2/112 [01:03<56:06, 30.61s/it]  "
     ]
    },
    {
     "name": "stdout",
     "output_type": "stream",
     "text": [
      "Accuracy: 0.85\n",
      "(500, 3072) 500\n"
     ]
    },
    {
     "name": "stderr",
     "output_type": "stream",
     "text": [
      "  3%|▎         | 3/112 [01:34<56:00, 30.83s/it]"
     ]
    },
    {
     "name": "stdout",
     "output_type": "stream",
     "text": [
      "Accuracy: 0.79\n"
     ]
    },
    {
     "name": "stderr",
     "output_type": "stream",
     "text": [
      "  3%|▎         | 3/112 [01:36<58:36, 32.26s/it]\n"
     ]
    },
    {
     "ename": "KeyboardInterrupt",
     "evalue": "",
     "output_type": "error",
     "traceback": [
      "\u001b[0;31m---------------------------------------------------------------------------\u001b[0m",
      "\u001b[0;31mKeyboardInterrupt\u001b[0m                         Traceback (most recent call last)",
      "\u001b[1;32m/root/mechanistic-unlearning/experiments/sports_facts_manual/sports_manual_interp.ipynb Cell 11\u001b[0m line \u001b[0;36m5\n\u001b[1;32m     <a href='vscode-notebook-cell://ssh-remote%2Bvast/root/mechanistic-unlearning/experiments/sports_facts_manual/sports_manual_interp.ipynb#X12sdnNjb2RlLXJlbW90ZQ%3D%3D?line=41'>42</a>\u001b[0m     model\u001b[39m.\u001b[39mreset_hooks()\n\u001b[1;32m     <a href='vscode-notebook-cell://ssh-remote%2Bvast/root/mechanistic-unlearning/experiments/sports_facts_manual/sports_manual_interp.ipynb#X12sdnNjb2RlLXJlbW90ZQ%3D%3D?line=43'>44</a>\u001b[0m     model\u001b[39m.\u001b[39madd_hook(\n\u001b[1;32m     <a href='vscode-notebook-cell://ssh-remote%2Bvast/root/mechanistic-unlearning/experiments/sports_facts_manual/sports_manual_interp.ipynb#X12sdnNjb2RlLXJlbW90ZQ%3D%3D?line=44'>45</a>\u001b[0m         \u001b[39mlambda\u001b[39;00m name: \u001b[39m'\u001b[39m\u001b[39mhook_z\u001b[39m\u001b[39m'\u001b[39m \u001b[39min\u001b[39;00m name,\n\u001b[1;32m     <a href='vscode-notebook-cell://ssh-remote%2Bvast/root/mechanistic-unlearning/experiments/sports_facts_manual/sports_manual_interp.ipynb#X12sdnNjb2RlLXJlbW90ZQ%3D%3D?line=45'>46</a>\u001b[0m         functools\u001b[39m.\u001b[39mpartial(act_patch_hook_z, patch_cache\u001b[39m=\u001b[39mmean_cache, patch_layer\u001b[39m=\u001b[39mlayer, patch_head\u001b[39m=\u001b[39mhead),\n\u001b[1;32m     <a href='vscode-notebook-cell://ssh-remote%2Bvast/root/mechanistic-unlearning/experiments/sports_facts_manual/sports_manual_interp.ipynb#X12sdnNjb2RlLXJlbW90ZQ%3D%3D?line=46'>47</a>\u001b[0m         \u001b[39m\"\u001b[39m\u001b[39mfwd\u001b[39m\u001b[39m\"\u001b[39m\n\u001b[1;32m     <a href='vscode-notebook-cell://ssh-remote%2Bvast/root/mechanistic-unlearning/experiments/sports_facts_manual/sports_manual_interp.ipynb#X12sdnNjb2RlLXJlbW90ZQ%3D%3D?line=47'>48</a>\u001b[0m     )\n\u001b[0;32m---> <a href='vscode-notebook-cell://ssh-remote%2Bvast/root/mechanistic-unlearning/experiments/sports_facts_manual/sports_manual_interp.ipynb#X12sdnNjb2RlLXJlbW90ZQ%3D%3D?line=49'>50</a>\u001b[0m     results_mat[layer, head] \u001b[39m+\u001b[39m\u001b[39m=\u001b[39m probe_last_layer(model, full_prompt_toks, df[\u001b[39m'\u001b[39;49m\u001b[39msport\u001b[39;49m\u001b[39m'\u001b[39;49m]\u001b[39m.\u001b[39;49mtolist()) \n\u001b[1;32m     <a href='vscode-notebook-cell://ssh-remote%2Bvast/root/mechanistic-unlearning/experiments/sports_facts_manual/sports_manual_interp.ipynb#X12sdnNjb2RlLXJlbW90ZQ%3D%3D?line=51'>52</a>\u001b[0m     model\u001b[39m.\u001b[39mreset_hooks()\n\u001b[1;32m     <a href='vscode-notebook-cell://ssh-remote%2Bvast/root/mechanistic-unlearning/experiments/sports_facts_manual/sports_manual_interp.ipynb#X12sdnNjb2RlLXJlbW90ZQ%3D%3D?line=53'>54</a>\u001b[0m \u001b[39m#%%\u001b[39;00m\n\u001b[1;32m     <a href='vscode-notebook-cell://ssh-remote%2Bvast/root/mechanistic-unlearning/experiments/sports_facts_manual/sports_manual_interp.ipynb#X12sdnNjb2RlLXJlbW90ZQ%3D%3D?line=54'>55</a>\u001b[0m \u001b[39m# Get baseline accuracy\u001b[39;00m\n",
      "\u001b[1;32m/root/mechanistic-unlearning/experiments/sports_facts_manual/sports_manual_interp.ipynb Cell 11\u001b[0m line \u001b[0;36m2\n\u001b[1;32m     <a href='vscode-notebook-cell://ssh-remote%2Bvast/root/mechanistic-unlearning/experiments/sports_facts_manual/sports_manual_interp.ipynb#X12sdnNjb2RlLXJlbW90ZQ%3D%3D?line=21'>22</a>\u001b[0m \u001b[39mdef\u001b[39;00m \u001b[39mprobe_last_layer\u001b[39m(model, prompt_toks, targets):\n\u001b[1;32m     <a href='vscode-notebook-cell://ssh-remote%2Bvast/root/mechanistic-unlearning/experiments/sports_facts_manual/sports_manual_interp.ipynb#X12sdnNjb2RlLXJlbW90ZQ%3D%3D?line=22'>23</a>\u001b[0m     \u001b[39mwith\u001b[39;00m torch\u001b[39m.\u001b[39mset_grad_enabled(\u001b[39mFalse\u001b[39;00m), torch\u001b[39m.\u001b[39mcuda\u001b[39m.\u001b[39mamp\u001b[39m.\u001b[39mautocast(\u001b[39mTrue\u001b[39;00m, model\u001b[39m.\u001b[39mW_in\u001b[39m.\u001b[39mdtype):\n\u001b[0;32m---> <a href='vscode-notebook-cell://ssh-remote%2Bvast/root/mechanistic-unlearning/experiments/sports_facts_manual/sports_manual_interp.ipynb#X12sdnNjb2RlLXJlbW90ZQ%3D%3D?line=23'>24</a>\u001b[0m         _, cache \u001b[39m=\u001b[39m model\u001b[39m.\u001b[39;49mrun_with_cache(\n\u001b[1;32m     <a href='vscode-notebook-cell://ssh-remote%2Bvast/root/mechanistic-unlearning/experiments/sports_facts_manual/sports_manual_interp.ipynb#X12sdnNjb2RlLXJlbW90ZQ%3D%3D?line=24'>25</a>\u001b[0m             prompt_toks,\n\u001b[1;32m     <a href='vscode-notebook-cell://ssh-remote%2Bvast/root/mechanistic-unlearning/experiments/sports_facts_manual/sports_manual_interp.ipynb#X12sdnNjb2RlLXJlbW90ZQ%3D%3D?line=25'>26</a>\u001b[0m             names_filter \u001b[39m=\u001b[39;49m \u001b[39mlambda\u001b[39;49;00m name: name \u001b[39m==\u001b[39;49m \u001b[39mf\u001b[39;49m\u001b[39m\"\u001b[39;49m\u001b[39mblocks.\u001b[39;49m\u001b[39m{\u001b[39;49;00mmodel\u001b[39m.\u001b[39;49mcfg\u001b[39m.\u001b[39;49mn_layers\u001b[39m-\u001b[39;49m\u001b[39m1\u001b[39;49m\u001b[39m}\u001b[39;49;00m\u001b[39m.hook_resid_post\u001b[39;49m\u001b[39m\"\u001b[39;49m\n\u001b[1;32m     <a href='vscode-notebook-cell://ssh-remote%2Bvast/root/mechanistic-unlearning/experiments/sports_facts_manual/sports_manual_interp.ipynb#X12sdnNjb2RlLXJlbW90ZQ%3D%3D?line=26'>27</a>\u001b[0m         )\n\u001b[1;32m     <a href='vscode-notebook-cell://ssh-remote%2Bvast/root/mechanistic-unlearning/experiments/sports_facts_manual/sports_manual_interp.ipynb#X12sdnNjb2RlLXJlbW90ZQ%3D%3D?line=27'>28</a>\u001b[0m         cache \u001b[39m=\u001b[39m cache[\u001b[39mf\u001b[39m\u001b[39m\"\u001b[39m\u001b[39mblocks.\u001b[39m\u001b[39m{\u001b[39;00mmodel\u001b[39m.\u001b[39mcfg\u001b[39m.\u001b[39mn_layers\u001b[39m-\u001b[39m\u001b[39m1\u001b[39m\u001b[39m}\u001b[39;00m\u001b[39m.hook_resid_post\u001b[39m\u001b[39m\"\u001b[39m][:, \u001b[39m-\u001b[39m\u001b[39m1\u001b[39m, :]\n\u001b[1;32m     <a href='vscode-notebook-cell://ssh-remote%2Bvast/root/mechanistic-unlearning/experiments/sports_facts_manual/sports_manual_interp.ipynb#X12sdnNjb2RlLXJlbW90ZQ%3D%3D?line=29'>30</a>\u001b[0m     X \u001b[39m=\u001b[39m cache\u001b[39m.\u001b[39mcpu()\u001b[39m.\u001b[39mfloat()\u001b[39m.\u001b[39mnumpy()\n",
      "File \u001b[0;32m~/venv/lib/python3.10/site-packages/transformer_lens/HookedTransformer.py:642\u001b[0m, in \u001b[0;36mHookedTransformer.run_with_cache\u001b[0;34m(self, return_cache_object, remove_batch_dim, *model_args, **kwargs)\u001b[0m\n\u001b[1;32m    625\u001b[0m \u001b[39mdef\u001b[39;00m \u001b[39mrun_with_cache\u001b[39m(\n\u001b[1;32m    626\u001b[0m     \u001b[39mself\u001b[39m, \u001b[39m*\u001b[39mmodel_args, return_cache_object\u001b[39m=\u001b[39m\u001b[39mTrue\u001b[39;00m, remove_batch_dim\u001b[39m=\u001b[39m\u001b[39mFalse\u001b[39;00m, \u001b[39m*\u001b[39m\u001b[39m*\u001b[39mkwargs\n\u001b[1;32m    627\u001b[0m ) \u001b[39m-\u001b[39m\u001b[39m>\u001b[39m Tuple[\n\u001b[0;32m   (...)\u001b[0m\n\u001b[1;32m    634\u001b[0m     Union[ActivationCache, Dict[\u001b[39mstr\u001b[39m, torch\u001b[39m.\u001b[39mTensor]],\n\u001b[1;32m    635\u001b[0m ]:\n\u001b[1;32m    636\u001b[0m \u001b[39m    \u001b[39m\u001b[39m\"\"\"Wrapper around `run_with_cache` in HookedRootModule.\u001b[39;00m\n\u001b[1;32m    637\u001b[0m \n\u001b[1;32m    638\u001b[0m \u001b[39m    If return_cache_object is True, this will return an ActivationCache object, with a bunch of\u001b[39;00m\n\u001b[1;32m    639\u001b[0m \u001b[39m    useful HookedTransformer specific methods, otherwise it will return a dictionary of\u001b[39;00m\n\u001b[1;32m    640\u001b[0m \u001b[39m    activations as in HookedRootModule.\u001b[39;00m\n\u001b[1;32m    641\u001b[0m \u001b[39m    \"\"\"\u001b[39;00m\n\u001b[0;32m--> 642\u001b[0m     out, cache_dict \u001b[39m=\u001b[39m \u001b[39msuper\u001b[39;49m()\u001b[39m.\u001b[39;49mrun_with_cache(\n\u001b[1;32m    643\u001b[0m         \u001b[39m*\u001b[39;49mmodel_args, remove_batch_dim\u001b[39m=\u001b[39;49mremove_batch_dim, \u001b[39m*\u001b[39;49m\u001b[39m*\u001b[39;49mkwargs\n\u001b[1;32m    644\u001b[0m     )\n\u001b[1;32m    645\u001b[0m     \u001b[39mif\u001b[39;00m return_cache_object:\n\u001b[1;32m    646\u001b[0m         cache \u001b[39m=\u001b[39m ActivationCache(cache_dict, \u001b[39mself\u001b[39m, has_batch_dim\u001b[39m=\u001b[39m\u001b[39mnot\u001b[39;00m remove_batch_dim)\n",
      "File \u001b[0;32m~/venv/lib/python3.10/site-packages/transformer_lens/hook_points.py:566\u001b[0m, in \u001b[0;36mHookedRootModule.run_with_cache\u001b[0;34m(self, names_filter, device, remove_batch_dim, incl_bwd, reset_hooks_end, clear_contexts, pos_slice, *model_args, **model_kwargs)\u001b[0m\n\u001b[1;32m    552\u001b[0m cache_dict, fwd, bwd \u001b[39m=\u001b[39m \u001b[39mself\u001b[39m\u001b[39m.\u001b[39mget_caching_hooks(\n\u001b[1;32m    553\u001b[0m     names_filter,\n\u001b[1;32m    554\u001b[0m     incl_bwd,\n\u001b[0;32m   (...)\u001b[0m\n\u001b[1;32m    557\u001b[0m     pos_slice\u001b[39m=\u001b[39mpos_slice,\n\u001b[1;32m    558\u001b[0m )\n\u001b[1;32m    560\u001b[0m \u001b[39mwith\u001b[39;00m \u001b[39mself\u001b[39m\u001b[39m.\u001b[39mhooks(\n\u001b[1;32m    561\u001b[0m     fwd_hooks\u001b[39m=\u001b[39mfwd,\n\u001b[1;32m    562\u001b[0m     bwd_hooks\u001b[39m=\u001b[39mbwd,\n\u001b[1;32m    563\u001b[0m     reset_hooks_end\u001b[39m=\u001b[39mreset_hooks_end,\n\u001b[1;32m    564\u001b[0m     clear_contexts\u001b[39m=\u001b[39mclear_contexts,\n\u001b[1;32m    565\u001b[0m ):\n\u001b[0;32m--> 566\u001b[0m     model_out \u001b[39m=\u001b[39m \u001b[39mself\u001b[39;49m(\u001b[39m*\u001b[39;49mmodel_args, \u001b[39m*\u001b[39;49m\u001b[39m*\u001b[39;49mmodel_kwargs)\n\u001b[1;32m    567\u001b[0m     \u001b[39mif\u001b[39;00m incl_bwd:\n\u001b[1;32m    568\u001b[0m         model_out\u001b[39m.\u001b[39mbackward()\n",
      "File \u001b[0;32m~/venv/lib/python3.10/site-packages/torch/nn/modules/module.py:1511\u001b[0m, in \u001b[0;36mModule._wrapped_call_impl\u001b[0;34m(self, *args, **kwargs)\u001b[0m\n\u001b[1;32m   1509\u001b[0m     \u001b[39mreturn\u001b[39;00m \u001b[39mself\u001b[39m\u001b[39m.\u001b[39m_compiled_call_impl(\u001b[39m*\u001b[39margs, \u001b[39m*\u001b[39m\u001b[39m*\u001b[39mkwargs)  \u001b[39m# type: ignore[misc]\u001b[39;00m\n\u001b[1;32m   1510\u001b[0m \u001b[39melse\u001b[39;00m:\n\u001b[0;32m-> 1511\u001b[0m     \u001b[39mreturn\u001b[39;00m \u001b[39mself\u001b[39;49m\u001b[39m.\u001b[39;49m_call_impl(\u001b[39m*\u001b[39;49margs, \u001b[39m*\u001b[39;49m\u001b[39m*\u001b[39;49mkwargs)\n",
      "File \u001b[0;32m~/venv/lib/python3.10/site-packages/torch/nn/modules/module.py:1520\u001b[0m, in \u001b[0;36mModule._call_impl\u001b[0;34m(self, *args, **kwargs)\u001b[0m\n\u001b[1;32m   1515\u001b[0m \u001b[39m# If we don't have any hooks, we want to skip the rest of the logic in\u001b[39;00m\n\u001b[1;32m   1516\u001b[0m \u001b[39m# this function, and just call forward.\u001b[39;00m\n\u001b[1;32m   1517\u001b[0m \u001b[39mif\u001b[39;00m \u001b[39mnot\u001b[39;00m (\u001b[39mself\u001b[39m\u001b[39m.\u001b[39m_backward_hooks \u001b[39mor\u001b[39;00m \u001b[39mself\u001b[39m\u001b[39m.\u001b[39m_backward_pre_hooks \u001b[39mor\u001b[39;00m \u001b[39mself\u001b[39m\u001b[39m.\u001b[39m_forward_hooks \u001b[39mor\u001b[39;00m \u001b[39mself\u001b[39m\u001b[39m.\u001b[39m_forward_pre_hooks\n\u001b[1;32m   1518\u001b[0m         \u001b[39mor\u001b[39;00m _global_backward_pre_hooks \u001b[39mor\u001b[39;00m _global_backward_hooks\n\u001b[1;32m   1519\u001b[0m         \u001b[39mor\u001b[39;00m _global_forward_hooks \u001b[39mor\u001b[39;00m _global_forward_pre_hooks):\n\u001b[0;32m-> 1520\u001b[0m     \u001b[39mreturn\u001b[39;00m forward_call(\u001b[39m*\u001b[39;49margs, \u001b[39m*\u001b[39;49m\u001b[39m*\u001b[39;49mkwargs)\n\u001b[1;32m   1522\u001b[0m \u001b[39mtry\u001b[39;00m:\n\u001b[1;32m   1523\u001b[0m     result \u001b[39m=\u001b[39m \u001b[39mNone\u001b[39;00m\n",
      "File \u001b[0;32m~/venv/lib/python3.10/site-packages/transformer_lens/HookedTransformer.py:560\u001b[0m, in \u001b[0;36mHookedTransformer.forward\u001b[0;34m(self, input, return_type, loss_per_token, prepend_bos, padding_side, start_at_layer, tokens, shortformer_pos_embed, attention_mask, stop_at_layer, past_kv_cache)\u001b[0m\n\u001b[1;32m    555\u001b[0m     \u001b[39mif\u001b[39;00m shortformer_pos_embed \u001b[39mis\u001b[39;00m \u001b[39mnot\u001b[39;00m \u001b[39mNone\u001b[39;00m:\n\u001b[1;32m    556\u001b[0m         shortformer_pos_embed \u001b[39m=\u001b[39m shortformer_pos_embed\u001b[39m.\u001b[39mto(\n\u001b[1;32m    557\u001b[0m             devices\u001b[39m.\u001b[39mget_device_for_block_index(i, \u001b[39mself\u001b[39m\u001b[39m.\u001b[39mcfg)\n\u001b[1;32m    558\u001b[0m         )\n\u001b[0;32m--> 560\u001b[0m     residual \u001b[39m=\u001b[39m block(\n\u001b[1;32m    561\u001b[0m         residual,\n\u001b[1;32m    562\u001b[0m         \u001b[39m# Cache contains a list of HookedTransformerKeyValueCache objects, one for each\u001b[39;49;00m\n\u001b[1;32m    563\u001b[0m         \u001b[39m# block\u001b[39;49;00m\n\u001b[1;32m    564\u001b[0m         past_kv_cache_entry\u001b[39m=\u001b[39;49mpast_kv_cache[i] \u001b[39mif\u001b[39;49;00m past_kv_cache \u001b[39mis\u001b[39;49;00m \u001b[39mnot\u001b[39;49;00m \u001b[39mNone\u001b[39;49;00m \u001b[39melse\u001b[39;49;00m \u001b[39mNone\u001b[39;49;00m,\n\u001b[1;32m    565\u001b[0m         shortformer_pos_embed\u001b[39m=\u001b[39;49mshortformer_pos_embed,\n\u001b[1;32m    566\u001b[0m         attention_mask\u001b[39m=\u001b[39;49mattention_mask,\n\u001b[1;32m    567\u001b[0m     )  \u001b[39m# [batch, pos, d_model]\u001b[39;00m\n\u001b[1;32m    569\u001b[0m \u001b[39mif\u001b[39;00m stop_at_layer \u001b[39mis\u001b[39;00m \u001b[39mnot\u001b[39;00m \u001b[39mNone\u001b[39;00m:\n\u001b[1;32m    570\u001b[0m     \u001b[39m# When we stop at an early layer, we end here rather than doing further computation\u001b[39;00m\n\u001b[1;32m    571\u001b[0m     \u001b[39mreturn\u001b[39;00m residual\n",
      "File \u001b[0;32m~/venv/lib/python3.10/site-packages/torch/nn/modules/module.py:1511\u001b[0m, in \u001b[0;36mModule._wrapped_call_impl\u001b[0;34m(self, *args, **kwargs)\u001b[0m\n\u001b[1;32m   1509\u001b[0m     \u001b[39mreturn\u001b[39;00m \u001b[39mself\u001b[39m\u001b[39m.\u001b[39m_compiled_call_impl(\u001b[39m*\u001b[39margs, \u001b[39m*\u001b[39m\u001b[39m*\u001b[39mkwargs)  \u001b[39m# type: ignore[misc]\u001b[39;00m\n\u001b[1;32m   1510\u001b[0m \u001b[39melse\u001b[39;00m:\n\u001b[0;32m-> 1511\u001b[0m     \u001b[39mreturn\u001b[39;00m \u001b[39mself\u001b[39;49m\u001b[39m.\u001b[39;49m_call_impl(\u001b[39m*\u001b[39;49margs, \u001b[39m*\u001b[39;49m\u001b[39m*\u001b[39;49mkwargs)\n",
      "File \u001b[0;32m~/venv/lib/python3.10/site-packages/torch/nn/modules/module.py:1520\u001b[0m, in \u001b[0;36mModule._call_impl\u001b[0;34m(self, *args, **kwargs)\u001b[0m\n\u001b[1;32m   1515\u001b[0m \u001b[39m# If we don't have any hooks, we want to skip the rest of the logic in\u001b[39;00m\n\u001b[1;32m   1516\u001b[0m \u001b[39m# this function, and just call forward.\u001b[39;00m\n\u001b[1;32m   1517\u001b[0m \u001b[39mif\u001b[39;00m \u001b[39mnot\u001b[39;00m (\u001b[39mself\u001b[39m\u001b[39m.\u001b[39m_backward_hooks \u001b[39mor\u001b[39;00m \u001b[39mself\u001b[39m\u001b[39m.\u001b[39m_backward_pre_hooks \u001b[39mor\u001b[39;00m \u001b[39mself\u001b[39m\u001b[39m.\u001b[39m_forward_hooks \u001b[39mor\u001b[39;00m \u001b[39mself\u001b[39m\u001b[39m.\u001b[39m_forward_pre_hooks\n\u001b[1;32m   1518\u001b[0m         \u001b[39mor\u001b[39;00m _global_backward_pre_hooks \u001b[39mor\u001b[39;00m _global_backward_hooks\n\u001b[1;32m   1519\u001b[0m         \u001b[39mor\u001b[39;00m _global_forward_hooks \u001b[39mor\u001b[39;00m _global_forward_pre_hooks):\n\u001b[0;32m-> 1520\u001b[0m     \u001b[39mreturn\u001b[39;00m forward_call(\u001b[39m*\u001b[39;49margs, \u001b[39m*\u001b[39;49m\u001b[39m*\u001b[39;49mkwargs)\n\u001b[1;32m   1522\u001b[0m \u001b[39mtry\u001b[39;00m:\n\u001b[1;32m   1523\u001b[0m     result \u001b[39m=\u001b[39m \u001b[39mNone\u001b[39;00m\n",
      "File \u001b[0;32m~/venv/lib/python3.10/site-packages/transformer_lens/components/transformer_block.py:159\u001b[0m, in \u001b[0;36mTransformerBlock.forward\u001b[0;34m(self, resid_pre, shortformer_pos_embed, past_kv_cache_entry, attention_mask)\u001b[0m\n\u001b[1;32m    152\u001b[0m     key_input \u001b[39m=\u001b[39m attn_in\n\u001b[1;32m    153\u001b[0m     value_input \u001b[39m=\u001b[39m attn_in\n\u001b[1;32m    155\u001b[0m attn_out \u001b[39m=\u001b[39m (\n\u001b[1;32m    156\u001b[0m     \u001b[39m# hook the residual stream states that are used to calculate the\u001b[39;00m\n\u001b[1;32m    157\u001b[0m     \u001b[39m# queries, keys and values, independently.\u001b[39;00m\n\u001b[1;32m    158\u001b[0m     \u001b[39m# Then take the layer norm of these inputs, and pass these to the attention module.\u001b[39;00m\n\u001b[0;32m--> 159\u001b[0m     \u001b[39mself\u001b[39;49m\u001b[39m.\u001b[39;49mattn(\n\u001b[1;32m    160\u001b[0m         query_input\u001b[39m=\u001b[39;49m\u001b[39mself\u001b[39;49m\u001b[39m.\u001b[39;49mln1(query_input)\n\u001b[1;32m    161\u001b[0m         \u001b[39m+\u001b[39;49m (\u001b[39m0.0\u001b[39;49m \u001b[39mif\u001b[39;49;00m shortformer_pos_embed \u001b[39mis\u001b[39;49;00m \u001b[39mNone\u001b[39;49;00m \u001b[39melse\u001b[39;49;00m shortformer_pos_embed),\n\u001b[1;32m    162\u001b[0m         key_input\u001b[39m=\u001b[39;49m\u001b[39mself\u001b[39;49m\u001b[39m.\u001b[39;49mln1(key_input)\n\u001b[1;32m    163\u001b[0m         \u001b[39m+\u001b[39;49m (\u001b[39m0.0\u001b[39;49m \u001b[39mif\u001b[39;49;00m shortformer_pos_embed \u001b[39mis\u001b[39;49;00m \u001b[39mNone\u001b[39;49;00m \u001b[39melse\u001b[39;49;00m shortformer_pos_embed),\n\u001b[1;32m    164\u001b[0m         value_input\u001b[39m=\u001b[39;49m\u001b[39mself\u001b[39;49m\u001b[39m.\u001b[39;49mln1(value_input),\n\u001b[1;32m    165\u001b[0m         past_kv_cache_entry\u001b[39m=\u001b[39;49mpast_kv_cache_entry,\n\u001b[1;32m    166\u001b[0m         attention_mask\u001b[39m=\u001b[39;49mattention_mask,\n\u001b[1;32m    167\u001b[0m     )\n\u001b[1;32m    168\u001b[0m )  \u001b[39m# [batch, pos, d_model]\u001b[39;00m\n\u001b[1;32m    169\u001b[0m \u001b[39mif\u001b[39;00m \u001b[39mself\u001b[39m\u001b[39m.\u001b[39mcfg\u001b[39m.\u001b[39muse_normalization_before_and_after:\n\u001b[1;32m    170\u001b[0m     \u001b[39m# If we use LayerNorm both before and after, then apply the second LN after the layer\u001b[39;00m\n\u001b[1;32m    171\u001b[0m     \u001b[39m# and before the hook. We do it before the hook so hook_attn_out captures \"that which\u001b[39;00m\n\u001b[1;32m    172\u001b[0m     \u001b[39m# is added to the residual stream\"\u001b[39;00m\n\u001b[1;32m    173\u001b[0m     attn_out \u001b[39m=\u001b[39m \u001b[39mself\u001b[39m\u001b[39m.\u001b[39mln1_post(attn_out)\n",
      "File \u001b[0;32m~/venv/lib/python3.10/site-packages/torch/nn/modules/module.py:1511\u001b[0m, in \u001b[0;36mModule._wrapped_call_impl\u001b[0;34m(self, *args, **kwargs)\u001b[0m\n\u001b[1;32m   1509\u001b[0m     \u001b[39mreturn\u001b[39;00m \u001b[39mself\u001b[39m\u001b[39m.\u001b[39m_compiled_call_impl(\u001b[39m*\u001b[39margs, \u001b[39m*\u001b[39m\u001b[39m*\u001b[39mkwargs)  \u001b[39m# type: ignore[misc]\u001b[39;00m\n\u001b[1;32m   1510\u001b[0m \u001b[39melse\u001b[39;00m:\n\u001b[0;32m-> 1511\u001b[0m     \u001b[39mreturn\u001b[39;00m \u001b[39mself\u001b[39;49m\u001b[39m.\u001b[39;49m_call_impl(\u001b[39m*\u001b[39;49margs, \u001b[39m*\u001b[39;49m\u001b[39m*\u001b[39;49mkwargs)\n",
      "File \u001b[0;32m~/venv/lib/python3.10/site-packages/torch/nn/modules/module.py:1520\u001b[0m, in \u001b[0;36mModule._call_impl\u001b[0;34m(self, *args, **kwargs)\u001b[0m\n\u001b[1;32m   1515\u001b[0m \u001b[39m# If we don't have any hooks, we want to skip the rest of the logic in\u001b[39;00m\n\u001b[1;32m   1516\u001b[0m \u001b[39m# this function, and just call forward.\u001b[39;00m\n\u001b[1;32m   1517\u001b[0m \u001b[39mif\u001b[39;00m \u001b[39mnot\u001b[39;00m (\u001b[39mself\u001b[39m\u001b[39m.\u001b[39m_backward_hooks \u001b[39mor\u001b[39;00m \u001b[39mself\u001b[39m\u001b[39m.\u001b[39m_backward_pre_hooks \u001b[39mor\u001b[39;00m \u001b[39mself\u001b[39m\u001b[39m.\u001b[39m_forward_hooks \u001b[39mor\u001b[39;00m \u001b[39mself\u001b[39m\u001b[39m.\u001b[39m_forward_pre_hooks\n\u001b[1;32m   1518\u001b[0m         \u001b[39mor\u001b[39;00m _global_backward_pre_hooks \u001b[39mor\u001b[39;00m _global_backward_hooks\n\u001b[1;32m   1519\u001b[0m         \u001b[39mor\u001b[39;00m _global_forward_hooks \u001b[39mor\u001b[39;00m _global_forward_pre_hooks):\n\u001b[0;32m-> 1520\u001b[0m     \u001b[39mreturn\u001b[39;00m forward_call(\u001b[39m*\u001b[39;49margs, \u001b[39m*\u001b[39;49m\u001b[39m*\u001b[39;49mkwargs)\n\u001b[1;32m   1522\u001b[0m \u001b[39mtry\u001b[39;00m:\n\u001b[1;32m   1523\u001b[0m     result \u001b[39m=\u001b[39m \u001b[39mNone\u001b[39;00m\n",
      "File \u001b[0;32m~/venv/lib/python3.10/site-packages/transformer_lens/components/abstract_attention.py:208\u001b[0m, in \u001b[0;36mAbstractAttention.forward\u001b[0;34m(self, query_input, key_input, value_input, past_kv_cache_entry, additive_attention_mask, attention_mask, position_bias)\u001b[0m\n\u001b[1;32m    205\u001b[0m \u001b[39mif\u001b[39;00m \u001b[39mself\u001b[39m\u001b[39m.\u001b[39mcfg\u001b[39m.\u001b[39mpositional_embedding_type \u001b[39m==\u001b[39m \u001b[39m\"\u001b[39m\u001b[39mrotary\u001b[39m\u001b[39m\"\u001b[39m:\n\u001b[1;32m    206\u001b[0m     q \u001b[39m=\u001b[39m \u001b[39mself\u001b[39m\u001b[39m.\u001b[39mhook_rot_q(\u001b[39mself\u001b[39m\u001b[39m.\u001b[39mapply_rotary(q, kv_cache_pos_offset, attention_mask))\n\u001b[1;32m    207\u001b[0m     k \u001b[39m=\u001b[39m \u001b[39mself\u001b[39m\u001b[39m.\u001b[39mhook_rot_k(\n\u001b[0;32m--> 208\u001b[0m         \u001b[39mself\u001b[39;49m\u001b[39m.\u001b[39;49mapply_rotary(k, \u001b[39m0\u001b[39;49m, attention_mask)\n\u001b[1;32m    209\u001b[0m     )  \u001b[39m# keys are cached so no offset\u001b[39;00m\n\u001b[1;32m    211\u001b[0m \u001b[39mif\u001b[39;00m \u001b[39mself\u001b[39m\u001b[39m.\u001b[39mcfg\u001b[39m.\u001b[39mdtype \u001b[39mnot\u001b[39;00m \u001b[39min\u001b[39;00m [torch\u001b[39m.\u001b[39mfloat32, torch\u001b[39m.\u001b[39mfloat64]:\n\u001b[1;32m    212\u001b[0m     \u001b[39m# If using 16 bits, increase the precision to avoid numerical instabilities\u001b[39;00m\n\u001b[1;32m    213\u001b[0m     q \u001b[39m=\u001b[39m q\u001b[39m.\u001b[39mto(torch\u001b[39m.\u001b[39mfloat32)\n",
      "File \u001b[0;32m~/venv/lib/python3.10/site-packages/transformer_lens/components/abstract_attention.py:533\u001b[0m, in \u001b[0;36mAbstractAttention.apply_rotary\u001b[0;34m(self, x, past_kv_pos_offset, attention_mask)\u001b[0m\n\u001b[1;32m    531\u001b[0m     x_rotated \u001b[39m=\u001b[39m x_rot \u001b[39m*\u001b[39m rotary_cos \u001b[39m+\u001b[39m x_flip \u001b[39m*\u001b[39m rotary_sin\n\u001b[1;32m    532\u001b[0m \u001b[39melse\u001b[39;00m:\n\u001b[0;32m--> 533\u001b[0m     offset_position_ids \u001b[39m=\u001b[39m get_offset_position_ids(past_kv_pos_offset, attention_mask)\n\u001b[1;32m    534\u001b[0m     offset_position_ids \u001b[39m=\u001b[39m offset_position_ids\u001b[39m.\u001b[39mto(\u001b[39mself\u001b[39m\u001b[39m.\u001b[39mrotary_cos\u001b[39m.\u001b[39mdevice)\n\u001b[1;32m    535\u001b[0m     mask_rotary_cos \u001b[39m=\u001b[39m \u001b[39mself\u001b[39m\u001b[39m.\u001b[39mrotary_cos[offset_position_ids, \u001b[39mNone\u001b[39;00m, :]\n",
      "File \u001b[0;32m~/venv/lib/python3.10/site-packages/transformer_lens/utils.py:953\u001b[0m, in \u001b[0;36mget_offset_position_ids\u001b[0;34m(past_kv_pos_offset, attention_mask)\u001b[0m\n\u001b[1;32m    949\u001b[0m shifted_position_ids \u001b[39m=\u001b[39m attention_mask\u001b[39m.\u001b[39mcumsum(dim\u001b[39m=\u001b[39m\u001b[39m1\u001b[39m) \u001b[39m-\u001b[39m \u001b[39m1\u001b[39m  \u001b[39m# [batch, tokens_length]\u001b[39;00m\n\u001b[1;32m    951\u001b[0m \u001b[39m# Set the position ids of all prepending pad tokens to an arbitrary number (zero here)\u001b[39;00m\n\u001b[1;32m    952\u001b[0m \u001b[39m# just to avoid indexing errors.\u001b[39;00m\n\u001b[0;32m--> 953\u001b[0m position_ids \u001b[39m=\u001b[39m shifted_position_ids\u001b[39m.\u001b[39;49mmasked_fill(shifted_position_ids \u001b[39m<\u001b[39;49m \u001b[39m0\u001b[39;49m, \u001b[39m0\u001b[39;49m)\n\u001b[1;32m    954\u001b[0m \u001b[39mreturn\u001b[39;00m position_ids[:, past_kv_pos_offset:]\n",
      "\u001b[0;31mKeyboardInterrupt\u001b[0m: "
     ]
    }
   ],
   "source": [
    "full_prompt_toks = tokenize_instructions(tokenizer, df['prompt'].tolist()) # Full prompt\n",
    "athl_prompt_toks = tokenize_instructions(tokenizer, df['athlete'].tolist()) # <bos>name\n",
    "m_cache = get_mean_cache(model, hook_name=\"hook_z\")\n",
    "mean_cache = {}\n",
    "for k in m_cache.keys():\n",
    "    mean_cache[k] = einops.reduce(\n",
    "        m_cache[k],\n",
    "        'batch seq head d_model -> 1 1 head d_model',\n",
    "        'mean'\n",
    "    )\n",
    "\n",
    "#%%\n",
    "def act_patch_hook_z(act, hook, patch_cache, patch_layer, patch_head):\n",
    "    # heads_to_patch is [(layer, head)]\n",
    "    # heads = [head for layer, head in heads_to_patch if layer == hook.layer()]\n",
    "\n",
    "    # act is batch head seq d_model\n",
    "\n",
    "    # want to patch head and every head after layer 7\n",
    "    if hook.layer() == patch_layer:\n",
    "        act[:, :, patch_head, :] = patch_cache[hook.name][:, :, patch_head, :]\n",
    "    elif hook.layer() >= 7:\n",
    "        act = patch_cache[hook.name]\n",
    "\n",
    "    return act\n",
    "\n",
    "\n",
    "layer_range = range(0, 7)\n",
    "head_range = range(0, model.cfg.n_heads)\n",
    "\n",
    "heads_to_patch = [\n",
    "    (layer, head)\n",
    "    for layer in layer_range\n",
    "    for head in head_range\n",
    "]\n",
    "\n",
    "# Get patch cache\n",
    "results_mat = torch.zeros((len(list(layer_range)), len(list(head_range))), device=device)\n",
    "for (layer, head) in tqdm(heads_to_patch):\n",
    "    # print(f'Patching L{layer}H{head}')\n",
    "\n",
    "    model.reset_hooks()\n",
    "\n",
    "    model.add_hook(\n",
    "        lambda name: 'hook_z' in name,\n",
    "        functools.partial(act_patch_hook_z, patch_cache=mean_cache, patch_layer=layer, patch_head=head),\n",
    "        \"fwd\"\n",
    "    )\n",
    "\n",
    "    results_mat[layer, head] += probe_last_layer(model, full_prompt_toks, df['sport'].tolist()) \n",
    "\n",
    "    model.reset_hooks()\n",
    "    \n",
    "#%%\n",
    "# Get baseline accuracy\n",
    "model.reset_hooks()\n",
    "model.add_hook(\n",
    "    lambda name: 'hook_z' in name,\n",
    "    functools.partial(act_patch_hook_z, patch_cache=mean_cache, patch_layer=-1, patch_head=-1),\n",
    "    \"fwd\"\n",
    ")\n",
    "\n",
    "baseline_acc = probe_last_layer(model, full_prompt_toks, df['sport'].tolist()) \n",
    "\n",
    "model.reset_hooks()\n"
   ]
  },
  {
   "cell_type": "code",
   "execution_count": null,
   "metadata": {},
   "outputs": [],
   "source": [
    "# %% \n",
    "import matplotlib.pyplot as plt\n",
    "\n",
    "fig = plt.figure()\n",
    "plt.imshow(results_mat.cpu().numpy() - baseline_acc, cmap='RdBu', vmax=.4, vmin=-.4)\n",
    "plt.xlabel('Head', fontsize=16)\n",
    "plt.ylabel('Layer', fontsize=16)\n",
    "plt.title('Change in Probe Accuracy \\nwhen Patching Heads', fontsize=16)\n",
    "# increase font size of ticks\n",
    "plt.xticks(fontsize=12)\n",
    "plt.yticks(fontsize=12)\n",
    "# increase font size of colorbar\n",
    "cbar = plt.colorbar()\n",
    "cbar.ax.tick_params(labelsize=12)\n",
    "plt.show()\n",
    "fig.savefig(f\"experiments/sports_facts_manual/results/{model_name.replace('/', '_')}_patch_heatmap.pdf\")\n"
   ]
  },
  {
   "cell_type": "markdown",
   "metadata": {},
   "source": [
    "### Finding extraction heads through path patching heads, MLPs -> output"
   ]
  },
  {
   "cell_type": "code",
   "execution_count": 6,
   "metadata": {},
   "outputs": [],
   "source": [
    "df = pd.read_csv('experiments/sports_facts_manual/sports.csv')\n",
    "df = df[:100]\n",
    "\n",
    "full_prompt_toks = tokenize_instructions(tokenizer, df['prompt'].tolist()) # Full prompt\n",
    "athl_prompt_toks = tokenize_instructions(tokenizer, df['athlete'].tolist()) # <bos>name\n"
   ]
  },
  {
   "cell_type": "code",
   "execution_count": 7,
   "metadata": {},
   "outputs": [],
   "source": [
    "# Need to get the indices of the athletes in the prompts\n",
    "# Then, pick random toks that do not affect the length of the prompts\n",
    "# Then do a path patch from the attention heads to the output\n",
    "\n",
    "def find_subarray_occurrences(arr, subarr):\n",
    "    n = len(arr)\n",
    "    m = len(subarr)\n",
    "    occurrences = []\n",
    "\n",
    "    # Traverse through the main array\n",
    "    for i in range(n - m + 1):\n",
    "        # Check if the subarray matches starting from index i\n",
    "        if arr[i:i + m] == subarr:\n",
    "            occurrences.extend(list(range(i, i+m)))\n",
    "    \n",
    "    return occurrences\n",
    "\n",
    "\n",
    "def find_subject_occurences(prompt_toks_tensor, subject_toks_list):\n",
    "    # Find positions where convolution result matches the sum of each subarray, accounting for their actual length\n",
    "    match_positions = []\n",
    "    for i, subarray in enumerate(subject_toks_list):\n",
    "        match_positions.append(find_subarray_occurrences(prompt_toks_tensor[i].tolist(), subarray))\n",
    "\n",
    "    return match_positions\n",
    "\n",
    "def is_ascii(s):\n",
    "    return all(ord(c) < 128 for c in s)\n",
    "\n",
    "def get_random_toks(ascii_toks, prompt_tok, num_rand_needed, idx_to_replace):\n",
    "    orig_len = prompt_tok.shape[0]\n",
    "    orig_prompt = prompt_tok.clone()\n",
    "    for _ in range(100):\n",
    "        rand = ascii_toks[torch.randint(0, ascii_toks.shape[0], (num_rand_needed,))]\n",
    "        orig_prompt[idx_to_replace] = rand\n",
    "        rand_prompt_len = len(model.tokenizer.encode(model.tokenizer.decode(orig_prompt), add_special_tokens=False))\n",
    "        if rand_prompt_len == orig_len:\n",
    "            return rand\n",
    "    return None\n"
   ]
  },
  {
   "cell_type": "code",
   "execution_count": 8,
   "metadata": {},
   "outputs": [],
   "source": [
    "subject_toks = [tokenizer.encode(' ' + athlete, add_special_tokens=False) for athlete in df['athlete'].tolist()]\n",
    "subject_occs = find_subject_occurences(full_prompt_toks, subject_toks)\n",
    "correct_toks = [tokenizer.encode(' ' + sport, add_special_tokens=False) for sport in df['sport'].tolist()]\n",
    "\n",
    "# Get the list of tokens for the wrong sports\n",
    "wrong_toks = []\n",
    "for i, sport in enumerate(df['sport']):\n",
    "    if sport == 'basketball':\n",
    "        wrong_toks.append([model.tokenizer.encode(' football', add_special_tokens=False), model.tokenizer.encode(' baseball', add_special_tokens=False)])\n",
    "    elif sport == 'football':\n",
    "        wrong_toks.append([model.tokenizer.encode(' basketball', add_special_tokens=False), model.tokenizer.encode(' baseball', add_special_tokens=False)])\n",
    "    elif sport == 'baseball':\n",
    "        wrong_toks.append([model.tokenizer.encode(' football', add_special_tokens=False), model.tokenizer.encode(' basketball', add_special_tokens=False)])\n",
    "\n",
    "ascii_toks = torch.tensor([i for i in range(model.cfg.d_vocab) if is_ascii(model.tokenizer.decode(i))])\n",
    "rand_toks = full_prompt_toks.clone()\n",
    "for batch_idx in range(rand_toks.shape[0]):\n",
    "    # Replace with random token \n",
    "    rand_toks[batch_idx, subject_occs[batch_idx]] = get_random_toks(ascii_toks, full_prompt_toks[batch_idx], len(subject_occs[batch_idx]), subject_occs[batch_idx])\n"
   ]
  },
  {
   "cell_type": "code",
   "execution_count": 9,
   "metadata": {},
   "outputs": [
    {
     "name": "stdout",
     "output_type": "stream",
     "text": [
      "clean_logit_diff=2.6752748489379883, corr_logit_diff=0.22525155544281006\n"
     ]
    }
   ],
   "source": [
    "from libs.path_patching.path_patching import path_patch, IterNode, Node\n",
    "\n",
    "def ave_logit_diff(logits):\n",
    "    # Wrong logit calculation\n",
    "    wrong_logit_weight = torch.zeros(logits.shape[0]).to(device)\n",
    "    for i, idx in enumerate(wrong_toks):\n",
    "        wrong_logit_weight[i] = logits[i, -1, idx].mean()\n",
    "\n",
    "    # print((logits[range(logits.shape[0]), -1, correct_toks] - wrong_logit_weight).mean())\n",
    "    return (logits[range(logits.shape[0]), -1, correct_toks] - wrong_logit_weight).mean()\n",
    "\n",
    "# auto cast\n",
    "with torch.set_grad_enabled(False), torch.cuda.amp.autocast(True, model.W_in.dtype):\n",
    "    clean_logit_diff = ave_logit_diff(model(full_prompt_toks)).item()\n",
    "    corr_logit_diff = ave_logit_diff(model(rand_toks)).item()\n",
    "    print(f\"{clean_logit_diff=}, {corr_logit_diff=}\")\n",
    "\n",
    "def noising_metric(logits):\n",
    "    # used for patching corrupt -> clean\n",
    "    logit_diff = ave_logit_diff(logits)\n",
    "    return ((logit_diff - clean_logit_diff) / (clean_logit_diff - corr_logit_diff)).item()\n",
    "\n",
    "def denoising_metric(logits):\n",
    "    # used for patching clean -> corrupt\n",
    "    logit_diff = ave_logit_diff(logits)\n",
    "    return ((logit_diff - corr_logit_diff) / (clean_logit_diff - corr_logit_diff)).item()\n"
   ]
  },
  {
   "cell_type": "code",
   "execution_count": 10,
   "metadata": {},
   "outputs": [
    {
     "name": "stderr",
     "output_type": "stream",
     "text": [
      "Patching over 'attn_out': 100%|██████████| 32/32 [00:44<00:00,  1.40s/it]"
     ]
    },
    {
     "name": "stdout",
     "output_type": "stream",
     "text": [
      "results['attn_out'].shape = (layer=32)\n"
     ]
    },
    {
     "name": "stderr",
     "output_type": "stream",
     "text": [
      "\n"
     ]
    }
   ],
   "source": [
    "import gc\n",
    "torch.cuda.empty_cache()\n",
    "gc.collect()\n",
    "\n",
    "# Patch over the last 15 layers of heads\n",
    "with torch.set_grad_enabled(False), torch.cuda.amp.autocast(True, model.W_in.dtype):\n",
    "    attn_extraction_results = path_patch(\n",
    "        model,\n",
    "        orig_input=full_prompt_toks,\n",
    "        new_input=rand_toks,\n",
    "        sender_nodes=IterNode('attn_out', seq_pos=-1), \n",
    "        receiver_nodes=Node('resid_post', model.cfg.n_layers-1),\n",
    "        patching_metric=noising_metric,\n",
    "        direct_includes_mlps=False,\n",
    "        verbose=True,\n",
    "    )\n"
   ]
  },
  {
   "cell_type": "markdown",
   "metadata": {},
   "source": [
    "#### Plot"
   ]
  },
  {
   "cell_type": "code",
   "execution_count": 11,
   "metadata": {},
   "outputs": [],
   "source": [
    "head_results = {}\n",
    "\n",
    "for layer in range(model.cfg.n_layers):\n",
    "    head_results[f\"L{layer}_all\"] = float(attn_extraction_results['attn_out'][layer])\n",
    "\n",
    "sorted_res = sorted(head_results.items(), key=lambda x: x[1], reverse=True)\n",
    "# store as json file\n",
    "with open(f\"experiments/sports_facts_manual/results/{model_name.replace('/', '_')}_extraction_head_scores.json\", 'w') as f:\n",
    "    json.dump(sorted_res, f, indent=4)\n"
   ]
  },
  {
   "cell_type": "code",
   "execution_count": 12,
   "metadata": {},
   "outputs": [
    {
     "data": {
      "image/png": "[encoded data removed]",
      "text/plain": [
       "<Figure size 1000x800 with 1 Axes>"
      ]
     },
     "metadata": {},
     "output_type": "display_data"
    }
   ],
   "source": [
    "import matplotlib.pyplot as plt\n",
    "\n",
    "fig = plt.figure(figsize=(10, 8))\n",
    "\n",
    "ax1 = fig.add_subplot(211)\n",
    "ax1.set_title(\"Change in Logit Difference \\n Path Patching Attention -> Final Output\", fontsize=16)\n",
    "ax1.set_xlabel(\"Layer\", fontsize=14)\n",
    "ax1.set_ylabel(\"Change in Logit Difference\", fontsize=14)\n",
    "# Set xtick size\n",
    "plt.xticks(fontsize=12)\n",
    "plt.xticks(range(0, model.cfg.n_layers, 5))\n",
    "# Set ytick size\n",
    "plt.yticks(fontsize=12)\n",
    "\n",
    "plt.plot(attn_extraction_results['attn_out'], marker='o')\n",
    "\n",
    "plt.show()\n",
    "fig.savefig(f\"experiments/sports_facts_manual/results/{model_name.replace('/', '_')}_extraction_heads.pdf\", bbox_inches='tight')\n"
   ]
  },
  {
   "cell_type": "code",
   "execution_count": 26,
   "metadata": {},
   "outputs": [],
   "source": [
    "head_results = {}\n",
    "\n",
    "for layer in range(model.cfg.n_layers):\n",
    "    for head in range(model.cfg.n_heads):\n",
    "        head_results[f\"L{layer}H{head}\"] = float(attn_extraction_results['z'][layer, head])\n",
    "\n",
    "sorted_res = sorted(head_results.items(), key=lambda x: x[1], reverse=True)\n",
    "# store as json file\n",
    "with open(f\"experiments/sports_facts_manual/results/{model_name.replace('/', '_')}_extraction_head_scores.json\", 'w') as f:\n",
    "    json.dump(sorted_res, f, indent=4)\n"
   ]
  },
  {
   "cell_type": "code",
   "execution_count": 16,
   "metadata": {},
   "outputs": [
    {
     "data": {
      "image/png": "[encoded data removed]",
      "text/plain": [
       "<Figure size 1000x800 with 2 Axes>"
      ]
     },
     "metadata": {},
     "output_type": "display_data"
    }
   ],
   "source": [
    "# Plot \n",
    "import matplotlib.pyplot as plt\n",
    "\n",
    "fig = plt.figure(figsize=(10, 8))\n",
    "\n",
    "# Plot heat map with x being the head and y being the layer\n",
    "\n",
    "ax1 = fig.add_subplot(121)\n",
    "ax1.set_title(\"Change in Logit Difference \\n Path Patching Heads -> Final Output\", fontsize=16)\n",
    "ax1.set_xlabel(\"Head\", fontsize=14)\n",
    "ax1.set_ylabel(\"Layer\", fontsize=14)\n",
    "# Set xtick size\n",
    "plt.xticks(fontsize=12)\n",
    "# Set ytick size\n",
    "plt.yticks(fontsize=12)\n",
    "# Add colormap\n",
    "cbar = plt.colorbar(ax1.imshow(attn_extraction_results[\"z\"].detach().cpu().numpy(), aspect='auto', cmap='RdBu', vmin=-0.5, vmax=0.5))\n",
    "# Colormap label\n",
    "# cbar.set_label('Logit Difference', rotation=90, labelpad=20, fontsize=14)\n",
    "plt.show()\n",
    "fig.savefig(f\"experiments/sports_facts_manual/results/{model_name.replace('/', '_')}_extraction_heads.pdf\", bbox_inches='tight')\n"
   ]
  },
  {
   "cell_type": "code",
   "execution_count": null,
   "metadata": {},
   "outputs": [],
   "source": []
  }
 ],
 "metadata": {
  "kernelspec": {
   "display_name": "venv",
   "language": "python",
   "name": "python3"
  },
  "language_info": {
   "codemirror_mode": {
    "name": "ipython",
    "version": 3
   },
   "file_extension": ".py",
   "mimetype": "text/x-python",
   "name": "python",
   "nbconvert_exporter": "python",
   "pygments_lexer": "ipython3",
   "version": "3.10.13"
  }
 },
 "nbformat": 4,
 "nbformat_minor": 2
}
