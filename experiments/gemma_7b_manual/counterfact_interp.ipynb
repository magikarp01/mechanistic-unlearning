{
 "cells": [
  {
   "cell_type": "code",
   "execution_count": 1,
   "metadata": {},
   "outputs": [
    {
     "name": "stdout",
     "output_type": "stream",
     "text": [
      "/root/mechanistic-unlearning\n"
     ]
    },
    {
     "name": "stderr",
     "output_type": "stream",
     "text": [
      "/opt/conda/lib/python3.10/site-packages/IPython/core/magics/osm.py:393: UserWarning: This is now an optional IPython functionality, using bookmarks requires you to install the `pickleshare` library.\n",
      "  bkms = self.shell.db.get('bookmarks', {})\n",
      "/opt/conda/lib/python3.10/site-packages/IPython/core/magics/osm.py:417: UserWarning: This is now an optional IPython functionality, setting dhist requires you to install the `pickleshare` library.\n",
      "  self.shell.db['dhist'] = compress_dhist(dhist)[-100:]\n",
      "/opt/conda/lib/python3.10/site-packages/tqdm/auto.py:21: TqdmWarning: IProgress not found. Please update jupyter and ipywidgets. See https://ipywidgets.readthedocs.io/en/stable/user_install.html\n",
      "  from .autonotebook import tqdm as notebook_tqdm\n"
     ]
    }
   ],
   "source": [
    "%cd ~/mechanistic-unlearning\n",
    "%load_ext autoreload\n",
    "%autoreload 2\n",
    "import functools\n",
    "import os\n",
    "import gc\n",
    "import json\n",
    "# from tkinter import font\n",
    "import sys\n",
    "\n",
    "from dataset.custom_dataset import PairedInstructionDataset\n",
    "import torch\n",
    "\n",
    "from transformer_lens import HookedTransformer\n",
    "\n",
    "from sklearn.linear_model import LogisticRegression\n",
    "from sklearn.model_selection import train_test_split\n",
    "\n",
    "import numpy as np\n",
    "from tqdm.auto import tqdm\n",
    "from datasets import load_dataset\n",
    "import einops\n",
    "from transformer_lens import ActivationCache\n",
    "import time\n",
    "\n",
    "# project_root = os.path.abspath(os.path.dirname(__file__))\n",
    "project_root = \"/data/phillip_guo/mechanistic-unlearning\"\n",
    "\n",
    "# Add the project root and its subdirectories to the Python path\n",
    "sys.path.insert(0, project_root)\n",
    "sys.path.insert(0, os.path.join(project_root, 'masks_learning'))\n",
    "sys.path.insert(0, os.path.join(project_root, 'localizations'))\n",
    "sys.path.insert(0, os.path.join(project_root, 'tasks'))\n",
    "\n",
    "device = torch.device(\"cuda\" if torch.cuda.is_available() else \"cpu\")"
   ]
  },
  {
   "cell_type": "code",
   "execution_count": 2,
   "metadata": {},
   "outputs": [
    {
     "name": "stderr",
     "output_type": "stream",
     "text": [
      "`config.hidden_act` is ignored, you should use `config.hidden_activation` instead.\n",
      "Gemma's activation function will be set to `gelu_pytorch_tanh`. Please, use\n",
      "`config.hidden_activation` if you want to override this behaviour.\n",
      "See https://github.com/huggingface/transformers/pull/29402 for more details.\n",
      "Loading checkpoint shards: 100%|██████████| 4/4 [00:00<00:00,  7.15it/s]\n"
     ]
    },
    {
     "name": "stdout",
     "output_type": "stream",
     "text": [
      "Loaded pretrained model google/gemma-7b into HookedTransformer\n"
     ]
    }
   ],
   "source": [
    "model_name = \"google/gemma-7b\"\n",
    "model_type = \"gemma_7b\"\n",
    "model = HookedTransformer.from_pretrained(\n",
    "    model_name,\n",
    "    device='cuda',\n",
    "    default_padding_side=\"left\",\n",
    "    fold_ln=False,\n",
    "    fold_value_biases=False,\n",
    "    center_writing_weights=False,\n",
    "    dtype=torch.bfloat16\n",
    ")\n",
    "tokenizer = model.tokenizer"
   ]
  },
  {
   "cell_type": "markdown",
   "metadata": {},
   "source": [
    "## Develop CounterFact Dataset"
   ]
  },
  {
   "cell_type": "code",
   "execution_count": 3,
   "metadata": {},
   "outputs": [],
   "source": [
    "import pandas as pd\n",
    "\n",
    "counterfact_df = load_dataset(\"PhillipGuo/counterfact-with-gemma-probs\", split=model_type).to_pandas()"
   ]
  },
  {
   "cell_type": "code",
   "execution_count": 4,
   "metadata": {},
   "outputs": [
    {
     "name": "stderr",
     "output_type": "stream",
     "text": [
      "  9%|▉         | 32/343 [00:00<00:00, 314.66it/s]"
     ]
    },
    {
     "name": "stderr",
     "output_type": "stream",
     "text": [
      "100%|██████████| 343/343 [00:01<00:00, 325.43it/s]\n"
     ]
    }
   ],
   "source": [
    "def get_token_sequence_pos(prompt_list, token_strs, batch_size=64):\n",
    "    \n",
    "    substring_start_positions = []\n",
    "    substring_end_positions = []\n",
    "    for i in tqdm(range(0, len(prompt_list), batch_size)):\n",
    "        tokenized_prompts = tokenizer(prompt_list[i:i+batch_size], return_tensors=\"pt\", padding=True)\n",
    "        \n",
    "        tokenized_substrings = tokenizer(token_strs[i:i+batch_size]).input_ids\n",
    "        for j in range(len(tokenized_substrings)):\n",
    "            if tokenized_substrings[j][0] == tokenizer.bos_token_id:\n",
    "                substring = tokenized_substrings[j][1:]\n",
    "            else:\n",
    "                substring = tokenized_substrings[j]\n",
    "            substring = torch.tensor(substring)\n",
    "            prompt = tokenized_prompts.input_ids[j]\n",
    "            # print(prompt, substring)\n",
    "\n",
    "            # Find the last occurrence of the substring\n",
    "            for k in range(len(prompt) - len(substring), -1, -1):\n",
    "                if torch.all(prompt[k:k+len(substring)] == substring):\n",
    "                    substring_start_positions.append(k - len(prompt))\n",
    "                    substring_end_positions.append(k + len(substring) - len(prompt))\n",
    "                    # if 0, then we are at the end of the prompt, we should treat it weird after\n",
    "                    # if k - len(prompt) < 0:\n",
    "                    #     substring_start_positions.append(k - len(prompt))\n",
    "                    # else:\n",
    "                    #     substring_start_positions.append(len(prompt))\n",
    "                    # if k+len(substring) < len(prompt):\n",
    "                    #     substring_end_positions.append((k+len(substring))-len(prompt))\n",
    "                    # else:\n",
    "                    #     substring_end_positions.append(len(prompt))\n",
    "                    break\n",
    "            else:\n",
    "                # If substring not found, append 1\n",
    "                substring_start_positions.append(1)\n",
    "                substring_end_positions.append(1)\n",
    "    return substring_start_positions, substring_end_positions\n",
    "\n",
    "substring_start_positions, substring_end_positions = get_token_sequence_pos((counterfact_df[\"prompt\"] + counterfact_df[\"target_true\"]).tolist(), counterfact_df[\"target_true\"].tolist())\n",
    "# # model process full prompt"
   ]
  },
  {
   "cell_type": "code",
   "execution_count": 5,
   "metadata": {},
   "outputs": [],
   "source": [
    "# # model process full prompt\n",
    "# batch_size = 64\n",
    "# prompt_list = (counterfact_df[\"prompt\"] + counterfact_df[\"target_true\"]).tolist()\n",
    "# tokenized_substrings = tokenizer(counterfact_df[\"target_true\"].tolist()).input_ids\n",
    "\n",
    "# correct_probs = []\n",
    "# for i in tqdm(range(0, len(prompt_list), batch_size)):\n",
    "#     tokenized = tokenizer(prompt_list[i:i+batch_size], return_tensors=\"pt\", padding=True)\n",
    "#     prompt_toks = tokenized.input_ids\n",
    "#     attn_mask = tokenized.attention_mask\n",
    "#     current_substring_positions = substring_positions[i:i+batch_size]\n",
    "\n",
    "#     with torch.set_grad_enabled(False):\n",
    "#         output = model(prompt_toks.cuda(), attention_mask=attn_mask.cuda())\n",
    "    \n",
    "#     for j in range(len(current_substring_positions)):\n",
    "#         # check [pos-1: -1]\n",
    "#         answer_preds = output[j, current_substring_positions[j]-1: -1]\n",
    "\n",
    "#         if tokenized_substrings[i+j][0] == tokenizer.bos_token_id:\n",
    "#             label = tokenized_substrings[i+j][1:]\n",
    "#         else:\n",
    "#             label = tokenized_substrings[i+j]\n",
    "#         label = torch.tensor(label)\n",
    "        \n",
    "#         # get probability of correct answer across all label tokens (answer_preds is answer_len x vocab, label is shape (answer_len,))\n",
    "#         probs = torch.nn.functional.softmax(answer_preds, dim=-1)\n",
    "#         correct_prob = probs[torch.arange(len(label)), label]\n",
    "#         # multiply across answer_len\n",
    "#         correct_probs.append(torch.prod(correct_prob).item())\n",
    "    \n",
    "# print(torch.tensor(correct_probs).mean())\n",
    "# import matplotlib.pyplot as plt\n",
    "# plt.hist(correct_probs)\n",
    "# plt.show()"
   ]
  },
  {
   "cell_type": "markdown",
   "metadata": {},
   "source": [
    "## Filter CFact for facts which model gets correct"
   ]
  },
  {
   "cell_type": "code",
   "execution_count": 6,
   "metadata": {},
   "outputs": [],
   "source": [
    "correct_prob_threshold = 0.5\n",
    "# filter for when model gets first token correct (assuming future tokens will also be correct)\n",
    "counterfact_df = counterfact_df[counterfact_df[\"prob_of_correct_answer\"] > correct_prob_threshold]"
   ]
  },
  {
   "cell_type": "markdown",
   "metadata": {},
   "source": [
    "## Cache Activations"
   ]
  },
  {
   "cell_type": "code",
   "execution_count": 7,
   "metadata": {},
   "outputs": [],
   "source": [
    "# get activations at these positions\n",
    "from collections import defaultdict\n",
    "def retrieve_acts(model, prompt_list, batch_size, layer=None, to_cpu=False, truncate_length=None, sequence_pos=None):\n",
    "    if layer is None:\n",
    "        caches = defaultdict(list)\n",
    "    else:\n",
    "        caches = []\n",
    "    if isinstance(sequence_pos, int):\n",
    "        sequence_pos = torch.tensor([sequence_pos] * len(prompt_list))\n",
    "    elif sequence_pos is None:\n",
    "        sequence_pos = torch.tensor([-1] * len(prompt_list))\n",
    "    for i in tqdm(range(0, len(prompt_list), batch_size)):\n",
    "        tokenized_prompts = tokenizer(prompt_list[i:i+batch_size], return_tensors=\"pt\", padding=True, truncation=True)\n",
    "        prompt_toks = tokenized_prompts.input_ids\n",
    "        attn_mask = tokenized_prompts.attention_mask\n",
    "        if truncate_length is not None:\n",
    "            if len(prompt_toks[0]) > truncate_length:\n",
    "                print(f\"Prompt {i} is too long, truncating\")\n",
    "                prompt_toks = prompt_toks[:, -truncate_length:]\n",
    "                attn_mask = attn_mask[:, -truncate_length:]\n",
    "\n",
    "        _, cache = model.run_with_cache(\n",
    "            prompt_toks,\n",
    "            attention_mask=attn_mask,\n",
    "            names_filter = (lambda name: f\"hook_resid_post\" in name) if layer is None else (f\"blocks.{layer}.hook_resid_post\")\n",
    "        )\n",
    "        batch_sequence_pos_index = sequence_pos[i:i+batch_size]\n",
    "\n",
    "        if layer is None:\n",
    "            for k, v in cache.items():\n",
    "                key_layer = int(k.split(\".\")[1])\n",
    "\n",
    "                if isinstance(sequence_pos, torch.Tensor) and len(sequence_pos.shape) > 1:\n",
    "                    batch_index = torch.arange(v.shape[0]).unsqueeze(-1).repeat(1, batch_sequence_pos_index.shape[1])\n",
    "                else:\n",
    "                    batch_index = torch.arange(v.shape[0])\n",
    "                sequence_cache = v[batch_index, batch_sequence_pos_index, :]\n",
    "                if to_cpu:\n",
    "                    sequence_cache = sequence_cache.cpu()\n",
    "                caches[key_layer].append(sequence_cache)\n",
    "        else:\n",
    "            if isinstance(sequence_pos, torch.Tensor) and len(sequence_pos.shape) > 1:\n",
    "                batch_index = torch.arange(cache.shape[0]).unsqueeze(-1).repeat(1, batch_sequence_pos_index.shape[1])\n",
    "            else:\n",
    "                batch_index = torch.arange(cache.shape[0])\n",
    "            sequence_cache = cache[f\"blocks.{layer}.hook_resid_post\"][batch_index, batch_sequence_pos_index, :]\n",
    "            caches.append(sequence_cache.cpu() if to_cpu else sequence_cache)\n",
    "    if layer is None:\n",
    "        for k, v in caches.items():\n",
    "            caches[k] = torch.cat(v, dim=0)\n",
    "    else:\n",
    "        caches = torch.cat(caches, dim=0)\n",
    "    return caches\n"
   ]
  },
  {
   "cell_type": "code",
   "execution_count": 8,
   "metadata": {},
   "outputs": [
    {
     "name": "stderr",
     "output_type": "stream",
     "text": [
      "  0%|          | 0/68 [00:00<?, ?it/s]Asking to truncate to max_length but no maximum length is provided and the model has no predefined maximum length. Default to no truncation.\n"
     ]
    },
    {
     "name": "stderr",
     "output_type": "stream",
     "text": [
      "100%|██████████| 68/68 [00:10<00:00,  6.45it/s]\n",
      "100%|██████████| 68/68 [00:09<00:00,  6.81it/s]\n"
     ]
    }
   ],
   "source": [
    "import pickle\n",
    "load_acts = False\n",
    "if load_acts:\n",
    "    with open(f\"experiments/gemma_7b_manual/counterfact_true_false_acts_{correct_prob_threshold=}.pkl\", \"rb\") as f:\n",
    "        data = pickle.load(f)\n",
    "        true_acts = data[\"true_acts\"]\n",
    "        false_acts = data[\"false_acts\"]\n",
    "else:\n",
    "    true_acts = retrieve_acts(model, [(\"Consider the truthfulness of the following statement.\\n\\n\" + x + \"\\n\\nIs this statement true: \") for x in (counterfact_df[\"prompt\"] + counterfact_df[\"target_true\"]).tolist()], batch_size=32, sequence_pos=-1, to_cpu=True)\n",
    "    false_acts = retrieve_acts(model, [(\"Consider the truthfulness of the following statement.\\n\\n\" + x + \"\\n\\nIs this statement true: \") for x in (counterfact_df[\"prompt\"] + counterfact_df[\"target_false\"]).tolist()], batch_size=32, sequence_pos=-1, to_cpu=True)\n",
    "    true_acts = {layer: true_acts[layer].cpu().float().numpy() for layer in range(model.cfg.n_layers)}\n",
    "    false_acts = {layer: false_acts[layer].cpu().float().numpy() for layer in range(model.cfg.n_layers)}\n",
    "    with open(f\"experiments/gemma_7b_manual/counterfact_true_false_acts_{correct_prob_threshold=}.pkl\", \"wb\") as f:\n",
    "        pickle.dump({\"true_acts\": true_acts, \"false_acts\": false_acts}, f)\n"
   ]
  },
  {
   "cell_type": "code",
   "execution_count": 9,
   "metadata": {},
   "outputs": [
    {
     "name": "stdout",
     "output_type": "stream",
     "text": [
      "(2169, 3072)\n",
      "(2169, 3072)\n",
      "-0.0025819433\n",
      "-0.0025826246\n",
      "(2169, 3072)\n",
      "(2169, 3072)\n",
      "-0.0011457064\n",
      "-0.0011461582\n",
      "(2169, 3072)\n",
      "(2169, 3072)\n",
      "0.0011484821\n",
      "0.0011305264\n",
      "(2169, 3072)\n",
      "(2169, 3072)\n",
      "0.00060208334\n",
      "0.0005842908\n",
      "(2169, 3072)\n",
      "(2169, 3072)\n",
      "-0.0014300587\n",
      "-0.0014429024\n",
      "(2169, 3072)\n",
      "(2169, 3072)\n",
      "5.134535e-05\n",
      "6.540376e-06\n",
      "(2169, 3072)\n",
      "(2169, 3072)\n",
      "-0.00023541748\n",
      "-0.00024821007\n",
      "(2169, 3072)\n",
      "(2169, 3072)\n",
      "-0.00029444986\n",
      "-0.00030166094\n",
      "(2169, 3072)\n",
      "(2169, 3072)\n",
      "-0.00076410454\n",
      "-0.00074527645\n",
      "(2169, 3072)\n",
      "(2169, 3072)\n",
      "-0.0014443728\n",
      "-0.0014505908\n",
      "(2169, 3072)\n",
      "(2169, 3072)\n",
      "-0.00012027039\n",
      "-0.00010959621\n",
      "(2169, 3072)\n",
      "(2169, 3072)\n",
      "0.00076561054\n",
      "0.00071120413\n",
      "(2169, 3072)\n",
      "(2169, 3072)\n",
      "-0.0009427543\n",
      "-0.0009778517\n",
      "(2169, 3072)\n",
      "(2169, 3072)\n",
      "-0.0005797604\n",
      "-0.000627281\n",
      "(2169, 3072)\n",
      "(2169, 3072)\n",
      "0.00020480214\n",
      "0.00015890505\n",
      "(2169, 3072)\n",
      "(2169, 3072)\n",
      "0.00055026566\n",
      "0.0005614716\n",
      "(2169, 3072)\n",
      "(2169, 3072)\n",
      "-0.0006476216\n",
      "-0.00073130464\n",
      "(2169, 3072)\n",
      "(2169, 3072)\n",
      "-0.00026467064\n",
      "-0.00023401255\n",
      "(2169, 3072)\n",
      "(2169, 3072)\n",
      "-0.0004510956\n",
      "-0.00042315453\n",
      "(2169, 3072)\n",
      "(2169, 3072)\n",
      "-0.0006625728\n",
      "-0.0005909364\n",
      "(2169, 3072)\n",
      "(2169, 3072)\n",
      "-0.0009298231\n",
      "-0.0009693858\n",
      "(2169, 3072)\n",
      "(2169, 3072)\n",
      "-0.0018066841\n",
      "-0.001875348\n",
      "(2169, 3072)\n",
      "(2169, 3072)\n",
      "-0.0013513522\n",
      "-0.001449302\n",
      "(2169, 3072)\n",
      "(2169, 3072)\n",
      "-0.0037109586\n",
      "-0.0038293982\n",
      "(2169, 3072)\n",
      "(2169, 3072)\n",
      "-0.0046638935\n",
      "-0.004988227\n",
      "(2169, 3072)\n",
      "(2169, 3072)\n",
      "-0.0051875105\n",
      "-0.005245311\n",
      "(2169, 3072)\n",
      "(2169, 3072)\n",
      "-0.005976698\n",
      "-0.006266592\n",
      "(2169, 3072)\n",
      "(2169, 3072)\n",
      "-0.0043262653\n",
      "-0.0058961324\n"
     ]
    }
   ],
   "source": [
    "for layer in range(model.cfg.n_layers):\n",
    "    print(true_acts[layer].shape)\n",
    "    print(false_acts[layer].shape)\n",
    "    print(true_acts[layer].mean())\n",
    "    print(false_acts[layer].mean())"
   ]
  },
  {
   "cell_type": "markdown",
   "metadata": {},
   "source": [
    "## Train Probes"
   ]
  },
  {
   "cell_type": "code",
   "execution_count": 51,
   "metadata": {},
   "outputs": [
    {
     "name": "stdout",
     "output_type": "stream",
     "text": [
      "[3975 1448 2662 ... 3092 3772  860]\n"
     ]
    },
    {
     "name": "stderr",
     "output_type": "stream",
     "text": [
      "  0%|          | 0/28 [00:00<?, ?it/s]"
     ]
    },
    {
     "name": "stderr",
     "output_type": "stream",
     "text": [
      "/opt/conda/lib/python3.10/site-packages/sklearn/linear_model/_sag.py:350: ConvergenceWarning: The max_iter was reached which means the coef_ did not converge\n",
      "  warnings.warn(\n",
      "  4%|▎         | 1/28 [00:35<15:56, 35.44s/it]/opt/conda/lib/python3.10/site-packages/sklearn/linear_model/_sag.py:350: ConvergenceWarning: The max_iter was reached which means the coef_ did not converge\n",
      "  warnings.warn(\n",
      "  7%|▋         | 2/28 [01:10<15:22, 35.48s/it]/opt/conda/lib/python3.10/site-packages/sklearn/linear_model/_sag.py:350: ConvergenceWarning: The max_iter was reached which means the coef_ did not converge\n",
      "  warnings.warn(\n",
      " 11%|█         | 3/28 [01:46<14:47, 35.50s/it]/opt/conda/lib/python3.10/site-packages/sklearn/linear_model/_sag.py:350: ConvergenceWarning: The max_iter was reached which means the coef_ did not converge\n",
      "  warnings.warn(\n",
      " 14%|█▍        | 4/28 [02:21<14:11, 35.49s/it]/opt/conda/lib/python3.10/site-packages/sklearn/linear_model/_sag.py:350: ConvergenceWarning: The max_iter was reached which means the coef_ did not converge\n",
      "  warnings.warn(\n",
      " 18%|█▊        | 5/28 [02:58<13:47, 35.98s/it]/opt/conda/lib/python3.10/site-packages/sklearn/linear_model/_sag.py:350: ConvergenceWarning: The max_iter was reached which means the coef_ did not converge\n",
      "  warnings.warn(\n",
      " 21%|██▏       | 6/28 [03:34<13:07, 35.79s/it]/opt/conda/lib/python3.10/site-packages/sklearn/linear_model/_sag.py:350: ConvergenceWarning: The max_iter was reached which means the coef_ did not converge\n",
      "  warnings.warn(\n",
      " 25%|██▌       | 7/28 [04:11<12:43, 36.36s/it]/opt/conda/lib/python3.10/site-packages/sklearn/linear_model/_sag.py:350: ConvergenceWarning: The max_iter was reached which means the coef_ did not converge\n",
      "  warnings.warn(\n",
      " 29%|██▊       | 8/28 [04:47<12:01, 36.09s/it]/opt/conda/lib/python3.10/site-packages/sklearn/linear_model/_sag.py:350: ConvergenceWarning: The max_iter was reached which means the coef_ did not converge\n",
      "  warnings.warn(\n",
      " 32%|███▏      | 9/28 [05:22<11:20, 35.81s/it]/opt/conda/lib/python3.10/site-packages/sklearn/linear_model/_sag.py:350: ConvergenceWarning: The max_iter was reached which means the coef_ did not converge\n",
      "  warnings.warn(\n",
      " 36%|███▌      | 10/28 [05:58<10:43, 35.74s/it]/opt/conda/lib/python3.10/site-packages/sklearn/linear_model/_sag.py:350: ConvergenceWarning: The max_iter was reached which means the coef_ did not converge\n",
      "  warnings.warn(\n",
      " 39%|███▉      | 11/28 [06:33<10:06, 35.66s/it]/opt/conda/lib/python3.10/site-packages/sklearn/linear_model/_sag.py:350: ConvergenceWarning: The max_iter was reached which means the coef_ did not converge\n",
      "  warnings.warn(\n",
      " 43%|████▎     | 12/28 [07:09<09:30, 35.64s/it]/opt/conda/lib/python3.10/site-packages/sklearn/linear_model/_sag.py:350: ConvergenceWarning: The max_iter was reached which means the coef_ did not converge\n",
      "  warnings.warn(\n",
      " 46%|████▋     | 13/28 [07:44<08:54, 35.63s/it]/opt/conda/lib/python3.10/site-packages/sklearn/linear_model/_sag.py:350: ConvergenceWarning: The max_iter was reached which means the coef_ did not converge\n",
      "  warnings.warn(\n",
      " 50%|█████     | 14/28 [08:20<08:18, 35.58s/it]/opt/conda/lib/python3.10/site-packages/sklearn/linear_model/_sag.py:350: ConvergenceWarning: The max_iter was reached which means the coef_ did not converge\n",
      "  warnings.warn(\n",
      " 54%|█████▎    | 15/28 [08:55<07:42, 35.56s/it]/opt/conda/lib/python3.10/site-packages/sklearn/linear_model/_sag.py:350: ConvergenceWarning: The max_iter was reached which means the coef_ did not converge\n",
      "  warnings.warn(\n",
      " 57%|█████▋    | 16/28 [09:31<07:06, 35.54s/it]/opt/conda/lib/python3.10/site-packages/sklearn/linear_model/_sag.py:350: ConvergenceWarning: The max_iter was reached which means the coef_ did not converge\n",
      "  warnings.warn(\n",
      " 61%|██████    | 17/28 [10:06<06:31, 35.55s/it]/opt/conda/lib/python3.10/site-packages/sklearn/linear_model/_sag.py:350: ConvergenceWarning: The max_iter was reached which means the coef_ did not converge\n",
      "  warnings.warn(\n",
      " 64%|██████▍   | 18/28 [10:42<05:55, 35.54s/it]/opt/conda/lib/python3.10/site-packages/sklearn/linear_model/_sag.py:350: ConvergenceWarning: The max_iter was reached which means the coef_ did not converge\n",
      "  warnings.warn(\n",
      " 68%|██████▊   | 19/28 [11:18<05:20, 35.61s/it]/opt/conda/lib/python3.10/site-packages/sklearn/linear_model/_sag.py:350: ConvergenceWarning: The max_iter was reached which means the coef_ did not converge\n",
      "  warnings.warn(\n",
      " 71%|███████▏  | 20/28 [11:53<04:44, 35.61s/it]/opt/conda/lib/python3.10/site-packages/sklearn/linear_model/_sag.py:350: ConvergenceWarning: The max_iter was reached which means the coef_ did not converge\n",
      "  warnings.warn(\n",
      " 75%|███████▌  | 21/28 [12:29<04:09, 35.59s/it]/opt/conda/lib/python3.10/site-packages/sklearn/linear_model/_sag.py:350: ConvergenceWarning: The max_iter was reached which means the coef_ did not converge\n",
      "  warnings.warn(\n",
      " 79%|███████▊  | 22/28 [13:05<03:34, 35.67s/it]/opt/conda/lib/python3.10/site-packages/sklearn/linear_model/_sag.py:350: ConvergenceWarning: The max_iter was reached which means the coef_ did not converge\n",
      "  warnings.warn(\n",
      " 82%|████████▏ | 23/28 [13:40<02:58, 35.69s/it]/opt/conda/lib/python3.10/site-packages/sklearn/linear_model/_sag.py:350: ConvergenceWarning: The max_iter was reached which means the coef_ did not converge\n",
      "  warnings.warn(\n",
      " 86%|████████▌ | 24/28 [14:16<02:22, 35.73s/it]/opt/conda/lib/python3.10/site-packages/sklearn/linear_model/_sag.py:350: ConvergenceWarning: The max_iter was reached which means the coef_ did not converge\n",
      "  warnings.warn(\n",
      " 89%|████████▉ | 25/28 [14:52<01:47, 35.70s/it]/opt/conda/lib/python3.10/site-packages/sklearn/linear_model/_sag.py:350: ConvergenceWarning: The max_iter was reached which means the coef_ did not converge\n",
      "  warnings.warn(\n",
      " 93%|█████████▎| 26/28 [15:28<01:11, 35.72s/it]/opt/conda/lib/python3.10/site-packages/sklearn/linear_model/_sag.py:350: ConvergenceWarning: The max_iter was reached which means the coef_ did not converge\n",
      "  warnings.warn(\n",
      " 96%|█████████▋| 27/28 [16:03<00:35, 35.68s/it]/opt/conda/lib/python3.10/site-packages/sklearn/linear_model/_sag.py:350: ConvergenceWarning: The max_iter was reached which means the coef_ did not converge\n",
      "  warnings.warn(\n",
      "100%|██████████| 28/28 [16:39<00:00, 35.68s/it]"
     ]
    },
    {
     "name": "stdout",
     "output_type": "stream",
     "text": [
      "{0: 0.5195852534562212, 1: 0.5633640552995391, 2: 0.6658986175115207, 3: 0.6486175115207373, 4: 0.6993087557603687, 5: 0.7661290322580645, 6: 0.8548387096774194, 7: 0.8352534562211982, 8: 0.8513824884792627, 9: 0.8548387096774194, 10: 0.9262672811059908, 11: 0.9423963133640553, 12: 0.9470046082949308, 13: 0.9585253456221198, 14: 0.9585253456221198, 15: 0.9654377880184332, 16: 0.9758064516129032, 17: 0.9723502304147466, 18: 0.9769585253456221, 19: 0.966589861751152, 20: 0.9758064516129032, 21: 0.9723502304147466, 22: 0.966589861751152, 23: 0.9608294930875576, 24: 0.9550691244239631, 25: 0.9516129032258065, 26: 0.9447004608294931, 27: 0.9470046082949308}\n"
     ]
    },
    {
     "name": "stderr",
     "output_type": "stream",
     "text": [
      "\n"
     ]
    }
   ],
   "source": [
    "from sklearn.preprocessing import StandardScaler\n",
    "from multiprocessing.dummy import Pool as ThreadPool\n",
    "def train_test_probe(X_train, X_test, y_train, y_test, preprocess=True, return_scaler=False):\n",
    "    if preprocess:\n",
    "        scaler = StandardScaler()\n",
    "        X_train = scaler.fit_transform(X_train)\n",
    "        X_test = scaler.transform(X_test)\n",
    "    clf = LogisticRegression(solver='sag', max_iter=500).fit(X_train, y_train)\n",
    "    if return_scaler:\n",
    "        return clf.score(X_test, y_test), clf, scaler\n",
    "    return clf.score(X_test, y_test), clf\n",
    "\n",
    "results_dict = {}\n",
    "def get_shuffle_indices(length):\n",
    "    np.random.seed(42)  # Set a constant seed\n",
    "    return np.random.permutation(length)\n",
    "\n",
    "shuffle_indices = get_shuffle_indices(len(counterfact_df[\"target_true\"]) + len(counterfact_df[\"target_false\"])) # should look like array([3975, 1448, 2662, ..., 3092, 3772,  860])\n",
    "print(shuffle_indices)\n",
    "split_index = int(0.8 * len(shuffle_indices))\n",
    "\n",
    "train_indices = shuffle_indices[:split_index]\n",
    "test_indices = shuffle_indices[split_index:]\n",
    "\n",
    "def format_data(layer):\n",
    "    total_acts = np.concatenate([true_acts[layer], false_acts[layer]], axis=0)\n",
    "    total_labels = np.concatenate([np.ones(true_acts[layer].shape[0]), np.zeros(false_acts[layer].shape[0])], axis=0)\n",
    "    # shuffle and split\n",
    "    # total_acts = total_acts[shuffle_indices]\n",
    "    # total_labels = total_labels[shuffle_indices]\n",
    "    X_train = total_acts[train_indices]\n",
    "    X_test = total_acts[test_indices]\n",
    "    y_train = total_labels[train_indices]\n",
    "    y_test = total_labels[test_indices]\n",
    "    return X_train, X_test, y_train, y_test\n",
    "\n",
    "def probe_layer(layer):\n",
    "    X_train, X_test, y_train, y_test = format_data(layer)\n",
    "    return train_test_probe(X_train, X_test, y_train, y_test)\n",
    "\n",
    "\n",
    "load_probes = False\n",
    "if load_probes:\n",
    "    with open(f\"experiments/gemma_7b_manual/counterfact_clfs_{correct_prob_threshold=}.pkl\", \"rb\") as f:\n",
    "        data = pickle.load(f)\n",
    "        clfs = data[\"clfs\"]\n",
    "        results_dict = data[\"results_dict\"]\n",
    "        scalers = data[\"scalers\"]\n",
    "else:\n",
    "    clfs = {}\n",
    "    scalers = {}\n",
    "    for layer in tqdm(range(model.cfg.n_layers)):\n",
    "        total_acts = np.concatenate([true_acts[layer], false_acts[layer]], axis=0)\n",
    "        total_labels = np.concatenate([np.ones(true_acts[layer].shape[0]), np.zeros(false_acts[layer].shape[0])], axis=0)\n",
    "        # shuffle and split\n",
    "        total_acts = total_acts[shuffle_indices]\n",
    "        total_labels = total_labels[shuffle_indices]\n",
    "        split_index = int(0.8 * total_acts.shape[0])\n",
    "        X_train = total_acts[:split_index]\n",
    "        X_test = total_acts[split_index:]\n",
    "        y_train = total_labels[:split_index]\n",
    "        y_test = total_labels[split_index:]\n",
    "        test_acc, clf, scaler = train_test_probe(X_train, X_test, y_train, y_test, return_scaler=True)\n",
    "        results_dict[layer] = test_acc\n",
    "        clfs[layer] = clf\n",
    "        scalers[layer] = scaler\n",
    "    print(results_dict)\n",
    "\n",
    "    with open(f\"experiments/gemma_7b_manual/counterfact_clfs_{correct_prob_threshold=}.pkl\", \"wb\") as f:\n",
    "        pickle.dump({\"clfs\": clfs, \"results_dict\": results_dict, \"scalers\": scalers}, f)\n",
    "# print(\"Starting multiprocessing\")\n",
    "# start_time = time.time()\n",
    "# with ThreadPool(processes=model.cfg.n_layers) as pool:  # Using ThreadPool\n",
    "#     results = pool.starmap(probe_layer, [(layer,) for layer in range(model.cfg.n_layers)])\n",
    "# end_time = time.time()\n",
    "# print(f\"Time taken: {end_time - start_time} seconds\")\n",
    "# print(results)"
   ]
  },
  {
   "cell_type": "code",
   "execution_count": 52,
   "metadata": {},
   "outputs": [
    {
     "data": {
      "text/plain": [
       "array([3975, 1448, 2662, ..., 2593,   68, 3485])"
      ]
     },
     "execution_count": 52,
     "metadata": {},
     "output_type": "execute_result"
    }
   ],
   "source": [
    "train_indices"
   ]
  },
  {
   "cell_type": "code",
   "execution_count": 53,
   "metadata": {},
   "outputs": [
    {
     "data": {
      "text/plain": [
       "(4338,)"
      ]
     },
     "execution_count": 53,
     "metadata": {},
     "output_type": "execute_result"
    }
   ],
   "source": [
    "total_labels.shape"
   ]
  },
  {
   "cell_type": "code",
   "execution_count": 54,
   "metadata": {},
   "outputs": [
    {
     "data": {
      "image/png": "[encoded data removed]",
      "text/plain": [
       "<Figure size 1200x600 with 1 Axes>"
      ]
     },
     "metadata": {},
     "output_type": "display_data"
    }
   ],
   "source": [
    "import matplotlib.pyplot as plt\n",
    "\n",
    "# results_dict = {0: 0.5231523722627737, 1: 0.5882755474452555, 2: 0.6528284671532847, 3: 0.6526003649635036, 4: 0.6905793795620438, 5: 0.7166970802919708, 6: 0.7844434306569343, 7: 0.7874087591240876, 8: 0.7831888686131386, 9: 0.7979014598540146, 10: 0.8561815693430657, 11: 0.8616560218978102, 12: 0.8640510948905109, 13: 0.8622262773722628, 14: 0.8641651459854015, 15: 0.864507299270073, 16: 0.8638229927007299, 17: 0.8669023722627737, 18: 0.8657618613138686, 19: 0.8664461678832117, 20: 0.864507299270073, 21: 0.8654197080291971, 22: 0.864279197080292, 23: 0.8598312043795621, 24: 0.8560675182481752, 25: 0.8540145985401459, 26: 0.8447764598540146, 27: 0.84375}\n",
    "# Extract layers and accuracies from the results_dict\n",
    "layers = list(results_dict.keys())\n",
    "accuracies = list(results_dict.values())\n",
    "\n",
    "# Create the plot\n",
    "plt.figure(figsize=(12, 6))\n",
    "plt.plot(layers, accuracies, marker='o')\n",
    "\n",
    "# Customize the plot\n",
    "plt.title('Probe Accuracies For Distinguishing True and False CounterFact Statements', fontsize=16)\n",
    "plt.xlabel('Layer', fontsize=14)\n",
    "plt.ylabel('Accuracy', fontsize=14)\n",
    "plt.grid(True, linestyle='--', alpha=0.7)\n",
    "\n",
    "# Improve readability\n",
    "plt.xticks(fontsize=12)\n",
    "plt.yticks(fontsize=12)\n",
    "\n",
    "# Add value labels on the points\n",
    "for i, accuracy in enumerate(accuracies):\n",
    "    plt.annotate(f'{accuracy:.3f}', (layers[i], accuracy), textcoords=\"offset points\", xytext=(0,10), ha='center')\n",
    "\n",
    "# Show the plot\n",
    "plt.tight_layout()\n",
    "plt.show()"
   ]
  },
  {
   "cell_type": "markdown",
   "metadata": {},
   "source": [
    "## Perform Ablations"
   ]
  },
  {
   "cell_type": "code",
   "execution_count": 55,
   "metadata": {},
   "outputs": [],
   "source": [
    "import einops\n",
    "# get mean ablation cache\n",
    "load_mean_cache = True\n",
    "\n",
    "if load_mean_cache:\n",
    "    with open(f\"experiments/gemma_7b_manual/counterfact_mean_caches_{correct_prob_threshold=}.pkl\", \"rb\") as f:\n",
    "        data = pickle.load(f)\n",
    "        attn_cache = data[\"attn_cache\"]\n",
    "        mlp_cache = data[\"mlp_cache\"]\n",
    "    for layer in range(model.cfg.n_layers):\n",
    "        attn_cache[layer] = attn_cache[layer].cuda()\n",
    "        mlp_cache[layer] = mlp_cache[layer].cuda()\n",
    "\n",
    "else:\n",
    "    attn_cache = {}\n",
    "    mlp_cache = {}\n",
    "    for layer in range(model.cfg.n_layers):\n",
    "        attn_cache[layer] = torch.zeros((16, model.cfg.d_head)).to(\"cuda\")\n",
    "        mlp_cache[layer] = torch.zeros((model.cfg.d_model)).to(\"cuda\")\n",
    "\n",
    "    batch_size = 16\n",
    "    all_prompts = [(\"Consider the truthfulness of the following statement.\\n\\n\" + x + \"\\n\\nIs this statement true: \") for x in (counterfact_df[\"prompt\"] + counterfact_df[\"target_true\"]).tolist()] + [(\"Consider the truthfulness of the following statement.\\n\\n\" + x + \"\\n\\nIs this statement true: \") for x in (counterfact_df[\"prompt\"] + counterfact_df[\"target_false\"]).tolist()]\n",
    "    with torch.set_grad_enabled(False):\n",
    "        for i in tqdm(range(0, len(all_prompts), batch_size)):\n",
    "            tokenized_prompts = tokenizer(all_prompts[i:i+batch_size], return_tensors=\"pt\", padding=True, truncation=True)\n",
    "            prompt_toks = tokenized_prompts.input_ids\n",
    "            attn_mask = tokenized_prompts.attention_mask\n",
    "\n",
    "            _, cache = model.run_with_cache(prompt_toks.cuda(), attention_mask=attn_mask.cuda(), names_filter=lambda name: 'hook_z' in name or 'mlp_out' in name)\n",
    "            for layer in range(model.cfg.n_layers):\n",
    "                attn_cache[layer] += einops.reduce(cache[f'blocks.{layer}.attn.hook_z'], \"batch seq head d_head -> head d_head\", \"mean\")\n",
    "                mlp_cache[layer] += einops.reduce(cache[f'blocks.{layer}.hook_mlp_out'], \"batch seq d_mlp -> d_mlp\", \"mean\")\n",
    "\n",
    "    for layer in range(model.cfg.n_layers):\n",
    "        attn_cache[layer] = (attn_cache[layer] / (len(all_prompts) // batch_size)).cpu()\n",
    "        mlp_cache[layer] = (mlp_cache[layer] / (len(all_prompts) // batch_size)).cpu()\n",
    "    \n",
    "    with open(f\"experiments/gemma_7b_manual/counterfact_mean_caches_{correct_prob_threshold=}.pkl\", \"wb\") as f:\n",
    "        pickle.dump({\"attn_cache\": attn_cache, \"mlp_cache\": mlp_cache}, f)\n",
    "    for layer in range(model.cfg.n_layers):\n",
    "        attn_cache[layer] = attn_cache[layer].cuda()\n",
    "        mlp_cache[layer] = mlp_cache[layer].cuda()"
   ]
  },
  {
   "cell_type": "code",
   "execution_count": 56,
   "metadata": {},
   "outputs": [
    {
     "name": "stderr",
     "output_type": "stream",
     "text": [
      "  0%|          | 0/68 [00:00<?, ?it/s]"
     ]
    },
    {
     "name": "stderr",
     "output_type": "stream",
     "text": [
      "100%|██████████| 68/68 [00:00<00:00, 114.06it/s]"
     ]
    },
    {
     "name": "stdout",
     "output_type": "stream",
     "text": [
      " Danielle Darrieux\n",
      " Thomas Joannes Stieltjes\n",
      "Apple A5\n",
      " The Icelandic Dream\n",
      " Monell Chemical Senses Center\n",
      " Jean Galland\n",
      "Tapio Kantanen\n",
      "Toyota Cresta\n",
      "Windows Embedded CE 6.0\n",
      "Nathuram Godse\n",
      "Stefanos Stratigos\n",
      "Hohenlohe-Langenburg\n",
      " Thoranai\n",
      "Honda Insight\n",
      " Northeastern University\n",
      " Cees Nooteboom\n"
     ]
    },
    {
     "name": "stderr",
     "output_type": "stream",
     "text": [
      "\n"
     ]
    }
   ],
   "source": [
    "all_prompts = [(\"Consider the truthfulness of the following statement.\\n\\n\" + x + \"\\n\\nIs this statement true: \") for x in (counterfact_df[\"prompt\"] + counterfact_df[\"target_true\"]).tolist()] + [(\"Consider the truthfulness of the following statement.\\n\\n\" + x + \"\\n\\nIs this statement true: \") for x in (counterfact_df[\"prompt\"] + counterfact_df[\"target_false\"]).tolist()]\n",
    "subject_list = [x for x in counterfact_df[\"subject\"]] + [x for x in counterfact_df[\"subject\"]]\n",
    "start_subject_pos, end_subject_pos = get_token_sequence_pos(all_prompts, subject_list)\n",
    "subject_ranges = list(zip(start_subject_pos, end_subject_pos))\n",
    "tokenized = tokenizer(all_prompts[:16], return_tensors=\"pt\", padding=True)\n",
    "for i in range(16):\n",
    "    input_ids = tokenized.input_ids[i]\n",
    "    print(tokenizer.decode(input_ids[subject_ranges[i][0]:subject_ranges[i][1]]))"
   ]
  },
  {
   "cell_type": "code",
   "execution_count": 61,
   "metadata": {},
   "outputs": [
    {
     "name": "stderr",
     "output_type": "stream",
     "text": [
      "  0%|          | 0/68 [00:00<?, ?it/s]"
     ]
    },
    {
     "name": "stderr",
     "output_type": "stream",
     "text": [
      "100%|██████████| 68/68 [00:00<00:00, 116.54it/s]\n",
      "100%|██████████| 136/136 [00:19<00:00,  7.07it/s]\n"
     ]
    },
    {
     "name": "stdout",
     "output_type": "stream",
     "text": [
      "Concatenating caches\n"
     ]
    }
   ],
   "source": [
    "# Try ablating every head\n",
    "# get results of probes for \n",
    "default_labels = np.concatenate([np.ones(len(counterfact_df[\"target_true\"])), np.zeros(len(counterfact_df[\"target_false\"]))], axis=0)\n",
    "def evaluate_cache(caches, test_indices=test_indices, labels=default_labels, preprocess=True, probes=clfs, scalers=scalers):\n",
    "    correct_responses = {}\n",
    "    accuracies = {}\n",
    "    for layer in range(model.cfg.n_layers):\n",
    "        X_test = caches[layer][test_indices]\n",
    "        if preprocess:\n",
    "            X_test = scalers[layer].transform(X_test)\n",
    "        y_test = labels[test_indices]\n",
    "\n",
    "        clf = probes[layer]\n",
    "        accuracies[layer] = clf.score(X_test, y_test)\n",
    "        # get list of 0s and 1s for each element in test, 0 if probe is wrong and 1 if probe is right\n",
    "        probe_results = clf.predict(X_test)\n",
    "        correct_responses[layer] = (probe_results == y_test).astype(int)\n",
    "    return correct_responses, accuracies\n",
    "\n",
    "def mean_ablate_subject(prompt_list, subject_list, layers, head=None, head_dict=None, attn=False, mlp=False, batch_size=32):\n",
    "    start_subject_pos, end_subject_pos = get_token_sequence_pos(prompt_list, subject_list)\n",
    "    subject_ranges = list(zip(start_subject_pos, end_subject_pos))\n",
    "\n",
    "    \"\"\"\n",
    "    Mean ablate subject of prompt for particular layer. Then, run probes and see which prompts the probes get wrong.\n",
    "    prompt_list and subject_list should be same length\n",
    "    \"\"\"\n",
    "    if isinstance(layers, int):\n",
    "        layers = [layers]\n",
    "    if isinstance(head, int):\n",
    "        head = [head]\n",
    "\n",
    "    if head is not None and head_dict is None:\n",
    "        head_dict = {layer: head for layer in layers}\n",
    "\n",
    "    caches = defaultdict(list)\n",
    "    if attn:\n",
    "        def mean_ablate_hook(input, hook, layer, head, ablation_ranges):\n",
    "            \"\"\"\n",
    "            ablation_ranges is a list of tuples of the form (start, end) (inclusive of start, noninclusive of end) for each sequence in the batch\n",
    "            \"\"\"\n",
    "            # input is batch seq heads d_head\n",
    "            for b in range(input.shape[0]):\n",
    "                if ablation_ranges[b][1] == 0:\n",
    "                    input[b, ablation_ranges[b][0]:, head] = attn_cache[layer][head]\n",
    "                else:\n",
    "                    input[b, ablation_ranges[b][0]:ablation_ranges[b][1], head] = attn_cache[layer][head]\n",
    "            return input\n",
    "    elif mlp:\n",
    "        def mean_ablate_hook(input, hook, layer, ablation_ranges):\n",
    "            \"\"\"\n",
    "            ablation_ranges is a list of tuples of the form (start, end) (inclusive of start, noninclusive of end) for each sequence in the batch\n",
    "            \"\"\"\n",
    "            for b in range(input.shape[0]):\n",
    "                if ablation_ranges[b][1] == 0:\n",
    "                    input[b, ablation_ranges[b][0]:] = mlp_cache[layer]\n",
    "                else:\n",
    "                    input[b, ablation_ranges[b][0]:ablation_ranges[b][1]] = mlp_cache[layer]\n",
    "            return input\n",
    "    for i in tqdm(range(0, len(prompt_list), batch_size)):\n",
    "        tokenized = tokenizer(prompt_list[i:i+batch_size], return_tensors=\"pt\", padding=True)\n",
    "        prompt_toks = tokenized.input_ids\n",
    "        attn_mask = tokenized.attention_mask\n",
    "        hooks = []\n",
    "        if attn:\n",
    "            for layer, heads in head_dict.items():\n",
    "                for head in heads:\n",
    "                    hooks.append((f\"blocks.{layer}.attn.hook_z\", lambda input, hook: mean_ablate_hook(input, hook, layer=layer, head=head, ablation_ranges=subject_ranges[i:i+batch_size])))\n",
    "        elif mlp:\n",
    "            for layer in layers:\n",
    "                hooks.append((f\"blocks.{layer}.hook_mlp_out\", lambda input, hook: mean_ablate_hook(input, hook, layer=layer, ablation_ranges=subject_ranges[i:i+batch_size])))\n",
    "        with torch.set_grad_enabled(False):\n",
    "            with model.hooks(hooks):\n",
    "                _, cache = model.run_with_cache(prompt_toks.cuda(), attention_mask=attn_mask.cuda(), names_filter=lambda name: 'resid_post' in name)\n",
    "\n",
    "        for layer in range(model.cfg.n_layers):\n",
    "            caches[layer].append(cache[f\"blocks.{layer}.hook_resid_post\"][:, -1, :])\n",
    "    print(\"Concatenating caches\")\n",
    "    for layer in range(model.cfg.n_layers):\n",
    "        caches[layer] = torch.cat(caches[layer], dim=0).cpu().float().numpy()\n",
    "    # return caches\n",
    "    return *evaluate_cache(caches, probes=clfs, scalers=scalers), caches\n",
    "\n",
    "all_prompts = [(\"Consider the truthfulness of the following statement.\\n\\n\" + x + \"\\n\\nIs this statement true: \") for x in (counterfact_df[\"prompt\"] + counterfact_df[\"target_true\"]).tolist()] + [(\"Consider the truthfulness of the following statement.\\n\\n\" + x + \"\\n\\nIs this statement true: \") for x in (counterfact_df[\"prompt\"] + counterfact_df[\"target_false\"]).tolist()]\n",
    "subject_list = [x for x in counterfact_df[\"subject\"]] + [x for x in counterfact_df[\"subject\"]]\n",
    "\n",
    "correct_responses, accuracies, caches = mean_ablate_subject(all_prompts, subject_list, layers=27, attn=True, head=15)"
   ]
  },
  {
   "cell_type": "code",
   "execution_count": 91,
   "metadata": {},
   "outputs": [
    {
     "name": "stderr",
     "output_type": "stream",
     "text": [
      "  0%|          | 0/28 [00:00<?, ?it/s]"
     ]
    },
    {
     "name": "stdout",
     "output_type": "stream",
     "text": [
      "Layer: \n"
     ]
    },
    {
     "name": "stderr",
     "output_type": "stream",
     "text": []
    },
    {
     "name": "stderr",
     "output_type": "stream",
     "text": [
      "100%|██████████| 68/68 [00:00<00:00, 110.88it/s]\n",
      "100%|██████████| 136/136 [00:19<00:00,  7.08it/s]\n"
     ]
    },
    {
     "name": "stdout",
     "output_type": "stream",
     "text": [
      "Concatenating caches\n"
     ]
    },
    {
     "name": "stderr",
     "output_type": "stream",
     "text": [
      "100%|██████████| 68/68 [00:00<00:00, 101.56it/s]\n",
      "100%|██████████| 136/136 [00:19<00:00,  7.06it/s]\n"
     ]
    },
    {
     "name": "stdout",
     "output_type": "stream",
     "text": [
      "Concatenating caches\n"
     ]
    },
    {
     "name": "stderr",
     "output_type": "stream",
     "text": [
      "100%|██████████| 68/68 [00:00<00:00, 112.68it/s]\n",
      "100%|██████████| 136/136 [00:19<00:00,  6.96it/s]\n"
     ]
    },
    {
     "name": "stdout",
     "output_type": "stream",
     "text": [
      "Concatenating caches\n"
     ]
    },
    {
     "name": "stderr",
     "output_type": "stream",
     "text": [
      "100%|██████████| 68/68 [00:00<00:00, 111.60it/s]\n",
      "100%|██████████| 136/136 [00:19<00:00,  7.04it/s]\n"
     ]
    },
    {
     "name": "stdout",
     "output_type": "stream",
     "text": [
      "Concatenating caches\n"
     ]
    },
    {
     "name": "stderr",
     "output_type": "stream",
     "text": [
      "100%|██████████| 68/68 [00:00<00:00, 113.99it/s]\n",
      "100%|██████████| 136/136 [00:19<00:00,  7.03it/s]\n"
     ]
    },
    {
     "name": "stdout",
     "output_type": "stream",
     "text": [
      "Concatenating caches\n"
     ]
    },
    {
     "name": "stderr",
     "output_type": "stream",
     "text": [
      "100%|██████████| 68/68 [00:00<00:00, 113.18it/s]\n",
      "100%|██████████| 136/136 [00:19<00:00,  7.02it/s]\n"
     ]
    },
    {
     "name": "stdout",
     "output_type": "stream",
     "text": [
      "Concatenating caches\n"
     ]
    },
    {
     "name": "stderr",
     "output_type": "stream",
     "text": [
      "100%|██████████| 68/68 [00:00<00:00, 115.21it/s]\n",
      "100%|██████████| 136/136 [00:19<00:00,  7.02it/s]\n"
     ]
    },
    {
     "name": "stdout",
     "output_type": "stream",
     "text": [
      "Concatenating caches\n"
     ]
    },
    {
     "name": "stderr",
     "output_type": "stream",
     "text": [
      "100%|██████████| 68/68 [00:00<00:00, 113.56it/s]\n",
      "100%|██████████| 136/136 [00:19<00:00,  7.02it/s]\n"
     ]
    },
    {
     "name": "stdout",
     "output_type": "stream",
     "text": [
      "Concatenating caches\n"
     ]
    },
    {
     "name": "stderr",
     "output_type": "stream",
     "text": [
      "100%|██████████| 68/68 [00:00<00:00, 113.17it/s]\n",
      "100%|██████████| 136/136 [00:19<00:00,  7.02it/s]\n"
     ]
    },
    {
     "name": "stdout",
     "output_type": "stream",
     "text": [
      "Concatenating caches\n"
     ]
    },
    {
     "name": "stderr",
     "output_type": "stream",
     "text": [
      "100%|██████████| 68/68 [00:00<00:00, 112.07it/s]\n",
      "100%|██████████| 136/136 [00:19<00:00,  7.02it/s]\n"
     ]
    },
    {
     "name": "stdout",
     "output_type": "stream",
     "text": [
      "Concatenating caches\n"
     ]
    },
    {
     "name": "stderr",
     "output_type": "stream",
     "text": [
      "100%|██████████| 68/68 [00:00<00:00, 114.60it/s]\n",
      "100%|██████████| 136/136 [00:19<00:00,  7.01it/s]\n"
     ]
    },
    {
     "name": "stdout",
     "output_type": "stream",
     "text": [
      "Concatenating caches\n"
     ]
    },
    {
     "name": "stderr",
     "output_type": "stream",
     "text": [
      "100%|██████████| 68/68 [00:00<00:00, 114.04it/s]\n",
      "100%|██████████| 136/136 [00:19<00:00,  7.02it/s]\n"
     ]
    },
    {
     "name": "stdout",
     "output_type": "stream",
     "text": [
      "Concatenating caches\n"
     ]
    },
    {
     "name": "stderr",
     "output_type": "stream",
     "text": [
      "100%|██████████| 68/68 [00:00<00:00, 109.10it/s]\n",
      "100%|██████████| 136/136 [00:19<00:00,  7.01it/s]\n"
     ]
    },
    {
     "name": "stdout",
     "output_type": "stream",
     "text": [
      "Concatenating caches\n"
     ]
    },
    {
     "name": "stderr",
     "output_type": "stream",
     "text": [
      "100%|██████████| 68/68 [00:00<00:00, 103.46it/s]\n",
      "100%|██████████| 136/136 [00:19<00:00,  7.01it/s]\n"
     ]
    },
    {
     "name": "stdout",
     "output_type": "stream",
     "text": [
      "Concatenating caches\n"
     ]
    },
    {
     "name": "stderr",
     "output_type": "stream",
     "text": [
      "100%|██████████| 68/68 [00:00<00:00, 113.28it/s]\n",
      "100%|██████████| 136/136 [00:19<00:00,  6.96it/s]\n"
     ]
    },
    {
     "name": "stdout",
     "output_type": "stream",
     "text": [
      "Concatenating caches\n"
     ]
    },
    {
     "name": "stderr",
     "output_type": "stream",
     "text": [
      "100%|██████████| 68/68 [00:00<00:00, 96.23it/s] \n",
      "100%|██████████| 136/136 [00:19<00:00,  7.01it/s]\n"
     ]
    },
    {
     "name": "stdout",
     "output_type": "stream",
     "text": [
      "Concatenating caches\n"
     ]
    },
    {
     "name": "stderr",
     "output_type": "stream",
     "text": [
      "100%|██████████| 68/68 [00:00<00:00, 110.09it/s]\n",
      "100%|██████████| 136/136 [00:19<00:00,  7.02it/s]\n"
     ]
    },
    {
     "name": "stdout",
     "output_type": "stream",
     "text": [
      "Concatenating caches\n"
     ]
    },
    {
     "name": "stderr",
     "output_type": "stream",
     "text": [
      "  4%|▎         | 1/28 [06:33<2:57:17, 393.97s/it]"
     ]
    },
    {
     "name": "stdout",
     "output_type": "stream",
     "text": [
      "Layer: \n"
     ]
    },
    {
     "name": "stderr",
     "output_type": "stream",
     "text": [
      "100%|██████████| 68/68 [00:00<00:00, 113.44it/s]\n",
      "100%|██████████| 136/136 [00:19<00:00,  7.01it/s]\n"
     ]
    },
    {
     "name": "stdout",
     "output_type": "stream",
     "text": [
      "Concatenating caches\n"
     ]
    },
    {
     "name": "stderr",
     "output_type": "stream",
     "text": [
      "100%|██████████| 68/68 [00:00<00:00, 109.25it/s]\n",
      "100%|██████████| 136/136 [00:19<00:00,  7.02it/s]\n"
     ]
    },
    {
     "name": "stdout",
     "output_type": "stream",
     "text": [
      "Concatenating caches\n"
     ]
    },
    {
     "name": "stderr",
     "output_type": "stream",
     "text": [
      "100%|██████████| 68/68 [00:00<00:00, 96.08it/s]\n",
      "100%|██████████| 136/136 [00:19<00:00,  7.01it/s]\n"
     ]
    },
    {
     "name": "stdout",
     "output_type": "stream",
     "text": [
      "Concatenating caches\n"
     ]
    },
    {
     "name": "stderr",
     "output_type": "stream",
     "text": [
      "100%|██████████| 68/68 [00:00<00:00, 111.05it/s]\n",
      "100%|██████████| 136/136 [00:19<00:00,  7.02it/s]\n"
     ]
    },
    {
     "name": "stdout",
     "output_type": "stream",
     "text": [
      "Concatenating caches\n"
     ]
    },
    {
     "name": "stderr",
     "output_type": "stream",
     "text": [
      "100%|██████████| 68/68 [00:00<00:00, 101.10it/s]\n",
      "100%|██████████| 136/136 [00:19<00:00,  7.02it/s]\n"
     ]
    },
    {
     "name": "stdout",
     "output_type": "stream",
     "text": [
      "Concatenating caches\n"
     ]
    },
    {
     "name": "stderr",
     "output_type": "stream",
     "text": [
      "100%|██████████| 68/68 [00:00<00:00, 108.49it/s]\n",
      "100%|██████████| 136/136 [00:19<00:00,  7.01it/s]\n"
     ]
    },
    {
     "name": "stdout",
     "output_type": "stream",
     "text": [
      "Concatenating caches\n"
     ]
    },
    {
     "name": "stderr",
     "output_type": "stream",
     "text": [
      "100%|██████████| 68/68 [00:00<00:00, 108.48it/s]\n",
      "100%|██████████| 136/136 [00:19<00:00,  7.01it/s]\n"
     ]
    },
    {
     "name": "stdout",
     "output_type": "stream",
     "text": [
      "Concatenating caches\n"
     ]
    },
    {
     "name": "stderr",
     "output_type": "stream",
     "text": [
      "100%|██████████| 68/68 [00:00<00:00, 109.29it/s]\n",
      "100%|██████████| 136/136 [00:19<00:00,  7.02it/s]\n"
     ]
    },
    {
     "name": "stdout",
     "output_type": "stream",
     "text": [
      "Concatenating caches\n"
     ]
    },
    {
     "name": "stderr",
     "output_type": "stream",
     "text": [
      "100%|██████████| 68/68 [00:00<00:00, 113.35it/s]\n",
      "100%|██████████| 136/136 [00:19<00:00,  7.02it/s]\n"
     ]
    },
    {
     "name": "stdout",
     "output_type": "stream",
     "text": [
      "Concatenating caches\n"
     ]
    },
    {
     "name": "stderr",
     "output_type": "stream",
     "text": [
      "100%|██████████| 68/68 [00:00<00:00, 109.77it/s]\n",
      "100%|██████████| 136/136 [00:19<00:00,  6.94it/s]\n"
     ]
    },
    {
     "name": "stdout",
     "output_type": "stream",
     "text": [
      "Concatenating caches\n"
     ]
    },
    {
     "name": "stderr",
     "output_type": "stream",
     "text": [
      "100%|██████████| 68/68 [00:00<00:00, 98.55it/s] \n",
      "100%|██████████| 136/136 [00:19<00:00,  7.01it/s]\n"
     ]
    },
    {
     "name": "stdout",
     "output_type": "stream",
     "text": [
      "Concatenating caches\n"
     ]
    },
    {
     "name": "stderr",
     "output_type": "stream",
     "text": [
      "100%|██████████| 68/68 [00:00<00:00, 108.15it/s]\n",
      "100%|██████████| 136/136 [00:19<00:00,  7.01it/s]\n"
     ]
    },
    {
     "name": "stdout",
     "output_type": "stream",
     "text": [
      "Concatenating caches\n"
     ]
    },
    {
     "name": "stderr",
     "output_type": "stream",
     "text": [
      "100%|██████████| 68/68 [00:00<00:00, 103.86it/s]\n",
      "100%|██████████| 136/136 [00:19<00:00,  7.01it/s]\n"
     ]
    },
    {
     "name": "stdout",
     "output_type": "stream",
     "text": [
      "Concatenating caches\n"
     ]
    },
    {
     "name": "stderr",
     "output_type": "stream",
     "text": [
      "100%|██████████| 68/68 [00:00<00:00, 111.21it/s]\n",
      "100%|██████████| 136/136 [00:19<00:00,  7.02it/s]\n"
     ]
    },
    {
     "name": "stdout",
     "output_type": "stream",
     "text": [
      "Concatenating caches\n"
     ]
    },
    {
     "name": "stderr",
     "output_type": "stream",
     "text": [
      "100%|██████████| 68/68 [00:00<00:00, 104.62it/s]\n",
      "100%|██████████| 136/136 [00:19<00:00,  7.02it/s]\n"
     ]
    },
    {
     "name": "stdout",
     "output_type": "stream",
     "text": [
      "Concatenating caches\n"
     ]
    },
    {
     "name": "stderr",
     "output_type": "stream",
     "text": [
      "100%|██████████| 68/68 [00:00<00:00, 108.87it/s]\n",
      "100%|██████████| 136/136 [00:19<00:00,  7.02it/s]\n"
     ]
    },
    {
     "name": "stdout",
     "output_type": "stream",
     "text": [
      "Concatenating caches\n"
     ]
    },
    {
     "name": "stderr",
     "output_type": "stream",
     "text": [
      "100%|██████████| 68/68 [00:00<00:00, 102.50it/s]\n",
      "100%|██████████| 136/136 [00:19<00:00,  7.02it/s]\n"
     ]
    },
    {
     "name": "stdout",
     "output_type": "stream",
     "text": [
      "Concatenating caches\n"
     ]
    },
    {
     "name": "stderr",
     "output_type": "stream",
     "text": [
      "  7%|▋         | 2/28 [13:12<2:51:47, 396.43s/it]"
     ]
    },
    {
     "name": "stdout",
     "output_type": "stream",
     "text": [
      "Layer: \n"
     ]
    },
    {
     "name": "stderr",
     "output_type": "stream",
     "text": [
      "100%|██████████| 68/68 [00:00<00:00, 114.92it/s]\n",
      "100%|██████████| 136/136 [00:19<00:00,  7.02it/s]\n"
     ]
    },
    {
     "name": "stdout",
     "output_type": "stream",
     "text": [
      "Concatenating caches\n"
     ]
    },
    {
     "name": "stderr",
     "output_type": "stream",
     "text": [
      "100%|██████████| 68/68 [00:00<00:00, 111.81it/s]\n",
      "100%|██████████| 136/136 [00:19<00:00,  7.02it/s]\n"
     ]
    },
    {
     "name": "stdout",
     "output_type": "stream",
     "text": [
      "Concatenating caches\n"
     ]
    },
    {
     "name": "stderr",
     "output_type": "stream",
     "text": [
      "100%|██████████| 68/68 [00:00<00:00, 106.48it/s]\n",
      "100%|██████████| 136/136 [00:19<00:00,  7.01it/s]\n"
     ]
    },
    {
     "name": "stdout",
     "output_type": "stream",
     "text": [
      "Concatenating caches\n"
     ]
    },
    {
     "name": "stderr",
     "output_type": "stream",
     "text": [
      "100%|██████████| 68/68 [00:00<00:00, 101.17it/s]\n",
      "100%|██████████| 136/136 [00:19<00:00,  7.01it/s]\n"
     ]
    },
    {
     "name": "stdout",
     "output_type": "stream",
     "text": [
      "Concatenating caches\n"
     ]
    },
    {
     "name": "stderr",
     "output_type": "stream",
     "text": [
      "100%|██████████| 68/68 [00:00<00:00, 104.55it/s]\n",
      "100%|██████████| 136/136 [00:19<00:00,  6.94it/s]\n"
     ]
    },
    {
     "name": "stdout",
     "output_type": "stream",
     "text": [
      "Concatenating caches\n"
     ]
    },
    {
     "name": "stderr",
     "output_type": "stream",
     "text": [
      "100%|██████████| 68/68 [00:00<00:00, 100.99it/s]\n",
      "100%|██████████| 136/136 [00:19<00:00,  7.02it/s]\n"
     ]
    },
    {
     "name": "stdout",
     "output_type": "stream",
     "text": [
      "Concatenating caches\n"
     ]
    },
    {
     "name": "stderr",
     "output_type": "stream",
     "text": [
      "100%|██████████| 68/68 [00:00<00:00, 109.41it/s]\n",
      "100%|██████████| 136/136 [00:19<00:00,  7.02it/s]\n"
     ]
    },
    {
     "name": "stdout",
     "output_type": "stream",
     "text": [
      "Concatenating caches\n"
     ]
    },
    {
     "name": "stderr",
     "output_type": "stream",
     "text": [
      "100%|██████████| 68/68 [00:00<00:00, 108.39it/s]\n",
      "100%|██████████| 136/136 [00:19<00:00,  7.02it/s]\n"
     ]
    },
    {
     "name": "stdout",
     "output_type": "stream",
     "text": [
      "Concatenating caches\n"
     ]
    },
    {
     "name": "stderr",
     "output_type": "stream",
     "text": [
      "100%|██████████| 68/68 [00:00<00:00, 106.48it/s]\n",
      "100%|██████████| 136/136 [00:19<00:00,  7.00it/s]\n"
     ]
    },
    {
     "name": "stdout",
     "output_type": "stream",
     "text": [
      "Concatenating caches\n"
     ]
    },
    {
     "name": "stderr",
     "output_type": "stream",
     "text": [
      "100%|██████████| 68/68 [00:00<00:00, 113.24it/s]\n",
      "100%|██████████| 136/136 [00:19<00:00,  7.01it/s]\n"
     ]
    },
    {
     "name": "stdout",
     "output_type": "stream",
     "text": [
      "Concatenating caches\n"
     ]
    },
    {
     "name": "stderr",
     "output_type": "stream",
     "text": [
      "100%|██████████| 68/68 [00:00<00:00, 109.79it/s]\n",
      "100%|██████████| 136/136 [00:19<00:00,  7.01it/s]\n"
     ]
    },
    {
     "name": "stdout",
     "output_type": "stream",
     "text": [
      "Concatenating caches\n"
     ]
    },
    {
     "name": "stderr",
     "output_type": "stream",
     "text": [
      "100%|██████████| 68/68 [00:00<00:00, 111.56it/s]\n",
      "100%|██████████| 136/136 [00:19<00:00,  7.02it/s]\n"
     ]
    },
    {
     "name": "stdout",
     "output_type": "stream",
     "text": [
      "Concatenating caches\n"
     ]
    },
    {
     "name": "stderr",
     "output_type": "stream",
     "text": [
      "100%|██████████| 68/68 [00:00<00:00, 109.45it/s]\n",
      "100%|██████████| 136/136 [00:19<00:00,  7.02it/s]\n"
     ]
    },
    {
     "name": "stdout",
     "output_type": "stream",
     "text": [
      "Concatenating caches\n"
     ]
    },
    {
     "name": "stderr",
     "output_type": "stream",
     "text": [
      "100%|██████████| 68/68 [00:00<00:00, 100.62it/s]\n",
      "100%|██████████| 136/136 [00:19<00:00,  7.01it/s]\n"
     ]
    },
    {
     "name": "stdout",
     "output_type": "stream",
     "text": [
      "Concatenating caches\n"
     ]
    },
    {
     "name": "stderr",
     "output_type": "stream",
     "text": [
      "100%|██████████| 68/68 [00:00<00:00, 113.87it/s]\n",
      "100%|██████████| 136/136 [00:19<00:00,  7.02it/s]\n"
     ]
    },
    {
     "name": "stdout",
     "output_type": "stream",
     "text": [
      "Concatenating caches\n"
     ]
    },
    {
     "name": "stderr",
     "output_type": "stream",
     "text": [
      "100%|██████████| 68/68 [00:00<00:00, 112.30it/s]\n",
      "100%|██████████| 136/136 [00:19<00:00,  7.01it/s]\n"
     ]
    },
    {
     "name": "stdout",
     "output_type": "stream",
     "text": [
      "Concatenating caches\n"
     ]
    },
    {
     "name": "stderr",
     "output_type": "stream",
     "text": [
      "100%|██████████| 68/68 [00:00<00:00, 112.55it/s]\n",
      "100%|██████████| 136/136 [00:19<00:00,  6.96it/s]\n"
     ]
    },
    {
     "name": "stdout",
     "output_type": "stream",
     "text": [
      "Concatenating caches\n"
     ]
    },
    {
     "name": "stderr",
     "output_type": "stream",
     "text": [
      " 11%|█         | 3/28 [19:53<2:46:10, 398.82s/it]"
     ]
    },
    {
     "name": "stdout",
     "output_type": "stream",
     "text": [
      "Layer: \n"
     ]
    },
    {
     "name": "stderr",
     "output_type": "stream",
     "text": [
      "100%|██████████| 68/68 [00:00<00:00, 108.59it/s]\n",
      "100%|██████████| 136/136 [00:19<00:00,  7.01it/s]\n"
     ]
    },
    {
     "name": "stdout",
     "output_type": "stream",
     "text": [
      "Concatenating caches\n"
     ]
    },
    {
     "name": "stderr",
     "output_type": "stream",
     "text": [
      "100%|██████████| 68/68 [00:00<00:00, 102.38it/s]\n",
      "100%|██████████| 136/136 [00:19<00:00,  7.01it/s]\n"
     ]
    },
    {
     "name": "stdout",
     "output_type": "stream",
     "text": [
      "Concatenating caches\n"
     ]
    },
    {
     "name": "stderr",
     "output_type": "stream",
     "text": [
      "100%|██████████| 68/68 [00:00<00:00, 107.22it/s]\n",
      "100%|██████████| 136/136 [00:19<00:00,  7.01it/s]\n"
     ]
    },
    {
     "name": "stdout",
     "output_type": "stream",
     "text": [
      "Concatenating caches\n"
     ]
    },
    {
     "name": "stderr",
     "output_type": "stream",
     "text": [
      "100%|██████████| 68/68 [00:00<00:00, 99.40it/s] \n",
      "100%|██████████| 136/136 [00:19<00:00,  7.01it/s]\n"
     ]
    },
    {
     "name": "stdout",
     "output_type": "stream",
     "text": [
      "Concatenating caches\n"
     ]
    },
    {
     "name": "stderr",
     "output_type": "stream",
     "text": [
      "100%|██████████| 68/68 [00:00<00:00, 101.88it/s]\n",
      "100%|██████████| 136/136 [00:19<00:00,  7.01it/s]\n"
     ]
    },
    {
     "name": "stdout",
     "output_type": "stream",
     "text": [
      "Concatenating caches\n"
     ]
    },
    {
     "name": "stderr",
     "output_type": "stream",
     "text": [
      "100%|██████████| 68/68 [00:00<00:00, 106.13it/s]\n",
      "100%|██████████| 136/136 [00:19<00:00,  7.01it/s]\n"
     ]
    },
    {
     "name": "stdout",
     "output_type": "stream",
     "text": [
      "Concatenating caches\n"
     ]
    },
    {
     "name": "stderr",
     "output_type": "stream",
     "text": [
      "100%|██████████| 68/68 [00:00<00:00, 98.36it/s] \n",
      "100%|██████████| 136/136 [00:19<00:00,  7.01it/s]\n"
     ]
    },
    {
     "name": "stdout",
     "output_type": "stream",
     "text": [
      "Concatenating caches\n"
     ]
    },
    {
     "name": "stderr",
     "output_type": "stream",
     "text": [
      "100%|██████████| 68/68 [00:00<00:00, 109.04it/s]\n",
      "100%|██████████| 136/136 [00:19<00:00,  7.01it/s]\n"
     ]
    },
    {
     "name": "stdout",
     "output_type": "stream",
     "text": [
      "Concatenating caches\n"
     ]
    },
    {
     "name": "stderr",
     "output_type": "stream",
     "text": [
      "100%|██████████| 68/68 [00:00<00:00, 111.77it/s]\n",
      "100%|██████████| 136/136 [00:19<00:00,  7.01it/s]\n"
     ]
    },
    {
     "name": "stdout",
     "output_type": "stream",
     "text": [
      "Concatenating caches\n"
     ]
    },
    {
     "name": "stderr",
     "output_type": "stream",
     "text": [
      "100%|██████████| 68/68 [00:00<00:00, 112.04it/s]\n",
      "100%|██████████| 136/136 [00:19<00:00,  7.00it/s]\n"
     ]
    },
    {
     "name": "stdout",
     "output_type": "stream",
     "text": [
      "Concatenating caches\n"
     ]
    },
    {
     "name": "stderr",
     "output_type": "stream",
     "text": [
      "100%|██████████| 68/68 [00:00<00:00, 113.72it/s]\n",
      "100%|██████████| 136/136 [00:19<00:00,  7.01it/s]\n"
     ]
    },
    {
     "name": "stdout",
     "output_type": "stream",
     "text": [
      "Concatenating caches\n"
     ]
    },
    {
     "name": "stderr",
     "output_type": "stream",
     "text": [
      "100%|██████████| 68/68 [00:00<00:00, 109.95it/s]\n",
      "100%|██████████| 136/136 [00:19<00:00,  6.93it/s]\n"
     ]
    },
    {
     "name": "stdout",
     "output_type": "stream",
     "text": [
      "Concatenating caches\n"
     ]
    },
    {
     "name": "stderr",
     "output_type": "stream",
     "text": [
      "100%|██████████| 68/68 [00:00<00:00, 102.35it/s]\n",
      "100%|██████████| 136/136 [00:19<00:00,  7.01it/s]\n"
     ]
    },
    {
     "name": "stdout",
     "output_type": "stream",
     "text": [
      "Concatenating caches\n"
     ]
    },
    {
     "name": "stderr",
     "output_type": "stream",
     "text": [
      "100%|██████████| 68/68 [00:00<00:00, 110.24it/s]\n",
      "100%|██████████| 136/136 [00:19<00:00,  7.02it/s]\n"
     ]
    },
    {
     "name": "stdout",
     "output_type": "stream",
     "text": [
      "Concatenating caches\n"
     ]
    },
    {
     "name": "stderr",
     "output_type": "stream",
     "text": [
      "100%|██████████| 68/68 [00:00<00:00, 113.34it/s]\n",
      "100%|██████████| 136/136 [00:19<00:00,  7.01it/s]\n"
     ]
    },
    {
     "name": "stdout",
     "output_type": "stream",
     "text": [
      "Concatenating caches\n"
     ]
    },
    {
     "name": "stderr",
     "output_type": "stream",
     "text": [
      "100%|██████████| 68/68 [00:00<00:00, 115.51it/s]\n",
      "100%|██████████| 136/136 [00:19<00:00,  7.01it/s]\n"
     ]
    },
    {
     "name": "stdout",
     "output_type": "stream",
     "text": [
      "Concatenating caches\n"
     ]
    },
    {
     "name": "stderr",
     "output_type": "stream",
     "text": [
      "100%|██████████| 68/68 [00:00<00:00, 107.68it/s]\n",
      "100%|██████████| 136/136 [00:19<00:00,  7.02it/s]\n"
     ]
    },
    {
     "name": "stdout",
     "output_type": "stream",
     "text": [
      "Concatenating caches\n"
     ]
    },
    {
     "name": "stderr",
     "output_type": "stream",
     "text": [
      " 14%|█▍        | 4/28 [26:35<2:40:01, 400.08s/it]"
     ]
    },
    {
     "name": "stdout",
     "output_type": "stream",
     "text": [
      "Layer: \n"
     ]
    },
    {
     "name": "stderr",
     "output_type": "stream",
     "text": [
      "100%|██████████| 68/68 [00:00<00:00, 111.60it/s]\n",
      "100%|██████████| 136/136 [00:19<00:00,  7.01it/s]\n"
     ]
    },
    {
     "name": "stdout",
     "output_type": "stream",
     "text": [
      "Concatenating caches\n"
     ]
    },
    {
     "name": "stderr",
     "output_type": "stream",
     "text": [
      "100%|██████████| 68/68 [00:00<00:00, 110.71it/s]\n",
      "100%|██████████| 136/136 [00:19<00:00,  7.01it/s]\n"
     ]
    },
    {
     "name": "stdout",
     "output_type": "stream",
     "text": [
      "Concatenating caches\n"
     ]
    },
    {
     "name": "stderr",
     "output_type": "stream",
     "text": [
      "100%|██████████| 68/68 [00:00<00:00, 100.85it/s]\n",
      "100%|██████████| 136/136 [00:19<00:00,  7.01it/s]\n"
     ]
    },
    {
     "name": "stdout",
     "output_type": "stream",
     "text": [
      "Concatenating caches\n"
     ]
    },
    {
     "name": "stderr",
     "output_type": "stream",
     "text": [
      "100%|██████████| 68/68 [00:00<00:00, 111.11it/s]\n",
      "100%|██████████| 136/136 [00:19<00:00,  7.02it/s]\n"
     ]
    },
    {
     "name": "stdout",
     "output_type": "stream",
     "text": [
      "Concatenating caches\n"
     ]
    },
    {
     "name": "stderr",
     "output_type": "stream",
     "text": [
      "100%|██████████| 68/68 [00:00<00:00, 107.61it/s]\n",
      "100%|██████████| 136/136 [00:19<00:00,  7.02it/s]\n"
     ]
    },
    {
     "name": "stdout",
     "output_type": "stream",
     "text": [
      "Concatenating caches\n"
     ]
    },
    {
     "name": "stderr",
     "output_type": "stream",
     "text": [
      "100%|██████████| 68/68 [00:00<00:00, 110.20it/s]\n",
      "100%|██████████| 136/136 [00:19<00:00,  7.02it/s]\n"
     ]
    },
    {
     "name": "stdout",
     "output_type": "stream",
     "text": [
      "Concatenating caches\n"
     ]
    },
    {
     "name": "stderr",
     "output_type": "stream",
     "text": [
      "100%|██████████| 68/68 [00:00<00:00, 105.65it/s]\n",
      "100%|██████████| 136/136 [00:19<00:00,  6.96it/s]\n"
     ]
    },
    {
     "name": "stdout",
     "output_type": "stream",
     "text": [
      "Concatenating caches\n"
     ]
    },
    {
     "name": "stderr",
     "output_type": "stream",
     "text": [
      "100%|██████████| 68/68 [00:00<00:00, 108.23it/s]\n",
      "100%|██████████| 136/136 [00:19<00:00,  7.02it/s]\n"
     ]
    },
    {
     "name": "stdout",
     "output_type": "stream",
     "text": [
      "Concatenating caches\n"
     ]
    },
    {
     "name": "stderr",
     "output_type": "stream",
     "text": [
      "100%|██████████| 68/68 [00:00<00:00, 108.68it/s]\n",
      "100%|██████████| 136/136 [00:19<00:00,  7.02it/s]\n"
     ]
    },
    {
     "name": "stdout",
     "output_type": "stream",
     "text": [
      "Concatenating caches\n"
     ]
    },
    {
     "name": "stderr",
     "output_type": "stream",
     "text": [
      "100%|██████████| 68/68 [00:00<00:00, 108.49it/s]\n",
      "100%|██████████| 136/136 [00:19<00:00,  7.01it/s]\n"
     ]
    },
    {
     "name": "stdout",
     "output_type": "stream",
     "text": [
      "Concatenating caches\n"
     ]
    },
    {
     "name": "stderr",
     "output_type": "stream",
     "text": [
      "100%|██████████| 68/68 [00:00<00:00, 108.52it/s]\n",
      "100%|██████████| 136/136 [00:19<00:00,  7.02it/s]\n"
     ]
    },
    {
     "name": "stdout",
     "output_type": "stream",
     "text": [
      "Concatenating caches\n"
     ]
    },
    {
     "name": "stderr",
     "output_type": "stream",
     "text": [
      "100%|██████████| 68/68 [00:00<00:00, 113.70it/s]\n",
      "100%|██████████| 136/136 [00:19<00:00,  7.02it/s]\n"
     ]
    },
    {
     "name": "stdout",
     "output_type": "stream",
     "text": [
      "Concatenating caches\n"
     ]
    },
    {
     "name": "stderr",
     "output_type": "stream",
     "text": [
      "100%|██████████| 68/68 [00:00<00:00, 109.64it/s]\n",
      "100%|██████████| 136/136 [00:19<00:00,  7.01it/s]\n"
     ]
    },
    {
     "name": "stdout",
     "output_type": "stream",
     "text": [
      "Concatenating caches\n"
     ]
    },
    {
     "name": "stderr",
     "output_type": "stream",
     "text": [
      "100%|██████████| 68/68 [00:00<00:00, 105.96it/s]\n",
      "100%|██████████| 136/136 [00:19<00:00,  7.01it/s]\n"
     ]
    },
    {
     "name": "stdout",
     "output_type": "stream",
     "text": [
      "Concatenating caches\n"
     ]
    },
    {
     "name": "stderr",
     "output_type": "stream",
     "text": [
      "100%|██████████| 68/68 [00:00<00:00, 107.01it/s]\n",
      "100%|██████████| 136/136 [00:19<00:00,  7.02it/s]\n"
     ]
    },
    {
     "name": "stdout",
     "output_type": "stream",
     "text": [
      "Concatenating caches\n"
     ]
    },
    {
     "name": "stderr",
     "output_type": "stream",
     "text": [
      "100%|██████████| 68/68 [00:00<00:00, 111.79it/s]\n",
      "100%|██████████| 136/136 [00:19<00:00,  7.02it/s]\n"
     ]
    },
    {
     "name": "stdout",
     "output_type": "stream",
     "text": [
      "Concatenating caches\n"
     ]
    },
    {
     "name": "stderr",
     "output_type": "stream",
     "text": [
      "100%|██████████| 68/68 [00:00<00:00, 107.79it/s]\n",
      "100%|██████████| 136/136 [00:19<00:00,  7.01it/s]\n"
     ]
    },
    {
     "name": "stdout",
     "output_type": "stream",
     "text": [
      "Concatenating caches\n"
     ]
    },
    {
     "name": "stderr",
     "output_type": "stream",
     "text": [
      " 18%|█▊        | 5/28 [33:17<2:33:37, 400.78s/it]"
     ]
    },
    {
     "name": "stdout",
     "output_type": "stream",
     "text": [
      "Layer: \n"
     ]
    },
    {
     "name": "stderr",
     "output_type": "stream",
     "text": [
      "100%|██████████| 68/68 [00:00<00:00, 108.86it/s]\n",
      "100%|██████████| 136/136 [00:19<00:00,  7.01it/s]\n"
     ]
    },
    {
     "name": "stdout",
     "output_type": "stream",
     "text": [
      "Concatenating caches\n"
     ]
    },
    {
     "name": "stderr",
     "output_type": "stream",
     "text": [
      "100%|██████████| 68/68 [00:00<00:00, 108.88it/s]\n",
      "100%|██████████| 136/136 [00:19<00:00,  6.94it/s]\n"
     ]
    },
    {
     "name": "stdout",
     "output_type": "stream",
     "text": [
      "Concatenating caches\n"
     ]
    },
    {
     "name": "stderr",
     "output_type": "stream",
     "text": [
      "100%|██████████| 68/68 [00:00<00:00, 107.24it/s]\n",
      "100%|██████████| 136/136 [00:19<00:00,  7.02it/s]\n"
     ]
    },
    {
     "name": "stdout",
     "output_type": "stream",
     "text": [
      "Concatenating caches\n"
     ]
    },
    {
     "name": "stderr",
     "output_type": "stream",
     "text": [
      "100%|██████████| 68/68 [00:00<00:00, 108.59it/s]\n",
      "100%|██████████| 136/136 [00:19<00:00,  7.01it/s]\n"
     ]
    },
    {
     "name": "stdout",
     "output_type": "stream",
     "text": [
      "Concatenating caches\n"
     ]
    },
    {
     "name": "stderr",
     "output_type": "stream",
     "text": [
      "100%|██████████| 68/68 [00:00<00:00, 108.72it/s]\n",
      "100%|██████████| 136/136 [00:19<00:00,  7.02it/s]\n"
     ]
    },
    {
     "name": "stdout",
     "output_type": "stream",
     "text": [
      "Concatenating caches\n"
     ]
    },
    {
     "name": "stderr",
     "output_type": "stream",
     "text": [
      "100%|██████████| 68/68 [00:00<00:00, 108.09it/s]\n",
      "100%|██████████| 136/136 [00:19<00:00,  7.01it/s]\n"
     ]
    },
    {
     "name": "stdout",
     "output_type": "stream",
     "text": [
      "Concatenating caches\n"
     ]
    },
    {
     "name": "stderr",
     "output_type": "stream",
     "text": [
      "100%|██████████| 68/68 [00:00<00:00, 102.05it/s]\n",
      "100%|██████████| 136/136 [00:19<00:00,  7.01it/s]\n"
     ]
    },
    {
     "name": "stdout",
     "output_type": "stream",
     "text": [
      "Concatenating caches\n"
     ]
    },
    {
     "name": "stderr",
     "output_type": "stream",
     "text": [
      "100%|██████████| 68/68 [00:00<00:00, 106.41it/s]\n",
      "100%|██████████| 136/136 [00:19<00:00,  7.01it/s]\n"
     ]
    },
    {
     "name": "stdout",
     "output_type": "stream",
     "text": [
      "Concatenating caches\n"
     ]
    },
    {
     "name": "stderr",
     "output_type": "stream",
     "text": [
      "100%|██████████| 68/68 [00:00<00:00, 114.10it/s]\n",
      "100%|██████████| 136/136 [00:19<00:00,  7.02it/s]\n"
     ]
    },
    {
     "name": "stdout",
     "output_type": "stream",
     "text": [
      "Concatenating caches\n"
     ]
    },
    {
     "name": "stderr",
     "output_type": "stream",
     "text": [
      "100%|██████████| 68/68 [00:00<00:00, 101.28it/s]\n",
      "100%|██████████| 136/136 [00:19<00:00,  7.01it/s]\n"
     ]
    },
    {
     "name": "stdout",
     "output_type": "stream",
     "text": [
      "Concatenating caches\n"
     ]
    },
    {
     "name": "stderr",
     "output_type": "stream",
     "text": [
      "100%|██████████| 68/68 [00:00<00:00, 108.71it/s]\n",
      "100%|██████████| 136/136 [00:19<00:00,  7.01it/s]\n"
     ]
    },
    {
     "name": "stdout",
     "output_type": "stream",
     "text": [
      "Concatenating caches\n"
     ]
    },
    {
     "name": "stderr",
     "output_type": "stream",
     "text": [
      "100%|██████████| 68/68 [00:00<00:00, 110.21it/s]\n",
      "100%|██████████| 136/136 [00:19<00:00,  7.01it/s]\n"
     ]
    },
    {
     "name": "stdout",
     "output_type": "stream",
     "text": [
      "Concatenating caches\n"
     ]
    },
    {
     "name": "stderr",
     "output_type": "stream",
     "text": [
      "100%|██████████| 68/68 [00:00<00:00, 102.34it/s]\n",
      "100%|██████████| 136/136 [00:19<00:00,  7.01it/s]\n"
     ]
    },
    {
     "name": "stdout",
     "output_type": "stream",
     "text": [
      "Concatenating caches\n"
     ]
    },
    {
     "name": "stderr",
     "output_type": "stream",
     "text": [
      "100%|██████████| 68/68 [00:00<00:00, 108.23it/s]\n",
      "100%|██████████| 136/136 [00:19<00:00,  6.96it/s]\n"
     ]
    },
    {
     "name": "stdout",
     "output_type": "stream",
     "text": [
      "Concatenating caches\n"
     ]
    },
    {
     "name": "stderr",
     "output_type": "stream",
     "text": [
      "100%|██████████| 68/68 [00:00<00:00, 110.76it/s]\n",
      "100%|██████████| 136/136 [00:19<00:00,  7.02it/s]\n"
     ]
    },
    {
     "name": "stdout",
     "output_type": "stream",
     "text": [
      "Concatenating caches\n"
     ]
    },
    {
     "name": "stderr",
     "output_type": "stream",
     "text": [
      "100%|██████████| 68/68 [00:00<00:00, 104.57it/s]\n",
      "100%|██████████| 136/136 [00:19<00:00,  7.02it/s]\n"
     ]
    },
    {
     "name": "stdout",
     "output_type": "stream",
     "text": [
      "Concatenating caches\n"
     ]
    },
    {
     "name": "stderr",
     "output_type": "stream",
     "text": [
      "100%|██████████| 68/68 [00:00<00:00, 109.24it/s]\n",
      "100%|██████████| 136/136 [00:19<00:00,  7.02it/s]\n"
     ]
    },
    {
     "name": "stdout",
     "output_type": "stream",
     "text": [
      "Concatenating caches\n"
     ]
    },
    {
     "name": "stderr",
     "output_type": "stream",
     "text": [
      " 21%|██▏       | 6/28 [39:59<2:27:04, 401.12s/it]"
     ]
    },
    {
     "name": "stdout",
     "output_type": "stream",
     "text": [
      "Layer: \n"
     ]
    },
    {
     "name": "stderr",
     "output_type": "stream",
     "text": [
      "100%|██████████| 68/68 [00:00<00:00, 109.79it/s]\n",
      "100%|██████████| 136/136 [00:19<00:00,  7.02it/s]\n"
     ]
    },
    {
     "name": "stdout",
     "output_type": "stream",
     "text": [
      "Concatenating caches\n"
     ]
    },
    {
     "name": "stderr",
     "output_type": "stream",
     "text": [
      "100%|██████████| 68/68 [00:00<00:00, 101.18it/s]\n",
      "100%|██████████| 136/136 [00:19<00:00,  7.02it/s]\n"
     ]
    },
    {
     "name": "stdout",
     "output_type": "stream",
     "text": [
      "Concatenating caches\n"
     ]
    },
    {
     "name": "stderr",
     "output_type": "stream",
     "text": [
      "100%|██████████| 68/68 [00:00<00:00, 107.23it/s]\n",
      "100%|██████████| 136/136 [00:19<00:00,  7.02it/s]\n"
     ]
    },
    {
     "name": "stdout",
     "output_type": "stream",
     "text": [
      "Concatenating caches\n"
     ]
    },
    {
     "name": "stderr",
     "output_type": "stream",
     "text": [
      "100%|██████████| 68/68 [00:00<00:00, 109.65it/s]\n",
      "100%|██████████| 136/136 [00:19<00:00,  7.02it/s]\n"
     ]
    },
    {
     "name": "stdout",
     "output_type": "stream",
     "text": [
      "Concatenating caches\n"
     ]
    },
    {
     "name": "stderr",
     "output_type": "stream",
     "text": [
      "100%|██████████| 68/68 [00:00<00:00, 101.04it/s]\n",
      "100%|██████████| 136/136 [00:19<00:00,  7.01it/s]\n"
     ]
    },
    {
     "name": "stdout",
     "output_type": "stream",
     "text": [
      "Concatenating caches\n"
     ]
    },
    {
     "name": "stderr",
     "output_type": "stream",
     "text": [
      "100%|██████████| 68/68 [00:00<00:00, 109.44it/s]\n",
      "100%|██████████| 136/136 [00:19<00:00,  7.01it/s]\n"
     ]
    },
    {
     "name": "stdout",
     "output_type": "stream",
     "text": [
      "Concatenating caches\n"
     ]
    },
    {
     "name": "stderr",
     "output_type": "stream",
     "text": [
      "100%|██████████| 68/68 [00:00<00:00, 109.29it/s]\n",
      "100%|██████████| 136/136 [00:19<00:00,  7.01it/s]\n"
     ]
    },
    {
     "name": "stdout",
     "output_type": "stream",
     "text": [
      "Concatenating caches\n"
     ]
    },
    {
     "name": "stderr",
     "output_type": "stream",
     "text": [
      "100%|██████████| 68/68 [00:00<00:00, 104.51it/s]\n",
      "100%|██████████| 136/136 [00:19<00:00,  7.02it/s]\n"
     ]
    },
    {
     "name": "stdout",
     "output_type": "stream",
     "text": [
      "Concatenating caches\n"
     ]
    },
    {
     "name": "stderr",
     "output_type": "stream",
     "text": [
      "100%|██████████| 68/68 [00:00<00:00, 113.41it/s]\n",
      "100%|██████████| 136/136 [00:19<00:00,  7.01it/s]\n"
     ]
    },
    {
     "name": "stdout",
     "output_type": "stream",
     "text": [
      "Concatenating caches\n"
     ]
    },
    {
     "name": "stderr",
     "output_type": "stream",
     "text": [
      "100%|██████████| 68/68 [00:00<00:00, 105.73it/s]\n",
      "100%|██████████| 136/136 [00:19<00:00,  6.92it/s]\n"
     ]
    },
    {
     "name": "stdout",
     "output_type": "stream",
     "text": [
      "Concatenating caches\n"
     ]
    },
    {
     "name": "stderr",
     "output_type": "stream",
     "text": [
      "100%|██████████| 68/68 [00:00<00:00, 110.28it/s]\n",
      "100%|██████████| 136/136 [00:19<00:00,  7.01it/s]\n"
     ]
    },
    {
     "name": "stdout",
     "output_type": "stream",
     "text": [
      "Concatenating caches\n"
     ]
    },
    {
     "name": "stderr",
     "output_type": "stream",
     "text": [
      "100%|██████████| 68/68 [00:00<00:00, 105.02it/s]\n",
      "100%|██████████| 136/136 [00:19<00:00,  7.02it/s]\n"
     ]
    },
    {
     "name": "stdout",
     "output_type": "stream",
     "text": [
      "Concatenating caches\n"
     ]
    },
    {
     "name": "stderr",
     "output_type": "stream",
     "text": [
      "100%|██████████| 68/68 [00:00<00:00, 102.22it/s]\n",
      "100%|██████████| 136/136 [00:19<00:00,  7.01it/s]\n"
     ]
    },
    {
     "name": "stdout",
     "output_type": "stream",
     "text": [
      "Concatenating caches\n"
     ]
    },
    {
     "name": "stderr",
     "output_type": "stream",
     "text": [
      "100%|██████████| 68/68 [00:00<00:00, 110.24it/s]\n",
      "100%|██████████| 136/136 [00:19<00:00,  7.01it/s]\n"
     ]
    },
    {
     "name": "stdout",
     "output_type": "stream",
     "text": [
      "Concatenating caches\n"
     ]
    },
    {
     "name": "stderr",
     "output_type": "stream",
     "text": [
      "100%|██████████| 68/68 [00:00<00:00, 106.34it/s]\n",
      "100%|██████████| 136/136 [00:19<00:00,  7.01it/s]\n"
     ]
    },
    {
     "name": "stdout",
     "output_type": "stream",
     "text": [
      "Concatenating caches\n"
     ]
    },
    {
     "name": "stderr",
     "output_type": "stream",
     "text": [
      "100%|██████████| 68/68 [00:00<00:00, 99.25it/s] \n",
      "100%|██████████| 136/136 [00:19<00:00,  7.01it/s]\n"
     ]
    },
    {
     "name": "stdout",
     "output_type": "stream",
     "text": [
      "Concatenating caches\n"
     ]
    },
    {
     "name": "stderr",
     "output_type": "stream",
     "text": [
      "100%|██████████| 68/68 [00:00<00:00, 111.10it/s]\n",
      "100%|██████████| 136/136 [00:19<00:00,  7.01it/s]\n"
     ]
    },
    {
     "name": "stdout",
     "output_type": "stream",
     "text": [
      "Concatenating caches\n"
     ]
    },
    {
     "name": "stderr",
     "output_type": "stream",
     "text": [
      " 25%|██▌       | 7/28 [46:41<2:20:29, 401.42s/it]"
     ]
    },
    {
     "name": "stdout",
     "output_type": "stream",
     "text": [
      "Layer: \n"
     ]
    },
    {
     "name": "stderr",
     "output_type": "stream",
     "text": [
      "100%|██████████| 68/68 [00:00<00:00, 110.91it/s]\n",
      "100%|██████████| 136/136 [00:19<00:00,  7.01it/s]\n"
     ]
    },
    {
     "name": "stdout",
     "output_type": "stream",
     "text": [
      "Concatenating caches\n"
     ]
    },
    {
     "name": "stderr",
     "output_type": "stream",
     "text": [
      "100%|██████████| 68/68 [00:00<00:00, 107.24it/s]\n",
      "100%|██████████| 136/136 [00:19<00:00,  7.01it/s]\n"
     ]
    },
    {
     "name": "stdout",
     "output_type": "stream",
     "text": [
      "Concatenating caches\n"
     ]
    },
    {
     "name": "stderr",
     "output_type": "stream",
     "text": [
      "100%|██████████| 68/68 [00:00<00:00, 110.06it/s]\n",
      "100%|██████████| 136/136 [00:19<00:00,  7.01it/s]\n"
     ]
    },
    {
     "name": "stdout",
     "output_type": "stream",
     "text": [
      "Concatenating caches\n"
     ]
    },
    {
     "name": "stderr",
     "output_type": "stream",
     "text": [
      "100%|██████████| 68/68 [00:00<00:00, 100.59it/s]\n",
      "100%|██████████| 136/136 [00:19<00:00,  7.01it/s]\n"
     ]
    },
    {
     "name": "stdout",
     "output_type": "stream",
     "text": [
      "Concatenating caches\n"
     ]
    },
    {
     "name": "stderr",
     "output_type": "stream",
     "text": [
      "100%|██████████| 68/68 [00:00<00:00, 100.60it/s]\n",
      "100%|██████████| 136/136 [00:19<00:00,  6.93it/s]\n"
     ]
    },
    {
     "name": "stdout",
     "output_type": "stream",
     "text": [
      "Concatenating caches\n"
     ]
    },
    {
     "name": "stderr",
     "output_type": "stream",
     "text": [
      "100%|██████████| 68/68 [00:00<00:00, 108.36it/s]\n",
      "100%|██████████| 136/136 [00:19<00:00,  7.01it/s]\n"
     ]
    },
    {
     "name": "stdout",
     "output_type": "stream",
     "text": [
      "Concatenating caches\n"
     ]
    },
    {
     "name": "stderr",
     "output_type": "stream",
     "text": [
      "100%|██████████| 68/68 [00:00<00:00, 99.80it/s]\n",
      "100%|██████████| 136/136 [00:19<00:00,  7.02it/s]\n"
     ]
    },
    {
     "name": "stdout",
     "output_type": "stream",
     "text": [
      "Concatenating caches\n"
     ]
    },
    {
     "name": "stderr",
     "output_type": "stream",
     "text": [
      "100%|██████████| 68/68 [00:00<00:00, 112.28it/s]\n",
      "100%|██████████| 136/136 [00:19<00:00,  7.02it/s]\n"
     ]
    },
    {
     "name": "stdout",
     "output_type": "stream",
     "text": [
      "Concatenating caches\n"
     ]
    },
    {
     "name": "stderr",
     "output_type": "stream",
     "text": [
      "100%|██████████| 68/68 [00:00<00:00, 108.27it/s]\n",
      "100%|██████████| 136/136 [00:19<00:00,  7.01it/s]\n"
     ]
    },
    {
     "name": "stdout",
     "output_type": "stream",
     "text": [
      "Concatenating caches\n"
     ]
    },
    {
     "name": "stderr",
     "output_type": "stream",
     "text": [
      "100%|██████████| 68/68 [00:00<00:00, 98.33it/s] \n",
      "100%|██████████| 136/136 [00:19<00:00,  7.01it/s]\n"
     ]
    },
    {
     "name": "stdout",
     "output_type": "stream",
     "text": [
      "Concatenating caches\n"
     ]
    },
    {
     "name": "stderr",
     "output_type": "stream",
     "text": [
      "100%|██████████| 68/68 [00:00<00:00, 110.07it/s]\n",
      "100%|██████████| 136/136 [00:19<00:00,  7.01it/s]\n"
     ]
    },
    {
     "name": "stdout",
     "output_type": "stream",
     "text": [
      "Concatenating caches\n"
     ]
    },
    {
     "name": "stderr",
     "output_type": "stream",
     "text": [
      "100%|██████████| 68/68 [00:00<00:00, 107.55it/s]\n",
      "100%|██████████| 136/136 [00:19<00:00,  7.01it/s]\n"
     ]
    },
    {
     "name": "stdout",
     "output_type": "stream",
     "text": [
      "Concatenating caches\n"
     ]
    },
    {
     "name": "stderr",
     "output_type": "stream",
     "text": [
      "100%|██████████| 68/68 [00:00<00:00, 102.03it/s]\n",
      "100%|██████████| 136/136 [00:19<00:00,  7.01it/s]\n"
     ]
    },
    {
     "name": "stdout",
     "output_type": "stream",
     "text": [
      "Concatenating caches\n"
     ]
    },
    {
     "name": "stderr",
     "output_type": "stream",
     "text": [
      "100%|██████████| 68/68 [00:00<00:00, 110.94it/s]\n",
      "100%|██████████| 136/136 [00:19<00:00,  7.02it/s]\n"
     ]
    },
    {
     "name": "stdout",
     "output_type": "stream",
     "text": [
      "Concatenating caches\n"
     ]
    },
    {
     "name": "stderr",
     "output_type": "stream",
     "text": [
      "100%|██████████| 68/68 [00:00<00:00, 108.59it/s]\n",
      "100%|██████████| 136/136 [00:19<00:00,  7.01it/s]\n"
     ]
    },
    {
     "name": "stdout",
     "output_type": "stream",
     "text": [
      "Concatenating caches\n"
     ]
    },
    {
     "name": "stderr",
     "output_type": "stream",
     "text": [
      "100%|██████████| 68/68 [00:00<00:00, 109.88it/s]\n",
      "100%|██████████| 136/136 [00:19<00:00,  7.01it/s]\n"
     ]
    },
    {
     "name": "stdout",
     "output_type": "stream",
     "text": [
      "Concatenating caches\n"
     ]
    },
    {
     "name": "stderr",
     "output_type": "stream",
     "text": [
      "100%|██████████| 68/68 [00:00<00:00, 110.11it/s]\n",
      "100%|██████████| 136/136 [00:19<00:00,  6.94it/s]\n"
     ]
    },
    {
     "name": "stdout",
     "output_type": "stream",
     "text": [
      "Concatenating caches\n"
     ]
    },
    {
     "name": "stderr",
     "output_type": "stream",
     "text": [
      " 29%|██▊       | 8/28 [53:22<2:13:46, 401.34s/it]"
     ]
    },
    {
     "name": "stdout",
     "output_type": "stream",
     "text": [
      "Layer: \n"
     ]
    },
    {
     "name": "stderr",
     "output_type": "stream",
     "text": [
      "100%|██████████| 68/68 [00:00<00:00, 110.17it/s]\n",
      "100%|██████████| 136/136 [00:19<00:00,  7.02it/s]\n"
     ]
    },
    {
     "name": "stdout",
     "output_type": "stream",
     "text": [
      "Concatenating caches\n"
     ]
    },
    {
     "name": "stderr",
     "output_type": "stream",
     "text": [
      "100%|██████████| 68/68 [00:00<00:00, 107.25it/s]\n",
      "100%|██████████| 136/136 [00:19<00:00,  7.02it/s]\n"
     ]
    },
    {
     "name": "stdout",
     "output_type": "stream",
     "text": [
      "Concatenating caches\n"
     ]
    },
    {
     "name": "stderr",
     "output_type": "stream",
     "text": [
      "100%|██████████| 68/68 [00:00<00:00, 110.51it/s]\n",
      "100%|██████████| 136/136 [00:19<00:00,  7.01it/s]\n"
     ]
    },
    {
     "name": "stdout",
     "output_type": "stream",
     "text": [
      "Concatenating caches\n"
     ]
    },
    {
     "name": "stderr",
     "output_type": "stream",
     "text": [
      "100%|██████████| 68/68 [00:00<00:00, 107.83it/s]\n",
      "100%|██████████| 136/136 [00:19<00:00,  7.02it/s]\n"
     ]
    },
    {
     "name": "stdout",
     "output_type": "stream",
     "text": [
      "Concatenating caches\n"
     ]
    },
    {
     "name": "stderr",
     "output_type": "stream",
     "text": [
      "100%|██████████| 68/68 [00:00<00:00, 103.97it/s]\n",
      "100%|██████████| 136/136 [00:19<00:00,  7.01it/s]\n"
     ]
    },
    {
     "name": "stdout",
     "output_type": "stream",
     "text": [
      "Concatenating caches\n"
     ]
    },
    {
     "name": "stderr",
     "output_type": "stream",
     "text": [
      "100%|██████████| 68/68 [00:00<00:00, 103.18it/s]\n",
      "100%|██████████| 136/136 [00:19<00:00,  7.01it/s]\n"
     ]
    },
    {
     "name": "stdout",
     "output_type": "stream",
     "text": [
      "Concatenating caches\n"
     ]
    },
    {
     "name": "stderr",
     "output_type": "stream",
     "text": [
      "100%|██████████| 68/68 [00:00<00:00, 98.61it/s]\n",
      "100%|██████████| 136/136 [00:19<00:00,  7.01it/s]\n"
     ]
    },
    {
     "name": "stdout",
     "output_type": "stream",
     "text": [
      "Concatenating caches\n"
     ]
    },
    {
     "name": "stderr",
     "output_type": "stream",
     "text": [
      "100%|██████████| 68/68 [00:00<00:00, 110.59it/s]\n",
      "100%|██████████| 136/136 [00:19<00:00,  7.02it/s]\n"
     ]
    },
    {
     "name": "stdout",
     "output_type": "stream",
     "text": [
      "Concatenating caches\n"
     ]
    },
    {
     "name": "stderr",
     "output_type": "stream",
     "text": [
      "100%|██████████| 68/68 [00:00<00:00, 102.46it/s]\n",
      "100%|██████████| 136/136 [00:19<00:00,  7.02it/s]\n"
     ]
    },
    {
     "name": "stdout",
     "output_type": "stream",
     "text": [
      "Concatenating caches\n"
     ]
    },
    {
     "name": "stderr",
     "output_type": "stream",
     "text": [
      "100%|██████████| 68/68 [00:00<00:00, 109.90it/s]\n",
      "100%|██████████| 136/136 [00:19<00:00,  7.02it/s]\n"
     ]
    },
    {
     "name": "stdout",
     "output_type": "stream",
     "text": [
      "Concatenating caches\n"
     ]
    },
    {
     "name": "stderr",
     "output_type": "stream",
     "text": [
      "100%|██████████| 68/68 [00:00<00:00, 108.94it/s]\n",
      "100%|██████████| 136/136 [00:19<00:00,  7.01it/s]\n"
     ]
    },
    {
     "name": "stdout",
     "output_type": "stream",
     "text": [
      "Concatenating caches\n"
     ]
    },
    {
     "name": "stderr",
     "output_type": "stream",
     "text": [
      "100%|██████████| 68/68 [00:00<00:00, 103.15it/s]\n",
      "100%|██████████| 136/136 [00:19<00:00,  7.02it/s]\n"
     ]
    },
    {
     "name": "stdout",
     "output_type": "stream",
     "text": [
      "Concatenating caches\n"
     ]
    },
    {
     "name": "stderr",
     "output_type": "stream",
     "text": [
      "100%|██████████| 68/68 [00:00<00:00, 107.80it/s]\n",
      "100%|██████████| 136/136 [00:19<00:00,  7.02it/s]\n"
     ]
    },
    {
     "name": "stdout",
     "output_type": "stream",
     "text": [
      "Concatenating caches\n"
     ]
    },
    {
     "name": "stderr",
     "output_type": "stream",
     "text": [
      "100%|██████████| 68/68 [00:00<00:00, 104.91it/s]\n",
      "100%|██████████| 136/136 [00:19<00:00,  7.01it/s]\n"
     ]
    },
    {
     "name": "stdout",
     "output_type": "stream",
     "text": [
      "Concatenating caches\n"
     ]
    },
    {
     "name": "stderr",
     "output_type": "stream",
     "text": [
      "100%|██████████| 68/68 [00:00<00:00, 109.07it/s]\n",
      "100%|██████████| 136/136 [00:19<00:00,  7.01it/s]\n"
     ]
    },
    {
     "name": "stdout",
     "output_type": "stream",
     "text": [
      "Concatenating caches\n"
     ]
    },
    {
     "name": "stderr",
     "output_type": "stream",
     "text": [
      "100%|██████████| 68/68 [00:00<00:00, 105.54it/s]\n",
      "100%|██████████| 136/136 [00:19<00:00,  7.01it/s]\n"
     ]
    },
    {
     "name": "stdout",
     "output_type": "stream",
     "text": [
      "Concatenating caches\n"
     ]
    },
    {
     "name": "stderr",
     "output_type": "stream",
     "text": [
      "100%|██████████| 68/68 [00:00<00:00, 104.16it/s]\n",
      "100%|██████████| 136/136 [00:19<00:00,  7.01it/s]\n"
     ]
    },
    {
     "name": "stdout",
     "output_type": "stream",
     "text": [
      "Concatenating caches\n"
     ]
    },
    {
     "name": "stderr",
     "output_type": "stream",
     "text": [
      " 32%|███▏      | 9/28 [1:00:04<2:07:08, 401.52s/it]"
     ]
    },
    {
     "name": "stdout",
     "output_type": "stream",
     "text": [
      "Layer: \n"
     ]
    },
    {
     "name": "stderr",
     "output_type": "stream",
     "text": [
      "100%|██████████| 68/68 [00:00<00:00, 114.80it/s]\n",
      "100%|██████████| 136/136 [00:19<00:00,  7.02it/s]\n"
     ]
    },
    {
     "name": "stdout",
     "output_type": "stream",
     "text": [
      "Concatenating caches\n"
     ]
    },
    {
     "name": "stderr",
     "output_type": "stream",
     "text": [
      "100%|██████████| 68/68 [00:00<00:00, 113.55it/s]\n",
      "100%|██████████| 136/136 [00:19<00:00,  7.02it/s]\n"
     ]
    },
    {
     "name": "stdout",
     "output_type": "stream",
     "text": [
      "Concatenating caches\n"
     ]
    },
    {
     "name": "stderr",
     "output_type": "stream",
     "text": [
      "100%|██████████| 68/68 [00:00<00:00, 102.29it/s]\n",
      "100%|██████████| 136/136 [00:19<00:00,  7.01it/s]\n"
     ]
    },
    {
     "name": "stdout",
     "output_type": "stream",
     "text": [
      "Concatenating caches\n"
     ]
    },
    {
     "name": "stderr",
     "output_type": "stream",
     "text": [
      "100%|██████████| 68/68 [00:00<00:00, 109.72it/s]\n",
      "100%|██████████| 136/136 [00:19<00:00,  7.01it/s]\n"
     ]
    },
    {
     "name": "stdout",
     "output_type": "stream",
     "text": [
      "Concatenating caches\n"
     ]
    },
    {
     "name": "stderr",
     "output_type": "stream",
     "text": [
      "100%|██████████| 68/68 [00:00<00:00, 108.04it/s]\n",
      "100%|██████████| 136/136 [00:19<00:00,  7.02it/s]\n"
     ]
    },
    {
     "name": "stdout",
     "output_type": "stream",
     "text": [
      "Concatenating caches\n"
     ]
    },
    {
     "name": "stderr",
     "output_type": "stream",
     "text": [
      "100%|██████████| 68/68 [00:00<00:00, 100.89it/s]\n",
      "100%|██████████| 136/136 [00:19<00:00,  7.02it/s]\n"
     ]
    },
    {
     "name": "stdout",
     "output_type": "stream",
     "text": [
      "Concatenating caches\n"
     ]
    },
    {
     "name": "stderr",
     "output_type": "stream",
     "text": [
      "100%|██████████| 68/68 [00:00<00:00, 108.05it/s]\n",
      "100%|██████████| 136/136 [00:19<00:00,  6.96it/s]\n"
     ]
    },
    {
     "name": "stdout",
     "output_type": "stream",
     "text": [
      "Concatenating caches\n"
     ]
    },
    {
     "name": "stderr",
     "output_type": "stream",
     "text": [
      "100%|██████████| 68/68 [00:00<00:00, 108.53it/s]\n",
      "100%|██████████| 136/136 [00:19<00:00,  7.01it/s]\n"
     ]
    },
    {
     "name": "stdout",
     "output_type": "stream",
     "text": [
      "Concatenating caches\n"
     ]
    },
    {
     "name": "stderr",
     "output_type": "stream",
     "text": [
      "100%|██████████| 68/68 [00:00<00:00, 102.24it/s]\n",
      "100%|██████████| 136/136 [00:19<00:00,  7.02it/s]\n"
     ]
    },
    {
     "name": "stdout",
     "output_type": "stream",
     "text": [
      "Concatenating caches\n"
     ]
    },
    {
     "name": "stderr",
     "output_type": "stream",
     "text": [
      "100%|██████████| 68/68 [00:00<00:00, 109.82it/s]\n",
      "100%|██████████| 136/136 [00:19<00:00,  7.01it/s]\n"
     ]
    },
    {
     "name": "stdout",
     "output_type": "stream",
     "text": [
      "Concatenating caches\n"
     ]
    },
    {
     "name": "stderr",
     "output_type": "stream",
     "text": [
      "100%|██████████| 68/68 [00:00<00:00, 108.79it/s]\n",
      "100%|██████████| 136/136 [00:19<00:00,  7.01it/s]\n"
     ]
    },
    {
     "name": "stdout",
     "output_type": "stream",
     "text": [
      "Concatenating caches\n"
     ]
    },
    {
     "name": "stderr",
     "output_type": "stream",
     "text": [
      "100%|██████████| 68/68 [00:00<00:00, 105.20it/s]\n",
      "100%|██████████| 136/136 [00:19<00:00,  7.01it/s]\n"
     ]
    },
    {
     "name": "stdout",
     "output_type": "stream",
     "text": [
      "Concatenating caches\n"
     ]
    },
    {
     "name": "stderr",
     "output_type": "stream",
     "text": [
      "100%|██████████| 68/68 [00:00<00:00, 107.81it/s]\n",
      "100%|██████████| 136/136 [00:19<00:00,  7.01it/s]\n"
     ]
    },
    {
     "name": "stdout",
     "output_type": "stream",
     "text": [
      "Concatenating caches\n"
     ]
    },
    {
     "name": "stderr",
     "output_type": "stream",
     "text": [
      "100%|██████████| 68/68 [00:00<00:00, 108.06it/s]\n",
      "100%|██████████| 136/136 [00:19<00:00,  7.01it/s]\n"
     ]
    },
    {
     "name": "stdout",
     "output_type": "stream",
     "text": [
      "Concatenating caches\n"
     ]
    },
    {
     "name": "stderr",
     "output_type": "stream",
     "text": [
      "100%|██████████| 68/68 [00:00<00:00, 103.45it/s]\n",
      "100%|██████████| 136/136 [00:19<00:00,  7.01it/s]\n"
     ]
    },
    {
     "name": "stdout",
     "output_type": "stream",
     "text": [
      "Concatenating caches\n"
     ]
    },
    {
     "name": "stderr",
     "output_type": "stream",
     "text": [
      "100%|██████████| 68/68 [00:00<00:00, 109.32it/s]\n",
      "100%|██████████| 136/136 [00:19<00:00,  7.01it/s]\n"
     ]
    },
    {
     "name": "stdout",
     "output_type": "stream",
     "text": [
      "Concatenating caches\n"
     ]
    },
    {
     "name": "stderr",
     "output_type": "stream",
     "text": [
      "100%|██████████| 68/68 [00:00<00:00, 112.09it/s]\n",
      "100%|██████████| 136/136 [00:19<00:00,  7.01it/s]\n"
     ]
    },
    {
     "name": "stdout",
     "output_type": "stream",
     "text": [
      "Concatenating caches\n"
     ]
    },
    {
     "name": "stderr",
     "output_type": "stream",
     "text": [
      " 36%|███▌      | 10/28 [1:06:46<2:00:27, 401.52s/it]"
     ]
    },
    {
     "name": "stdout",
     "output_type": "stream",
     "text": [
      "Layer: \n"
     ]
    },
    {
     "name": "stderr",
     "output_type": "stream",
     "text": [
      "100%|██████████| 68/68 [00:00<00:00, 101.33it/s]\n",
      "100%|██████████| 136/136 [00:19<00:00,  7.01it/s]\n"
     ]
    },
    {
     "name": "stdout",
     "output_type": "stream",
     "text": [
      "Concatenating caches\n"
     ]
    },
    {
     "name": "stderr",
     "output_type": "stream",
     "text": [
      "100%|██████████| 68/68 [00:00<00:00, 112.02it/s]\n",
      "100%|██████████| 136/136 [00:19<00:00,  6.96it/s]\n"
     ]
    },
    {
     "name": "stdout",
     "output_type": "stream",
     "text": [
      "Concatenating caches\n"
     ]
    },
    {
     "name": "stderr",
     "output_type": "stream",
     "text": [
      "100%|██████████| 68/68 [00:00<00:00, 96.60it/s] \n",
      "100%|██████████| 136/136 [00:19<00:00,  7.01it/s]\n"
     ]
    },
    {
     "name": "stdout",
     "output_type": "stream",
     "text": [
      "Concatenating caches\n"
     ]
    },
    {
     "name": "stderr",
     "output_type": "stream",
     "text": [
      "100%|██████████| 68/68 [00:00<00:00, 110.29it/s]\n",
      "100%|██████████| 136/136 [00:19<00:00,  7.01it/s]\n"
     ]
    },
    {
     "name": "stdout",
     "output_type": "stream",
     "text": [
      "Concatenating caches\n"
     ]
    },
    {
     "name": "stderr",
     "output_type": "stream",
     "text": [
      "100%|██████████| 68/68 [00:00<00:00, 113.84it/s]\n",
      "100%|██████████| 136/136 [00:19<00:00,  7.01it/s]\n"
     ]
    },
    {
     "name": "stdout",
     "output_type": "stream",
     "text": [
      "Concatenating caches\n"
     ]
    },
    {
     "name": "stderr",
     "output_type": "stream",
     "text": [
      "100%|██████████| 68/68 [00:00<00:00, 109.60it/s]\n",
      "100%|██████████| 136/136 [00:19<00:00,  7.01it/s]\n"
     ]
    },
    {
     "name": "stdout",
     "output_type": "stream",
     "text": [
      "Concatenating caches\n"
     ]
    },
    {
     "name": "stderr",
     "output_type": "stream",
     "text": [
      "100%|██████████| 68/68 [00:00<00:00, 113.77it/s]\n",
      "100%|██████████| 136/136 [00:19<00:00,  7.02it/s]\n"
     ]
    },
    {
     "name": "stdout",
     "output_type": "stream",
     "text": [
      "Concatenating caches\n"
     ]
    },
    {
     "name": "stderr",
     "output_type": "stream",
     "text": [
      "100%|██████████| 68/68 [00:00<00:00, 108.80it/s]\n",
      "100%|██████████| 136/136 [00:19<00:00,  7.01it/s]\n"
     ]
    },
    {
     "name": "stdout",
     "output_type": "stream",
     "text": [
      "Concatenating caches\n"
     ]
    },
    {
     "name": "stderr",
     "output_type": "stream",
     "text": [
      "100%|██████████| 68/68 [00:00<00:00, 111.71it/s]\n",
      "100%|██████████| 136/136 [00:19<00:00,  7.02it/s]\n"
     ]
    },
    {
     "name": "stdout",
     "output_type": "stream",
     "text": [
      "Concatenating caches\n"
     ]
    },
    {
     "name": "stderr",
     "output_type": "stream",
     "text": [
      "100%|██████████| 68/68 [00:00<00:00, 108.64it/s]\n",
      "100%|██████████| 136/136 [00:19<00:00,  7.02it/s]\n"
     ]
    },
    {
     "name": "stdout",
     "output_type": "stream",
     "text": [
      "Concatenating caches\n"
     ]
    },
    {
     "name": "stderr",
     "output_type": "stream",
     "text": [
      "100%|██████████| 68/68 [00:00<00:00, 115.57it/s]\n",
      "100%|██████████| 136/136 [00:19<00:00,  7.01it/s]\n"
     ]
    },
    {
     "name": "stdout",
     "output_type": "stream",
     "text": [
      "Concatenating caches\n"
     ]
    },
    {
     "name": "stderr",
     "output_type": "stream",
     "text": [
      "100%|██████████| 68/68 [00:00<00:00, 109.80it/s]\n",
      "100%|██████████| 136/136 [00:19<00:00,  7.02it/s]\n"
     ]
    },
    {
     "name": "stdout",
     "output_type": "stream",
     "text": [
      "Concatenating caches\n"
     ]
    },
    {
     "name": "stderr",
     "output_type": "stream",
     "text": [
      "100%|██████████| 68/68 [00:00<00:00, 101.41it/s]\n",
      "100%|██████████| 136/136 [00:19<00:00,  7.01it/s]\n"
     ]
    },
    {
     "name": "stdout",
     "output_type": "stream",
     "text": [
      "Concatenating caches\n"
     ]
    },
    {
     "name": "stderr",
     "output_type": "stream",
     "text": [
      "100%|██████████| 68/68 [00:00<00:00, 109.78it/s]\n",
      "100%|██████████| 136/136 [00:19<00:00,  6.94it/s]\n"
     ]
    },
    {
     "name": "stdout",
     "output_type": "stream",
     "text": [
      "Concatenating caches\n"
     ]
    },
    {
     "name": "stderr",
     "output_type": "stream",
     "text": [
      "100%|██████████| 68/68 [00:00<00:00, 109.37it/s]\n",
      "100%|██████████| 136/136 [00:19<00:00,  7.01it/s]\n"
     ]
    },
    {
     "name": "stdout",
     "output_type": "stream",
     "text": [
      "Concatenating caches\n"
     ]
    },
    {
     "name": "stderr",
     "output_type": "stream",
     "text": [
      "100%|██████████| 68/68 [00:00<00:00, 110.01it/s]\n",
      "100%|██████████| 136/136 [00:19<00:00,  7.01it/s]\n"
     ]
    },
    {
     "name": "stdout",
     "output_type": "stream",
     "text": [
      "Concatenating caches\n"
     ]
    },
    {
     "name": "stderr",
     "output_type": "stream",
     "text": [
      "100%|██████████| 68/68 [00:00<00:00, 110.64it/s]\n",
      "100%|██████████| 136/136 [00:19<00:00,  7.01it/s]\n"
     ]
    },
    {
     "name": "stdout",
     "output_type": "stream",
     "text": [
      "Concatenating caches\n"
     ]
    },
    {
     "name": "stderr",
     "output_type": "stream",
     "text": [
      " 39%|███▉      | 11/28 [1:13:21<1:53:12, 399.53s/it]"
     ]
    },
    {
     "name": "stdout",
     "output_type": "stream",
     "text": [
      "Layer: \n"
     ]
    },
    {
     "name": "stderr",
     "output_type": "stream",
     "text": [
      "100%|██████████| 68/68 [00:00<00:00, 113.00it/s]\n",
      "100%|██████████| 136/136 [00:19<00:00,  7.01it/s]\n"
     ]
    },
    {
     "name": "stdout",
     "output_type": "stream",
     "text": [
      "Concatenating caches\n"
     ]
    },
    {
     "name": "stderr",
     "output_type": "stream",
     "text": [
      "100%|██████████| 68/68 [00:00<00:00, 114.47it/s]\n",
      "100%|██████████| 136/136 [00:19<00:00,  7.01it/s]\n"
     ]
    },
    {
     "name": "stdout",
     "output_type": "stream",
     "text": [
      "Concatenating caches\n"
     ]
    },
    {
     "name": "stderr",
     "output_type": "stream",
     "text": [
      "100%|██████████| 68/68 [00:00<00:00, 114.42it/s]\n",
      "100%|██████████| 136/136 [00:19<00:00,  7.01it/s]\n"
     ]
    },
    {
     "name": "stdout",
     "output_type": "stream",
     "text": [
      "Concatenating caches\n"
     ]
    },
    {
     "name": "stderr",
     "output_type": "stream",
     "text": [
      "100%|██████████| 68/68 [00:00<00:00, 105.71it/s]\n",
      "100%|██████████| 136/136 [00:19<00:00,  7.01it/s]\n"
     ]
    },
    {
     "name": "stdout",
     "output_type": "stream",
     "text": [
      "Concatenating caches\n"
     ]
    },
    {
     "name": "stderr",
     "output_type": "stream",
     "text": [
      "100%|██████████| 68/68 [00:00<00:00, 107.80it/s]\n",
      "100%|██████████| 136/136 [00:19<00:00,  7.01it/s]\n"
     ]
    },
    {
     "name": "stdout",
     "output_type": "stream",
     "text": [
      "Concatenating caches\n"
     ]
    },
    {
     "name": "stderr",
     "output_type": "stream",
     "text": [
      "100%|██████████| 68/68 [00:00<00:00, 108.27it/s]\n",
      "100%|██████████| 136/136 [00:19<00:00,  7.01it/s]\n"
     ]
    },
    {
     "name": "stdout",
     "output_type": "stream",
     "text": [
      "Concatenating caches\n"
     ]
    },
    {
     "name": "stderr",
     "output_type": "stream",
     "text": [
      "100%|██████████| 68/68 [00:00<00:00, 109.73it/s]\n",
      "100%|██████████| 136/136 [00:19<00:00,  7.01it/s]\n"
     ]
    },
    {
     "name": "stdout",
     "output_type": "stream",
     "text": [
      "Concatenating caches\n"
     ]
    },
    {
     "name": "stderr",
     "output_type": "stream",
     "text": [
      "100%|██████████| 68/68 [00:00<00:00, 109.41it/s]\n",
      "100%|██████████| 136/136 [00:19<00:00,  7.01it/s]\n"
     ]
    },
    {
     "name": "stdout",
     "output_type": "stream",
     "text": [
      "Concatenating caches\n"
     ]
    },
    {
     "name": "stderr",
     "output_type": "stream",
     "text": [
      "100%|██████████| 68/68 [00:00<00:00, 108.63it/s]\n",
      "100%|██████████| 136/136 [00:19<00:00,  7.01it/s]\n"
     ]
    },
    {
     "name": "stdout",
     "output_type": "stream",
     "text": [
      "Concatenating caches\n"
     ]
    },
    {
     "name": "stderr",
     "output_type": "stream",
     "text": [
      "100%|██████████| 68/68 [00:00<00:00, 109.10it/s]\n",
      "100%|██████████| 136/136 [00:19<00:00,  6.93it/s]\n"
     ]
    },
    {
     "name": "stdout",
     "output_type": "stream",
     "text": [
      "Concatenating caches\n"
     ]
    },
    {
     "name": "stderr",
     "output_type": "stream",
     "text": [
      "100%|██████████| 68/68 [00:00<00:00, 108.88it/s]\n",
      "100%|██████████| 136/136 [00:19<00:00,  7.01it/s]\n"
     ]
    },
    {
     "name": "stdout",
     "output_type": "stream",
     "text": [
      "Concatenating caches\n"
     ]
    },
    {
     "name": "stderr",
     "output_type": "stream",
     "text": [
      "100%|██████████| 68/68 [00:00<00:00, 113.62it/s]\n",
      "100%|██████████| 136/136 [00:19<00:00,  7.01it/s]\n"
     ]
    },
    {
     "name": "stdout",
     "output_type": "stream",
     "text": [
      "Concatenating caches\n"
     ]
    },
    {
     "name": "stderr",
     "output_type": "stream",
     "text": [
      "100%|██████████| 68/68 [00:00<00:00, 113.29it/s]\n",
      "100%|██████████| 136/136 [00:19<00:00,  7.02it/s]\n"
     ]
    },
    {
     "name": "stdout",
     "output_type": "stream",
     "text": [
      "Concatenating caches\n"
     ]
    },
    {
     "name": "stderr",
     "output_type": "stream",
     "text": [
      "100%|██████████| 68/68 [00:00<00:00, 100.87it/s]\n",
      "100%|██████████| 136/136 [00:19<00:00,  7.02it/s]\n"
     ]
    },
    {
     "name": "stdout",
     "output_type": "stream",
     "text": [
      "Concatenating caches\n"
     ]
    },
    {
     "name": "stderr",
     "output_type": "stream",
     "text": [
      "100%|██████████| 68/68 [00:00<00:00, 109.39it/s]\n",
      "100%|██████████| 136/136 [00:19<00:00,  7.01it/s]\n"
     ]
    },
    {
     "name": "stdout",
     "output_type": "stream",
     "text": [
      "Concatenating caches\n"
     ]
    },
    {
     "name": "stderr",
     "output_type": "stream",
     "text": [
      "100%|██████████| 68/68 [00:00<00:00, 109.40it/s]\n",
      "100%|██████████| 136/136 [00:19<00:00,  7.01it/s]\n"
     ]
    },
    {
     "name": "stdout",
     "output_type": "stream",
     "text": [
      "Concatenating caches\n"
     ]
    },
    {
     "name": "stderr",
     "output_type": "stream",
     "text": [
      "100%|██████████| 68/68 [00:00<00:00, 115.56it/s]\n",
      "100%|██████████| 136/136 [00:19<00:00,  7.02it/s]\n"
     ]
    },
    {
     "name": "stdout",
     "output_type": "stream",
     "text": [
      "Concatenating caches\n"
     ]
    },
    {
     "name": "stderr",
     "output_type": "stream",
     "text": [
      " 43%|████▎     | 12/28 [1:19:58<1:46:23, 398.94s/it]"
     ]
    },
    {
     "name": "stdout",
     "output_type": "stream",
     "text": [
      "Layer: \n"
     ]
    },
    {
     "name": "stderr",
     "output_type": "stream",
     "text": [
      "100%|██████████| 68/68 [00:00<00:00, 115.37it/s]\n",
      "100%|██████████| 136/136 [00:19<00:00,  7.01it/s]\n"
     ]
    },
    {
     "name": "stdout",
     "output_type": "stream",
     "text": [
      "Concatenating caches\n"
     ]
    },
    {
     "name": "stderr",
     "output_type": "stream",
     "text": [
      "100%|██████████| 68/68 [00:00<00:00, 113.82it/s]\n",
      "100%|██████████| 136/136 [00:19<00:00,  7.01it/s]\n"
     ]
    },
    {
     "name": "stdout",
     "output_type": "stream",
     "text": [
      "Concatenating caches\n"
     ]
    },
    {
     "name": "stderr",
     "output_type": "stream",
     "text": [
      "100%|██████████| 68/68 [00:00<00:00, 113.53it/s]\n",
      "100%|██████████| 136/136 [00:19<00:00,  7.01it/s]\n"
     ]
    },
    {
     "name": "stdout",
     "output_type": "stream",
     "text": [
      "Concatenating caches\n"
     ]
    },
    {
     "name": "stderr",
     "output_type": "stream",
     "text": [
      "100%|██████████| 68/68 [00:00<00:00, 113.73it/s]\n",
      "100%|██████████| 136/136 [00:19<00:00,  6.96it/s]\n"
     ]
    },
    {
     "name": "stdout",
     "output_type": "stream",
     "text": [
      "Concatenating caches\n"
     ]
    },
    {
     "name": "stderr",
     "output_type": "stream",
     "text": [
      "100%|██████████| 68/68 [00:00<00:00, 114.45it/s]\n",
      "100%|██████████| 136/136 [00:19<00:00,  7.02it/s]\n"
     ]
    },
    {
     "name": "stdout",
     "output_type": "stream",
     "text": [
      "Concatenating caches\n"
     ]
    },
    {
     "name": "stderr",
     "output_type": "stream",
     "text": [
      "100%|██████████| 68/68 [00:00<00:00, 113.35it/s]\n",
      "100%|██████████| 136/136 [00:19<00:00,  7.01it/s]\n"
     ]
    },
    {
     "name": "stdout",
     "output_type": "stream",
     "text": [
      "Concatenating caches\n"
     ]
    },
    {
     "name": "stderr",
     "output_type": "stream",
     "text": [
      "100%|██████████| 68/68 [00:00<00:00, 114.14it/s]\n",
      "100%|██████████| 136/136 [00:19<00:00,  7.01it/s]\n"
     ]
    },
    {
     "name": "stdout",
     "output_type": "stream",
     "text": [
      "Concatenating caches\n"
     ]
    },
    {
     "name": "stderr",
     "output_type": "stream",
     "text": [
      "100%|██████████| 68/68 [00:00<00:00, 113.56it/s]\n",
      "100%|██████████| 136/136 [00:19<00:00,  7.01it/s]\n"
     ]
    },
    {
     "name": "stdout",
     "output_type": "stream",
     "text": [
      "Concatenating caches\n"
     ]
    },
    {
     "name": "stderr",
     "output_type": "stream",
     "text": [
      "100%|██████████| 68/68 [00:00<00:00, 109.55it/s]\n",
      "100%|██████████| 136/136 [00:19<00:00,  7.01it/s]\n"
     ]
    },
    {
     "name": "stdout",
     "output_type": "stream",
     "text": [
      "Concatenating caches\n"
     ]
    },
    {
     "name": "stderr",
     "output_type": "stream",
     "text": [
      "100%|██████████| 68/68 [00:00<00:00, 109.09it/s]\n",
      "100%|██████████| 136/136 [00:19<00:00,  7.01it/s]\n"
     ]
    },
    {
     "name": "stdout",
     "output_type": "stream",
     "text": [
      "Concatenating caches\n"
     ]
    },
    {
     "name": "stderr",
     "output_type": "stream",
     "text": [
      "100%|██████████| 68/68 [00:00<00:00, 109.51it/s]\n",
      "100%|██████████| 136/136 [00:19<00:00,  7.01it/s]\n"
     ]
    },
    {
     "name": "stdout",
     "output_type": "stream",
     "text": [
      "Concatenating caches\n"
     ]
    },
    {
     "name": "stderr",
     "output_type": "stream",
     "text": [
      "100%|██████████| 68/68 [00:00<00:00, 110.01it/s]\n",
      "100%|██████████| 136/136 [00:19<00:00,  7.02it/s]\n"
     ]
    },
    {
     "name": "stdout",
     "output_type": "stream",
     "text": [
      "Concatenating caches\n"
     ]
    },
    {
     "name": "stderr",
     "output_type": "stream",
     "text": [
      "100%|██████████| 68/68 [00:00<00:00, 109.88it/s]\n",
      "100%|██████████| 136/136 [00:19<00:00,  7.01it/s]\n"
     ]
    },
    {
     "name": "stdout",
     "output_type": "stream",
     "text": [
      "Concatenating caches\n"
     ]
    },
    {
     "name": "stderr",
     "output_type": "stream",
     "text": [
      "100%|██████████| 68/68 [00:00<00:00, 109.93it/s]\n",
      "100%|██████████| 136/136 [00:19<00:00,  7.02it/s]\n"
     ]
    },
    {
     "name": "stdout",
     "output_type": "stream",
     "text": [
      "Concatenating caches\n"
     ]
    },
    {
     "name": "stderr",
     "output_type": "stream",
     "text": [
      "100%|██████████| 68/68 [00:00<00:00, 108.74it/s]\n",
      "100%|██████████| 136/136 [00:19<00:00,  7.02it/s]\n"
     ]
    },
    {
     "name": "stdout",
     "output_type": "stream",
     "text": [
      "Concatenating caches\n"
     ]
    },
    {
     "name": "stderr",
     "output_type": "stream",
     "text": [
      "100%|██████████| 68/68 [00:00<00:00, 110.40it/s]\n",
      "100%|██████████| 136/136 [00:19<00:00,  6.94it/s]\n"
     ]
    },
    {
     "name": "stdout",
     "output_type": "stream",
     "text": [
      "Concatenating caches\n"
     ]
    },
    {
     "name": "stderr",
     "output_type": "stream",
     "text": [
      "100%|██████████| 68/68 [00:00<00:00, 110.23it/s]\n",
      "100%|██████████| 136/136 [00:19<00:00,  7.01it/s]\n"
     ]
    },
    {
     "name": "stdout",
     "output_type": "stream",
     "text": [
      "Concatenating caches\n"
     ]
    },
    {
     "name": "stderr",
     "output_type": "stream",
     "text": [
      " 46%|████▋     | 13/28 [1:26:29<1:39:05, 396.36s/it]"
     ]
    },
    {
     "name": "stdout",
     "output_type": "stream",
     "text": [
      "Layer: \n"
     ]
    },
    {
     "name": "stderr",
     "output_type": "stream",
     "text": [
      "100%|██████████| 68/68 [00:00<00:00, 110.76it/s]\n",
      "100%|██████████| 136/136 [00:19<00:00,  7.01it/s]\n"
     ]
    },
    {
     "name": "stdout",
     "output_type": "stream",
     "text": [
      "Concatenating caches\n"
     ]
    },
    {
     "name": "stderr",
     "output_type": "stream",
     "text": [
      "100%|██████████| 68/68 [00:00<00:00, 109.59it/s]\n",
      "100%|██████████| 136/136 [00:19<00:00,  7.01it/s]\n"
     ]
    },
    {
     "name": "stdout",
     "output_type": "stream",
     "text": [
      "Concatenating caches\n"
     ]
    },
    {
     "name": "stderr",
     "output_type": "stream",
     "text": [
      "100%|██████████| 68/68 [00:00<00:00, 109.69it/s]\n",
      "100%|██████████| 136/136 [00:19<00:00,  7.02it/s]\n"
     ]
    },
    {
     "name": "stdout",
     "output_type": "stream",
     "text": [
      "Concatenating caches\n"
     ]
    },
    {
     "name": "stderr",
     "output_type": "stream",
     "text": [
      "100%|██████████| 68/68 [00:00<00:00, 110.01it/s]\n",
      "100%|██████████| 136/136 [00:19<00:00,  7.01it/s]\n"
     ]
    },
    {
     "name": "stdout",
     "output_type": "stream",
     "text": [
      "Concatenating caches\n"
     ]
    },
    {
     "name": "stderr",
     "output_type": "stream",
     "text": [
      "100%|██████████| 68/68 [00:00<00:00, 109.98it/s]\n",
      "100%|██████████| 136/136 [00:19<00:00,  7.01it/s]\n"
     ]
    },
    {
     "name": "stdout",
     "output_type": "stream",
     "text": [
      "Concatenating caches\n"
     ]
    },
    {
     "name": "stderr",
     "output_type": "stream",
     "text": [
      "100%|██████████| 68/68 [00:00<00:00, 110.15it/s]\n",
      "100%|██████████| 136/136 [00:19<00:00,  7.01it/s]\n"
     ]
    },
    {
     "name": "stdout",
     "output_type": "stream",
     "text": [
      "Concatenating caches\n"
     ]
    },
    {
     "name": "stderr",
     "output_type": "stream",
     "text": [
      "100%|██████████| 68/68 [00:00<00:00, 109.41it/s]\n",
      "100%|██████████| 136/136 [00:19<00:00,  7.01it/s]\n"
     ]
    },
    {
     "name": "stdout",
     "output_type": "stream",
     "text": [
      "Concatenating caches\n"
     ]
    },
    {
     "name": "stderr",
     "output_type": "stream",
     "text": [
      "100%|██████████| 68/68 [00:00<00:00, 114.74it/s]\n",
      "100%|██████████| 136/136 [00:19<00:00,  7.01it/s]\n"
     ]
    },
    {
     "name": "stdout",
     "output_type": "stream",
     "text": [
      "Concatenating caches\n"
     ]
    },
    {
     "name": "stderr",
     "output_type": "stream",
     "text": [
      "100%|██████████| 68/68 [00:00<00:00, 115.24it/s]\n",
      "100%|██████████| 136/136 [00:19<00:00,  7.01it/s]\n"
     ]
    },
    {
     "name": "stdout",
     "output_type": "stream",
     "text": [
      "Concatenating caches\n"
     ]
    },
    {
     "name": "stderr",
     "output_type": "stream",
     "text": [
      "100%|██████████| 68/68 [00:00<00:00, 109.57it/s]\n",
      "100%|██████████| 136/136 [00:19<00:00,  7.01it/s]\n"
     ]
    },
    {
     "name": "stdout",
     "output_type": "stream",
     "text": [
      "Concatenating caches\n"
     ]
    },
    {
     "name": "stderr",
     "output_type": "stream",
     "text": [
      "100%|██████████| 68/68 [00:00<00:00, 114.65it/s]\n",
      "100%|██████████| 136/136 [00:19<00:00,  6.95it/s]\n"
     ]
    },
    {
     "name": "stdout",
     "output_type": "stream",
     "text": [
      "Concatenating caches\n"
     ]
    },
    {
     "name": "stderr",
     "output_type": "stream",
     "text": [
      "100%|██████████| 68/68 [00:00<00:00, 113.34it/s]\n",
      "100%|██████████| 136/136 [00:19<00:00,  7.01it/s]\n"
     ]
    },
    {
     "name": "stdout",
     "output_type": "stream",
     "text": [
      "Concatenating caches\n"
     ]
    },
    {
     "name": "stderr",
     "output_type": "stream",
     "text": [
      "100%|██████████| 68/68 [00:00<00:00, 113.74it/s]\n",
      "100%|██████████| 136/136 [00:19<00:00,  7.01it/s]\n"
     ]
    },
    {
     "name": "stdout",
     "output_type": "stream",
     "text": [
      "Concatenating caches\n"
     ]
    },
    {
     "name": "stderr",
     "output_type": "stream",
     "text": [
      "100%|██████████| 68/68 [00:00<00:00, 101.29it/s]\n",
      "100%|██████████| 136/136 [00:19<00:00,  7.01it/s]\n"
     ]
    },
    {
     "name": "stdout",
     "output_type": "stream",
     "text": [
      "Concatenating caches\n"
     ]
    },
    {
     "name": "stderr",
     "output_type": "stream",
     "text": [
      "100%|██████████| 68/68 [00:00<00:00, 109.17it/s]\n",
      "100%|██████████| 136/136 [00:19<00:00,  7.01it/s]\n"
     ]
    },
    {
     "name": "stdout",
     "output_type": "stream",
     "text": [
      "Concatenating caches\n"
     ]
    },
    {
     "name": "stderr",
     "output_type": "stream",
     "text": [
      "100%|██████████| 68/68 [00:00<00:00, 113.27it/s]\n",
      "100%|██████████| 136/136 [00:19<00:00,  7.00it/s]\n"
     ]
    },
    {
     "name": "stdout",
     "output_type": "stream",
     "text": [
      "Concatenating caches\n"
     ]
    },
    {
     "name": "stderr",
     "output_type": "stream",
     "text": [
      "100%|██████████| 68/68 [00:00<00:00, 109.06it/s]\n",
      "100%|██████████| 136/136 [00:19<00:00,  7.01it/s]\n"
     ]
    },
    {
     "name": "stdout",
     "output_type": "stream",
     "text": [
      "Concatenating caches\n"
     ]
    },
    {
     "name": "stderr",
     "output_type": "stream",
     "text": [
      " 50%|█████     | 14/28 [1:32:57<1:31:52, 393.77s/it]"
     ]
    },
    {
     "name": "stdout",
     "output_type": "stream",
     "text": [
      "Layer: \n"
     ]
    },
    {
     "name": "stderr",
     "output_type": "stream",
     "text": [
      "100%|██████████| 68/68 [00:00<00:00, 114.12it/s]\n",
      "100%|██████████| 136/136 [00:19<00:00,  7.01it/s]\n"
     ]
    },
    {
     "name": "stdout",
     "output_type": "stream",
     "text": [
      "Concatenating caches\n"
     ]
    },
    {
     "name": "stderr",
     "output_type": "stream",
     "text": [
      "100%|██████████| 68/68 [00:00<00:00, 105.89it/s]\n",
      "100%|██████████| 136/136 [00:19<00:00,  7.01it/s]\n"
     ]
    },
    {
     "name": "stdout",
     "output_type": "stream",
     "text": [
      "Concatenating caches\n"
     ]
    },
    {
     "name": "stderr",
     "output_type": "stream",
     "text": [
      "100%|██████████| 68/68 [00:00<00:00, 112.55it/s]\n",
      "100%|██████████| 136/136 [00:19<00:00,  7.01it/s]\n"
     ]
    },
    {
     "name": "stdout",
     "output_type": "stream",
     "text": [
      "Concatenating caches\n"
     ]
    },
    {
     "name": "stderr",
     "output_type": "stream",
     "text": [
      "100%|██████████| 68/68 [00:00<00:00, 108.84it/s]\n",
      "100%|██████████| 136/136 [00:19<00:00,  7.01it/s]\n"
     ]
    },
    {
     "name": "stdout",
     "output_type": "stream",
     "text": [
      "Concatenating caches\n"
     ]
    },
    {
     "name": "stderr",
     "output_type": "stream",
     "text": [
      "100%|██████████| 68/68 [00:00<00:00, 115.07it/s]\n",
      "100%|██████████| 136/136 [00:19<00:00,  7.02it/s]\n"
     ]
    },
    {
     "name": "stdout",
     "output_type": "stream",
     "text": [
      "Concatenating caches\n"
     ]
    },
    {
     "name": "stderr",
     "output_type": "stream",
     "text": [
      "100%|██████████| 68/68 [00:00<00:00, 114.72it/s]\n",
      "100%|██████████| 136/136 [00:19<00:00,  6.96it/s]\n"
     ]
    },
    {
     "name": "stdout",
     "output_type": "stream",
     "text": [
      "Concatenating caches\n"
     ]
    },
    {
     "name": "stderr",
     "output_type": "stream",
     "text": [
      "100%|██████████| 68/68 [00:00<00:00, 109.06it/s]\n",
      "100%|██████████| 136/136 [00:19<00:00,  7.01it/s]\n"
     ]
    },
    {
     "name": "stdout",
     "output_type": "stream",
     "text": [
      "Concatenating caches\n"
     ]
    },
    {
     "name": "stderr",
     "output_type": "stream",
     "text": [
      "100%|██████████| 68/68 [00:00<00:00, 109.13it/s]\n",
      "100%|██████████| 136/136 [00:19<00:00,  7.01it/s]\n"
     ]
    },
    {
     "name": "stdout",
     "output_type": "stream",
     "text": [
      "Concatenating caches\n"
     ]
    },
    {
     "name": "stderr",
     "output_type": "stream",
     "text": [
      "100%|██████████| 68/68 [00:00<00:00, 109.97it/s]\n",
      "100%|██████████| 136/136 [00:19<00:00,  7.01it/s]\n"
     ]
    },
    {
     "name": "stdout",
     "output_type": "stream",
     "text": [
      "Concatenating caches\n"
     ]
    },
    {
     "name": "stderr",
     "output_type": "stream",
     "text": [
      "100%|██████████| 68/68 [00:00<00:00, 109.92it/s]\n",
      "100%|██████████| 136/136 [00:19<00:00,  7.02it/s]\n"
     ]
    },
    {
     "name": "stdout",
     "output_type": "stream",
     "text": [
      "Concatenating caches\n"
     ]
    },
    {
     "name": "stderr",
     "output_type": "stream",
     "text": [
      "100%|██████████| 68/68 [00:00<00:00, 109.64it/s]\n",
      "100%|██████████| 136/136 [00:19<00:00,  7.02it/s]\n"
     ]
    },
    {
     "name": "stdout",
     "output_type": "stream",
     "text": [
      "Concatenating caches\n"
     ]
    },
    {
     "name": "stderr",
     "output_type": "stream",
     "text": [
      "100%|██████████| 68/68 [00:00<00:00, 112.88it/s]\n",
      "100%|██████████| 136/136 [00:19<00:00,  7.02it/s]\n"
     ]
    },
    {
     "name": "stdout",
     "output_type": "stream",
     "text": [
      "Concatenating caches\n"
     ]
    },
    {
     "name": "stderr",
     "output_type": "stream",
     "text": [
      "100%|██████████| 68/68 [00:00<00:00, 109.57it/s]\n",
      "100%|██████████| 136/136 [00:19<00:00,  7.01it/s]\n"
     ]
    },
    {
     "name": "stdout",
     "output_type": "stream",
     "text": [
      "Concatenating caches\n"
     ]
    },
    {
     "name": "stderr",
     "output_type": "stream",
     "text": [
      "100%|██████████| 68/68 [00:00<00:00, 110.05it/s]\n",
      "100%|██████████| 136/136 [00:19<00:00,  7.01it/s]\n"
     ]
    },
    {
     "name": "stdout",
     "output_type": "stream",
     "text": [
      "Concatenating caches\n"
     ]
    },
    {
     "name": "stderr",
     "output_type": "stream",
     "text": [
      "100%|██████████| 68/68 [00:00<00:00, 109.46it/s]\n",
      "100%|██████████| 136/136 [00:19<00:00,  7.01it/s]\n"
     ]
    },
    {
     "name": "stdout",
     "output_type": "stream",
     "text": [
      "Concatenating caches\n"
     ]
    },
    {
     "name": "stderr",
     "output_type": "stream",
     "text": [
      "100%|██████████| 68/68 [00:00<00:00, 108.89it/s]\n",
      "100%|██████████| 136/136 [00:19<00:00,  7.01it/s]\n"
     ]
    },
    {
     "name": "stdout",
     "output_type": "stream",
     "text": [
      "Concatenating caches\n"
     ]
    },
    {
     "name": "stderr",
     "output_type": "stream",
     "text": [
      "100%|██████████| 68/68 [00:00<00:00, 110.52it/s]\n",
      "100%|██████████| 136/136 [00:19<00:00,  7.01it/s]\n"
     ]
    },
    {
     "name": "stdout",
     "output_type": "stream",
     "text": [
      "Concatenating caches\n"
     ]
    },
    {
     "name": "stderr",
     "output_type": "stream",
     "text": [
      " 54%|█████▎    | 15/28 [1:39:27<1:25:06, 392.79s/it]"
     ]
    },
    {
     "name": "stdout",
     "output_type": "stream",
     "text": [
      "Layer: \n"
     ]
    },
    {
     "name": "stderr",
     "output_type": "stream",
     "text": [
      "100%|██████████| 68/68 [00:00<00:00, 109.89it/s]\n",
      "100%|██████████| 136/136 [00:19<00:00,  6.94it/s]\n"
     ]
    },
    {
     "name": "stdout",
     "output_type": "stream",
     "text": [
      "Concatenating caches\n"
     ]
    },
    {
     "name": "stderr",
     "output_type": "stream",
     "text": [
      "100%|██████████| 68/68 [00:00<00:00, 109.65it/s]\n",
      "100%|██████████| 136/136 [00:19<00:00,  7.01it/s]\n"
     ]
    },
    {
     "name": "stdout",
     "output_type": "stream",
     "text": [
      "Concatenating caches\n"
     ]
    },
    {
     "name": "stderr",
     "output_type": "stream",
     "text": [
      "100%|██████████| 68/68 [00:00<00:00, 109.33it/s]\n",
      "100%|██████████| 136/136 [00:19<00:00,  7.01it/s]\n"
     ]
    },
    {
     "name": "stdout",
     "output_type": "stream",
     "text": [
      "Concatenating caches\n"
     ]
    },
    {
     "name": "stderr",
     "output_type": "stream",
     "text": [
      "100%|██████████| 68/68 [00:00<00:00, 103.06it/s]\n",
      "100%|██████████| 136/136 [00:19<00:00,  7.00it/s]\n"
     ]
    },
    {
     "name": "stdout",
     "output_type": "stream",
     "text": [
      "Concatenating caches\n"
     ]
    },
    {
     "name": "stderr",
     "output_type": "stream",
     "text": [
      "100%|██████████| 68/68 [00:00<00:00, 114.79it/s]\n",
      "100%|██████████| 136/136 [00:19<00:00,  7.01it/s]\n"
     ]
    },
    {
     "name": "stdout",
     "output_type": "stream",
     "text": [
      "Concatenating caches\n"
     ]
    },
    {
     "name": "stderr",
     "output_type": "stream",
     "text": [
      "100%|██████████| 68/68 [00:00<00:00, 114.92it/s]\n",
      "100%|██████████| 136/136 [00:19<00:00,  7.01it/s]\n"
     ]
    },
    {
     "name": "stdout",
     "output_type": "stream",
     "text": [
      "Concatenating caches\n"
     ]
    },
    {
     "name": "stderr",
     "output_type": "stream",
     "text": [
      "100%|██████████| 68/68 [00:00<00:00, 113.04it/s]\n",
      "100%|██████████| 136/136 [00:19<00:00,  7.00it/s]\n"
     ]
    },
    {
     "name": "stdout",
     "output_type": "stream",
     "text": [
      "Concatenating caches\n"
     ]
    },
    {
     "name": "stderr",
     "output_type": "stream",
     "text": [
      "100%|██████████| 68/68 [00:00<00:00, 109.61it/s]\n",
      "100%|██████████| 136/136 [00:19<00:00,  7.01it/s]\n"
     ]
    },
    {
     "name": "stdout",
     "output_type": "stream",
     "text": [
      "Concatenating caches\n"
     ]
    },
    {
     "name": "stderr",
     "output_type": "stream",
     "text": [
      "100%|██████████| 68/68 [00:00<00:00, 109.99it/s]\n",
      "100%|██████████| 136/136 [00:19<00:00,  7.01it/s]\n"
     ]
    },
    {
     "name": "stdout",
     "output_type": "stream",
     "text": [
      "Concatenating caches\n"
     ]
    },
    {
     "name": "stderr",
     "output_type": "stream",
     "text": [
      "100%|██████████| 68/68 [00:00<00:00, 112.66it/s]\n",
      "100%|██████████| 136/136 [00:19<00:00,  7.01it/s]\n"
     ]
    },
    {
     "name": "stdout",
     "output_type": "stream",
     "text": [
      "Concatenating caches\n"
     ]
    },
    {
     "name": "stderr",
     "output_type": "stream",
     "text": [
      "100%|██████████| 68/68 [00:00<00:00, 112.46it/s]\n",
      "100%|██████████| 136/136 [00:19<00:00,  7.01it/s]\n"
     ]
    },
    {
     "name": "stdout",
     "output_type": "stream",
     "text": [
      "Concatenating caches\n"
     ]
    },
    {
     "name": "stderr",
     "output_type": "stream",
     "text": [
      "100%|██████████| 68/68 [00:00<00:00, 110.79it/s]\n",
      "100%|██████████| 136/136 [00:19<00:00,  7.02it/s]\n"
     ]
    },
    {
     "name": "stdout",
     "output_type": "stream",
     "text": [
      "Concatenating caches\n"
     ]
    },
    {
     "name": "stderr",
     "output_type": "stream",
     "text": [
      "100%|██████████| 68/68 [00:00<00:00, 110.51it/s]\n",
      "100%|██████████| 136/136 [00:19<00:00,  7.01it/s]\n"
     ]
    },
    {
     "name": "stdout",
     "output_type": "stream",
     "text": [
      "Concatenating caches\n"
     ]
    },
    {
     "name": "stderr",
     "output_type": "stream",
     "text": [
      "100%|██████████| 68/68 [00:00<00:00, 113.80it/s]\n",
      "100%|██████████| 136/136 [00:19<00:00,  6.94it/s]\n"
     ]
    },
    {
     "name": "stdout",
     "output_type": "stream",
     "text": [
      "Concatenating caches\n"
     ]
    },
    {
     "name": "stderr",
     "output_type": "stream",
     "text": [
      "100%|██████████| 68/68 [00:00<00:00, 115.69it/s]\n",
      "100%|██████████| 136/136 [00:19<00:00,  7.01it/s]\n"
     ]
    },
    {
     "name": "stdout",
     "output_type": "stream",
     "text": [
      "Concatenating caches\n"
     ]
    },
    {
     "name": "stderr",
     "output_type": "stream",
     "text": [
      "100%|██████████| 68/68 [00:00<00:00, 115.02it/s]\n",
      "100%|██████████| 136/136 [00:19<00:00,  7.01it/s]\n"
     ]
    },
    {
     "name": "stdout",
     "output_type": "stream",
     "text": [
      "Concatenating caches\n"
     ]
    },
    {
     "name": "stderr",
     "output_type": "stream",
     "text": [
      "100%|██████████| 68/68 [00:00<00:00, 115.50it/s]\n",
      "100%|██████████| 136/136 [00:19<00:00,  7.01it/s]\n"
     ]
    },
    {
     "name": "stdout",
     "output_type": "stream",
     "text": [
      "Concatenating caches\n"
     ]
    },
    {
     "name": "stderr",
     "output_type": "stream",
     "text": [
      " 57%|█████▋    | 16/28 [1:45:57<1:18:24, 392.07s/it]"
     ]
    },
    {
     "name": "stdout",
     "output_type": "stream",
     "text": [
      "Layer: \n"
     ]
    },
    {
     "name": "stderr",
     "output_type": "stream",
     "text": [
      "100%|██████████| 68/68 [00:00<00:00, 115.39it/s]\n",
      "100%|██████████| 136/136 [00:19<00:00,  7.01it/s]\n"
     ]
    },
    {
     "name": "stdout",
     "output_type": "stream",
     "text": [
      "Concatenating caches\n"
     ]
    },
    {
     "name": "stderr",
     "output_type": "stream",
     "text": [
      "100%|██████████| 68/68 [00:00<00:00, 109.61it/s]\n",
      "100%|██████████| 136/136 [00:19<00:00,  7.01it/s]\n"
     ]
    },
    {
     "name": "stdout",
     "output_type": "stream",
     "text": [
      "Concatenating caches\n"
     ]
    },
    {
     "name": "stderr",
     "output_type": "stream",
     "text": [
      "100%|██████████| 68/68 [00:00<00:00, 109.95it/s]\n",
      "100%|██████████| 136/136 [00:19<00:00,  7.01it/s]\n"
     ]
    },
    {
     "name": "stdout",
     "output_type": "stream",
     "text": [
      "Concatenating caches\n"
     ]
    },
    {
     "name": "stderr",
     "output_type": "stream",
     "text": [
      "100%|██████████| 68/68 [00:00<00:00, 109.46it/s]\n",
      "100%|██████████| 136/136 [00:19<00:00,  7.01it/s]\n"
     ]
    },
    {
     "name": "stdout",
     "output_type": "stream",
     "text": [
      "Concatenating caches\n"
     ]
    },
    {
     "name": "stderr",
     "output_type": "stream",
     "text": [
      "100%|██████████| 68/68 [00:00<00:00, 110.14it/s]\n",
      "100%|██████████| 136/136 [00:19<00:00,  7.00it/s]\n"
     ]
    },
    {
     "name": "stdout",
     "output_type": "stream",
     "text": [
      "Concatenating caches\n"
     ]
    },
    {
     "name": "stderr",
     "output_type": "stream",
     "text": [
      "100%|██████████| 68/68 [00:00<00:00, 109.65it/s]\n",
      "100%|██████████| 136/136 [00:19<00:00,  7.02it/s]\n"
     ]
    },
    {
     "name": "stdout",
     "output_type": "stream",
     "text": [
      "Concatenating caches\n"
     ]
    },
    {
     "name": "stderr",
     "output_type": "stream",
     "text": [
      "100%|██████████| 68/68 [00:00<00:00, 110.50it/s]\n",
      "100%|██████████| 136/136 [00:19<00:00,  7.01it/s]\n"
     ]
    },
    {
     "name": "stdout",
     "output_type": "stream",
     "text": [
      "Concatenating caches\n"
     ]
    },
    {
     "name": "stderr",
     "output_type": "stream",
     "text": [
      "100%|██████████| 68/68 [00:00<00:00, 109.45it/s]\n",
      "100%|██████████| 136/136 [00:19<00:00,  6.92it/s]\n"
     ]
    },
    {
     "name": "stdout",
     "output_type": "stream",
     "text": [
      "Concatenating caches\n"
     ]
    },
    {
     "name": "stderr",
     "output_type": "stream",
     "text": [
      "100%|██████████| 68/68 [00:00<00:00, 109.97it/s]\n",
      "100%|██████████| 136/136 [00:19<00:00,  7.01it/s]\n"
     ]
    },
    {
     "name": "stdout",
     "output_type": "stream",
     "text": [
      "Concatenating caches\n"
     ]
    },
    {
     "name": "stderr",
     "output_type": "stream",
     "text": [
      "100%|██████████| 68/68 [00:00<00:00, 112.08it/s]\n",
      "100%|██████████| 136/136 [00:19<00:00,  7.01it/s]\n"
     ]
    },
    {
     "name": "stdout",
     "output_type": "stream",
     "text": [
      "Concatenating caches\n"
     ]
    },
    {
     "name": "stderr",
     "output_type": "stream",
     "text": [
      "100%|██████████| 68/68 [00:00<00:00, 112.35it/s]\n",
      "100%|██████████| 136/136 [00:19<00:00,  7.01it/s]\n"
     ]
    },
    {
     "name": "stdout",
     "output_type": "stream",
     "text": [
      "Concatenating caches\n"
     ]
    },
    {
     "name": "stderr",
     "output_type": "stream",
     "text": [
      "100%|██████████| 68/68 [00:00<00:00, 112.42it/s]\n",
      "100%|██████████| 136/136 [00:19<00:00,  7.00it/s]\n"
     ]
    },
    {
     "name": "stdout",
     "output_type": "stream",
     "text": [
      "Concatenating caches\n"
     ]
    },
    {
     "name": "stderr",
     "output_type": "stream",
     "text": [
      "100%|██████████| 68/68 [00:00<00:00, 108.70it/s]\n",
      "100%|██████████| 136/136 [00:19<00:00,  7.01it/s]\n"
     ]
    },
    {
     "name": "stdout",
     "output_type": "stream",
     "text": [
      "Concatenating caches\n"
     ]
    },
    {
     "name": "stderr",
     "output_type": "stream",
     "text": [
      "100%|██████████| 68/68 [00:00<00:00, 110.19it/s]\n",
      "100%|██████████| 136/136 [00:19<00:00,  7.02it/s]\n"
     ]
    },
    {
     "name": "stdout",
     "output_type": "stream",
     "text": [
      "Concatenating caches\n"
     ]
    },
    {
     "name": "stderr",
     "output_type": "stream",
     "text": [
      "100%|██████████| 68/68 [00:00<00:00, 114.87it/s]\n",
      "100%|██████████| 136/136 [00:19<00:00,  7.01it/s]\n"
     ]
    },
    {
     "name": "stdout",
     "output_type": "stream",
     "text": [
      "Concatenating caches\n"
     ]
    },
    {
     "name": "stderr",
     "output_type": "stream",
     "text": [
      "100%|██████████| 68/68 [00:00<00:00, 109.66it/s]\n",
      "100%|██████████| 136/136 [00:19<00:00,  7.01it/s]\n"
     ]
    },
    {
     "name": "stdout",
     "output_type": "stream",
     "text": [
      "Concatenating caches\n"
     ]
    },
    {
     "name": "stderr",
     "output_type": "stream",
     "text": [
      "100%|██████████| 68/68 [00:00<00:00, 110.21it/s]\n",
      "100%|██████████| 136/136 [00:19<00:00,  7.01it/s]\n"
     ]
    },
    {
     "name": "stdout",
     "output_type": "stream",
     "text": [
      "Concatenating caches\n"
     ]
    },
    {
     "name": "stderr",
     "output_type": "stream",
     "text": [
      " 61%|██████    | 17/28 [1:52:27<1:11:42, 391.18s/it]"
     ]
    },
    {
     "name": "stdout",
     "output_type": "stream",
     "text": [
      "Layer: \n"
     ]
    },
    {
     "name": "stderr",
     "output_type": "stream",
     "text": [
      "100%|██████████| 68/68 [00:00<00:00, 110.55it/s]\n",
      "100%|██████████| 136/136 [00:19<00:00,  7.01it/s]\n"
     ]
    },
    {
     "name": "stdout",
     "output_type": "stream",
     "text": [
      "Concatenating caches\n"
     ]
    },
    {
     "name": "stderr",
     "output_type": "stream",
     "text": [
      "100%|██████████| 68/68 [00:00<00:00, 109.79it/s]\n",
      "100%|██████████| 136/136 [00:19<00:00,  7.01it/s]\n"
     ]
    },
    {
     "name": "stdout",
     "output_type": "stream",
     "text": [
      "Concatenating caches\n"
     ]
    },
    {
     "name": "stderr",
     "output_type": "stream",
     "text": [
      "100%|██████████| 68/68 [00:00<00:00, 112.93it/s]\n",
      "100%|██████████| 136/136 [00:19<00:00,  6.94it/s]\n"
     ]
    },
    {
     "name": "stdout",
     "output_type": "stream",
     "text": [
      "Concatenating caches\n"
     ]
    },
    {
     "name": "stderr",
     "output_type": "stream",
     "text": [
      "100%|██████████| 68/68 [00:00<00:00, 111.07it/s]\n",
      "100%|██████████| 136/136 [00:19<00:00,  7.01it/s]\n"
     ]
    },
    {
     "name": "stdout",
     "output_type": "stream",
     "text": [
      "Concatenating caches\n"
     ]
    },
    {
     "name": "stderr",
     "output_type": "stream",
     "text": [
      "100%|██████████| 68/68 [00:00<00:00, 112.98it/s]\n",
      "100%|██████████| 136/136 [00:19<00:00,  7.01it/s]\n"
     ]
    },
    {
     "name": "stdout",
     "output_type": "stream",
     "text": [
      "Concatenating caches\n"
     ]
    },
    {
     "name": "stderr",
     "output_type": "stream",
     "text": [
      "100%|██████████| 68/68 [00:00<00:00, 112.55it/s]\n",
      "100%|██████████| 136/136 [00:19<00:00,  7.01it/s]\n"
     ]
    },
    {
     "name": "stdout",
     "output_type": "stream",
     "text": [
      "Concatenating caches\n"
     ]
    },
    {
     "name": "stderr",
     "output_type": "stream",
     "text": [
      "100%|██████████| 68/68 [00:00<00:00, 108.74it/s]\n",
      "100%|██████████| 136/136 [00:19<00:00,  7.02it/s]\n"
     ]
    },
    {
     "name": "stdout",
     "output_type": "stream",
     "text": [
      "Concatenating caches\n"
     ]
    },
    {
     "name": "stderr",
     "output_type": "stream",
     "text": [
      "100%|██████████| 68/68 [00:00<00:00, 109.12it/s]\n",
      "100%|██████████| 136/136 [00:19<00:00,  7.01it/s]\n"
     ]
    },
    {
     "name": "stdout",
     "output_type": "stream",
     "text": [
      "Concatenating caches\n"
     ]
    },
    {
     "name": "stderr",
     "output_type": "stream",
     "text": [
      "100%|██████████| 68/68 [00:00<00:00, 111.41it/s]\n",
      "100%|██████████| 136/136 [00:19<00:00,  7.01it/s]\n"
     ]
    },
    {
     "name": "stdout",
     "output_type": "stream",
     "text": [
      "Concatenating caches\n"
     ]
    },
    {
     "name": "stderr",
     "output_type": "stream",
     "text": [
      "100%|██████████| 68/68 [00:00<00:00, 104.26it/s]\n",
      "100%|██████████| 136/136 [00:19<00:00,  7.01it/s]\n"
     ]
    },
    {
     "name": "stdout",
     "output_type": "stream",
     "text": [
      "Concatenating caches\n"
     ]
    },
    {
     "name": "stderr",
     "output_type": "stream",
     "text": [
      "100%|██████████| 68/68 [00:00<00:00, 114.91it/s]\n",
      "100%|██████████| 136/136 [00:19<00:00,  7.01it/s]\n"
     ]
    },
    {
     "name": "stdout",
     "output_type": "stream",
     "text": [
      "Concatenating caches\n"
     ]
    },
    {
     "name": "stderr",
     "output_type": "stream",
     "text": [
      "100%|██████████| 68/68 [00:00<00:00, 113.46it/s]\n",
      "100%|██████████| 136/136 [00:19<00:00,  7.01it/s]\n"
     ]
    },
    {
     "name": "stdout",
     "output_type": "stream",
     "text": [
      "Concatenating caches\n"
     ]
    },
    {
     "name": "stderr",
     "output_type": "stream",
     "text": [
      "100%|██████████| 68/68 [00:00<00:00, 113.49it/s]\n",
      "100%|██████████| 136/136 [00:19<00:00,  7.01it/s]\n"
     ]
    },
    {
     "name": "stdout",
     "output_type": "stream",
     "text": [
      "Concatenating caches\n"
     ]
    },
    {
     "name": "stderr",
     "output_type": "stream",
     "text": [
      "100%|██████████| 68/68 [00:00<00:00, 114.21it/s]\n",
      "100%|██████████| 136/136 [00:19<00:00,  7.00it/s]\n"
     ]
    },
    {
     "name": "stdout",
     "output_type": "stream",
     "text": [
      "Concatenating caches\n"
     ]
    },
    {
     "name": "stderr",
     "output_type": "stream",
     "text": [
      "100%|██████████| 68/68 [00:00<00:00, 113.68it/s]\n",
      "100%|██████████| 136/136 [00:19<00:00,  6.96it/s]\n"
     ]
    },
    {
     "name": "stdout",
     "output_type": "stream",
     "text": [
      "Concatenating caches\n"
     ]
    },
    {
     "name": "stderr",
     "output_type": "stream",
     "text": [
      "100%|██████████| 68/68 [00:00<00:00, 113.47it/s]\n",
      "100%|██████████| 136/136 [00:19<00:00,  7.01it/s]\n"
     ]
    },
    {
     "name": "stdout",
     "output_type": "stream",
     "text": [
      "Concatenating caches\n"
     ]
    },
    {
     "name": "stderr",
     "output_type": "stream",
     "text": [
      "100%|██████████| 68/68 [00:00<00:00, 109.33it/s]\n",
      "100%|██████████| 136/136 [00:19<00:00,  7.01it/s]\n"
     ]
    },
    {
     "name": "stdout",
     "output_type": "stream",
     "text": [
      "Concatenating caches\n"
     ]
    },
    {
     "name": "stderr",
     "output_type": "stream",
     "text": [
      " 64%|██████▍   | 18/28 [1:58:57<1:05:08, 390.85s/it]"
     ]
    },
    {
     "name": "stdout",
     "output_type": "stream",
     "text": [
      "Layer: \n"
     ]
    },
    {
     "name": "stderr",
     "output_type": "stream",
     "text": [
      "100%|██████████| 68/68 [00:00<00:00, 110.12it/s]\n",
      "100%|██████████| 136/136 [00:19<00:00,  7.01it/s]\n"
     ]
    },
    {
     "name": "stdout",
     "output_type": "stream",
     "text": [
      "Concatenating caches\n"
     ]
    },
    {
     "name": "stderr",
     "output_type": "stream",
     "text": [
      "100%|██████████| 68/68 [00:00<00:00, 108.91it/s]\n",
      "100%|██████████| 136/136 [00:19<00:00,  7.01it/s]\n"
     ]
    },
    {
     "name": "stdout",
     "output_type": "stream",
     "text": [
      "Concatenating caches\n"
     ]
    },
    {
     "name": "stderr",
     "output_type": "stream",
     "text": [
      "100%|██████████| 68/68 [00:00<00:00, 109.21it/s]\n",
      "100%|██████████| 136/136 [00:19<00:00,  7.01it/s]\n"
     ]
    },
    {
     "name": "stdout",
     "output_type": "stream",
     "text": [
      "Concatenating caches\n"
     ]
    },
    {
     "name": "stderr",
     "output_type": "stream",
     "text": [
      "100%|██████████| 68/68 [00:00<00:00, 114.57it/s]\n",
      "100%|██████████| 136/136 [00:19<00:00,  7.01it/s]\n"
     ]
    },
    {
     "name": "stdout",
     "output_type": "stream",
     "text": [
      "Concatenating caches\n"
     ]
    },
    {
     "name": "stderr",
     "output_type": "stream",
     "text": [
      "100%|██████████| 68/68 [00:00<00:00, 101.11it/s]\n",
      "100%|██████████| 136/136 [00:19<00:00,  7.01it/s]\n"
     ]
    },
    {
     "name": "stdout",
     "output_type": "stream",
     "text": [
      "Concatenating caches\n"
     ]
    },
    {
     "name": "stderr",
     "output_type": "stream",
     "text": [
      "100%|██████████| 68/68 [00:00<00:00, 109.26it/s]\n",
      "100%|██████████| 136/136 [00:19<00:00,  7.01it/s]\n"
     ]
    },
    {
     "name": "stdout",
     "output_type": "stream",
     "text": [
      "Concatenating caches\n"
     ]
    },
    {
     "name": "stderr",
     "output_type": "stream",
     "text": [
      "100%|██████████| 68/68 [00:00<00:00, 109.55it/s]\n",
      "100%|██████████| 136/136 [00:19<00:00,  7.01it/s]\n"
     ]
    },
    {
     "name": "stdout",
     "output_type": "stream",
     "text": [
      "Concatenating caches\n"
     ]
    },
    {
     "name": "stderr",
     "output_type": "stream",
     "text": [
      "100%|██████████| 68/68 [00:00<00:00, 108.90it/s]\n",
      "100%|██████████| 136/136 [00:19<00:00,  7.01it/s]\n"
     ]
    },
    {
     "name": "stdout",
     "output_type": "stream",
     "text": [
      "Concatenating caches\n"
     ]
    },
    {
     "name": "stderr",
     "output_type": "stream",
     "text": [
      "100%|██████████| 68/68 [00:00<00:00, 109.29it/s]\n",
      "100%|██████████| 136/136 [00:19<00:00,  7.01it/s]\n"
     ]
    },
    {
     "name": "stdout",
     "output_type": "stream",
     "text": [
      "Concatenating caches\n"
     ]
    },
    {
     "name": "stderr",
     "output_type": "stream",
     "text": [
      "100%|██████████| 68/68 [00:00<00:00, 109.55it/s]\n",
      "100%|██████████| 136/136 [00:19<00:00,  6.94it/s]\n"
     ]
    },
    {
     "name": "stdout",
     "output_type": "stream",
     "text": [
      "Concatenating caches\n"
     ]
    },
    {
     "name": "stderr",
     "output_type": "stream",
     "text": [
      "100%|██████████| 68/68 [00:00<00:00, 109.37it/s]\n",
      "100%|██████████| 136/136 [00:19<00:00,  7.01it/s]\n"
     ]
    },
    {
     "name": "stdout",
     "output_type": "stream",
     "text": [
      "Concatenating caches\n"
     ]
    },
    {
     "name": "stderr",
     "output_type": "stream",
     "text": [
      "100%|██████████| 68/68 [00:00<00:00, 109.85it/s]\n",
      "100%|██████████| 136/136 [00:19<00:00,  7.02it/s]\n"
     ]
    },
    {
     "name": "stdout",
     "output_type": "stream",
     "text": [
      "Concatenating caches\n"
     ]
    },
    {
     "name": "stderr",
     "output_type": "stream",
     "text": [
      "100%|██████████| 68/68 [00:00<00:00, 110.29it/s]\n",
      "100%|██████████| 136/136 [00:19<00:00,  7.01it/s]\n"
     ]
    },
    {
     "name": "stdout",
     "output_type": "stream",
     "text": [
      "Concatenating caches\n"
     ]
    },
    {
     "name": "stderr",
     "output_type": "stream",
     "text": [
      "100%|██████████| 68/68 [00:00<00:00, 109.64it/s]\n",
      "100%|██████████| 136/136 [00:19<00:00,  7.01it/s]\n"
     ]
    },
    {
     "name": "stdout",
     "output_type": "stream",
     "text": [
      "Concatenating caches\n"
     ]
    },
    {
     "name": "stderr",
     "output_type": "stream",
     "text": [
      "100%|██████████| 68/68 [00:00<00:00, 110.04it/s]\n",
      "100%|██████████| 136/136 [00:19<00:00,  7.01it/s]\n"
     ]
    },
    {
     "name": "stdout",
     "output_type": "stream",
     "text": [
      "Concatenating caches\n"
     ]
    },
    {
     "name": "stderr",
     "output_type": "stream",
     "text": [
      "100%|██████████| 68/68 [00:00<00:00, 109.40it/s]\n",
      "100%|██████████| 136/136 [00:19<00:00,  7.01it/s]\n"
     ]
    },
    {
     "name": "stdout",
     "output_type": "stream",
     "text": [
      "Concatenating caches\n"
     ]
    },
    {
     "name": "stderr",
     "output_type": "stream",
     "text": [
      "100%|██████████| 68/68 [00:00<00:00, 110.06it/s]\n",
      "100%|██████████| 136/136 [00:19<00:00,  7.01it/s]\n"
     ]
    },
    {
     "name": "stdout",
     "output_type": "stream",
     "text": [
      "Concatenating caches\n"
     ]
    },
    {
     "name": "stderr",
     "output_type": "stream",
     "text": [
      " 68%|██████▊   | 19/28 [2:05:30<58:44, 391.60s/it]  "
     ]
    },
    {
     "name": "stdout",
     "output_type": "stream",
     "text": [
      "Layer: \n"
     ]
    },
    {
     "name": "stderr",
     "output_type": "stream",
     "text": [
      "100%|██████████| 68/68 [00:00<00:00, 109.86it/s]\n",
      "100%|██████████| 136/136 [00:19<00:00,  7.02it/s]\n"
     ]
    },
    {
     "name": "stdout",
     "output_type": "stream",
     "text": [
      "Concatenating caches\n"
     ]
    },
    {
     "name": "stderr",
     "output_type": "stream",
     "text": [
      "100%|██████████| 68/68 [00:00<00:00, 109.94it/s]\n",
      "100%|██████████| 136/136 [00:19<00:00,  7.01it/s]\n"
     ]
    },
    {
     "name": "stdout",
     "output_type": "stream",
     "text": [
      "Concatenating caches\n"
     ]
    },
    {
     "name": "stderr",
     "output_type": "stream",
     "text": [
      "100%|██████████| 68/68 [00:00<00:00, 109.54it/s]\n",
      "100%|██████████| 136/136 [00:19<00:00,  7.02it/s]\n"
     ]
    },
    {
     "name": "stdout",
     "output_type": "stream",
     "text": [
      "Concatenating caches\n"
     ]
    },
    {
     "name": "stderr",
     "output_type": "stream",
     "text": [
      "100%|██████████| 68/68 [00:00<00:00, 110.18it/s]\n",
      "100%|██████████| 136/136 [00:19<00:00,  7.01it/s]\n"
     ]
    },
    {
     "name": "stdout",
     "output_type": "stream",
     "text": [
      "Concatenating caches\n"
     ]
    },
    {
     "name": "stderr",
     "output_type": "stream",
     "text": [
      "100%|██████████| 68/68 [00:00<00:00, 110.40it/s]\n",
      "100%|██████████| 136/136 [00:19<00:00,  6.94it/s]\n"
     ]
    },
    {
     "name": "stdout",
     "output_type": "stream",
     "text": [
      "Concatenating caches\n"
     ]
    },
    {
     "name": "stderr",
     "output_type": "stream",
     "text": [
      "100%|██████████| 68/68 [00:00<00:00, 110.04it/s]\n",
      "100%|██████████| 136/136 [00:19<00:00,  7.02it/s]\n"
     ]
    },
    {
     "name": "stdout",
     "output_type": "stream",
     "text": [
      "Concatenating caches\n"
     ]
    },
    {
     "name": "stderr",
     "output_type": "stream",
     "text": [
      "100%|██████████| 68/68 [00:00<00:00, 110.78it/s]\n",
      "100%|██████████| 136/136 [00:19<00:00,  7.01it/s]\n"
     ]
    },
    {
     "name": "stdout",
     "output_type": "stream",
     "text": [
      "Concatenating caches\n"
     ]
    },
    {
     "name": "stderr",
     "output_type": "stream",
     "text": [
      "100%|██████████| 68/68 [00:00<00:00, 110.07it/s]\n",
      "100%|██████████| 136/136 [00:19<00:00,  7.00it/s]\n"
     ]
    },
    {
     "name": "stdout",
     "output_type": "stream",
     "text": [
      "Concatenating caches\n"
     ]
    },
    {
     "name": "stderr",
     "output_type": "stream",
     "text": [
      "100%|██████████| 68/68 [00:00<00:00, 112.38it/s]\n",
      "100%|██████████| 136/136 [00:19<00:00,  7.01it/s]\n"
     ]
    },
    {
     "name": "stdout",
     "output_type": "stream",
     "text": [
      "Concatenating caches\n"
     ]
    },
    {
     "name": "stderr",
     "output_type": "stream",
     "text": [
      "100%|██████████| 68/68 [00:00<00:00, 109.68it/s]\n",
      "100%|██████████| 136/136 [00:19<00:00,  7.01it/s]\n"
     ]
    },
    {
     "name": "stdout",
     "output_type": "stream",
     "text": [
      "Concatenating caches\n"
     ]
    },
    {
     "name": "stderr",
     "output_type": "stream",
     "text": [
      "100%|██████████| 68/68 [00:00<00:00, 109.85it/s]\n",
      "100%|██████████| 136/136 [00:19<00:00,  7.01it/s]\n"
     ]
    },
    {
     "name": "stdout",
     "output_type": "stream",
     "text": [
      "Concatenating caches\n"
     ]
    },
    {
     "name": "stderr",
     "output_type": "stream",
     "text": [
      "100%|██████████| 68/68 [00:00<00:00, 113.53it/s]\n",
      "100%|██████████| 136/136 [00:19<00:00,  7.01it/s]\n"
     ]
    },
    {
     "name": "stdout",
     "output_type": "stream",
     "text": [
      "Concatenating caches\n"
     ]
    },
    {
     "name": "stderr",
     "output_type": "stream",
     "text": [
      "100%|██████████| 68/68 [00:00<00:00, 112.94it/s]\n",
      "100%|██████████| 136/136 [00:19<00:00,  7.01it/s]\n"
     ]
    },
    {
     "name": "stdout",
     "output_type": "stream",
     "text": [
      "Concatenating caches\n"
     ]
    },
    {
     "name": "stderr",
     "output_type": "stream",
     "text": [
      "100%|██████████| 68/68 [00:00<00:00, 104.27it/s]\n",
      "100%|██████████| 136/136 [00:19<00:00,  7.01it/s]\n"
     ]
    },
    {
     "name": "stdout",
     "output_type": "stream",
     "text": [
      "Concatenating caches\n"
     ]
    },
    {
     "name": "stderr",
     "output_type": "stream",
     "text": [
      "100%|██████████| 68/68 [00:00<00:00, 113.73it/s]\n",
      "100%|██████████| 136/136 [00:19<00:00,  7.01it/s]\n"
     ]
    },
    {
     "name": "stdout",
     "output_type": "stream",
     "text": [
      "Concatenating caches\n"
     ]
    },
    {
     "name": "stderr",
     "output_type": "stream",
     "text": [
      "100%|██████████| 68/68 [00:00<00:00, 109.49it/s]\n",
      "100%|██████████| 136/136 [00:19<00:00,  7.01it/s]\n"
     ]
    },
    {
     "name": "stdout",
     "output_type": "stream",
     "text": [
      "Concatenating caches\n"
     ]
    },
    {
     "name": "stderr",
     "output_type": "stream",
     "text": [
      "100%|██████████| 68/68 [00:00<00:00, 110.40it/s]\n",
      "100%|██████████| 136/136 [00:19<00:00,  7.01it/s]\n"
     ]
    },
    {
     "name": "stdout",
     "output_type": "stream",
     "text": [
      "Concatenating caches\n"
     ]
    },
    {
     "name": "stderr",
     "output_type": "stream",
     "text": [
      " 71%|███████▏  | 20/28 [2:12:02<52:14, 391.78s/it]"
     ]
    },
    {
     "name": "stdout",
     "output_type": "stream",
     "text": [
      "Layer: \n"
     ]
    },
    {
     "name": "stderr",
     "output_type": "stream",
     "text": [
      "100%|██████████| 68/68 [00:00<00:00, 110.69it/s]\n",
      "100%|██████████| 136/136 [00:19<00:00,  7.01it/s]\n"
     ]
    },
    {
     "name": "stdout",
     "output_type": "stream",
     "text": [
      "Concatenating caches\n"
     ]
    },
    {
     "name": "stderr",
     "output_type": "stream",
     "text": [
      "100%|██████████| 68/68 [00:00<00:00, 110.33it/s]\n",
      "100%|██████████| 136/136 [00:19<00:00,  7.01it/s]\n"
     ]
    },
    {
     "name": "stdout",
     "output_type": "stream",
     "text": [
      "Concatenating caches\n"
     ]
    },
    {
     "name": "stderr",
     "output_type": "stream",
     "text": [
      "100%|██████████| 68/68 [00:00<00:00, 110.04it/s]\n",
      "100%|██████████| 136/136 [00:19<00:00,  7.01it/s]\n"
     ]
    },
    {
     "name": "stdout",
     "output_type": "stream",
     "text": [
      "Concatenating caches\n"
     ]
    },
    {
     "name": "stderr",
     "output_type": "stream",
     "text": [
      "100%|██████████| 68/68 [00:00<00:00, 109.75it/s]\n",
      "100%|██████████| 136/136 [00:19<00:00,  7.01it/s]\n"
     ]
    },
    {
     "name": "stdout",
     "output_type": "stream",
     "text": [
      "Concatenating caches\n"
     ]
    },
    {
     "name": "stderr",
     "output_type": "stream",
     "text": [
      "100%|██████████| 68/68 [00:00<00:00, 102.51it/s]\n",
      "100%|██████████| 136/136 [00:19<00:00,  7.01it/s]\n"
     ]
    },
    {
     "name": "stdout",
     "output_type": "stream",
     "text": [
      "Concatenating caches\n"
     ]
    },
    {
     "name": "stderr",
     "output_type": "stream",
     "text": [
      "100%|██████████| 68/68 [00:00<00:00, 109.93it/s]\n",
      "100%|██████████| 136/136 [00:19<00:00,  7.01it/s]\n"
     ]
    },
    {
     "name": "stdout",
     "output_type": "stream",
     "text": [
      "Concatenating caches\n"
     ]
    },
    {
     "name": "stderr",
     "output_type": "stream",
     "text": [
      "100%|██████████| 68/68 [00:00<00:00, 102.15it/s]\n",
      "100%|██████████| 136/136 [00:19<00:00,  7.02it/s]\n"
     ]
    },
    {
     "name": "stdout",
     "output_type": "stream",
     "text": [
      "Concatenating caches\n"
     ]
    },
    {
     "name": "stderr",
     "output_type": "stream",
     "text": [
      "100%|██████████| 68/68 [00:00<00:00, 110.61it/s]\n",
      "100%|██████████| 136/136 [00:19<00:00,  7.01it/s]\n"
     ]
    },
    {
     "name": "stdout",
     "output_type": "stream",
     "text": [
      "Concatenating caches\n"
     ]
    },
    {
     "name": "stderr",
     "output_type": "stream",
     "text": [
      "100%|██████████| 68/68 [00:00<00:00, 113.38it/s]\n",
      "100%|██████████| 136/136 [00:19<00:00,  7.01it/s]\n"
     ]
    },
    {
     "name": "stdout",
     "output_type": "stream",
     "text": [
      "Concatenating caches\n"
     ]
    },
    {
     "name": "stderr",
     "output_type": "stream",
     "text": [
      "100%|██████████| 68/68 [00:00<00:00, 113.57it/s]\n",
      "100%|██████████| 136/136 [00:19<00:00,  7.01it/s]\n"
     ]
    },
    {
     "name": "stdout",
     "output_type": "stream",
     "text": [
      "Concatenating caches\n"
     ]
    },
    {
     "name": "stderr",
     "output_type": "stream",
     "text": [
      "100%|██████████| 68/68 [00:00<00:00, 109.84it/s]\n",
      "100%|██████████| 136/136 [00:19<00:00,  7.01it/s]\n"
     ]
    },
    {
     "name": "stdout",
     "output_type": "stream",
     "text": [
      "Concatenating caches\n"
     ]
    },
    {
     "name": "stderr",
     "output_type": "stream",
     "text": [
      "100%|██████████| 68/68 [00:00<00:00, 110.11it/s]\n",
      "100%|██████████| 136/136 [00:19<00:00,  6.95it/s]\n"
     ]
    },
    {
     "name": "stdout",
     "output_type": "stream",
     "text": [
      "Concatenating caches\n"
     ]
    },
    {
     "name": "stderr",
     "output_type": "stream",
     "text": [
      "100%|██████████| 68/68 [00:00<00:00, 109.96it/s]\n",
      "100%|██████████| 136/136 [00:19<00:00,  7.01it/s]\n"
     ]
    },
    {
     "name": "stdout",
     "output_type": "stream",
     "text": [
      "Concatenating caches\n"
     ]
    },
    {
     "name": "stderr",
     "output_type": "stream",
     "text": [
      "100%|██████████| 68/68 [00:00<00:00, 109.95it/s]\n",
      "100%|██████████| 136/136 [00:19<00:00,  7.02it/s]\n"
     ]
    },
    {
     "name": "stdout",
     "output_type": "stream",
     "text": [
      "Concatenating caches\n"
     ]
    },
    {
     "name": "stderr",
     "output_type": "stream",
     "text": [
      "100%|██████████| 68/68 [00:00<00:00, 113.95it/s]\n",
      "100%|██████████| 136/136 [00:19<00:00,  7.01it/s]\n"
     ]
    },
    {
     "name": "stdout",
     "output_type": "stream",
     "text": [
      "Concatenating caches\n"
     ]
    },
    {
     "name": "stderr",
     "output_type": "stream",
     "text": [
      "100%|██████████| 68/68 [00:00<00:00, 109.72it/s]\n",
      "100%|██████████| 136/136 [00:19<00:00,  7.01it/s]\n"
     ]
    },
    {
     "name": "stdout",
     "output_type": "stream",
     "text": [
      "Concatenating caches\n"
     ]
    },
    {
     "name": "stderr",
     "output_type": "stream",
     "text": [
      "100%|██████████| 68/68 [00:00<00:00, 109.69it/s]\n",
      "100%|██████████| 136/136 [00:19<00:00,  7.01it/s]\n"
     ]
    },
    {
     "name": "stdout",
     "output_type": "stream",
     "text": [
      "Concatenating caches\n"
     ]
    },
    {
     "name": "stderr",
     "output_type": "stream",
     "text": [
      " 75%|███████▌  | 21/28 [2:18:34<45:43, 391.86s/it]"
     ]
    },
    {
     "name": "stdout",
     "output_type": "stream",
     "text": [
      "Layer: \n"
     ]
    },
    {
     "name": "stderr",
     "output_type": "stream",
     "text": [
      "100%|██████████| 68/68 [00:00<00:00, 110.19it/s]\n",
      "100%|██████████| 136/136 [00:19<00:00,  7.02it/s]\n"
     ]
    },
    {
     "name": "stdout",
     "output_type": "stream",
     "text": [
      "Concatenating caches\n"
     ]
    },
    {
     "name": "stderr",
     "output_type": "stream",
     "text": [
      "100%|██████████| 68/68 [00:00<00:00, 109.89it/s]\n",
      "100%|██████████| 136/136 [00:19<00:00,  7.01it/s]\n"
     ]
    },
    {
     "name": "stdout",
     "output_type": "stream",
     "text": [
      "Concatenating caches\n"
     ]
    },
    {
     "name": "stderr",
     "output_type": "stream",
     "text": [
      "100%|██████████| 68/68 [00:00<00:00, 113.62it/s]\n",
      "100%|██████████| 136/136 [00:19<00:00,  7.01it/s]\n"
     ]
    },
    {
     "name": "stdout",
     "output_type": "stream",
     "text": [
      "Concatenating caches\n"
     ]
    },
    {
     "name": "stderr",
     "output_type": "stream",
     "text": [
      "100%|██████████| 68/68 [00:00<00:00, 109.85it/s]\n",
      "100%|██████████| 136/136 [00:19<00:00,  7.02it/s]\n"
     ]
    },
    {
     "name": "stdout",
     "output_type": "stream",
     "text": [
      "Concatenating caches\n"
     ]
    },
    {
     "name": "stderr",
     "output_type": "stream",
     "text": [
      "100%|██████████| 68/68 [00:00<00:00, 106.06it/s]\n",
      "100%|██████████| 136/136 [00:19<00:00,  7.01it/s]\n"
     ]
    },
    {
     "name": "stdout",
     "output_type": "stream",
     "text": [
      "Concatenating caches\n"
     ]
    },
    {
     "name": "stderr",
     "output_type": "stream",
     "text": [
      "100%|██████████| 68/68 [00:00<00:00, 110.51it/s]\n",
      "100%|██████████| 136/136 [00:19<00:00,  7.01it/s]\n"
     ]
    },
    {
     "name": "stdout",
     "output_type": "stream",
     "text": [
      "Concatenating caches\n"
     ]
    },
    {
     "name": "stderr",
     "output_type": "stream",
     "text": [
      "100%|██████████| 68/68 [00:00<00:00, 112.05it/s]\n",
      "100%|██████████| 136/136 [00:19<00:00,  6.96it/s]\n"
     ]
    },
    {
     "name": "stdout",
     "output_type": "stream",
     "text": [
      "Concatenating caches\n"
     ]
    },
    {
     "name": "stderr",
     "output_type": "stream",
     "text": [
      "100%|██████████| 68/68 [00:00<00:00, 109.13it/s]\n",
      "100%|██████████| 136/136 [00:19<00:00,  7.02it/s]\n"
     ]
    },
    {
     "name": "stdout",
     "output_type": "stream",
     "text": [
      "Concatenating caches\n"
     ]
    },
    {
     "name": "stderr",
     "output_type": "stream",
     "text": [
      "100%|██████████| 68/68 [00:00<00:00, 109.16it/s]\n",
      "100%|██████████| 136/136 [00:19<00:00,  7.02it/s]\n"
     ]
    },
    {
     "name": "stdout",
     "output_type": "stream",
     "text": [
      "Concatenating caches\n"
     ]
    },
    {
     "name": "stderr",
     "output_type": "stream",
     "text": [
      "100%|██████████| 68/68 [00:00<00:00, 109.96it/s]\n",
      "100%|██████████| 136/136 [00:19<00:00,  7.02it/s]\n"
     ]
    },
    {
     "name": "stdout",
     "output_type": "stream",
     "text": [
      "Concatenating caches\n"
     ]
    },
    {
     "name": "stderr",
     "output_type": "stream",
     "text": [
      "100%|██████████| 68/68 [00:00<00:00, 110.07it/s]\n",
      "100%|██████████| 136/136 [00:19<00:00,  7.02it/s]\n"
     ]
    },
    {
     "name": "stdout",
     "output_type": "stream",
     "text": [
      "Concatenating caches\n"
     ]
    },
    {
     "name": "stderr",
     "output_type": "stream",
     "text": [
      "100%|██████████| 68/68 [00:00<00:00, 101.99it/s]\n",
      "100%|██████████| 136/136 [00:19<00:00,  7.01it/s]\n"
     ]
    },
    {
     "name": "stdout",
     "output_type": "stream",
     "text": [
      "Concatenating caches\n"
     ]
    },
    {
     "name": "stderr",
     "output_type": "stream",
     "text": [
      "100%|██████████| 68/68 [00:00<00:00, 109.51it/s]\n",
      "100%|██████████| 136/136 [00:19<00:00,  7.01it/s]\n"
     ]
    },
    {
     "name": "stdout",
     "output_type": "stream",
     "text": [
      "Concatenating caches\n"
     ]
    },
    {
     "name": "stderr",
     "output_type": "stream",
     "text": [
      "100%|██████████| 68/68 [00:00<00:00, 110.19it/s]\n",
      "100%|██████████| 136/136 [00:19<00:00,  7.01it/s]\n"
     ]
    },
    {
     "name": "stdout",
     "output_type": "stream",
     "text": [
      "Concatenating caches\n"
     ]
    },
    {
     "name": "stderr",
     "output_type": "stream",
     "text": [
      "100%|██████████| 68/68 [00:00<00:00, 109.70it/s]\n",
      "100%|██████████| 136/136 [00:19<00:00,  7.01it/s]\n"
     ]
    },
    {
     "name": "stdout",
     "output_type": "stream",
     "text": [
      "Concatenating caches\n"
     ]
    },
    {
     "name": "stderr",
     "output_type": "stream",
     "text": [
      "100%|██████████| 68/68 [00:00<00:00, 110.08it/s]\n",
      "100%|██████████| 136/136 [00:19<00:00,  7.01it/s]\n"
     ]
    },
    {
     "name": "stdout",
     "output_type": "stream",
     "text": [
      "Concatenating caches\n"
     ]
    },
    {
     "name": "stderr",
     "output_type": "stream",
     "text": [
      "100%|██████████| 68/68 [00:00<00:00, 108.72it/s]\n",
      "100%|██████████| 136/136 [00:19<00:00,  7.01it/s]\n"
     ]
    },
    {
     "name": "stdout",
     "output_type": "stream",
     "text": [
      "Concatenating caches\n"
     ]
    },
    {
     "name": "stderr",
     "output_type": "stream",
     "text": [
      " 79%|███████▊  | 22/28 [2:25:01<39:01, 390.31s/it]"
     ]
    },
    {
     "name": "stdout",
     "output_type": "stream",
     "text": [
      "Layer: \n"
     ]
    },
    {
     "name": "stderr",
     "output_type": "stream",
     "text": [
      "100%|██████████| 68/68 [00:00<00:00, 110.08it/s]\n",
      "100%|██████████| 136/136 [00:19<00:00,  7.01it/s]\n"
     ]
    },
    {
     "name": "stdout",
     "output_type": "stream",
     "text": [
      "Concatenating caches\n"
     ]
    },
    {
     "name": "stderr",
     "output_type": "stream",
     "text": [
      "100%|██████████| 68/68 [00:00<00:00, 109.25it/s]\n",
      "100%|██████████| 136/136 [00:19<00:00,  6.95it/s]\n"
     ]
    },
    {
     "name": "stdout",
     "output_type": "stream",
     "text": [
      "Concatenating caches\n"
     ]
    },
    {
     "name": "stderr",
     "output_type": "stream",
     "text": [
      "100%|██████████| 68/68 [00:00<00:00, 109.42it/s]\n",
      "100%|██████████| 136/136 [00:19<00:00,  7.01it/s]\n"
     ]
    },
    {
     "name": "stdout",
     "output_type": "stream",
     "text": [
      "Concatenating caches\n"
     ]
    },
    {
     "name": "stderr",
     "output_type": "stream",
     "text": [
      "100%|██████████| 68/68 [00:00<00:00, 109.29it/s]\n",
      "100%|██████████| 136/136 [00:19<00:00,  7.01it/s]\n"
     ]
    },
    {
     "name": "stdout",
     "output_type": "stream",
     "text": [
      "Concatenating caches\n"
     ]
    },
    {
     "name": "stderr",
     "output_type": "stream",
     "text": [
      "100%|██████████| 68/68 [00:00<00:00, 101.96it/s]\n",
      "100%|██████████| 136/136 [00:19<00:00,  7.01it/s]\n"
     ]
    },
    {
     "name": "stdout",
     "output_type": "stream",
     "text": [
      "Concatenating caches\n"
     ]
    },
    {
     "name": "stderr",
     "output_type": "stream",
     "text": [
      "100%|██████████| 68/68 [00:00<00:00, 109.29it/s]\n",
      "100%|██████████| 136/136 [00:19<00:00,  7.01it/s]\n"
     ]
    },
    {
     "name": "stdout",
     "output_type": "stream",
     "text": [
      "Concatenating caches\n"
     ]
    },
    {
     "name": "stderr",
     "output_type": "stream",
     "text": [
      "100%|██████████| 68/68 [00:00<00:00, 109.80it/s]\n",
      "100%|██████████| 136/136 [00:19<00:00,  7.01it/s]\n"
     ]
    },
    {
     "name": "stdout",
     "output_type": "stream",
     "text": [
      "Concatenating caches\n"
     ]
    },
    {
     "name": "stderr",
     "output_type": "stream",
     "text": [
      "100%|██████████| 68/68 [00:00<00:00, 112.37it/s]\n",
      "100%|██████████| 136/136 [00:19<00:00,  7.01it/s]\n"
     ]
    },
    {
     "name": "stdout",
     "output_type": "stream",
     "text": [
      "Concatenating caches\n"
     ]
    },
    {
     "name": "stderr",
     "output_type": "stream",
     "text": [
      "100%|██████████| 68/68 [00:00<00:00, 113.75it/s]\n",
      "100%|██████████| 136/136 [00:19<00:00,  7.02it/s]\n"
     ]
    },
    {
     "name": "stdout",
     "output_type": "stream",
     "text": [
      "Concatenating caches\n"
     ]
    },
    {
     "name": "stderr",
     "output_type": "stream",
     "text": [
      "100%|██████████| 68/68 [00:00<00:00, 114.55it/s]\n",
      "100%|██████████| 136/136 [00:19<00:00,  7.01it/s]\n"
     ]
    },
    {
     "name": "stdout",
     "output_type": "stream",
     "text": [
      "Concatenating caches\n"
     ]
    },
    {
     "name": "stderr",
     "output_type": "stream",
     "text": [
      "100%|██████████| 68/68 [00:00<00:00, 112.97it/s]\n",
      "100%|██████████| 136/136 [00:19<00:00,  7.01it/s]\n"
     ]
    },
    {
     "name": "stdout",
     "output_type": "stream",
     "text": [
      "Concatenating caches\n"
     ]
    },
    {
     "name": "stderr",
     "output_type": "stream",
     "text": [
      "100%|██████████| 68/68 [00:00<00:00, 111.64it/s]\n",
      "100%|██████████| 136/136 [00:19<00:00,  7.01it/s]\n"
     ]
    },
    {
     "name": "stdout",
     "output_type": "stream",
     "text": [
      "Concatenating caches\n"
     ]
    },
    {
     "name": "stderr",
     "output_type": "stream",
     "text": [
      "100%|██████████| 68/68 [00:00<00:00, 112.33it/s]\n",
      "100%|██████████| 136/136 [00:19<00:00,  7.01it/s]\n"
     ]
    },
    {
     "name": "stdout",
     "output_type": "stream",
     "text": [
      "Concatenating caches\n"
     ]
    },
    {
     "name": "stderr",
     "output_type": "stream",
     "text": [
      "100%|██████████| 68/68 [00:00<00:00, 109.01it/s]\n",
      "100%|██████████| 136/136 [00:19<00:00,  6.94it/s]\n"
     ]
    },
    {
     "name": "stdout",
     "output_type": "stream",
     "text": [
      "Concatenating caches\n"
     ]
    },
    {
     "name": "stderr",
     "output_type": "stream",
     "text": [
      "100%|██████████| 68/68 [00:00<00:00, 109.53it/s]\n",
      "100%|██████████| 136/136 [00:19<00:00,  7.01it/s]\n"
     ]
    },
    {
     "name": "stdout",
     "output_type": "stream",
     "text": [
      "Concatenating caches\n"
     ]
    },
    {
     "name": "stderr",
     "output_type": "stream",
     "text": [
      "100%|██████████| 68/68 [00:00<00:00, 109.33it/s]\n",
      "100%|██████████| 136/136 [00:19<00:00,  7.01it/s]\n"
     ]
    },
    {
     "name": "stdout",
     "output_type": "stream",
     "text": [
      "Concatenating caches\n"
     ]
    },
    {
     "name": "stderr",
     "output_type": "stream",
     "text": [
      "100%|██████████| 68/68 [00:00<00:00, 109.61it/s]\n",
      "100%|██████████| 136/136 [00:19<00:00,  7.01it/s]\n"
     ]
    },
    {
     "name": "stdout",
     "output_type": "stream",
     "text": [
      "Concatenating caches\n"
     ]
    },
    {
     "name": "stderr",
     "output_type": "stream",
     "text": [
      " 82%|████████▏ | 23/28 [2:31:31<32:31, 390.24s/it]"
     ]
    },
    {
     "name": "stdout",
     "output_type": "stream",
     "text": [
      "Layer: \n"
     ]
    },
    {
     "name": "stderr",
     "output_type": "stream",
     "text": [
      "100%|██████████| 68/68 [00:00<00:00, 112.86it/s]\n",
      "100%|██████████| 136/136 [00:19<00:00,  7.01it/s]\n"
     ]
    },
    {
     "name": "stdout",
     "output_type": "stream",
     "text": [
      "Concatenating caches\n"
     ]
    },
    {
     "name": "stderr",
     "output_type": "stream",
     "text": [
      "100%|██████████| 68/68 [00:00<00:00, 112.00it/s]\n",
      "100%|██████████| 136/136 [00:19<00:00,  7.01it/s]\n"
     ]
    },
    {
     "name": "stdout",
     "output_type": "stream",
     "text": [
      "Concatenating caches\n"
     ]
    },
    {
     "name": "stderr",
     "output_type": "stream",
     "text": [
      "100%|██████████| 68/68 [00:00<00:00, 109.32it/s]\n",
      "100%|██████████| 136/136 [00:19<00:00,  7.01it/s]\n"
     ]
    },
    {
     "name": "stdout",
     "output_type": "stream",
     "text": [
      "Concatenating caches\n"
     ]
    },
    {
     "name": "stderr",
     "output_type": "stream",
     "text": [
      "100%|██████████| 68/68 [00:00<00:00, 109.35it/s]\n",
      "100%|██████████| 136/136 [00:19<00:00,  7.01it/s]\n"
     ]
    },
    {
     "name": "stdout",
     "output_type": "stream",
     "text": [
      "Concatenating caches\n"
     ]
    },
    {
     "name": "stderr",
     "output_type": "stream",
     "text": [
      "100%|██████████| 68/68 [00:00<00:00, 109.28it/s]\n",
      "100%|██████████| 136/136 [00:19<00:00,  7.02it/s]\n"
     ]
    },
    {
     "name": "stdout",
     "output_type": "stream",
     "text": [
      "Concatenating caches\n"
     ]
    },
    {
     "name": "stderr",
     "output_type": "stream",
     "text": [
      "100%|██████████| 68/68 [00:00<00:00, 112.84it/s]\n",
      "100%|██████████| 136/136 [00:19<00:00,  7.01it/s]\n"
     ]
    },
    {
     "name": "stdout",
     "output_type": "stream",
     "text": [
      "Concatenating caches\n"
     ]
    },
    {
     "name": "stderr",
     "output_type": "stream",
     "text": [
      "100%|██████████| 68/68 [00:00<00:00, 112.79it/s]\n",
      "100%|██████████| 136/136 [00:19<00:00,  7.01it/s]\n"
     ]
    },
    {
     "name": "stdout",
     "output_type": "stream",
     "text": [
      "Concatenating caches\n"
     ]
    },
    {
     "name": "stderr",
     "output_type": "stream",
     "text": [
      "100%|██████████| 68/68 [00:00<00:00, 109.18it/s]\n",
      "100%|██████████| 136/136 [00:19<00:00,  7.01it/s]\n"
     ]
    },
    {
     "name": "stdout",
     "output_type": "stream",
     "text": [
      "Concatenating caches\n"
     ]
    },
    {
     "name": "stderr",
     "output_type": "stream",
     "text": [
      "100%|██████████| 68/68 [00:00<00:00, 112.91it/s]\n",
      "100%|██████████| 136/136 [00:19<00:00,  7.01it/s]\n"
     ]
    },
    {
     "name": "stdout",
     "output_type": "stream",
     "text": [
      "Concatenating caches\n"
     ]
    },
    {
     "name": "stderr",
     "output_type": "stream",
     "text": [
      "100%|██████████| 68/68 [00:00<00:00, 112.67it/s]\n",
      "100%|██████████| 136/136 [00:19<00:00,  6.95it/s]\n"
     ]
    },
    {
     "name": "stdout",
     "output_type": "stream",
     "text": [
      "Concatenating caches\n"
     ]
    },
    {
     "name": "stderr",
     "output_type": "stream",
     "text": [
      "100%|██████████| 68/68 [00:00<00:00, 113.10it/s]\n",
      "100%|██████████| 136/136 [00:19<00:00,  7.00it/s]\n"
     ]
    },
    {
     "name": "stdout",
     "output_type": "stream",
     "text": [
      "Concatenating caches\n"
     ]
    },
    {
     "name": "stderr",
     "output_type": "stream",
     "text": [
      "100%|██████████| 68/68 [00:00<00:00, 113.00it/s]\n",
      "100%|██████████| 136/136 [00:19<00:00,  7.01it/s]\n"
     ]
    },
    {
     "name": "stdout",
     "output_type": "stream",
     "text": [
      "Concatenating caches\n"
     ]
    },
    {
     "name": "stderr",
     "output_type": "stream",
     "text": [
      "100%|██████████| 68/68 [00:00<00:00, 109.37it/s]\n",
      "100%|██████████| 136/136 [00:19<00:00,  7.01it/s]\n"
     ]
    },
    {
     "name": "stdout",
     "output_type": "stream",
     "text": [
      "Concatenating caches\n"
     ]
    },
    {
     "name": "stderr",
     "output_type": "stream",
     "text": [
      "100%|██████████| 68/68 [00:00<00:00, 112.61it/s]\n",
      "100%|██████████| 136/136 [00:19<00:00,  7.01it/s]\n"
     ]
    },
    {
     "name": "stdout",
     "output_type": "stream",
     "text": [
      "Concatenating caches\n"
     ]
    },
    {
     "name": "stderr",
     "output_type": "stream",
     "text": [
      "100%|██████████| 68/68 [00:00<00:00, 113.87it/s]\n",
      "100%|██████████| 136/136 [00:19<00:00,  7.02it/s]\n"
     ]
    },
    {
     "name": "stdout",
     "output_type": "stream",
     "text": [
      "Concatenating caches\n"
     ]
    },
    {
     "name": "stderr",
     "output_type": "stream",
     "text": [
      "100%|██████████| 68/68 [00:00<00:00, 110.33it/s]\n",
      "100%|██████████| 136/136 [00:19<00:00,  7.02it/s]\n"
     ]
    },
    {
     "name": "stdout",
     "output_type": "stream",
     "text": [
      "Concatenating caches\n"
     ]
    },
    {
     "name": "stderr",
     "output_type": "stream",
     "text": [
      "100%|██████████| 68/68 [00:00<00:00, 115.27it/s]\n",
      "100%|██████████| 136/136 [00:19<00:00,  7.01it/s]\n"
     ]
    },
    {
     "name": "stdout",
     "output_type": "stream",
     "text": [
      "Concatenating caches\n"
     ]
    },
    {
     "name": "stderr",
     "output_type": "stream",
     "text": [
      " 86%|████████▌ | 24/28 [2:38:04<26:04, 391.05s/it]"
     ]
    },
    {
     "name": "stdout",
     "output_type": "stream",
     "text": [
      "Layer: \n"
     ]
    },
    {
     "name": "stderr",
     "output_type": "stream",
     "text": [
      "100%|██████████| 68/68 [00:00<00:00, 115.04it/s]\n",
      "100%|██████████| 136/136 [00:19<00:00,  7.01it/s]\n"
     ]
    },
    {
     "name": "stdout",
     "output_type": "stream",
     "text": [
      "Concatenating caches\n"
     ]
    },
    {
     "name": "stderr",
     "output_type": "stream",
     "text": [
      "100%|██████████| 68/68 [00:00<00:00, 110.11it/s]\n",
      "100%|██████████| 136/136 [00:19<00:00,  7.01it/s]\n"
     ]
    },
    {
     "name": "stdout",
     "output_type": "stream",
     "text": [
      "Concatenating caches\n"
     ]
    },
    {
     "name": "stderr",
     "output_type": "stream",
     "text": [
      "100%|██████████| 68/68 [00:00<00:00, 102.78it/s]\n",
      "100%|██████████| 136/136 [00:19<00:00,  7.02it/s]\n"
     ]
    },
    {
     "name": "stdout",
     "output_type": "stream",
     "text": [
      "Concatenating caches\n"
     ]
    },
    {
     "name": "stderr",
     "output_type": "stream",
     "text": [
      "100%|██████████| 68/68 [00:00<00:00, 108.34it/s]\n",
      "100%|██████████| 136/136 [00:19<00:00,  7.01it/s]\n"
     ]
    },
    {
     "name": "stdout",
     "output_type": "stream",
     "text": [
      "Concatenating caches\n"
     ]
    },
    {
     "name": "stderr",
     "output_type": "stream",
     "text": [
      "100%|██████████| 68/68 [00:00<00:00, 113.21it/s]\n",
      "100%|██████████| 136/136 [00:19<00:00,  7.01it/s]\n"
     ]
    },
    {
     "name": "stdout",
     "output_type": "stream",
     "text": [
      "Concatenating caches\n"
     ]
    },
    {
     "name": "stderr",
     "output_type": "stream",
     "text": [
      "100%|██████████| 68/68 [00:00<00:00, 114.09it/s]\n",
      "100%|██████████| 136/136 [00:19<00:00,  7.02it/s]\n"
     ]
    },
    {
     "name": "stdout",
     "output_type": "stream",
     "text": [
      "Concatenating caches\n"
     ]
    },
    {
     "name": "stderr",
     "output_type": "stream",
     "text": [
      "100%|██████████| 68/68 [00:00<00:00, 109.83it/s]\n",
      "100%|██████████| 136/136 [00:19<00:00,  7.02it/s]\n"
     ]
    },
    {
     "name": "stdout",
     "output_type": "stream",
     "text": [
      "Concatenating caches\n"
     ]
    },
    {
     "name": "stderr",
     "output_type": "stream",
     "text": [
      "100%|██████████| 68/68 [00:00<00:00, 108.41it/s]\n",
      "100%|██████████| 136/136 [00:19<00:00,  7.02it/s]\n"
     ]
    },
    {
     "name": "stdout",
     "output_type": "stream",
     "text": [
      "Concatenating caches\n"
     ]
    },
    {
     "name": "stderr",
     "output_type": "stream",
     "text": [
      "100%|██████████| 68/68 [00:00<00:00, 109.24it/s]\n",
      "100%|██████████| 136/136 [00:19<00:00,  7.01it/s]\n"
     ]
    },
    {
     "name": "stdout",
     "output_type": "stream",
     "text": [
      "Concatenating caches\n"
     ]
    },
    {
     "name": "stderr",
     "output_type": "stream",
     "text": [
      "100%|██████████| 68/68 [00:00<00:00, 109.12it/s]\n",
      "100%|██████████| 136/136 [00:19<00:00,  7.01it/s]\n"
     ]
    },
    {
     "name": "stdout",
     "output_type": "stream",
     "text": [
      "Concatenating caches\n"
     ]
    },
    {
     "name": "stderr",
     "output_type": "stream",
     "text": [
      "100%|██████████| 68/68 [00:00<00:00, 101.29it/s]\n",
      "100%|██████████| 136/136 [00:19<00:00,  7.01it/s]\n"
     ]
    },
    {
     "name": "stdout",
     "output_type": "stream",
     "text": [
      "Concatenating caches\n"
     ]
    },
    {
     "name": "stderr",
     "output_type": "stream",
     "text": [
      "100%|██████████| 68/68 [00:00<00:00, 109.50it/s]\n",
      "100%|██████████| 136/136 [00:19<00:00,  7.01it/s]\n"
     ]
    },
    {
     "name": "stdout",
     "output_type": "stream",
     "text": [
      "Concatenating caches\n"
     ]
    },
    {
     "name": "stderr",
     "output_type": "stream",
     "text": [
      "100%|██████████| 68/68 [00:00<00:00, 109.74it/s]\n",
      "100%|██████████| 136/136 [00:19<00:00,  7.01it/s]\n"
     ]
    },
    {
     "name": "stdout",
     "output_type": "stream",
     "text": [
      "Concatenating caches\n"
     ]
    },
    {
     "name": "stderr",
     "output_type": "stream",
     "text": [
      "100%|██████████| 68/68 [00:00<00:00, 108.23it/s]\n",
      "100%|██████████| 136/136 [00:19<00:00,  7.01it/s]\n"
     ]
    },
    {
     "name": "stdout",
     "output_type": "stream",
     "text": [
      "Concatenating caches\n"
     ]
    },
    {
     "name": "stderr",
     "output_type": "stream",
     "text": [
      "100%|██████████| 68/68 [00:00<00:00, 109.16it/s]\n",
      "100%|██████████| 136/136 [00:19<00:00,  7.01it/s]\n"
     ]
    },
    {
     "name": "stdout",
     "output_type": "stream",
     "text": [
      "Concatenating caches\n"
     ]
    },
    {
     "name": "stderr",
     "output_type": "stream",
     "text": [
      "100%|██████████| 68/68 [00:00<00:00, 109.57it/s]\n",
      "100%|██████████| 136/136 [00:19<00:00,  7.01it/s]\n"
     ]
    },
    {
     "name": "stdout",
     "output_type": "stream",
     "text": [
      "Concatenating caches\n"
     ]
    },
    {
     "name": "stderr",
     "output_type": "stream",
     "text": [
      "100%|██████████| 68/68 [00:00<00:00, 108.97it/s]\n",
      "100%|██████████| 136/136 [00:19<00:00,  7.00it/s]\n"
     ]
    },
    {
     "name": "stdout",
     "output_type": "stream",
     "text": [
      "Concatenating caches\n"
     ]
    },
    {
     "name": "stderr",
     "output_type": "stream",
     "text": [
      " 89%|████████▉ | 25/28 [2:44:34<19:32, 390.75s/it]"
     ]
    },
    {
     "name": "stdout",
     "output_type": "stream",
     "text": [
      "Layer: \n"
     ]
    },
    {
     "name": "stderr",
     "output_type": "stream",
     "text": [
      "100%|██████████| 68/68 [00:00<00:00, 99.26it/s]\n",
      "100%|██████████| 136/136 [00:19<00:00,  7.01it/s]\n"
     ]
    },
    {
     "name": "stdout",
     "output_type": "stream",
     "text": [
      "Concatenating caches\n"
     ]
    },
    {
     "name": "stderr",
     "output_type": "stream",
     "text": [
      "100%|██████████| 68/68 [00:00<00:00, 107.19it/s]\n",
      "100%|██████████| 136/136 [00:19<00:00,  7.01it/s]\n"
     ]
    },
    {
     "name": "stdout",
     "output_type": "stream",
     "text": [
      "Concatenating caches\n"
     ]
    },
    {
     "name": "stderr",
     "output_type": "stream",
     "text": [
      "100%|██████████| 68/68 [00:00<00:00, 106.21it/s]\n",
      "100%|██████████| 136/136 [00:19<00:00,  7.01it/s]\n"
     ]
    },
    {
     "name": "stdout",
     "output_type": "stream",
     "text": [
      "Concatenating caches\n"
     ]
    },
    {
     "name": "stderr",
     "output_type": "stream",
     "text": [
      "100%|██████████| 68/68 [00:00<00:00, 99.82it/s] \n",
      "100%|██████████| 136/136 [00:19<00:00,  7.02it/s]\n"
     ]
    },
    {
     "name": "stdout",
     "output_type": "stream",
     "text": [
      "Concatenating caches\n"
     ]
    },
    {
     "name": "stderr",
     "output_type": "stream",
     "text": [
      "100%|██████████| 68/68 [00:00<00:00, 110.04it/s]\n",
      "100%|██████████| 136/136 [00:19<00:00,  7.01it/s]\n"
     ]
    },
    {
     "name": "stdout",
     "output_type": "stream",
     "text": [
      "Concatenating caches\n"
     ]
    },
    {
     "name": "stderr",
     "output_type": "stream",
     "text": [
      "100%|██████████| 68/68 [00:00<00:00, 99.48it/s] \n",
      "100%|██████████| 136/136 [00:19<00:00,  7.01it/s]\n"
     ]
    },
    {
     "name": "stdout",
     "output_type": "stream",
     "text": [
      "Concatenating caches\n"
     ]
    },
    {
     "name": "stderr",
     "output_type": "stream",
     "text": [
      "100%|██████████| 68/68 [00:00<00:00, 109.15it/s]\n",
      "100%|██████████| 136/136 [00:19<00:00,  7.01it/s]\n"
     ]
    },
    {
     "name": "stdout",
     "output_type": "stream",
     "text": [
      "Concatenating caches\n"
     ]
    },
    {
     "name": "stderr",
     "output_type": "stream",
     "text": [
      "100%|██████████| 68/68 [00:00<00:00, 108.98it/s]\n",
      "100%|██████████| 136/136 [00:19<00:00,  7.01it/s]\n"
     ]
    },
    {
     "name": "stdout",
     "output_type": "stream",
     "text": [
      "Concatenating caches\n"
     ]
    },
    {
     "name": "stderr",
     "output_type": "stream",
     "text": [
      "100%|██████████| 68/68 [00:00<00:00, 107.44it/s]\n",
      "100%|██████████| 136/136 [00:19<00:00,  7.01it/s]\n"
     ]
    },
    {
     "name": "stdout",
     "output_type": "stream",
     "text": [
      "Concatenating caches\n"
     ]
    },
    {
     "name": "stderr",
     "output_type": "stream",
     "text": [
      "100%|██████████| 68/68 [00:00<00:00, 108.90it/s]\n",
      "100%|██████████| 136/136 [00:19<00:00,  7.01it/s]\n"
     ]
    },
    {
     "name": "stdout",
     "output_type": "stream",
     "text": [
      "Concatenating caches\n"
     ]
    },
    {
     "name": "stderr",
     "output_type": "stream",
     "text": [
      "100%|██████████| 68/68 [00:00<00:00, 107.69it/s]\n",
      "100%|██████████| 136/136 [00:19<00:00,  7.01it/s]\n"
     ]
    },
    {
     "name": "stdout",
     "output_type": "stream",
     "text": [
      "Concatenating caches\n"
     ]
    },
    {
     "name": "stderr",
     "output_type": "stream",
     "text": [
      "100%|██████████| 68/68 [00:00<00:00, 108.81it/s]\n",
      "100%|██████████| 136/136 [00:19<00:00,  6.94it/s]\n"
     ]
    },
    {
     "name": "stdout",
     "output_type": "stream",
     "text": [
      "Concatenating caches\n"
     ]
    },
    {
     "name": "stderr",
     "output_type": "stream",
     "text": [
      "100%|██████████| 68/68 [00:00<00:00, 109.47it/s]\n",
      "100%|██████████| 136/136 [00:19<00:00,  7.01it/s]\n"
     ]
    },
    {
     "name": "stdout",
     "output_type": "stream",
     "text": [
      "Concatenating caches\n"
     ]
    },
    {
     "name": "stderr",
     "output_type": "stream",
     "text": [
      "100%|██████████| 68/68 [00:00<00:00, 111.37it/s]\n",
      "100%|██████████| 136/136 [00:19<00:00,  7.01it/s]\n"
     ]
    },
    {
     "name": "stdout",
     "output_type": "stream",
     "text": [
      "Concatenating caches\n"
     ]
    },
    {
     "name": "stderr",
     "output_type": "stream",
     "text": [
      "100%|██████████| 68/68 [00:00<00:00, 107.64it/s]\n",
      "100%|██████████| 136/136 [00:19<00:00,  7.01it/s]\n"
     ]
    },
    {
     "name": "stdout",
     "output_type": "stream",
     "text": [
      "Concatenating caches\n"
     ]
    },
    {
     "name": "stderr",
     "output_type": "stream",
     "text": [
      "100%|██████████| 68/68 [00:00<00:00, 107.93it/s]\n",
      "100%|██████████| 136/136 [00:19<00:00,  7.01it/s]\n"
     ]
    },
    {
     "name": "stdout",
     "output_type": "stream",
     "text": [
      "Concatenating caches\n"
     ]
    },
    {
     "name": "stderr",
     "output_type": "stream",
     "text": [
      "100%|██████████| 68/68 [00:00<00:00, 107.85it/s]\n",
      "100%|██████████| 136/136 [00:19<00:00,  7.01it/s]\n"
     ]
    },
    {
     "name": "stdout",
     "output_type": "stream",
     "text": [
      "Concatenating caches\n"
     ]
    },
    {
     "name": "stderr",
     "output_type": "stream",
     "text": [
      " 93%|█████████▎| 26/28 [2:51:10<13:04, 392.29s/it]"
     ]
    },
    {
     "name": "stdout",
     "output_type": "stream",
     "text": [
      "Layer: \n"
     ]
    },
    {
     "name": "stderr",
     "output_type": "stream",
     "text": [
      "100%|██████████| 68/68 [00:00<00:00, 108.04it/s]\n",
      "100%|██████████| 136/136 [00:19<00:00,  7.02it/s]\n"
     ]
    },
    {
     "name": "stdout",
     "output_type": "stream",
     "text": [
      "Concatenating caches\n"
     ]
    },
    {
     "name": "stderr",
     "output_type": "stream",
     "text": [
      "100%|██████████| 68/68 [00:00<00:00, 107.35it/s]\n",
      "100%|██████████| 136/136 [00:19<00:00,  7.01it/s]\n"
     ]
    },
    {
     "name": "stdout",
     "output_type": "stream",
     "text": [
      "Concatenating caches\n"
     ]
    },
    {
     "name": "stderr",
     "output_type": "stream",
     "text": [
      "100%|██████████| 68/68 [00:00<00:00, 99.97it/s] \n",
      "100%|██████████| 136/136 [00:19<00:00,  7.01it/s]\n"
     ]
    },
    {
     "name": "stdout",
     "output_type": "stream",
     "text": [
      "Concatenating caches\n"
     ]
    },
    {
     "name": "stderr",
     "output_type": "stream",
     "text": [
      "100%|██████████| 68/68 [00:00<00:00, 108.28it/s]\n",
      "100%|██████████| 136/136 [00:19<00:00,  7.01it/s]\n"
     ]
    },
    {
     "name": "stdout",
     "output_type": "stream",
     "text": [
      "Concatenating caches\n"
     ]
    },
    {
     "name": "stderr",
     "output_type": "stream",
     "text": [
      "100%|██████████| 68/68 [00:00<00:00, 109.62it/s]\n",
      "100%|██████████| 136/136 [00:19<00:00,  7.01it/s]\n"
     ]
    },
    {
     "name": "stdout",
     "output_type": "stream",
     "text": [
      "Concatenating caches\n"
     ]
    },
    {
     "name": "stderr",
     "output_type": "stream",
     "text": [
      "100%|██████████| 68/68 [00:00<00:00, 112.21it/s]\n",
      "100%|██████████| 136/136 [00:19<00:00,  7.01it/s]\n"
     ]
    },
    {
     "name": "stdout",
     "output_type": "stream",
     "text": [
      "Concatenating caches\n"
     ]
    },
    {
     "name": "stderr",
     "output_type": "stream",
     "text": [
      "100%|██████████| 68/68 [00:00<00:00, 111.68it/s]\n",
      "100%|██████████| 136/136 [00:19<00:00,  6.95it/s]\n"
     ]
    },
    {
     "name": "stdout",
     "output_type": "stream",
     "text": [
      "Concatenating caches\n"
     ]
    },
    {
     "name": "stderr",
     "output_type": "stream",
     "text": [
      "100%|██████████| 68/68 [00:00<00:00, 110.09it/s]\n",
      "100%|██████████| 136/136 [00:19<00:00,  7.01it/s]\n"
     ]
    },
    {
     "name": "stdout",
     "output_type": "stream",
     "text": [
      "Concatenating caches\n"
     ]
    },
    {
     "name": "stderr",
     "output_type": "stream",
     "text": [
      "100%|██████████| 68/68 [00:00<00:00, 110.44it/s]\n",
      "100%|██████████| 136/136 [00:19<00:00,  7.01it/s]\n"
     ]
    },
    {
     "name": "stdout",
     "output_type": "stream",
     "text": [
      "Concatenating caches\n"
     ]
    },
    {
     "name": "stderr",
     "output_type": "stream",
     "text": [
      "100%|██████████| 68/68 [00:00<00:00, 110.50it/s]\n",
      "100%|██████████| 136/136 [00:19<00:00,  7.01it/s]\n"
     ]
    },
    {
     "name": "stdout",
     "output_type": "stream",
     "text": [
      "Concatenating caches\n"
     ]
    },
    {
     "name": "stderr",
     "output_type": "stream",
     "text": [
      "100%|██████████| 68/68 [00:00<00:00, 110.09it/s]\n",
      "100%|██████████| 136/136 [00:19<00:00,  7.01it/s]\n"
     ]
    },
    {
     "name": "stdout",
     "output_type": "stream",
     "text": [
      "Concatenating caches\n"
     ]
    },
    {
     "name": "stderr",
     "output_type": "stream",
     "text": [
      "100%|██████████| 68/68 [00:00<00:00, 111.38it/s]\n",
      "100%|██████████| 136/136 [00:19<00:00,  7.01it/s]\n"
     ]
    },
    {
     "name": "stdout",
     "output_type": "stream",
     "text": [
      "Concatenating caches\n"
     ]
    },
    {
     "name": "stderr",
     "output_type": "stream",
     "text": [
      "100%|██████████| 68/68 [00:00<00:00, 110.62it/s]\n",
      "100%|██████████| 136/136 [00:19<00:00,  7.01it/s]\n"
     ]
    },
    {
     "name": "stdout",
     "output_type": "stream",
     "text": [
      "Concatenating caches\n"
     ]
    },
    {
     "name": "stderr",
     "output_type": "stream",
     "text": [
      "100%|██████████| 68/68 [00:00<00:00, 110.66it/s]\n",
      "100%|██████████| 136/136 [00:19<00:00,  7.01it/s]\n"
     ]
    },
    {
     "name": "stdout",
     "output_type": "stream",
     "text": [
      "Concatenating caches\n"
     ]
    },
    {
     "name": "stderr",
     "output_type": "stream",
     "text": [
      "100%|██████████| 68/68 [00:00<00:00, 110.07it/s]\n",
      "100%|██████████| 136/136 [00:19<00:00,  7.01it/s]\n"
     ]
    },
    {
     "name": "stdout",
     "output_type": "stream",
     "text": [
      "Concatenating caches\n"
     ]
    },
    {
     "name": "stderr",
     "output_type": "stream",
     "text": [
      "100%|██████████| 68/68 [00:00<00:00, 109.11it/s]\n",
      "100%|██████████| 136/136 [00:19<00:00,  7.00it/s]\n"
     ]
    },
    {
     "name": "stdout",
     "output_type": "stream",
     "text": [
      "Concatenating caches\n"
     ]
    },
    {
     "name": "stderr",
     "output_type": "stream",
     "text": [
      "100%|██████████| 68/68 [00:00<00:00, 110.25it/s]\n",
      "100%|██████████| 136/136 [00:19<00:00,  7.01it/s]\n"
     ]
    },
    {
     "name": "stdout",
     "output_type": "stream",
     "text": [
      "Concatenating caches\n"
     ]
    },
    {
     "name": "stderr",
     "output_type": "stream",
     "text": [
      " 96%|█████████▋| 27/28 [2:57:38<06:31, 391.16s/it]"
     ]
    },
    {
     "name": "stdout",
     "output_type": "stream",
     "text": [
      "Layer: \n"
     ]
    },
    {
     "name": "stderr",
     "output_type": "stream",
     "text": [
      "100%|██████████| 68/68 [00:00<00:00, 111.52it/s]\n",
      "100%|██████████| 136/136 [00:19<00:00,  7.01it/s]\n"
     ]
    },
    {
     "name": "stdout",
     "output_type": "stream",
     "text": [
      "Concatenating caches\n"
     ]
    },
    {
     "name": "stderr",
     "output_type": "stream",
     "text": [
      "100%|██████████| 68/68 [00:00<00:00, 107.48it/s]\n",
      "100%|██████████| 136/136 [00:19<00:00,  6.92it/s]\n"
     ]
    },
    {
     "name": "stdout",
     "output_type": "stream",
     "text": [
      "Concatenating caches\n"
     ]
    },
    {
     "name": "stderr",
     "output_type": "stream",
     "text": [
      "100%|██████████| 68/68 [00:00<00:00, 108.11it/s]\n",
      "100%|██████████| 136/136 [00:19<00:00,  7.01it/s]\n"
     ]
    },
    {
     "name": "stdout",
     "output_type": "stream",
     "text": [
      "Concatenating caches\n"
     ]
    },
    {
     "name": "stderr",
     "output_type": "stream",
     "text": [
      "100%|██████████| 68/68 [00:00<00:00, 101.34it/s]\n",
      "100%|██████████| 136/136 [00:19<00:00,  7.01it/s]\n"
     ]
    },
    {
     "name": "stdout",
     "output_type": "stream",
     "text": [
      "Concatenating caches\n"
     ]
    },
    {
     "name": "stderr",
     "output_type": "stream",
     "text": [
      "100%|██████████| 68/68 [00:00<00:00, 109.60it/s]\n",
      "100%|██████████| 136/136 [00:19<00:00,  7.01it/s]\n"
     ]
    },
    {
     "name": "stdout",
     "output_type": "stream",
     "text": [
      "Concatenating caches\n"
     ]
    },
    {
     "name": "stderr",
     "output_type": "stream",
     "text": [
      "100%|██████████| 68/68 [00:00<00:00, 110.26it/s]\n",
      "100%|██████████| 136/136 [00:19<00:00,  7.01it/s]\n"
     ]
    },
    {
     "name": "stdout",
     "output_type": "stream",
     "text": [
      "Concatenating caches\n"
     ]
    },
    {
     "name": "stderr",
     "output_type": "stream",
     "text": [
      "100%|██████████| 68/68 [00:00<00:00, 109.61it/s]\n",
      "100%|██████████| 136/136 [00:19<00:00,  7.01it/s]\n"
     ]
    },
    {
     "name": "stdout",
     "output_type": "stream",
     "text": [
      "Concatenating caches\n"
     ]
    },
    {
     "name": "stderr",
     "output_type": "stream",
     "text": [
      "100%|██████████| 68/68 [00:00<00:00, 100.19it/s]\n",
      "100%|██████████| 136/136 [00:19<00:00,  7.01it/s]\n"
     ]
    },
    {
     "name": "stdout",
     "output_type": "stream",
     "text": [
      "Concatenating caches\n"
     ]
    },
    {
     "name": "stderr",
     "output_type": "stream",
     "text": [
      "100%|██████████| 68/68 [00:00<00:00, 106.69it/s]\n",
      "100%|██████████| 136/136 [00:19<00:00,  7.01it/s]\n"
     ]
    },
    {
     "name": "stdout",
     "output_type": "stream",
     "text": [
      "Concatenating caches\n"
     ]
    },
    {
     "name": "stderr",
     "output_type": "stream",
     "text": [
      "100%|██████████| 68/68 [00:00<00:00, 107.38it/s]\n",
      "100%|██████████| 136/136 [00:19<00:00,  7.01it/s]\n"
     ]
    },
    {
     "name": "stdout",
     "output_type": "stream",
     "text": [
      "Concatenating caches\n"
     ]
    },
    {
     "name": "stderr",
     "output_type": "stream",
     "text": [
      "100%|██████████| 68/68 [00:00<00:00, 110.43it/s]\n",
      "100%|██████████| 136/136 [00:19<00:00,  7.02it/s]\n"
     ]
    },
    {
     "name": "stdout",
     "output_type": "stream",
     "text": [
      "Concatenating caches\n"
     ]
    },
    {
     "name": "stderr",
     "output_type": "stream",
     "text": [
      "100%|██████████| 68/68 [00:00<00:00, 108.40it/s]\n",
      "100%|██████████| 136/136 [00:19<00:00,  7.01it/s]\n"
     ]
    },
    {
     "name": "stdout",
     "output_type": "stream",
     "text": [
      "Concatenating caches\n"
     ]
    },
    {
     "name": "stderr",
     "output_type": "stream",
     "text": [
      "100%|██████████| 68/68 [00:00<00:00, 108.45it/s]\n",
      "100%|██████████| 136/136 [00:19<00:00,  6.95it/s]\n"
     ]
    },
    {
     "name": "stdout",
     "output_type": "stream",
     "text": [
      "Concatenating caches\n"
     ]
    },
    {
     "name": "stderr",
     "output_type": "stream",
     "text": [
      "100%|██████████| 68/68 [00:00<00:00, 109.06it/s]\n",
      "100%|██████████| 136/136 [00:19<00:00,  7.02it/s]\n"
     ]
    },
    {
     "name": "stdout",
     "output_type": "stream",
     "text": [
      "Concatenating caches\n"
     ]
    },
    {
     "name": "stderr",
     "output_type": "stream",
     "text": [
      "100%|██████████| 68/68 [00:00<00:00, 110.38it/s]\n",
      "100%|██████████| 136/136 [00:19<00:00,  7.00it/s]\n"
     ]
    },
    {
     "name": "stdout",
     "output_type": "stream",
     "text": [
      "Concatenating caches\n"
     ]
    },
    {
     "name": "stderr",
     "output_type": "stream",
     "text": [
      "100%|██████████| 68/68 [00:00<00:00, 108.63it/s]\n",
      "100%|██████████| 136/136 [00:19<00:00,  7.01it/s]\n"
     ]
    },
    {
     "name": "stdout",
     "output_type": "stream",
     "text": [
      "Concatenating caches\n"
     ]
    },
    {
     "name": "stderr",
     "output_type": "stream",
     "text": [
      "100%|██████████| 68/68 [00:00<00:00, 111.68it/s]\n",
      "100%|██████████| 136/136 [00:19<00:00,  7.02it/s]\n"
     ]
    },
    {
     "name": "stdout",
     "output_type": "stream",
     "text": [
      "Concatenating caches\n"
     ]
    },
    {
     "name": "stderr",
     "output_type": "stream",
     "text": [
      "100%|██████████| 28/28 [3:04:17<00:00, 394.89s/it]\n"
     ]
    }
   ],
   "source": [
    "attn_correct_responses = defaultdict(dict)\n",
    "attn_accuracies = defaultdict(dict)\n",
    "mlp_correct_responses = {}\n",
    "mlp_accuracies = {}\n",
    "for layer in tqdm(range(model.cfg.n_layers)):\n",
    "    print(\"Layer: \")\n",
    "    for head in range(model.cfg.n_heads):\n",
    "        correct_responses, accuracies, _ = mean_ablate_subject(all_prompts, subject_list, attn=True, layers=layer, head=head)\n",
    "        attn_correct_responses[layer][head] = correct_responses\n",
    "        attn_accuracies[layer][head] = accuracies\n",
    "    correct_responses, accuracies, _ = mean_ablate_subject(all_prompts, subject_list, mlp=True, layers=layer)\n",
    "    mlp_correct_responses[layer] = correct_responses\n",
    "    mlp_accuracies[layer] = accuracies\n",
    "\n",
    "    with open(f\"experiments/gemma_7b_manual/counterfact_ablation_results_{correct_prob_threshold=}.pkl\", \"wb\") as f:\n",
    "        pickle.dump({\"attn_correct_responses\": attn_correct_responses, \"attn_accuracies\": attn_accuracies, \"mlp_correct_responses\": mlp_correct_responses, \"mlp_accuracies\": mlp_accuracies}, f)"
   ]
  },
  {
   "cell_type": "code",
   "execution_count": 97,
   "metadata": {},
   "outputs": [
    {
     "data": {
      "image/png": "[encoded data removed]",
      "text/plain": [
       "<Figure size 2000x800 with 3 Axes>"
      ]
     },
     "metadata": {},
     "output_type": "display_data"
    }
   ],
   "source": [
    "import matplotlib.pyplot as plt\n",
    "import seaborn as sns\n",
    "import numpy as np\n",
    "\n",
    "# Assuming you've already loaded the data from the pickle file\n",
    "# If not, uncomment and run these lines:\n",
    "# with open(f\"experiments/gemma_7b_manual/counterfact_ablation_results_{correct_prob_threshold=}.pkl\", \"rb\") as f:\n",
    "#     data = pickle.load(f)\n",
    "#     attn_accuracies = data[\"attn_accuracies\"]\n",
    "#     mlp_accuracies = data[\"mlp_accuracies\"]\n",
    "\n",
    "# Plot Attention accuracies for layer 27\n",
    "fig, (ax1, ax2) = plt.subplots(1, 2, figsize=(20, 8))\n",
    "\n",
    "# Attention heatmap\n",
    "attn_layer_27 = np.array([[attn_accuracies[layer][head][27] for head in range(16)] for layer in range(model.cfg.n_layers)])\n",
    "sns.heatmap(attn_layer_27, ax=ax1, cmap=\"YlOrRd\", annot=True, fmt=\".3f\", cbar=True)\n",
    "ax1.set_title(\"Attention Accuracies for Layer 27\")\n",
    "ax1.set_xlabel(\"Head\")\n",
    "ax1.set_ylabel(\"Head\")\n",
    "\n",
    "# MLP line graph\n",
    "mlp_accuracies_layer_27 = [mlp_accuracies[27][layer] for layer in range(28)]\n",
    "ax2.plot(range(28), mlp_accuracies_layer_27, marker='o')\n",
    "ax2.set_title(\"MLP Accuracies for Layer 27\")\n",
    "ax2.set_xlabel(\"Layer\")\n",
    "ax2.set_ylabel(\"Accuracy\")\n",
    "ax2.set_xticks(range(0, 28, 2))\n",
    "ax2.grid(True)\n",
    "fig.suptitle(\"Counterfact Probe Accuracies after Ablating Heads and MLPs\")\n",
    "\n",
    "plt.tight_layout()\n",
    "plt.show()"
   ]
  },
  {
   "cell_type": "code",
   "execution_count": null,
   "metadata": {},
   "outputs": [],
   "source": [
    "# Need to \n",
    "# 1. Probe for correct sport with no changes\n",
    "# 2. Probe for correct sport with just <bos>name\n",
    "# 3. Probe after meal ablating attention heads after layer 2\n",
    "# 4. Probe after meal ablating attention heads after layer 2 and just <bos>name\n",
    "\n",
    "def train_test_probe(X, y):\n",
    "    X_train, X_test, y_train, y_test = train_test_split(X, y, test_size=0.2, random_state=42)  \n",
    "    clf = LogisticRegression(random_state=0, max_iter=500, solver='sag').fit(X_train, y_train)\n",
    "    # clf = LogisticRegression(random_state=0, max_iter=10000).fit(X_train, y_train)\n",
    "    # results[layer] = clf.score(X_test, y_test)\n",
    "    return clf.score(X_test, y_test)\n",
    "\n",
    "def probe_last_layer(model, prompt_toks, targets, batch_size=None, layer=None):\n",
    "    if batch_size is None:\n",
    "        with torch.set_grad_enabled(False):\n",
    "            _, cache = model.run_with_cache(\n",
    "            prompt_toks,\n",
    "            names_filter = lambda name: name == f\"blocks.{model.cfg.n_layers-1}.hook_resid_post\" if layer is None else f\"blocks.{layer}.hook_resid_post\"\n",
    "        )\n",
    "        if layer is not None:\n",
    "            cache = cache[f\"blocks.{layer}.hook_resid_post\"][:, -1, :]\n",
    "        else:\n",
    "            cache = cache[f\"blocks.{model.cfg.n_layers-1}.hook_resid_post\"][:, -1, :]\n",
    "    else:\n",
    "        caches = []\n",
    "        for i in range(0, prompt_toks.shape[0], batch_size):\n",
    "            prompt_toks_batch = prompt_toks[i:i+batch_size]\n",
    "            _, cache = model.run_with_cache(\n",
    "                prompt_toks_batch,\n",
    "                names_filter = lambda name: name == f\"blocks.{model.cfg.n_layers-1}.hook_resid_post\" if layer is None else f\"blocks.{layer}.hook_resid_post\"\n",
    "            )\n",
    "            if layer is not None:\n",
    "                cache = cache[f\"blocks.{layer}.hook_resid_post\"][:, -1, :]\n",
    "            else:\n",
    "                cache = cache[f\"blocks.{model.cfg.n_layers-1}.hook_resid_post\"][:, -1, :]\n",
    "            caches.append(cache)\n",
    "        cache = torch.cat(caches, dim=0)\n",
    "    print(\"last layer probe, cache shape: \", cache.shape)\n",
    "    X = cache.cpu().float().numpy()\n",
    "    print(X.shape, len(targets))\n",
    "    target_classes = []\n",
    "    for target in targets:\n",
    "        if target == \"basketball\":\n",
    "            target_classes.append(0)\n",
    "        elif target == \"baseball\":\n",
    "            target_classes.append(1) \n",
    "        elif target == \"football\":\n",
    "            target_classes.append(2)\n",
    "    y = np.array(target_classes)\n",
    "    # X_train, X_test, y_train, y_test = train_test_split(X, y, test_size=0.2, random_state=42)\n",
    "\n",
    "    # train logistic regression\n",
    "    # clf = LogisticRegression(random_state=0, max_iter=500, solver='sag').fit(X_train, y_train)\n",
    "\n",
    "    # test_acc = clf.score(X_test, y_test)\n",
    "    test_acc = train_test_probe(X, y)\n",
    "    print(f\"Accuracy: {test_acc}\")\n",
    "\n",
    "    return test_acc\n",
    "\n",
    "def probe_across_layers(model, prompt_toks, targets, batch_size=None, cpu_multiprocessing=True):\n",
    "    print(prompt_toks.shape)\n",
    "    if batch_size is None:\n",
    "        with torch.set_grad_enabled(False):\n",
    "            _, cache = model.run_with_cache(\n",
    "                prompt_toks,\n",
    "                names_filter = lambda name: 'resid_post' in name\n",
    "            )\n",
    "            cache = torch.stack([cache[key][:, -1, :] for key in cache.keys()], dim=0) # layer batch d_model\n",
    "    else:\n",
    "        caches = []\n",
    "        for i in range(0, prompt_toks.shape[0], batch_size):\n",
    "            prompt_toks_batch = prompt_toks[i:i+batch_size]\n",
    "            with torch.set_grad_enabled(False):\n",
    "                _, cache = model.run_with_cache(\n",
    "                    prompt_toks_batch,\n",
    "                    names_filter = lambda name: 'resid_post' in name\n",
    "                )\n",
    "                # print(cache)\n",
    "                # print(list(cache.values())[0].shape)\n",
    "                cache = torch.stack([cache[key][:, -1, :] for key in cache.keys()], dim=0)\n",
    "                # print(cache.shape)\n",
    "            caches.append(cache)\n",
    "        cache = torch.cat(caches, dim=1)\n",
    "        # print(\"Batched Cache: \", cache.shape)\n",
    "    print(f\"Cache completed, {cache.shape}\")\n",
    "    results = []\n",
    "    target_classes = []\n",
    "    for target in targets:\n",
    "        if target == \"basketball\":\n",
    "            target_classes.append(0)\n",
    "        elif target == \"baseball\":\n",
    "            target_classes.append(1) \n",
    "        elif target == \"football\":\n",
    "            target_classes.append(2)\n",
    "    y = np.array(target_classes)\n",
    "\n",
    "    X_data = {layer: cache[layer].cpu().float().numpy().reshape(-1, cache[layer].shape[-1]) for layer in range(model.cfg.n_layers)}\n",
    "\n",
    "    results = {}\n",
    "\n",
    "    if cpu_multiprocessing:\n",
    "        import multiprocess as mp\n",
    "        import os\n",
    "        from multiprocessing import Manager\n",
    "        from multiprocessing import Pool\n",
    "        os.environ[\"TOKENIZERS_PARALLELISM\"] = \"false\"\n",
    "        print(\"Trying cpu multiprocessing\")\n",
    "        from multiprocessing.dummy import Pool as ThreadPool\n",
    "\n",
    "        start_time = time.time()\n",
    "        with ThreadPool(processes=model.cfg.n_layers) as pool:  # Using ThreadPool\n",
    "            results = pool.starmap(train_test_probe, [(X_data[layer], y) for layer in range(model.cfg.n_layers)])\n",
    "        end_time = time.time()\n",
    "        print(f\"Time taken: {end_time - start_time} seconds\")\n",
    "        # with Pool(processes=2) as pool:\n",
    "        #     results = pool.starmap(train_test_probe, [(X_data[layer], y) for layer in range(2)])\n",
    "        print(\"finished multiprocessing\")\n",
    "        print(results)\n",
    "        # Convert list of tuples to dictionary\n",
    "        results_dict = {layer: results[i] for i, layer in enumerate(range(model.cfg.n_layers))}\n",
    "        print(results_dict)\n",
    "\n",
    "        # all_processes = {}\n",
    "        # for layer in range(1):\n",
    "        #     m = mp.Process(target=train_test_probe, args=(X_data[layer], y, results))\n",
    "        #     all_processes[layer] = m\n",
    "        #     m.start()\n",
    "        # print(all_processes)\n",
    "        # for layer in range(1):\n",
    "        #     all_processes[layer].join()\n",
    "\n",
    "    else:\n",
    "        results = []\n",
    "        start_time = time.time()\n",
    "        for layer in tqdm(range(model.cfg.n_layers)):\n",
    "            # print(\"converting cache\")\n",
    "            # X = cache[layer].cpu().float().numpy().reshape(-1, cache[layer].shape[-1])\n",
    "            X = X_data[layer]\n",
    "            # print(\"cache converted\")\n",
    "\n",
    "            # X_train, X_test, y_train, y_test = train_test_split(X, y, test_size=0.2, random_state=42)  \n",
    "            \n",
    "            # print(\"training probe\")\n",
    "            # # train logistic regression\n",
    "            # clf = LogisticRegression(random_state=0, max_iter=500, solver='sag').fit(X_train, y_train)\n",
    "            # print(\"testing probe\")\n",
    "\n",
    "            # test_acc = clf.score(X_test, y_test)\n",
    "            # print(f\"Layer {layer} Accuracy: {test_acc}\")\n",
    "            # results.append(test_acc)\n",
    "            test_acc = train_test_probe(X, y)\n",
    "            results.append(test_acc)\n",
    "        print(f\"Time taken: {time.time() - start_time} seconds\")\n",
    "    return results\n",
    "\n",
    "def get_mean_cache(model, hook_name=\"attn_out\"):\n",
    "    pile = iter(load_dataset('monology/pile-uncopyrighted', split='train', streaming=True))\n",
    "    text = [next(pile)['text'] for i in range(25)]\n",
    "    toks = torch.stack(\n",
    "        [\n",
    "            torch.tensor(tokenizer.encode(t)[:78])\n",
    "            for t in text\n",
    "        ],\n",
    "        dim=0\n",
    "    )\n",
    "    with torch.set_grad_enabled(False):\n",
    "        _, mean_cache = model.run_with_cache(\n",
    "            toks,\n",
    "            names_filter = lambda name: any([h_name in name for h_name in [hook_name]])\n",
    "        )\n",
    "    return mean_cache\n"
   ]
  },
  {
   "cell_type": "code",
   "execution_count": null,
   "metadata": {},
   "outputs": [
    {
     "data": {
      "application/vnd.jupyter.widget-view+json": {
       "model_id": "ec4a03e72c2a48e3b261fa2c2ee226ff",
       "version_major": 2,
       "version_minor": 0
      },
      "text/plain": [
       "Resolving data files:   0%|          | 0/30 [00:00<?, ?it/s]"
      ]
     },
     "metadata": {},
     "output_type": "display_data"
    }
   ],
   "source": [
    "m_cache = get_mean_cache(model)\n",
    "mean_cache = {}\n",
    "for k in m_cache.keys():\n",
    "    mean_cache[k] = einops.reduce(\n",
    "        m_cache[k],\n",
    "        'batch seq d_model -> 1 1 d_model',\n",
    "        'mean'\n",
    "    )"
   ]
  },
  {
   "cell_type": "code",
   "execution_count": null,
   "metadata": {},
   "outputs": [
    {
     "data": {
      "text/plain": [
       "dict_keys(['blocks.0.hook_attn_out', 'blocks.1.hook_attn_out', 'blocks.2.hook_attn_out', 'blocks.3.hook_attn_out', 'blocks.4.hook_attn_out', 'blocks.5.hook_attn_out', 'blocks.6.hook_attn_out', 'blocks.7.hook_attn_out', 'blocks.8.hook_attn_out', 'blocks.9.hook_attn_out', 'blocks.10.hook_attn_out', 'blocks.11.hook_attn_out', 'blocks.12.hook_attn_out', 'blocks.13.hook_attn_out', 'blocks.14.hook_attn_out', 'blocks.15.hook_attn_out', 'blocks.16.hook_attn_out', 'blocks.17.hook_attn_out', 'blocks.18.hook_attn_out', 'blocks.19.hook_attn_out', 'blocks.20.hook_attn_out', 'blocks.21.hook_attn_out', 'blocks.22.hook_attn_out', 'blocks.23.hook_attn_out', 'blocks.24.hook_attn_out', 'blocks.25.hook_attn_out', 'blocks.26.hook_attn_out', 'blocks.27.hook_attn_out', 'blocks.28.hook_attn_out', 'blocks.29.hook_attn_out', 'blocks.30.hook_attn_out', 'blocks.31.hook_attn_out', 'blocks.32.hook_attn_out', 'blocks.33.hook_attn_out', 'blocks.34.hook_attn_out', 'blocks.35.hook_attn_out', 'blocks.36.hook_attn_out', 'blocks.37.hook_attn_out', 'blocks.38.hook_attn_out', 'blocks.39.hook_attn_out', 'blocks.40.hook_attn_out', 'blocks.41.hook_attn_out'])"
      ]
     },
     "execution_count": 6,
     "metadata": {},
     "output_type": "execute_result"
    }
   ],
   "source": [
    "mean_cache.keys()"
   ]
  },
  {
   "cell_type": "markdown",
   "metadata": {},
   "source": [
    "## Basic per-layer probes"
   ]
  },
  {
   "cell_type": "code",
   "execution_count": null,
   "metadata": {},
   "outputs": [
    {
     "name": "stdout",
     "output_type": "stream",
     "text": [
      "torch.Size([1566, 24])\n",
      "Cache completed, torch.Size([42, 1566, 3584])\n",
      "Trying cpu multiprocessing\n"
     ]
    },
    {
     "ename": "KeyboardInterrupt",
     "evalue": "",
     "output_type": "error",
     "traceback": [
      "\u001b[0;31m---------------------------------------------------------------------------\u001b[0m",
      "\u001b[0;31mKeyboardInterrupt\u001b[0m                         Traceback (most recent call last)",
      "Cell \u001b[0;32mIn[7], line 6\u001b[0m\n\u001b[1;32m      3\u001b[0m athl_prompt_toks \u001b[38;5;241m=\u001b[39m tokenize_instructions(tokenizer, df[\u001b[38;5;124m'\u001b[39m\u001b[38;5;124mathlete\u001b[39m\u001b[38;5;124m'\u001b[39m]\u001b[38;5;241m.\u001b[39mtolist()) \u001b[38;5;66;03m# <bos>name\u001b[39;00m\n\u001b[1;32m      5\u001b[0m model\u001b[38;5;241m.\u001b[39mreset_hooks()\n\u001b[0;32m----> 6\u001b[0m results[\u001b[38;5;124m'\u001b[39m\u001b[38;5;124mPrompt\u001b[39m\u001b[38;5;124m'\u001b[39m] \u001b[38;5;241m=\u001b[39m \u001b[43mprobe_across_layers\u001b[49m\u001b[43m(\u001b[49m\u001b[43mmodel\u001b[49m\u001b[43m,\u001b[49m\u001b[43m \u001b[49m\u001b[43mfull_prompt_toks\u001b[49m\u001b[43m,\u001b[49m\u001b[43m \u001b[49m\u001b[43mdf\u001b[49m\u001b[43m[\u001b[49m\u001b[38;5;124;43m'\u001b[39;49m\u001b[38;5;124;43msport\u001b[39;49m\u001b[38;5;124;43m'\u001b[39;49m\u001b[43m]\u001b[49m\u001b[38;5;241;43m.\u001b[39;49m\u001b[43mtolist\u001b[49m\u001b[43m(\u001b[49m\u001b[43m)\u001b[49m\u001b[43m,\u001b[49m\u001b[43m \u001b[49m\u001b[43mbatch_size\u001b[49m\u001b[38;5;241;43m=\u001b[39;49m\u001b[38;5;241;43m128\u001b[39;49m\u001b[43m,\u001b[49m\u001b[43m \u001b[49m\u001b[43mcpu_multiprocessing\u001b[49m\u001b[38;5;241;43m=\u001b[39;49m\u001b[38;5;28;43;01mTrue\u001b[39;49;00m\u001b[43m)\u001b[49m\n\u001b[1;32m      8\u001b[0m model\u001b[38;5;241m.\u001b[39mreset_hooks()\n\u001b[1;32m      9\u001b[0m results[\u001b[38;5;124m'\u001b[39m\u001b[38;5;124mAthlete\u001b[39m\u001b[38;5;124m'\u001b[39m] \u001b[38;5;241m=\u001b[39m probe_across_layers(model, athl_prompt_toks, df[\u001b[38;5;124m'\u001b[39m\u001b[38;5;124msport\u001b[39m\u001b[38;5;124m'\u001b[39m]\u001b[38;5;241m.\u001b[39mtolist(), batch_size\u001b[38;5;241m=\u001b[39m\u001b[38;5;241m128\u001b[39m)\n",
      "Cell \u001b[0;32mIn[4], line 114\u001b[0m, in \u001b[0;36mprobe_across_layers\u001b[0;34m(model, prompt_toks, targets, batch_size, cpu_multiprocessing)\u001b[0m\n\u001b[1;32m    112\u001b[0m start_time \u001b[38;5;241m=\u001b[39m time\u001b[38;5;241m.\u001b[39mtime()\n\u001b[1;32m    113\u001b[0m \u001b[38;5;28;01mwith\u001b[39;00m ThreadPool(processes\u001b[38;5;241m=\u001b[39mmodel\u001b[38;5;241m.\u001b[39mcfg\u001b[38;5;241m.\u001b[39mn_layers) \u001b[38;5;28;01mas\u001b[39;00m pool:  \u001b[38;5;66;03m# Using ThreadPool\u001b[39;00m\n\u001b[0;32m--> 114\u001b[0m     results \u001b[38;5;241m=\u001b[39m \u001b[43mpool\u001b[49m\u001b[38;5;241;43m.\u001b[39;49m\u001b[43mstarmap\u001b[49m\u001b[43m(\u001b[49m\u001b[43mtrain_test_probe\u001b[49m\u001b[43m,\u001b[49m\u001b[43m \u001b[49m\u001b[43m[\u001b[49m\u001b[43m(\u001b[49m\u001b[43mX_data\u001b[49m\u001b[43m[\u001b[49m\u001b[43mlayer\u001b[49m\u001b[43m]\u001b[49m\u001b[43m,\u001b[49m\u001b[43m \u001b[49m\u001b[43my\u001b[49m\u001b[43m)\u001b[49m\u001b[43m \u001b[49m\u001b[38;5;28;43;01mfor\u001b[39;49;00m\u001b[43m \u001b[49m\u001b[43mlayer\u001b[49m\u001b[43m \u001b[49m\u001b[38;5;129;43;01min\u001b[39;49;00m\u001b[43m \u001b[49m\u001b[38;5;28;43mrange\u001b[39;49m\u001b[43m(\u001b[49m\u001b[43mmodel\u001b[49m\u001b[38;5;241;43m.\u001b[39;49m\u001b[43mcfg\u001b[49m\u001b[38;5;241;43m.\u001b[39;49m\u001b[43mn_layers\u001b[49m\u001b[43m)\u001b[49m\u001b[43m]\u001b[49m\u001b[43m)\u001b[49m\n\u001b[1;32m    115\u001b[0m end_time \u001b[38;5;241m=\u001b[39m time\u001b[38;5;241m.\u001b[39mtime()\n\u001b[1;32m    116\u001b[0m \u001b[38;5;28mprint\u001b[39m(\u001b[38;5;124mf\u001b[39m\u001b[38;5;124m\"\u001b[39m\u001b[38;5;124mTime taken: \u001b[39m\u001b[38;5;132;01m{\u001b[39;00mend_time\u001b[38;5;250m \u001b[39m\u001b[38;5;241m-\u001b[39m\u001b[38;5;250m \u001b[39mstart_time\u001b[38;5;132;01m}\u001b[39;00m\u001b[38;5;124m seconds\u001b[39m\u001b[38;5;124m\"\u001b[39m)\n",
      "File \u001b[0;32m~/miniconda3/envs/unlrn/lib/python3.10/multiprocessing/pool.py:375\u001b[0m, in \u001b[0;36mPool.starmap\u001b[0;34m(self, func, iterable, chunksize)\u001b[0m\n\u001b[1;32m    369\u001b[0m \u001b[38;5;28;01mdef\u001b[39;00m \u001b[38;5;21mstarmap\u001b[39m(\u001b[38;5;28mself\u001b[39m, func, iterable, chunksize\u001b[38;5;241m=\u001b[39m\u001b[38;5;28;01mNone\u001b[39;00m):\n\u001b[1;32m    370\u001b[0m \u001b[38;5;250m    \u001b[39m\u001b[38;5;124;03m'''\u001b[39;00m\n\u001b[1;32m    371\u001b[0m \u001b[38;5;124;03m    Like `map()` method but the elements of the `iterable` are expected to\u001b[39;00m\n\u001b[1;32m    372\u001b[0m \u001b[38;5;124;03m    be iterables as well and will be unpacked as arguments. Hence\u001b[39;00m\n\u001b[1;32m    373\u001b[0m \u001b[38;5;124;03m    `func` and (a, b) becomes func(a, b).\u001b[39;00m\n\u001b[1;32m    374\u001b[0m \u001b[38;5;124;03m    '''\u001b[39;00m\n\u001b[0;32m--> 375\u001b[0m     \u001b[38;5;28;01mreturn\u001b[39;00m \u001b[38;5;28;43mself\u001b[39;49m\u001b[38;5;241;43m.\u001b[39;49m\u001b[43m_map_async\u001b[49m\u001b[43m(\u001b[49m\u001b[43mfunc\u001b[49m\u001b[43m,\u001b[49m\u001b[43m \u001b[49m\u001b[43miterable\u001b[49m\u001b[43m,\u001b[49m\u001b[43m \u001b[49m\u001b[43mstarmapstar\u001b[49m\u001b[43m,\u001b[49m\u001b[43m \u001b[49m\u001b[43mchunksize\u001b[49m\u001b[43m)\u001b[49m\u001b[38;5;241;43m.\u001b[39;49m\u001b[43mget\u001b[49m\u001b[43m(\u001b[49m\u001b[43m)\u001b[49m\n",
      "File \u001b[0;32m~/miniconda3/envs/unlrn/lib/python3.10/multiprocessing/pool.py:768\u001b[0m, in \u001b[0;36mApplyResult.get\u001b[0;34m(self, timeout)\u001b[0m\n\u001b[1;32m    767\u001b[0m \u001b[38;5;28;01mdef\u001b[39;00m \u001b[38;5;21mget\u001b[39m(\u001b[38;5;28mself\u001b[39m, timeout\u001b[38;5;241m=\u001b[39m\u001b[38;5;28;01mNone\u001b[39;00m):\n\u001b[0;32m--> 768\u001b[0m     \u001b[38;5;28;43mself\u001b[39;49m\u001b[38;5;241;43m.\u001b[39;49m\u001b[43mwait\u001b[49m\u001b[43m(\u001b[49m\u001b[43mtimeout\u001b[49m\u001b[43m)\u001b[49m\n\u001b[1;32m    769\u001b[0m     \u001b[38;5;28;01mif\u001b[39;00m \u001b[38;5;129;01mnot\u001b[39;00m \u001b[38;5;28mself\u001b[39m\u001b[38;5;241m.\u001b[39mready():\n\u001b[1;32m    770\u001b[0m         \u001b[38;5;28;01mraise\u001b[39;00m \u001b[38;5;167;01mTimeoutError\u001b[39;00m\n",
      "File \u001b[0;32m~/miniconda3/envs/unlrn/lib/python3.10/multiprocessing/pool.py:765\u001b[0m, in \u001b[0;36mApplyResult.wait\u001b[0;34m(self, timeout)\u001b[0m\n\u001b[1;32m    764\u001b[0m \u001b[38;5;28;01mdef\u001b[39;00m \u001b[38;5;21mwait\u001b[39m(\u001b[38;5;28mself\u001b[39m, timeout\u001b[38;5;241m=\u001b[39m\u001b[38;5;28;01mNone\u001b[39;00m):\n\u001b[0;32m--> 765\u001b[0m     \u001b[38;5;28;43mself\u001b[39;49m\u001b[38;5;241;43m.\u001b[39;49m\u001b[43m_event\u001b[49m\u001b[38;5;241;43m.\u001b[39;49m\u001b[43mwait\u001b[49m\u001b[43m(\u001b[49m\u001b[43mtimeout\u001b[49m\u001b[43m)\u001b[49m\n",
      "File \u001b[0;32m~/miniconda3/envs/unlrn/lib/python3.10/threading.py:607\u001b[0m, in \u001b[0;36mEvent.wait\u001b[0;34m(self, timeout)\u001b[0m\n\u001b[1;32m    605\u001b[0m signaled \u001b[38;5;241m=\u001b[39m \u001b[38;5;28mself\u001b[39m\u001b[38;5;241m.\u001b[39m_flag\n\u001b[1;32m    606\u001b[0m \u001b[38;5;28;01mif\u001b[39;00m \u001b[38;5;129;01mnot\u001b[39;00m signaled:\n\u001b[0;32m--> 607\u001b[0m     signaled \u001b[38;5;241m=\u001b[39m \u001b[38;5;28;43mself\u001b[39;49m\u001b[38;5;241;43m.\u001b[39;49m\u001b[43m_cond\u001b[49m\u001b[38;5;241;43m.\u001b[39;49m\u001b[43mwait\u001b[49m\u001b[43m(\u001b[49m\u001b[43mtimeout\u001b[49m\u001b[43m)\u001b[49m\n\u001b[1;32m    608\u001b[0m \u001b[38;5;28;01mreturn\u001b[39;00m signaled\n",
      "File \u001b[0;32m~/miniconda3/envs/unlrn/lib/python3.10/threading.py:320\u001b[0m, in \u001b[0;36mCondition.wait\u001b[0;34m(self, timeout)\u001b[0m\n\u001b[1;32m    318\u001b[0m \u001b[38;5;28;01mtry\u001b[39;00m:    \u001b[38;5;66;03m# restore state no matter what (e.g., KeyboardInterrupt)\u001b[39;00m\n\u001b[1;32m    319\u001b[0m     \u001b[38;5;28;01mif\u001b[39;00m timeout \u001b[38;5;129;01mis\u001b[39;00m \u001b[38;5;28;01mNone\u001b[39;00m:\n\u001b[0;32m--> 320\u001b[0m         \u001b[43mwaiter\u001b[49m\u001b[38;5;241;43m.\u001b[39;49m\u001b[43macquire\u001b[49m\u001b[43m(\u001b[49m\u001b[43m)\u001b[49m\n\u001b[1;32m    321\u001b[0m         gotit \u001b[38;5;241m=\u001b[39m \u001b[38;5;28;01mTrue\u001b[39;00m\n\u001b[1;32m    322\u001b[0m     \u001b[38;5;28;01melse\u001b[39;00m:\n",
      "\u001b[0;31mKeyboardInterrupt\u001b[0m: "
     ]
    }
   ],
   "source": [
    "results = {}\n",
    "full_prompt_toks = tokenize_instructions(tokenizer, df['prompt'].tolist()) # Full prompt\n",
    "athl_prompt_toks = tokenize_instructions(tokenizer, df['athlete'].tolist()) # <bos>name\n",
    "\n",
    "model.reset_hooks()\n",
    "results['Prompt'] = probe_across_layers(model, full_prompt_toks, df['sport'].tolist(), batch_size=128, cpu_multiprocessing=True)\n",
    "\n",
    "model.reset_hooks()\n",
    "results['Athlete'] = probe_across_layers(model, athl_prompt_toks, df['sport'].tolist(), batch_size=128)"
   ]
  },
  {
   "cell_type": "code",
   "execution_count": null,
   "metadata": {},
   "outputs": [
    {
     "data": {
      "image/png": "[encoded data removed]",
      "text/plain": [
       "<Figure size 640x480 with 1 Axes>"
      ]
     },
     "metadata": {},
     "output_type": "display_data"
    }
   ],
   "source": [
    "import matplotlib.pyplot as plt\n",
    "fig = plt.figure()\n",
    "markers = ['o', 's', '^', 'v', '*', 'p', 'P', 'X', 'd']\n",
    "for i, (k, v) in enumerate(results.items()):\n",
    "    plt.plot(v, label=k, marker=markers[i])\n",
    "\n",
    "# Add vertical dotted lines at x = 2, x = 7\n",
    "plt.axvline(x=2, color='k', linestyle='--')\n",
    "plt.axvline(x=5, color='k', linestyle='--')\n",
    "# Label these vertical lines\n",
    "plt.text(2.3, 0.45, 'Layer 2', fontsize=12)\n",
    "plt.text(5.3, 0.45, 'Layer 5', fontsize=12)\n",
    "\n",
    "plt.legend()\n",
    "plt.xlabel('Layer', fontsize=16)\n",
    "plt.ylabel('Probe Accuracy', fontsize=16)\n",
    "plt.title('Probe Accuracy Across Layers', fontsize=16)\n",
    "plt.xticks(fontsize=12)\n",
    "plt.yticks(fontsize=12)\n",
    "plt.grid()\n",
    "plt.show()"
   ]
  },
  {
   "cell_type": "markdown",
   "metadata": {},
   "source": [
    "### Ablate layer heads"
   ]
  },
  {
   "cell_type": "code",
   "execution_count": null,
   "metadata": {},
   "outputs": [
    {
     "name": "stdout",
     "output_type": "stream",
     "text": [
      "torch.Size([1566, 24])\n",
      "Hooked blocks.5.hook_attn_out\n",
      "Hooked blocks.6.hook_attn_out\n",
      "Hooked blocks.7.hook_attn_out\n",
      "Hooked blocks.8.hook_attn_out\n",
      "Hooked blocks.9.hook_attn_out\n",
      "Hooked blocks.10.hook_attn_out\n",
      "Hooked blocks.11.hook_attn_out\n",
      "Hooked blocks.12.hook_attn_out\n",
      "Hooked blocks.13.hook_attn_out\n",
      "Hooked blocks.14.hook_attn_out\n",
      "Hooked blocks.15.hook_attn_out\n",
      "Hooked blocks.16.hook_attn_out\n",
      "Hooked blocks.17.hook_attn_out\n",
      "Hooked blocks.18.hook_attn_out\n",
      "Hooked blocks.19.hook_attn_out\n",
      "Hooked blocks.20.hook_attn_out\n",
      "Hooked blocks.21.hook_attn_out\n",
      "Hooked blocks.22.hook_attn_out\n",
      "Hooked blocks.23.hook_attn_out\n",
      "Hooked blocks.24.hook_attn_out\n",
      "Hooked blocks.25.hook_attn_out\n",
      "Hooked blocks.26.hook_attn_out\n",
      "Hooked blocks.27.hook_attn_out\n",
      "Hooked blocks.28.hook_attn_out\n",
      "Hooked blocks.29.hook_attn_out\n",
      "Hooked blocks.30.hook_attn_out\n",
      "Hooked blocks.31.hook_attn_out\n",
      "Hooked blocks.32.hook_attn_out\n",
      "Hooked blocks.33.hook_attn_out\n",
      "Hooked blocks.34.hook_attn_out\n",
      "Hooked blocks.35.hook_attn_out\n",
      "Hooked blocks.36.hook_attn_out\n",
      "Hooked blocks.37.hook_attn_out\n",
      "Hooked blocks.38.hook_attn_out\n",
      "Hooked blocks.39.hook_attn_out\n",
      "Hooked blocks.40.hook_attn_out\n",
      "Hooked blocks.41.hook_attn_out\n",
      "Hooked blocks.5.hook_attn_out\n",
      "Hooked blocks.6.hook_attn_out\n",
      "Hooked blocks.7.hook_attn_out\n",
      "Hooked blocks.8.hook_attn_out\n",
      "Hooked blocks.9.hook_attn_out\n",
      "Hooked blocks.10.hook_attn_out\n",
      "Hooked blocks.11.hook_attn_out\n",
      "Hooked blocks.12.hook_attn_out\n",
      "Hooked blocks.13.hook_attn_out\n",
      "Hooked blocks.14.hook_attn_out\n",
      "Hooked blocks.15.hook_attn_out\n",
      "Hooked blocks.16.hook_attn_out\n",
      "Hooked blocks.17.hook_attn_out\n",
      "Hooked blocks.18.hook_attn_out\n",
      "Hooked blocks.19.hook_attn_out\n",
      "Hooked blocks.20.hook_attn_out\n",
      "Hooked blocks.21.hook_attn_out\n",
      "Hooked blocks.22.hook_attn_out\n",
      "Hooked blocks.23.hook_attn_out\n",
      "Hooked blocks.24.hook_attn_out\n",
      "Hooked blocks.25.hook_attn_out\n",
      "Hooked blocks.26.hook_attn_out\n",
      "Hooked blocks.27.hook_attn_out\n",
      "Hooked blocks.28.hook_attn_out\n",
      "Hooked blocks.29.hook_attn_out\n",
      "Hooked blocks.30.hook_attn_out\n",
      "Hooked blocks.31.hook_attn_out\n",
      "Hooked blocks.32.hook_attn_out\n",
      "Hooked blocks.33.hook_attn_out\n",
      "Hooked blocks.34.hook_attn_out\n",
      "Hooked blocks.35.hook_attn_out\n",
      "Hooked blocks.36.hook_attn_out\n",
      "Hooked blocks.37.hook_attn_out\n",
      "Hooked blocks.38.hook_attn_out\n",
      "Hooked blocks.39.hook_attn_out\n",
      "Hooked blocks.40.hook_attn_out\n",
      "Hooked blocks.41.hook_attn_out\n",
      "Hooked blocks.5.hook_attn_out\n",
      "Hooked blocks.6.hook_attn_out\n",
      "Hooked blocks.7.hook_attn_out\n",
      "Hooked blocks.8.hook_attn_out\n",
      "Hooked blocks.9.hook_attn_out\n",
      "Hooked blocks.10.hook_attn_out\n",
      "Hooked blocks.11.hook_attn_out\n",
      "Hooked blocks.12.hook_attn_out\n",
      "Hooked blocks.13.hook_attn_out\n",
      "Hooked blocks.14.hook_attn_out\n",
      "Hooked blocks.15.hook_attn_out\n",
      "Hooked blocks.16.hook_attn_out\n",
      "Hooked blocks.17.hook_attn_out\n",
      "Hooked blocks.18.hook_attn_out\n",
      "Hooked blocks.19.hook_attn_out\n",
      "Hooked blocks.20.hook_attn_out\n",
      "Hooked blocks.21.hook_attn_out\n",
      "Hooked blocks.22.hook_attn_out\n",
      "Hooked blocks.23.hook_attn_out\n",
      "Hooked blocks.24.hook_attn_out\n",
      "Hooked blocks.25.hook_attn_out\n",
      "Hooked blocks.26.hook_attn_out\n",
      "Hooked blocks.27.hook_attn_out\n",
      "Hooked blocks.28.hook_attn_out\n",
      "Hooked blocks.29.hook_attn_out\n",
      "Hooked blocks.30.hook_attn_out\n",
      "Hooked blocks.31.hook_attn_out\n",
      "Hooked blocks.32.hook_attn_out\n",
      "Hooked blocks.33.hook_attn_out\n",
      "Hooked blocks.34.hook_attn_out\n",
      "Hooked blocks.35.hook_attn_out\n",
      "Hooked blocks.36.hook_attn_out\n",
      "Hooked blocks.37.hook_attn_out\n",
      "Hooked blocks.38.hook_attn_out\n",
      "Hooked blocks.39.hook_attn_out\n",
      "Hooked blocks.40.hook_attn_out\n",
      "Hooked blocks.41.hook_attn_out\n",
      "Hooked blocks.5.hook_attn_out\n",
      "Hooked blocks.6.hook_attn_out\n",
      "Hooked blocks.7.hook_attn_out\n",
      "Hooked blocks.8.hook_attn_out\n",
      "Hooked blocks.9.hook_attn_out\n",
      "Hooked blocks.10.hook_attn_out\n",
      "Hooked blocks.11.hook_attn_out\n",
      "Hooked blocks.12.hook_attn_out\n",
      "Hooked blocks.13.hook_attn_out\n",
      "Hooked blocks.14.hook_attn_out\n",
      "Hooked blocks.15.hook_attn_out\n",
      "Hooked blocks.16.hook_attn_out\n",
      "Hooked blocks.17.hook_attn_out\n",
      "Hooked blocks.18.hook_attn_out\n",
      "Hooked blocks.19.hook_attn_out\n",
      "Hooked blocks.20.hook_attn_out\n",
      "Hooked blocks.21.hook_attn_out\n",
      "Hooked blocks.22.hook_attn_out\n",
      "Hooked blocks.23.hook_attn_out\n",
      "Hooked blocks.24.hook_attn_out\n",
      "Hooked blocks.25.hook_attn_out\n",
      "Hooked blocks.26.hook_attn_out\n",
      "Hooked blocks.27.hook_attn_out\n",
      "Hooked blocks.28.hook_attn_out\n",
      "Hooked blocks.29.hook_attn_out\n",
      "Hooked blocks.30.hook_attn_out\n",
      "Hooked blocks.31.hook_attn_out\n",
      "Hooked blocks.32.hook_attn_out\n",
      "Hooked blocks.33.hook_attn_out\n",
      "Hooked blocks.34.hook_attn_out\n",
      "Hooked blocks.35.hook_attn_out\n",
      "Hooked blocks.36.hook_attn_out\n",
      "Hooked blocks.37.hook_attn_out\n",
      "Hooked blocks.38.hook_attn_out\n",
      "Hooked blocks.39.hook_attn_out\n",
      "Hooked blocks.40.hook_attn_out\n",
      "Hooked blocks.41.hook_attn_out\n",
      "Hooked blocks.5.hook_attn_out\n",
      "Hooked blocks.6.hook_attn_out\n",
      "Hooked blocks.7.hook_attn_out\n",
      "Hooked blocks.8.hook_attn_out\n",
      "Hooked blocks.9.hook_attn_out\n",
      "Hooked blocks.10.hook_attn_out\n",
      "Hooked blocks.11.hook_attn_out\n",
      "Hooked blocks.12.hook_attn_out\n",
      "Hooked blocks.13.hook_attn_out\n",
      "Hooked blocks.14.hook_attn_out\n",
      "Hooked blocks.15.hook_attn_out\n",
      "Hooked blocks.16.hook_attn_out\n",
      "Hooked blocks.17.hook_attn_out\n",
      "Hooked blocks.18.hook_attn_out\n",
      "Hooked blocks.19.hook_attn_out\n",
      "Hooked blocks.20.hook_attn_out\n",
      "Hooked blocks.21.hook_attn_out\n",
      "Hooked blocks.22.hook_attn_out\n",
      "Hooked blocks.23.hook_attn_out\n",
      "Hooked blocks.24.hook_attn_out\n",
      "Hooked blocks.25.hook_attn_out\n",
      "Hooked blocks.26.hook_attn_out\n",
      "Hooked blocks.27.hook_attn_out\n",
      "Hooked blocks.28.hook_attn_out\n",
      "Hooked blocks.29.hook_attn_out\n",
      "Hooked blocks.30.hook_attn_out\n",
      "Hooked blocks.31.hook_attn_out\n",
      "Hooked blocks.32.hook_attn_out\n",
      "Hooked blocks.33.hook_attn_out\n",
      "Hooked blocks.34.hook_attn_out\n",
      "Hooked blocks.35.hook_attn_out\n",
      "Hooked blocks.36.hook_attn_out\n",
      "Hooked blocks.37.hook_attn_out\n",
      "Hooked blocks.38.hook_attn_out\n",
      "Hooked blocks.39.hook_attn_out\n",
      "Hooked blocks.40.hook_attn_out\n",
      "Hooked blocks.41.hook_attn_out\n",
      "Hooked blocks.5.hook_attn_out\n",
      "Hooked blocks.6.hook_attn_out\n",
      "Hooked blocks.7.hook_attn_out\n",
      "Hooked blocks.8.hook_attn_out\n",
      "Hooked blocks.9.hook_attn_out\n",
      "Hooked blocks.10.hook_attn_out\n",
      "Hooked blocks.11.hook_attn_out\n",
      "Hooked blocks.12.hook_attn_out\n",
      "Hooked blocks.13.hook_attn_out\n",
      "Hooked blocks.14.hook_attn_out\n",
      "Hooked blocks.15.hook_attn_out\n",
      "Hooked blocks.16.hook_attn_out\n",
      "Hooked blocks.17.hook_attn_out\n",
      "Hooked blocks.18.hook_attn_out\n",
      "Hooked blocks.19.hook_attn_out\n",
      "Hooked blocks.20.hook_attn_out\n",
      "Hooked blocks.21.hook_attn_out\n",
      "Hooked blocks.22.hook_attn_out\n",
      "Hooked blocks.23.hook_attn_out\n",
      "Hooked blocks.24.hook_attn_out\n",
      "Hooked blocks.25.hook_attn_out\n",
      "Hooked blocks.26.hook_attn_out\n",
      "Hooked blocks.27.hook_attn_out\n",
      "Hooked blocks.28.hook_attn_out\n",
      "Hooked blocks.29.hook_attn_out\n",
      "Hooked blocks.30.hook_attn_out\n",
      "Hooked blocks.31.hook_attn_out\n",
      "Hooked blocks.32.hook_attn_out\n",
      "Hooked blocks.33.hook_attn_out\n",
      "Hooked blocks.34.hook_attn_out\n",
      "Hooked blocks.35.hook_attn_out\n",
      "Hooked blocks.36.hook_attn_out\n",
      "Hooked blocks.37.hook_attn_out\n",
      "Hooked blocks.38.hook_attn_out\n",
      "Hooked blocks.39.hook_attn_out\n",
      "Hooked blocks.40.hook_attn_out\n",
      "Hooked blocks.41.hook_attn_out\n",
      "Hooked blocks.5.hook_attn_out\n",
      "Hooked blocks.6.hook_attn_out\n",
      "Hooked blocks.7.hook_attn_out\n",
      "Hooked blocks.8.hook_attn_out\n",
      "Hooked blocks.9.hook_attn_out\n",
      "Hooked blocks.10.hook_attn_out\n",
      "Hooked blocks.11.hook_attn_out\n",
      "Hooked blocks.12.hook_attn_out\n",
      "Hooked blocks.13.hook_attn_out\n",
      "Hooked blocks.14.hook_attn_out\n",
      "Hooked blocks.15.hook_attn_out\n",
      "Hooked blocks.16.hook_attn_out\n",
      "Hooked blocks.17.hook_attn_out\n",
      "Hooked blocks.18.hook_attn_out\n",
      "Hooked blocks.19.hook_attn_out\n",
      "Hooked blocks.20.hook_attn_out\n",
      "Hooked blocks.21.hook_attn_out\n",
      "Hooked blocks.22.hook_attn_out\n",
      "Hooked blocks.23.hook_attn_out\n",
      "Hooked blocks.24.hook_attn_out\n",
      "Hooked blocks.25.hook_attn_out\n",
      "Hooked blocks.26.hook_attn_out\n",
      "Hooked blocks.27.hook_attn_out\n",
      "Hooked blocks.28.hook_attn_out\n",
      "Hooked blocks.29.hook_attn_out\n",
      "Hooked blocks.30.hook_attn_out\n",
      "Hooked blocks.31.hook_attn_out\n",
      "Hooked blocks.32.hook_attn_out\n",
      "Hooked blocks.33.hook_attn_out\n",
      "Hooked blocks.34.hook_attn_out\n",
      "Hooked blocks.35.hook_attn_out\n",
      "Hooked blocks.36.hook_attn_out\n",
      "Hooked blocks.37.hook_attn_out\n",
      "Hooked blocks.38.hook_attn_out\n",
      "Hooked blocks.39.hook_attn_out\n",
      "Hooked blocks.40.hook_attn_out\n",
      "Hooked blocks.41.hook_attn_out\n",
      "Hooked blocks.5.hook_attn_out\n",
      "Hooked blocks.6.hook_attn_out\n",
      "Hooked blocks.7.hook_attn_out\n",
      "Hooked blocks.8.hook_attn_out\n",
      "Hooked blocks.9.hook_attn_out\n",
      "Hooked blocks.10.hook_attn_out\n",
      "Hooked blocks.11.hook_attn_out\n",
      "Hooked blocks.12.hook_attn_out\n",
      "Hooked blocks.13.hook_attn_out\n",
      "Hooked blocks.14.hook_attn_out\n",
      "Hooked blocks.15.hook_attn_out\n",
      "Hooked blocks.16.hook_attn_out\n",
      "Hooked blocks.17.hook_attn_out\n",
      "Hooked blocks.18.hook_attn_out\n",
      "Hooked blocks.19.hook_attn_out\n",
      "Hooked blocks.20.hook_attn_out\n",
      "Hooked blocks.21.hook_attn_out\n",
      "Hooked blocks.22.hook_attn_out\n",
      "Hooked blocks.23.hook_attn_out\n",
      "Hooked blocks.24.hook_attn_out\n",
      "Hooked blocks.25.hook_attn_out\n",
      "Hooked blocks.26.hook_attn_out\n",
      "Hooked blocks.27.hook_attn_out\n",
      "Hooked blocks.28.hook_attn_out\n",
      "Hooked blocks.29.hook_attn_out\n",
      "Hooked blocks.30.hook_attn_out\n",
      "Hooked blocks.31.hook_attn_out\n",
      "Hooked blocks.32.hook_attn_out\n",
      "Hooked blocks.33.hook_attn_out\n",
      "Hooked blocks.34.hook_attn_out\n",
      "Hooked blocks.35.hook_attn_out\n",
      "Hooked blocks.36.hook_attn_out\n",
      "Hooked blocks.37.hook_attn_out\n",
      "Hooked blocks.38.hook_attn_out\n",
      "Hooked blocks.39.hook_attn_out\n",
      "Hooked blocks.40.hook_attn_out\n",
      "Hooked blocks.41.hook_attn_out\n",
      "Hooked blocks.5.hook_attn_out\n",
      "Hooked blocks.6.hook_attn_out\n",
      "Hooked blocks.7.hook_attn_out\n",
      "Hooked blocks.8.hook_attn_out\n",
      "Hooked blocks.9.hook_attn_out\n",
      "Hooked blocks.10.hook_attn_out\n",
      "Hooked blocks.11.hook_attn_out\n",
      "Hooked blocks.12.hook_attn_out\n",
      "Hooked blocks.13.hook_attn_out\n",
      "Hooked blocks.14.hook_attn_out\n",
      "Hooked blocks.15.hook_attn_out\n",
      "Hooked blocks.16.hook_attn_out\n",
      "Hooked blocks.17.hook_attn_out\n",
      "Hooked blocks.18.hook_attn_out\n",
      "Hooked blocks.19.hook_attn_out\n",
      "Hooked blocks.20.hook_attn_out\n",
      "Hooked blocks.21.hook_attn_out\n",
      "Hooked blocks.22.hook_attn_out\n",
      "Hooked blocks.23.hook_attn_out\n",
      "Hooked blocks.24.hook_attn_out\n",
      "Hooked blocks.25.hook_attn_out\n",
      "Hooked blocks.26.hook_attn_out\n",
      "Hooked blocks.27.hook_attn_out\n",
      "Hooked blocks.28.hook_attn_out\n",
      "Hooked blocks.29.hook_attn_out\n",
      "Hooked blocks.30.hook_attn_out\n",
      "Hooked blocks.31.hook_attn_out\n",
      "Hooked blocks.32.hook_attn_out\n",
      "Hooked blocks.33.hook_attn_out\n",
      "Hooked blocks.34.hook_attn_out\n",
      "Hooked blocks.35.hook_attn_out\n",
      "Hooked blocks.36.hook_attn_out\n",
      "Hooked blocks.37.hook_attn_out\n",
      "Hooked blocks.38.hook_attn_out\n",
      "Hooked blocks.39.hook_attn_out\n",
      "Hooked blocks.40.hook_attn_out\n",
      "Hooked blocks.41.hook_attn_out\n",
      "Hooked blocks.5.hook_attn_out\n",
      "Hooked blocks.6.hook_attn_out\n",
      "Hooked blocks.7.hook_attn_out\n",
      "Hooked blocks.8.hook_attn_out\n",
      "Hooked blocks.9.hook_attn_out\n",
      "Hooked blocks.10.hook_attn_out\n",
      "Hooked blocks.11.hook_attn_out\n",
      "Hooked blocks.12.hook_attn_out\n",
      "Hooked blocks.13.hook_attn_out\n",
      "Hooked blocks.14.hook_attn_out\n",
      "Hooked blocks.15.hook_attn_out\n",
      "Hooked blocks.16.hook_attn_out\n",
      "Hooked blocks.17.hook_attn_out\n",
      "Hooked blocks.18.hook_attn_out\n",
      "Hooked blocks.19.hook_attn_out\n",
      "Hooked blocks.20.hook_attn_out\n",
      "Hooked blocks.21.hook_attn_out\n",
      "Hooked blocks.22.hook_attn_out\n",
      "Hooked blocks.23.hook_attn_out\n",
      "Hooked blocks.24.hook_attn_out\n",
      "Hooked blocks.25.hook_attn_out\n",
      "Hooked blocks.26.hook_attn_out\n",
      "Hooked blocks.27.hook_attn_out\n",
      "Hooked blocks.28.hook_attn_out\n",
      "Hooked blocks.29.hook_attn_out\n",
      "Hooked blocks.30.hook_attn_out\n",
      "Hooked blocks.31.hook_attn_out\n",
      "Hooked blocks.32.hook_attn_out\n",
      "Hooked blocks.33.hook_attn_out\n",
      "Hooked blocks.34.hook_attn_out\n",
      "Hooked blocks.35.hook_attn_out\n",
      "Hooked blocks.36.hook_attn_out\n",
      "Hooked blocks.37.hook_attn_out\n",
      "Hooked blocks.38.hook_attn_out\n",
      "Hooked blocks.39.hook_attn_out\n",
      "Hooked blocks.40.hook_attn_out\n",
      "Hooked blocks.41.hook_attn_out\n",
      "Hooked blocks.5.hook_attn_out\n",
      "Hooked blocks.6.hook_attn_out\n",
      "Hooked blocks.7.hook_attn_out\n",
      "Hooked blocks.8.hook_attn_out\n",
      "Hooked blocks.9.hook_attn_out\n",
      "Hooked blocks.10.hook_attn_out\n",
      "Hooked blocks.11.hook_attn_out\n",
      "Hooked blocks.12.hook_attn_out\n",
      "Hooked blocks.13.hook_attn_out\n",
      "Hooked blocks.14.hook_attn_out\n",
      "Hooked blocks.15.hook_attn_out\n",
      "Hooked blocks.16.hook_attn_out\n",
      "Hooked blocks.17.hook_attn_out\n",
      "Hooked blocks.18.hook_attn_out\n",
      "Hooked blocks.19.hook_attn_out\n",
      "Hooked blocks.20.hook_attn_out\n",
      "Hooked blocks.21.hook_attn_out\n",
      "Hooked blocks.22.hook_attn_out\n",
      "Hooked blocks.23.hook_attn_out\n",
      "Hooked blocks.24.hook_attn_out\n",
      "Hooked blocks.25.hook_attn_out\n",
      "Hooked blocks.26.hook_attn_out\n",
      "Hooked blocks.27.hook_attn_out\n",
      "Hooked blocks.28.hook_attn_out\n",
      "Hooked blocks.29.hook_attn_out\n",
      "Hooked blocks.30.hook_attn_out\n",
      "Hooked blocks.31.hook_attn_out\n",
      "Hooked blocks.32.hook_attn_out\n",
      "Hooked blocks.33.hook_attn_out\n",
      "Hooked blocks.34.hook_attn_out\n",
      "Hooked blocks.35.hook_attn_out\n",
      "Hooked blocks.36.hook_attn_out\n",
      "Hooked blocks.37.hook_attn_out\n",
      "Hooked blocks.38.hook_attn_out\n",
      "Hooked blocks.39.hook_attn_out\n",
      "Hooked blocks.40.hook_attn_out\n",
      "Hooked blocks.41.hook_attn_out\n",
      "Hooked blocks.5.hook_attn_out\n",
      "Hooked blocks.6.hook_attn_out\n",
      "Hooked blocks.7.hook_attn_out\n",
      "Hooked blocks.8.hook_attn_out\n",
      "Hooked blocks.9.hook_attn_out\n",
      "Hooked blocks.10.hook_attn_out\n",
      "Hooked blocks.11.hook_attn_out\n",
      "Hooked blocks.12.hook_attn_out\n",
      "Hooked blocks.13.hook_attn_out\n",
      "Hooked blocks.14.hook_attn_out\n",
      "Hooked blocks.15.hook_attn_out\n",
      "Hooked blocks.16.hook_attn_out\n",
      "Hooked blocks.17.hook_attn_out\n",
      "Hooked blocks.18.hook_attn_out\n",
      "Hooked blocks.19.hook_attn_out\n",
      "Hooked blocks.20.hook_attn_out\n",
      "Hooked blocks.21.hook_attn_out\n",
      "Hooked blocks.22.hook_attn_out\n",
      "Hooked blocks.23.hook_attn_out\n",
      "Hooked blocks.24.hook_attn_out\n",
      "Hooked blocks.25.hook_attn_out\n",
      "Hooked blocks.26.hook_attn_out\n",
      "Hooked blocks.27.hook_attn_out\n",
      "Hooked blocks.28.hook_attn_out\n",
      "Hooked blocks.29.hook_attn_out\n",
      "Hooked blocks.30.hook_attn_out\n",
      "Hooked blocks.31.hook_attn_out\n",
      "Hooked blocks.32.hook_attn_out\n",
      "Hooked blocks.33.hook_attn_out\n",
      "Hooked blocks.34.hook_attn_out\n",
      "Hooked blocks.35.hook_attn_out\n",
      "Hooked blocks.36.hook_attn_out\n",
      "Hooked blocks.37.hook_attn_out\n",
      "Hooked blocks.38.hook_attn_out\n",
      "Hooked blocks.39.hook_attn_out\n",
      "Hooked blocks.40.hook_attn_out\n",
      "Hooked blocks.41.hook_attn_out\n",
      "Hooked blocks.5.hook_attn_out\n",
      "Hooked blocks.6.hook_attn_out\n",
      "Hooked blocks.7.hook_attn_out\n",
      "Hooked blocks.8.hook_attn_out\n",
      "Hooked blocks.9.hook_attn_out\n",
      "Hooked blocks.10.hook_attn_out\n",
      "Hooked blocks.11.hook_attn_out\n",
      "Hooked blocks.12.hook_attn_out\n",
      "Hooked blocks.13.hook_attn_out\n",
      "Hooked blocks.14.hook_attn_out\n",
      "Hooked blocks.15.hook_attn_out\n",
      "Hooked blocks.16.hook_attn_out\n",
      "Hooked blocks.17.hook_attn_out\n",
      "Hooked blocks.18.hook_attn_out\n",
      "Hooked blocks.19.hook_attn_out\n",
      "Hooked blocks.20.hook_attn_out\n",
      "Hooked blocks.21.hook_attn_out\n",
      "Hooked blocks.22.hook_attn_out\n",
      "Hooked blocks.23.hook_attn_out\n",
      "Hooked blocks.24.hook_attn_out\n",
      "Hooked blocks.25.hook_attn_out\n",
      "Hooked blocks.26.hook_attn_out\n",
      "Hooked blocks.27.hook_attn_out\n",
      "Hooked blocks.28.hook_attn_out\n",
      "Hooked blocks.29.hook_attn_out\n",
      "Hooked blocks.30.hook_attn_out\n",
      "Hooked blocks.31.hook_attn_out\n",
      "Hooked blocks.32.hook_attn_out\n",
      "Hooked blocks.33.hook_attn_out\n",
      "Hooked blocks.34.hook_attn_out\n",
      "Hooked blocks.35.hook_attn_out\n",
      "Hooked blocks.36.hook_attn_out\n",
      "Hooked blocks.37.hook_attn_out\n",
      "Hooked blocks.38.hook_attn_out\n",
      "Hooked blocks.39.hook_attn_out\n",
      "Hooked blocks.40.hook_attn_out\n",
      "Hooked blocks.41.hook_attn_out\n",
      "Cache completed, torch.Size([42, 1566, 3584])\n",
      "Trying cpu multiprocessing\n"
     ]
    },
    {
     "name": "stderr",
     "output_type": "stream",
     "text": [
      "/data/phillip_guo/miniconda3/envs/unlrn/lib/python3.10/site-packages/sklearn/linear_model/_sag.py:350: ConvergenceWarning: The max_iter was reached which means the coef_ did not converge\n",
      "  warnings.warn(\n",
      "/data/phillip_guo/miniconda3/envs/unlrn/lib/python3.10/site-packages/sklearn/linear_model/_sag.py:350: ConvergenceWarning: The max_iter was reached which means the coef_ did not converge\n",
      "  warnings.warn(\n",
      "/data/phillip_guo/miniconda3/envs/unlrn/lib/python3.10/site-packages/sklearn/linear_model/_sag.py:350: ConvergenceWarning: The max_iter was reached which means the coef_ did not converge\n",
      "  warnings.warn(\n",
      "/data/phillip_guo/miniconda3/envs/unlrn/lib/python3.10/site-packages/sklearn/linear_model/_sag.py:350: ConvergenceWarning: The max_iter was reached which means the coef_ did not converge\n",
      "  warnings.warn(\n",
      "/data/phillip_guo/miniconda3/envs/unlrn/lib/python3.10/site-packages/sklearn/linear_model/_sag.py:350: ConvergenceWarning: The max_iter was reached which means the coef_ did not converge\n",
      "  warnings.warn(\n",
      "/data/phillip_guo/miniconda3/envs/unlrn/lib/python3.10/site-packages/sklearn/linear_model/_sag.py:350: ConvergenceWarning: The max_iter was reached which means the coef_ did not converge\n",
      "  warnings.warn(\n",
      "/data/phillip_guo/miniconda3/envs/unlrn/lib/python3.10/site-packages/sklearn/linear_model/_sag.py:350: ConvergenceWarning: The max_iter was reached which means the coef_ did not converge\n",
      "  warnings.warn(\n",
      "/data/phillip_guo/miniconda3/envs/unlrn/lib/python3.10/site-packages/sklearn/linear_model/_sag.py:350: ConvergenceWarning: The max_iter was reached which means the coef_ did not converge\n",
      "  warnings.warn(\n",
      "/data/phillip_guo/miniconda3/envs/unlrn/lib/python3.10/site-packages/sklearn/linear_model/_sag.py:350: ConvergenceWarning: The max_iter was reached which means the coef_ did not converge\n",
      "  warnings.warn(\n",
      "/data/phillip_guo/miniconda3/envs/unlrn/lib/python3.10/site-packages/sklearn/linear_model/_sag.py:350: ConvergenceWarning: The max_iter was reached which means the coef_ did not converge\n",
      "  warnings.warn(\n",
      "/data/phillip_guo/miniconda3/envs/unlrn/lib/python3.10/site-packages/sklearn/linear_model/_sag.py:350: ConvergenceWarning: The max_iter was reached which means the coef_ did not converge\n",
      "  warnings.warn(\n",
      "/data/phillip_guo/miniconda3/envs/unlrn/lib/python3.10/site-packages/sklearn/linear_model/_sag.py:350: ConvergenceWarning: The max_iter was reached which means the coef_ did not converge\n",
      "  warnings.warn(\n",
      "/data/phillip_guo/miniconda3/envs/unlrn/lib/python3.10/site-packages/sklearn/linear_model/_sag.py:350: ConvergenceWarning: The max_iter was reached which means the coef_ did not converge\n",
      "  warnings.warn(\n",
      "/data/phillip_guo/miniconda3/envs/unlrn/lib/python3.10/site-packages/sklearn/linear_model/_sag.py:350: ConvergenceWarning: The max_iter was reached which means the coef_ did not converge\n",
      "  warnings.warn(\n",
      "/data/phillip_guo/miniconda3/envs/unlrn/lib/python3.10/site-packages/sklearn/linear_model/_sag.py:350: ConvergenceWarning: The max_iter was reached which means the coef_ did not converge\n",
      "  warnings.warn(\n",
      "/data/phillip_guo/miniconda3/envs/unlrn/lib/python3.10/site-packages/sklearn/linear_model/_sag.py:350: ConvergenceWarning: The max_iter was reached which means the coef_ did not converge\n",
      "  warnings.warn(\n",
      "/data/phillip_guo/miniconda3/envs/unlrn/lib/python3.10/site-packages/sklearn/linear_model/_sag.py:350: ConvergenceWarning: The max_iter was reached which means the coef_ did not converge\n",
      "  warnings.warn(\n",
      "/data/phillip_guo/miniconda3/envs/unlrn/lib/python3.10/site-packages/sklearn/linear_model/_sag.py:350: ConvergenceWarning: The max_iter was reached which means the coef_ did not converge\n",
      "  warnings.warn(\n",
      "/data/phillip_guo/miniconda3/envs/unlrn/lib/python3.10/site-packages/sklearn/linear_model/_sag.py:350: ConvergenceWarning: The max_iter was reached which means the coef_ did not converge\n",
      "  warnings.warn(\n",
      "/data/phillip_guo/miniconda3/envs/unlrn/lib/python3.10/site-packages/sklearn/linear_model/_sag.py:350: ConvergenceWarning: The max_iter was reached which means the coef_ did not converge\n",
      "  warnings.warn(\n",
      "/data/phillip_guo/miniconda3/envs/unlrn/lib/python3.10/site-packages/sklearn/linear_model/_sag.py:350: ConvergenceWarning: The max_iter was reached which means the coef_ did not converge\n",
      "  warnings.warn(\n",
      "/data/phillip_guo/miniconda3/envs/unlrn/lib/python3.10/site-packages/sklearn/linear_model/_sag.py:350: ConvergenceWarning: The max_iter was reached which means the coef_ did not converge\n",
      "  warnings.warn(\n",
      "/data/phillip_guo/miniconda3/envs/unlrn/lib/python3.10/site-packages/sklearn/linear_model/_sag.py:350: ConvergenceWarning: The max_iter was reached which means the coef_ did not converge\n",
      "  warnings.warn(\n",
      "/data/phillip_guo/miniconda3/envs/unlrn/lib/python3.10/site-packages/sklearn/linear_model/_sag.py:350: ConvergenceWarning: The max_iter was reached which means the coef_ did not converge\n",
      "  warnings.warn(\n",
      "/data/phillip_guo/miniconda3/envs/unlrn/lib/python3.10/site-packages/sklearn/linear_model/_sag.py:350: ConvergenceWarning: The max_iter was reached which means the coef_ did not converge\n",
      "  warnings.warn(\n",
      "/data/phillip_guo/miniconda3/envs/unlrn/lib/python3.10/site-packages/sklearn/linear_model/_sag.py:350: ConvergenceWarning: The max_iter was reached which means the coef_ did not converge\n",
      "  warnings.warn(\n",
      "/data/phillip_guo/miniconda3/envs/unlrn/lib/python3.10/site-packages/sklearn/linear_model/_sag.py:350: ConvergenceWarning: The max_iter was reached which means the coef_ did not converge\n",
      "  warnings.warn(\n",
      "/data/phillip_guo/miniconda3/envs/unlrn/lib/python3.10/site-packages/sklearn/linear_model/_sag.py:350: ConvergenceWarning: The max_iter was reached which means the coef_ did not converge\n",
      "  warnings.warn(\n",
      "/data/phillip_guo/miniconda3/envs/unlrn/lib/python3.10/site-packages/sklearn/linear_model/_sag.py:350: ConvergenceWarning: The max_iter was reached which means the coef_ did not converge\n",
      "  warnings.warn(\n",
      "/data/phillip_guo/miniconda3/envs/unlrn/lib/python3.10/site-packages/sklearn/linear_model/_sag.py:350: ConvergenceWarning: The max_iter was reached which means the coef_ did not converge\n",
      "  warnings.warn(\n",
      "/data/phillip_guo/miniconda3/envs/unlrn/lib/python3.10/site-packages/sklearn/linear_model/_sag.py:350: ConvergenceWarning: The max_iter was reached which means the coef_ did not converge\n",
      "  warnings.warn(\n",
      "/data/phillip_guo/miniconda3/envs/unlrn/lib/python3.10/site-packages/sklearn/linear_model/_sag.py:350: ConvergenceWarning: The max_iter was reached which means the coef_ did not converge\n",
      "  warnings.warn(\n",
      "/data/phillip_guo/miniconda3/envs/unlrn/lib/python3.10/site-packages/sklearn/linear_model/_sag.py:350: ConvergenceWarning: The max_iter was reached which means the coef_ did not converge\n",
      "  warnings.warn(\n",
      "/data/phillip_guo/miniconda3/envs/unlrn/lib/python3.10/site-packages/sklearn/linear_model/_sag.py:350: ConvergenceWarning: The max_iter was reached which means the coef_ did not converge\n",
      "  warnings.warn(\n",
      "/data/phillip_guo/miniconda3/envs/unlrn/lib/python3.10/site-packages/sklearn/linear_model/_sag.py:350: ConvergenceWarning: The max_iter was reached which means the coef_ did not converge\n",
      "  warnings.warn(\n",
      "/data/phillip_guo/miniconda3/envs/unlrn/lib/python3.10/site-packages/sklearn/linear_model/_sag.py:350: ConvergenceWarning: The max_iter was reached which means the coef_ did not converge\n",
      "  warnings.warn(\n",
      "/data/phillip_guo/miniconda3/envs/unlrn/lib/python3.10/site-packages/sklearn/linear_model/_sag.py:350: ConvergenceWarning: The max_iter was reached which means the coef_ did not converge\n",
      "  warnings.warn(\n",
      "/data/phillip_guo/miniconda3/envs/unlrn/lib/python3.10/site-packages/sklearn/linear_model/_sag.py:350: ConvergenceWarning: The max_iter was reached which means the coef_ did not converge\n",
      "  warnings.warn(\n",
      "/data/phillip_guo/miniconda3/envs/unlrn/lib/python3.10/site-packages/sklearn/linear_model/_sag.py:350: ConvergenceWarning: The max_iter was reached which means the coef_ did not converge\n",
      "  warnings.warn(\n",
      "/data/phillip_guo/miniconda3/envs/unlrn/lib/python3.10/site-packages/sklearn/linear_model/_sag.py:350: ConvergenceWarning: The max_iter was reached which means the coef_ did not converge\n",
      "  warnings.warn(\n",
      "/data/phillip_guo/miniconda3/envs/unlrn/lib/python3.10/site-packages/sklearn/linear_model/_sag.py:350: ConvergenceWarning: The max_iter was reached which means the coef_ did not converge\n",
      "  warnings.warn(\n",
      "/data/phillip_guo/miniconda3/envs/unlrn/lib/python3.10/site-packages/sklearn/linear_model/_sag.py:350: ConvergenceWarning: The max_iter was reached which means the coef_ did not converge\n",
      "  warnings.warn(\n"
     ]
    },
    {
     "name": "stdout",
     "output_type": "stream",
     "text": [
      "Time taken: 54.711870431900024 seconds\n",
      "finished multiprocessing\n",
      "[0.4840764331210191, 0.535031847133758, 0.5414012738853503, 0.60828025477707, 0.9808917197452229, 0.9840764331210191, 0.9777070063694268, 0.9777070063694268, 0.9777070063694268, 0.9713375796178344, 0.964968152866242, 0.9490445859872612, 0.9426751592356688, 0.9299363057324841, 0.9267515923566879, 0.9331210191082803, 0.9140127388535032, 0.9076433121019108, 0.9044585987261147, 0.910828025477707, 0.8980891719745223, 0.8980891719745223, 0.8853503184713376, 0.8853503184713376, 0.8726114649681529, 0.8789808917197452, 0.8248407643312102, 0.7961783439490446, 0.8057324840764332, 0.7834394904458599, 0.7515923566878981, 0.732484076433121, 0.7133757961783439, 0.7070063694267515, 0.6815286624203821, 0.6847133757961783, 0.6719745222929936, 0.6751592356687898, 0.6719745222929936, 0.6656050955414012, 0.6687898089171974, 0.6719745222929936]\n",
      "{0: 0.4840764331210191, 1: 0.535031847133758, 2: 0.5414012738853503, 3: 0.60828025477707, 4: 0.9808917197452229, 5: 0.9840764331210191, 6: 0.9777070063694268, 7: 0.9777070063694268, 8: 0.9777070063694268, 9: 0.9713375796178344, 10: 0.964968152866242, 11: 0.9490445859872612, 12: 0.9426751592356688, 13: 0.9299363057324841, 14: 0.9267515923566879, 15: 0.9331210191082803, 16: 0.9140127388535032, 17: 0.9076433121019108, 18: 0.9044585987261147, 19: 0.910828025477707, 20: 0.8980891719745223, 21: 0.8980891719745223, 22: 0.8853503184713376, 23: 0.8853503184713376, 24: 0.8726114649681529, 25: 0.8789808917197452, 26: 0.8248407643312102, 27: 0.7961783439490446, 28: 0.8057324840764332, 29: 0.7834394904458599, 30: 0.7515923566878981, 31: 0.732484076433121, 32: 0.7133757961783439, 33: 0.7070063694267515, 34: 0.6815286624203821, 35: 0.6847133757961783, 36: 0.6719745222929936, 37: 0.6751592356687898, 38: 0.6719745222929936, 39: 0.6656050955414012, 40: 0.6687898089171974, 41: 0.6719745222929936}\n",
      "torch.Size([1566, 8])\n",
      "Hooked blocks.5.hook_attn_out\n",
      "Hooked blocks.5.hook_attn_out\n",
      "Hooked blocks.6.hook_attn_out\n",
      "Hooked blocks.6.hook_attn_out\n",
      "Hooked blocks.7.hook_attn_out\n",
      "Hooked blocks.7.hook_attn_out\n",
      "Hooked blocks.8.hook_attn_out\n",
      "Hooked blocks.8.hook_attn_out\n",
      "Hooked blocks.9.hook_attn_out\n",
      "Hooked blocks.9.hook_attn_out\n",
      "Hooked blocks.10.hook_attn_out\n",
      "Hooked blocks.10.hook_attn_out\n",
      "Hooked blocks.11.hook_attn_out\n",
      "Hooked blocks.11.hook_attn_out\n",
      "Hooked blocks.12.hook_attn_out\n",
      "Hooked blocks.12.hook_attn_out\n",
      "Hooked blocks.13.hook_attn_out\n",
      "Hooked blocks.13.hook_attn_out\n",
      "Hooked blocks.14.hook_attn_out\n",
      "Hooked blocks.14.hook_attn_out\n",
      "Hooked blocks.15.hook_attn_out\n",
      "Hooked blocks.15.hook_attn_out\n",
      "Hooked blocks.16.hook_attn_out\n",
      "Hooked blocks.16.hook_attn_out\n",
      "Hooked blocks.17.hook_attn_out\n",
      "Hooked blocks.17.hook_attn_out\n",
      "Hooked blocks.18.hook_attn_out\n",
      "Hooked blocks.18.hook_attn_out\n",
      "Hooked blocks.19.hook_attn_out\n",
      "Hooked blocks.19.hook_attn_out\n",
      "Hooked blocks.20.hook_attn_out\n",
      "Hooked blocks.20.hook_attn_out\n",
      "Hooked blocks.21.hook_attn_out\n",
      "Hooked blocks.21.hook_attn_out\n",
      "Hooked blocks.22.hook_attn_out\n",
      "Hooked blocks.22.hook_attn_out\n",
      "Hooked blocks.23.hook_attn_out\n",
      "Hooked blocks.23.hook_attn_out\n",
      "Hooked blocks.24.hook_attn_out\n",
      "Hooked blocks.24.hook_attn_out\n",
      "Hooked blocks.25.hook_attn_out\n",
      "Hooked blocks.25.hook_attn_out\n",
      "Hooked blocks.26.hook_attn_out\n",
      "Hooked blocks.26.hook_attn_out\n",
      "Hooked blocks.27.hook_attn_out\n",
      "Hooked blocks.27.hook_attn_out\n",
      "Hooked blocks.28.hook_attn_out\n",
      "Hooked blocks.28.hook_attn_out\n",
      "Hooked blocks.29.hook_attn_out\n",
      "Hooked blocks.29.hook_attn_out\n",
      "Hooked blocks.30.hook_attn_out\n",
      "Hooked blocks.30.hook_attn_out\n",
      "Hooked blocks.31.hook_attn_out\n",
      "Hooked blocks.31.hook_attn_out\n",
      "Hooked blocks.32.hook_attn_out\n",
      "Hooked blocks.32.hook_attn_out\n",
      "Hooked blocks.33.hook_attn_out\n",
      "Hooked blocks.33.hook_attn_out\n",
      "Hooked blocks.34.hook_attn_out\n",
      "Hooked blocks.34.hook_attn_out\n",
      "Hooked blocks.35.hook_attn_out\n",
      "Hooked blocks.35.hook_attn_out\n",
      "Hooked blocks.36.hook_attn_out\n",
      "Hooked blocks.36.hook_attn_out\n",
      "Hooked blocks.37.hook_attn_out\n",
      "Hooked blocks.37.hook_attn_out\n",
      "Hooked blocks.38.hook_attn_out\n",
      "Hooked blocks.38.hook_attn_out\n",
      "Hooked blocks.39.hook_attn_out\n",
      "Hooked blocks.39.hook_attn_out\n",
      "Hooked blocks.40.hook_attn_out\n",
      "Hooked blocks.40.hook_attn_out\n",
      "Hooked blocks.41.hook_attn_out\n",
      "Hooked blocks.41.hook_attn_out\n",
      "Hooked blocks.5.hook_attn_out\n",
      "Hooked blocks.5.hook_attn_out\n",
      "Hooked blocks.6.hook_attn_out\n",
      "Hooked blocks.6.hook_attn_out\n",
      "Hooked blocks.7.hook_attn_out\n",
      "Hooked blocks.7.hook_attn_out\n",
      "Hooked blocks.8.hook_attn_out\n",
      "Hooked blocks.8.hook_attn_out\n",
      "Hooked blocks.9.hook_attn_out\n",
      "Hooked blocks.9.hook_attn_out\n",
      "Hooked blocks.10.hook_attn_out\n",
      "Hooked blocks.10.hook_attn_out\n",
      "Hooked blocks.11.hook_attn_out\n",
      "Hooked blocks.11.hook_attn_out\n",
      "Hooked blocks.12.hook_attn_out\n",
      "Hooked blocks.12.hook_attn_out\n",
      "Hooked blocks.13.hook_attn_out\n",
      "Hooked blocks.13.hook_attn_out\n",
      "Hooked blocks.14.hook_attn_out\n",
      "Hooked blocks.14.hook_attn_out\n",
      "Hooked blocks.15.hook_attn_out\n",
      "Hooked blocks.15.hook_attn_out\n",
      "Hooked blocks.16.hook_attn_out\n",
      "Hooked blocks.16.hook_attn_out\n",
      "Hooked blocks.17.hook_attn_out\n",
      "Hooked blocks.17.hook_attn_out\n",
      "Hooked blocks.18.hook_attn_out\n",
      "Hooked blocks.18.hook_attn_out\n",
      "Hooked blocks.19.hook_attn_out\n",
      "Hooked blocks.19.hook_attn_out\n",
      "Hooked blocks.20.hook_attn_out\n",
      "Hooked blocks.20.hook_attn_out\n",
      "Hooked blocks.21.hook_attn_out\n",
      "Hooked blocks.21.hook_attn_out\n",
      "Hooked blocks.22.hook_attn_out\n",
      "Hooked blocks.22.hook_attn_out\n",
      "Hooked blocks.23.hook_attn_out\n",
      "Hooked blocks.23.hook_attn_out\n",
      "Hooked blocks.24.hook_attn_out\n",
      "Hooked blocks.24.hook_attn_out\n",
      "Hooked blocks.25.hook_attn_out\n",
      "Hooked blocks.25.hook_attn_out\n",
      "Hooked blocks.26.hook_attn_out\n",
      "Hooked blocks.26.hook_attn_out\n",
      "Hooked blocks.27.hook_attn_out\n",
      "Hooked blocks.27.hook_attn_out\n",
      "Hooked blocks.28.hook_attn_out\n",
      "Hooked blocks.28.hook_attn_out\n",
      "Hooked blocks.29.hook_attn_out\n",
      "Hooked blocks.29.hook_attn_out\n",
      "Hooked blocks.30.hook_attn_out\n",
      "Hooked blocks.30.hook_attn_out\n",
      "Hooked blocks.31.hook_attn_out\n",
      "Hooked blocks.31.hook_attn_out\n",
      "Hooked blocks.32.hook_attn_out\n",
      "Hooked blocks.32.hook_attn_out\n",
      "Hooked blocks.33.hook_attn_out\n",
      "Hooked blocks.33.hook_attn_out\n",
      "Hooked blocks.34.hook_attn_out\n",
      "Hooked blocks.34.hook_attn_out\n",
      "Hooked blocks.35.hook_attn_out\n",
      "Hooked blocks.35.hook_attn_out\n",
      "Hooked blocks.36.hook_attn_out\n",
      "Hooked blocks.36.hook_attn_out\n",
      "Hooked blocks.37.hook_attn_out\n",
      "Hooked blocks.37.hook_attn_out\n",
      "Hooked blocks.38.hook_attn_out\n",
      "Hooked blocks.38.hook_attn_out\n",
      "Hooked blocks.39.hook_attn_out\n",
      "Hooked blocks.39.hook_attn_out\n",
      "Hooked blocks.40.hook_attn_out\n",
      "Hooked blocks.40.hook_attn_out\n",
      "Hooked blocks.41.hook_attn_out\n",
      "Hooked blocks.41.hook_attn_out\n",
      "Hooked blocks.5.hook_attn_out\n",
      "Hooked blocks.5.hook_attn_out\n",
      "Hooked blocks.6.hook_attn_out\n",
      "Hooked blocks.6.hook_attn_out\n",
      "Hooked blocks.7.hook_attn_out\n",
      "Hooked blocks.7.hook_attn_out\n",
      "Hooked blocks.8.hook_attn_out\n",
      "Hooked blocks.8.hook_attn_out\n",
      "Hooked blocks.9.hook_attn_out\n",
      "Hooked blocks.9.hook_attn_out\n",
      "Hooked blocks.10.hook_attn_out\n",
      "Hooked blocks.10.hook_attn_out\n",
      "Hooked blocks.11.hook_attn_out\n",
      "Hooked blocks.11.hook_attn_out\n",
      "Hooked blocks.12.hook_attn_out\n",
      "Hooked blocks.12.hook_attn_out\n",
      "Hooked blocks.13.hook_attn_out\n",
      "Hooked blocks.13.hook_attn_out\n",
      "Hooked blocks.14.hook_attn_out\n",
      "Hooked blocks.14.hook_attn_out\n",
      "Hooked blocks.15.hook_attn_out\n",
      "Hooked blocks.15.hook_attn_out\n",
      "Hooked blocks.16.hook_attn_out\n",
      "Hooked blocks.16.hook_attn_out\n",
      "Hooked blocks.17.hook_attn_out\n",
      "Hooked blocks.17.hook_attn_out\n",
      "Hooked blocks.18.hook_attn_out\n",
      "Hooked blocks.18.hook_attn_out\n",
      "Hooked blocks.19.hook_attn_out\n",
      "Hooked blocks.19.hook_attn_out\n",
      "Hooked blocks.20.hook_attn_out\n",
      "Hooked blocks.20.hook_attn_out\n",
      "Hooked blocks.21.hook_attn_out\n",
      "Hooked blocks.21.hook_attn_out\n",
      "Hooked blocks.22.hook_attn_out\n",
      "Hooked blocks.22.hook_attn_out\n",
      "Hooked blocks.23.hook_attn_out\n",
      "Hooked blocks.23.hook_attn_out\n",
      "Hooked blocks.24.hook_attn_out\n",
      "Hooked blocks.24.hook_attn_out\n",
      "Hooked blocks.25.hook_attn_out\n",
      "Hooked blocks.25.hook_attn_out\n",
      "Hooked blocks.26.hook_attn_out\n",
      "Hooked blocks.26.hook_attn_out\n",
      "Hooked blocks.27.hook_attn_out\n",
      "Hooked blocks.27.hook_attn_out\n",
      "Hooked blocks.28.hook_attn_out\n",
      "Hooked blocks.28.hook_attn_out\n",
      "Hooked blocks.29.hook_attn_out\n",
      "Hooked blocks.29.hook_attn_out\n",
      "Hooked blocks.30.hook_attn_out\n",
      "Hooked blocks.30.hook_attn_out\n",
      "Hooked blocks.31.hook_attn_out\n",
      "Hooked blocks.31.hook_attn_out\n",
      "Hooked blocks.32.hook_attn_out\n",
      "Hooked blocks.32.hook_attn_out\n",
      "Hooked blocks.33.hook_attn_out\n",
      "Hooked blocks.33.hook_attn_out\n",
      "Hooked blocks.34.hook_attn_out\n",
      "Hooked blocks.34.hook_attn_out\n",
      "Hooked blocks.35.hook_attn_out\n",
      "Hooked blocks.35.hook_attn_out\n",
      "Hooked blocks.36.hook_attn_out\n",
      "Hooked blocks.36.hook_attn_out\n",
      "Hooked blocks.37.hook_attn_out\n",
      "Hooked blocks.37.hook_attn_out\n",
      "Hooked blocks.38.hook_attn_out\n",
      "Hooked blocks.38.hook_attn_out\n",
      "Hooked blocks.39.hook_attn_out\n",
      "Hooked blocks.39.hook_attn_out\n",
      "Hooked blocks.40.hook_attn_out\n",
      "Hooked blocks.40.hook_attn_out\n",
      "Hooked blocks.41.hook_attn_out\n",
      "Hooked blocks.41.hook_attn_out\n",
      "Hooked blocks.5.hook_attn_out\n",
      "Hooked blocks.5.hook_attn_out\n",
      "Hooked blocks.6.hook_attn_out\n",
      "Hooked blocks.6.hook_attn_out\n",
      "Hooked blocks.7.hook_attn_out\n",
      "Hooked blocks.7.hook_attn_out\n",
      "Hooked blocks.8.hook_attn_out\n",
      "Hooked blocks.8.hook_attn_out\n",
      "Hooked blocks.9.hook_attn_out\n",
      "Hooked blocks.9.hook_attn_out\n",
      "Hooked blocks.10.hook_attn_out\n",
      "Hooked blocks.10.hook_attn_out\n",
      "Hooked blocks.11.hook_attn_out\n",
      "Hooked blocks.11.hook_attn_out\n",
      "Hooked blocks.12.hook_attn_out\n",
      "Hooked blocks.12.hook_attn_out\n",
      "Hooked blocks.13.hook_attn_out\n",
      "Hooked blocks.13.hook_attn_out\n",
      "Hooked blocks.14.hook_attn_out\n",
      "Hooked blocks.14.hook_attn_out\n",
      "Hooked blocks.15.hook_attn_out\n",
      "Hooked blocks.15.hook_attn_out\n",
      "Hooked blocks.16.hook_attn_out\n",
      "Hooked blocks.16.hook_attn_out\n",
      "Hooked blocks.17.hook_attn_out\n",
      "Hooked blocks.17.hook_attn_out\n",
      "Hooked blocks.18.hook_attn_out\n",
      "Hooked blocks.18.hook_attn_out\n",
      "Hooked blocks.19.hook_attn_out\n",
      "Hooked blocks.19.hook_attn_out\n",
      "Hooked blocks.20.hook_attn_out\n",
      "Hooked blocks.20.hook_attn_out\n",
      "Hooked blocks.21.hook_attn_out\n",
      "Hooked blocks.21.hook_attn_out\n",
      "Hooked blocks.22.hook_attn_out\n",
      "Hooked blocks.22.hook_attn_out\n",
      "Hooked blocks.23.hook_attn_out\n",
      "Hooked blocks.23.hook_attn_out\n",
      "Hooked blocks.24.hook_attn_out\n",
      "Hooked blocks.24.hook_attn_out\n",
      "Hooked blocks.25.hook_attn_out\n",
      "Hooked blocks.25.hook_attn_out\n",
      "Hooked blocks.26.hook_attn_out\n",
      "Hooked blocks.26.hook_attn_out\n",
      "Hooked blocks.27.hook_attn_out\n",
      "Hooked blocks.27.hook_attn_out\n",
      "Hooked blocks.28.hook_attn_out\n",
      "Hooked blocks.28.hook_attn_out\n",
      "Hooked blocks.29.hook_attn_out\n",
      "Hooked blocks.29.hook_attn_out\n",
      "Hooked blocks.30.hook_attn_out\n",
      "Hooked blocks.30.hook_attn_out\n",
      "Hooked blocks.31.hook_attn_out\n",
      "Hooked blocks.31.hook_attn_out\n",
      "Hooked blocks.32.hook_attn_out\n",
      "Hooked blocks.32.hook_attn_out\n",
      "Hooked blocks.33.hook_attn_out\n",
      "Hooked blocks.33.hook_attn_out\n",
      "Hooked blocks.34.hook_attn_out\n",
      "Hooked blocks.34.hook_attn_out\n",
      "Hooked blocks.35.hook_attn_out\n",
      "Hooked blocks.35.hook_attn_out\n",
      "Hooked blocks.36.hook_attn_out\n",
      "Hooked blocks.36.hook_attn_out\n",
      "Hooked blocks.37.hook_attn_out\n",
      "Hooked blocks.37.hook_attn_out\n",
      "Hooked blocks.38.hook_attn_out\n",
      "Hooked blocks.38.hook_attn_out\n",
      "Hooked blocks.39.hook_attn_out\n",
      "Hooked blocks.39.hook_attn_out\n",
      "Hooked blocks.40.hook_attn_out\n",
      "Hooked blocks.40.hook_attn_out\n",
      "Hooked blocks.41.hook_attn_out\n",
      "Hooked blocks.41.hook_attn_out\n",
      "Hooked blocks.5.hook_attn_out\n",
      "Hooked blocks.5.hook_attn_out\n",
      "Hooked blocks.6.hook_attn_out\n",
      "Hooked blocks.6.hook_attn_out\n",
      "Hooked blocks.7.hook_attn_out\n",
      "Hooked blocks.7.hook_attn_out\n",
      "Hooked blocks.8.hook_attn_out\n",
      "Hooked blocks.8.hook_attn_out\n",
      "Hooked blocks.9.hook_attn_out\n",
      "Hooked blocks.9.hook_attn_out\n",
      "Hooked blocks.10.hook_attn_out\n",
      "Hooked blocks.10.hook_attn_out\n",
      "Hooked blocks.11.hook_attn_out\n",
      "Hooked blocks.11.hook_attn_out\n",
      "Hooked blocks.12.hook_attn_out\n",
      "Hooked blocks.12.hook_attn_out\n",
      "Hooked blocks.13.hook_attn_out\n",
      "Hooked blocks.13.hook_attn_out\n",
      "Hooked blocks.14.hook_attn_out\n",
      "Hooked blocks.14.hook_attn_out\n",
      "Hooked blocks.15.hook_attn_out\n",
      "Hooked blocks.15.hook_attn_out\n",
      "Hooked blocks.16.hook_attn_out\n",
      "Hooked blocks.16.hook_attn_out\n",
      "Hooked blocks.17.hook_attn_out\n",
      "Hooked blocks.17.hook_attn_out\n",
      "Hooked blocks.18.hook_attn_out\n",
      "Hooked blocks.18.hook_attn_out\n",
      "Hooked blocks.19.hook_attn_out\n",
      "Hooked blocks.19.hook_attn_out\n",
      "Hooked blocks.20.hook_attn_out\n",
      "Hooked blocks.20.hook_attn_out\n",
      "Hooked blocks.21.hook_attn_out\n",
      "Hooked blocks.21.hook_attn_out\n",
      "Hooked blocks.22.hook_attn_out\n",
      "Hooked blocks.22.hook_attn_out\n",
      "Hooked blocks.23.hook_attn_out\n",
      "Hooked blocks.23.hook_attn_out\n",
      "Hooked blocks.24.hook_attn_out\n",
      "Hooked blocks.24.hook_attn_out\n",
      "Hooked blocks.25.hook_attn_out\n",
      "Hooked blocks.25.hook_attn_out\n",
      "Hooked blocks.26.hook_attn_out\n",
      "Hooked blocks.26.hook_attn_out\n",
      "Hooked blocks.27.hook_attn_out\n",
      "Hooked blocks.27.hook_attn_out\n",
      "Hooked blocks.28.hook_attn_out\n",
      "Hooked blocks.28.hook_attn_out\n",
      "Hooked blocks.29.hook_attn_out\n",
      "Hooked blocks.29.hook_attn_out\n",
      "Hooked blocks.30.hook_attn_out\n",
      "Hooked blocks.30.hook_attn_out\n",
      "Hooked blocks.31.hook_attn_out\n",
      "Hooked blocks.31.hook_attn_out\n",
      "Hooked blocks.32.hook_attn_out\n",
      "Hooked blocks.32.hook_attn_out\n",
      "Hooked blocks.33.hook_attn_out\n",
      "Hooked blocks.33.hook_attn_out\n",
      "Hooked blocks.34.hook_attn_out\n",
      "Hooked blocks.34.hook_attn_out\n",
      "Hooked blocks.35.hook_attn_out\n",
      "Hooked blocks.35.hook_attn_out\n",
      "Hooked blocks.36.hook_attn_out\n",
      "Hooked blocks.36.hook_attn_out\n",
      "Hooked blocks.37.hook_attn_out\n",
      "Hooked blocks.37.hook_attn_out\n",
      "Hooked blocks.38.hook_attn_out\n",
      "Hooked blocks.38.hook_attn_out\n",
      "Hooked blocks.39.hook_attn_out\n",
      "Hooked blocks.39.hook_attn_out\n",
      "Hooked blocks.40.hook_attn_out\n",
      "Hooked blocks.40.hook_attn_out\n",
      "Hooked blocks.41.hook_attn_out\n",
      "Hooked blocks.41.hook_attn_out\n",
      "Hooked blocks.5.hook_attn_out\n",
      "Hooked blocks.5.hook_attn_out\n",
      "Hooked blocks.6.hook_attn_out\n",
      "Hooked blocks.6.hook_attn_out\n",
      "Hooked blocks.7.hook_attn_out\n",
      "Hooked blocks.7.hook_attn_out\n",
      "Hooked blocks.8.hook_attn_out\n",
      "Hooked blocks.8.hook_attn_out\n",
      "Hooked blocks.9.hook_attn_out\n",
      "Hooked blocks.9.hook_attn_out\n",
      "Hooked blocks.10.hook_attn_out\n",
      "Hooked blocks.10.hook_attn_out\n",
      "Hooked blocks.11.hook_attn_out\n",
      "Hooked blocks.11.hook_attn_out\n",
      "Hooked blocks.12.hook_attn_out\n",
      "Hooked blocks.12.hook_attn_out\n",
      "Hooked blocks.13.hook_attn_out\n",
      "Hooked blocks.13.hook_attn_out\n",
      "Hooked blocks.14.hook_attn_out\n",
      "Hooked blocks.14.hook_attn_out\n",
      "Hooked blocks.15.hook_attn_out\n",
      "Hooked blocks.15.hook_attn_out\n",
      "Hooked blocks.16.hook_attn_out\n",
      "Hooked blocks.16.hook_attn_out\n",
      "Hooked blocks.17.hook_attn_out\n",
      "Hooked blocks.17.hook_attn_out\n",
      "Hooked blocks.18.hook_attn_out\n",
      "Hooked blocks.18.hook_attn_out\n",
      "Hooked blocks.19.hook_attn_out\n",
      "Hooked blocks.19.hook_attn_out\n",
      "Hooked blocks.20.hook_attn_out\n",
      "Hooked blocks.20.hook_attn_out\n",
      "Hooked blocks.21.hook_attn_out\n",
      "Hooked blocks.21.hook_attn_out\n",
      "Hooked blocks.22.hook_attn_out\n",
      "Hooked blocks.22.hook_attn_out\n",
      "Hooked blocks.23.hook_attn_out\n",
      "Hooked blocks.23.hook_attn_out\n",
      "Hooked blocks.24.hook_attn_out\n",
      "Hooked blocks.24.hook_attn_out\n",
      "Hooked blocks.25.hook_attn_out\n",
      "Hooked blocks.25.hook_attn_out\n",
      "Hooked blocks.26.hook_attn_out\n",
      "Hooked blocks.26.hook_attn_out\n",
      "Hooked blocks.27.hook_attn_out\n",
      "Hooked blocks.27.hook_attn_out\n",
      "Hooked blocks.28.hook_attn_out\n",
      "Hooked blocks.28.hook_attn_out\n",
      "Hooked blocks.29.hook_attn_out\n",
      "Hooked blocks.29.hook_attn_out\n",
      "Hooked blocks.30.hook_attn_out\n",
      "Hooked blocks.30.hook_attn_out\n",
      "Hooked blocks.31.hook_attn_out\n",
      "Hooked blocks.31.hook_attn_out\n",
      "Hooked blocks.32.hook_attn_out\n",
      "Hooked blocks.32.hook_attn_out\n",
      "Hooked blocks.33.hook_attn_out\n",
      "Hooked blocks.33.hook_attn_out\n",
      "Hooked blocks.34.hook_attn_out\n",
      "Hooked blocks.34.hook_attn_out\n",
      "Hooked blocks.35.hook_attn_out\n",
      "Hooked blocks.35.hook_attn_out\n",
      "Hooked blocks.36.hook_attn_out\n",
      "Hooked blocks.36.hook_attn_out\n",
      "Hooked blocks.37.hook_attn_out\n",
      "Hooked blocks.37.hook_attn_out\n",
      "Hooked blocks.38.hook_attn_out\n",
      "Hooked blocks.38.hook_attn_out\n",
      "Hooked blocks.39.hook_attn_out\n",
      "Hooked blocks.39.hook_attn_out\n",
      "Hooked blocks.40.hook_attn_out\n",
      "Hooked blocks.40.hook_attn_out\n",
      "Hooked blocks.41.hook_attn_out\n",
      "Hooked blocks.41.hook_attn_out\n",
      "Hooked blocks.5.hook_attn_out\n",
      "Hooked blocks.5.hook_attn_out\n",
      "Hooked blocks.6.hook_attn_out\n",
      "Hooked blocks.6.hook_attn_out\n",
      "Hooked blocks.7.hook_attn_out\n",
      "Hooked blocks.7.hook_attn_out\n",
      "Hooked blocks.8.hook_attn_out\n",
      "Hooked blocks.8.hook_attn_out\n",
      "Hooked blocks.9.hook_attn_out\n",
      "Hooked blocks.9.hook_attn_out\n",
      "Hooked blocks.10.hook_attn_out\n",
      "Hooked blocks.10.hook_attn_out\n",
      "Hooked blocks.11.hook_attn_out\n",
      "Hooked blocks.11.hook_attn_out\n",
      "Hooked blocks.12.hook_attn_out\n",
      "Hooked blocks.12.hook_attn_out\n",
      "Hooked blocks.13.hook_attn_out\n",
      "Hooked blocks.13.hook_attn_out\n",
      "Hooked blocks.14.hook_attn_out\n",
      "Hooked blocks.14.hook_attn_out\n",
      "Hooked blocks.15.hook_attn_out\n",
      "Hooked blocks.15.hook_attn_out\n",
      "Hooked blocks.16.hook_attn_out\n",
      "Hooked blocks.16.hook_attn_out\n",
      "Hooked blocks.17.hook_attn_out\n",
      "Hooked blocks.17.hook_attn_out\n",
      "Hooked blocks.18.hook_attn_out\n",
      "Hooked blocks.18.hook_attn_out\n",
      "Hooked blocks.19.hook_attn_out\n",
      "Hooked blocks.19.hook_attn_out\n",
      "Hooked blocks.20.hook_attn_out\n",
      "Hooked blocks.20.hook_attn_out\n",
      "Hooked blocks.21.hook_attn_out\n",
      "Hooked blocks.21.hook_attn_out\n",
      "Hooked blocks.22.hook_attn_out\n",
      "Hooked blocks.22.hook_attn_out\n",
      "Hooked blocks.23.hook_attn_out\n",
      "Hooked blocks.23.hook_attn_out\n",
      "Hooked blocks.24.hook_attn_out\n",
      "Hooked blocks.24.hook_attn_out\n",
      "Hooked blocks.25.hook_attn_out\n",
      "Hooked blocks.25.hook_attn_out\n",
      "Hooked blocks.26.hook_attn_out\n",
      "Hooked blocks.26.hook_attn_out\n",
      "Hooked blocks.27.hook_attn_out\n",
      "Hooked blocks.27.hook_attn_out\n",
      "Hooked blocks.28.hook_attn_out\n",
      "Hooked blocks.28.hook_attn_out\n",
      "Hooked blocks.29.hook_attn_out\n",
      "Hooked blocks.29.hook_attn_out\n",
      "Hooked blocks.30.hook_attn_out\n",
      "Hooked blocks.30.hook_attn_out\n",
      "Hooked blocks.31.hook_attn_out\n",
      "Hooked blocks.31.hook_attn_out\n",
      "Hooked blocks.32.hook_attn_out\n",
      "Hooked blocks.32.hook_attn_out\n",
      "Hooked blocks.33.hook_attn_out\n",
      "Hooked blocks.33.hook_attn_out\n",
      "Hooked blocks.34.hook_attn_out\n",
      "Hooked blocks.34.hook_attn_out\n",
      "Hooked blocks.35.hook_attn_out\n",
      "Hooked blocks.35.hook_attn_out\n",
      "Hooked blocks.36.hook_attn_out\n",
      "Hooked blocks.36.hook_attn_out\n",
      "Hooked blocks.37.hook_attn_out\n",
      "Hooked blocks.37.hook_attn_out\n",
      "Hooked blocks.38.hook_attn_out\n",
      "Hooked blocks.38.hook_attn_out\n",
      "Hooked blocks.39.hook_attn_out\n",
      "Hooked blocks.39.hook_attn_out\n",
      "Hooked blocks.40.hook_attn_out\n",
      "Hooked blocks.40.hook_attn_out\n",
      "Hooked blocks.41.hook_attn_out\n",
      "Hooked blocks.41.hook_attn_out\n",
      "Hooked blocks.5.hook_attn_out\n",
      "Hooked blocks.5.hook_attn_out\n",
      "Hooked blocks.6.hook_attn_out\n",
      "Hooked blocks.6.hook_attn_out\n",
      "Hooked blocks.7.hook_attn_out\n",
      "Hooked blocks.7.hook_attn_out\n",
      "Hooked blocks.8.hook_attn_out\n",
      "Hooked blocks.8.hook_attn_out\n",
      "Hooked blocks.9.hook_attn_out\n",
      "Hooked blocks.9.hook_attn_out\n",
      "Hooked blocks.10.hook_attn_out\n",
      "Hooked blocks.10.hook_attn_out\n",
      "Hooked blocks.11.hook_attn_out\n",
      "Hooked blocks.11.hook_attn_out\n",
      "Hooked blocks.12.hook_attn_out\n",
      "Hooked blocks.12.hook_attn_out\n",
      "Hooked blocks.13.hook_attn_out\n",
      "Hooked blocks.13.hook_attn_out\n",
      "Hooked blocks.14.hook_attn_out\n",
      "Hooked blocks.14.hook_attn_out\n",
      "Hooked blocks.15.hook_attn_out\n",
      "Hooked blocks.15.hook_attn_out\n",
      "Hooked blocks.16.hook_attn_out\n",
      "Hooked blocks.16.hook_attn_out\n",
      "Hooked blocks.17.hook_attn_out\n",
      "Hooked blocks.17.hook_attn_out\n",
      "Hooked blocks.18.hook_attn_out\n",
      "Hooked blocks.18.hook_attn_out\n",
      "Hooked blocks.19.hook_attn_out\n",
      "Hooked blocks.19.hook_attn_out\n",
      "Hooked blocks.20.hook_attn_out\n",
      "Hooked blocks.20.hook_attn_out\n",
      "Hooked blocks.21.hook_attn_out\n",
      "Hooked blocks.21.hook_attn_out\n",
      "Hooked blocks.22.hook_attn_out\n",
      "Hooked blocks.22.hook_attn_out\n",
      "Hooked blocks.23.hook_attn_out\n",
      "Hooked blocks.23.hook_attn_out\n",
      "Hooked blocks.24.hook_attn_out\n",
      "Hooked blocks.24.hook_attn_out\n",
      "Hooked blocks.25.hook_attn_out\n",
      "Hooked blocks.25.hook_attn_out\n",
      "Hooked blocks.26.hook_attn_out\n",
      "Hooked blocks.26.hook_attn_out\n",
      "Hooked blocks.27.hook_attn_out\n",
      "Hooked blocks.27.hook_attn_out\n",
      "Hooked blocks.28.hook_attn_out\n",
      "Hooked blocks.28.hook_attn_out\n",
      "Hooked blocks.29.hook_attn_out\n",
      "Hooked blocks.29.hook_attn_out\n",
      "Hooked blocks.30.hook_attn_out\n",
      "Hooked blocks.30.hook_attn_out\n",
      "Hooked blocks.31.hook_attn_out\n",
      "Hooked blocks.31.hook_attn_out\n",
      "Hooked blocks.32.hook_attn_out\n",
      "Hooked blocks.32.hook_attn_out\n",
      "Hooked blocks.33.hook_attn_out\n",
      "Hooked blocks.33.hook_attn_out\n",
      "Hooked blocks.34.hook_attn_out\n",
      "Hooked blocks.34.hook_attn_out\n",
      "Hooked blocks.35.hook_attn_out\n",
      "Hooked blocks.35.hook_attn_out\n",
      "Hooked blocks.36.hook_attn_out\n",
      "Hooked blocks.36.hook_attn_out\n",
      "Hooked blocks.37.hook_attn_out\n",
      "Hooked blocks.37.hook_attn_out\n",
      "Hooked blocks.38.hook_attn_out\n",
      "Hooked blocks.38.hook_attn_out\n",
      "Hooked blocks.39.hook_attn_out\n",
      "Hooked blocks.39.hook_attn_out\n",
      "Hooked blocks.40.hook_attn_out\n",
      "Hooked blocks.40.hook_attn_out\n",
      "Hooked blocks.41.hook_attn_out\n",
      "Hooked blocks.41.hook_attn_out\n",
      "Hooked blocks.5.hook_attn_out\n",
      "Hooked blocks.5.hook_attn_out\n",
      "Hooked blocks.6.hook_attn_out\n",
      "Hooked blocks.6.hook_attn_out\n",
      "Hooked blocks.7.hook_attn_out\n",
      "Hooked blocks.7.hook_attn_out\n",
      "Hooked blocks.8.hook_attn_out\n",
      "Hooked blocks.8.hook_attn_out\n",
      "Hooked blocks.9.hook_attn_out\n",
      "Hooked blocks.9.hook_attn_out\n",
      "Hooked blocks.10.hook_attn_out\n",
      "Hooked blocks.10.hook_attn_out\n",
      "Hooked blocks.11.hook_attn_out\n",
      "Hooked blocks.11.hook_attn_out\n",
      "Hooked blocks.12.hook_attn_out\n",
      "Hooked blocks.12.hook_attn_out\n",
      "Hooked blocks.13.hook_attn_out\n",
      "Hooked blocks.13.hook_attn_out\n",
      "Hooked blocks.14.hook_attn_out\n",
      "Hooked blocks.14.hook_attn_out\n",
      "Hooked blocks.15.hook_attn_out\n",
      "Hooked blocks.15.hook_attn_out\n",
      "Hooked blocks.16.hook_attn_out\n",
      "Hooked blocks.16.hook_attn_out\n",
      "Hooked blocks.17.hook_attn_out\n",
      "Hooked blocks.17.hook_attn_out\n",
      "Hooked blocks.18.hook_attn_out\n",
      "Hooked blocks.18.hook_attn_out\n",
      "Hooked blocks.19.hook_attn_out\n",
      "Hooked blocks.19.hook_attn_out\n",
      "Hooked blocks.20.hook_attn_out\n",
      "Hooked blocks.20.hook_attn_out\n",
      "Hooked blocks.21.hook_attn_out\n",
      "Hooked blocks.21.hook_attn_out\n",
      "Hooked blocks.22.hook_attn_out\n",
      "Hooked blocks.22.hook_attn_out\n",
      "Hooked blocks.23.hook_attn_out\n",
      "Hooked blocks.23.hook_attn_out\n",
      "Hooked blocks.24.hook_attn_out\n",
      "Hooked blocks.24.hook_attn_out\n",
      "Hooked blocks.25.hook_attn_out\n",
      "Hooked blocks.25.hook_attn_out\n",
      "Hooked blocks.26.hook_attn_out\n",
      "Hooked blocks.26.hook_attn_out\n",
      "Hooked blocks.27.hook_attn_out\n",
      "Hooked blocks.27.hook_attn_out\n",
      "Hooked blocks.28.hook_attn_out\n",
      "Hooked blocks.28.hook_attn_out\n",
      "Hooked blocks.29.hook_attn_out\n",
      "Hooked blocks.29.hook_attn_out\n",
      "Hooked blocks.30.hook_attn_out\n",
      "Hooked blocks.30.hook_attn_out\n",
      "Hooked blocks.31.hook_attn_out\n",
      "Hooked blocks.31.hook_attn_out\n",
      "Hooked blocks.32.hook_attn_out\n",
      "Hooked blocks.32.hook_attn_out\n",
      "Hooked blocks.33.hook_attn_out\n",
      "Hooked blocks.33.hook_attn_out\n",
      "Hooked blocks.34.hook_attn_out\n",
      "Hooked blocks.34.hook_attn_out\n",
      "Hooked blocks.35.hook_attn_out\n",
      "Hooked blocks.35.hook_attn_out\n",
      "Hooked blocks.36.hook_attn_out\n",
      "Hooked blocks.36.hook_attn_out\n",
      "Hooked blocks.37.hook_attn_out\n",
      "Hooked blocks.37.hook_attn_out\n",
      "Hooked blocks.38.hook_attn_out\n",
      "Hooked blocks.38.hook_attn_out\n",
      "Hooked blocks.39.hook_attn_out\n",
      "Hooked blocks.39.hook_attn_out\n",
      "Hooked blocks.40.hook_attn_out\n",
      "Hooked blocks.40.hook_attn_out\n",
      "Hooked blocks.41.hook_attn_out\n",
      "Hooked blocks.41.hook_attn_out\n",
      "Hooked blocks.5.hook_attn_out\n",
      "Hooked blocks.5.hook_attn_out\n",
      "Hooked blocks.6.hook_attn_out\n",
      "Hooked blocks.6.hook_attn_out\n",
      "Hooked blocks.7.hook_attn_out\n",
      "Hooked blocks.7.hook_attn_out\n",
      "Hooked blocks.8.hook_attn_out\n",
      "Hooked blocks.8.hook_attn_out\n",
      "Hooked blocks.9.hook_attn_out\n",
      "Hooked blocks.9.hook_attn_out\n",
      "Hooked blocks.10.hook_attn_out\n",
      "Hooked blocks.10.hook_attn_out\n",
      "Hooked blocks.11.hook_attn_out\n",
      "Hooked blocks.11.hook_attn_out\n",
      "Hooked blocks.12.hook_attn_out\n",
      "Hooked blocks.12.hook_attn_out\n",
      "Hooked blocks.13.hook_attn_out\n",
      "Hooked blocks.13.hook_attn_out\n",
      "Hooked blocks.14.hook_attn_out\n",
      "Hooked blocks.14.hook_attn_out\n",
      "Hooked blocks.15.hook_attn_out\n",
      "Hooked blocks.15.hook_attn_out\n",
      "Hooked blocks.16.hook_attn_out\n",
      "Hooked blocks.16.hook_attn_out\n",
      "Hooked blocks.17.hook_attn_out\n",
      "Hooked blocks.17.hook_attn_out\n",
      "Hooked blocks.18.hook_attn_out\n",
      "Hooked blocks.18.hook_attn_out\n",
      "Hooked blocks.19.hook_attn_out\n",
      "Hooked blocks.19.hook_attn_out\n",
      "Hooked blocks.20.hook_attn_out\n",
      "Hooked blocks.20.hook_attn_out\n",
      "Hooked blocks.21.hook_attn_out\n",
      "Hooked blocks.21.hook_attn_out\n",
      "Hooked blocks.22.hook_attn_out\n",
      "Hooked blocks.22.hook_attn_out\n",
      "Hooked blocks.23.hook_attn_out\n",
      "Hooked blocks.23.hook_attn_out\n",
      "Hooked blocks.24.hook_attn_out\n",
      "Hooked blocks.24.hook_attn_out\n",
      "Hooked blocks.25.hook_attn_out\n",
      "Hooked blocks.25.hook_attn_out\n",
      "Hooked blocks.26.hook_attn_out\n",
      "Hooked blocks.26.hook_attn_out\n",
      "Hooked blocks.27.hook_attn_out\n",
      "Hooked blocks.27.hook_attn_out\n",
      "Hooked blocks.28.hook_attn_out\n",
      "Hooked blocks.28.hook_attn_out\n",
      "Hooked blocks.29.hook_attn_out\n",
      "Hooked blocks.29.hook_attn_out\n",
      "Hooked blocks.30.hook_attn_out\n",
      "Hooked blocks.30.hook_attn_out\n",
      "Hooked blocks.31.hook_attn_out\n",
      "Hooked blocks.31.hook_attn_out\n",
      "Hooked blocks.32.hook_attn_out\n",
      "Hooked blocks.32.hook_attn_out\n",
      "Hooked blocks.33.hook_attn_out\n",
      "Hooked blocks.33.hook_attn_out\n",
      "Hooked blocks.34.hook_attn_out\n",
      "Hooked blocks.34.hook_attn_out\n",
      "Hooked blocks.35.hook_attn_out\n",
      "Hooked blocks.35.hook_attn_out\n",
      "Hooked blocks.36.hook_attn_out\n",
      "Hooked blocks.36.hook_attn_out\n",
      "Hooked blocks.37.hook_attn_out\n",
      "Hooked blocks.37.hook_attn_out\n",
      "Hooked blocks.38.hook_attn_out\n",
      "Hooked blocks.38.hook_attn_out\n",
      "Hooked blocks.39.hook_attn_out\n",
      "Hooked blocks.39.hook_attn_out\n",
      "Hooked blocks.40.hook_attn_out\n",
      "Hooked blocks.40.hook_attn_out\n",
      "Hooked blocks.41.hook_attn_out\n",
      "Hooked blocks.41.hook_attn_out\n",
      "Hooked blocks.5.hook_attn_out\n",
      "Hooked blocks.5.hook_attn_out\n",
      "Hooked blocks.6.hook_attn_out\n",
      "Hooked blocks.6.hook_attn_out\n",
      "Hooked blocks.7.hook_attn_out\n",
      "Hooked blocks.7.hook_attn_out\n",
      "Hooked blocks.8.hook_attn_out\n",
      "Hooked blocks.8.hook_attn_out\n",
      "Hooked blocks.9.hook_attn_out\n",
      "Hooked blocks.9.hook_attn_out\n",
      "Hooked blocks.10.hook_attn_out\n",
      "Hooked blocks.10.hook_attn_out\n",
      "Hooked blocks.11.hook_attn_out\n",
      "Hooked blocks.11.hook_attn_out\n",
      "Hooked blocks.12.hook_attn_out\n",
      "Hooked blocks.12.hook_attn_out\n",
      "Hooked blocks.13.hook_attn_out\n",
      "Hooked blocks.13.hook_attn_out\n",
      "Hooked blocks.14.hook_attn_out\n",
      "Hooked blocks.14.hook_attn_out\n",
      "Hooked blocks.15.hook_attn_out\n",
      "Hooked blocks.15.hook_attn_out\n",
      "Hooked blocks.16.hook_attn_out\n",
      "Hooked blocks.16.hook_attn_out\n",
      "Hooked blocks.17.hook_attn_out\n",
      "Hooked blocks.17.hook_attn_out\n",
      "Hooked blocks.18.hook_attn_out\n",
      "Hooked blocks.18.hook_attn_out\n",
      "Hooked blocks.19.hook_attn_out\n",
      "Hooked blocks.19.hook_attn_out\n",
      "Hooked blocks.20.hook_attn_out\n",
      "Hooked blocks.20.hook_attn_out\n",
      "Hooked blocks.21.hook_attn_out\n",
      "Hooked blocks.21.hook_attn_out\n",
      "Hooked blocks.22.hook_attn_out\n",
      "Hooked blocks.22.hook_attn_out\n",
      "Hooked blocks.23.hook_attn_out\n",
      "Hooked blocks.23.hook_attn_out\n",
      "Hooked blocks.24.hook_attn_out\n",
      "Hooked blocks.24.hook_attn_out\n",
      "Hooked blocks.25.hook_attn_out\n",
      "Hooked blocks.25.hook_attn_out\n",
      "Hooked blocks.26.hook_attn_out\n",
      "Hooked blocks.26.hook_attn_out\n",
      "Hooked blocks.27.hook_attn_out\n",
      "Hooked blocks.27.hook_attn_out\n",
      "Hooked blocks.28.hook_attn_out\n",
      "Hooked blocks.28.hook_attn_out\n",
      "Hooked blocks.29.hook_attn_out\n",
      "Hooked blocks.29.hook_attn_out\n",
      "Hooked blocks.30.hook_attn_out\n",
      "Hooked blocks.30.hook_attn_out\n",
      "Hooked blocks.31.hook_attn_out\n",
      "Hooked blocks.31.hook_attn_out\n",
      "Hooked blocks.32.hook_attn_out\n",
      "Hooked blocks.32.hook_attn_out\n",
      "Hooked blocks.33.hook_attn_out\n",
      "Hooked blocks.33.hook_attn_out\n",
      "Hooked blocks.34.hook_attn_out\n",
      "Hooked blocks.34.hook_attn_out\n",
      "Hooked blocks.35.hook_attn_out\n",
      "Hooked blocks.35.hook_attn_out\n",
      "Hooked blocks.36.hook_attn_out\n",
      "Hooked blocks.36.hook_attn_out\n",
      "Hooked blocks.37.hook_attn_out\n",
      "Hooked blocks.37.hook_attn_out\n",
      "Hooked blocks.38.hook_attn_out\n",
      "Hooked blocks.38.hook_attn_out\n",
      "Hooked blocks.39.hook_attn_out\n",
      "Hooked blocks.39.hook_attn_out\n",
      "Hooked blocks.40.hook_attn_out\n",
      "Hooked blocks.40.hook_attn_out\n",
      "Hooked blocks.41.hook_attn_out\n",
      "Hooked blocks.41.hook_attn_out\n",
      "Hooked blocks.5.hook_attn_out\n",
      "Hooked blocks.5.hook_attn_out\n",
      "Hooked blocks.6.hook_attn_out\n",
      "Hooked blocks.6.hook_attn_out\n",
      "Hooked blocks.7.hook_attn_out\n",
      "Hooked blocks.7.hook_attn_out\n",
      "Hooked blocks.8.hook_attn_out\n",
      "Hooked blocks.8.hook_attn_out\n",
      "Hooked blocks.9.hook_attn_out\n",
      "Hooked blocks.9.hook_attn_out\n",
      "Hooked blocks.10.hook_attn_out\n",
      "Hooked blocks.10.hook_attn_out\n",
      "Hooked blocks.11.hook_attn_out\n",
      "Hooked blocks.11.hook_attn_out\n",
      "Hooked blocks.12.hook_attn_out\n",
      "Hooked blocks.12.hook_attn_out\n",
      "Hooked blocks.13.hook_attn_out\n",
      "Hooked blocks.13.hook_attn_out\n",
      "Hooked blocks.14.hook_attn_out\n",
      "Hooked blocks.14.hook_attn_out\n",
      "Hooked blocks.15.hook_attn_out\n",
      "Hooked blocks.15.hook_attn_out\n",
      "Hooked blocks.16.hook_attn_out\n",
      "Hooked blocks.16.hook_attn_out\n",
      "Hooked blocks.17.hook_attn_out\n",
      "Hooked blocks.17.hook_attn_out\n",
      "Hooked blocks.18.hook_attn_out\n",
      "Hooked blocks.18.hook_attn_out\n",
      "Hooked blocks.19.hook_attn_out\n",
      "Hooked blocks.19.hook_attn_out\n",
      "Hooked blocks.20.hook_attn_out\n",
      "Hooked blocks.20.hook_attn_out\n",
      "Hooked blocks.21.hook_attn_out\n",
      "Hooked blocks.21.hook_attn_out\n",
      "Hooked blocks.22.hook_attn_out\n",
      "Hooked blocks.22.hook_attn_out\n",
      "Hooked blocks.23.hook_attn_out\n",
      "Hooked blocks.23.hook_attn_out\n",
      "Hooked blocks.24.hook_attn_out\n",
      "Hooked blocks.24.hook_attn_out\n",
      "Hooked blocks.25.hook_attn_out\n",
      "Hooked blocks.25.hook_attn_out\n",
      "Hooked blocks.26.hook_attn_out\n",
      "Hooked blocks.26.hook_attn_out\n",
      "Hooked blocks.27.hook_attn_out\n",
      "Hooked blocks.27.hook_attn_out\n",
      "Hooked blocks.28.hook_attn_out\n",
      "Hooked blocks.28.hook_attn_out\n",
      "Hooked blocks.29.hook_attn_out\n",
      "Hooked blocks.29.hook_attn_out\n",
      "Hooked blocks.30.hook_attn_out\n",
      "Hooked blocks.30.hook_attn_out\n",
      "Hooked blocks.31.hook_attn_out\n",
      "Hooked blocks.31.hook_attn_out\n",
      "Hooked blocks.32.hook_attn_out\n",
      "Hooked blocks.32.hook_attn_out\n",
      "Hooked blocks.33.hook_attn_out\n",
      "Hooked blocks.33.hook_attn_out\n",
      "Hooked blocks.34.hook_attn_out\n",
      "Hooked blocks.34.hook_attn_out\n",
      "Hooked blocks.35.hook_attn_out\n",
      "Hooked blocks.35.hook_attn_out\n",
      "Hooked blocks.36.hook_attn_out\n",
      "Hooked blocks.36.hook_attn_out\n",
      "Hooked blocks.37.hook_attn_out\n",
      "Hooked blocks.37.hook_attn_out\n",
      "Hooked blocks.38.hook_attn_out\n",
      "Hooked blocks.38.hook_attn_out\n",
      "Hooked blocks.39.hook_attn_out\n",
      "Hooked blocks.39.hook_attn_out\n",
      "Hooked blocks.40.hook_attn_out\n",
      "Hooked blocks.40.hook_attn_out\n",
      "Hooked blocks.41.hook_attn_out\n",
      "Hooked blocks.41.hook_attn_out\n",
      "Hooked blocks.5.hook_attn_out\n",
      "Hooked blocks.5.hook_attn_out\n",
      "Hooked blocks.6.hook_attn_out\n",
      "Hooked blocks.6.hook_attn_out\n",
      "Hooked blocks.7.hook_attn_out\n",
      "Hooked blocks.7.hook_attn_out\n",
      "Hooked blocks.8.hook_attn_out\n",
      "Hooked blocks.8.hook_attn_out\n",
      "Hooked blocks.9.hook_attn_out\n",
      "Hooked blocks.9.hook_attn_out\n",
      "Hooked blocks.10.hook_attn_out\n",
      "Hooked blocks.10.hook_attn_out\n",
      "Hooked blocks.11.hook_attn_out\n",
      "Hooked blocks.11.hook_attn_out\n",
      "Hooked blocks.12.hook_attn_out\n",
      "Hooked blocks.12.hook_attn_out\n",
      "Hooked blocks.13.hook_attn_out\n",
      "Hooked blocks.13.hook_attn_out\n",
      "Hooked blocks.14.hook_attn_out\n",
      "Hooked blocks.14.hook_attn_out\n",
      "Hooked blocks.15.hook_attn_out\n",
      "Hooked blocks.15.hook_attn_out\n",
      "Hooked blocks.16.hook_attn_out\n",
      "Hooked blocks.16.hook_attn_out\n",
      "Hooked blocks.17.hook_attn_out\n",
      "Hooked blocks.17.hook_attn_out\n",
      "Hooked blocks.18.hook_attn_out\n",
      "Hooked blocks.18.hook_attn_out\n",
      "Hooked blocks.19.hook_attn_out\n",
      "Hooked blocks.19.hook_attn_out\n",
      "Hooked blocks.20.hook_attn_out\n",
      "Hooked blocks.20.hook_attn_out\n",
      "Hooked blocks.21.hook_attn_out\n",
      "Hooked blocks.21.hook_attn_out\n",
      "Hooked blocks.22.hook_attn_out\n",
      "Hooked blocks.22.hook_attn_out\n",
      "Hooked blocks.23.hook_attn_out\n",
      "Hooked blocks.23.hook_attn_out\n",
      "Hooked blocks.24.hook_attn_out\n",
      "Hooked blocks.24.hook_attn_out\n",
      "Hooked blocks.25.hook_attn_out\n",
      "Hooked blocks.25.hook_attn_out\n",
      "Hooked blocks.26.hook_attn_out\n",
      "Hooked blocks.26.hook_attn_out\n",
      "Hooked blocks.27.hook_attn_out\n",
      "Hooked blocks.27.hook_attn_out\n",
      "Hooked blocks.28.hook_attn_out\n",
      "Hooked blocks.28.hook_attn_out\n",
      "Hooked blocks.29.hook_attn_out\n",
      "Hooked blocks.29.hook_attn_out\n",
      "Hooked blocks.30.hook_attn_out\n",
      "Hooked blocks.30.hook_attn_out\n",
      "Hooked blocks.31.hook_attn_out\n",
      "Hooked blocks.31.hook_attn_out\n",
      "Hooked blocks.32.hook_attn_out\n",
      "Hooked blocks.32.hook_attn_out\n",
      "Hooked blocks.33.hook_attn_out\n",
      "Hooked blocks.33.hook_attn_out\n",
      "Hooked blocks.34.hook_attn_out\n",
      "Hooked blocks.34.hook_attn_out\n",
      "Hooked blocks.35.hook_attn_out\n",
      "Hooked blocks.35.hook_attn_out\n",
      "Hooked blocks.36.hook_attn_out\n",
      "Hooked blocks.36.hook_attn_out\n",
      "Hooked blocks.37.hook_attn_out\n",
      "Hooked blocks.37.hook_attn_out\n",
      "Hooked blocks.38.hook_attn_out\n",
      "Hooked blocks.38.hook_attn_out\n",
      "Hooked blocks.39.hook_attn_out\n",
      "Hooked blocks.39.hook_attn_out\n",
      "Hooked blocks.40.hook_attn_out\n",
      "Hooked blocks.40.hook_attn_out\n",
      "Hooked blocks.41.hook_attn_out\n",
      "Hooked blocks.41.hook_attn_out\n",
      "Cache completed, torch.Size([42, 1566, 3584])\n",
      "Trying cpu multiprocessing\n"
     ]
    },
    {
     "name": "stderr",
     "output_type": "stream",
     "text": [
      "/data/phillip_guo/miniconda3/envs/unlrn/lib/python3.10/site-packages/sklearn/linear_model/_sag.py:350: ConvergenceWarning: The max_iter was reached which means the coef_ did not converge\n",
      "  warnings.warn(\n",
      "/data/phillip_guo/miniconda3/envs/unlrn/lib/python3.10/site-packages/sklearn/linear_model/_sag.py:350: ConvergenceWarning: The max_iter was reached which means the coef_ did not converge\n",
      "  warnings.warn(\n",
      "/data/phillip_guo/miniconda3/envs/unlrn/lib/python3.10/site-packages/sklearn/linear_model/_sag.py:350: ConvergenceWarning: The max_iter was reached which means the coef_ did not converge\n",
      "  warnings.warn(\n",
      "/data/phillip_guo/miniconda3/envs/unlrn/lib/python3.10/site-packages/sklearn/linear_model/_sag.py:350: ConvergenceWarning: The max_iter was reached which means the coef_ did not converge\n",
      "  warnings.warn(\n",
      "/data/phillip_guo/miniconda3/envs/unlrn/lib/python3.10/site-packages/sklearn/linear_model/_sag.py:350: ConvergenceWarning: The max_iter was reached which means the coef_ did not converge\n",
      "  warnings.warn(\n",
      "/data/phillip_guo/miniconda3/envs/unlrn/lib/python3.10/site-packages/sklearn/linear_model/_sag.py:350: ConvergenceWarning: The max_iter was reached which means the coef_ did not converge\n",
      "  warnings.warn(\n",
      "/data/phillip_guo/miniconda3/envs/unlrn/lib/python3.10/site-packages/sklearn/linear_model/_sag.py:350: ConvergenceWarning: The max_iter was reached which means the coef_ did not converge\n",
      "  warnings.warn(\n",
      "/data/phillip_guo/miniconda3/envs/unlrn/lib/python3.10/site-packages/sklearn/linear_model/_sag.py:350: ConvergenceWarning: The max_iter was reached which means the coef_ did not converge\n",
      "  warnings.warn(\n",
      "/data/phillip_guo/miniconda3/envs/unlrn/lib/python3.10/site-packages/sklearn/linear_model/_sag.py:350: ConvergenceWarning: The max_iter was reached which means the coef_ did not converge\n",
      "  warnings.warn(\n",
      "/data/phillip_guo/miniconda3/envs/unlrn/lib/python3.10/site-packages/sklearn/linear_model/_sag.py:350: ConvergenceWarning: The max_iter was reached which means the coef_ did not converge\n",
      "  warnings.warn(\n",
      "/data/phillip_guo/miniconda3/envs/unlrn/lib/python3.10/site-packages/sklearn/linear_model/_sag.py:350: ConvergenceWarning: The max_iter was reached which means the coef_ did not converge\n",
      "  warnings.warn(\n",
      "/data/phillip_guo/miniconda3/envs/unlrn/lib/python3.10/site-packages/sklearn/linear_model/_sag.py:350: ConvergenceWarning: The max_iter was reached which means the coef_ did not converge\n",
      "  warnings.warn(\n",
      "/data/phillip_guo/miniconda3/envs/unlrn/lib/python3.10/site-packages/sklearn/linear_model/_sag.py:350: ConvergenceWarning: The max_iter was reached which means the coef_ did not converge\n",
      "  warnings.warn(\n",
      "/data/phillip_guo/miniconda3/envs/unlrn/lib/python3.10/site-packages/sklearn/linear_model/_sag.py:350: ConvergenceWarning: The max_iter was reached which means the coef_ did not converge\n",
      "  warnings.warn(\n",
      "/data/phillip_guo/miniconda3/envs/unlrn/lib/python3.10/site-packages/sklearn/linear_model/_sag.py:350: ConvergenceWarning: The max_iter was reached which means the coef_ did not converge\n",
      "  warnings.warn(\n",
      "/data/phillip_guo/miniconda3/envs/unlrn/lib/python3.10/site-packages/sklearn/linear_model/_sag.py:350: ConvergenceWarning: The max_iter was reached which means the coef_ did not converge\n",
      "  warnings.warn(\n",
      "/data/phillip_guo/miniconda3/envs/unlrn/lib/python3.10/site-packages/sklearn/linear_model/_sag.py:350: ConvergenceWarning: The max_iter was reached which means the coef_ did not converge\n",
      "  warnings.warn(\n",
      "/data/phillip_guo/miniconda3/envs/unlrn/lib/python3.10/site-packages/sklearn/linear_model/_sag.py:350: ConvergenceWarning: The max_iter was reached which means the coef_ did not converge\n",
      "  warnings.warn(\n",
      "/data/phillip_guo/miniconda3/envs/unlrn/lib/python3.10/site-packages/sklearn/linear_model/_sag.py:350: ConvergenceWarning: The max_iter was reached which means the coef_ did not converge\n",
      "  warnings.warn(\n",
      "/data/phillip_guo/miniconda3/envs/unlrn/lib/python3.10/site-packages/sklearn/linear_model/_sag.py:350: ConvergenceWarning: The max_iter was reached which means the coef_ did not converge\n",
      "  warnings.warn(\n",
      "/data/phillip_guo/miniconda3/envs/unlrn/lib/python3.10/site-packages/sklearn/linear_model/_sag.py:350: ConvergenceWarning: The max_iter was reached which means the coef_ did not converge\n",
      "  warnings.warn(\n",
      "/data/phillip_guo/miniconda3/envs/unlrn/lib/python3.10/site-packages/sklearn/linear_model/_sag.py:350: ConvergenceWarning: The max_iter was reached which means the coef_ did not converge\n",
      "  warnings.warn(\n",
      "/data/phillip_guo/miniconda3/envs/unlrn/lib/python3.10/site-packages/sklearn/linear_model/_sag.py:350: ConvergenceWarning: The max_iter was reached which means the coef_ did not converge\n",
      "  warnings.warn(\n",
      "/data/phillip_guo/miniconda3/envs/unlrn/lib/python3.10/site-packages/sklearn/linear_model/_sag.py:350: ConvergenceWarning: The max_iter was reached which means the coef_ did not converge\n",
      "  warnings.warn(\n",
      "/data/phillip_guo/miniconda3/envs/unlrn/lib/python3.10/site-packages/sklearn/linear_model/_sag.py:350: ConvergenceWarning: The max_iter was reached which means the coef_ did not converge\n",
      "  warnings.warn(\n",
      "/data/phillip_guo/miniconda3/envs/unlrn/lib/python3.10/site-packages/sklearn/linear_model/_sag.py:350: ConvergenceWarning: The max_iter was reached which means the coef_ did not converge\n",
      "  warnings.warn(\n",
      "/data/phillip_guo/miniconda3/envs/unlrn/lib/python3.10/site-packages/sklearn/linear_model/_sag.py:350: ConvergenceWarning: The max_iter was reached which means the coef_ did not converge\n",
      "  warnings.warn(\n",
      "/data/phillip_guo/miniconda3/envs/unlrn/lib/python3.10/site-packages/sklearn/linear_model/_sag.py:350: ConvergenceWarning: The max_iter was reached which means the coef_ did not converge\n",
      "  warnings.warn(\n",
      "/data/phillip_guo/miniconda3/envs/unlrn/lib/python3.10/site-packages/sklearn/linear_model/_sag.py:350: ConvergenceWarning: The max_iter was reached which means the coef_ did not converge\n",
      "  warnings.warn(\n",
      "/data/phillip_guo/miniconda3/envs/unlrn/lib/python3.10/site-packages/sklearn/linear_model/_sag.py:350: ConvergenceWarning: The max_iter was reached which means the coef_ did not converge\n",
      "  warnings.warn(\n",
      "/data/phillip_guo/miniconda3/envs/unlrn/lib/python3.10/site-packages/sklearn/linear_model/_sag.py:350: ConvergenceWarning: The max_iter was reached which means the coef_ did not converge\n",
      "  warnings.warn(\n",
      "/data/phillip_guo/miniconda3/envs/unlrn/lib/python3.10/site-packages/sklearn/linear_model/_sag.py:350: ConvergenceWarning: The max_iter was reached which means the coef_ did not converge\n",
      "  warnings.warn(\n",
      "/data/phillip_guo/miniconda3/envs/unlrn/lib/python3.10/site-packages/sklearn/linear_model/_sag.py:350: ConvergenceWarning: The max_iter was reached which means the coef_ did not converge\n",
      "  warnings.warn(\n",
      "/data/phillip_guo/miniconda3/envs/unlrn/lib/python3.10/site-packages/sklearn/linear_model/_sag.py:350: ConvergenceWarning: The max_iter was reached which means the coef_ did not converge\n",
      "  warnings.warn(\n",
      "/data/phillip_guo/miniconda3/envs/unlrn/lib/python3.10/site-packages/sklearn/linear_model/_sag.py:350: ConvergenceWarning: The max_iter was reached which means the coef_ did not converge\n",
      "  warnings.warn(\n",
      "/data/phillip_guo/miniconda3/envs/unlrn/lib/python3.10/site-packages/sklearn/linear_model/_sag.py:350: ConvergenceWarning: The max_iter was reached which means the coef_ did not converge\n",
      "  warnings.warn(\n",
      "/data/phillip_guo/miniconda3/envs/unlrn/lib/python3.10/site-packages/sklearn/linear_model/_sag.py:350: ConvergenceWarning: The max_iter was reached which means the coef_ did not converge\n",
      "  warnings.warn(\n",
      "/data/phillip_guo/miniconda3/envs/unlrn/lib/python3.10/site-packages/sklearn/linear_model/_sag.py:350: ConvergenceWarning: The max_iter was reached which means the coef_ did not converge\n",
      "  warnings.warn(\n",
      "/data/phillip_guo/miniconda3/envs/unlrn/lib/python3.10/site-packages/sklearn/linear_model/_sag.py:350: ConvergenceWarning: The max_iter was reached which means the coef_ did not converge\n",
      "  warnings.warn(\n",
      "/data/phillip_guo/miniconda3/envs/unlrn/lib/python3.10/site-packages/sklearn/linear_model/_sag.py:350: ConvergenceWarning: The max_iter was reached which means the coef_ did not converge\n",
      "  warnings.warn(\n",
      "/data/phillip_guo/miniconda3/envs/unlrn/lib/python3.10/site-packages/sklearn/linear_model/_sag.py:350: ConvergenceWarning: The max_iter was reached which means the coef_ did not converge\n",
      "  warnings.warn(\n"
     ]
    },
    {
     "name": "stdout",
     "output_type": "stream",
     "text": [
      "Time taken: 54.88229584693909 seconds\n",
      "finished multiprocessing\n",
      "[0.4968152866242038, 0.6847133757961783, 0.9267515923566879, 0.9777070063694268, 0.9936305732484076, 0.9936305732484076, 0.9904458598726115, 0.9872611464968153, 0.9936305732484076, 0.9872611464968153, 0.9904458598726115, 0.9904458598726115, 0.9840764331210191, 0.9904458598726115, 0.9904458598726115, 0.9904458598726115, 0.9904458598726115, 0.9936305732484076, 0.9936305732484076, 0.9936305732484076, 0.9904458598726115, 0.9872611464968153, 0.9840764331210191, 0.9840764331210191, 0.9808917197452229, 0.9777070063694268, 0.9777070063694268, 0.9777070063694268, 0.9585987261146497, 0.9554140127388535, 0.9363057324840764, 0.9394904458598726, 0.9299363057324841, 0.9267515923566879, 0.9299363057324841, 0.9299363057324841, 0.9299363057324841, 0.9235668789808917, 0.9203821656050956, 0.9203821656050956, 0.9203821656050956, 0.9140127388535032]\n",
      "{0: 0.4968152866242038, 1: 0.6847133757961783, 2: 0.9267515923566879, 3: 0.9777070063694268, 4: 0.9936305732484076, 5: 0.9936305732484076, 6: 0.9904458598726115, 7: 0.9872611464968153, 8: 0.9936305732484076, 9: 0.9872611464968153, 10: 0.9904458598726115, 11: 0.9904458598726115, 12: 0.9840764331210191, 13: 0.9904458598726115, 14: 0.9904458598726115, 15: 0.9904458598726115, 16: 0.9904458598726115, 17: 0.9936305732484076, 18: 0.9936305732484076, 19: 0.9936305732484076, 20: 0.9904458598726115, 21: 0.9872611464968153, 22: 0.9840764331210191, 23: 0.9840764331210191, 24: 0.9808917197452229, 25: 0.9777070063694268, 26: 0.9777070063694268, 27: 0.9777070063694268, 28: 0.9585987261146497, 29: 0.9554140127388535, 30: 0.9363057324840764, 31: 0.9394904458598726, 32: 0.9299363057324841, 33: 0.9267515923566879, 34: 0.9299363057324841, 35: 0.9299363057324841, 36: 0.9299363057324841, 37: 0.9235668789808917, 38: 0.9203821656050956, 39: 0.9203821656050956, 40: 0.9203821656050956, 41: 0.9140127388535032}\n"
     ]
    },
    {
     "name": "stderr",
     "output_type": "stream",
     "text": [
      "/data/phillip_guo/miniconda3/envs/unlrn/lib/python3.10/site-packages/sklearn/linear_model/_sag.py:350: ConvergenceWarning: The max_iter was reached which means the coef_ did not converge\n",
      "  warnings.warn(\n"
     ]
    }
   ],
   "source": [
    "# Add mean ablate hooks\n",
    "ablate_first_layer = 5\n",
    "\n",
    "def mean_ablate_hook(act, hook, mean_cache):\n",
    "    if hook.layer() >= ablate_first_layer:\n",
    "        print(f'Hooked {hook.name}')\n",
    "        act = mean_cache[hook.name]\n",
    "    return act\n",
    "\n",
    "model.add_hook(\n",
    "    lambda name: 'attn_out' in name,\n",
    "    functools.partial(mean_ablate_hook, mean_cache=mean_cache),\n",
    "    \"fwd\"\n",
    ")\n",
    "results[f'Prompt + Ablate Heads at Layers >= {ablate_first_layer}'] = probe_across_layers(model, full_prompt_toks, df['sport'].tolist(), batch_size=128)\n",
    "\n",
    "# Add mean ablate hooks\n",
    "model.add_hook(\n",
    "    lambda name: 'attn_out' in name,\n",
    "    functools.partial(mean_ablate_hook, mean_cache=mean_cache),\n",
    "    \"fwd\"\n",
    ")\n",
    "results[f'Athlete + Ablate Heads at Layers >= {ablate_first_layer}'] = probe_across_layers(model, athl_prompt_toks, df['sport'].tolist(), batch_size=128)\n",
    "model.reset_hooks()"
   ]
  },
  {
   "cell_type": "code",
   "execution_count": null,
   "metadata": {},
   "outputs": [
    {
     "data": {
      "image/png": "[encoded data removed]",
      "text/plain": [
       "<Figure size 640x480 with 1 Axes>"
      ]
     },
     "metadata": {},
     "output_type": "display_data"
    },
    {
     "name": "stdout",
     "output_type": "stream",
     "text": [
      "(50859081728, 85167243264)\n"
     ]
    }
   ],
   "source": [
    "import matplotlib.pyplot as plt\n",
    "fig = plt.figure()\n",
    "markers = ['o', 's', '^', 'v', '*', 'p', 'P', 'X', 'd']\n",
    "for i, (k, v) in enumerate(results.items()):\n",
    "    plt.plot(v, label=k, marker=markers[i])\n",
    "\n",
    "# Add vertical dotted lines at x = 2, x = 7\n",
    "plt.axvline(x=2, color='k', linestyle='--')\n",
    "plt.axvline(x=5, color='k', linestyle='--')\n",
    "# Label these vertical lines\n",
    "plt.text(2.3, 0.45, 'Layer 2', fontsize=12)\n",
    "plt.text(5.3, 0.45, 'Layer 5', fontsize=12)\n",
    "\n",
    "plt.legend()\n",
    "plt.xlabel('Layer', fontsize=16)\n",
    "plt.ylabel('Probe Accuracy', fontsize=16)\n",
    "plt.title('Probe Accuracy Across Layers', fontsize=16)\n",
    "plt.xticks(fontsize=12)\n",
    "plt.yticks(fontsize=12)\n",
    "plt.grid()\n",
    "plt.show()\n",
    "print(torch.cuda.mem_get_info())"
   ]
  },
  {
   "cell_type": "markdown",
   "metadata": {},
   "source": [
    "## Early attention heads"
   ]
  },
  {
   "cell_type": "code",
   "execution_count": null,
   "metadata": {},
   "outputs": [
    {
     "data": {
      "application/vnd.jupyter.widget-view+json": {
       "model_id": "14ee332d8654425ab8f6d260c6b9e008",
       "version_major": 2,
       "version_minor": 0
      },
      "text/plain": [
       "Resolving data files:   0%|          | 0/30 [00:00<?, ?it/s]"
      ]
     },
     "metadata": {},
     "output_type": "display_data"
    },
    {
     "name": "stdout",
     "output_type": "stream",
     "text": [
      "(50863276032, 85167243264)\n"
     ]
    }
   ],
   "source": [
    "full_prompt_toks = tokenize_instructions(tokenizer, df['prompt'].tolist()) # Full prompt\n",
    "athl_prompt_toks = tokenize_instructions(tokenizer, df['athlete'].tolist()) # <bos>name\n",
    "m_cache = get_mean_cache(model, hook_name=\"hook_z\")\n",
    "mean_cache = {}\n",
    "for k in m_cache.keys():\n",
    "    mean_cache[k] = einops.reduce(\n",
    "        m_cache[k],\n",
    "        'batch seq head d_model -> 1 1 head d_model',\n",
    "        'mean'\n",
    "    )\n",
    "print(torch.cuda.mem_get_info())"
   ]
  },
  {
   "cell_type": "code",
   "execution_count": null,
   "metadata": {},
   "outputs": [
    {
     "name": "stderr",
     "output_type": "stream",
     "text": [
      "/tmp/ipykernel_2267936/1760785832.py:44: FutureWarning: You are using `torch.load` with `weights_only=False` (the current default value), which uses the default pickle module implicitly. It is possible to construct malicious pickle data which will execute arbitrary code during unpickling (See https://github.com/pytorch/pytorch/blob/main/SECURITY.md#untrusted-models for more details). In a future release, the default value for `weights_only` will be flipped to `True`. This limits the functions that could be executed during unpickling. Arbitrary objects will no longer be allowed to be loaded via this mode unless they are explicitly allowlisted by the user via `torch.serialization.add_safe_globals`. We recommend you start setting `weights_only=True` for any use case where you don't have full control of the loaded file. Please open an issue on GitHub for any issues related to this experimental feature.\n",
      "  results_mat = torch.load(f'results/9b_patch_results_{ablate_first_layer=}.pt')\n"
     ]
    }
   ],
   "source": [
    "ablate_first_layer = 5\n",
    "def act_patch_hook_z(act, hook, patch_cache, patch_layer, patch_head):\n",
    "    # heads_to_patch is [(layer, head)]\n",
    "    # heads = [head for layer, head in heads_to_patch if layer == hook.layer()]\n",
    "\n",
    "    # act is batch head seq d_model\n",
    "\n",
    "    # want to patch head and every head after layer ablate_first_layer\n",
    "    if hook.layer() == patch_layer:\n",
    "        act[:, :, patch_head, :] = patch_cache[hook.name][:, :, patch_head, :]\n",
    "    elif hook.layer() >= ablate_first_layer:\n",
    "        act = patch_cache[hook.name]\n",
    "\n",
    "    return act\n",
    "\n",
    "\n",
    "layer_range = range(0, ablate_first_layer)\n",
    "head_range = range(0, model.cfg.n_heads)\n",
    "\n",
    "heads_to_patch = [\n",
    "    (layer, head)\n",
    "    for layer in layer_range\n",
    "    for head in head_range\n",
    "]\n",
    "\n",
    "# Get patch cache\n",
    "# results_mat = torch.zeros((len(list(layer_range)), len(list(head_range))), device=device)\n",
    "# for (layer, head) in tqdm(heads_to_patch):\n",
    "#     # print(f'Patching L{layer}H{head}')\n",
    "\n",
    "#     model.reset_hooks()\n",
    "\n",
    "#     model.add_hook(\n",
    "#         lambda name: 'hook_z' in name,\n",
    "#         functools.partial(act_patch_hook_z, patch_cache=mean_cache, patch_layer=layer, patch_head=head),\n",
    "#         \"fwd\"\n",
    "#     )\n",
    "\n",
    "#     results_mat[layer, head] += probe_last_layer(model, full_prompt_toks, df['sport'].tolist(), batch_size=64, layer=ablate_first_layer) \n",
    "\n",
    "#     model.reset_hooks()\n",
    "# torch.save(results_mat, f'results/9b_patch_results_{ablate_first_layer=}.pt')\n",
    "\n",
    "results_mat = torch.load(f'results/9b_patch_results_{ablate_first_layer=}.pt')"
   ]
  },
  {
   "cell_type": "code",
   "execution_count": null,
   "metadata": {},
   "outputs": [
    {
     "name": "stdout",
     "output_type": "stream",
     "text": [
      "last layer probe, cache shape:  torch.Size([1566, 3584])\n",
      "(1566, 3584) 1566\n",
      "Accuracy: 0.9808917197452229\n"
     ]
    },
    {
     "name": "stderr",
     "output_type": "stream",
     "text": [
      "/data/phillip_guo/miniconda3/envs/unlrn/lib/python3.10/site-packages/sklearn/linear_model/_sag.py:350: ConvergenceWarning: The max_iter was reached which means the coef_ did not converge\n",
      "  warnings.warn(\n"
     ]
    }
   ],
   "source": [
    "# Get baseline accuracy\n",
    "model.reset_hooks()\n",
    "model.add_hook(\n",
    "    lambda name: 'hook_z' in name,\n",
    "    functools.partial(act_patch_hook_z, patch_cache=mean_cache, patch_layer=-1, patch_head=-1),\n",
    "    \"fwd\"\n",
    ")\n",
    "\n",
    "baseline_acc = probe_last_layer(model, full_prompt_toks, df['sport'].tolist(), layer=ablate_first_layer, batch_size=64) \n",
    "\n",
    "model.reset_hooks()"
   ]
  },
  {
   "cell_type": "code",
   "execution_count": null,
   "metadata": {},
   "outputs": [
    {
     "name": "stderr",
     "output_type": "stream",
     "text": [
      "/tmp/ipykernel_2267936/2255518465.py:1: FutureWarning: You are using `torch.load` with `weights_only=False` (the current default value), which uses the default pickle module implicitly. It is possible to construct malicious pickle data which will execute arbitrary code during unpickling (See https://github.com/pytorch/pytorch/blob/main/SECURITY.md#untrusted-models for more details). In a future release, the default value for `weights_only` will be flipped to `True`. This limits the functions that could be executed during unpickling. Arbitrary objects will no longer be allowed to be loaded via this mode unless they are explicitly allowlisted by the user via `torch.serialization.add_safe_globals`. We recommend you start setting `weights_only=True` for any use case where you don't have full control of the loaded file. Please open an issue on GitHub for any issues related to this experimental feature.\n",
      "  results_mat = torch.load(f'results/9b_patch_results_{ablate_first_layer=}.pt')\n"
     ]
    },
    {
     "data": {
      "image/png": "[encoded data removed]",
      "text/plain": [
       "<Figure size 640x480 with 2 Axes>"
      ]
     },
     "metadata": {},
     "output_type": "display_data"
    }
   ],
   "source": [
    "results_mat = torch.load(f'results/9b_patch_results_{ablate_first_layer=}.pt')\n",
    "import matplotlib.pyplot as plt\n",
    "\n",
    "fig = plt.figure()\n",
    "plt.imshow(results_mat.cpu().numpy() - baseline_acc, cmap='RdBu', vmax=.4, vmin=-.4)\n",
    "plt.xlabel('Head', fontsize=16)\n",
    "plt.ylabel('Layer', fontsize=16)\n",
    "plt.title('Change in Probe Accuracy \\nwhen Patching Heads', fontsize=16)\n",
    "# increase font size of ticks\n",
    "plt.xticks(fontsize=12)\n",
    "plt.yticks(fontsize=12)\n",
    "# increase font size of colorbar\n",
    "cbar = plt.colorbar()\n",
    "cbar.ax.tick_params(labelsize=12)\n",
    "plt.show()\n",
    "fig.savefig(f'results/9b_patch_heatmap_{ablate_first_layer=}.pdf')"
   ]
  },
  {
   "cell_type": "code",
   "execution_count": null,
   "metadata": {},
   "outputs": [
    {
     "name": "stderr",
     "output_type": "stream",
     "text": [
      "/tmp/ipykernel_2267936/4258570237.py:1: FutureWarning: You are using `torch.load` with `weights_only=False` (the current default value), which uses the default pickle module implicitly. It is possible to construct malicious pickle data which will execute arbitrary code during unpickling (See https://github.com/pytorch/pytorch/blob/main/SECURITY.md#untrusted-models for more details). In a future release, the default value for `weights_only` will be flipped to `True`. This limits the functions that could be executed during unpickling. Arbitrary objects will no longer be allowed to be loaded via this mode unless they are explicitly allowlisted by the user via `torch.serialization.add_safe_globals`. We recommend you start setting `weights_only=True` for any use case where you don't have full control of the loaded file. Please open an issue on GitHub for any issues related to this experimental feature.\n",
      "  results_mat = torch.load(f'results/9b_patch_results_{ablate_first_layer=}.pt')\n"
     ]
    },
    {
     "data": {
      "image/png": "[encoded data removed]",
      "text/plain": [
       "<Figure size 640x480 with 2 Axes>"
      ]
     },
     "metadata": {},
     "output_type": "display_data"
    }
   ],
   "source": [
    "results_mat = torch.load(f'results/9b_patch_results_{ablate_first_layer=}.pt')\n",
    "import matplotlib.pyplot as plt\n",
    "\n",
    "fig = plt.figure()\n",
    "plt.imshow(results_mat.cpu().numpy(), cmap='RdBu', vmax=1, vmin=0.5)\n",
    "plt.xlabel('Head', fontsize=16)\n",
    "plt.ylabel('Layer', fontsize=16)\n",
    "plt.title('Probe Accuracy \\nwhen Patching Heads', fontsize=16)\n",
    "# increase font size of ticks\n",
    "plt.xticks(fontsize=12)\n",
    "plt.yticks(fontsize=12)\n",
    "# increase font size of colorbar\n",
    "cbar = plt.colorbar()\n",
    "cbar.ax.tick_params(labelsize=12)\n",
    "plt.show()\n",
    "# fig.savefig(f'results/9b_patch_heatmap_{ablate_first_layer=}.pdf')"
   ]
  },
  {
   "cell_type": "code",
   "execution_count": null,
   "metadata": {},
   "outputs": [],
   "source": []
  }
 ],
 "metadata": {
  "kernelspec": {
   "display_name": "base",
   "language": "python",
   "name": "python3"
  },
  "language_info": {
   "codemirror_mode": {
    "name": "ipython",
    "version": 3
   },
   "file_extension": ".py",
   "mimetype": "text/x-python",
   "name": "python",
   "nbconvert_exporter": "python",
   "pygments_lexer": "ipython3",
   "version": "3.10.13"
  }
 },
 "nbformat": 4,
 "nbformat_minor": 2
}
