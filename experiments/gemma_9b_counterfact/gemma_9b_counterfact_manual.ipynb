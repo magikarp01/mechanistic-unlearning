{
 "cells": [
  {
   "cell_type": "code",
   "execution_count": 1,
   "metadata": {},
   "outputs": [
    {
     "name": "stderr",
     "output_type": "stream",
     "text": [
      "/root/venv/lib/python3.10/site-packages/tqdm/auto.py:21: TqdmWarning: IProgress not found. Please update jupyter and ipywidgets. See https://ipywidgets.readthedocs.io/en/stable/user_install.html\n",
      "  from .autonotebook import tqdm as notebook_tqdm\n"
     ]
    }
   ],
   "source": [
    "# %% All below code from Callum's path patching library\n",
    "# %%\n",
    "\n",
    "import torch as t\n",
    "from torch import Tensor\n",
    "from typing import Optional, Union, Dict, Callable, Optional, List, Tuple\n",
    "from typing_extensions import Literal\n",
    "from transformer_lens import HookedTransformer, ActivationCache\n",
    "from transformer_lens.hook_points import HookPoint\n",
    "import transformer_lens.utils as utils\n",
    "import itertools\n",
    "from functools import partial\n",
    "from tqdm.auto import tqdm\n",
    "from jaxtyping import Float, Int\n",
    "from collections import defaultdict\n",
    "import einops\n",
    "import re\n",
    "\n",
    "# %%\n",
    "\n",
    "_SeqPos = Optional[Int[Tensor, \"batch pos\"]]\n",
    "SeqPos = Optional[Union[int, List[int], Int[Tensor, \"batch *pos\"]]]\n",
    "IterSeqPos = Union[SeqPos, Literal[\"each\"]]\n",
    "\n",
    "def relevant_names_filter(name: str):\n",
    "    '''Defining this so I don't have to use such a big cache. It contains all the names I'll need for any path patching.'''\n",
    "    return any([name.endswith(s) for s in [\n",
    "        \"z\", \"resid_pre\", \"resid_mid\", \"resid_post\", \"pre\", \"post\", \"_input\", \"q\", \"k\", \"v\", \"attn_out\", \"mlp_out\"\n",
    "    ]])\n",
    "\n",
    "def hook_fn_generic_patching(activation: Float[Tensor, \"...\"], hook: HookPoint, cache: ActivationCache) -> Float[Tensor, \"...\"]:\n",
    "    '''Patches entire tensor of activations, from corresponding values in cache.'''\n",
    "    activation[:] = cache[hook.name][:]\n",
    "    return activation\n",
    "\n",
    "def hook_fn_generic_caching(activation: Float[Tensor, \"...\"], hook: HookPoint, name: str = \"activation\") -> Float[Tensor, \"...\"]:\n",
    "    '''Stores activations in hook context.'''\n",
    "    hook.ctx[name] = activation\n",
    "    return activation\n",
    "\n",
    "def hook_fn_generic_patching_from_context(activation: Float[Tensor, \"...\"], hook: HookPoint, name: str = \"activation\", add: bool = False) -> Float[Tensor, \"...\"]:\n",
    "    '''Patches activations from hook context, if they are there.'''\n",
    "    if name in hook.ctx:\n",
    "        if add:\n",
    "            activation = activation + hook.ctx[name]\n",
    "        else:\n",
    "            activation[:] = hook.ctx[name][:]\n",
    "    return activation\n",
    "\n",
    "def get_hook_name_filter(model: HookedTransformer):\n",
    "    # TODO - this seems dumb, should it be fixed in TL? Add a pull request for it?\n",
    "    '''\n",
    "    Helper function which returns a hook names filter function.\n",
    "\n",
    "    I defined this because just using the hook names filter `lambda name: True` will throw an error whenever the model doesn't use attn results\n",
    "    or split qkv input (it might try to add a hook where none exists). So this function just checks if the model uses attn results or split qkv input,\n",
    "    and if it doesn't, then it only adds hooks for the other nodes.\n",
    "    '''\n",
    "    def name_filter(name):\n",
    "        if name.endswith(\"_result\") and (not model.cfg.use_attn_result):\n",
    "            return False\n",
    "        elif any([name.endswith(f\"{c}_input\") for c in \"qkv\"]) and (not model.cfg.use_split_qkv_input):\n",
    "            return False\n",
    "        elif any([name.endswith(f\"{c}_normalized_input\") for c in \"qkv\"]) and (not model.cfg.use_split_qkv_normalized_input):\n",
    "            return False\n",
    "        elif name.endswith(\"hook)tokens\") and (not model.cfg.use_hook_tokens):\n",
    "            return False\n",
    "        return True\n",
    "\n",
    "    return name_filter\n",
    "\n",
    "\n",
    "class Node:\n",
    "    '''\n",
    "    Returns a node in a nice way, i.e. without requiring messy dicts.\n",
    "\n",
    "    This class contains the following:\n",
    "        Convenient ways to define nodes (see examples below)\n",
    "        Error checking (making sure you don't define nodes incorrectly)\n",
    "        Methods to return hook functions for stuff like patching\n",
    "\n",
    "    Arguments:\n",
    "        node_name\n",
    "            Can be the full node name string, or just the node name (e.g. \"q\" or \"resid_pre\")\n",
    "        layer\n",
    "            If node_name is just abbrev, you can specify the layer here, and the full node name\n",
    "            will be returned for you using `utils.get_act_name` (same syntax as the cache uses).\n",
    "        seq_pos\n",
    "            If this is None, we patch at all sequence positions.\n",
    "            If this is not None, it's treated as a list of sequence positions over elements in our batch. It can either\n",
    "            be an int or scalar tensor (then we patch at that seq pos for all elems in our batch), or a list/tensor with\n",
    "            first dimension equal to batch size (then we patch at those seq pos for each elem in our batch). In this latter\n",
    "            case, it can be either 1D (one seq pos per sequence) or 2D (a list of seq pos for each sequence).\n",
    "\n",
    "    Examples of how we can specify a node:\n",
    "        Node(\"blocks.1.attn.hook_attn_scores\")   # specify with entire hook name\n",
    "        Node(\"q\", 0)                             # syntax like how we index cache\n",
    "        Node(\"q\", 0, head=1)                     # syntax like how we index cache (plus specifying head)\n",
    "        Node(\"pre\", 5, neuron=1337)             # like utils.get_act_name(\"resid_pre\", 5), at sequence positions [3, 4]\n",
    "    '''\n",
    "    def __init__(\n",
    "        self, \n",
    "        node_name, \n",
    "        layer: Optional[int] = None,\n",
    "        head: Optional[int] = None,\n",
    "        neuron: Optional[int] = None,\n",
    "        seq_pos: SeqPos = None,\n",
    "    ):\n",
    "        if layer is not None: assert layer >= 0, \"Doesn't accept negative layers.\"\n",
    "\n",
    "        if \"hook_\" in node_name:\n",
    "            self.component_name = node_name.split(\"hook_\")[-1]\n",
    "            self.layer = re.search(\"\\.(\\d)\\.\", node_name)\n",
    "            if self.layer is not None: self.layer = int(self.layer.group(1))\n",
    "        else:\n",
    "            self.component_name = node_name\n",
    "            self.layer = layer\n",
    "\n",
    "        if head is not None: assert isinstance(head, int), f\"head should be an int, not {type(head)}\"\n",
    "        if neuron is not None: assert isinstance(neuron, int), f\"neuron should be an int, not {type(neuron)}\"\n",
    "        self.head = head\n",
    "        self.neuron = neuron\n",
    "        self.seq_pos = seq_pos\n",
    "\n",
    "        # Check if head dimension is appropriate\n",
    "        if not any(name in self.activation_name for name in [\"q\", \"k\", \"v\", \"z\", \"pattern\"]):\n",
    "            assert self.head is None, f\"Can't specify `head` for activation {self.activation_name}.\"\n",
    "\n",
    "        # Check if neuron dimension is appropriate\n",
    "        if not any(name in self.activation_name for name in [\"pre\", \"post\"]):\n",
    "            assert self.neuron is None, f\"Can't specify `neuron` for activation {self.activation_name}.\"\n",
    "\n",
    "\n",
    "    @property\n",
    "    def activation_name(self):\n",
    "        return utils.get_act_name(self.component_name, layer=self.layer)\n",
    "    \n",
    "\n",
    "    def get_posn(self):\n",
    "        '''\n",
    "        Gives a number representing the position of this node in the model.\n",
    "\n",
    "        Used to check whether a node comes before another one, because the operation:\n",
    "            orig_receiver_input <- orig_receiver_input + (new_sender_output - orig_sender_output)\n",
    "        shouldn't be done if receiver comes after sender in the model.\n",
    "\n",
    "        The function is pretty janky. It gets an int for layer, plus a float in the range (0, 1) for position within\n",
    "        a layer, that way the sum of these two will always tell you whether one node comes before the other.\n",
    "        '''\n",
    "        if self.layer is None:\n",
    "            layer = -1 if self.component_name in [\"embed\", \"pos_embed\", \"tokens\"] else 10e5\n",
    "        else:\n",
    "            layer = self.layer\n",
    "        \n",
    "        if \"resid_pre\" in self.activation_name:\n",
    "            within_layer = 0.0\n",
    "        elif \".ln1.\" in self.activation_name:\n",
    "            within_layer = 0.1\n",
    "        elif \".attn.\" in self.activation_name or any([f\"{s}_input\" in self.activation_name for s in \"qkv\"]):\n",
    "            within_layer = 0.2\n",
    "        elif \"attn_out\" in self.activation_name:\n",
    "            within_layer = 0.3\n",
    "        elif \"resid_mid\" in self.activation_name:\n",
    "            within_layer = 0.4\n",
    "        elif \".ln2.\" in self.activation_name:\n",
    "            within_layer = 0.5\n",
    "        elif \".mlp.\" in self.activation_name or \"mlp_in\" in self.activation_name:\n",
    "            within_layer = 0.6\n",
    "        elif \"mlp_out\" in self.activation_name:\n",
    "            within_layer = 0.7\n",
    "        elif \"resid_post\" in self.activation_name:\n",
    "            # resid_post in a layer is the same as resid_pre in the next layer\n",
    "            within_layer = 1.0\n",
    "        else:\n",
    "            raise Exception(\"Error in function - haven't yet added a case for this name.\")\n",
    "            \n",
    "        return layer + within_layer\n",
    "                \n",
    "    def __ge__(self, other: \"Node\"):\n",
    "        return self.get_posn() >= other.get_posn()\n",
    "    \n",
    "    def __gt__(self, other: \"Node\"):\n",
    "        return self.get_posn() > other.get_posn()\n",
    "\n",
    "\n",
    "    def check_sender(self, model: HookedTransformer) -> List[\"Node\"]:\n",
    "        '''\n",
    "        Raises an error if this isn't a valid sender node.\n",
    "\n",
    "        The valid list is quite restrictive, because this helps make sure edge cases are avoided where possible.\n",
    "        '''\n",
    "        # We only do individual sequence position patches for activation patching, not path patching\n",
    "        assert self.seq_pos is None, \"Error: can't specify `seq_pos` for path patching. You should use the `seq_pos` argument in the `path_patch` function.\"\n",
    "\n",
    "        # Make sure it's actually real\n",
    "        assert self.activation_name in model.hook_dict.keys(), f\"Error: node '{self.activation_name}' is not in the hook dictionary.\"\n",
    "\n",
    "        # Do main validity check\n",
    "        # TODO - allow \"result\", since there are use cases (e.g. if you're editing the new_cache directly)\n",
    "        valid_sender_nodes = [\"z\", \"attn_out\", \"post\", \"mlp_out\", \"resid_pre\", \"resid_post\", \"resid_mid\"]\n",
    "        assert self.component_name in valid_sender_nodes, f\"Error: node '{self.component_name}' is not a valid sender node. Valid sender nodes are: {valid_sender_nodes}\"\n",
    "\n",
    "        return [self]\n",
    "\n",
    "    \n",
    "    def check_and_split_receiver(self, model: HookedTransformer) -> List[\"Node\"]:\n",
    "        '''\n",
    "        Checks if this is a valid receiver node.\n",
    "\n",
    "        We need to make sure it's not \"attn_out\" or \"mlp_out\" (because if it's a receiver then caching needs to happen before patching in step 2).\n",
    "        But rather than raising an error in this case, we can just change the patching to be at \"z\" or \"post\" instead.\n",
    "\n",
    "        Also splits the receiver node into multiple nodes if required, e.g. \"pattern\" becomes \"q\" and \"k\".\n",
    "        '''\n",
    "        # We only do individual sequence position patches for activation patching, not path patching\n",
    "        assert self.seq_pos is None, \"Error: can't specify `seq_pos` for path patching. You should use the `seq_pos` argument in the `path_patch` function.\"\n",
    "\n",
    "        # Make sure it's actually real\n",
    "        assert self.activation_name in model.hook_dict.keys(), f\"Error: node '{self.activation_name}' is not in the hook dictionary.\"\n",
    "\n",
    "        # Make specific substitution requests (i.e. \"you tried X, instead you should do Y\")\n",
    "        assert self.component_name != \"mlp_in\", \"Error: 'mlp_in' is not a valid sender node. Please use 'pre' for the output of attention heads (to select specific neurons, use the 'neuron' argument in the Node constructor).\"\n",
    "\n",
    "        # Do main validity check\n",
    "        valid_receiver_nodes = [\"q\", \"k\", \"v\", \"pattern\", \"q_input\", \"k_input\", \"v_input\", \"resid_pre\", \"resid_mid\", \"resid_post\", \"pre\"]\n",
    "        assert self.component_name in valid_receiver_nodes, f\"Error: node '{self.component_name}' is not a valid receiver node. Valid receiver nodes are: {valid_receiver_nodes}\"\n",
    "\n",
    "        # If node name is \"pattern\", we want to split this into \"q\" and \"k\"\n",
    "        # TODO - is this just bad? Maybe we never want to patch into pattern in this way?\n",
    "        if self.component_name == \"pattern\":\n",
    "            return [Node(\"q\", layer=self.layer, head=self.head), Node(\"k\", layer=self.layer, head=self.head)]\n",
    "        else:\n",
    "            return [self]\n",
    "\n",
    "\n",
    "    def get_patching_hook_fn(self, cache: Union[str, ActivationCache], batch_indices: Union[slice, Int[Tensor, \"batch pos\"]], seq_pos_indices: Union[slice, Int[Tensor, \"batch pos\"]]) -> Callable:\n",
    "        '''\n",
    "        Returns a hook function for doing patching according to this node.\n",
    "\n",
    "        This is used in 2 different ways:\n",
    "\n",
    "            (A) In step 2 of the 3-step path patching algorithm, where we're patching the output\n",
    "                of sender nodes from orig -> new cache. In this case, cache is an actual cache.\n",
    "\n",
    "            (B) In step 3 of the 3-step path patching algorithm, where we're patching the input\n",
    "                of receiver nodes with the values which were stored in context. In this case, cache\n",
    "                is actually a string (the key in the hook.ctx dict).\n",
    "\n",
    "        The key feature of this method is that it gives us a function which patches at specific sequence positions / heads / neurons. It doesn't just patch everywhere!\n",
    "        '''\n",
    "        def hook_fn(activations: Float[Tensor, \"...\"], hook: HookPoint) -> Float[Tensor, \"...\"]:\n",
    "            # Define an index for slicing (by default slice(None), which is equivalent to [:])\n",
    "            idx = [batch_indices, seq_pos_indices] + [slice(None) for _ in range(activations.ndim - 2)]\n",
    "\n",
    "            # Check if we need to patch by head, and if so then check where the head dim is\n",
    "            if self.head is not None:\n",
    "                # Attn patterns are messy because its shape is (batch, head, seqQ, seqK) not (batch, seq, ...). In this case we assume seq_pos_indices refer to the query position.\n",
    "                if \"pattern\" in hook.name or \"score\" in hook.name:\n",
    "                    assert isinstance(seq_pos_indices, slice), \"Can't patch attention patterns/scores at specific sequence positions (ambiguous whether this is query or key positions).\"\n",
    "                    idx = [slice(None) for _ in range(activations.ndim)]\n",
    "                    idx[1] = self.head\n",
    "                else:\n",
    "                    idx[2] = self.head\n",
    "\n",
    "            # Check if we need to patch by neuron, and if so then check where the neuron dim is\n",
    "            if self.neuron is not None: idx[-1] = self.neuron\n",
    "\n",
    "            # Now, patch the values in our activations tensor, and return the new activation values\n",
    "            if isinstance(cache, str):\n",
    "                new_activations = hook.ctx[cache]\n",
    "            else:\n",
    "                new_activations = cache[hook.name]\n",
    "            \n",
    "            activations[idx] = new_activations[idx]\n",
    "            return activations\n",
    "\n",
    "        return hook_fn\n",
    "\n",
    "    \n",
    "    def __repr__(self):\n",
    "        head = \"\" if self.head is None else f\", head={self.head}\"\n",
    "        neuron = \"\" if self.neuron is None else f\", neuron={self.neuron}\"\n",
    "        return f\"Node({self.activation_name}{head}{neuron})\"\n",
    "\n",
    "\n",
    "\n",
    "def product_with_args_kwargs(*args, **kwargs):\n",
    "    '''\n",
    "    Helper function which generates an iterable from args and kwargs.\n",
    "\n",
    "    For example, running the following:\n",
    "        product_with_args_kwargs([1, 2], ['a', 'b'], key1=[True, False], key2=[\"q\", \"k\"])\n",
    "    gives us a list of the following tuples:\n",
    "        ((1, 'a'), {'key1', True, 'key2': 'q'})\n",
    "        ((1, 'a'), {'key1', False})\n",
    "        ((1, 'b'), ('key1', True))\n",
    "        ...\n",
    "        ((2, 'b'), {'key1', False, 'key2': 'k'})\n",
    "    '''\n",
    "    # Generate the product of args\n",
    "    args_product = list(itertools.product(*args))\n",
    "    \n",
    "    # Generate the product of kwargs values\n",
    "    kwargs_product = list(itertools.product(*kwargs.values()))\n",
    "    \n",
    "    # Combine args_product with each dict from kwargs_product\n",
    "    result = []\n",
    "    for args_values in args_product:\n",
    "        for kwargs_values in kwargs_product:\n",
    "            # Construct dict from keys and current values\n",
    "            kwargs_dict = dict(zip(kwargs.keys(), kwargs_values))\n",
    "            # Append the tuple with current args_values and kwargs_dict\n",
    "            result.append((args_values, kwargs_dict))\n",
    "\n",
    "    return result\n",
    "\n",
    "\n",
    "\n",
    "\n",
    "# TODO - the way seq_pos is handled in this class is super janky. What's done in the __init__ vs the get_node_dict should be more cleanly separated. Do we even need anything in the init?\n",
    "\n",
    "class IterNode:\n",
    "    '''\n",
    "    Class for defining a list of nodes.\n",
    "\n",
    "    In other words, we specify a few arguments, and this thing gives us a list of Node objects.\n",
    "\n",
    "    Args:\n",
    "        nodes\n",
    "            name of node (or list of componnet names) which we iterate over\n",
    "        seq_pos\n",
    "            Is `None` by default, but can also be `\"each\"`, or it can be specified as an int or list of ints.\n",
    "\n",
    "    Examples:\n",
    "        IterNode(node_names=[\"q\", \"k\", \"v\"], seq_pos=\"each\")\n",
    "            - this is how we might iterate over receiver nodes\n",
    "            - it'll give us a dict with keys (\"q\", \"k\", \"v\") and values = tensors of shape (seq_pos, layers, heads)\n",
    "            - each element would be the result of patching from some fixed sender to a different receiver\n",
    "\n",
    "        IterNode(node_names=[\"attn_out\", \"mlp_out\", \"resid_pre\"])\n",
    "            - this is how we might iterate over sender nodes\n",
    "            - it'll give us a dict with keys (\"attn_out\", \"mlp_out\", \"resid_pre\") and values = 1D tensors of shape (layers,)\n",
    "\n",
    "        IterNode(node_names=\"attn_out\", seq_pos=\"each\")\n",
    "            - this is how we might iterate over sender nodes\n",
    "            - it'll give us a tensor of shape (layers, seq_pos)\n",
    "\n",
    "    Note:\n",
    "        If you want to iterate over each attn head, use 'z' (or something with a head dim). If you want to get all heads simultaneously, use 'attn_out'.\n",
    "        If you want to iterate over each neuron, use 'post'. If you want to get all heads simultaneously, use 'attn_out'.\n",
    "    '''\n",
    "    def __init__(\n",
    "        self, \n",
    "        node_names: Union[str, List[str]], \n",
    "        seq_pos: IterSeqPos = None,\n",
    "    ):\n",
    "        self.seq_pos = seq_pos\n",
    "\n",
    "        # Get node_names into a list, for consistency\n",
    "        self.component_names = [node_names] if isinstance(node_names, str) else node_names\n",
    "\n",
    "        # Figure out what the dimensions of the output will be (i.e. for our path patching iteration)\n",
    "        self.shape_names = {}\n",
    "        for node in self.component_names:\n",
    "            # Everything has a \"layer\" dim\n",
    "            self.shape_names[node] = [\"layer\"]\n",
    "            # Add \"seq_pos\", if required\n",
    "            if seq_pos == \"each\": self.shape_names[node].append(\"seq_pos\")\n",
    "            # Add \"head\" and \"neuron\", if required\n",
    "            if node in [\"q\", \"k\", \"v\", \"z\", \"pattern\"]: self.shape_names[node].append(\"head\")\n",
    "            if node in [\"pre\", \"post\"]: self.shape_names[node].append(\"neuron\")\n",
    "\n",
    "        # Result:\n",
    "        #   self.shape_names = {\"z\": [\"layer\", \"seq_pos\", \"head\"], \"post\": [\"layer\", \"neuron\"], ...}\n",
    "        # where each value is the list of things we'll be iterating over.\n",
    "\n",
    "\n",
    "    def get_node_dict(\n",
    "        self, \n",
    "        model: HookedTransformer,\n",
    "        tensor: Optional[Float[Tensor, \"batch seq_pos d_vocab\"]] = None\n",
    "    ) -> Dict[str, List[Tuple[Tensor, Node]]]:\n",
    "        '''\n",
    "        This is how we get the actual list of nodes (i.e. `Node` objects) which we'll be iterating through, as well as the seq len (because\n",
    "        this isn't stored in every node object).\n",
    "\n",
    "        It will look like:\n",
    "            {\"z\": [\n",
    "                (seq_pos, Node(...)), \n",
    "                (seq_pos, Node(...)),\n",
    "                ...\n",
    "            ], \n",
    "            \"post\": [\n",
    "                (seq_pos, Node(...))\n",
    "                ...\n",
    "            ]}\n",
    "        where each value is a list of `Node` objects, and we'll path patch separately for each one of them.\n",
    "\n",
    "        We need `model` and `tensor` to do it, because we need to know the shapes of the nodes (e.g. how many layers or sequence positions,\n",
    "        etc). `tensor` is assumed to have first two dimensions (batch, seq_len).\n",
    "        '''\n",
    "        # Get a dict we can use to convert from shape names into actual shape values\n",
    "        # We filter dict down, because we might not need all of these (e.g. we'll never need neurons and heads at the same time!)\n",
    "        batch_size, seq_len = tensor.shape[:2]\n",
    "        shape_values_all = {\"seq_pos\": seq_len, \"layer\": model.cfg.n_layers, \"head\": model.cfg.n_heads, \"neuron\": model.cfg.d_mlp}\n",
    "\n",
    "        # Get a dictionary to store the nodes (i.e. this will be a list of `Node` objects for each node name)\n",
    "        # Also, get dict to store the actual shape values for each node name\n",
    "        self.nodes_dict = {}\n",
    "        self.shape_values = {}\n",
    "\n",
    "        # If iterating, get a list of sequence positions we'll be iterating over\n",
    "        if self.seq_pos == \"each\":\n",
    "            seq_pos_indices = list(einops.repeat(t.arange(seq_len), \"s -> s b 1\", b=batch_size))\n",
    "        # If not iterating, then each node in the iteration has a fixed sequence length\n",
    "        else:\n",
    "            seq_pos_indices = [self.seq_pos]\n",
    "\n",
    "\n",
    "        # Fill in self.shape_values with the actual values, and self.nodes_dict using itertools.product\n",
    "        # Note, this is a bit messy (e.g. node name and layer are *args, but head/neuron/seq_pos are **kwargs)\n",
    "        for node_name, shape_names in self.shape_names.items():\n",
    "            \n",
    "            shape_values_dict = {name: value for name, value in shape_values_all.items() if name in shape_names}\n",
    "            shape_ranges = {name: range(value) for name, value in shape_values_dict.items() if name != \"seq_pos\"}\n",
    "\n",
    "            self.shape_values[node_name] = shape_values_dict\n",
    "\n",
    "            # Turn the ranges into a list of Node objects, using a fancy version of itertools.product\n",
    "            # args are (seq_pos,), kwargs are all the non-seq_pos values (i.e. layer, head, neuron)\n",
    "            shape_values_list = product_with_args_kwargs(seq_pos_indices, **shape_ranges)\n",
    "            self.nodes_dict[node_name] = [(args[0], Node(node_name, **kwargs)) for args, kwargs in shape_values_list]\n",
    "\n",
    "        return self.nodes_dict\n",
    "\n",
    "\n",
    "def get_batch_and_seq_pos_indices(seq_pos, batch_size, seq_len):\n",
    "    '''\n",
    "    seq_pos can be given in four different forms:\n",
    "        None             -> patch at all positions\n",
    "        int              -> patch at this position for all sequences in batch\n",
    "        list / 1D tensor -> this has shape (batch,) and the [i]-th elem is the position to patch for the i-th sequence in the batch\n",
    "        2D tensor        -> this has shape (batch, pos) and the [i, :]-th elem are all the positions to patch for the i-th sequence\n",
    "    \n",
    "    This function returns batch_indices, seq_pos_indices as either slice(None)'s in the first case, or as 2D tensors in the other cases.\n",
    "\n",
    "    In other words, if a tensor of activations had shape (batch_size, seq_len, ...), then you could index into it using:\n",
    "\n",
    "        activations[batch_indices, seq_pos_indices]\n",
    "    '''\n",
    "    if seq_pos is None:\n",
    "        seq_sub_pos_len = seq_len\n",
    "        seq_pos_indices = slice(None)\n",
    "        batch_indices = slice(None)\n",
    "    else:\n",
    "        if isinstance(seq_pos, int):\n",
    "            seq_pos = [seq_pos for _ in range(batch_size)]\n",
    "        if isinstance(seq_pos, list):\n",
    "            seq_pos = t.tensor(seq_pos)\n",
    "        if seq_pos.ndim == 1:\n",
    "            seq_pos = seq_pos.unsqueeze(-1)\n",
    "        assert (seq_pos.ndim == 2) and (seq_pos.shape[0] == batch_size) and (seq_pos.shape[1] <= seq_len) and (seq_pos.max() < seq_len), \"Invalid 'seq_pos' argument.\"\n",
    "        seq_sub_pos_len = seq_pos.shape[1]\n",
    "        seq_pos_indices = seq_pos\n",
    "        batch_indices = einops.repeat(t.arange(batch_size), \"batch -> batch seq_sub_pos\", seq_sub_pos=seq_sub_pos_len)\n",
    "    \n",
    "    return batch_indices, seq_pos_indices\n",
    "\n",
    "\n",
    "\n",
    "def _path_patch_single(\n",
    "    model: HookedTransformer,\n",
    "    orig_input: Union[str, List[str], Int[Tensor, \"batch pos\"]],\n",
    "    sender: Union[Node, List[Node]],\n",
    "    receiver: Union[Node, List[Node]],\n",
    "    patching_metric: Union[Callable, Literal[\"loss\", \"loss_per_token\"]],\n",
    "    orig_cache: ActivationCache,\n",
    "    new_cache: ActivationCache,\n",
    "    seq_pos: _SeqPos = None,\n",
    "    apply_metric_to_cache: bool = False,\n",
    "    names_filter_for_cache_metric: Optional[Callable] = None,\n",
    "    direct_includes_mlps: bool = True,\n",
    ") -> Float[Tensor, \"\"]:\n",
    "    '''\n",
    "    This function gets called by the main `path_patch` function, when direct_includes_mlps = False. It shouldn't be called directly by user.\n",
    "\n",
    "    There are 2 options for how to treat MLPs - either MLPs are direct paths or they aren't.\n",
    "\n",
    "    direct_includes_mlps = False\n",
    "        This version is simpler. It doesn't treat MLPs as direct, so a \"direct path\" is just the skip connection from sender output -> receiver input.\n",
    "        The algorithm works as follows:\n",
    "            (1) Gather all activations on orig and new distributions.\n",
    "            (2) Forward pass on orig input, with the following intervention:\n",
    "                orig_receiver_input <- orig_receiver_input + sum_over_senders {new_sender_output - orig_sender_output}\n",
    "\n",
    "    direct_includes_mlps = True\n",
    "        This version is more complex. Step (2) can't happen in one forward pass, because the new value we patch the receivers to is a function of the MLP's nonlinear jiggery\n",
    "        pokery. We split step (2) into 2 steps, one where we patch senders & compute what we'll be patching into the receivers, and one where we actually perform the receiver patching.\n",
    "        The algorithm works as follows:\n",
    "            (1) Gather all activations on orig and new distributions.\n",
    "            (2) Run model on orig with sender nodes patched from new and all other nodes frozen. Cache the receiver nodes.\n",
    "            (3) Run model on orig with receiver nodes patched from previously cached values.\n",
    "\n",
    "    Although it seems from this like direct_includes_mlps=False is simpler, it's actually more complicated to implement in a way that doesn't use two forward passes, because there's\n",
    "    a lot of bookkeeping to do to make sure we're adding the right diffs in the right places.\n",
    "\n",
    "    A few small implementational notes:\n",
    "        * seq_pos is either None (indicating all sequence positions) or a 2D array of shape (batch, seq_sub_pos). In this latter case, the [i, :]-th element contains the sequence positions\n",
    "          we'll be patching at for the i-th element of the batch. The main path_patch function handles the conversion of seq_pos from ints to 2D tensors.\n",
    "        * If one of the receiver nodes is 'pre', then we actually perform the 3-step algorithm rather than the 2-step algorithm. This is because there's no \"mlp split input by neuron\" in\n",
    "          the same way as there's a \"by head (and input type) split\" for attention heads.\n",
    "    '''\n",
    "    # Call this at the start, just in case! This also clears context by default\n",
    "    model.reset_hooks()\n",
    "\n",
    "    # Turn the nodes into a list of nodes (for consistency)\n",
    "    _sender_nodes = [sender] if isinstance(sender, Node) else sender\n",
    "    _receiver_nodes = [receiver] if isinstance(receiver, Node) else receiver\n",
    "    assert isinstance(_sender_nodes, list) and isinstance(_receiver_nodes, list)\n",
    "\n",
    "    # Get slices for sequence position\n",
    "    batch_size, seq_len = orig_cache[\"z\", 0].shape[:2]\n",
    "    batch_indices, seq_pos_indices = get_batch_and_seq_pos_indices(seq_pos, batch_size, seq_len)\n",
    "\n",
    "    # Check the nodes are valid, and split them, e.g. Node(pattern) becomes [Node(q), Node(k)]\n",
    "    sender_nodes: List[Node] = []\n",
    "    receiver_nodes: List[Node] = []\n",
    "    for node in _sender_nodes:\n",
    "        sender_nodes.extend(node.check_sender(model))\n",
    "    for node in _receiver_nodes:\n",
    "        receiver_nodes.extend(node.check_and_split_receiver(model))\n",
    "    \n",
    "\n",
    "    if direct_includes_mlps or any([n.component_name == \"pre\" for n in receiver_nodes]):\n",
    "        # Run model on orig with sender nodes patched from new and all other nodes frozen. Cache the receiver nodes.\n",
    "\n",
    "        # We need to define three sets of hook functions: for freezing heads, for patching senders (which override freezing), and for caching receivers (before freezing)\n",
    "        hooks_for_freezing = []\n",
    "        hooks_for_caching_receivers = []\n",
    "        hooks_for_patching_senders = []\n",
    "\n",
    "        # Get all the hooks we need for freezing heads (and possibly MLPs)\n",
    "        # (note that these are added at \"z\" and \"post\", because if they were added at \"attn_out\" or \"mlp_out\" then we might not be able to override them with the patching hooks)\n",
    "        hooks_for_freezing.append((lambda name: name.endswith(\"z\"), partial(hook_fn_generic_patching, cache=orig_cache)))\n",
    "        if not direct_includes_mlps:\n",
    "            hooks_for_freezing.append((lambda name: name.endswith(\"post\"), partial(hook_fn_generic_patching, cache=orig_cache)))\n",
    "\n",
    "        # Get all the hooks we need for patching heads (and possibly MLPs)\n",
    "        for node in sender_nodes:\n",
    "            hooks_for_patching_senders.append((node.activation_name, node.get_patching_hook_fn(new_cache, batch_indices, seq_pos_indices)))\n",
    "\n",
    "        # Get all the hooks we need for caching receiver nodes\n",
    "        for node in receiver_nodes:\n",
    "            hooks_for_caching_receivers.append((node.activation_name, partial(hook_fn_generic_caching, name=\"receiver_activations\")))\n",
    "\n",
    "        # Now add all the hooks in order. Note that patching should override freezing, and caching should happen before both.\n",
    "        model.run_with_hooks(\n",
    "            orig_input,\n",
    "            return_type=None,\n",
    "            fwd_hooks=hooks_for_caching_receivers + hooks_for_freezing + hooks_for_patching_senders,\n",
    "            clear_contexts=False # This is the default anyway, but just want to be sure!\n",
    "        )\n",
    "        # Result - we've now cached the receiver nodes (i.e. stored them in the appropriate hook contexts)\n",
    "\n",
    "\n",
    "        # Lastly, we add the hooks for patching receivers (this is a bit different depending on our alg)\n",
    "        for node in receiver_nodes:\n",
    "            model.add_hook(\n",
    "                node.activation_name,\n",
    "                node.get_patching_hook_fn(\"receiver_activations\", batch_indices, seq_pos_indices),\n",
    "                level=1\n",
    "            )\n",
    "\n",
    "\n",
    "    else:\n",
    "        # Calculate the (new_sender_output - orig_sender_output) for every sender, as something of shape d_model\n",
    "        sender_diffs = {}\n",
    "        for sender_node in sender_nodes:\n",
    "\n",
    "            diff = new_cache[sender_node.activation_name] - orig_cache[sender_node.activation_name]\n",
    "            diff = diff[batch_indices, seq_pos_indices]\n",
    "\n",
    "            # If it's post neuron activations, we map through W_out (maybe just taking one neuron)\n",
    "            if sender_node.component_name == \"post\":\n",
    "                neuron_slice = slice(None) if sender_node.neuron is None else [sender_node.neuron]\n",
    "                diff = einops.einsum(\n",
    "                    diff[..., neuron_slice], model.W_out[sender_node.layer, neuron_slice],\n",
    "                    \"batch pos d_mlp, d_mlp d_model -> batch pos d_model\"\n",
    "                )\n",
    "            # If it's the \"z\" part of attn heads, we map through W_O (maybe just taking one head)\n",
    "            elif sender_node.component_name == \"z\":\n",
    "                head_slice = slice(None) if sender_node.head is None else [sender_node.head]\n",
    "                diff = einops.einsum(\n",
    "                    diff[..., head_slice, :], model.W_O[sender_node.layer, head_slice],\n",
    "                    \"batch pos n_heads d_head, n_heads d_head d_model -> batch pos d_model\"\n",
    "                )\n",
    "            # If not in these two cases, it's one of resid_pre/mid/post, or attn_out/mlp_out/result, and so should already be something with shape (batch, subseq_len, d_model)\n",
    "            sender_diffs[sender_node] = diff\n",
    "\n",
    "\n",
    "        # Calculate the sum_over_senders{new_sender_output-orig_sender_output} for every receiver, by taking all the senders before the receiver\n",
    "        # We add this diff into the hook context, \n",
    "        for sender_node, diff in sender_diffs.items():\n",
    "\n",
    "            for i, receiver_node in enumerate(receiver_nodes):\n",
    "                \n",
    "                # If there's no causal path from sender -> receiver, we skip\n",
    "                if not (sender_node < receiver_node):\n",
    "                    continue\n",
    "\n",
    "                if receiver_node.component_name in [\"q\", \"k\", \"v\", \"q_input\", \"k_input\", \"v_input\"]:\n",
    "                    assert model.cfg.use_split_qkv_input, \"Direct patching (direct_includes_mlps=False) requires use_split_qkv_input=True. Please change your model config.\"\n",
    "                    \n",
    "                    # q/k/v should be converted into q_input/k_input/v_input\n",
    "                    if receiver_node.component_name in [\"q\", \"k\", \"v\"]: \n",
    "                        receiver_node = Node(f\"{receiver_node.component_name}_input\", layer=receiver_node.layer, head=receiver_node.head)\n",
    "                        receiver_nodes[i] = receiver_node\n",
    "\n",
    "                # If this is the first time we've used a receiver node within this activation, we populate the context dict\n",
    "                # (and add hooks to eventually do patching)\n",
    "                if len(model.hook_dict[receiver_node.activation_name].ctx) == 0:\n",
    "                    model.hook_dict[receiver_node.activation_name].ctx[\"receiver_activations\"] = t.zeros_like(orig_cache[receiver_node.activation_name])\n",
    "                    model.add_hook(\n",
    "                        receiver_node.activation_name,\n",
    "                        partial(hook_fn_generic_patching_from_context, name=\"receiver_activations\", add=True), \n",
    "                        level=1\n",
    "                    )\n",
    "\n",
    "                if receiver_node.component_name in [\"q_input\", \"k_input\", \"v_input\"]:\n",
    "                    head_slice = slice(None) if (receiver_node.head is None) else [receiver_node.head]\n",
    "                    # * TODO - why is this needed?\n",
    "                    if diff.shape != model.hook_dict[receiver_node.activation_name].ctx[\"receiver_activations\"][batch_indices, seq_pos_indices, head_slice].shape:\n",
    "                        diff = diff.unsqueeze(-2)\n",
    "                    print(f\"DEBUG SHAPE\", model.hook_dict[receiver_node.activation_name].ctx[\"receiver_activations\"].shape, diff.shape)\n",
    "                    print(batch_indices, seq_pos_indices, head_slice)\n",
    "                    model.hook_dict[receiver_node.activation_name].ctx[\"receiver_activations\"][batch_indices, seq_pos_indices, head_slice] += diff\n",
    "                \n",
    "                # The remaining case (given that we aren't handling \"pre\" here) is when receiver is resid_pre/mid/post\n",
    "                else:\n",
    "                    assert \"resid_\" in receiver_node.component_name\n",
    "                    model.hook_dict[receiver_node.activation_name].ctx[\"receiver_activations\"][batch_indices, seq_pos_indices] += diff\n",
    "                \n",
    "\n",
    "\n",
    "    # Run model on orig with receiver nodes patched from previously cached values.\n",
    "    if apply_metric_to_cache:\n",
    "        _, cache = model.run_with_cache(orig_input, return_type=None, names_filter=names_filter_for_cache_metric)\n",
    "        model.reset_hooks()\n",
    "        return patching_metric(cache)\n",
    "    else:\n",
    "        if isinstance(patching_metric, str):\n",
    "            loss = model(orig_input, return_type=\"loss\", loss_per_token=(patching_metric==\"loss_per_token\"))\n",
    "            model.reset_hooks()\n",
    "            return loss\n",
    "        else:\n",
    "            logits = model(orig_input)\n",
    "            model.reset_hooks()\n",
    "            return patching_metric(logits)\n",
    "    \n",
    "\n",
    "\n",
    "\n",
    "\n",
    "\n",
    "def path_patch(\n",
    "    model: HookedTransformer,\n",
    "    orig_input: Union[str, List[str], Int[Tensor, \"batch seq_len\"]],\n",
    "    new_input: Optional[Union[str, List[str], Int[Tensor, \"batch seq_len\"]]] = None,\n",
    "    sender_nodes: Union[IterNode, Node, List[Node]] = [],\n",
    "    receiver_nodes: Union[IterNode, Node, List[Node]] = [],\n",
    "    patching_metric: Union[Callable, Literal[\"loss\", \"loss_per_token\"]] = \"loss\",\n",
    "    orig_cache: Optional[ActivationCache] = None,\n",
    "    new_cache: Optional[Union[ActivationCache, Literal[\"zero\"]]] = None,\n",
    "    seq_pos: SeqPos = None,\n",
    "    apply_metric_to_cache: bool = False,\n",
    "    names_filter_for_cache_metric: Optional[Callable] = None,\n",
    "    direct_includes_mlps: bool = True,\n",
    "    verbose: bool = False,\n",
    ") -> Float[Tensor, \"...\"]:\n",
    "    '''\n",
    "    Performs a single instance / multiple instances of path patching, from sender node(s) to receiver node(s).\n",
    "\n",
    "    Note, I'm using orig and new in place of clean and corrupted to avoid ambiguity. In the case of noising algs (which patching usually is),\n",
    "    orig=clean and new=corrupted.\n",
    "\n",
    "        \n",
    "    Args:\n",
    "        model:\n",
    "            The model we patch with\n",
    "        \n",
    "        orig_input:\n",
    "            The original input to the model (string, list of strings, or tensor of tokens)\n",
    "        \n",
    "        new_input:\n",
    "            The new input to the model (string, list of strings, or tensor of tokens)\n",
    "            i.e. we're measuring the effect of changing the given path from orig->new\n",
    "\n",
    "        sender_nodes:\n",
    "            The nodes in the path that come first (i.e. we patch the path from sender to receiver).\n",
    "            This is given as a `Node` instance, or list of `Node` instances. See the `Node` class for more details.\n",
    "            Note, if it's a list, they are all treated as senders (i.e. a single value is returned), rather than one-by-one.\n",
    "        \n",
    "        receiver_nodes:\n",
    "            The nodes in the path that come last (i.e. we patch the path from sender to receiver).\n",
    "            This is given as a `Node` instance, or list of `Node` instances. See the `Node` class for more details.\n",
    "            Note, if it's a list, they are all treated as receivers (i.e. a single value is returned), rather than one-by-one.\n",
    "        \n",
    "        patching_metric:\n",
    "            Should take in a tensor of logits, and output a scalar tensor.\n",
    "            This is how we calculate the value we'll return.\n",
    "\n",
    "        apply_metric_to_cache:\n",
    "            If True, then we apply the metric to the cache we get on the final patched forward pass, rather than the logits.\n",
    "\n",
    "        verbose: \n",
    "            Whether to print out extra info (in particular, about the shape of the final output).\n",
    "\n",
    "    Returns:\n",
    "        Scalar tensor (i.e. containing a single value).\n",
    "\n",
    "    ===============================================================\n",
    "    How we perform multiple instances of path patching:\n",
    "    ===============================================================\n",
    "\n",
    "    We can also do multiple instances of path patching in sequence, i.e. we fix our sender node(s) and iterate over receiver nodes,\n",
    "    or vice-versa.\n",
    "\n",
    "    The way we do this is by using a `IterNode` instance, rather than a `Node` instance. For instance, if we want to fix receivers\n",
    "    and iterate over senders, we would use a `IterNode` instance for receivers, and a `Node` instance for senders.\n",
    "\n",
    "    See the `IterNode` class for more info on how we can specify multiple nodes.\n",
    "\n",
    "    Returns:\n",
    "        Dictionary of tensors, keys are the node names of whatever we're iterating over.\n",
    "        For instance, if we're fixing a single sender head, and iterating over (mlp_out, attn_out) for receivers, then we'd return a dict \n",
    "        with keys \"mlp_out\" and \"attn_out\", and values are the tensors of patching metrics for each of these two receiver nodes.\n",
    "    '''\n",
    "\n",
    "    # Make sure we aren't iterating over both senders and receivers\n",
    "    assert not all([isinstance(receiver_nodes, IterNode), isinstance(sender_nodes, IterNode)]), \"Can't iterate over both senders and receivers!\"\n",
    "\n",
    "    # Check other arguments\n",
    "    assert any([isinstance(new_cache, ActivationCache), new_cache == \"zero\", new_cache is None]), \"Invalid new_cache argument.\"\n",
    "    # assert (new_input is not None) or (new_cache == \"zero\"), \"If new_cache is not 'zero' then you must provide new_input.\"\n",
    "    if isinstance(patching_metric, str): assert patching_metric in [\"loss\", \"loss_per_token\"], \"Invalid patching_metric argument.\"\n",
    "    assert not(isinstance(patching_metric, str) and apply_metric_to_cache), \"Can't apply metric to cache if metric is 'loss' or 'loss_per_token'.\"\n",
    "    assert sender_nodes != [], \"You must specify sender nodes.\"\n",
    "    assert receiver_nodes != [], \"You must specify receiver nodes.\"\n",
    "\n",
    "    # ========== Step 1 ==========\n",
    "    # Gather activations on orig and new distributions (we only need attn heads and possibly MLPs)\n",
    "    # This is so that we can patch/freeze during step 2\n",
    "    if orig_cache is None:\n",
    "        _, orig_cache = model.run_with_cache(orig_input, return_type=None)\n",
    "    if new_cache == \"zero\":\n",
    "        new_cache = ActivationCache({k: t.zeros_like(v) for k, v in orig_cache.items()}, model=model)\n",
    "    elif new_cache is None:\n",
    "        _, new_cache = model.run_with_cache(new_input, return_type=None, names_filter=relevant_names_filter)\n",
    "\n",
    "\n",
    "    # Get out backend patching function (fix all the arguments we won't be changing)\n",
    "    path_patch_single = partial(\n",
    "        _path_patch_single,\n",
    "        model=model,\n",
    "        orig_input=orig_input,\n",
    "        # sender=sender_nodes,\n",
    "        # receiver=receiver_nodes,\n",
    "        patching_metric=patching_metric,\n",
    "        orig_cache=orig_cache,\n",
    "        new_cache=new_cache,\n",
    "        # seq_pos=seq_pos,\n",
    "        apply_metric_to_cache=apply_metric_to_cache,\n",
    "        names_filter_for_cache_metric=names_filter_for_cache_metric,\n",
    "        direct_includes_mlps=direct_includes_mlps,\n",
    "    )\n",
    "\n",
    "    # Case where we don't iterate, just single instance of path patching:\n",
    "    if not any([isinstance(receiver_nodes, IterNode), isinstance(sender_nodes, IterNode)]):\n",
    "        return path_patch_single(sender=sender_nodes, receiver=receiver_nodes, seq_pos=seq_pos)\n",
    "\n",
    "    # Case where we're iterating: either over senders, or over receivers\n",
    "    assert seq_pos is None, \"Can't specify seq_pos if you're iterating over nodes. Should use seq_pos='all' or 'each' in the IterNode class.\"\n",
    "    results_dict = defaultdict()\n",
    "    \n",
    "    # If we're fixing sender(s), and iterating over receivers:\n",
    "    if isinstance(receiver_nodes, IterNode):\n",
    "        receiver_nodes_dict = receiver_nodes.get_node_dict(model, new_cache[\"q\", 0])\n",
    "        progress_bar = tqdm(total=sum(len(node_list) for node_list in receiver_nodes_dict.values()))\n",
    "        for receiver_node_name, receiver_node_list in receiver_nodes_dict.items():\n",
    "            progress_bar.set_description(f\"Patching over {receiver_node_name!r}\")\n",
    "            results_dict[receiver_node_name] = []\n",
    "            for (seq_pos, receiver_node) in receiver_node_list:\n",
    "                results_dict[receiver_node_name].append(path_patch_single(sender=sender_nodes, receiver=receiver_node, seq_pos=seq_pos))\n",
    "                progress_bar.update(1)\n",
    "        progress_bar.close()\n",
    "        for node_name, node_shape_dict in receiver_nodes.shape_values.items():\n",
    "            if verbose: print(f\"results[{node_name!r}].shape = ({', '.join(f'{s}={v}' for s, v in node_shape_dict.items())})\")\n",
    "        return {\n",
    "            node_name: t.tensor(results).reshape(list(receiver_nodes.shape_values[node_name].values())) if isinstance(results[0], float) else results\n",
    "            for node_name, results in results_dict.items()\n",
    "        }\n",
    "    \n",
    "    # If we're fixing receiver(s), and iterating over senders:\n",
    "    elif isinstance(sender_nodes, IterNode):\n",
    "        sender_nodes_dict = sender_nodes.get_node_dict(model, new_cache[\"q\", 0])\n",
    "        progress_bar = tqdm(total=sum(len(node_list) for node_list in sender_nodes_dict.values()))\n",
    "        for sender_node_name, sender_node_list in sender_nodes_dict.items():\n",
    "            progress_bar.set_description(f\"Patching over {sender_node_name!r}\")\n",
    "            results_dict[sender_node_name] = []\n",
    "            for (seq_pos, sender_node) in sender_node_list:\n",
    "                results_dict[sender_node_name].append(path_patch_single(sender=sender_node, receiver=receiver_nodes, seq_pos=seq_pos))\n",
    "                progress_bar.update(1)\n",
    "                t.cuda.empty_cache()\n",
    "        progress_bar.close()\n",
    "        for node_name, node_shape_dict in sender_nodes.shape_values.items():\n",
    "            if verbose: print(f\"results[{node_name!r}].shape = ({', '.join(f'{s}={v}' for s, v in node_shape_dict.items())})\")\n",
    "        return {\n",
    "            node_name: t.tensor(results).reshape(list(sender_nodes.shape_values[node_name].values())) if isinstance(results[0], float) else results\n",
    "            for node_name, results in results_dict.items()\n",
    "        }\n",
    "    \n",
    "\n",
    "\n",
    "\n",
    "\n",
    "\n",
    "def _act_patch_single(\n",
    "    model: HookedTransformer,\n",
    "    orig_input: Union[str, List[str], Int[Tensor, \"batch pos\"]],\n",
    "    patching_nodes: Union[Node, List[Node]],\n",
    "    patching_metric: Union[Callable, Literal[\"loss\", \"loss_per_token\"]],\n",
    "    new_cache: Union[ActivationCache, Literal[\"zero\"]],\n",
    "    apply_metric_to_cache: bool = False,\n",
    ") -> Float[Tensor, \"\"]:\n",
    "    '''Same principle as path patching, but we just patch a single activation at the 'activation' node.'''\n",
    "\n",
    "    # Call this at the start, just in case! This also clears context by default\n",
    "    model.reset_hooks()\n",
    "\n",
    "    batch_size, seq_len = new_cache[\"z\", 0].shape[:2]\n",
    "\n",
    "    if isinstance(patching_nodes, Node): patching_nodes = [patching_nodes]\n",
    "    for node in patching_nodes:\n",
    "        batch_indices, seq_pos_indices = get_batch_and_seq_pos_indices(node.seq_pos, batch_size, seq_len)\n",
    "        model.add_hook(\n",
    "            node.activation_name, \n",
    "            node.get_patching_hook_fn(new_cache, batch_indices, seq_pos_indices)\n",
    "        )\n",
    "\n",
    "    if apply_metric_to_cache:\n",
    "        _, cache = model.run_with_cache(orig_input, return_type=None)\n",
    "        model.reset_hooks()\n",
    "        return patching_metric(cache)\n",
    "    else:\n",
    "        if isinstance(patching_metric, str):\n",
    "            loss = model(orig_input, return_type=\"loss\", loss_per_token=(patching_metric == \"loss_per_token\"))\n",
    "            model.reset_hooks()\n",
    "            return loss\n",
    "        else:\n",
    "            logits = model(orig_input)\n",
    "            model.reset_hooks()\n",
    "            return patching_metric(logits)\n",
    "\n",
    "\n",
    "def act_patch(\n",
    "    model: HookedTransformer,\n",
    "    orig_input: Union[str, List[str], Int[Tensor, \"batch seq_len\"]],\n",
    "    patching_nodes: Union[IterNode, Node, List[Node]],\n",
    "    patching_metric: Union[Callable, Literal[\"loss\", \"loss_per_token\"]],\n",
    "    new_input: Optional[Union[str, List[str], Int[Tensor, \"batch seq_len\"]]] = None,\n",
    "    new_cache: Optional[ActivationCache] = None,\n",
    "    apply_metric_to_cache: bool = False,\n",
    "    verbose: bool = False,\n",
    ") -> Float[Tensor, \"...\"]:\n",
    "\n",
    "    # Check some arguments\n",
    "    assert (new_input is not None) or (new_cache is not None), \"Must specify either new_input or new_cache.\"\n",
    "    if isinstance(patching_metric, str): assert patching_metric in [\"loss\", \"loss_per_token\"]\n",
    "    assert not(isinstance(patching_metric, str) and apply_metric_to_cache)\n",
    "\n",
    "    # Get our cache for patching in (might be zero cache)\n",
    "    if new_cache == \"zero\":\n",
    "        _, cache = model.run_with_cache(orig_input, return_type=None)\n",
    "        new_cache = ActivationCache({k: t.zeros_like(v) for k, v in cache.items()}, model=model)\n",
    "    elif new_cache is None:\n",
    "        _, new_cache = model.run_with_cache(new_input, return_type=None)\n",
    "\n",
    "    # Get out backend patching function (fix all the arguments we won't be changing)\n",
    "    act_patch_single = partial(\n",
    "        _act_patch_single,\n",
    "        model=model,\n",
    "        orig_input=orig_input,\n",
    "        # patching_nodes=patching_nodes,\n",
    "        patching_metric=patching_metric,\n",
    "        new_cache=new_cache,\n",
    "        apply_metric_to_cache=apply_metric_to_cache,\n",
    "    )\n",
    "\n",
    "    # If we're not iterating over anything, i.e. it's just a single instance of activation patching:\n",
    "    if not isinstance(patching_nodes, IterNode):\n",
    "        return act_patch_single(patching_nodes=patching_nodes)\n",
    "\n",
    "    # If we're iterating over nodes:\n",
    "    results_dict = defaultdict(list)\n",
    "    nodes_dict = patching_nodes.get_node_dict(model, new_cache[\"q\", 0])\n",
    "    progress_bar = tqdm(total=sum(len(node_list) for node_list in nodes_dict.values()))\n",
    "    for node_name, node_list in nodes_dict.items():\n",
    "        progress_bar.set_description(f\"Patching {node_name!r}\")\n",
    "        for (seq_pos, node) in node_list:\n",
    "            node.seq_pos = seq_pos\n",
    "            results_dict[node_name].append(act_patch_single(patching_nodes=node))\n",
    "            progress_bar.update(1)\n",
    "            t.cuda.empty_cache()\n",
    "    progress_bar.close()\n",
    "    for node_name, node_shape_dict in patching_nodes.shape_values.items():\n",
    "        if verbose: print(f\"results[{node_name!r}].shape = ({', '.join(f'{s}={v}' for s, v in node_shape_dict.items())})\")\n",
    "    return {\n",
    "        node_name: t.tensor(results).reshape(list(patching_nodes.shape_values[node_name].values())) if isinstance(results[0], float) else results\n",
    "        for node_name, results in results_dict.items()\n",
    "    }\n"
   ]
  },
  {
   "cell_type": "code",
   "execution_count": 2,
   "metadata": {},
   "outputs": [],
   "source": [
    "import plotly.express as px\n",
    "import plotly.graph_objects as go\n",
    "from plotly.subplots import make_subplots\n",
    "\n",
    "update_layout_set = {\n",
    "    \"xaxis_range\", \"yaxis_range\", \"hovermode\", \"xaxis_title\", \"yaxis_title\", \"colorbar\", \"colorscale\", \"coloraxis\", \"title_x\", \"bargap\", \"bargroupgap\", \"xaxis_tickformat\",\n",
    "    \"yaxis_tickformat\", \"title_y\", \"legend_title_text\", \"xaxis_showgrid\", \"xaxis_gridwidth\", \"xaxis_gridcolor\", \"yaxis_showgrid\", \"yaxis_gridwidth\", \"yaxis_gridcolor\",\n",
    "    \"showlegend\", \"xaxis_tickmode\", \"yaxis_tickmode\", \"xaxis_tickangle\", \"yaxis_tickangle\", \"margin\", \"xaxis_visible\", \"yaxis_visible\", \"bargap\", \"bargroupgap\"\n",
    "}\n",
    "\n",
    "def imshow(tensor, renderer=None, **kwargs):\n",
    "    kwargs_post = {k: v for k, v in kwargs.items() if k in update_layout_set}\n",
    "    kwargs_pre = {k: v for k, v in kwargs.items() if k not in update_layout_set}\n",
    "    facet_labels = kwargs_pre.pop(\"facet_labels\", None)\n",
    "    border = kwargs_pre.pop(\"border\", False)\n",
    "    if \"color_continuous_scale\" not in kwargs_pre:\n",
    "        kwargs_pre[\"color_continuous_scale\"] = \"RdBu\"\n",
    "    if \"margin\" in kwargs_post and isinstance(kwargs_post[\"margin\"], int):\n",
    "        kwargs_post[\"margin\"] = dict.fromkeys(list(\"tblr\"), kwargs_post[\"margin\"])\n",
    "    fig = px.imshow(utils.to_numpy(tensor), color_continuous_midpoint=0.0, **kwargs_pre)\n",
    "    if facet_labels:\n",
    "        for i, label in enumerate(facet_labels):\n",
    "            fig.layout.annotations[i]['text'] = label\n",
    "    if border:\n",
    "        fig.update_xaxes(showline=True, linewidth=1, linecolor='black', mirror=True)\n",
    "        fig.update_yaxes(showline=True, linewidth=1, linecolor='black', mirror=True)\n",
    "    # things like `xaxis_tickmode` should be applied to all subplots. This is super janky lol but I'm under time pressure\n",
    "    for setting in [\"tickangle\"]:\n",
    "      if f\"xaxis_{setting}\" in kwargs_post:\n",
    "          i = 2\n",
    "          while f\"xaxis{i}\" in fig[\"layout\"]:\n",
    "            kwargs_post[f\"xaxis{i}_{setting}\"] = kwargs_post[f\"xaxis_{setting}\"]\n",
    "            i += 1\n",
    "    fig.update_layout(**kwargs_post)\n",
    "    fig.show(renderer=renderer)\n",
    "\n",
    "def hist(tensor, renderer=None, **kwargs):\n",
    "    kwargs_post = {k: v for k, v in kwargs.items() if k in update_layout_set}\n",
    "    kwargs_pre = {k: v for k, v in kwargs.items() if k not in update_layout_set}\n",
    "    names = kwargs_pre.pop(\"names\", None)\n",
    "    if \"barmode\" not in kwargs_post:\n",
    "        kwargs_post[\"barmode\"] = \"overlay\"\n",
    "    if \"bargap\" not in kwargs_post:\n",
    "        kwargs_post[\"bargap\"] = 0.0\n",
    "    if \"margin\" in kwargs_post and isinstance(kwargs_post[\"margin\"], int):\n",
    "        kwargs_post[\"margin\"] = dict.fromkeys(list(\"tblr\"), kwargs_post[\"margin\"])\n",
    "    fig = px.histogram(x=tensor, **kwargs_pre).update_layout(**kwargs_post)\n",
    "    if names is not None:\n",
    "        for i in range(len(fig.data)):\n",
    "            fig.data[i][\"name\"] = names[i // 2]\n",
    "    fig.show(renderer)\n"
   ]
  },
  {
   "cell_type": "code",
   "execution_count": 3,
   "metadata": {},
   "outputs": [
    {
     "name": "stderr",
     "output_type": "stream",
     "text": [
      "WARNING:root:You tried to specify center_unembed=True for a model using logit softcap, but this can't be done! Softcapping is not invariant upon adding a constantSetting center_unembed=False instead.\n",
      "Loading checkpoint shards: 100%|██████████| 8/8 [00:00<00:00,  8.74it/s]\n",
      "WARNING:root:You are not using LayerNorm, so the writing weights can't be centered! Skipping\n"
     ]
    },
    {
     "name": "stdout",
     "output_type": "stream",
     "text": [
      "Loaded pretrained model google/gemma-2-9b into HookedTransformer\n"
     ]
    }
   ],
   "source": [
    "from transformer_lens import HookedTransformer\n",
    "MODEL_NAME = \"google/gemma-2-9b\"\n",
    "DEVICE = \"cuda\"\n",
    "model = HookedTransformer.from_pretrained(\n",
    "    MODEL_NAME,\n",
    "    default_padding_side=\"left\",\n",
    "    device=DEVICE\n",
    ")\n",
    "\n",
    "model.set_use_split_qkv_input(True)\n"
   ]
  },
  {
   "cell_type": "code",
   "execution_count": 4,
   "metadata": {},
   "outputs": [
    {
     "name": "stdout",
     "output_type": "stream",
     "text": [
      "/root/mechanistic-unlearning\n"
     ]
    },
    {
     "name": "stderr",
     "output_type": "stream",
     "text": [
      "/root/venv/lib/python3.10/site-packages/IPython/core/magics/osm.py:393: UserWarning: This is now an optional IPython functionality, using bookmarks requires you to install the `pickleshare` library.\n",
      "  bkms = self.shell.db.get('bookmarks', {})\n",
      "/root/venv/lib/python3.10/site-packages/IPython/core/magics/osm.py:417: UserWarning: This is now an optional IPython functionality, setting dhist requires you to install the `pickleshare` library.\n",
      "  self.shell.db['dhist'] = compress_dhist(dhist)[-100:]\n"
     ]
    },
    {
     "name": "stdout",
     "output_type": "stream",
     "text": [
      "Forget dataset with  16  examples\n"
     ]
    }
   ],
   "source": [
    "%cd ~/mechanistic-unlearning\n",
    "from tasks.facts.CounterFactTask import CounterFactTask\n",
    "from transformers import AutoTokenizer\n",
    "\n",
    "right_tokenizer = AutoTokenizer.from_pretrained(MODEL_NAME, padding_side=\"right\")\n",
    "forget_facts = 16\n",
    "\n",
    "# 'prompt' is list of string prompts\n",
    "# 'subject' is the string main subject of the prompt\n",
    "# 'first_token' is int correct answer first tokens\n",
    "# 'target_true' and 'target_false' are the string true and false answers for the prompt\n",
    "forget_kwargs = {\"forget_fact_subset\": forget_facts, \"is_forget_dataset\": True, \"train_test_split\": False}\n",
    "forget_fact_eval = CounterFactTask(batch_size=32, tokenizer=right_tokenizer, device=DEVICE, criterion=\"cross_entropy\", **forget_kwargs)\n"
   ]
  },
  {
   "cell_type": "code",
   "execution_count": 5,
   "metadata": {},
   "outputs": [
    {
     "data": {
      "text/plain": [
       "['The mother tongue of {} is',\n",
       " 'The mother tongue of {} is',\n",
       " '{}, developed by',\n",
       " 'The official language of {} is',\n",
       " '{} has a citizenship from',\n",
       " 'The mother tongue of {} is',\n",
       " '{}, developed by',\n",
       " '{} follows the religion of',\n",
       " '{}, a citizen of',\n",
       " 'In {}, the language spoken is',\n",
       " '{}, developed by',\n",
       " '{} is a part of the continent of',\n",
       " 'The mother tongue of {} is',\n",
       " '{}, a citizen of',\n",
       " 'The mother tongue of {} is',\n",
       " '{}, developed by']"
      ]
     },
     "execution_count": 5,
     "metadata": {},
     "output_type": "execute_result"
    }
   ],
   "source": [
    "forget_fact_eval.train_dataset['relation']\n"
   ]
  },
  {
   "cell_type": "code",
   "execution_count": 6,
   "metadata": {},
   "outputs": [],
   "source": [
    "import torch\n",
    "import numpy as np\n",
    "from transformer_lens import utils\n",
    "\n",
    "def find_subarray_occurrences(arr, subarr):\n",
    "    n = len(arr)\n",
    "    m = len(subarr)\n",
    "    occurrences = []\n",
    "\n",
    "    # Traverse through the main array\n",
    "    for i in range(n - m + 1):\n",
    "        # Check if the subarray matches starting from index i\n",
    "        if arr[i:i + m] == subarr:\n",
    "            occurrences.extend(list(range(i, i+m)))\n",
    "    \n",
    "    return occurrences\n",
    "\n",
    "\n",
    "def find_subject_occurences(prompt_toks_tensor, subject_toks_list):\n",
    "    # Find positions where convolution result matches the sum of each subarray, accounting for their actual length\n",
    "    match_positions = []\n",
    "    for i, subarray in enumerate(subject_toks_list):\n",
    "        match_positions.append(find_subarray_occurrences(prompt_toks_tensor[i].tolist(), subarray))\n",
    "\n",
    "    return match_positions\n",
    "\n",
    "def is_ascii(s):\n",
    "    return all(ord(c) < 128 for c in s)\n",
    "\n",
    "def get_random_toks(ascii_toks, prompt_tok, num_rand_needed, idx_to_replace):\n",
    "    orig_len = prompt_tok.shape[0]\n",
    "    orig_prompt = prompt_tok.clone()\n",
    "    for _ in range(100):\n",
    "        rand = ascii_toks[torch.randint(0, ascii_toks.shape[0], (num_rand_needed,))]\n",
    "        orig_prompt[idx_to_replace] = rand\n",
    "        rand_prompt_len = len(model.tokenizer.encode(model.tokenizer.decode(orig_prompt), add_special_tokens=False))\n",
    "        if rand_prompt_len == orig_len:\n",
    "            return rand\n",
    "    return None\n",
    "\n",
    "ascii_toks = torch.tensor([i for i in range(model.cfg.d_vocab) if is_ascii(model.tokenizer.decode(i))])\n",
    "prompt_toks = model.tokenizer(forget_fact_eval.train_dataset['prompt'], padding=True, return_tensors=\"pt\")['input_ids']\n",
    "correct_toks = model.tokenizer(forget_fact_eval.train_dataset['target_true'], padding=True, return_tensors=\"pt\")['input_ids'][:, 1]\n",
    "wrong_toks = model.tokenizer(forget_fact_eval.train_dataset['target_false'], padding=True, return_tensors=\"pt\")['input_ids'][:, 1]\n",
    "\n",
    "all_subjects_toks = model.tokenizer.encode(\n",
    "    ''.join([' ' + x.strip() for x in forget_fact_eval.train_dataset['subject']]), \n",
    "    return_tensors=\"pt\",\n",
    "    add_special_tokens=False\n",
    ")\n",
    "mean_subject_embedding = model.W_E[all_subjects_toks].mean(dim=1).squeeze()\n",
    "subject_toks_list = model.tokenizer(forget_fact_eval.train_dataset['subject'], add_special_tokens=False)['input_ids']\n",
    "subject_idxs = find_subject_occurences(prompt_toks, subject_toks_list)\n",
    "\n",
    "rand_toks = prompt_toks.clone()\n",
    "for batch_idx in range(rand_toks.shape[0]):\n",
    "    # Replace with random token \n",
    "    rand_toks[batch_idx, subject_idxs[batch_idx]] = get_random_toks(ascii_toks, prompt_toks[batch_idx], len(subject_idxs[batch_idx]), subject_idxs[batch_idx])\n"
   ]
  },
  {
   "cell_type": "markdown",
   "metadata": {},
   "source": [
    "Our corrupt model is our clean model except with the subject embeddings set to the mean subject.\n",
    "\n",
    "When we patch our clean -> corrupt or vice versa, our corrupt nodes are nodes that have never seen the proper subject and therefore can't possibly complete the fact correctly."
   ]
  },
  {
   "cell_type": "code",
   "execution_count": 7,
   "metadata": {},
   "outputs": [
    {
     "name": "stdout",
     "output_type": "stream",
     "text": [
      "clean_logit_diff=7.992071151733398, corr_logit_diff=-1.4778228998184204\n"
     ]
    }
   ],
   "source": [
    "def corrupt_embedding_hook(act, hook):\n",
    "    if 'embed' in hook.name:\n",
    "        for batch_idx in range(act.shape[0]):\n",
    "            act[batch_idx, subject_idxs[batch_idx], :] = mean_subject_embedding\n",
    "    return act\n",
    "\n",
    "def ave_logit_diff(logits):\n",
    "    return (logits[range(logits.shape[0]), -1, correct_toks] - logits[range(logits.shape[0]), -1, wrong_toks]).mean()\n",
    "\n",
    "with torch.set_grad_enabled(False):\n",
    "    clean_logit_diff = ave_logit_diff(model(prompt_toks)).item()\n",
    "    corr_logit_diff = ave_logit_diff(model(rand_toks)).item()\n",
    "    print(f\"{clean_logit_diff=}, {corr_logit_diff=}\")\n",
    "\n",
    "def noising_metric(logits):\n",
    "    # used for patching corrupt -> clean\n",
    "    logit_diff = ave_logit_diff(logits)\n",
    "    return ((logit_diff - clean_logit_diff) / (clean_logit_diff - corr_logit_diff)).item()\n",
    "\n",
    "def denoising_metric(logits):\n",
    "    # used for patching clean -> corrupt\n",
    "    logit_diff = ave_logit_diff(logits)\n",
    "    return ((logit_diff - corr_logit_diff) / (clean_logit_diff - corr_logit_diff)).item()\n"
   ]
  },
  {
   "cell_type": "markdown",
   "metadata": {},
   "source": [
    "### Finding fact extraction heads/mlps\n",
    "\n",
    "What components have the greatest direct effect to the final output?\n",
    "\n",
    "MLPs that operate on the last token position *are* counted as part of the direct path. e.g if attn head L10H9 outputs some value into the last token position and MLP20 takes this value and converts it into the right answer, L10H9 gets \"credit\" for this as part of its direct effect."
   ]
  },
  {
   "cell_type": "code",
   "execution_count": 8,
   "metadata": {},
   "outputs": [],
   "source": [
    "# from libs.path_patching.path_patching import path_patch, Node, IterNode\n",
    "def imshow_to_sorted_list(tensor):\n",
    "    score_list = []\n",
    "    for y in range(tensor.shape[1]):\n",
    "        for x in range(tensor.shape[0]):\n",
    "            score_list.append((x, y, tensor[x, y].item()))\n",
    "    score_list.sort(key=lambda x: x[2], reverse=True)\n",
    "    return score_list\n"
   ]
  },
  {
   "cell_type": "code",
   "execution_count": 10,
   "metadata": {},
   "outputs": [
    {
     "name": "stderr",
     "output_type": "stream",
     "text": [
      "Patching over 'z': 100%|██████████| 672/672 [07:50<00:00,  1.43it/s]"
     ]
    },
    {
     "name": "stdout",
     "output_type": "stream",
     "text": [
      "results['z'].shape = (layer=42, head=16)\n"
     ]
    },
    {
     "name": "stderr",
     "output_type": "stream",
     "text": [
      "\n"
     ]
    }
   ],
   "source": [
    "attn_extraction_results = path_patch(\n",
    "    model,\n",
    "    orig_input=prompt_toks,\n",
    "    new_input=rand_toks,\n",
    "    sender_nodes=IterNode('z'), \n",
    "    receiver_nodes=Node('resid_post', model.cfg.n_layers-1),\n",
    "    patching_metric=noising_metric,\n",
    "    direct_includes_mlps=True,\n",
    "    verbose=True,\n",
    ")\n"
   ]
  },
  {
   "cell_type": "code",
   "execution_count": 20,
   "metadata": {},
   "outputs": [
    {
     "name": "stderr",
     "output_type": "stream",
     "text": [
      "Patching over 'z': 100%|██████████| 672/672 [07:40<00:00,  1.46it/s]"
     ]
    },
    {
     "name": "stdout",
     "output_type": "stream",
     "text": [
      "results['z'].shape = (layer=42, head=16)\n"
     ]
    },
    {
     "name": "stderr",
     "output_type": "stream",
     "text": [
      "\n"
     ]
    }
   ],
   "source": [
    "denoise_attn_extraction_results = path_patch(\n",
    "    model,\n",
    "    orig_input=rand_toks,\n",
    "    new_input=prompt_toks,\n",
    "    sender_nodes=IterNode('z'), \n",
    "    receiver_nodes=Node('resid_post', model.cfg.n_layers-1),\n",
    "    patching_metric=denoising_metric,\n",
    "    direct_includes_mlps=True,\n",
    "    verbose=True,\n",
    ")\n"
   ]
  },
  {
   "cell_type": "code",
   "execution_count": 39,
   "metadata": {},
   "outputs": [
    {
     "data": {
      "application/vnd.plotly.v1+json": {
       "config": {
        "plotlyServerURL": "https://plot.ly"
       },
       "data": [
        {
         "coloraxis": "coloraxis",
         "hovertemplate": "Head: %{x}<br>Layer: %{y}<br>color: %{z}<extra></extra>",
         "name": "0",
         "type": "heatmap",
         "xaxis": "x",
         "yaxis": "y",
         "z": [
          [
           0.00006705693522235379,
           0.00031284967553801835,
           -0.0004856595187447965,
           0.000008966915629571304,
           9.427666896044684e-7,
           -0.000049590944399824366,
           0.00007094851025613025,
           0.0003204201639164239,
           0.0009217422339133918,
           0.0009438582928851247,
           -0.0010026642121374607,
           -0.0011132514337077737,
           -0.00001557337054691743,
           -0.00017832466983236372,
           0.0003625185927376151,
           -0.00006501545431092381
          ],
          [
           0.0010658863466233015,
           0.00014947459567338228,
           0.000039794678741600364,
           -0.00007781723979860544,
           0.000001438959657207306,
           0.0005576358526013792,
           0.0000052242030506022274,
           -0.0007546740816906095,
           -0.00004774085391545668,
           -0.00019741391588468105,
           0.00011953997454838827,
           0.0016172630712389946,
           0.00026582475402392447,
           -0.00011131026258226484,
           -0.0004549522418528795,
           -0.00009226353722624481
          ],
          [
           0.000029785755032207817,
           -0.00017499308160040528,
           0.000049761067202780396,
           0.00007534336327807978,
           -0.000009427666554984171,
           0.0009126052027568221,
           -0.00013254022633191198,
           -0.0006668833666481078,
           -0.000270687451120466,
           0.00005240506652626209,
           0.000195967877516523,
           0.0004236141103319824,
           0.000016069563571363688,
           0.0007396748987957835,
           -0.00031075149308890104,
           -0.00004796768553205766
          ],
          [
           -0.0009635500609874725,
           -0.00014081956760492176,
           0.008118758909404278,
           -0.00006368991307681426,
           0.000612805422861129,
           0.0006121887126937509,
           -0.0002577722480054945,
           -0.000015183505638560746,
           -0.0006391107453964651,
           -0.00005378732021199539,
           0.0008854492916725576,
           0.008836735971271992,
           -0.00005814672840642743,
           0.000978726428002119,
           0.0001665436284383759,
           -0.001488181995227933
          ],
          [
           0.0027600592002272606,
           -0.0024497471749782562,
           0.0012743511470034719,
           -0.0014626564225181937,
           0.006229695864021778,
           0.0003170531417708844,
           0.0042919982224702835,
           0.000249528355197981,
           0.0027408068999648094,
           -0.00001506300122855464,
           0.002928928006440401,
           0.0009351252811029553,
           -0.002292787190526724,
           0.0006301651010289788,
           0.00009801937994780019,
           -0.0018715973710641265
          ],
          [
           -0.000028254646167624742,
           -0.00026654067914932966,
           -0.0028024271596223116,
           -0.0003587616956792772,
           0.00009029294596984982,
           0.0011058723321184516,
           0.0028178656939417124,
           -0.000009094508641283028,
           0.0001563078840263188,
           -0.00046262197429314256,
           -0.0006064187036827207,
           -0.00002263348869746551,
           -0.001775803742930293,
           -0.001524319057352841,
           0.0002529308258090168,
           -0.00030178457382135093
          ],
          [
           -0.0015625612577423453,
           0.0001137061626650393,
           -0.00016424695786554366,
           -0.00005512703864951618,
           0.0022377169225364923,
           -0.0013174490304663777,
           0.009859751909971237,
           0.01076063234359026,
           -0.000813182326965034,
           0.0009481751476414502,
           0.0008886887226253748,
           0.00036301478394307196,
           -0.005972979590296745,
           -0.0052654012106359005,
           0.0023749072570353746,
           0.0023091970942914486
          ],
          [
           0.000011334464943502098,
           0.00004145337879890576,
           0.0005356899346224964,
           -0.00016886155935935676,
           -0.0010655744699761271,
           0.0009036666597239673,
           -0.008478626608848572,
           0.000474239990580827,
           -0.000050271435611648485,
           -0.00605156971141696,
           -0.00003157204992021434,
           9.073243063539849e-7,
           -0.001581792370416224,
           -0.0005084914737381041,
           -0.00264524738304317,
           0.001310275518335402
          ],
          [
           -0.0010030540870502591,
           0.000632468843832612,
           -0.00211296696215868,
           0.00008000048546819016,
           0.01391859631985426,
           -0.007254716940224171,
           -0.002140824683010578,
           0.012650376185774803,
           0.0033210976980626583,
           -0.008680088445544243,
           0.00337782665155828,
           0.003916508052498102,
           -0.003619267139583826,
           -0.003913764841854572,
           0.0013099778443574905,
           0.004531574435532093
          ],
          [
           -0.00006846045289421454,
           -0.00034418070572428405,
           -0.00004601835462381132,
           0.000004338144208304584,
           0.003461158601567149,
           -0.0031675754580646753,
           0.001143505098298192,
           0.0003142815548926592,
           0.00037572442670352757,
           0.0010005589574575424,
           0.0002886283618863672,
           0.002822955371811986,
           0.0036189693491905928,
           0.003956564702093601,
           0.0005808647838421166,
           0.000003976632342528319
          ],
          [
           0.0016822501784190536,
           -0.00015208314289338887,
           -0.00005593512469204143,
           0.002160225762054324,
           -0.0006334257777780294,
           -0.00020628869242500514,
           0.0005290267872624099,
           -0.00034674673224799335,
           0.00043725944124162197,
           -0.0021373440977185965,
           0.00033824058482423425,
           -0.0003790205519180745,
           0.0035551022738218307,
           -0.0020525872241705656,
           -0.008575859479606152,
           0.004269364755600691
          ],
          [
           0.0031913856510072947,
           0.0018720368389040232,
           0.000028240468964213505,
           0.0002971983340103179,
           0.0021165465004742146,
           -0.0019505558302626014,
           -0.00030292582232505083,
           -0.0005276374286040664,
           -0.0010727408807724714,
           0.0000242496589635266,
           0.0027650282718241215,
           0.00012012832303298637,
           0.00047348151565529406,
           0.0004416755400598049,
           -0.000003430820015637437,
           -0.0008161027799360454
          ],
          [
           -0.00010066337563330308,
           -0.0005454011261463165,
           -0.00022517946490552276,
           0.0007676672539673746,
           0.0004158664378337562,
           0.0022383902687579393,
           -0.00022941127826925367,
           0.000055573615100001916,
           0.00003856128387269564,
           0.001029068836942315,
           0.00009425540338270366,
           -0.0004386771179269999,
           0.0002054876968031749,
           0.0003062857431359589,
           0.000012858487025368959,
           -0.00006641188520006835
          ],
          [
           0.0023173275403678417,
           0.0005082717398181558,
           -0.000027999460144201294,
           -0.0004445959930308163,
           -0.000006889993983349996,
           -0.000058224701206199825,
           -0.0005785539397038519,
           0.0000011270668665019912,
           0.002007058123126626,
           -0.0005680417525582016,
           -0.0010565153788775206,
           -0.00038153695641085505,
           -0.0014984674053266644,
           0.0005072155618108809,
           -0.00027425296138972044,
           -0.0003601864736992866
          ],
          [
           -0.00006037959610694088,
           0.0009450349607504904,
           0.0010730031644925475,
           0.001008682302199304,
           -0.000002076922100968659,
           -0.0019651013426482677,
           0.0011399041395634413,
           -0.0019246970769017935,
           0.00018497365817893296,
           -0.0004619202227331698,
           -0.0003218732890672982,
           0.00008653605618746951,
           0.0006038668798282743,
           0.00009810444316826761,
           0.0001659127592574805,
           -0.0005082575371488929
          ],
          [
           0.0019759114366024733,
           -0.001065156189724803,
           0.00044280971633270383,
           6.804932581871981e-7,
           0.0003920562448911369,
           -0.0010955303441733122,
           -0.00029981398256495595,
           0.00030500272987410426,
           -0.001937973778694868,
           0.0008812103769741952,
           -0.00007317429117392749,
           0.0000774061045376584,
           0.0001115300037781708,
           -0.0002990767825394869,
           0.002293942729011178,
           -0.0015397222014144063
          ],
          [
           0.0010537933558225632,
           0.0002764929085969925,
           0.0023661458399146795,
           -0.00020050449529662728,
           -0.0023888288997113705,
           0.0010032454738393426,
           0.0008684936328791082,
           -0.00008517506648786366,
           -0.000719175033736974,
           -0.0011841078521683812,
           -0.0002814194012898952,
           0.0008900142856873572,
           0.00035820170887745917,
           -0.000014332888895296492,
           0.0002549368655309081,
           -0.00014165601169224828
          ],
          [
           -0.000122191064292565,
           0.0004683069419115782,
           0.0017389862332493067,
           -0.0011082186829298735,
           -0.00007791647658450529,
           -0.000036016521335113794,
           0.0017806381219998002,
           -0.002439837669953704,
           -0.00033028022153303027,
           0.0002939659752883017,
           0.0003082705079577863,
           0.0031515343580394983,
           0.009022106416523457,
           -0.0031193385366350412,
           0.0013144152471795678,
           0.006655478850007057
          ],
          [
           -0.0008797076297923923,
           0.0006934438715688884,
           -0.0002416601637378335,
           0.0006153785507194698,
           -0.00016827321087475866,
           -0.001892543863505125,
           0.003178874496370554,
           -0.0012355913640931249,
           0.00020056120411027223,
           -0.0014210754306986928,
           -0.00013405716163106263,
           0.0004114857583772391,
           0.0004679312405642122,
           0.002472784835845232,
           0.000776860979385674,
           0.0002225071075372398
          ],
          [
           0.00015476258704438806,
           -0.0006472411914728582,
           0.0012679715873673558,
           -0.0000017012330317811575,
           -0.0011233029654249549,
           0.00010683034633984789,
           0.00004228272882755846,
           -0.00004167312363279052,
           -0.0005421404493972659,
           0.000371152360457927,
           -0.00008193563553504646,
           -0.00007187001028796658,
           -0.0003986556257586926,
           -0.00020290039537940174,
           0.001439101411961019,
           0.0001840875920606777
          ],
          [
           0.0004300646251067519,
           0.0012503921752795577,
           -0.0005224415799602866,
           0.0003887530183419585,
           0.036225058138370514,
           -0.0011308308457955718,
           -0.0008173432433977723,
           0.0013290528440847993,
           -0.00014418658975046128,
           0.0002129943750333041,
           0.0003037835122086108,
           0.0001513743045506999,
           0.0003665093972813338,
           -0.0013423508498817682,
           -0.00026011854060925543,
           0.0010949915740638971
          ],
          [
           -0.00023312564007937908,
           0.0017903351690620184,
           0.0006160448538139462,
           0.0007644136203452945,
           0.0010543179232627153,
           0.0016041068593040109,
           -0.0022692889906466007,
           0.002243664115667343,
           0.0017343433573842049,
           0.0048410785384476185,
           0.01493837870657444,
           -0.015415595844388008,
           -0.00012717426579911262,
           0.001086031785234809,
           0.0010544455144554377,
           0.0008393458556383848
          ],
          [
           -0.00024706157273612916,
           0.0010122265666723251,
           -0.00038247264456003904,
           0.0019387394422665238,
           0.0003020114090759307,
           0.0007792781689204276,
           0.002340981736779213,
           -0.0015088944928720593,
           0.0008677493897266686,
           0.002214133506640792,
           -0.00031361522269435227,
           0.00014381090295501053,
           0.0020468172151595354,
           -0.0024367186706513166,
           0.0009194384911097586,
           -0.0010307417251169682
          ],
          [
           -0.0004602189874276519,
           0.0025249274913221598,
           0.0010290121426805854,
           -0.00036884151631966233,
           -0.00004450142296263948,
           -0.0004123717953916639,
           -0.0023927134461700916,
           0.0002988144988194108,
           0.0003839966666419059,
           -0.0004887359100393951,
           0.0008332214201800525,
           0.00006481698073912412,
           0.0011676342692226171,
           -0.0011228066869080067,
           0.001106460695154965,
           -0.0012322739930823445
          ],
          [
           -0.00017803403898142278,
           0.0004915500176139176,
           0.0009800874395295978,
           -0.0018423928413540125,
           -0.003976306412369013,
           0.0034437424037605524,
           -0.00023591141507495195,
           0.00016172346659004688,
           0.0005938083049841225,
           -0.000672653375659138,
           -0.00008806716505205259,
           -0.0015401404816657305,
           -0.0000019067987295784405,
           0.00002252716149087064,
           0.00015524460468441248,
           0.0014312757411971688
          ],
          [
           -0.04138144478201866,
           0.08778639137744904,
           0.11559494584798813,
           0.013403179123997688,
           0.001274613430723548,
           -0.0003667716810014099,
           -0.005473228171467781,
           0.005462340544909239,
           -0.00027829338796436787,
           0.0009219407220371068,
           -0.0009399242117069662,
           -0.00044156922376714647,
           0.000607481983024627,
           0.00018136562721338123,
           0.001909123733639717,
           -0.00018520047888159752
          ],
          [
           -0.0026915776543319225,
           0.0036024318542331457,
           0.02644343487918377,
           0.01535309012979269,
           0.005348258651793003,
           -0.001044741366058588,
           0.0007846299558877945,
           -0.0006985546788200736,
           0.0005378944333642721,
           0.0019393276888877153,
           -0.0005522273713722825,
           -0.0009086356731131673,
           -0.0014058848610147834,
           -0.0013371407985687256,
           -0.00008438115764874965,
           -0.000006471774213423487
          ],
          [
           0.0008334411541000009,
           -0.0032864774111658335,
           0.0018059652065858245,
           0.001556330593302846,
           0.00004501888179220259,
           0.00016182979743462056,
           0.000044423450162867084,
           0.0002700636687222868,
           -0.0033323115203529596,
           0.0034164872486144304,
           -0.000304109591525048,
           -0.00013591434981208295,
           0.00022247876040637493,
           -0.00029290979728102684,
           -0.012160761281847954,
           0.011427090503275394
          ],
          [
           -0.00016372241952922195,
           -0.0005010840250179172,
           0.0009253998869098723,
           0.00004081541555933654,
           0.011871487833559513,
           -0.0056078736670315266,
           -0.00022121700749266893,
           -0.000024370163373532705,
           -0.0003508367808535695,
           -0.0008869945886544883,
           0.00032079583615995944,
           -0.004736070055514574,
           0.007600535172969103,
           -0.0021511949598789215,
           0.0007776903221383691,
           -0.002100002020597458
          ],
          [
           -0.0017417011549696326,
           0.00017647458298597485,
           0.0013511547585949302,
           -0.001179443672299385,
           -0.010709637776017189,
           0.0008642831235192716,
           0.007735910825431347,
           0.0005110787460580468,
           -2.8353884573562027e-8,
           -0.0006945850909687579,
           -0.0004416542942635715,
           0.0010066196555271745,
           0.012086317874491215,
           -0.0006183344521559775,
           0.174277201294899,
           0.15075774490833282
          ],
          [
           -0.0047623892314732075,
           -0.0009470055811107159,
           0.0028411727398633957,
           -0.00007390439714072272,
           -0.00016360191511921585,
           -0.00011340135824866593,
           0.0008656157297082245,
           -0.00035187171306461096,
           0.00023489067098125815,
           0.0010016222950071096,
           0.00018667489348445088,
           0.00043253140756860375,
           0.0009419089765287936,
           0.0002700920158531517,
           -0.0012734935153275728,
           0.006370919290930033
          ],
          [
           0.0005476978258229792,
           -0.0009115135762840509,
           -0.0019904852379113436,
           0.0019317500991746783,
           0.0001240907731698826,
           -0.0008342067012563348,
           0.00043650096631608903,
           -0.001653435523621738,
           0.00433861929923296,
           0.00018922673189081252,
           0.000057154342357534915,
           -0.0002566593757364899,
           0.00483457138761878,
           0.0011629274813458323,
           -0.005786333233118057,
           0.0008098507532849908
          ],
          [
           0.00006951663817744702,
           -0.00008198525756597519,
           0.0005576854455284774,
           -0.0004082675732206553,
           -0.007478209678083658,
           0.007966930978000164,
           -0.007057154085487127,
           0.00774599751457572,
           0.000502522976603359,
           -0.000834057864267379,
           -0.0022865920327603817,
           0.0020319102331995964,
           0.000011752685168175958,
           -0.00020247508655302227,
           -0.001208137720823288,
           0.0013662532437592745
          ],
          [
           -0.001625981880351901,
           0.00367720820941031,
           0.00017108024621848017,
           0.00023665570188313723,
           0.00452776113525033,
           -0.0042405216954648495,
           -0.030863231047987938,
           0.04943110793828964,
           0.00018961660680361092,
           -0.00045846813009120524,
           0.0004807401273865253,
           0.00030081343720667064,
           -0.002266900148242712,
           0.0013420318718999624,
           0.0007962196250446141,
           0.0016749915666878223
          ],
          [
           -0.00008603277092333883,
           0.00009681433584773913,
           -0.0000842393928905949,
           -0.00026629259809851646,
           0.003881653770804405,
           -0.000026744801289169118,
           -0.00030608728411607444,
           0.007954682223498821,
           -0.0018731355667114258,
           0.002446068450808525,
           -0.00009570853580953553,
           0.0002753162116277963,
           -0.0008900142856873572,
           -0.00106690707616508,
           0.002557832282036543,
           0.0016258400864899158
          ],
          [
           0.004216881934553385,
           0.002968722488731146,
           -0.0012824177974835038,
           0.00033884309232234955,
           -0.00044198744581080973,
           -0.0009402856812812388,
           -0.0003013734531123191,
           0.0004446527163963765,
           0.00017926034342963248,
           -0.0005200102459639311,
           -0.0003519425808917731,
           -0.000779285270255059,
           0.00024361658142879605,
           0.00006018111889716238,
           -0.00017779303016141057,
           -0.003299860516563058
          ],
          [
           0.002381230005994439,
           0.0004621257830876857,
           0.012175753712654114,
           -0.014632249251008034,
           -0.0021490897051990032,
           0.004357850179076195,
           -0.0005668225348927081,
           0.0026556034572422504,
           -0.00010210234177066013,
           0.0007373286061920226,
           0.0004084164393134415,
           -0.000663374550640583,
           0.007376326713711023,
           -0.0002365777181694284,
           0.000812154496088624,
           -0.0024184021167457104
          ],
          [
           -0.005709905177354813,
           -0.0015920422738417983,
           -0.00007872455898905173,
           -0.00014645489864051342,
           -0.00023588305339217186,
           0.013268611393868923,
           0.0018112886464223266,
           -0.005356722045689821,
           -0.0027126020286232233,
           0.003604494733735919,
           0.003215628210455179,
           0.00035518911317922175,
           0.3580457866191864,
           -0.26190072298049927,
           0.00552993593737483,
           0.005385487340390682
          ],
          [
           -0.00015115455607883632,
           0.001768793328665197,
           -0.00004252373764757067,
           -0.00005296505696605891,
           0.00040483675547875464,
           0.006821646820753813,
           0.000016501960999448784,
           -0.0000540283253940288,
           -0.00002770174432953354,
           0.00027895969105884433,
           -0.0005408361903391778,
           -0.00039141118759289384,
           -0.01703239046037197,
           0.00042284149094484746,
           0.003940275404602289,
           -0.0008936860831454396
          ],
          [
           0.022364417091012,
           -0.016623258590698242,
           0.015309297479689121,
           -0.008870193734765053,
           0.00035344535717740655,
           -0.00043166661635041237,
           -0.14518843591213226,
           0.17636725306510925,
           0.0003453290555626154,
           -0.00019235984655097127,
           0.00023453624453395605,
           0.012787672691047192,
           -0.04540185630321503,
           0.060275062918663025,
           0.0008915099315345287,
           0.00089820142602548
          ],
          [
           0.00030341491219587624,
           0.00021802011178806424,
           -0.033228982239961624,
           0.11183540523052216,
           -0.0000062236777012003586,
           -0.00006581645720871165,
           0.025776097550988197,
           -0.006961445789784193,
           -0.00020925875287503004,
           0.0001285848702536896,
           0.044026825577020645,
           -0.05379125848412514,
           0.04145592451095581,
           0.0024470535572618246,
           0.018403641879558563,
           -0.035406213253736496
          ],
          [
           0.005863044410943985,
           0.004098660312592983,
           0.001483964384533465,
           0.003973591141402721,
           0.0006138687022030354,
           0.0017661493038758636,
           0.02808486297726631,
           0.004035934340208769,
           0.005670004058629274,
           0.00047664297744631767,
           0.041329074651002884,
           -0.009949732571840286,
           -0.000359640660462901,
           -0.0009447230841033161,
           0.0035031295847147703,
           -0.00007921366341179237
          ]
         ]
        }
       ],
       "layout": {
        "coloraxis": {
         "cmid": 0,
         "colorscale": [
          [
           0,
           "rgb(103,0,31)"
          ],
          [
           0.1,
           "rgb(178,24,43)"
          ],
          [
           0.2,
           "rgb(214,96,77)"
          ],
          [
           0.3,
           "rgb(244,165,130)"
          ],
          [
           0.4,
           "rgb(253,219,199)"
          ],
          [
           0.5,
           "rgb(247,247,247)"
          ],
          [
           0.6,
           "rgb(209,229,240)"
          ],
          [
           0.7,
           "rgb(146,197,222)"
          ],
          [
           0.8,
           "rgb(67,147,195)"
          ],
          [
           0.9,
           "rgb(33,102,172)"
          ],
          [
           1,
           "rgb(5,48,97)"
          ]
         ]
        },
        "height": 600,
        "margin": {
         "l": 100,
         "r": 100
        },
        "template": {
         "data": {
          "bar": [
           {
            "error_x": {
             "color": "#2a3f5f"
            },
            "error_y": {
             "color": "#2a3f5f"
            },
            "marker": {
             "line": {
              "color": "#E5ECF6",
              "width": 0.5
             },
             "pattern": {
              "fillmode": "overlay",
              "size": 10,
              "solidity": 0.2
             }
            },
            "type": "bar"
           }
          ],
          "barpolar": [
           {
            "marker": {
             "line": {
              "color": "#E5ECF6",
              "width": 0.5
             },
             "pattern": {
              "fillmode": "overlay",
              "size": 10,
              "solidity": 0.2
             }
            },
            "type": "barpolar"
           }
          ],
          "carpet": [
           {
            "aaxis": {
             "endlinecolor": "#2a3f5f",
             "gridcolor": "white",
             "linecolor": "white",
             "minorgridcolor": "white",
             "startlinecolor": "#2a3f5f"
            },
            "baxis": {
             "endlinecolor": "#2a3f5f",
             "gridcolor": "white",
             "linecolor": "white",
             "minorgridcolor": "white",
             "startlinecolor": "#2a3f5f"
            },
            "type": "carpet"
           }
          ],
          "choropleth": [
           {
            "colorbar": {
             "outlinewidth": 0,
             "ticks": ""
            },
            "type": "choropleth"
           }
          ],
          "contour": [
           {
            "colorbar": {
             "outlinewidth": 0,
             "ticks": ""
            },
            "colorscale": [
             [
              0,
              "#0d0887"
             ],
             [
              0.1111111111111111,
              "#46039f"
             ],
             [
              0.2222222222222222,
              "#7201a8"
             ],
             [
              0.3333333333333333,
              "#9c179e"
             ],
             [
              0.4444444444444444,
              "#bd3786"
             ],
             [
              0.5555555555555556,
              "#d8576b"
             ],
             [
              0.6666666666666666,
              "#ed7953"
             ],
             [
              0.7777777777777778,
              "#fb9f3a"
             ],
             [
              0.8888888888888888,
              "#fdca26"
             ],
             [
              1,
              "#f0f921"
             ]
            ],
            "type": "contour"
           }
          ],
          "contourcarpet": [
           {
            "colorbar": {
             "outlinewidth": 0,
             "ticks": ""
            },
            "type": "contourcarpet"
           }
          ],
          "heatmap": [
           {
            "colorbar": {
             "outlinewidth": 0,
             "ticks": ""
            },
            "colorscale": [
             [
              0,
              "#0d0887"
             ],
             [
              0.1111111111111111,
              "#46039f"
             ],
             [
              0.2222222222222222,
              "#7201a8"
             ],
             [
              0.3333333333333333,
              "#9c179e"
             ],
             [
              0.4444444444444444,
              "#bd3786"
             ],
             [
              0.5555555555555556,
              "#d8576b"
             ],
             [
              0.6666666666666666,
              "#ed7953"
             ],
             [
              0.7777777777777778,
              "#fb9f3a"
             ],
             [
              0.8888888888888888,
              "#fdca26"
             ],
             [
              1,
              "#f0f921"
             ]
            ],
            "type": "heatmap"
           }
          ],
          "heatmapgl": [
           {
            "colorbar": {
             "outlinewidth": 0,
             "ticks": ""
            },
            "colorscale": [
             [
              0,
              "#0d0887"
             ],
             [
              0.1111111111111111,
              "#46039f"
             ],
             [
              0.2222222222222222,
              "#7201a8"
             ],
             [
              0.3333333333333333,
              "#9c179e"
             ],
             [
              0.4444444444444444,
              "#bd3786"
             ],
             [
              0.5555555555555556,
              "#d8576b"
             ],
             [
              0.6666666666666666,
              "#ed7953"
             ],
             [
              0.7777777777777778,
              "#fb9f3a"
             ],
             [
              0.8888888888888888,
              "#fdca26"
             ],
             [
              1,
              "#f0f921"
             ]
            ],
            "type": "heatmapgl"
           }
          ],
          "histogram": [
           {
            "marker": {
             "pattern": {
              "fillmode": "overlay",
              "size": 10,
              "solidity": 0.2
             }
            },
            "type": "histogram"
           }
          ],
          "histogram2d": [
           {
            "colorbar": {
             "outlinewidth": 0,
             "ticks": ""
            },
            "colorscale": [
             [
              0,
              "#0d0887"
             ],
             [
              0.1111111111111111,
              "#46039f"
             ],
             [
              0.2222222222222222,
              "#7201a8"
             ],
             [
              0.3333333333333333,
              "#9c179e"
             ],
             [
              0.4444444444444444,
              "#bd3786"
             ],
             [
              0.5555555555555556,
              "#d8576b"
             ],
             [
              0.6666666666666666,
              "#ed7953"
             ],
             [
              0.7777777777777778,
              "#fb9f3a"
             ],
             [
              0.8888888888888888,
              "#fdca26"
             ],
             [
              1,
              "#f0f921"
             ]
            ],
            "type": "histogram2d"
           }
          ],
          "histogram2dcontour": [
           {
            "colorbar": {
             "outlinewidth": 0,
             "ticks": ""
            },
            "colorscale": [
             [
              0,
              "#0d0887"
             ],
             [
              0.1111111111111111,
              "#46039f"
             ],
             [
              0.2222222222222222,
              "#7201a8"
             ],
             [
              0.3333333333333333,
              "#9c179e"
             ],
             [
              0.4444444444444444,
              "#bd3786"
             ],
             [
              0.5555555555555556,
              "#d8576b"
             ],
             [
              0.6666666666666666,
              "#ed7953"
             ],
             [
              0.7777777777777778,
              "#fb9f3a"
             ],
             [
              0.8888888888888888,
              "#fdca26"
             ],
             [
              1,
              "#f0f921"
             ]
            ],
            "type": "histogram2dcontour"
           }
          ],
          "mesh3d": [
           {
            "colorbar": {
             "outlinewidth": 0,
             "ticks": ""
            },
            "type": "mesh3d"
           }
          ],
          "parcoords": [
           {
            "line": {
             "colorbar": {
              "outlinewidth": 0,
              "ticks": ""
             }
            },
            "type": "parcoords"
           }
          ],
          "pie": [
           {
            "automargin": true,
            "type": "pie"
           }
          ],
          "scatter": [
           {
            "fillpattern": {
             "fillmode": "overlay",
             "size": 10,
             "solidity": 0.2
            },
            "type": "scatter"
           }
          ],
          "scatter3d": [
           {
            "line": {
             "colorbar": {
              "outlinewidth": 0,
              "ticks": ""
             }
            },
            "marker": {
             "colorbar": {
              "outlinewidth": 0,
              "ticks": ""
             }
            },
            "type": "scatter3d"
           }
          ],
          "scattercarpet": [
           {
            "marker": {
             "colorbar": {
              "outlinewidth": 0,
              "ticks": ""
             }
            },
            "type": "scattercarpet"
           }
          ],
          "scattergeo": [
           {
            "marker": {
             "colorbar": {
              "outlinewidth": 0,
              "ticks": ""
             }
            },
            "type": "scattergeo"
           }
          ],
          "scattergl": [
           {
            "marker": {
             "colorbar": {
              "outlinewidth": 0,
              "ticks": ""
             }
            },
            "type": "scattergl"
           }
          ],
          "scattermapbox": [
           {
            "marker": {
             "colorbar": {
              "outlinewidth": 0,
              "ticks": ""
             }
            },
            "type": "scattermapbox"
           }
          ],
          "scatterpolar": [
           {
            "marker": {
             "colorbar": {
              "outlinewidth": 0,
              "ticks": ""
             }
            },
            "type": "scatterpolar"
           }
          ],
          "scatterpolargl": [
           {
            "marker": {
             "colorbar": {
              "outlinewidth": 0,
              "ticks": ""
             }
            },
            "type": "scatterpolargl"
           }
          ],
          "scatterternary": [
           {
            "marker": {
             "colorbar": {
              "outlinewidth": 0,
              "ticks": ""
             }
            },
            "type": "scatterternary"
           }
          ],
          "surface": [
           {
            "colorbar": {
             "outlinewidth": 0,
             "ticks": ""
            },
            "colorscale": [
             [
              0,
              "#0d0887"
             ],
             [
              0.1111111111111111,
              "#46039f"
             ],
             [
              0.2222222222222222,
              "#7201a8"
             ],
             [
              0.3333333333333333,
              "#9c179e"
             ],
             [
              0.4444444444444444,
              "#bd3786"
             ],
             [
              0.5555555555555556,
              "#d8576b"
             ],
             [
              0.6666666666666666,
              "#ed7953"
             ],
             [
              0.7777777777777778,
              "#fb9f3a"
             ],
             [
              0.8888888888888888,
              "#fdca26"
             ],
             [
              1,
              "#f0f921"
             ]
            ],
            "type": "surface"
           }
          ],
          "table": [
           {
            "cells": {
             "fill": {
              "color": "#EBF0F8"
             },
             "line": {
              "color": "white"
             }
            },
            "header": {
             "fill": {
              "color": "#C8D4E3"
             },
             "line": {
              "color": "white"
             }
            },
            "type": "table"
           }
          ]
         },
         "layout": {
          "annotationdefaults": {
           "arrowcolor": "#2a3f5f",
           "arrowhead": 0,
           "arrowwidth": 1
          },
          "autotypenumbers": "strict",
          "coloraxis": {
           "colorbar": {
            "outlinewidth": 0,
            "ticks": ""
           }
          },
          "colorscale": {
           "diverging": [
            [
             0,
             "#8e0152"
            ],
            [
             0.1,
             "#c51b7d"
            ],
            [
             0.2,
             "#de77ae"
            ],
            [
             0.3,
             "#f1b6da"
            ],
            [
             0.4,
             "#fde0ef"
            ],
            [
             0.5,
             "#f7f7f7"
            ],
            [
             0.6,
             "#e6f5d0"
            ],
            [
             0.7,
             "#b8e186"
            ],
            [
             0.8,
             "#7fbc41"
            ],
            [
             0.9,
             "#4d9221"
            ],
            [
             1,
             "#276419"
            ]
           ],
           "sequential": [
            [
             0,
             "#0d0887"
            ],
            [
             0.1111111111111111,
             "#46039f"
            ],
            [
             0.2222222222222222,
             "#7201a8"
            ],
            [
             0.3333333333333333,
             "#9c179e"
            ],
            [
             0.4444444444444444,
             "#bd3786"
            ],
            [
             0.5555555555555556,
             "#d8576b"
            ],
            [
             0.6666666666666666,
             "#ed7953"
            ],
            [
             0.7777777777777778,
             "#fb9f3a"
            ],
            [
             0.8888888888888888,
             "#fdca26"
            ],
            [
             1,
             "#f0f921"
            ]
           ],
           "sequentialminus": [
            [
             0,
             "#0d0887"
            ],
            [
             0.1111111111111111,
             "#46039f"
            ],
            [
             0.2222222222222222,
             "#7201a8"
            ],
            [
             0.3333333333333333,
             "#9c179e"
            ],
            [
             0.4444444444444444,
             "#bd3786"
            ],
            [
             0.5555555555555556,
             "#d8576b"
            ],
            [
             0.6666666666666666,
             "#ed7953"
            ],
            [
             0.7777777777777778,
             "#fb9f3a"
            ],
            [
             0.8888888888888888,
             "#fdca26"
            ],
            [
             1,
             "#f0f921"
            ]
           ]
          },
          "colorway": [
           "#636efa",
           "#EF553B",
           "#00cc96",
           "#ab63fa",
           "#FFA15A",
           "#19d3f3",
           "#FF6692",
           "#B6E880",
           "#FF97FF",
           "#FECB52"
          ],
          "font": {
           "color": "#2a3f5f"
          },
          "geo": {
           "bgcolor": "white",
           "lakecolor": "white",
           "landcolor": "#E5ECF6",
           "showlakes": true,
           "showland": true,
           "subunitcolor": "white"
          },
          "hoverlabel": {
           "align": "left"
          },
          "hovermode": "closest",
          "mapbox": {
           "style": "light"
          },
          "paper_bgcolor": "white",
          "plot_bgcolor": "#E5ECF6",
          "polar": {
           "angularaxis": {
            "gridcolor": "white",
            "linecolor": "white",
            "ticks": ""
           },
           "bgcolor": "#E5ECF6",
           "radialaxis": {
            "gridcolor": "white",
            "linecolor": "white",
            "ticks": ""
           }
          },
          "scene": {
           "xaxis": {
            "backgroundcolor": "#E5ECF6",
            "gridcolor": "white",
            "gridwidth": 2,
            "linecolor": "white",
            "showbackground": true,
            "ticks": "",
            "zerolinecolor": "white"
           },
           "yaxis": {
            "backgroundcolor": "#E5ECF6",
            "gridcolor": "white",
            "gridwidth": 2,
            "linecolor": "white",
            "showbackground": true,
            "ticks": "",
            "zerolinecolor": "white"
           },
           "zaxis": {
            "backgroundcolor": "#E5ECF6",
            "gridcolor": "white",
            "gridwidth": 2,
            "linecolor": "white",
            "showbackground": true,
            "ticks": "",
            "zerolinecolor": "white"
           }
          },
          "shapedefaults": {
           "line": {
            "color": "#2a3f5f"
           }
          },
          "ternary": {
           "aaxis": {
            "gridcolor": "white",
            "linecolor": "white",
            "ticks": ""
           },
           "baxis": {
            "gridcolor": "white",
            "linecolor": "white",
            "ticks": ""
           },
           "bgcolor": "#E5ECF6",
           "caxis": {
            "gridcolor": "white",
            "linecolor": "white",
            "ticks": ""
           }
          },
          "title": {
           "x": 0.05
          },
          "xaxis": {
           "automargin": true,
           "gridcolor": "white",
           "linecolor": "white",
           "ticks": "",
           "title": {
            "standoff": 15
           },
           "zerolinecolor": "white",
           "zerolinewidth": 2
          },
          "yaxis": {
           "automargin": true,
           "gridcolor": "white",
           "linecolor": "white",
           "ticks": "",
           "title": {
            "standoff": 15
           },
           "zerolinecolor": "white",
           "zerolinewidth": 2
          }
         }
        },
        "title": {
         "text": "Denoising Attn Heads -> Final Logits"
        },
        "width": 500,
        "xaxis": {
         "anchor": "y",
         "constrain": "domain",
         "domain": [
          0,
          1
         ],
         "scaleanchor": "y",
         "title": {
          "text": "Head"
         }
        },
        "yaxis": {
         "anchor": "x",
         "autorange": "reversed",
         "constrain": "domain",
         "domain": [
          0,
          1
         ],
         "title": {
          "text": "Layer"
         }
        }
       }
      },
      "text/html": [
       "<div>                            <div id=\"54aa77fa-c608-4b5a-918a-c3e30e7edd3f\" class=\"plotly-graph-div\" style=\"height:600px; width:500px;\"></div>            <script type=\"text/javascript\">                require([\"plotly\"], function(Plotly) {                    window.PLOTLYENV=window.PLOTLYENV || {};                                    if (document.getElementById(\"54aa77fa-c608-4b5a-918a-c3e30e7edd3f\")) {                    Plotly.newPlot(                        \"54aa77fa-c608-4b5a-918a-c3e30e7edd3f\",                        [{\"coloraxis\":\"coloraxis\",\"name\":\"0\",\"z\":[[6.705693522235379e-05,0.00031284967553801835,-0.0004856595187447965,8.966915629571304e-06,9.427666896044684e-07,-4.9590944399824366e-05,7.094851025613025e-05,0.0003204201639164239,0.0009217422339133918,0.0009438582928851247,-0.0010026642121374607,-0.0011132514337077737,-1.557337054691743e-05,-0.00017832466983236372,0.0003625185927376151,-6.501545431092381e-05],[0.0010658863466233015,0.00014947459567338228,3.9794678741600364e-05,-7.781723979860544e-05,1.438959657207306e-06,0.0005576358526013792,5.2242030506022274e-06,-0.0007546740816906095,-4.774085391545668e-05,-0.00019741391588468105,0.00011953997454838827,0.0016172630712389946,0.00026582475402392447,-0.00011131026258226484,-0.0004549522418528795,-9.226353722624481e-05],[2.9785755032207817e-05,-0.00017499308160040528,4.9761067202780396e-05,7.534336327807978e-05,-9.427666554984171e-06,0.0009126052027568221,-0.00013254022633191198,-0.0006668833666481078,-0.000270687451120466,5.240506652626209e-05,0.000195967877516523,0.0004236141103319824,1.6069563571363688e-05,0.0007396748987957835,-0.00031075149308890104,-4.796768553205766e-05],[-0.0009635500609874725,-0.00014081956760492176,0.008118758909404278,-6.368991307681426e-05,0.000612805422861129,0.0006121887126937509,-0.0002577722480054945,-1.5183505638560746e-05,-0.0006391107453964651,-5.378732021199539e-05,0.0008854492916725576,0.008836735971271992,-5.814672840642743e-05,0.000978726428002119,0.0001665436284383759,-0.001488181995227933],[0.0027600592002272606,-0.0024497471749782562,0.0012743511470034719,-0.0014626564225181937,0.006229695864021778,0.0003170531417708844,0.0042919982224702835,0.000249528355197981,0.0027408068999648094,-1.506300122855464e-05,0.002928928006440401,0.0009351252811029553,-0.002292787190526724,0.0006301651010289788,9.801937994780019e-05,-0.0018715973710641265],[-2.8254646167624742e-05,-0.00026654067914932966,-0.0028024271596223116,-0.0003587616956792772,9.029294596984982e-05,0.0011058723321184516,0.0028178656939417124,-9.094508641283028e-06,0.0001563078840263188,-0.00046262197429314256,-0.0006064187036827207,-2.263348869746551e-05,-0.001775803742930293,-0.001524319057352841,0.0002529308258090168,-0.00030178457382135093],[-0.0015625612577423453,0.0001137061626650393,-0.00016424695786554366,-5.512703864951618e-05,0.0022377169225364923,-0.0013174490304663777,0.009859751909971237,0.01076063234359026,-0.000813182326965034,0.0009481751476414502,0.0008886887226253748,0.00036301478394307196,-0.005972979590296745,-0.0052654012106359005,0.0023749072570353746,0.0023091970942914486],[1.1334464943502098e-05,4.145337879890576e-05,0.0005356899346224964,-0.00016886155935935676,-0.0010655744699761271,0.0009036666597239673,-0.008478626608848572,0.000474239990580827,-5.0271435611648485e-05,-0.00605156971141696,-3.157204992021434e-05,9.073243063539849e-07,-0.001581792370416224,-0.0005084914737381041,-0.00264524738304317,0.001310275518335402],[-0.0010030540870502591,0.000632468843832612,-0.00211296696215868,8.000048546819016e-05,0.01391859631985426,-0.007254716940224171,-0.002140824683010578,0.012650376185774803,0.0033210976980626583,-0.008680088445544243,0.00337782665155828,0.003916508052498102,-0.003619267139583826,-0.003913764841854572,0.0013099778443574905,0.004531574435532093],[-6.846045289421454e-05,-0.00034418070572428405,-4.601835462381132e-05,4.338144208304584e-06,0.003461158601567149,-0.0031675754580646753,0.001143505098298192,0.0003142815548926592,0.00037572442670352757,0.0010005589574575424,0.0002886283618863672,0.002822955371811986,0.0036189693491905928,0.003956564702093601,0.0005808647838421166,3.976632342528319e-06],[0.0016822501784190536,-0.00015208314289338887,-5.593512469204143e-05,0.002160225762054324,-0.0006334257777780294,-0.00020628869242500514,0.0005290267872624099,-0.00034674673224799335,0.00043725944124162197,-0.0021373440977185965,0.00033824058482423425,-0.0003790205519180745,0.0035551022738218307,-0.0020525872241705656,-0.008575859479606152,0.004269364755600691],[0.0031913856510072947,0.0018720368389040232,2.8240468964213505e-05,0.0002971983340103179,0.0021165465004742146,-0.0019505558302626014,-0.00030292582232505083,-0.0005276374286040664,-0.0010727408807724714,2.42496589635266e-05,0.0027650282718241215,0.00012012832303298637,0.00047348151565529406,0.0004416755400598049,-3.430820015637437e-06,-0.0008161027799360454],[-0.00010066337563330308,-0.0005454011261463165,-0.00022517946490552276,0.0007676672539673746,0.0004158664378337562,0.0022383902687579393,-0.00022941127826925367,5.5573615100001916e-05,3.856128387269564e-05,0.001029068836942315,9.425540338270366e-05,-0.0004386771179269999,0.0002054876968031749,0.0003062857431359589,1.2858487025368959e-05,-6.641188520006835e-05],[0.0023173275403678417,0.0005082717398181558,-2.7999460144201294e-05,-0.0004445959930308163,-6.889993983349996e-06,-5.8224701206199825e-05,-0.0005785539397038519,1.1270668665019912e-06,0.002007058123126626,-0.0005680417525582016,-0.0010565153788775206,-0.00038153695641085505,-0.0014984674053266644,0.0005072155618108809,-0.00027425296138972044,-0.0003601864736992866],[-6.037959610694088e-05,0.0009450349607504904,0.0010730031644925475,0.001008682302199304,-2.076922100968659e-06,-0.0019651013426482677,0.0011399041395634413,-0.0019246970769017935,0.00018497365817893296,-0.0004619202227331698,-0.0003218732890672982,8.653605618746951e-05,0.0006038668798282743,9.810444316826761e-05,0.0001659127592574805,-0.0005082575371488929],[0.0019759114366024733,-0.001065156189724803,0.00044280971633270383,6.804932581871981e-07,0.0003920562448911369,-0.0010955303441733122,-0.00029981398256495595,0.00030500272987410426,-0.001937973778694868,0.0008812103769741952,-7.317429117392749e-05,7.74061045376584e-05,0.0001115300037781708,-0.0002990767825394869,0.002293942729011178,-0.0015397222014144063],[0.0010537933558225632,0.0002764929085969925,0.0023661458399146795,-0.00020050449529662728,-0.0023888288997113705,0.0010032454738393426,0.0008684936328791082,-8.517506648786366e-05,-0.000719175033736974,-0.0011841078521683812,-0.0002814194012898952,0.0008900142856873572,0.00035820170887745917,-1.4332888895296492e-05,0.0002549368655309081,-0.00014165601169224828],[-0.000122191064292565,0.0004683069419115782,0.0017389862332493067,-0.0011082186829298735,-7.791647658450529e-05,-3.6016521335113794e-05,0.0017806381219998002,-0.002439837669953704,-0.00033028022153303027,0.0002939659752883017,0.0003082705079577863,0.0031515343580394983,0.009022106416523457,-0.0031193385366350412,0.0013144152471795678,0.006655478850007057],[-0.0008797076297923923,0.0006934438715688884,-0.0002416601637378335,0.0006153785507194698,-0.00016827321087475866,-0.001892543863505125,0.003178874496370554,-0.0012355913640931249,0.00020056120411027223,-0.0014210754306986928,-0.00013405716163106263,0.0004114857583772391,0.0004679312405642122,0.002472784835845232,0.000776860979385674,0.0002225071075372398],[0.00015476258704438806,-0.0006472411914728582,0.0012679715873673558,-1.7012330317811575e-06,-0.0011233029654249549,0.00010683034633984789,4.228272882755846e-05,-4.167312363279052e-05,-0.0005421404493972659,0.000371152360457927,-8.193563553504646e-05,-7.187001028796658e-05,-0.0003986556257586926,-0.00020290039537940174,0.001439101411961019,0.0001840875920606777],[0.0004300646251067519,0.0012503921752795577,-0.0005224415799602866,0.0003887530183419585,0.036225058138370514,-0.0011308308457955718,-0.0008173432433977723,0.0013290528440847993,-0.00014418658975046128,0.0002129943750333041,0.0003037835122086108,0.0001513743045506999,0.0003665093972813338,-0.0013423508498817682,-0.00026011854060925543,0.0010949915740638971],[-0.00023312564007937908,0.0017903351690620184,0.0006160448538139462,0.0007644136203452945,0.0010543179232627153,0.0016041068593040109,-0.0022692889906466007,0.002243664115667343,0.0017343433573842049,0.0048410785384476185,0.01493837870657444,-0.015415595844388008,-0.00012717426579911262,0.001086031785234809,0.0010544455144554377,0.0008393458556383848],[-0.00024706157273612916,0.0010122265666723251,-0.00038247264456003904,0.0019387394422665238,0.0003020114090759307,0.0007792781689204276,0.002340981736779213,-0.0015088944928720593,0.0008677493897266686,0.002214133506640792,-0.00031361522269435227,0.00014381090295501053,0.0020468172151595354,-0.0024367186706513166,0.0009194384911097586,-0.0010307417251169682],[-0.0004602189874276519,0.0025249274913221598,0.0010290121426805854,-0.00036884151631966233,-4.450142296263948e-05,-0.0004123717953916639,-0.0023927134461700916,0.0002988144988194108,0.0003839966666419059,-0.0004887359100393951,0.0008332214201800525,6.481698073912412e-05,0.0011676342692226171,-0.0011228066869080067,0.001106460695154965,-0.0012322739930823445],[-0.00017803403898142278,0.0004915500176139176,0.0009800874395295978,-0.0018423928413540125,-0.003976306412369013,0.0034437424037605524,-0.00023591141507495195,0.00016172346659004688,0.0005938083049841225,-0.000672653375659138,-8.806716505205259e-05,-0.0015401404816657305,-1.9067987295784405e-06,2.252716149087064e-05,0.00015524460468441248,0.0014312757411971688],[-0.04138144478201866,0.08778639137744904,0.11559494584798813,0.013403179123997688,0.001274613430723548,-0.0003667716810014099,-0.005473228171467781,0.005462340544909239,-0.00027829338796436787,0.0009219407220371068,-0.0009399242117069662,-0.00044156922376714647,0.000607481983024627,0.00018136562721338123,0.001909123733639717,-0.00018520047888159752],[-0.0026915776543319225,0.0036024318542331457,0.02644343487918377,0.01535309012979269,0.005348258651793003,-0.001044741366058588,0.0007846299558877945,-0.0006985546788200736,0.0005378944333642721,0.0019393276888877153,-0.0005522273713722825,-0.0009086356731131673,-0.0014058848610147834,-0.0013371407985687256,-8.438115764874965e-05,-6.471774213423487e-06],[0.0008334411541000009,-0.0032864774111658335,0.0018059652065858245,0.001556330593302846,4.501888179220259e-05,0.00016182979743462056,4.4423450162867084e-05,0.0002700636687222868,-0.0033323115203529596,0.0034164872486144304,-0.000304109591525048,-0.00013591434981208295,0.00022247876040637493,-0.00029290979728102684,-0.012160761281847954,0.011427090503275394],[-0.00016372241952922195,-0.0005010840250179172,0.0009253998869098723,4.081541555933654e-05,0.011871487833559513,-0.0056078736670315266,-0.00022121700749266893,-2.4370163373532705e-05,-0.0003508367808535695,-0.0008869945886544883,0.00032079583615995944,-0.004736070055514574,0.007600535172969103,-0.0021511949598789215,0.0007776903221383691,-0.002100002020597458],[-0.0017417011549696326,0.00017647458298597485,0.0013511547585949302,-0.001179443672299385,-0.010709637776017189,0.0008642831235192716,0.007735910825431347,0.0005110787460580468,-2.8353884573562027e-08,-0.0006945850909687579,-0.0004416542942635715,0.0010066196555271745,0.012086317874491215,-0.0006183344521559775,0.174277201294899,0.15075774490833282],[-0.0047623892314732075,-0.0009470055811107159,0.0028411727398633957,-7.390439714072272e-05,-0.00016360191511921585,-0.00011340135824866593,0.0008656157297082245,-0.00035187171306461096,0.00023489067098125815,0.0010016222950071096,0.00018667489348445088,0.00043253140756860375,0.0009419089765287936,0.0002700920158531517,-0.0012734935153275728,0.006370919290930033],[0.0005476978258229792,-0.0009115135762840509,-0.0019904852379113436,0.0019317500991746783,0.0001240907731698826,-0.0008342067012563348,0.00043650096631608903,-0.001653435523621738,0.00433861929923296,0.00018922673189081252,5.7154342357534915e-05,-0.0002566593757364899,0.00483457138761878,0.0011629274813458323,-0.005786333233118057,0.0008098507532849908],[6.951663817744702e-05,-8.198525756597519e-05,0.0005576854455284774,-0.0004082675732206553,-0.007478209678083658,0.007966930978000164,-0.007057154085487127,0.00774599751457572,0.000502522976603359,-0.000834057864267379,-0.0022865920327603817,0.0020319102331995964,1.1752685168175958e-05,-0.00020247508655302227,-0.001208137720823288,0.0013662532437592745],[-0.001625981880351901,0.00367720820941031,0.00017108024621848017,0.00023665570188313723,0.00452776113525033,-0.0042405216954648495,-0.030863231047987938,0.04943110793828964,0.00018961660680361092,-0.00045846813009120524,0.0004807401273865253,0.00030081343720667064,-0.002266900148242712,0.0013420318718999624,0.0007962196250446141,0.0016749915666878223],[-8.603277092333883e-05,9.681433584773913e-05,-8.42393928905949e-05,-0.00026629259809851646,0.003881653770804405,-2.6744801289169118e-05,-0.00030608728411607444,0.007954682223498821,-0.0018731355667114258,0.002446068450808525,-9.570853580953553e-05,0.0002753162116277963,-0.0008900142856873572,-0.00106690707616508,0.002557832282036543,0.0016258400864899158],[0.004216881934553385,0.002968722488731146,-0.0012824177974835038,0.00033884309232234955,-0.00044198744581080973,-0.0009402856812812388,-0.0003013734531123191,0.0004446527163963765,0.00017926034342963248,-0.0005200102459639311,-0.0003519425808917731,-0.000779285270255059,0.00024361658142879605,6.018111889716238e-05,-0.00017779303016141057,-0.003299860516563058],[0.002381230005994439,0.0004621257830876857,0.012175753712654114,-0.014632249251008034,-0.0021490897051990032,0.004357850179076195,-0.0005668225348927081,0.0026556034572422504,-0.00010210234177066013,0.0007373286061920226,0.0004084164393134415,-0.000663374550640583,0.007376326713711023,-0.0002365777181694284,0.000812154496088624,-0.0024184021167457104],[-0.005709905177354813,-0.0015920422738417983,-7.872455898905173e-05,-0.00014645489864051342,-0.00023588305339217186,0.013268611393868923,0.0018112886464223266,-0.005356722045689821,-0.0027126020286232233,0.003604494733735919,0.003215628210455179,0.00035518911317922175,0.3580457866191864,-0.26190072298049927,0.00552993593737483,0.005385487340390682],[-0.00015115455607883632,0.001768793328665197,-4.252373764757067e-05,-5.296505696605891e-05,0.00040483675547875464,0.006821646820753813,1.6501960999448784e-05,-5.40283253940288e-05,-2.770174432953354e-05,0.00027895969105884433,-0.0005408361903391778,-0.00039141118759289384,-0.01703239046037197,0.00042284149094484746,0.003940275404602289,-0.0008936860831454396],[0.022364417091012,-0.016623258590698242,0.015309297479689121,-0.008870193734765053,0.00035344535717740655,-0.00043166661635041237,-0.14518843591213226,0.17636725306510925,0.0003453290555626154,-0.00019235984655097127,0.00023453624453395605,0.012787672691047192,-0.04540185630321503,0.060275062918663025,0.0008915099315345287,0.00089820142602548],[0.00030341491219587624,0.00021802011178806424,-0.033228982239961624,0.11183540523052216,-6.2236777012003586e-06,-6.581645720871165e-05,0.025776097550988197,-0.006961445789784193,-0.00020925875287503004,0.0001285848702536896,0.044026825577020645,-0.05379125848412514,0.04145592451095581,0.0024470535572618246,0.018403641879558563,-0.035406213253736496],[0.005863044410943985,0.004098660312592983,0.001483964384533465,0.003973591141402721,0.0006138687022030354,0.0017661493038758636,0.02808486297726631,0.004035934340208769,0.005670004058629274,0.00047664297744631767,0.041329074651002884,-0.009949732571840286,-0.000359640660462901,-0.0009447230841033161,0.0035031295847147703,-7.921366341179237e-05]],\"type\":\"heatmap\",\"xaxis\":\"x\",\"yaxis\":\"y\",\"hovertemplate\":\"Head: %{x}\\u003cbr\\u003eLayer: %{y}\\u003cbr\\u003ecolor: %{z}\\u003cextra\\u003e\\u003c\\u002fextra\\u003e\"}],                        {\"template\":{\"data\":{\"histogram2dcontour\":[{\"type\":\"histogram2dcontour\",\"colorbar\":{\"outlinewidth\":0,\"ticks\":\"\"},\"colorscale\":[[0.0,\"#0d0887\"],[0.1111111111111111,\"#46039f\"],[0.2222222222222222,\"#7201a8\"],[0.3333333333333333,\"#9c179e\"],[0.4444444444444444,\"#bd3786\"],[0.5555555555555556,\"#d8576b\"],[0.6666666666666666,\"#ed7953\"],[0.7777777777777778,\"#fb9f3a\"],[0.8888888888888888,\"#fdca26\"],[1.0,\"#f0f921\"]]}],\"choropleth\":[{\"type\":\"choropleth\",\"colorbar\":{\"outlinewidth\":0,\"ticks\":\"\"}}],\"histogram2d\":[{\"type\":\"histogram2d\",\"colorbar\":{\"outlinewidth\":0,\"ticks\":\"\"},\"colorscale\":[[0.0,\"#0d0887\"],[0.1111111111111111,\"#46039f\"],[0.2222222222222222,\"#7201a8\"],[0.3333333333333333,\"#9c179e\"],[0.4444444444444444,\"#bd3786\"],[0.5555555555555556,\"#d8576b\"],[0.6666666666666666,\"#ed7953\"],[0.7777777777777778,\"#fb9f3a\"],[0.8888888888888888,\"#fdca26\"],[1.0,\"#f0f921\"]]}],\"heatmap\":[{\"type\":\"heatmap\",\"colorbar\":{\"outlinewidth\":0,\"ticks\":\"\"},\"colorscale\":[[0.0,\"#0d0887\"],[0.1111111111111111,\"#46039f\"],[0.2222222222222222,\"#7201a8\"],[0.3333333333333333,\"#9c179e\"],[0.4444444444444444,\"#bd3786\"],[0.5555555555555556,\"#d8576b\"],[0.6666666666666666,\"#ed7953\"],[0.7777777777777778,\"#fb9f3a\"],[0.8888888888888888,\"#fdca26\"],[1.0,\"#f0f921\"]]}],\"heatmapgl\":[{\"type\":\"heatmapgl\",\"colorbar\":{\"outlinewidth\":0,\"ticks\":\"\"},\"colorscale\":[[0.0,\"#0d0887\"],[0.1111111111111111,\"#46039f\"],[0.2222222222222222,\"#7201a8\"],[0.3333333333333333,\"#9c179e\"],[0.4444444444444444,\"#bd3786\"],[0.5555555555555556,\"#d8576b\"],[0.6666666666666666,\"#ed7953\"],[0.7777777777777778,\"#fb9f3a\"],[0.8888888888888888,\"#fdca26\"],[1.0,\"#f0f921\"]]}],\"contourcarpet\":[{\"type\":\"contourcarpet\",\"colorbar\":{\"outlinewidth\":0,\"ticks\":\"\"}}],\"contour\":[{\"type\":\"contour\",\"colorbar\":{\"outlinewidth\":0,\"ticks\":\"\"},\"colorscale\":[[0.0,\"#0d0887\"],[0.1111111111111111,\"#46039f\"],[0.2222222222222222,\"#7201a8\"],[0.3333333333333333,\"#9c179e\"],[0.4444444444444444,\"#bd3786\"],[0.5555555555555556,\"#d8576b\"],[0.6666666666666666,\"#ed7953\"],[0.7777777777777778,\"#fb9f3a\"],[0.8888888888888888,\"#fdca26\"],[1.0,\"#f0f921\"]]}],\"surface\":[{\"type\":\"surface\",\"colorbar\":{\"outlinewidth\":0,\"ticks\":\"\"},\"colorscale\":[[0.0,\"#0d0887\"],[0.1111111111111111,\"#46039f\"],[0.2222222222222222,\"#7201a8\"],[0.3333333333333333,\"#9c179e\"],[0.4444444444444444,\"#bd3786\"],[0.5555555555555556,\"#d8576b\"],[0.6666666666666666,\"#ed7953\"],[0.7777777777777778,\"#fb9f3a\"],[0.8888888888888888,\"#fdca26\"],[1.0,\"#f0f921\"]]}],\"mesh3d\":[{\"type\":\"mesh3d\",\"colorbar\":{\"outlinewidth\":0,\"ticks\":\"\"}}],\"scatter\":[{\"fillpattern\":{\"fillmode\":\"overlay\",\"size\":10,\"solidity\":0.2},\"type\":\"scatter\"}],\"parcoords\":[{\"type\":\"parcoords\",\"line\":{\"colorbar\":{\"outlinewidth\":0,\"ticks\":\"\"}}}],\"scatterpolargl\":[{\"type\":\"scatterpolargl\",\"marker\":{\"colorbar\":{\"outlinewidth\":0,\"ticks\":\"\"}}}],\"bar\":[{\"error_x\":{\"color\":\"#2a3f5f\"},\"error_y\":{\"color\":\"#2a3f5f\"},\"marker\":{\"line\":{\"color\":\"#E5ECF6\",\"width\":0.5},\"pattern\":{\"fillmode\":\"overlay\",\"size\":10,\"solidity\":0.2}},\"type\":\"bar\"}],\"scattergeo\":[{\"type\":\"scattergeo\",\"marker\":{\"colorbar\":{\"outlinewidth\":0,\"ticks\":\"\"}}}],\"scatterpolar\":[{\"type\":\"scatterpolar\",\"marker\":{\"colorbar\":{\"outlinewidth\":0,\"ticks\":\"\"}}}],\"histogram\":[{\"marker\":{\"pattern\":{\"fillmode\":\"overlay\",\"size\":10,\"solidity\":0.2}},\"type\":\"histogram\"}],\"scattergl\":[{\"type\":\"scattergl\",\"marker\":{\"colorbar\":{\"outlinewidth\":0,\"ticks\":\"\"}}}],\"scatter3d\":[{\"type\":\"scatter3d\",\"line\":{\"colorbar\":{\"outlinewidth\":0,\"ticks\":\"\"}},\"marker\":{\"colorbar\":{\"outlinewidth\":0,\"ticks\":\"\"}}}],\"scattermapbox\":[{\"type\":\"scattermapbox\",\"marker\":{\"colorbar\":{\"outlinewidth\":0,\"ticks\":\"\"}}}],\"scatterternary\":[{\"type\":\"scatterternary\",\"marker\":{\"colorbar\":{\"outlinewidth\":0,\"ticks\":\"\"}}}],\"scattercarpet\":[{\"type\":\"scattercarpet\",\"marker\":{\"colorbar\":{\"outlinewidth\":0,\"ticks\":\"\"}}}],\"carpet\":[{\"aaxis\":{\"endlinecolor\":\"#2a3f5f\",\"gridcolor\":\"white\",\"linecolor\":\"white\",\"minorgridcolor\":\"white\",\"startlinecolor\":\"#2a3f5f\"},\"baxis\":{\"endlinecolor\":\"#2a3f5f\",\"gridcolor\":\"white\",\"linecolor\":\"white\",\"minorgridcolor\":\"white\",\"startlinecolor\":\"#2a3f5f\"},\"type\":\"carpet\"}],\"table\":[{\"cells\":{\"fill\":{\"color\":\"#EBF0F8\"},\"line\":{\"color\":\"white\"}},\"header\":{\"fill\":{\"color\":\"#C8D4E3\"},\"line\":{\"color\":\"white\"}},\"type\":\"table\"}],\"barpolar\":[{\"marker\":{\"line\":{\"color\":\"#E5ECF6\",\"width\":0.5},\"pattern\":{\"fillmode\":\"overlay\",\"size\":10,\"solidity\":0.2}},\"type\":\"barpolar\"}],\"pie\":[{\"automargin\":true,\"type\":\"pie\"}]},\"layout\":{\"autotypenumbers\":\"strict\",\"colorway\":[\"#636efa\",\"#EF553B\",\"#00cc96\",\"#ab63fa\",\"#FFA15A\",\"#19d3f3\",\"#FF6692\",\"#B6E880\",\"#FF97FF\",\"#FECB52\"],\"font\":{\"color\":\"#2a3f5f\"},\"hovermode\":\"closest\",\"hoverlabel\":{\"align\":\"left\"},\"paper_bgcolor\":\"white\",\"plot_bgcolor\":\"#E5ECF6\",\"polar\":{\"bgcolor\":\"#E5ECF6\",\"angularaxis\":{\"gridcolor\":\"white\",\"linecolor\":\"white\",\"ticks\":\"\"},\"radialaxis\":{\"gridcolor\":\"white\",\"linecolor\":\"white\",\"ticks\":\"\"}},\"ternary\":{\"bgcolor\":\"#E5ECF6\",\"aaxis\":{\"gridcolor\":\"white\",\"linecolor\":\"white\",\"ticks\":\"\"},\"baxis\":{\"gridcolor\":\"white\",\"linecolor\":\"white\",\"ticks\":\"\"},\"caxis\":{\"gridcolor\":\"white\",\"linecolor\":\"white\",\"ticks\":\"\"}},\"coloraxis\":{\"colorbar\":{\"outlinewidth\":0,\"ticks\":\"\"}},\"colorscale\":{\"sequential\":[[0.0,\"#0d0887\"],[0.1111111111111111,\"#46039f\"],[0.2222222222222222,\"#7201a8\"],[0.3333333333333333,\"#9c179e\"],[0.4444444444444444,\"#bd3786\"],[0.5555555555555556,\"#d8576b\"],[0.6666666666666666,\"#ed7953\"],[0.7777777777777778,\"#fb9f3a\"],[0.8888888888888888,\"#fdca26\"],[1.0,\"#f0f921\"]],\"sequentialminus\":[[0.0,\"#0d0887\"],[0.1111111111111111,\"#46039f\"],[0.2222222222222222,\"#7201a8\"],[0.3333333333333333,\"#9c179e\"],[0.4444444444444444,\"#bd3786\"],[0.5555555555555556,\"#d8576b\"],[0.6666666666666666,\"#ed7953\"],[0.7777777777777778,\"#fb9f3a\"],[0.8888888888888888,\"#fdca26\"],[1.0,\"#f0f921\"]],\"diverging\":[[0,\"#8e0152\"],[0.1,\"#c51b7d\"],[0.2,\"#de77ae\"],[0.3,\"#f1b6da\"],[0.4,\"#fde0ef\"],[0.5,\"#f7f7f7\"],[0.6,\"#e6f5d0\"],[0.7,\"#b8e186\"],[0.8,\"#7fbc41\"],[0.9,\"#4d9221\"],[1,\"#276419\"]]},\"xaxis\":{\"gridcolor\":\"white\",\"linecolor\":\"white\",\"ticks\":\"\",\"title\":{\"standoff\":15},\"zerolinecolor\":\"white\",\"automargin\":true,\"zerolinewidth\":2},\"yaxis\":{\"gridcolor\":\"white\",\"linecolor\":\"white\",\"ticks\":\"\",\"title\":{\"standoff\":15},\"zerolinecolor\":\"white\",\"automargin\":true,\"zerolinewidth\":2},\"scene\":{\"xaxis\":{\"backgroundcolor\":\"#E5ECF6\",\"gridcolor\":\"white\",\"linecolor\":\"white\",\"showbackground\":true,\"ticks\":\"\",\"zerolinecolor\":\"white\",\"gridwidth\":2},\"yaxis\":{\"backgroundcolor\":\"#E5ECF6\",\"gridcolor\":\"white\",\"linecolor\":\"white\",\"showbackground\":true,\"ticks\":\"\",\"zerolinecolor\":\"white\",\"gridwidth\":2},\"zaxis\":{\"backgroundcolor\":\"#E5ECF6\",\"gridcolor\":\"white\",\"linecolor\":\"white\",\"showbackground\":true,\"ticks\":\"\",\"zerolinecolor\":\"white\",\"gridwidth\":2}},\"shapedefaults\":{\"line\":{\"color\":\"#2a3f5f\"}},\"annotationdefaults\":{\"arrowcolor\":\"#2a3f5f\",\"arrowhead\":0,\"arrowwidth\":1},\"geo\":{\"bgcolor\":\"white\",\"landcolor\":\"#E5ECF6\",\"subunitcolor\":\"white\",\"showland\":true,\"showlakes\":true,\"lakecolor\":\"white\"},\"title\":{\"x\":0.05},\"mapbox\":{\"style\":\"light\"}}},\"xaxis\":{\"anchor\":\"y\",\"domain\":[0.0,1.0],\"scaleanchor\":\"y\",\"constrain\":\"domain\",\"title\":{\"text\":\"Head\"}},\"yaxis\":{\"anchor\":\"x\",\"domain\":[0.0,1.0],\"autorange\":\"reversed\",\"constrain\":\"domain\",\"title\":{\"text\":\"Layer\"}},\"coloraxis\":{\"colorscale\":[[0.0,\"rgb(103,0,31)\"],[0.1,\"rgb(178,24,43)\"],[0.2,\"rgb(214,96,77)\"],[0.3,\"rgb(244,165,130)\"],[0.4,\"rgb(253,219,199)\"],[0.5,\"rgb(247,247,247)\"],[0.6,\"rgb(209,229,240)\"],[0.7,\"rgb(146,197,222)\"],[0.8,\"rgb(67,147,195)\"],[0.9,\"rgb(33,102,172)\"],[1.0,\"rgb(5,48,97)\"]],\"cmid\":0.0},\"title\":{\"text\":\"Denoising Attn Heads -\\u003e Final Logits\"},\"height\":600,\"width\":500,\"margin\":{\"r\":100,\"l\":100}},                        {\"responsive\": true}                    ).then(function(){\n",
       "                            \n",
       "var gd = document.getElementById('54aa77fa-c608-4b5a-918a-c3e30e7edd3f');\n",
       "var x = new MutationObserver(function (mutations, observer) {{\n",
       "        var display = window.getComputedStyle(gd).display;\n",
       "        if (!display || display === 'none') {{\n",
       "            console.log([gd, 'removed!']);\n",
       "            Plotly.purge(gd);\n",
       "            observer.disconnect();\n",
       "        }}\n",
       "}});\n",
       "\n",
       "// Listen for the removal of the full notebook cells\n",
       "var notebookContainer = gd.closest('#notebook-container');\n",
       "if (notebookContainer) {{\n",
       "    x.observe(notebookContainer, {childList: true});\n",
       "}}\n",
       "\n",
       "// Listen for the clearing of the current output cell\n",
       "var outputEl = gd.closest('.output');\n",
       "if (outputEl) {{\n",
       "    x.observe(outputEl, {childList: true});\n",
       "}}\n",
       "\n",
       "                        })                };                });            </script>        </div>"
      ]
     },
     "metadata": {},
     "output_type": "display_data"
    }
   ],
   "source": [
    "imshow(\n",
    "    denoise_attn_extraction_results['z'], \n",
    "    width=500, \n",
    "    height=600, \n",
    "    title=\"Denoising Attn Heads -> Final Logits\", \n",
    "    labels={\"x\": \"Head\", \"y\": \"Layer\"},\n",
    "    margin={'r': 100, 'l': 100}\n",
    ")\n"
   ]
  },
  {
   "cell_type": "code",
   "execution_count": 37,
   "metadata": {},
   "outputs": [
    {
     "name": "stderr",
     "output_type": "stream",
     "text": [
      "Patching over 'mlp_out':  29%|██▊       | 12/42 [19:56<49:50, 99.69s/it]\n",
      "Patching over 'mlp_out': 100%|██████████| 42/42 [00:28<00:00,  1.49it/s]"
     ]
    },
    {
     "name": "stdout",
     "output_type": "stream",
     "text": [
      "results['mlp_out'].shape = (layer=42)\n"
     ]
    },
    {
     "name": "stderr",
     "output_type": "stream",
     "text": [
      "\n"
     ]
    }
   ],
   "source": [
    "denoise_mlp_extraction_results = path_patch(\n",
    "    model,\n",
    "    orig_input=rand_toks,\n",
    "    new_input=prompt_toks,\n",
    "    sender_nodes=IterNode('mlp_out'),\n",
    "    receiver_nodes=Node('resid_post', model.cfg.n_layers-1), \n",
    "    patching_metric=denoising_metric,\n",
    "    direct_includes_mlps=True,\n",
    "    verbose=True,\n",
    ")\n"
   ]
  },
  {
   "cell_type": "code",
   "execution_count": 38,
   "metadata": {},
   "outputs": [
    {
     "data": {
      "application/vnd.plotly.v1+json": {
       "config": {
        "plotlyServerURL": "https://plot.ly"
       },
       "data": [
        {
         "line": {
          "color": "blue"
         },
         "mode": "lines+markers",
         "name": "MLP Out",
         "type": "scatter",
         "x": [
          0,
          1,
          2,
          3,
          4,
          5,
          6,
          7,
          8,
          9,
          10,
          11,
          12,
          13,
          14,
          15,
          16,
          17,
          18,
          19,
          20,
          21,
          22,
          23,
          24,
          25,
          26,
          27,
          28,
          29,
          30,
          31,
          32,
          33,
          34,
          35,
          36,
          37,
          38,
          39,
          40,
          41
         ],
         "y": [
          -0.00011966047895839438,
          -0.0005870813620276749,
          -0.0036577715072780848,
          0.006086274515837431,
          0.011645634658634663,
          -0.0019714313093572855,
          0.014706493355333805,
          -0.0016089624259620905,
          -0.0030867457389831543,
          0.009852748364210129,
          0.0006304060807451606,
          0.005104932468384504,
          0.001558861113153398,
          -0.000817307794932276,
          -0.0029197484254837036,
          0.005524633917957544,
          0.0021759197115898132,
          0.0032960823737084866,
          -0.011500392109155655,
          -0.006705140694975853,
          -0.007692061364650726,
          0.003924461081624031,
          -0.004297420848160982,
          0.003706660820171237,
          -0.004205802455544472,
          -0.005690908059477806,
          -0.0034605632536113262,
          0.007588718552142382,
          0.04570861533284187,
          0.04896864667534828,
          0.06035454571247101,
          0.1431039422750473,
          0.11084163188934326,
          0.12764579057693481,
          0.08924675732851028,
          0.12141275405883789,
          0.06982001662254333,
          0.016637520864605904,
          0.06760721653699875,
          -0.21868669986724854,
          -0.05421311780810356,
          -0.11174118518829346
         ]
        }
       ],
       "layout": {
        "margin": {
         "l": 100,
         "r": 100
        },
        "template": {
         "data": {
          "bar": [
           {
            "error_x": {
             "color": "#2a3f5f"
            },
            "error_y": {
             "color": "#2a3f5f"
            },
            "marker": {
             "line": {
              "color": "#E5ECF6",
              "width": 0.5
             },
             "pattern": {
              "fillmode": "overlay",
              "size": 10,
              "solidity": 0.2
             }
            },
            "type": "bar"
           }
          ],
          "barpolar": [
           {
            "marker": {
             "line": {
              "color": "#E5ECF6",
              "width": 0.5
             },
             "pattern": {
              "fillmode": "overlay",
              "size": 10,
              "solidity": 0.2
             }
            },
            "type": "barpolar"
           }
          ],
          "carpet": [
           {
            "aaxis": {
             "endlinecolor": "#2a3f5f",
             "gridcolor": "white",
             "linecolor": "white",
             "minorgridcolor": "white",
             "startlinecolor": "#2a3f5f"
            },
            "baxis": {
             "endlinecolor": "#2a3f5f",
             "gridcolor": "white",
             "linecolor": "white",
             "minorgridcolor": "white",
             "startlinecolor": "#2a3f5f"
            },
            "type": "carpet"
           }
          ],
          "choropleth": [
           {
            "colorbar": {
             "outlinewidth": 0,
             "ticks": ""
            },
            "type": "choropleth"
           }
          ],
          "contour": [
           {
            "colorbar": {
             "outlinewidth": 0,
             "ticks": ""
            },
            "colorscale": [
             [
              0,
              "#0d0887"
             ],
             [
              0.1111111111111111,
              "#46039f"
             ],
             [
              0.2222222222222222,
              "#7201a8"
             ],
             [
              0.3333333333333333,
              "#9c179e"
             ],
             [
              0.4444444444444444,
              "#bd3786"
             ],
             [
              0.5555555555555556,
              "#d8576b"
             ],
             [
              0.6666666666666666,
              "#ed7953"
             ],
             [
              0.7777777777777778,
              "#fb9f3a"
             ],
             [
              0.8888888888888888,
              "#fdca26"
             ],
             [
              1,
              "#f0f921"
             ]
            ],
            "type": "contour"
           }
          ],
          "contourcarpet": [
           {
            "colorbar": {
             "outlinewidth": 0,
             "ticks": ""
            },
            "type": "contourcarpet"
           }
          ],
          "heatmap": [
           {
            "colorbar": {
             "outlinewidth": 0,
             "ticks": ""
            },
            "colorscale": [
             [
              0,
              "#0d0887"
             ],
             [
              0.1111111111111111,
              "#46039f"
             ],
             [
              0.2222222222222222,
              "#7201a8"
             ],
             [
              0.3333333333333333,
              "#9c179e"
             ],
             [
              0.4444444444444444,
              "#bd3786"
             ],
             [
              0.5555555555555556,
              "#d8576b"
             ],
             [
              0.6666666666666666,
              "#ed7953"
             ],
             [
              0.7777777777777778,
              "#fb9f3a"
             ],
             [
              0.8888888888888888,
              "#fdca26"
             ],
             [
              1,
              "#f0f921"
             ]
            ],
            "type": "heatmap"
           }
          ],
          "heatmapgl": [
           {
            "colorbar": {
             "outlinewidth": 0,
             "ticks": ""
            },
            "colorscale": [
             [
              0,
              "#0d0887"
             ],
             [
              0.1111111111111111,
              "#46039f"
             ],
             [
              0.2222222222222222,
              "#7201a8"
             ],
             [
              0.3333333333333333,
              "#9c179e"
             ],
             [
              0.4444444444444444,
              "#bd3786"
             ],
             [
              0.5555555555555556,
              "#d8576b"
             ],
             [
              0.6666666666666666,
              "#ed7953"
             ],
             [
              0.7777777777777778,
              "#fb9f3a"
             ],
             [
              0.8888888888888888,
              "#fdca26"
             ],
             [
              1,
              "#f0f921"
             ]
            ],
            "type": "heatmapgl"
           }
          ],
          "histogram": [
           {
            "marker": {
             "pattern": {
              "fillmode": "overlay",
              "size": 10,
              "solidity": 0.2
             }
            },
            "type": "histogram"
           }
          ],
          "histogram2d": [
           {
            "colorbar": {
             "outlinewidth": 0,
             "ticks": ""
            },
            "colorscale": [
             [
              0,
              "#0d0887"
             ],
             [
              0.1111111111111111,
              "#46039f"
             ],
             [
              0.2222222222222222,
              "#7201a8"
             ],
             [
              0.3333333333333333,
              "#9c179e"
             ],
             [
              0.4444444444444444,
              "#bd3786"
             ],
             [
              0.5555555555555556,
              "#d8576b"
             ],
             [
              0.6666666666666666,
              "#ed7953"
             ],
             [
              0.7777777777777778,
              "#fb9f3a"
             ],
             [
              0.8888888888888888,
              "#fdca26"
             ],
             [
              1,
              "#f0f921"
             ]
            ],
            "type": "histogram2d"
           }
          ],
          "histogram2dcontour": [
           {
            "colorbar": {
             "outlinewidth": 0,
             "ticks": ""
            },
            "colorscale": [
             [
              0,
              "#0d0887"
             ],
             [
              0.1111111111111111,
              "#46039f"
             ],
             [
              0.2222222222222222,
              "#7201a8"
             ],
             [
              0.3333333333333333,
              "#9c179e"
             ],
             [
              0.4444444444444444,
              "#bd3786"
             ],
             [
              0.5555555555555556,
              "#d8576b"
             ],
             [
              0.6666666666666666,
              "#ed7953"
             ],
             [
              0.7777777777777778,
              "#fb9f3a"
             ],
             [
              0.8888888888888888,
              "#fdca26"
             ],
             [
              1,
              "#f0f921"
             ]
            ],
            "type": "histogram2dcontour"
           }
          ],
          "mesh3d": [
           {
            "colorbar": {
             "outlinewidth": 0,
             "ticks": ""
            },
            "type": "mesh3d"
           }
          ],
          "parcoords": [
           {
            "line": {
             "colorbar": {
              "outlinewidth": 0,
              "ticks": ""
             }
            },
            "type": "parcoords"
           }
          ],
          "pie": [
           {
            "automargin": true,
            "type": "pie"
           }
          ],
          "scatter": [
           {
            "fillpattern": {
             "fillmode": "overlay",
             "size": 10,
             "solidity": 0.2
            },
            "type": "scatter"
           }
          ],
          "scatter3d": [
           {
            "line": {
             "colorbar": {
              "outlinewidth": 0,
              "ticks": ""
             }
            },
            "marker": {
             "colorbar": {
              "outlinewidth": 0,
              "ticks": ""
             }
            },
            "type": "scatter3d"
           }
          ],
          "scattercarpet": [
           {
            "marker": {
             "colorbar": {
              "outlinewidth": 0,
              "ticks": ""
             }
            },
            "type": "scattercarpet"
           }
          ],
          "scattergeo": [
           {
            "marker": {
             "colorbar": {
              "outlinewidth": 0,
              "ticks": ""
             }
            },
            "type": "scattergeo"
           }
          ],
          "scattergl": [
           {
            "marker": {
             "colorbar": {
              "outlinewidth": 0,
              "ticks": ""
             }
            },
            "type": "scattergl"
           }
          ],
          "scattermapbox": [
           {
            "marker": {
             "colorbar": {
              "outlinewidth": 0,
              "ticks": ""
             }
            },
            "type": "scattermapbox"
           }
          ],
          "scatterpolar": [
           {
            "marker": {
             "colorbar": {
              "outlinewidth": 0,
              "ticks": ""
             }
            },
            "type": "scatterpolar"
           }
          ],
          "scatterpolargl": [
           {
            "marker": {
             "colorbar": {
              "outlinewidth": 0,
              "ticks": ""
             }
            },
            "type": "scatterpolargl"
           }
          ],
          "scatterternary": [
           {
            "marker": {
             "colorbar": {
              "outlinewidth": 0,
              "ticks": ""
             }
            },
            "type": "scatterternary"
           }
          ],
          "surface": [
           {
            "colorbar": {
             "outlinewidth": 0,
             "ticks": ""
            },
            "colorscale": [
             [
              0,
              "#0d0887"
             ],
             [
              0.1111111111111111,
              "#46039f"
             ],
             [
              0.2222222222222222,
              "#7201a8"
             ],
             [
              0.3333333333333333,
              "#9c179e"
             ],
             [
              0.4444444444444444,
              "#bd3786"
             ],
             [
              0.5555555555555556,
              "#d8576b"
             ],
             [
              0.6666666666666666,
              "#ed7953"
             ],
             [
              0.7777777777777778,
              "#fb9f3a"
             ],
             [
              0.8888888888888888,
              "#fdca26"
             ],
             [
              1,
              "#f0f921"
             ]
            ],
            "type": "surface"
           }
          ],
          "table": [
           {
            "cells": {
             "fill": {
              "color": "#EBF0F8"
             },
             "line": {
              "color": "white"
             }
            },
            "header": {
             "fill": {
              "color": "#C8D4E3"
             },
             "line": {
              "color": "white"
             }
            },
            "type": "table"
           }
          ]
         },
         "layout": {
          "annotationdefaults": {
           "arrowcolor": "#2a3f5f",
           "arrowhead": 0,
           "arrowwidth": 1
          },
          "autotypenumbers": "strict",
          "coloraxis": {
           "colorbar": {
            "outlinewidth": 0,
            "ticks": ""
           }
          },
          "colorscale": {
           "diverging": [
            [
             0,
             "#8e0152"
            ],
            [
             0.1,
             "#c51b7d"
            ],
            [
             0.2,
             "#de77ae"
            ],
            [
             0.3,
             "#f1b6da"
            ],
            [
             0.4,
             "#fde0ef"
            ],
            [
             0.5,
             "#f7f7f7"
            ],
            [
             0.6,
             "#e6f5d0"
            ],
            [
             0.7,
             "#b8e186"
            ],
            [
             0.8,
             "#7fbc41"
            ],
            [
             0.9,
             "#4d9221"
            ],
            [
             1,
             "#276419"
            ]
           ],
           "sequential": [
            [
             0,
             "#0d0887"
            ],
            [
             0.1111111111111111,
             "#46039f"
            ],
            [
             0.2222222222222222,
             "#7201a8"
            ],
            [
             0.3333333333333333,
             "#9c179e"
            ],
            [
             0.4444444444444444,
             "#bd3786"
            ],
            [
             0.5555555555555556,
             "#d8576b"
            ],
            [
             0.6666666666666666,
             "#ed7953"
            ],
            [
             0.7777777777777778,
             "#fb9f3a"
            ],
            [
             0.8888888888888888,
             "#fdca26"
            ],
            [
             1,
             "#f0f921"
            ]
           ],
           "sequentialminus": [
            [
             0,
             "#0d0887"
            ],
            [
             0.1111111111111111,
             "#46039f"
            ],
            [
             0.2222222222222222,
             "#7201a8"
            ],
            [
             0.3333333333333333,
             "#9c179e"
            ],
            [
             0.4444444444444444,
             "#bd3786"
            ],
            [
             0.5555555555555556,
             "#d8576b"
            ],
            [
             0.6666666666666666,
             "#ed7953"
            ],
            [
             0.7777777777777778,
             "#fb9f3a"
            ],
            [
             0.8888888888888888,
             "#fdca26"
            ],
            [
             1,
             "#f0f921"
            ]
           ]
          },
          "colorway": [
           "#636efa",
           "#EF553B",
           "#00cc96",
           "#ab63fa",
           "#FFA15A",
           "#19d3f3",
           "#FF6692",
           "#B6E880",
           "#FF97FF",
           "#FECB52"
          ],
          "font": {
           "color": "#2a3f5f"
          },
          "geo": {
           "bgcolor": "white",
           "lakecolor": "white",
           "landcolor": "#E5ECF6",
           "showlakes": true,
           "showland": true,
           "subunitcolor": "white"
          },
          "hoverlabel": {
           "align": "left"
          },
          "hovermode": "closest",
          "mapbox": {
           "style": "light"
          },
          "paper_bgcolor": "white",
          "plot_bgcolor": "#E5ECF6",
          "polar": {
           "angularaxis": {
            "gridcolor": "white",
            "linecolor": "white",
            "ticks": ""
           },
           "bgcolor": "#E5ECF6",
           "radialaxis": {
            "gridcolor": "white",
            "linecolor": "white",
            "ticks": ""
           }
          },
          "scene": {
           "xaxis": {
            "backgroundcolor": "#E5ECF6",
            "gridcolor": "white",
            "gridwidth": 2,
            "linecolor": "white",
            "showbackground": true,
            "ticks": "",
            "zerolinecolor": "white"
           },
           "yaxis": {
            "backgroundcolor": "#E5ECF6",
            "gridcolor": "white",
            "gridwidth": 2,
            "linecolor": "white",
            "showbackground": true,
            "ticks": "",
            "zerolinecolor": "white"
           },
           "zaxis": {
            "backgroundcolor": "#E5ECF6",
            "gridcolor": "white",
            "gridwidth": 2,
            "linecolor": "white",
            "showbackground": true,
            "ticks": "",
            "zerolinecolor": "white"
           }
          },
          "shapedefaults": {
           "line": {
            "color": "#2a3f5f"
           }
          },
          "ternary": {
           "aaxis": {
            "gridcolor": "white",
            "linecolor": "white",
            "ticks": ""
           },
           "baxis": {
            "gridcolor": "white",
            "linecolor": "white",
            "ticks": ""
           },
           "bgcolor": "#E5ECF6",
           "caxis": {
            "gridcolor": "white",
            "linecolor": "white",
            "ticks": ""
           }
          },
          "title": {
           "x": 0.05
          },
          "xaxis": {
           "automargin": true,
           "gridcolor": "white",
           "linecolor": "white",
           "ticks": "",
           "title": {
            "standoff": 15
           },
           "zerolinecolor": "white",
           "zerolinewidth": 2
          },
          "yaxis": {
           "automargin": true,
           "gridcolor": "white",
           "linecolor": "white",
           "ticks": "",
           "title": {
            "standoff": 15
           },
           "zerolinecolor": "white",
           "zerolinewidth": 2
          }
         }
        },
        "title": {
         "text": "Denoising MLP Out -> Final Logits"
        },
        "xaxis": {
         "title": {
          "text": "Layer"
         }
        },
        "yaxis": {
         "title": {
          "text": "Logit Variation"
         }
        }
       }
      },
      "text/html": [
       "<div>                            <div id=\"e6fac138-5d8e-4c6e-a217-a17f86d55d37\" class=\"plotly-graph-div\" style=\"height:525px; width:100%;\"></div>            <script type=\"text/javascript\">                require([\"plotly\"], function(Plotly) {                    window.PLOTLYENV=window.PLOTLYENV || {};                                    if (document.getElementById(\"e6fac138-5d8e-4c6e-a217-a17f86d55d37\")) {                    Plotly.newPlot(                        \"e6fac138-5d8e-4c6e-a217-a17f86d55d37\",                        [{\"line\":{\"color\":\"blue\"},\"mode\":\"lines+markers\",\"name\":\"MLP Out\",\"x\":[0,1,2,3,4,5,6,7,8,9,10,11,12,13,14,15,16,17,18,19,20,21,22,23,24,25,26,27,28,29,30,31,32,33,34,35,36,37,38,39,40,41],\"y\":[-0.00011966047895839438,-0.0005870813620276749,-0.0036577715072780848,0.006086274515837431,0.011645634658634663,-0.0019714313093572855,0.014706493355333805,-0.0016089624259620905,-0.0030867457389831543,0.009852748364210129,0.0006304060807451606,0.005104932468384504,0.001558861113153398,-0.000817307794932276,-0.0029197484254837036,0.005524633917957544,0.0021759197115898132,0.0032960823737084866,-0.011500392109155655,-0.006705140694975853,-0.007692061364650726,0.003924461081624031,-0.004297420848160982,0.003706660820171237,-0.004205802455544472,-0.005690908059477806,-0.0034605632536113262,0.007588718552142382,0.04570861533284187,0.04896864667534828,0.06035454571247101,0.1431039422750473,0.11084163188934326,0.12764579057693481,0.08924675732851028,0.12141275405883789,0.06982001662254333,0.016637520864605904,0.06760721653699875,-0.21868669986724854,-0.05421311780810356,-0.11174118518829346],\"type\":\"scatter\"}],                        {\"margin\":{\"l\":100,\"r\":100},\"title\":{\"text\":\"Denoising MLP Out -\\u003e Final Logits\"},\"xaxis\":{\"title\":{\"text\":\"Layer\"}},\"yaxis\":{\"title\":{\"text\":\"Logit Variation\"}},\"template\":{\"data\":{\"histogram2dcontour\":[{\"type\":\"histogram2dcontour\",\"colorbar\":{\"outlinewidth\":0,\"ticks\":\"\"},\"colorscale\":[[0.0,\"#0d0887\"],[0.1111111111111111,\"#46039f\"],[0.2222222222222222,\"#7201a8\"],[0.3333333333333333,\"#9c179e\"],[0.4444444444444444,\"#bd3786\"],[0.5555555555555556,\"#d8576b\"],[0.6666666666666666,\"#ed7953\"],[0.7777777777777778,\"#fb9f3a\"],[0.8888888888888888,\"#fdca26\"],[1.0,\"#f0f921\"]]}],\"choropleth\":[{\"type\":\"choropleth\",\"colorbar\":{\"outlinewidth\":0,\"ticks\":\"\"}}],\"histogram2d\":[{\"type\":\"histogram2d\",\"colorbar\":{\"outlinewidth\":0,\"ticks\":\"\"},\"colorscale\":[[0.0,\"#0d0887\"],[0.1111111111111111,\"#46039f\"],[0.2222222222222222,\"#7201a8\"],[0.3333333333333333,\"#9c179e\"],[0.4444444444444444,\"#bd3786\"],[0.5555555555555556,\"#d8576b\"],[0.6666666666666666,\"#ed7953\"],[0.7777777777777778,\"#fb9f3a\"],[0.8888888888888888,\"#fdca26\"],[1.0,\"#f0f921\"]]}],\"heatmap\":[{\"type\":\"heatmap\",\"colorbar\":{\"outlinewidth\":0,\"ticks\":\"\"},\"colorscale\":[[0.0,\"#0d0887\"],[0.1111111111111111,\"#46039f\"],[0.2222222222222222,\"#7201a8\"],[0.3333333333333333,\"#9c179e\"],[0.4444444444444444,\"#bd3786\"],[0.5555555555555556,\"#d8576b\"],[0.6666666666666666,\"#ed7953\"],[0.7777777777777778,\"#fb9f3a\"],[0.8888888888888888,\"#fdca26\"],[1.0,\"#f0f921\"]]}],\"heatmapgl\":[{\"type\":\"heatmapgl\",\"colorbar\":{\"outlinewidth\":0,\"ticks\":\"\"},\"colorscale\":[[0.0,\"#0d0887\"],[0.1111111111111111,\"#46039f\"],[0.2222222222222222,\"#7201a8\"],[0.3333333333333333,\"#9c179e\"],[0.4444444444444444,\"#bd3786\"],[0.5555555555555556,\"#d8576b\"],[0.6666666666666666,\"#ed7953\"],[0.7777777777777778,\"#fb9f3a\"],[0.8888888888888888,\"#fdca26\"],[1.0,\"#f0f921\"]]}],\"contourcarpet\":[{\"type\":\"contourcarpet\",\"colorbar\":{\"outlinewidth\":0,\"ticks\":\"\"}}],\"contour\":[{\"type\":\"contour\",\"colorbar\":{\"outlinewidth\":0,\"ticks\":\"\"},\"colorscale\":[[0.0,\"#0d0887\"],[0.1111111111111111,\"#46039f\"],[0.2222222222222222,\"#7201a8\"],[0.3333333333333333,\"#9c179e\"],[0.4444444444444444,\"#bd3786\"],[0.5555555555555556,\"#d8576b\"],[0.6666666666666666,\"#ed7953\"],[0.7777777777777778,\"#fb9f3a\"],[0.8888888888888888,\"#fdca26\"],[1.0,\"#f0f921\"]]}],\"surface\":[{\"type\":\"surface\",\"colorbar\":{\"outlinewidth\":0,\"ticks\":\"\"},\"colorscale\":[[0.0,\"#0d0887\"],[0.1111111111111111,\"#46039f\"],[0.2222222222222222,\"#7201a8\"],[0.3333333333333333,\"#9c179e\"],[0.4444444444444444,\"#bd3786\"],[0.5555555555555556,\"#d8576b\"],[0.6666666666666666,\"#ed7953\"],[0.7777777777777778,\"#fb9f3a\"],[0.8888888888888888,\"#fdca26\"],[1.0,\"#f0f921\"]]}],\"mesh3d\":[{\"type\":\"mesh3d\",\"colorbar\":{\"outlinewidth\":0,\"ticks\":\"\"}}],\"scatter\":[{\"fillpattern\":{\"fillmode\":\"overlay\",\"size\":10,\"solidity\":0.2},\"type\":\"scatter\"}],\"parcoords\":[{\"type\":\"parcoords\",\"line\":{\"colorbar\":{\"outlinewidth\":0,\"ticks\":\"\"}}}],\"scatterpolargl\":[{\"type\":\"scatterpolargl\",\"marker\":{\"colorbar\":{\"outlinewidth\":0,\"ticks\":\"\"}}}],\"bar\":[{\"error_x\":{\"color\":\"#2a3f5f\"},\"error_y\":{\"color\":\"#2a3f5f\"},\"marker\":{\"line\":{\"color\":\"#E5ECF6\",\"width\":0.5},\"pattern\":{\"fillmode\":\"overlay\",\"size\":10,\"solidity\":0.2}},\"type\":\"bar\"}],\"scattergeo\":[{\"type\":\"scattergeo\",\"marker\":{\"colorbar\":{\"outlinewidth\":0,\"ticks\":\"\"}}}],\"scatterpolar\":[{\"type\":\"scatterpolar\",\"marker\":{\"colorbar\":{\"outlinewidth\":0,\"ticks\":\"\"}}}],\"histogram\":[{\"marker\":{\"pattern\":{\"fillmode\":\"overlay\",\"size\":10,\"solidity\":0.2}},\"type\":\"histogram\"}],\"scattergl\":[{\"type\":\"scattergl\",\"marker\":{\"colorbar\":{\"outlinewidth\":0,\"ticks\":\"\"}}}],\"scatter3d\":[{\"type\":\"scatter3d\",\"line\":{\"colorbar\":{\"outlinewidth\":0,\"ticks\":\"\"}},\"marker\":{\"colorbar\":{\"outlinewidth\":0,\"ticks\":\"\"}}}],\"scattermapbox\":[{\"type\":\"scattermapbox\",\"marker\":{\"colorbar\":{\"outlinewidth\":0,\"ticks\":\"\"}}}],\"scatterternary\":[{\"type\":\"scatterternary\",\"marker\":{\"colorbar\":{\"outlinewidth\":0,\"ticks\":\"\"}}}],\"scattercarpet\":[{\"type\":\"scattercarpet\",\"marker\":{\"colorbar\":{\"outlinewidth\":0,\"ticks\":\"\"}}}],\"carpet\":[{\"aaxis\":{\"endlinecolor\":\"#2a3f5f\",\"gridcolor\":\"white\",\"linecolor\":\"white\",\"minorgridcolor\":\"white\",\"startlinecolor\":\"#2a3f5f\"},\"baxis\":{\"endlinecolor\":\"#2a3f5f\",\"gridcolor\":\"white\",\"linecolor\":\"white\",\"minorgridcolor\":\"white\",\"startlinecolor\":\"#2a3f5f\"},\"type\":\"carpet\"}],\"table\":[{\"cells\":{\"fill\":{\"color\":\"#EBF0F8\"},\"line\":{\"color\":\"white\"}},\"header\":{\"fill\":{\"color\":\"#C8D4E3\"},\"line\":{\"color\":\"white\"}},\"type\":\"table\"}],\"barpolar\":[{\"marker\":{\"line\":{\"color\":\"#E5ECF6\",\"width\":0.5},\"pattern\":{\"fillmode\":\"overlay\",\"size\":10,\"solidity\":0.2}},\"type\":\"barpolar\"}],\"pie\":[{\"automargin\":true,\"type\":\"pie\"}]},\"layout\":{\"autotypenumbers\":\"strict\",\"colorway\":[\"#636efa\",\"#EF553B\",\"#00cc96\",\"#ab63fa\",\"#FFA15A\",\"#19d3f3\",\"#FF6692\",\"#B6E880\",\"#FF97FF\",\"#FECB52\"],\"font\":{\"color\":\"#2a3f5f\"},\"hovermode\":\"closest\",\"hoverlabel\":{\"align\":\"left\"},\"paper_bgcolor\":\"white\",\"plot_bgcolor\":\"#E5ECF6\",\"polar\":{\"bgcolor\":\"#E5ECF6\",\"angularaxis\":{\"gridcolor\":\"white\",\"linecolor\":\"white\",\"ticks\":\"\"},\"radialaxis\":{\"gridcolor\":\"white\",\"linecolor\":\"white\",\"ticks\":\"\"}},\"ternary\":{\"bgcolor\":\"#E5ECF6\",\"aaxis\":{\"gridcolor\":\"white\",\"linecolor\":\"white\",\"ticks\":\"\"},\"baxis\":{\"gridcolor\":\"white\",\"linecolor\":\"white\",\"ticks\":\"\"},\"caxis\":{\"gridcolor\":\"white\",\"linecolor\":\"white\",\"ticks\":\"\"}},\"coloraxis\":{\"colorbar\":{\"outlinewidth\":0,\"ticks\":\"\"}},\"colorscale\":{\"sequential\":[[0.0,\"#0d0887\"],[0.1111111111111111,\"#46039f\"],[0.2222222222222222,\"#7201a8\"],[0.3333333333333333,\"#9c179e\"],[0.4444444444444444,\"#bd3786\"],[0.5555555555555556,\"#d8576b\"],[0.6666666666666666,\"#ed7953\"],[0.7777777777777778,\"#fb9f3a\"],[0.8888888888888888,\"#fdca26\"],[1.0,\"#f0f921\"]],\"sequentialminus\":[[0.0,\"#0d0887\"],[0.1111111111111111,\"#46039f\"],[0.2222222222222222,\"#7201a8\"],[0.3333333333333333,\"#9c179e\"],[0.4444444444444444,\"#bd3786\"],[0.5555555555555556,\"#d8576b\"],[0.6666666666666666,\"#ed7953\"],[0.7777777777777778,\"#fb9f3a\"],[0.8888888888888888,\"#fdca26\"],[1.0,\"#f0f921\"]],\"diverging\":[[0,\"#8e0152\"],[0.1,\"#c51b7d\"],[0.2,\"#de77ae\"],[0.3,\"#f1b6da\"],[0.4,\"#fde0ef\"],[0.5,\"#f7f7f7\"],[0.6,\"#e6f5d0\"],[0.7,\"#b8e186\"],[0.8,\"#7fbc41\"],[0.9,\"#4d9221\"],[1,\"#276419\"]]},\"xaxis\":{\"gridcolor\":\"white\",\"linecolor\":\"white\",\"ticks\":\"\",\"title\":{\"standoff\":15},\"zerolinecolor\":\"white\",\"automargin\":true,\"zerolinewidth\":2},\"yaxis\":{\"gridcolor\":\"white\",\"linecolor\":\"white\",\"ticks\":\"\",\"title\":{\"standoff\":15},\"zerolinecolor\":\"white\",\"automargin\":true,\"zerolinewidth\":2},\"scene\":{\"xaxis\":{\"backgroundcolor\":\"#E5ECF6\",\"gridcolor\":\"white\",\"linecolor\":\"white\",\"showbackground\":true,\"ticks\":\"\",\"zerolinecolor\":\"white\",\"gridwidth\":2},\"yaxis\":{\"backgroundcolor\":\"#E5ECF6\",\"gridcolor\":\"white\",\"linecolor\":\"white\",\"showbackground\":true,\"ticks\":\"\",\"zerolinecolor\":\"white\",\"gridwidth\":2},\"zaxis\":{\"backgroundcolor\":\"#E5ECF6\",\"gridcolor\":\"white\",\"linecolor\":\"white\",\"showbackground\":true,\"ticks\":\"\",\"zerolinecolor\":\"white\",\"gridwidth\":2}},\"shapedefaults\":{\"line\":{\"color\":\"#2a3f5f\"}},\"annotationdefaults\":{\"arrowcolor\":\"#2a3f5f\",\"arrowhead\":0,\"arrowwidth\":1},\"geo\":{\"bgcolor\":\"white\",\"landcolor\":\"#E5ECF6\",\"subunitcolor\":\"white\",\"showland\":true,\"showlakes\":true,\"lakecolor\":\"white\"},\"title\":{\"x\":0.05},\"mapbox\":{\"style\":\"light\"}}}},                        {\"responsive\": true}                    ).then(function(){\n",
       "                            \n",
       "var gd = document.getElementById('e6fac138-5d8e-4c6e-a217-a17f86d55d37');\n",
       "var x = new MutationObserver(function (mutations, observer) {{\n",
       "        var display = window.getComputedStyle(gd).display;\n",
       "        if (!display || display === 'none') {{\n",
       "            console.log([gd, 'removed!']);\n",
       "            Plotly.purge(gd);\n",
       "            observer.disconnect();\n",
       "        }}\n",
       "}});\n",
       "\n",
       "// Listen for the removal of the full notebook cells\n",
       "var notebookContainer = gd.closest('#notebook-container');\n",
       "if (notebookContainer) {{\n",
       "    x.observe(notebookContainer, {childList: true});\n",
       "}}\n",
       "\n",
       "// Listen for the clearing of the current output cell\n",
       "var outputEl = gd.closest('.output');\n",
       "if (outputEl) {{\n",
       "    x.observe(outputEl, {childList: true});\n",
       "}}\n",
       "\n",
       "                        })                };                });            </script>        </div>"
      ]
     },
     "metadata": {},
     "output_type": "display_data"
    }
   ],
   "source": [
    "# Plot as line\n",
    "line = go.Figure(\n",
    "    data=[\n",
    "        go.Scatter(\n",
    "            x=np.arange(model.cfg.n_layers),\n",
    "            y=denoise_mlp_extraction_results['mlp_out'],\n",
    "            mode='lines+markers',\n",
    "            name='MLP Out',\n",
    "            line=dict(color='blue')\n",
    "        )\n",
    "    ],\n",
    "    layout=go.Layout(\n",
    "        title=\"Denoising MLP Out -> Final Logits\",\n",
    "        xaxis_title=\"Layer\",\n",
    "        yaxis_title=\"Logit Variation\",\n",
    "        margin=dict(l=100, r=100),\n",
    "    ),\n",
    ")\n",
    "line.show()\n"
   ]
  },
  {
   "cell_type": "markdown",
   "metadata": {},
   "source": [
    "### Finding heads/MLPs that contribute the most to the heads that affect the final output\n",
    "\n",
    "Here, we look for heads/MLPs that form the representation that eventually gets moved to the last token position. One task these might be doing is \"enriching\" the subject tokens with relevant fact information."
   ]
  },
  {
   "cell_type": "code",
   "execution_count": 9,
   "metadata": {},
   "outputs": [
    {
     "name": "stdout",
     "output_type": "stream",
     "text": [
      "[(37, 12), (39, 7), (29, 14), (29, 15), (25, 2), (40, 3), (25, 1), (39, 13), (33, 7), (40, 10)]\n"
     ]
    }
   ],
   "source": [
    "# extraction_heads = [(layer, head) for (layer, head, _) in imshow_to_sorted_list(denoise_attn_extraction_results['z'])[:10]]\n",
    "extraction_heads = [(37, 12), (39, 7), (29, 14), (29, 15), (25, 2), (40, 3), (25, 1), (39, 13), (33, 7), (40, 10)]\n",
    "print(extraction_heads)\n"
   ]
  },
  {
   "cell_type": "code",
   "execution_count": 14,
   "metadata": {},
   "outputs": [
    {
     "name": "stderr",
     "output_type": "stream",
     "text": [
      "Patching over 'mlp_out': 100%|██████████| 42/42 [00:15<00:00,  2.66it/s]"
     ]
    },
    {
     "name": "stdout",
     "output_type": "stream",
     "text": [
      "results['mlp_out'].shape = (layer=42)\n"
     ]
    },
    {
     "name": "stderr",
     "output_type": "stream",
     "text": [
      "\n"
     ]
    }
   ],
   "source": [
    "noise_mlp_enrichment_results = path_patch(\n",
    "    model,\n",
    "    orig_input=rand_toks,\n",
    "    new_input=prompt_toks,\n",
    "    sender_nodes=IterNode('mlp_out'),\n",
    "    receiver_nodes=Node('resid_pre', layer=25),\n",
    "    patching_metric=denoising_metric,\n",
    "    direct_includes_mlps=False,\n",
    "    verbose=True,\n",
    ")\n"
   ]
  },
  {
   "cell_type": "code",
   "execution_count": 16,
   "metadata": {},
   "outputs": [
    {
     "name": "stderr",
     "output_type": "stream",
     "text": [
      "Patching over 'z': 100%|██████████| 672/672 [04:07<00:00,  2.71it/s]"
     ]
    },
    {
     "name": "stdout",
     "output_type": "stream",
     "text": [
      "results['z'].shape = (layer=42, head=16)\n"
     ]
    },
    {
     "name": "stderr",
     "output_type": "stream",
     "text": [
      "\n"
     ]
    }
   ],
   "source": [
    "noise_attn_enrichment_results = path_patch(\n",
    "    model,\n",
    "    orig_input=rand_toks,\n",
    "    new_input=prompt_toks,\n",
    "    sender_nodes=IterNode('z'),\n",
    "    receiver_nodes=Node('resid_pre', layer=25),\n",
    "    patching_metric=denoising_metric,\n",
    "    direct_includes_mlps=False,\n",
    "    verbose=True,\n",
    ")\n"
   ]
  },
  {
   "cell_type": "code",
   "execution_count": 17,
   "metadata": {},
   "outputs": [
    {
     "data": {
      "application/vnd.plotly.v1+json": {
       "config": {
        "plotlyServerURL": "https://plot.ly"
       },
       "data": [
        {
         "coloraxis": "coloraxis",
         "hovertemplate": "Head: %{x}<br>Layer: %{y}<br>color: %{z}<extra></extra>",
         "name": "0",
         "type": "heatmap",
         "xaxis": "x",
         "yaxis": "y",
         "z": [
          [
           0.0003577325842343271,
           -0.0019072440918534994,
           0.00021269088028930128,
           0.0005359442438930273,
           0.00045388154103420675,
           0.0004715428513009101,
           -0.00007698967237956822,
           0.0004219703550916165,
           0.0010628249729052186,
           0.0032724763732403517,
           0.0009263936663046479,
           0.00011304238432785496,
           0.0003273067995905876,
           0.001409265911206603,
           -0.0006856562104076147,
           0.00004551907113636844
          ],
          [
           0.0006274859188124537,
           0.00027026949101127684,
           0.000575534300878644,
           0.0006744778365828097,
           0.0022174182813614607,
           0.00009549438254907727,
           0.00011933650239370763,
           -0.000042359424696769565,
           -0.00016274074732791632,
           0.0007779909064993262,
           -0.00008415237971348688,
           0.0006981563055887818,
           0.000031092949939193204,
           -0.00023038995277602226,
           0.00011406202975194901,
           0.003947029821574688
          ],
          [
           -0.00036529809585772455,
           0.00040709105087444186,
           0.00039272787398658693,
           -0.00011104085569968447,
           0.0010095264296978712,
           0.000047520603402517736,
           0.0003056172572541982,
           0.00030589420930482447,
           0.0006392559735104442,
           0.0015383835416287184,
           0.00032237221603281796,
           -0.000670223031193018,
           0.000047722012823214754,
           0.0007756872801110148,
           0.0008980575366877019,
           0.0006754345376975834
          ],
          [
           -0.0003801522252615541,
           0.000056722605222603306,
           0.005808125250041485,
           -0.002449986059218645,
           -0.0001988312287721783,
           0.0001619476970518008,
           0.00032906915294006467,
           -0.00002170212428609375,
           0.00046075473073869944,
           0.00035794658469967544,
           -0.00034441420575603843,
           -0.0000500634268973954,
           0.0005279507604427636,
           0.00022511548013426363,
           0.00031260374817065895,
           0.00003408894917811267
          ],
          [
           0.0003047864302061498,
           -0.0007632123306393623,
           0.00045720484922640026,
           -0.0007045385427772999,
           0.00016374781262129545,
           -0.00003729895252035931,
           0.0031030764803290367,
           0.0015448539052158594,
           -0.00008275508298538625,
           -0.00010999602818628773,
           -0.00020129853510297835,
           0.0012191080022603273,
           -0.0011194091057404876,
           0.00024729594588279724,
           0.0012048203498125076,
           0.00012735521886497736
          ],
          [
           0.000007641060619789641,
           0.00010560273949522525,
           -0.001641808426938951,
           0.0012099185260012746,
           -0.00005703731221728958,
           -0.00047151767648756504,
           -0.00043051777174696326,
           0.0000416922484873794,
           0.000555468606762588,
           0.0011819726787507534,
           0.00009700496593723074,
           0.00004762130629387684,
           0.0010836333967745304,
           0.0004103262326680124,
           -0.00013148415018804371,
           -0.000030236949896789156
          ],
          [
           -0.00027715525357052684,
           -0.00006684354593744501,
           0.0010481722420081496,
           -0.00012206815154058859,
           -0.0000323517742799595,
           0.000009327884981757961,
           -0.0017661425517871976,
           0.006555099040269852,
           -0.00010903932707151398,
           -0.0001724840549286455,
           -0.00005689883982995525,
           -0.00010654685320332646,
           0.000012311297723499592,
           -0.00016500664060004056,
           0.0006646841648034751,
           0.0007172275218181312
          ],
          [
           0.000005803178282803856,
           0.000058724133850773796,
           -0.0002214522974099964,
           0.00018056569388136268,
           0.000015659768905607052,
           -0.00014131556963548064,
           -0.0010317697888240218,
           0.00018400228873360902,
           0.00006967590161366388,
           0.0014318617759272456,
           -0.00006992766429902986,
           0.0000028071772248949856,
           0.00101924454793334,
           0.00010482226207386702,
           -0.00014193239621818066,
           0.00009738261724123731
          ],
          [
           -0.00009725673589855433,
           -0.0005918486276641488,
           0.0003218938654754311,
           -0.00019145452824886888,
           0.011029953137040138,
           -0.010364689864218235,
           -0.0009884788887575269,
           0.0032730302773416042,
           0.00047188272583298385,
           -0.002733787754550576,
           0.00002624647822813131,
           0.00031843208125792444,
           -0.0002981020952574909,
           0.00004200695184408687,
           -0.000353414798155427,
           0.0001991207682294771
          ],
          [
           -0.00014869228471070528,
           0.0005786435795016587,
           -0.00016554792819079012,
           -0.000008396355042350478,
           0.00046373813529498875,
           0.0019155145855620503,
           0.00004850248296861537,
           -0.0004094576579518616,
           0.00027886725729331374,
           0.0032410058192908764,
           -0.00219450774602592,
           0.0022460061591118574,
           0.003620830597355962,
           0.005139815621078014,
           -0.0005539454286918044,
           0.000018177417587139644
          ],
          [
           0.00010543908865656704,
           -0.00003163424480590038,
           -0.00003800389458774589,
           0.00017968451720662415,
           0.0006119898171164095,
           0.0006060733576305211,
           0.0008548924815841019,
           -0.0005661686300300062,
           0.00003221330189262517,
           -0.0010724549647420645,
           0.00030122397583909333,
           -0.00011922320845769718,
           0.007075924426317215,
           -0.005295758601278067,
           -0.014352228492498398,
           0.006081579718738794
          ],
          [
           0.0001737806451274082,
           0.00014200792065821588,
           0.000047495424951193854,
           -0.0001098575594369322,
           0.0012839752016589046,
           0.000656892079859972,
           0.00029024702962487936,
           0.00009291378955822438,
           -0.002065402688458562,
           0.000757698668166995,
           0.0005189375369809568,
           0.00021911087969783694,
           0.00002241965376015287,
           -0.0000767882593208924,
           0.0006921013700775802,
           -0.00018286934937350452
          ],
          [
           0.0004830610705539584,
           -0.0011685158824548125,
           -0.0004542214155662805,
           -0.0008549050544388592,
           0.0005981679423712194,
           -0.000134026980958879,
           -0.000048351426812587306,
           0.0008123190491460264,
           0.00009212073200615123,
           -0.0003999283362645656,
           0.00022950877610128373,
           -0.0006548905512318015,
           0.0005174269899725914,
           -0.00043324942816980183,
           0.000027845184376928955,
           -0.00006411190406652167
          ],
          [
           0.0004179169482085854,
           0.00017865229165181518,
           0.000031810479413252324,
           -0.0010468882974237204,
           0.000013796709936286788,
           -0.0001687705225776881,
           0.0012764474377036095,
           -0.0000034240010791108944,
           -0.00010891344572883099,
           0.00021914865646976978,
           0.00002590659642009996,
           0.000010196473340329248,
           -0.001642299466766417,
           0.0006071056122891605,
           0.0007609212771058083,
           0.00006392307841451839
          ],
          [
           -0.00018649475532583892,
           -0.00005988225166220218,
           0.0021489760838449,
           -0.000004418471689859871,
           0.00018329735030420125,
           0.0000015735298575236811,
           0.0022315799724310637,
           -0.0028058304451406,
           0.00017819911590777338,
           -0.002560762455686927,
           -0.00028459489112719893,
           0.0006171006243675947,
           -0.00004741989687317982,
           0.00007797154830768704,
           0.00004696672112913802,
           0.0004904503584839404
          ],
          [
           0.004909375216811895,
           -0.006174078211188316,
           0.0003254311450291425,
           0.000020518829842330888,
           -0.00006471613596659154,
           0.00009009402856463566,
           -0.00021947594359517097,
           -0.0003938230511266738,
           -0.0015116209397092462,
           0.0015407123137265444,
           0.000017057063814718276,
           -0.00005376436820370145,
           -0.0008206146885640919,
           6.420002023332927e-7,
           0.0017398204654455185,
           -0.000531928613781929
          ],
          [
           0.00002022929947997909,
           -0.0008110979688353837,
           0.00018456876568961889,
           -0.00017534158541820943,
           -0.0009940428426489234,
           0.0006664465181529522,
           0.00013227721501607448,
           -0.0008808872080408037,
           -0.00009974920249078423,
           -0.00031820550793781877,
           0.000016616475477349013,
           -0.0005662189796566963,
           -0.00037340493872761726,
           -0.00002489953658368904,
           -0.0005108684999868274,
           -0.000034101540222764015
          ],
          [
           0.00010673567885532975,
           -0.00014801250654272735,
           0.0002576434926595539,
           -0.00033995797275565565,
           -0.000024962477255030535,
           0.00012412003707140684,
           0.0012040399014949799,
           -0.002498903777450323,
           -0.0001668319309828803,
           0.00006323072739178315,
           0.00032030773581936955,
           0.0001684180460870266,
           0.005422044079750776,
           -0.009098602458834648,
           0.0004628191818483174,
           0.008854378014802933
          ],
          [
           -0.0024447492323815823,
           0.00031144561944529414,
           -0.0003032255044672638,
           0.0015148435486480594,
           0.00033134763361886144,
           0.0011512951459735632,
           0.005386406555771828,
           -0.0012025544419884682,
           0.00014743345673196018,
           0.00020421900262590498,
           0.00018421628919895738,
           -0.00010102061787620187,
           -0.0003249527944717556,
           -0.0014494601637125015,
           -0.00036193703999742866,
           -0.0004549389414023608
          ],
          [
           0.00015837264072615653,
           0.00018894945969805121,
           0.00027251019491814077,
           -0.0028409012593328953,
           -0.00022634911874774843,
           0.00020594359375536442,
           0.0000770148471929133,
           0.000056470838899258524,
           0.00018546252977102995,
           0.00027062196750193834,
           -0.00022962206276133657,
           0.00010021497291745618,
           -0.0004854402504861355,
           0.00003875918628182262,
           0.00015888875350356102,
           0.00009457543637836352
          ],
          [
           0.0020093221683055162,
           -0.0010992175666615367,
           0.00021344618289731443,
           0.000020216712073306553,
           0.042039066553115845,
           -0.007077472750097513,
           -0.002010933356359601,
           0.0009117787121795118,
           0.0000798597902758047,
           0.0006941406754776835,
           -0.0005780267529189587,
           0.0007977796485647559,
           -0.0006975269061513245,
           0.0011901927646249533,
           0.00029061207897029817,
           0.0005971105420030653
          ],
          [
           -0.00032193161314353347,
           -0.0002266890078317374,
           -0.000011505650036269799,
           -0.0001233395596500486,
           0.0004762886092066765,
           0.00024842889979481697,
           -0.0010327768977731466,
           0.0010576386703178287,
           0.0008371430449187756,
           0.0029774457216262817,
           0.011475476436316967,
           -0.0234383437782526,
           0.0007094605825841427,
           0.0004440627235453576,
           -0.0008731957641430199,
           0.0009419778943993151
          ],
          [
           -0.0014600342838093638,
           0.0019676676020026207,
           -0.000710178108420223,
           0.002854345366358757,
           0.00020857453637290746,
           0.0004275847168173641,
           0.000935860036406666,
           -0.0014773053117096424,
           -0.0005127567565068603,
           0.0005948446341790259,
           -0.0002088514738716185,
           0.0001405854563927278,
           0.0003338275128044188,
           -0.0015830087941139936,
           -0.00047822718624956906,
           -0.000047344365157186985
          ],
          [
           -0.0020637032575905323,
           0.004015094134956598,
           -0.0003230771399103105,
           0.00021849406766705215,
           0.0006388908950611949,
           0.000134026980958879,
           -0.000043567895772866905,
           -0.00007760649168631062,
           0.00007180331158451736,
           0.00025252008344978094,
           -0.0005650231032632291,
           0.0004242614086251706,
           0.000561586522962898,
           -0.00039097812259569764,
           0.0007045133970677853,
           -0.0005144813330844045
          ],
          [
           0.00004434836591826752,
           -0.00027987430803477764,
           0.0009619680349715054,
           -0.00010395368008175865,
           -0.0016754190437495708,
           0.0014438836369663477,
           -0.00029548374004662037,
           0.0002532124344725162,
           -0.001069798949174583,
           0.00040210611768998206,
           -0.000034668009902816266,
           0.00019215946667827666,
           0.00003615342211560346,
           0.00010333685349905863,
           0.0003750162140931934,
           0.00015034133684821427
          ],
          [
           0,
           0,
           0,
           0,
           0,
           0,
           0,
           0,
           0,
           0,
           0,
           0,
           0,
           0,
           0,
           0
          ],
          [
           0,
           0,
           0,
           0,
           0,
           0,
           0,
           0,
           0,
           0,
           0,
           0,
           0,
           0,
           0,
           0
          ],
          [
           0,
           0,
           0,
           0,
           0,
           0,
           0,
           0,
           0,
           0,
           0,
           0,
           0,
           0,
           0,
           0
          ],
          [
           0,
           0,
           0,
           0,
           0,
           0,
           0,
           0,
           0,
           0,
           0,
           0,
           0,
           0,
           0,
           0
          ],
          [
           0,
           0,
           0,
           0,
           0,
           0,
           0,
           0,
           0,
           0,
           0,
           0,
           0,
           0,
           0,
           0
          ],
          [
           0,
           0,
           0,
           0,
           0,
           0,
           0,
           0,
           0,
           0,
           0,
           0,
           0,
           0,
           0,
           0
          ],
          [
           0,
           0,
           0,
           0,
           0,
           0,
           0,
           0,
           0,
           0,
           0,
           0,
           0,
           0,
           0,
           0
          ],
          [
           0,
           0,
           0,
           0,
           0,
           0,
           0,
           0,
           0,
           0,
           0,
           0,
           0,
           0,
           0,
           0
          ],
          [
           0,
           0,
           0,
           0,
           0,
           0,
           0,
           0,
           0,
           0,
           0,
           0,
           0,
           0,
           0,
           0
          ],
          [
           0,
           0,
           0,
           0,
           0,
           0,
           0,
           0,
           0,
           0,
           0,
           0,
           0,
           0,
           0,
           0
          ],
          [
           0,
           0,
           0,
           0,
           0,
           0,
           0,
           0,
           0,
           0,
           0,
           0,
           0,
           0,
           0,
           0
          ],
          [
           0,
           0,
           0,
           0,
           0,
           0,
           0,
           0,
           0,
           0,
           0,
           0,
           0,
           0,
           0,
           0
          ],
          [
           0,
           0,
           0,
           0,
           0,
           0,
           0,
           0,
           0,
           0,
           0,
           0,
           0,
           0,
           0,
           0
          ],
          [
           0,
           0,
           0,
           0,
           0,
           0,
           0,
           0,
           0,
           0,
           0,
           0,
           0,
           0,
           0,
           0
          ],
          [
           0,
           0,
           0,
           0,
           0,
           0,
           0,
           0,
           0,
           0,
           0,
           0,
           0,
           0,
           0,
           0
          ],
          [
           0,
           0,
           0,
           0,
           0,
           0,
           0,
           0,
           0,
           0,
           0,
           0,
           0,
           0,
           0,
           0
          ],
          [
           0,
           0,
           0,
           0,
           0,
           0,
           0,
           0,
           0,
           0,
           0,
           0,
           0,
           0,
           0,
           0
          ]
         ]
        }
       ],
       "layout": {
        "coloraxis": {
         "cmid": 0,
         "colorscale": [
          [
           0,
           "rgb(103,0,31)"
          ],
          [
           0.1,
           "rgb(178,24,43)"
          ],
          [
           0.2,
           "rgb(214,96,77)"
          ],
          [
           0.3,
           "rgb(244,165,130)"
          ],
          [
           0.4,
           "rgb(253,219,199)"
          ],
          [
           0.5,
           "rgb(247,247,247)"
          ],
          [
           0.6,
           "rgb(209,229,240)"
          ],
          [
           0.7,
           "rgb(146,197,222)"
          ],
          [
           0.8,
           "rgb(67,147,195)"
          ],
          [
           0.9,
           "rgb(33,102,172)"
          ],
          [
           1,
           "rgb(5,48,97)"
          ]
         ]
        },
        "height": 600,
        "margin": {
         "l": 100,
         "r": 100
        },
        "template": {
         "data": {
          "bar": [
           {
            "error_x": {
             "color": "#2a3f5f"
            },
            "error_y": {
             "color": "#2a3f5f"
            },
            "marker": {
             "line": {
              "color": "#E5ECF6",
              "width": 0.5
             },
             "pattern": {
              "fillmode": "overlay",
              "size": 10,
              "solidity": 0.2
             }
            },
            "type": "bar"
           }
          ],
          "barpolar": [
           {
            "marker": {
             "line": {
              "color": "#E5ECF6",
              "width": 0.5
             },
             "pattern": {
              "fillmode": "overlay",
              "size": 10,
              "solidity": 0.2
             }
            },
            "type": "barpolar"
           }
          ],
          "carpet": [
           {
            "aaxis": {
             "endlinecolor": "#2a3f5f",
             "gridcolor": "white",
             "linecolor": "white",
             "minorgridcolor": "white",
             "startlinecolor": "#2a3f5f"
            },
            "baxis": {
             "endlinecolor": "#2a3f5f",
             "gridcolor": "white",
             "linecolor": "white",
             "minorgridcolor": "white",
             "startlinecolor": "#2a3f5f"
            },
            "type": "carpet"
           }
          ],
          "choropleth": [
           {
            "colorbar": {
             "outlinewidth": 0,
             "ticks": ""
            },
            "type": "choropleth"
           }
          ],
          "contour": [
           {
            "colorbar": {
             "outlinewidth": 0,
             "ticks": ""
            },
            "colorscale": [
             [
              0,
              "#0d0887"
             ],
             [
              0.1111111111111111,
              "#46039f"
             ],
             [
              0.2222222222222222,
              "#7201a8"
             ],
             [
              0.3333333333333333,
              "#9c179e"
             ],
             [
              0.4444444444444444,
              "#bd3786"
             ],
             [
              0.5555555555555556,
              "#d8576b"
             ],
             [
              0.6666666666666666,
              "#ed7953"
             ],
             [
              0.7777777777777778,
              "#fb9f3a"
             ],
             [
              0.8888888888888888,
              "#fdca26"
             ],
             [
              1,
              "#f0f921"
             ]
            ],
            "type": "contour"
           }
          ],
          "contourcarpet": [
           {
            "colorbar": {
             "outlinewidth": 0,
             "ticks": ""
            },
            "type": "contourcarpet"
           }
          ],
          "heatmap": [
           {
            "colorbar": {
             "outlinewidth": 0,
             "ticks": ""
            },
            "colorscale": [
             [
              0,
              "#0d0887"
             ],
             [
              0.1111111111111111,
              "#46039f"
             ],
             [
              0.2222222222222222,
              "#7201a8"
             ],
             [
              0.3333333333333333,
              "#9c179e"
             ],
             [
              0.4444444444444444,
              "#bd3786"
             ],
             [
              0.5555555555555556,
              "#d8576b"
             ],
             [
              0.6666666666666666,
              "#ed7953"
             ],
             [
              0.7777777777777778,
              "#fb9f3a"
             ],
             [
              0.8888888888888888,
              "#fdca26"
             ],
             [
              1,
              "#f0f921"
             ]
            ],
            "type": "heatmap"
           }
          ],
          "heatmapgl": [
           {
            "colorbar": {
             "outlinewidth": 0,
             "ticks": ""
            },
            "colorscale": [
             [
              0,
              "#0d0887"
             ],
             [
              0.1111111111111111,
              "#46039f"
             ],
             [
              0.2222222222222222,
              "#7201a8"
             ],
             [
              0.3333333333333333,
              "#9c179e"
             ],
             [
              0.4444444444444444,
              "#bd3786"
             ],
             [
              0.5555555555555556,
              "#d8576b"
             ],
             [
              0.6666666666666666,
              "#ed7953"
             ],
             [
              0.7777777777777778,
              "#fb9f3a"
             ],
             [
              0.8888888888888888,
              "#fdca26"
             ],
             [
              1,
              "#f0f921"
             ]
            ],
            "type": "heatmapgl"
           }
          ],
          "histogram": [
           {
            "marker": {
             "pattern": {
              "fillmode": "overlay",
              "size": 10,
              "solidity": 0.2
             }
            },
            "type": "histogram"
           }
          ],
          "histogram2d": [
           {
            "colorbar": {
             "outlinewidth": 0,
             "ticks": ""
            },
            "colorscale": [
             [
              0,
              "#0d0887"
             ],
             [
              0.1111111111111111,
              "#46039f"
             ],
             [
              0.2222222222222222,
              "#7201a8"
             ],
             [
              0.3333333333333333,
              "#9c179e"
             ],
             [
              0.4444444444444444,
              "#bd3786"
             ],
             [
              0.5555555555555556,
              "#d8576b"
             ],
             [
              0.6666666666666666,
              "#ed7953"
             ],
             [
              0.7777777777777778,
              "#fb9f3a"
             ],
             [
              0.8888888888888888,
              "#fdca26"
             ],
             [
              1,
              "#f0f921"
             ]
            ],
            "type": "histogram2d"
           }
          ],
          "histogram2dcontour": [
           {
            "colorbar": {
             "outlinewidth": 0,
             "ticks": ""
            },
            "colorscale": [
             [
              0,
              "#0d0887"
             ],
             [
              0.1111111111111111,
              "#46039f"
             ],
             [
              0.2222222222222222,
              "#7201a8"
             ],
             [
              0.3333333333333333,
              "#9c179e"
             ],
             [
              0.4444444444444444,
              "#bd3786"
             ],
             [
              0.5555555555555556,
              "#d8576b"
             ],
             [
              0.6666666666666666,
              "#ed7953"
             ],
             [
              0.7777777777777778,
              "#fb9f3a"
             ],
             [
              0.8888888888888888,
              "#fdca26"
             ],
             [
              1,
              "#f0f921"
             ]
            ],
            "type": "histogram2dcontour"
           }
          ],
          "mesh3d": [
           {
            "colorbar": {
             "outlinewidth": 0,
             "ticks": ""
            },
            "type": "mesh3d"
           }
          ],
          "parcoords": [
           {
            "line": {
             "colorbar": {
              "outlinewidth": 0,
              "ticks": ""
             }
            },
            "type": "parcoords"
           }
          ],
          "pie": [
           {
            "automargin": true,
            "type": "pie"
           }
          ],
          "scatter": [
           {
            "fillpattern": {
             "fillmode": "overlay",
             "size": 10,
             "solidity": 0.2
            },
            "type": "scatter"
           }
          ],
          "scatter3d": [
           {
            "line": {
             "colorbar": {
              "outlinewidth": 0,
              "ticks": ""
             }
            },
            "marker": {
             "colorbar": {
              "outlinewidth": 0,
              "ticks": ""
             }
            },
            "type": "scatter3d"
           }
          ],
          "scattercarpet": [
           {
            "marker": {
             "colorbar": {
              "outlinewidth": 0,
              "ticks": ""
             }
            },
            "type": "scattercarpet"
           }
          ],
          "scattergeo": [
           {
            "marker": {
             "colorbar": {
              "outlinewidth": 0,
              "ticks": ""
             }
            },
            "type": "scattergeo"
           }
          ],
          "scattergl": [
           {
            "marker": {
             "colorbar": {
              "outlinewidth": 0,
              "ticks": ""
             }
            },
            "type": "scattergl"
           }
          ],
          "scattermapbox": [
           {
            "marker": {
             "colorbar": {
              "outlinewidth": 0,
              "ticks": ""
             }
            },
            "type": "scattermapbox"
           }
          ],
          "scatterpolar": [
           {
            "marker": {
             "colorbar": {
              "outlinewidth": 0,
              "ticks": ""
             }
            },
            "type": "scatterpolar"
           }
          ],
          "scatterpolargl": [
           {
            "marker": {
             "colorbar": {
              "outlinewidth": 0,
              "ticks": ""
             }
            },
            "type": "scatterpolargl"
           }
          ],
          "scatterternary": [
           {
            "marker": {
             "colorbar": {
              "outlinewidth": 0,
              "ticks": ""
             }
            },
            "type": "scatterternary"
           }
          ],
          "surface": [
           {
            "colorbar": {
             "outlinewidth": 0,
             "ticks": ""
            },
            "colorscale": [
             [
              0,
              "#0d0887"
             ],
             [
              0.1111111111111111,
              "#46039f"
             ],
             [
              0.2222222222222222,
              "#7201a8"
             ],
             [
              0.3333333333333333,
              "#9c179e"
             ],
             [
              0.4444444444444444,
              "#bd3786"
             ],
             [
              0.5555555555555556,
              "#d8576b"
             ],
             [
              0.6666666666666666,
              "#ed7953"
             ],
             [
              0.7777777777777778,
              "#fb9f3a"
             ],
             [
              0.8888888888888888,
              "#fdca26"
             ],
             [
              1,
              "#f0f921"
             ]
            ],
            "type": "surface"
           }
          ],
          "table": [
           {
            "cells": {
             "fill": {
              "color": "#EBF0F8"
             },
             "line": {
              "color": "white"
             }
            },
            "header": {
             "fill": {
              "color": "#C8D4E3"
             },
             "line": {
              "color": "white"
             }
            },
            "type": "table"
           }
          ]
         },
         "layout": {
          "annotationdefaults": {
           "arrowcolor": "#2a3f5f",
           "arrowhead": 0,
           "arrowwidth": 1
          },
          "autotypenumbers": "strict",
          "coloraxis": {
           "colorbar": {
            "outlinewidth": 0,
            "ticks": ""
           }
          },
          "colorscale": {
           "diverging": [
            [
             0,
             "#8e0152"
            ],
            [
             0.1,
             "#c51b7d"
            ],
            [
             0.2,
             "#de77ae"
            ],
            [
             0.3,
             "#f1b6da"
            ],
            [
             0.4,
             "#fde0ef"
            ],
            [
             0.5,
             "#f7f7f7"
            ],
            [
             0.6,
             "#e6f5d0"
            ],
            [
             0.7,
             "#b8e186"
            ],
            [
             0.8,
             "#7fbc41"
            ],
            [
             0.9,
             "#4d9221"
            ],
            [
             1,
             "#276419"
            ]
           ],
           "sequential": [
            [
             0,
             "#0d0887"
            ],
            [
             0.1111111111111111,
             "#46039f"
            ],
            [
             0.2222222222222222,
             "#7201a8"
            ],
            [
             0.3333333333333333,
             "#9c179e"
            ],
            [
             0.4444444444444444,
             "#bd3786"
            ],
            [
             0.5555555555555556,
             "#d8576b"
            ],
            [
             0.6666666666666666,
             "#ed7953"
            ],
            [
             0.7777777777777778,
             "#fb9f3a"
            ],
            [
             0.8888888888888888,
             "#fdca26"
            ],
            [
             1,
             "#f0f921"
            ]
           ],
           "sequentialminus": [
            [
             0,
             "#0d0887"
            ],
            [
             0.1111111111111111,
             "#46039f"
            ],
            [
             0.2222222222222222,
             "#7201a8"
            ],
            [
             0.3333333333333333,
             "#9c179e"
            ],
            [
             0.4444444444444444,
             "#bd3786"
            ],
            [
             0.5555555555555556,
             "#d8576b"
            ],
            [
             0.6666666666666666,
             "#ed7953"
            ],
            [
             0.7777777777777778,
             "#fb9f3a"
            ],
            [
             0.8888888888888888,
             "#fdca26"
            ],
            [
             1,
             "#f0f921"
            ]
           ]
          },
          "colorway": [
           "#636efa",
           "#EF553B",
           "#00cc96",
           "#ab63fa",
           "#FFA15A",
           "#19d3f3",
           "#FF6692",
           "#B6E880",
           "#FF97FF",
           "#FECB52"
          ],
          "font": {
           "color": "#2a3f5f"
          },
          "geo": {
           "bgcolor": "white",
           "lakecolor": "white",
           "landcolor": "#E5ECF6",
           "showlakes": true,
           "showland": true,
           "subunitcolor": "white"
          },
          "hoverlabel": {
           "align": "left"
          },
          "hovermode": "closest",
          "mapbox": {
           "style": "light"
          },
          "paper_bgcolor": "white",
          "plot_bgcolor": "#E5ECF6",
          "polar": {
           "angularaxis": {
            "gridcolor": "white",
            "linecolor": "white",
            "ticks": ""
           },
           "bgcolor": "#E5ECF6",
           "radialaxis": {
            "gridcolor": "white",
            "linecolor": "white",
            "ticks": ""
           }
          },
          "scene": {
           "xaxis": {
            "backgroundcolor": "#E5ECF6",
            "gridcolor": "white",
            "gridwidth": 2,
            "linecolor": "white",
            "showbackground": true,
            "ticks": "",
            "zerolinecolor": "white"
           },
           "yaxis": {
            "backgroundcolor": "#E5ECF6",
            "gridcolor": "white",
            "gridwidth": 2,
            "linecolor": "white",
            "showbackground": true,
            "ticks": "",
            "zerolinecolor": "white"
           },
           "zaxis": {
            "backgroundcolor": "#E5ECF6",
            "gridcolor": "white",
            "gridwidth": 2,
            "linecolor": "white",
            "showbackground": true,
            "ticks": "",
            "zerolinecolor": "white"
           }
          },
          "shapedefaults": {
           "line": {
            "color": "#2a3f5f"
           }
          },
          "ternary": {
           "aaxis": {
            "gridcolor": "white",
            "linecolor": "white",
            "ticks": ""
           },
           "baxis": {
            "gridcolor": "white",
            "linecolor": "white",
            "ticks": ""
           },
           "bgcolor": "#E5ECF6",
           "caxis": {
            "gridcolor": "white",
            "linecolor": "white",
            "ticks": ""
           }
          },
          "title": {
           "x": 0.05
          },
          "xaxis": {
           "automargin": true,
           "gridcolor": "white",
           "linecolor": "white",
           "ticks": "",
           "title": {
            "standoff": 15
           },
           "zerolinecolor": "white",
           "zerolinewidth": 2
          },
          "yaxis": {
           "automargin": true,
           "gridcolor": "white",
           "linecolor": "white",
           "ticks": "",
           "title": {
            "standoff": 15
           },
           "zerolinecolor": "white",
           "zerolinewidth": 2
          }
         }
        },
        "title": {
         "text": "Denoising Attn Heads -> Layer 25 resid pre"
        },
        "width": 500,
        "xaxis": {
         "anchor": "y",
         "constrain": "domain",
         "domain": [
          0,
          1
         ],
         "scaleanchor": "y",
         "title": {
          "text": "Head"
         }
        },
        "yaxis": {
         "anchor": "x",
         "autorange": "reversed",
         "constrain": "domain",
         "domain": [
          0,
          1
         ],
         "title": {
          "text": "Layer"
         }
        }
       }
      },
      "text/html": [
       "<div>                            <div id=\"b35616ed-df25-41b9-8d7f-da1a39eef25c\" class=\"plotly-graph-div\" style=\"height:600px; width:500px;\"></div>            <script type=\"text/javascript\">                require([\"plotly\"], function(Plotly) {                    window.PLOTLYENV=window.PLOTLYENV || {};                                    if (document.getElementById(\"b35616ed-df25-41b9-8d7f-da1a39eef25c\")) {                    Plotly.newPlot(                        \"b35616ed-df25-41b9-8d7f-da1a39eef25c\",                        [{\"coloraxis\":\"coloraxis\",\"name\":\"0\",\"z\":[[0.0003577325842343271,-0.0019072440918534994,0.00021269088028930128,0.0005359442438930273,0.00045388154103420675,0.0004715428513009101,-7.698967237956822e-05,0.0004219703550916165,0.0010628249729052186,0.0032724763732403517,0.0009263936663046479,0.00011304238432785496,0.0003273067995905876,0.001409265911206603,-0.0006856562104076147,4.551907113636844e-05],[0.0006274859188124537,0.00027026949101127684,0.000575534300878644,0.0006744778365828097,0.0022174182813614607,9.549438254907727e-05,0.00011933650239370763,-4.2359424696769565e-05,-0.00016274074732791632,0.0007779909064993262,-8.415237971348688e-05,0.0006981563055887818,3.1092949939193204e-05,-0.00023038995277602226,0.00011406202975194901,0.003947029821574688],[-0.00036529809585772455,0.00040709105087444186,0.00039272787398658693,-0.00011104085569968447,0.0010095264296978712,4.7520603402517736e-05,0.0003056172572541982,0.00030589420930482447,0.0006392559735104442,0.0015383835416287184,0.00032237221603281796,-0.000670223031193018,4.7722012823214754e-05,0.0007756872801110148,0.0008980575366877019,0.0006754345376975834],[-0.0003801522252615541,5.6722605222603306e-05,0.005808125250041485,-0.002449986059218645,-0.0001988312287721783,0.0001619476970518008,0.00032906915294006467,-2.170212428609375e-05,0.00046075473073869944,0.00035794658469967544,-0.00034441420575603843,-5.00634268973954e-05,0.0005279507604427636,0.00022511548013426363,0.00031260374817065895,3.408894917811267e-05],[0.0003047864302061498,-0.0007632123306393623,0.00045720484922640026,-0.0007045385427772999,0.00016374781262129545,-3.729895252035931e-05,0.0031030764803290367,0.0015448539052158594,-8.275508298538625e-05,-0.00010999602818628773,-0.00020129853510297835,0.0012191080022603273,-0.0011194091057404876,0.00024729594588279724,0.0012048203498125076,0.00012735521886497736],[7.641060619789641e-06,0.00010560273949522525,-0.001641808426938951,0.0012099185260012746,-5.703731221728958e-05,-0.00047151767648756504,-0.00043051777174696326,4.16922484873794e-05,0.000555468606762588,0.0011819726787507534,9.700496593723074e-05,4.762130629387684e-05,0.0010836333967745304,0.0004103262326680124,-0.00013148415018804371,-3.0236949896789156e-05],[-0.00027715525357052684,-6.684354593744501e-05,0.0010481722420081496,-0.00012206815154058859,-3.23517742799595e-05,9.327884981757961e-06,-0.0017661425517871976,0.006555099040269852,-0.00010903932707151398,-0.0001724840549286455,-5.689883982995525e-05,-0.00010654685320332646,1.2311297723499592e-05,-0.00016500664060004056,0.0006646841648034751,0.0007172275218181312],[5.803178282803856e-06,5.8724133850773796e-05,-0.0002214522974099964,0.00018056569388136268,1.5659768905607052e-05,-0.00014131556963548064,-0.0010317697888240218,0.00018400228873360902,6.967590161366388e-05,0.0014318617759272456,-6.992766429902986e-05,2.8071772248949856e-06,0.00101924454793334,0.00010482226207386702,-0.00014193239621818066,9.738261724123731e-05],[-9.725673589855433e-05,-0.0005918486276641488,0.0003218938654754311,-0.00019145452824886888,0.011029953137040138,-0.010364689864218235,-0.0009884788887575269,0.0032730302773416042,0.00047188272583298385,-0.002733787754550576,2.624647822813131e-05,0.00031843208125792444,-0.0002981020952574909,4.200695184408687e-05,-0.000353414798155427,0.0001991207682294771],[-0.00014869228471070528,0.0005786435795016587,-0.00016554792819079012,-8.396355042350478e-06,0.00046373813529498875,0.0019155145855620503,4.850248296861537e-05,-0.0004094576579518616,0.00027886725729331374,0.0032410058192908764,-0.00219450774602592,0.0022460061591118574,0.003620830597355962,0.005139815621078014,-0.0005539454286918044,1.8177417587139644e-05],[0.00010543908865656704,-3.163424480590038e-05,-3.800389458774589e-05,0.00017968451720662415,0.0006119898171164095,0.0006060733576305211,0.0008548924815841019,-0.0005661686300300062,3.221330189262517e-05,-0.0010724549647420645,0.00030122397583909333,-0.00011922320845769718,0.007075924426317215,-0.005295758601278067,-0.014352228492498398,0.006081579718738794],[0.0001737806451274082,0.00014200792065821588,4.7495424951193854e-05,-0.0001098575594369322,0.0012839752016589046,0.000656892079859972,0.00029024702962487936,9.291378955822438e-05,-0.002065402688458562,0.000757698668166995,0.0005189375369809568,0.00021911087969783694,2.241965376015287e-05,-7.67882593208924e-05,0.0006921013700775802,-0.00018286934937350452],[0.0004830610705539584,-0.0011685158824548125,-0.0004542214155662805,-0.0008549050544388592,0.0005981679423712194,-0.000134026980958879,-4.8351426812587306e-05,0.0008123190491460264,9.212073200615123e-05,-0.0003999283362645656,0.00022950877610128373,-0.0006548905512318015,0.0005174269899725914,-0.00043324942816980183,2.7845184376928955e-05,-6.411190406652167e-05],[0.0004179169482085854,0.00017865229165181518,3.1810479413252324e-05,-0.0010468882974237204,1.3796709936286788e-05,-0.0001687705225776881,0.0012764474377036095,-3.4240010791108944e-06,-0.00010891344572883099,0.00021914865646976978,2.590659642009996e-05,1.0196473340329248e-05,-0.001642299466766417,0.0006071056122891605,0.0007609212771058083,6.392307841451839e-05],[-0.00018649475532583892,-5.988225166220218e-05,0.0021489760838449,-4.418471689859871e-06,0.00018329735030420125,1.5735298575236811e-06,0.0022315799724310637,-0.0028058304451406,0.00017819911590777338,-0.002560762455686927,-0.00028459489112719893,0.0006171006243675947,-4.741989687317982e-05,7.797154830768704e-05,4.696672112913802e-05,0.0004904503584839404],[0.004909375216811895,-0.006174078211188316,0.0003254311450291425,2.0518829842330888e-05,-6.471613596659154e-05,9.009402856463566e-05,-0.00021947594359517097,-0.0003938230511266738,-0.0015116209397092462,0.0015407123137265444,1.7057063814718276e-05,-5.376436820370145e-05,-0.0008206146885640919,6.420002023332927e-07,0.0017398204654455185,-0.000531928613781929],[2.022929947997909e-05,-0.0008110979688353837,0.00018456876568961889,-0.00017534158541820943,-0.0009940428426489234,0.0006664465181529522,0.00013227721501607448,-0.0008808872080408037,-9.974920249078423e-05,-0.00031820550793781877,1.6616475477349013e-05,-0.0005662189796566963,-0.00037340493872761726,-2.489953658368904e-05,-0.0005108684999868274,-3.4101540222764015e-05],[0.00010673567885532975,-0.00014801250654272735,0.0002576434926595539,-0.00033995797275565565,-2.4962477255030535e-05,0.00012412003707140684,0.0012040399014949799,-0.002498903777450323,-0.0001668319309828803,6.323072739178315e-05,0.00032030773581936955,0.0001684180460870266,0.005422044079750776,-0.009098602458834648,0.0004628191818483174,0.008854378014802933],[-0.0024447492323815823,0.00031144561944529414,-0.0003032255044672638,0.0015148435486480594,0.00033134763361886144,0.0011512951459735632,0.005386406555771828,-0.0012025544419884682,0.00014743345673196018,0.00020421900262590498,0.00018421628919895738,-0.00010102061787620187,-0.0003249527944717556,-0.0014494601637125015,-0.00036193703999742866,-0.0004549389414023608],[0.00015837264072615653,0.00018894945969805121,0.00027251019491814077,-0.0028409012593328953,-0.00022634911874774843,0.00020594359375536442,7.70148471929133e-05,5.6470838899258524e-05,0.00018546252977102995,0.00027062196750193834,-0.00022962206276133657,0.00010021497291745618,-0.0004854402504861355,3.875918628182262e-05,0.00015888875350356102,9.457543637836352e-05],[0.0020093221683055162,-0.0010992175666615367,0.00021344618289731443,2.0216712073306553e-05,0.042039066553115845,-0.007077472750097513,-0.002010933356359601,0.0009117787121795118,7.98597902758047e-05,0.0006941406754776835,-0.0005780267529189587,0.0007977796485647559,-0.0006975269061513245,0.0011901927646249533,0.00029061207897029817,0.0005971105420030653],[-0.00032193161314353347,-0.0002266890078317374,-1.1505650036269799e-05,-0.0001233395596500486,0.0004762886092066765,0.00024842889979481697,-0.0010327768977731466,0.0010576386703178287,0.0008371430449187756,0.0029774457216262817,0.011475476436316967,-0.0234383437782526,0.0007094605825841427,0.0004440627235453576,-0.0008731957641430199,0.0009419778943993151],[-0.0014600342838093638,0.0019676676020026207,-0.000710178108420223,0.002854345366358757,0.00020857453637290746,0.0004275847168173641,0.000935860036406666,-0.0014773053117096424,-0.0005127567565068603,0.0005948446341790259,-0.0002088514738716185,0.0001405854563927278,0.0003338275128044188,-0.0015830087941139936,-0.00047822718624956906,-4.7344365157186985e-05],[-0.0020637032575905323,0.004015094134956598,-0.0003230771399103105,0.00021849406766705215,0.0006388908950611949,0.000134026980958879,-4.3567895772866905e-05,-7.760649168631062e-05,7.180331158451736e-05,0.00025252008344978094,-0.0005650231032632291,0.0004242614086251706,0.000561586522962898,-0.00039097812259569764,0.0007045133970677853,-0.0005144813330844045],[4.434836591826752e-05,-0.00027987430803477764,0.0009619680349715054,-0.00010395368008175865,-0.0016754190437495708,0.0014438836369663477,-0.00029548374004662037,0.0002532124344725162,-0.001069798949174583,0.00040210611768998206,-3.4668009902816266e-05,0.00019215946667827666,3.615342211560346e-05,0.00010333685349905863,0.0003750162140931934,0.00015034133684821427],[0.0,0.0,0.0,0.0,0.0,0.0,0.0,0.0,0.0,0.0,0.0,0.0,0.0,0.0,0.0,0.0],[0.0,0.0,0.0,0.0,0.0,0.0,0.0,0.0,0.0,0.0,0.0,0.0,0.0,0.0,0.0,0.0],[0.0,0.0,0.0,0.0,0.0,0.0,0.0,0.0,0.0,0.0,0.0,0.0,0.0,0.0,0.0,0.0],[0.0,0.0,0.0,0.0,0.0,0.0,0.0,0.0,0.0,0.0,0.0,0.0,0.0,0.0,0.0,0.0],[0.0,0.0,0.0,0.0,0.0,0.0,0.0,0.0,0.0,0.0,0.0,0.0,0.0,0.0,0.0,0.0],[0.0,0.0,0.0,0.0,0.0,0.0,0.0,0.0,0.0,0.0,0.0,0.0,0.0,0.0,0.0,0.0],[0.0,0.0,0.0,0.0,0.0,0.0,0.0,0.0,0.0,0.0,0.0,0.0,0.0,0.0,0.0,0.0],[0.0,0.0,0.0,0.0,0.0,0.0,0.0,0.0,0.0,0.0,0.0,0.0,0.0,0.0,0.0,0.0],[0.0,0.0,0.0,0.0,0.0,0.0,0.0,0.0,0.0,0.0,0.0,0.0,0.0,0.0,0.0,0.0],[0.0,0.0,0.0,0.0,0.0,0.0,0.0,0.0,0.0,0.0,0.0,0.0,0.0,0.0,0.0,0.0],[0.0,0.0,0.0,0.0,0.0,0.0,0.0,0.0,0.0,0.0,0.0,0.0,0.0,0.0,0.0,0.0],[0.0,0.0,0.0,0.0,0.0,0.0,0.0,0.0,0.0,0.0,0.0,0.0,0.0,0.0,0.0,0.0],[0.0,0.0,0.0,0.0,0.0,0.0,0.0,0.0,0.0,0.0,0.0,0.0,0.0,0.0,0.0,0.0],[0.0,0.0,0.0,0.0,0.0,0.0,0.0,0.0,0.0,0.0,0.0,0.0,0.0,0.0,0.0,0.0],[0.0,0.0,0.0,0.0,0.0,0.0,0.0,0.0,0.0,0.0,0.0,0.0,0.0,0.0,0.0,0.0],[0.0,0.0,0.0,0.0,0.0,0.0,0.0,0.0,0.0,0.0,0.0,0.0,0.0,0.0,0.0,0.0],[0.0,0.0,0.0,0.0,0.0,0.0,0.0,0.0,0.0,0.0,0.0,0.0,0.0,0.0,0.0,0.0]],\"type\":\"heatmap\",\"xaxis\":\"x\",\"yaxis\":\"y\",\"hovertemplate\":\"Head: %{x}\\u003cbr\\u003eLayer: %{y}\\u003cbr\\u003ecolor: %{z}\\u003cextra\\u003e\\u003c\\u002fextra\\u003e\"}],                        {\"template\":{\"data\":{\"histogram2dcontour\":[{\"type\":\"histogram2dcontour\",\"colorbar\":{\"outlinewidth\":0,\"ticks\":\"\"},\"colorscale\":[[0.0,\"#0d0887\"],[0.1111111111111111,\"#46039f\"],[0.2222222222222222,\"#7201a8\"],[0.3333333333333333,\"#9c179e\"],[0.4444444444444444,\"#bd3786\"],[0.5555555555555556,\"#d8576b\"],[0.6666666666666666,\"#ed7953\"],[0.7777777777777778,\"#fb9f3a\"],[0.8888888888888888,\"#fdca26\"],[1.0,\"#f0f921\"]]}],\"choropleth\":[{\"type\":\"choropleth\",\"colorbar\":{\"outlinewidth\":0,\"ticks\":\"\"}}],\"histogram2d\":[{\"type\":\"histogram2d\",\"colorbar\":{\"outlinewidth\":0,\"ticks\":\"\"},\"colorscale\":[[0.0,\"#0d0887\"],[0.1111111111111111,\"#46039f\"],[0.2222222222222222,\"#7201a8\"],[0.3333333333333333,\"#9c179e\"],[0.4444444444444444,\"#bd3786\"],[0.5555555555555556,\"#d8576b\"],[0.6666666666666666,\"#ed7953\"],[0.7777777777777778,\"#fb9f3a\"],[0.8888888888888888,\"#fdca26\"],[1.0,\"#f0f921\"]]}],\"heatmap\":[{\"type\":\"heatmap\",\"colorbar\":{\"outlinewidth\":0,\"ticks\":\"\"},\"colorscale\":[[0.0,\"#0d0887\"],[0.1111111111111111,\"#46039f\"],[0.2222222222222222,\"#7201a8\"],[0.3333333333333333,\"#9c179e\"],[0.4444444444444444,\"#bd3786\"],[0.5555555555555556,\"#d8576b\"],[0.6666666666666666,\"#ed7953\"],[0.7777777777777778,\"#fb9f3a\"],[0.8888888888888888,\"#fdca26\"],[1.0,\"#f0f921\"]]}],\"heatmapgl\":[{\"type\":\"heatmapgl\",\"colorbar\":{\"outlinewidth\":0,\"ticks\":\"\"},\"colorscale\":[[0.0,\"#0d0887\"],[0.1111111111111111,\"#46039f\"],[0.2222222222222222,\"#7201a8\"],[0.3333333333333333,\"#9c179e\"],[0.4444444444444444,\"#bd3786\"],[0.5555555555555556,\"#d8576b\"],[0.6666666666666666,\"#ed7953\"],[0.7777777777777778,\"#fb9f3a\"],[0.8888888888888888,\"#fdca26\"],[1.0,\"#f0f921\"]]}],\"contourcarpet\":[{\"type\":\"contourcarpet\",\"colorbar\":{\"outlinewidth\":0,\"ticks\":\"\"}}],\"contour\":[{\"type\":\"contour\",\"colorbar\":{\"outlinewidth\":0,\"ticks\":\"\"},\"colorscale\":[[0.0,\"#0d0887\"],[0.1111111111111111,\"#46039f\"],[0.2222222222222222,\"#7201a8\"],[0.3333333333333333,\"#9c179e\"],[0.4444444444444444,\"#bd3786\"],[0.5555555555555556,\"#d8576b\"],[0.6666666666666666,\"#ed7953\"],[0.7777777777777778,\"#fb9f3a\"],[0.8888888888888888,\"#fdca26\"],[1.0,\"#f0f921\"]]}],\"surface\":[{\"type\":\"surface\",\"colorbar\":{\"outlinewidth\":0,\"ticks\":\"\"},\"colorscale\":[[0.0,\"#0d0887\"],[0.1111111111111111,\"#46039f\"],[0.2222222222222222,\"#7201a8\"],[0.3333333333333333,\"#9c179e\"],[0.4444444444444444,\"#bd3786\"],[0.5555555555555556,\"#d8576b\"],[0.6666666666666666,\"#ed7953\"],[0.7777777777777778,\"#fb9f3a\"],[0.8888888888888888,\"#fdca26\"],[1.0,\"#f0f921\"]]}],\"mesh3d\":[{\"type\":\"mesh3d\",\"colorbar\":{\"outlinewidth\":0,\"ticks\":\"\"}}],\"scatter\":[{\"fillpattern\":{\"fillmode\":\"overlay\",\"size\":10,\"solidity\":0.2},\"type\":\"scatter\"}],\"parcoords\":[{\"type\":\"parcoords\",\"line\":{\"colorbar\":{\"outlinewidth\":0,\"ticks\":\"\"}}}],\"scatterpolargl\":[{\"type\":\"scatterpolargl\",\"marker\":{\"colorbar\":{\"outlinewidth\":0,\"ticks\":\"\"}}}],\"bar\":[{\"error_x\":{\"color\":\"#2a3f5f\"},\"error_y\":{\"color\":\"#2a3f5f\"},\"marker\":{\"line\":{\"color\":\"#E5ECF6\",\"width\":0.5},\"pattern\":{\"fillmode\":\"overlay\",\"size\":10,\"solidity\":0.2}},\"type\":\"bar\"}],\"scattergeo\":[{\"type\":\"scattergeo\",\"marker\":{\"colorbar\":{\"outlinewidth\":0,\"ticks\":\"\"}}}],\"scatterpolar\":[{\"type\":\"scatterpolar\",\"marker\":{\"colorbar\":{\"outlinewidth\":0,\"ticks\":\"\"}}}],\"histogram\":[{\"marker\":{\"pattern\":{\"fillmode\":\"overlay\",\"size\":10,\"solidity\":0.2}},\"type\":\"histogram\"}],\"scattergl\":[{\"type\":\"scattergl\",\"marker\":{\"colorbar\":{\"outlinewidth\":0,\"ticks\":\"\"}}}],\"scatter3d\":[{\"type\":\"scatter3d\",\"line\":{\"colorbar\":{\"outlinewidth\":0,\"ticks\":\"\"}},\"marker\":{\"colorbar\":{\"outlinewidth\":0,\"ticks\":\"\"}}}],\"scattermapbox\":[{\"type\":\"scattermapbox\",\"marker\":{\"colorbar\":{\"outlinewidth\":0,\"ticks\":\"\"}}}],\"scatterternary\":[{\"type\":\"scatterternary\",\"marker\":{\"colorbar\":{\"outlinewidth\":0,\"ticks\":\"\"}}}],\"scattercarpet\":[{\"type\":\"scattercarpet\",\"marker\":{\"colorbar\":{\"outlinewidth\":0,\"ticks\":\"\"}}}],\"carpet\":[{\"aaxis\":{\"endlinecolor\":\"#2a3f5f\",\"gridcolor\":\"white\",\"linecolor\":\"white\",\"minorgridcolor\":\"white\",\"startlinecolor\":\"#2a3f5f\"},\"baxis\":{\"endlinecolor\":\"#2a3f5f\",\"gridcolor\":\"white\",\"linecolor\":\"white\",\"minorgridcolor\":\"white\",\"startlinecolor\":\"#2a3f5f\"},\"type\":\"carpet\"}],\"table\":[{\"cells\":{\"fill\":{\"color\":\"#EBF0F8\"},\"line\":{\"color\":\"white\"}},\"header\":{\"fill\":{\"color\":\"#C8D4E3\"},\"line\":{\"color\":\"white\"}},\"type\":\"table\"}],\"barpolar\":[{\"marker\":{\"line\":{\"color\":\"#E5ECF6\",\"width\":0.5},\"pattern\":{\"fillmode\":\"overlay\",\"size\":10,\"solidity\":0.2}},\"type\":\"barpolar\"}],\"pie\":[{\"automargin\":true,\"type\":\"pie\"}]},\"layout\":{\"autotypenumbers\":\"strict\",\"colorway\":[\"#636efa\",\"#EF553B\",\"#00cc96\",\"#ab63fa\",\"#FFA15A\",\"#19d3f3\",\"#FF6692\",\"#B6E880\",\"#FF97FF\",\"#FECB52\"],\"font\":{\"color\":\"#2a3f5f\"},\"hovermode\":\"closest\",\"hoverlabel\":{\"align\":\"left\"},\"paper_bgcolor\":\"white\",\"plot_bgcolor\":\"#E5ECF6\",\"polar\":{\"bgcolor\":\"#E5ECF6\",\"angularaxis\":{\"gridcolor\":\"white\",\"linecolor\":\"white\",\"ticks\":\"\"},\"radialaxis\":{\"gridcolor\":\"white\",\"linecolor\":\"white\",\"ticks\":\"\"}},\"ternary\":{\"bgcolor\":\"#E5ECF6\",\"aaxis\":{\"gridcolor\":\"white\",\"linecolor\":\"white\",\"ticks\":\"\"},\"baxis\":{\"gridcolor\":\"white\",\"linecolor\":\"white\",\"ticks\":\"\"},\"caxis\":{\"gridcolor\":\"white\",\"linecolor\":\"white\",\"ticks\":\"\"}},\"coloraxis\":{\"colorbar\":{\"outlinewidth\":0,\"ticks\":\"\"}},\"colorscale\":{\"sequential\":[[0.0,\"#0d0887\"],[0.1111111111111111,\"#46039f\"],[0.2222222222222222,\"#7201a8\"],[0.3333333333333333,\"#9c179e\"],[0.4444444444444444,\"#bd3786\"],[0.5555555555555556,\"#d8576b\"],[0.6666666666666666,\"#ed7953\"],[0.7777777777777778,\"#fb9f3a\"],[0.8888888888888888,\"#fdca26\"],[1.0,\"#f0f921\"]],\"sequentialminus\":[[0.0,\"#0d0887\"],[0.1111111111111111,\"#46039f\"],[0.2222222222222222,\"#7201a8\"],[0.3333333333333333,\"#9c179e\"],[0.4444444444444444,\"#bd3786\"],[0.5555555555555556,\"#d8576b\"],[0.6666666666666666,\"#ed7953\"],[0.7777777777777778,\"#fb9f3a\"],[0.8888888888888888,\"#fdca26\"],[1.0,\"#f0f921\"]],\"diverging\":[[0,\"#8e0152\"],[0.1,\"#c51b7d\"],[0.2,\"#de77ae\"],[0.3,\"#f1b6da\"],[0.4,\"#fde0ef\"],[0.5,\"#f7f7f7\"],[0.6,\"#e6f5d0\"],[0.7,\"#b8e186\"],[0.8,\"#7fbc41\"],[0.9,\"#4d9221\"],[1,\"#276419\"]]},\"xaxis\":{\"gridcolor\":\"white\",\"linecolor\":\"white\",\"ticks\":\"\",\"title\":{\"standoff\":15},\"zerolinecolor\":\"white\",\"automargin\":true,\"zerolinewidth\":2},\"yaxis\":{\"gridcolor\":\"white\",\"linecolor\":\"white\",\"ticks\":\"\",\"title\":{\"standoff\":15},\"zerolinecolor\":\"white\",\"automargin\":true,\"zerolinewidth\":2},\"scene\":{\"xaxis\":{\"backgroundcolor\":\"#E5ECF6\",\"gridcolor\":\"white\",\"linecolor\":\"white\",\"showbackground\":true,\"ticks\":\"\",\"zerolinecolor\":\"white\",\"gridwidth\":2},\"yaxis\":{\"backgroundcolor\":\"#E5ECF6\",\"gridcolor\":\"white\",\"linecolor\":\"white\",\"showbackground\":true,\"ticks\":\"\",\"zerolinecolor\":\"white\",\"gridwidth\":2},\"zaxis\":{\"backgroundcolor\":\"#E5ECF6\",\"gridcolor\":\"white\",\"linecolor\":\"white\",\"showbackground\":true,\"ticks\":\"\",\"zerolinecolor\":\"white\",\"gridwidth\":2}},\"shapedefaults\":{\"line\":{\"color\":\"#2a3f5f\"}},\"annotationdefaults\":{\"arrowcolor\":\"#2a3f5f\",\"arrowhead\":0,\"arrowwidth\":1},\"geo\":{\"bgcolor\":\"white\",\"landcolor\":\"#E5ECF6\",\"subunitcolor\":\"white\",\"showland\":true,\"showlakes\":true,\"lakecolor\":\"white\"},\"title\":{\"x\":0.05},\"mapbox\":{\"style\":\"light\"}}},\"xaxis\":{\"anchor\":\"y\",\"domain\":[0.0,1.0],\"scaleanchor\":\"y\",\"constrain\":\"domain\",\"title\":{\"text\":\"Head\"}},\"yaxis\":{\"anchor\":\"x\",\"domain\":[0.0,1.0],\"autorange\":\"reversed\",\"constrain\":\"domain\",\"title\":{\"text\":\"Layer\"}},\"coloraxis\":{\"colorscale\":[[0.0,\"rgb(103,0,31)\"],[0.1,\"rgb(178,24,43)\"],[0.2,\"rgb(214,96,77)\"],[0.3,\"rgb(244,165,130)\"],[0.4,\"rgb(253,219,199)\"],[0.5,\"rgb(247,247,247)\"],[0.6,\"rgb(209,229,240)\"],[0.7,\"rgb(146,197,222)\"],[0.8,\"rgb(67,147,195)\"],[0.9,\"rgb(33,102,172)\"],[1.0,\"rgb(5,48,97)\"]],\"cmid\":0.0},\"title\":{\"text\":\"Denoising Attn Heads -\\u003e Layer 25 resid pre\"},\"height\":600,\"width\":500,\"margin\":{\"r\":100,\"l\":100}},                        {\"responsive\": true}                    ).then(function(){\n",
       "                            \n",
       "var gd = document.getElementById('b35616ed-df25-41b9-8d7f-da1a39eef25c');\n",
       "var x = new MutationObserver(function (mutations, observer) {{\n",
       "        var display = window.getComputedStyle(gd).display;\n",
       "        if (!display || display === 'none') {{\n",
       "            console.log([gd, 'removed!']);\n",
       "            Plotly.purge(gd);\n",
       "            observer.disconnect();\n",
       "        }}\n",
       "}});\n",
       "\n",
       "// Listen for the removal of the full notebook cells\n",
       "var notebookContainer = gd.closest('#notebook-container');\n",
       "if (notebookContainer) {{\n",
       "    x.observe(notebookContainer, {childList: true});\n",
       "}}\n",
       "\n",
       "// Listen for the clearing of the current output cell\n",
       "var outputEl = gd.closest('.output');\n",
       "if (outputEl) {{\n",
       "    x.observe(outputEl, {childList: true});\n",
       "}}\n",
       "\n",
       "                        })                };                });            </script>        </div>"
      ]
     },
     "metadata": {},
     "output_type": "display_data"
    }
   ],
   "source": [
    "imshow(\n",
    "    noise_attn_enrichment_results['z'], \n",
    "    width=500, \n",
    "    height=600, \n",
    "    title=\"Denoising Attn Heads -> Layer 25 resid pre\", \n",
    "    labels={\"x\": \"Head\", \"y\": \"Layer\"},\n",
    "    margin={'r': 100, 'l': 100}\n",
    ")\n"
   ]
  },
  {
   "cell_type": "code",
   "execution_count": 15,
   "metadata": {},
   "outputs": [
    {
     "data": {
      "application/vnd.plotly.v1+json": {
       "config": {
        "plotlyServerURL": "https://plot.ly"
       },
       "data": [
        {
         "line": {
          "color": "blue"
         },
         "mode": "lines+markers",
         "name": "MLP Out",
         "type": "scatter",
         "x": [
          0,
          1,
          2,
          3,
          4,
          5,
          6,
          7,
          8,
          9,
          10,
          11,
          12,
          13,
          14,
          15,
          16,
          17,
          18,
          19,
          20,
          21,
          22,
          23,
          24,
          25,
          26,
          27,
          28,
          29,
          30,
          31,
          32,
          33,
          34,
          35,
          36,
          37,
          38,
          39,
          40,
          41
         ],
         "y": [
          0.03126287832856178,
          0.0021417001262307167,
          0.004702726844698191,
          0.045569561421871185,
          0.04648544639348984,
          0.04547568038105965,
          -0.001685766619630158,
          0.06691519170999527,
          0.13555757701396942,
          0.11240193247795105,
          0.025972357019782066,
          -0.006040844134986401,
          -0.0031002566684037447,
          0.0028786910697817802,
          0.0245645884424448,
          0.013989297673106194,
          0.026714924722909927,
          0.032837703824043274,
          -0.016887400299310684,
          -0.011018447577953339,
          0.01173129491508007,
          -0.00514643732458353,
          0.014443404972553253,
          -0.004888919647783041,
          -0.0022246188018471003,
          0,
          0,
          0,
          0,
          0,
          0,
          0,
          0,
          0,
          0,
          0,
          0,
          0,
          0,
          0,
          0,
          0
         ]
        }
       ],
       "layout": {
        "margin": {
         "l": 100,
         "r": 100
        },
        "template": {
         "data": {
          "bar": [
           {
            "error_x": {
             "color": "#2a3f5f"
            },
            "error_y": {
             "color": "#2a3f5f"
            },
            "marker": {
             "line": {
              "color": "#E5ECF6",
              "width": 0.5
             },
             "pattern": {
              "fillmode": "overlay",
              "size": 10,
              "solidity": 0.2
             }
            },
            "type": "bar"
           }
          ],
          "barpolar": [
           {
            "marker": {
             "line": {
              "color": "#E5ECF6",
              "width": 0.5
             },
             "pattern": {
              "fillmode": "overlay",
              "size": 10,
              "solidity": 0.2
             }
            },
            "type": "barpolar"
           }
          ],
          "carpet": [
           {
            "aaxis": {
             "endlinecolor": "#2a3f5f",
             "gridcolor": "white",
             "linecolor": "white",
             "minorgridcolor": "white",
             "startlinecolor": "#2a3f5f"
            },
            "baxis": {
             "endlinecolor": "#2a3f5f",
             "gridcolor": "white",
             "linecolor": "white",
             "minorgridcolor": "white",
             "startlinecolor": "#2a3f5f"
            },
            "type": "carpet"
           }
          ],
          "choropleth": [
           {
            "colorbar": {
             "outlinewidth": 0,
             "ticks": ""
            },
            "type": "choropleth"
           }
          ],
          "contour": [
           {
            "colorbar": {
             "outlinewidth": 0,
             "ticks": ""
            },
            "colorscale": [
             [
              0,
              "#0d0887"
             ],
             [
              0.1111111111111111,
              "#46039f"
             ],
             [
              0.2222222222222222,
              "#7201a8"
             ],
             [
              0.3333333333333333,
              "#9c179e"
             ],
             [
              0.4444444444444444,
              "#bd3786"
             ],
             [
              0.5555555555555556,
              "#d8576b"
             ],
             [
              0.6666666666666666,
              "#ed7953"
             ],
             [
              0.7777777777777778,
              "#fb9f3a"
             ],
             [
              0.8888888888888888,
              "#fdca26"
             ],
             [
              1,
              "#f0f921"
             ]
            ],
            "type": "contour"
           }
          ],
          "contourcarpet": [
           {
            "colorbar": {
             "outlinewidth": 0,
             "ticks": ""
            },
            "type": "contourcarpet"
           }
          ],
          "heatmap": [
           {
            "colorbar": {
             "outlinewidth": 0,
             "ticks": ""
            },
            "colorscale": [
             [
              0,
              "#0d0887"
             ],
             [
              0.1111111111111111,
              "#46039f"
             ],
             [
              0.2222222222222222,
              "#7201a8"
             ],
             [
              0.3333333333333333,
              "#9c179e"
             ],
             [
              0.4444444444444444,
              "#bd3786"
             ],
             [
              0.5555555555555556,
              "#d8576b"
             ],
             [
              0.6666666666666666,
              "#ed7953"
             ],
             [
              0.7777777777777778,
              "#fb9f3a"
             ],
             [
              0.8888888888888888,
              "#fdca26"
             ],
             [
              1,
              "#f0f921"
             ]
            ],
            "type": "heatmap"
           }
          ],
          "heatmapgl": [
           {
            "colorbar": {
             "outlinewidth": 0,
             "ticks": ""
            },
            "colorscale": [
             [
              0,
              "#0d0887"
             ],
             [
              0.1111111111111111,
              "#46039f"
             ],
             [
              0.2222222222222222,
              "#7201a8"
             ],
             [
              0.3333333333333333,
              "#9c179e"
             ],
             [
              0.4444444444444444,
              "#bd3786"
             ],
             [
              0.5555555555555556,
              "#d8576b"
             ],
             [
              0.6666666666666666,
              "#ed7953"
             ],
             [
              0.7777777777777778,
              "#fb9f3a"
             ],
             [
              0.8888888888888888,
              "#fdca26"
             ],
             [
              1,
              "#f0f921"
             ]
            ],
            "type": "heatmapgl"
           }
          ],
          "histogram": [
           {
            "marker": {
             "pattern": {
              "fillmode": "overlay",
              "size": 10,
              "solidity": 0.2
             }
            },
            "type": "histogram"
           }
          ],
          "histogram2d": [
           {
            "colorbar": {
             "outlinewidth": 0,
             "ticks": ""
            },
            "colorscale": [
             [
              0,
              "#0d0887"
             ],
             [
              0.1111111111111111,
              "#46039f"
             ],
             [
              0.2222222222222222,
              "#7201a8"
             ],
             [
              0.3333333333333333,
              "#9c179e"
             ],
             [
              0.4444444444444444,
              "#bd3786"
             ],
             [
              0.5555555555555556,
              "#d8576b"
             ],
             [
              0.6666666666666666,
              "#ed7953"
             ],
             [
              0.7777777777777778,
              "#fb9f3a"
             ],
             [
              0.8888888888888888,
              "#fdca26"
             ],
             [
              1,
              "#f0f921"
             ]
            ],
            "type": "histogram2d"
           }
          ],
          "histogram2dcontour": [
           {
            "colorbar": {
             "outlinewidth": 0,
             "ticks": ""
            },
            "colorscale": [
             [
              0,
              "#0d0887"
             ],
             [
              0.1111111111111111,
              "#46039f"
             ],
             [
              0.2222222222222222,
              "#7201a8"
             ],
             [
              0.3333333333333333,
              "#9c179e"
             ],
             [
              0.4444444444444444,
              "#bd3786"
             ],
             [
              0.5555555555555556,
              "#d8576b"
             ],
             [
              0.6666666666666666,
              "#ed7953"
             ],
             [
              0.7777777777777778,
              "#fb9f3a"
             ],
             [
              0.8888888888888888,
              "#fdca26"
             ],
             [
              1,
              "#f0f921"
             ]
            ],
            "type": "histogram2dcontour"
           }
          ],
          "mesh3d": [
           {
            "colorbar": {
             "outlinewidth": 0,
             "ticks": ""
            },
            "type": "mesh3d"
           }
          ],
          "parcoords": [
           {
            "line": {
             "colorbar": {
              "outlinewidth": 0,
              "ticks": ""
             }
            },
            "type": "parcoords"
           }
          ],
          "pie": [
           {
            "automargin": true,
            "type": "pie"
           }
          ],
          "scatter": [
           {
            "fillpattern": {
             "fillmode": "overlay",
             "size": 10,
             "solidity": 0.2
            },
            "type": "scatter"
           }
          ],
          "scatter3d": [
           {
            "line": {
             "colorbar": {
              "outlinewidth": 0,
              "ticks": ""
             }
            },
            "marker": {
             "colorbar": {
              "outlinewidth": 0,
              "ticks": ""
             }
            },
            "type": "scatter3d"
           }
          ],
          "scattercarpet": [
           {
            "marker": {
             "colorbar": {
              "outlinewidth": 0,
              "ticks": ""
             }
            },
            "type": "scattercarpet"
           }
          ],
          "scattergeo": [
           {
            "marker": {
             "colorbar": {
              "outlinewidth": 0,
              "ticks": ""
             }
            },
            "type": "scattergeo"
           }
          ],
          "scattergl": [
           {
            "marker": {
             "colorbar": {
              "outlinewidth": 0,
              "ticks": ""
             }
            },
            "type": "scattergl"
           }
          ],
          "scattermapbox": [
           {
            "marker": {
             "colorbar": {
              "outlinewidth": 0,
              "ticks": ""
             }
            },
            "type": "scattermapbox"
           }
          ],
          "scatterpolar": [
           {
            "marker": {
             "colorbar": {
              "outlinewidth": 0,
              "ticks": ""
             }
            },
            "type": "scatterpolar"
           }
          ],
          "scatterpolargl": [
           {
            "marker": {
             "colorbar": {
              "outlinewidth": 0,
              "ticks": ""
             }
            },
            "type": "scatterpolargl"
           }
          ],
          "scatterternary": [
           {
            "marker": {
             "colorbar": {
              "outlinewidth": 0,
              "ticks": ""
             }
            },
            "type": "scatterternary"
           }
          ],
          "surface": [
           {
            "colorbar": {
             "outlinewidth": 0,
             "ticks": ""
            },
            "colorscale": [
             [
              0,
              "#0d0887"
             ],
             [
              0.1111111111111111,
              "#46039f"
             ],
             [
              0.2222222222222222,
              "#7201a8"
             ],
             [
              0.3333333333333333,
              "#9c179e"
             ],
             [
              0.4444444444444444,
              "#bd3786"
             ],
             [
              0.5555555555555556,
              "#d8576b"
             ],
             [
              0.6666666666666666,
              "#ed7953"
             ],
             [
              0.7777777777777778,
              "#fb9f3a"
             ],
             [
              0.8888888888888888,
              "#fdca26"
             ],
             [
              1,
              "#f0f921"
             ]
            ],
            "type": "surface"
           }
          ],
          "table": [
           {
            "cells": {
             "fill": {
              "color": "#EBF0F8"
             },
             "line": {
              "color": "white"
             }
            },
            "header": {
             "fill": {
              "color": "#C8D4E3"
             },
             "line": {
              "color": "white"
             }
            },
            "type": "table"
           }
          ]
         },
         "layout": {
          "annotationdefaults": {
           "arrowcolor": "#2a3f5f",
           "arrowhead": 0,
           "arrowwidth": 1
          },
          "autotypenumbers": "strict",
          "coloraxis": {
           "colorbar": {
            "outlinewidth": 0,
            "ticks": ""
           }
          },
          "colorscale": {
           "diverging": [
            [
             0,
             "#8e0152"
            ],
            [
             0.1,
             "#c51b7d"
            ],
            [
             0.2,
             "#de77ae"
            ],
            [
             0.3,
             "#f1b6da"
            ],
            [
             0.4,
             "#fde0ef"
            ],
            [
             0.5,
             "#f7f7f7"
            ],
            [
             0.6,
             "#e6f5d0"
            ],
            [
             0.7,
             "#b8e186"
            ],
            [
             0.8,
             "#7fbc41"
            ],
            [
             0.9,
             "#4d9221"
            ],
            [
             1,
             "#276419"
            ]
           ],
           "sequential": [
            [
             0,
             "#0d0887"
            ],
            [
             0.1111111111111111,
             "#46039f"
            ],
            [
             0.2222222222222222,
             "#7201a8"
            ],
            [
             0.3333333333333333,
             "#9c179e"
            ],
            [
             0.4444444444444444,
             "#bd3786"
            ],
            [
             0.5555555555555556,
             "#d8576b"
            ],
            [
             0.6666666666666666,
             "#ed7953"
            ],
            [
             0.7777777777777778,
             "#fb9f3a"
            ],
            [
             0.8888888888888888,
             "#fdca26"
            ],
            [
             1,
             "#f0f921"
            ]
           ],
           "sequentialminus": [
            [
             0,
             "#0d0887"
            ],
            [
             0.1111111111111111,
             "#46039f"
            ],
            [
             0.2222222222222222,
             "#7201a8"
            ],
            [
             0.3333333333333333,
             "#9c179e"
            ],
            [
             0.4444444444444444,
             "#bd3786"
            ],
            [
             0.5555555555555556,
             "#d8576b"
            ],
            [
             0.6666666666666666,
             "#ed7953"
            ],
            [
             0.7777777777777778,
             "#fb9f3a"
            ],
            [
             0.8888888888888888,
             "#fdca26"
            ],
            [
             1,
             "#f0f921"
            ]
           ]
          },
          "colorway": [
           "#636efa",
           "#EF553B",
           "#00cc96",
           "#ab63fa",
           "#FFA15A",
           "#19d3f3",
           "#FF6692",
           "#B6E880",
           "#FF97FF",
           "#FECB52"
          ],
          "font": {
           "color": "#2a3f5f"
          },
          "geo": {
           "bgcolor": "white",
           "lakecolor": "white",
           "landcolor": "#E5ECF6",
           "showlakes": true,
           "showland": true,
           "subunitcolor": "white"
          },
          "hoverlabel": {
           "align": "left"
          },
          "hovermode": "closest",
          "mapbox": {
           "style": "light"
          },
          "paper_bgcolor": "white",
          "plot_bgcolor": "#E5ECF6",
          "polar": {
           "angularaxis": {
            "gridcolor": "white",
            "linecolor": "white",
            "ticks": ""
           },
           "bgcolor": "#E5ECF6",
           "radialaxis": {
            "gridcolor": "white",
            "linecolor": "white",
            "ticks": ""
           }
          },
          "scene": {
           "xaxis": {
            "backgroundcolor": "#E5ECF6",
            "gridcolor": "white",
            "gridwidth": 2,
            "linecolor": "white",
            "showbackground": true,
            "ticks": "",
            "zerolinecolor": "white"
           },
           "yaxis": {
            "backgroundcolor": "#E5ECF6",
            "gridcolor": "white",
            "gridwidth": 2,
            "linecolor": "white",
            "showbackground": true,
            "ticks": "",
            "zerolinecolor": "white"
           },
           "zaxis": {
            "backgroundcolor": "#E5ECF6",
            "gridcolor": "white",
            "gridwidth": 2,
            "linecolor": "white",
            "showbackground": true,
            "ticks": "",
            "zerolinecolor": "white"
           }
          },
          "shapedefaults": {
           "line": {
            "color": "#2a3f5f"
           }
          },
          "ternary": {
           "aaxis": {
            "gridcolor": "white",
            "linecolor": "white",
            "ticks": ""
           },
           "baxis": {
            "gridcolor": "white",
            "linecolor": "white",
            "ticks": ""
           },
           "bgcolor": "#E5ECF6",
           "caxis": {
            "gridcolor": "white",
            "linecolor": "white",
            "ticks": ""
           }
          },
          "title": {
           "x": 0.05
          },
          "xaxis": {
           "automargin": true,
           "gridcolor": "white",
           "linecolor": "white",
           "ticks": "",
           "title": {
            "standoff": 15
           },
           "zerolinecolor": "white",
           "zerolinewidth": 2
          },
          "yaxis": {
           "automargin": true,
           "gridcolor": "white",
           "linecolor": "white",
           "ticks": "",
           "title": {
            "standoff": 15
           },
           "zerolinecolor": "white",
           "zerolinewidth": 2
          }
         }
        },
        "title": {
         "text": "Denoising MLP Out -> Layer 25 Resid Pre"
        },
        "xaxis": {
         "title": {
          "text": "Layer"
         }
        },
        "yaxis": {
         "title": {
          "text": "Logit Variation"
         }
        }
       }
      },
      "text/html": [
       "<div>                            <div id=\"c8a5ccff-4d39-4f28-87ad-ba943bb8f269\" class=\"plotly-graph-div\" style=\"height:525px; width:100%;\"></div>            <script type=\"text/javascript\">                require([\"plotly\"], function(Plotly) {                    window.PLOTLYENV=window.PLOTLYENV || {};                                    if (document.getElementById(\"c8a5ccff-4d39-4f28-87ad-ba943bb8f269\")) {                    Plotly.newPlot(                        \"c8a5ccff-4d39-4f28-87ad-ba943bb8f269\",                        [{\"line\":{\"color\":\"blue\"},\"mode\":\"lines+markers\",\"name\":\"MLP Out\",\"x\":[0,1,2,3,4,5,6,7,8,9,10,11,12,13,14,15,16,17,18,19,20,21,22,23,24,25,26,27,28,29,30,31,32,33,34,35,36,37,38,39,40,41],\"y\":[0.03126287832856178,0.0021417001262307167,0.004702726844698191,0.045569561421871185,0.04648544639348984,0.04547568038105965,-0.001685766619630158,0.06691519170999527,0.13555757701396942,0.11240193247795105,0.025972357019782066,-0.006040844134986401,-0.0031002566684037447,0.0028786910697817802,0.0245645884424448,0.013989297673106194,0.026714924722909927,0.032837703824043274,-0.016887400299310684,-0.011018447577953339,0.01173129491508007,-0.00514643732458353,0.014443404972553253,-0.004888919647783041,-0.0022246188018471003,0.0,0.0,0.0,0.0,0.0,0.0,0.0,0.0,0.0,0.0,0.0,0.0,0.0,0.0,0.0,0.0,0.0],\"type\":\"scatter\"}],                        {\"margin\":{\"l\":100,\"r\":100},\"title\":{\"text\":\"Denoising MLP Out -\\u003e Layer 25 Resid Pre\"},\"xaxis\":{\"title\":{\"text\":\"Layer\"}},\"yaxis\":{\"title\":{\"text\":\"Logit Variation\"}},\"template\":{\"data\":{\"histogram2dcontour\":[{\"type\":\"histogram2dcontour\",\"colorbar\":{\"outlinewidth\":0,\"ticks\":\"\"},\"colorscale\":[[0.0,\"#0d0887\"],[0.1111111111111111,\"#46039f\"],[0.2222222222222222,\"#7201a8\"],[0.3333333333333333,\"#9c179e\"],[0.4444444444444444,\"#bd3786\"],[0.5555555555555556,\"#d8576b\"],[0.6666666666666666,\"#ed7953\"],[0.7777777777777778,\"#fb9f3a\"],[0.8888888888888888,\"#fdca26\"],[1.0,\"#f0f921\"]]}],\"choropleth\":[{\"type\":\"choropleth\",\"colorbar\":{\"outlinewidth\":0,\"ticks\":\"\"}}],\"histogram2d\":[{\"type\":\"histogram2d\",\"colorbar\":{\"outlinewidth\":0,\"ticks\":\"\"},\"colorscale\":[[0.0,\"#0d0887\"],[0.1111111111111111,\"#46039f\"],[0.2222222222222222,\"#7201a8\"],[0.3333333333333333,\"#9c179e\"],[0.4444444444444444,\"#bd3786\"],[0.5555555555555556,\"#d8576b\"],[0.6666666666666666,\"#ed7953\"],[0.7777777777777778,\"#fb9f3a\"],[0.8888888888888888,\"#fdca26\"],[1.0,\"#f0f921\"]]}],\"heatmap\":[{\"type\":\"heatmap\",\"colorbar\":{\"outlinewidth\":0,\"ticks\":\"\"},\"colorscale\":[[0.0,\"#0d0887\"],[0.1111111111111111,\"#46039f\"],[0.2222222222222222,\"#7201a8\"],[0.3333333333333333,\"#9c179e\"],[0.4444444444444444,\"#bd3786\"],[0.5555555555555556,\"#d8576b\"],[0.6666666666666666,\"#ed7953\"],[0.7777777777777778,\"#fb9f3a\"],[0.8888888888888888,\"#fdca26\"],[1.0,\"#f0f921\"]]}],\"heatmapgl\":[{\"type\":\"heatmapgl\",\"colorbar\":{\"outlinewidth\":0,\"ticks\":\"\"},\"colorscale\":[[0.0,\"#0d0887\"],[0.1111111111111111,\"#46039f\"],[0.2222222222222222,\"#7201a8\"],[0.3333333333333333,\"#9c179e\"],[0.4444444444444444,\"#bd3786\"],[0.5555555555555556,\"#d8576b\"],[0.6666666666666666,\"#ed7953\"],[0.7777777777777778,\"#fb9f3a\"],[0.8888888888888888,\"#fdca26\"],[1.0,\"#f0f921\"]]}],\"contourcarpet\":[{\"type\":\"contourcarpet\",\"colorbar\":{\"outlinewidth\":0,\"ticks\":\"\"}}],\"contour\":[{\"type\":\"contour\",\"colorbar\":{\"outlinewidth\":0,\"ticks\":\"\"},\"colorscale\":[[0.0,\"#0d0887\"],[0.1111111111111111,\"#46039f\"],[0.2222222222222222,\"#7201a8\"],[0.3333333333333333,\"#9c179e\"],[0.4444444444444444,\"#bd3786\"],[0.5555555555555556,\"#d8576b\"],[0.6666666666666666,\"#ed7953\"],[0.7777777777777778,\"#fb9f3a\"],[0.8888888888888888,\"#fdca26\"],[1.0,\"#f0f921\"]]}],\"surface\":[{\"type\":\"surface\",\"colorbar\":{\"outlinewidth\":0,\"ticks\":\"\"},\"colorscale\":[[0.0,\"#0d0887\"],[0.1111111111111111,\"#46039f\"],[0.2222222222222222,\"#7201a8\"],[0.3333333333333333,\"#9c179e\"],[0.4444444444444444,\"#bd3786\"],[0.5555555555555556,\"#d8576b\"],[0.6666666666666666,\"#ed7953\"],[0.7777777777777778,\"#fb9f3a\"],[0.8888888888888888,\"#fdca26\"],[1.0,\"#f0f921\"]]}],\"mesh3d\":[{\"type\":\"mesh3d\",\"colorbar\":{\"outlinewidth\":0,\"ticks\":\"\"}}],\"scatter\":[{\"fillpattern\":{\"fillmode\":\"overlay\",\"size\":10,\"solidity\":0.2},\"type\":\"scatter\"}],\"parcoords\":[{\"type\":\"parcoords\",\"line\":{\"colorbar\":{\"outlinewidth\":0,\"ticks\":\"\"}}}],\"scatterpolargl\":[{\"type\":\"scatterpolargl\",\"marker\":{\"colorbar\":{\"outlinewidth\":0,\"ticks\":\"\"}}}],\"bar\":[{\"error_x\":{\"color\":\"#2a3f5f\"},\"error_y\":{\"color\":\"#2a3f5f\"},\"marker\":{\"line\":{\"color\":\"#E5ECF6\",\"width\":0.5},\"pattern\":{\"fillmode\":\"overlay\",\"size\":10,\"solidity\":0.2}},\"type\":\"bar\"}],\"scattergeo\":[{\"type\":\"scattergeo\",\"marker\":{\"colorbar\":{\"outlinewidth\":0,\"ticks\":\"\"}}}],\"scatterpolar\":[{\"type\":\"scatterpolar\",\"marker\":{\"colorbar\":{\"outlinewidth\":0,\"ticks\":\"\"}}}],\"histogram\":[{\"marker\":{\"pattern\":{\"fillmode\":\"overlay\",\"size\":10,\"solidity\":0.2}},\"type\":\"histogram\"}],\"scattergl\":[{\"type\":\"scattergl\",\"marker\":{\"colorbar\":{\"outlinewidth\":0,\"ticks\":\"\"}}}],\"scatter3d\":[{\"type\":\"scatter3d\",\"line\":{\"colorbar\":{\"outlinewidth\":0,\"ticks\":\"\"}},\"marker\":{\"colorbar\":{\"outlinewidth\":0,\"ticks\":\"\"}}}],\"scattermapbox\":[{\"type\":\"scattermapbox\",\"marker\":{\"colorbar\":{\"outlinewidth\":0,\"ticks\":\"\"}}}],\"scatterternary\":[{\"type\":\"scatterternary\",\"marker\":{\"colorbar\":{\"outlinewidth\":0,\"ticks\":\"\"}}}],\"scattercarpet\":[{\"type\":\"scattercarpet\",\"marker\":{\"colorbar\":{\"outlinewidth\":0,\"ticks\":\"\"}}}],\"carpet\":[{\"aaxis\":{\"endlinecolor\":\"#2a3f5f\",\"gridcolor\":\"white\",\"linecolor\":\"white\",\"minorgridcolor\":\"white\",\"startlinecolor\":\"#2a3f5f\"},\"baxis\":{\"endlinecolor\":\"#2a3f5f\",\"gridcolor\":\"white\",\"linecolor\":\"white\",\"minorgridcolor\":\"white\",\"startlinecolor\":\"#2a3f5f\"},\"type\":\"carpet\"}],\"table\":[{\"cells\":{\"fill\":{\"color\":\"#EBF0F8\"},\"line\":{\"color\":\"white\"}},\"header\":{\"fill\":{\"color\":\"#C8D4E3\"},\"line\":{\"color\":\"white\"}},\"type\":\"table\"}],\"barpolar\":[{\"marker\":{\"line\":{\"color\":\"#E5ECF6\",\"width\":0.5},\"pattern\":{\"fillmode\":\"overlay\",\"size\":10,\"solidity\":0.2}},\"type\":\"barpolar\"}],\"pie\":[{\"automargin\":true,\"type\":\"pie\"}]},\"layout\":{\"autotypenumbers\":\"strict\",\"colorway\":[\"#636efa\",\"#EF553B\",\"#00cc96\",\"#ab63fa\",\"#FFA15A\",\"#19d3f3\",\"#FF6692\",\"#B6E880\",\"#FF97FF\",\"#FECB52\"],\"font\":{\"color\":\"#2a3f5f\"},\"hovermode\":\"closest\",\"hoverlabel\":{\"align\":\"left\"},\"paper_bgcolor\":\"white\",\"plot_bgcolor\":\"#E5ECF6\",\"polar\":{\"bgcolor\":\"#E5ECF6\",\"angularaxis\":{\"gridcolor\":\"white\",\"linecolor\":\"white\",\"ticks\":\"\"},\"radialaxis\":{\"gridcolor\":\"white\",\"linecolor\":\"white\",\"ticks\":\"\"}},\"ternary\":{\"bgcolor\":\"#E5ECF6\",\"aaxis\":{\"gridcolor\":\"white\",\"linecolor\":\"white\",\"ticks\":\"\"},\"baxis\":{\"gridcolor\":\"white\",\"linecolor\":\"white\",\"ticks\":\"\"},\"caxis\":{\"gridcolor\":\"white\",\"linecolor\":\"white\",\"ticks\":\"\"}},\"coloraxis\":{\"colorbar\":{\"outlinewidth\":0,\"ticks\":\"\"}},\"colorscale\":{\"sequential\":[[0.0,\"#0d0887\"],[0.1111111111111111,\"#46039f\"],[0.2222222222222222,\"#7201a8\"],[0.3333333333333333,\"#9c179e\"],[0.4444444444444444,\"#bd3786\"],[0.5555555555555556,\"#d8576b\"],[0.6666666666666666,\"#ed7953\"],[0.7777777777777778,\"#fb9f3a\"],[0.8888888888888888,\"#fdca26\"],[1.0,\"#f0f921\"]],\"sequentialminus\":[[0.0,\"#0d0887\"],[0.1111111111111111,\"#46039f\"],[0.2222222222222222,\"#7201a8\"],[0.3333333333333333,\"#9c179e\"],[0.4444444444444444,\"#bd3786\"],[0.5555555555555556,\"#d8576b\"],[0.6666666666666666,\"#ed7953\"],[0.7777777777777778,\"#fb9f3a\"],[0.8888888888888888,\"#fdca26\"],[1.0,\"#f0f921\"]],\"diverging\":[[0,\"#8e0152\"],[0.1,\"#c51b7d\"],[0.2,\"#de77ae\"],[0.3,\"#f1b6da\"],[0.4,\"#fde0ef\"],[0.5,\"#f7f7f7\"],[0.6,\"#e6f5d0\"],[0.7,\"#b8e186\"],[0.8,\"#7fbc41\"],[0.9,\"#4d9221\"],[1,\"#276419\"]]},\"xaxis\":{\"gridcolor\":\"white\",\"linecolor\":\"white\",\"ticks\":\"\",\"title\":{\"standoff\":15},\"zerolinecolor\":\"white\",\"automargin\":true,\"zerolinewidth\":2},\"yaxis\":{\"gridcolor\":\"white\",\"linecolor\":\"white\",\"ticks\":\"\",\"title\":{\"standoff\":15},\"zerolinecolor\":\"white\",\"automargin\":true,\"zerolinewidth\":2},\"scene\":{\"xaxis\":{\"backgroundcolor\":\"#E5ECF6\",\"gridcolor\":\"white\",\"linecolor\":\"white\",\"showbackground\":true,\"ticks\":\"\",\"zerolinecolor\":\"white\",\"gridwidth\":2},\"yaxis\":{\"backgroundcolor\":\"#E5ECF6\",\"gridcolor\":\"white\",\"linecolor\":\"white\",\"showbackground\":true,\"ticks\":\"\",\"zerolinecolor\":\"white\",\"gridwidth\":2},\"zaxis\":{\"backgroundcolor\":\"#E5ECF6\",\"gridcolor\":\"white\",\"linecolor\":\"white\",\"showbackground\":true,\"ticks\":\"\",\"zerolinecolor\":\"white\",\"gridwidth\":2}},\"shapedefaults\":{\"line\":{\"color\":\"#2a3f5f\"}},\"annotationdefaults\":{\"arrowcolor\":\"#2a3f5f\",\"arrowhead\":0,\"arrowwidth\":1},\"geo\":{\"bgcolor\":\"white\",\"landcolor\":\"#E5ECF6\",\"subunitcolor\":\"white\",\"showland\":true,\"showlakes\":true,\"lakecolor\":\"white\"},\"title\":{\"x\":0.05},\"mapbox\":{\"style\":\"light\"}}}},                        {\"responsive\": true}                    ).then(function(){\n",
       "                            \n",
       "var gd = document.getElementById('c8a5ccff-4d39-4f28-87ad-ba943bb8f269');\n",
       "var x = new MutationObserver(function (mutations, observer) {{\n",
       "        var display = window.getComputedStyle(gd).display;\n",
       "        if (!display || display === 'none') {{\n",
       "            console.log([gd, 'removed!']);\n",
       "            Plotly.purge(gd);\n",
       "            observer.disconnect();\n",
       "        }}\n",
       "}});\n",
       "\n",
       "// Listen for the removal of the full notebook cells\n",
       "var notebookContainer = gd.closest('#notebook-container');\n",
       "if (notebookContainer) {{\n",
       "    x.observe(notebookContainer, {childList: true});\n",
       "}}\n",
       "\n",
       "// Listen for the clearing of the current output cell\n",
       "var outputEl = gd.closest('.output');\n",
       "if (outputEl) {{\n",
       "    x.observe(outputEl, {childList: true});\n",
       "}}\n",
       "\n",
       "                        })                };                });            </script>        </div>"
      ]
     },
     "metadata": {},
     "output_type": "display_data"
    }
   ],
   "source": [
    "\n",
    "# Plot as line\n",
    "line = go.Figure(\n",
    "    data=[\n",
    "        go.Scatter(\n",
    "            x=np.arange(model.cfg.n_layers),\n",
    "            y=noise_mlp_enrichment_results['mlp_out'],\n",
    "            mode='lines+markers',\n",
    "            name='MLP Out',\n",
    "            line=dict(color='blue')\n",
    "        )\n",
    "    ],\n",
    "    layout=go.Layout(\n",
    "        title=\"Denoising MLP Out -> Layer 25 Resid Pre\",\n",
    "        xaxis_title=\"Layer\",\n",
    "        yaxis_title=\"Logit Variation\",\n",
    "        margin=dict(l=100, r=100),\n",
    "    ),\n",
    ")\n",
    "line.show()\n"
   ]
  },
  {
   "cell_type": "code",
   "execution_count": null,
   "metadata": {},
   "outputs": [],
   "source": [
    "\n",
    "import gc\n",
    "torch.cuda.empty_cache()\n",
    "gc.collect()\n"
   ]
  }
 ],
 "metadata": {
  "kernelspec": {
   "display_name": "venv",
   "language": "python",
   "name": "python3"
  },
  "language_info": {
   "codemirror_mode": {
    "name": "ipython",
    "version": 3
   },
   "file_extension": ".py",
   "mimetype": "text/x-python",
   "name": "python",
   "nbconvert_exporter": "python",
   "pygments_lexer": "ipython3",
   "version": "3.10.13"
  }
 },
 "nbformat": 4,
 "nbformat_minor": 2
}
